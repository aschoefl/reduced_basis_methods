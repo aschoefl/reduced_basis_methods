{
 "cells": [
  {
   "cell_type": "code",
   "execution_count": null,
   "metadata": {},
   "outputs": [],
   "source": [
    "import netgen.gui\n",
    "from ngsolve import *\n",
    "import numpy as np\n",
    "import scipy.sparse as sp\n",
    "\n",
    "from math import pi\n",
    "from numpy import linalg as LA\n",
    "import matplotlib.pyplot as plt"
   ]
  },
  {
   "cell_type": "markdown",
   "metadata": {},
   "source": [
    "### Erstellt ein Quadrat mit der Länge $1$ \n",
    "### und setzt einen Impuls in der Mitte des Quadrats"
   ]
  },
  {
   "cell_type": "code",
   "execution_count": null,
   "metadata": {},
   "outputs": [],
   "source": [
    "import netgen.geom2d as geom2dim\n",
    "geo = geom2dim.SplineGeometry()\n",
    "a = 1\n",
    "points = [(0,0),(a,0),(a,a),(0,a)]\n",
    "p1,p2,p3,p4 = [geo.AppendPoint(*pnt) for pnt in points]\n",
    "curves = [['line',p1,p2],['line',p2,p3],['line',p3,p4],['line',p4,p1]]\n",
    "[geo.Append(c) for c in curves]\n",
    "\n",
    "mesh = Mesh(geo.GenerateMesh(maxh = 0.1))\n",
    "\n",
    "\n",
    "piha = a/2\n",
    "shift = 0\n",
    "source = exp(-50**2*((x-piha-shift)*(x-piha-shift)+(y-piha-shift)*(y-piha-shift)))\n",
    "Draw(source,mesh,name = \"pulse\")"
   ]
  },
  {
   "cell_type": "code",
   "execution_count": null,
   "metadata": {},
   "outputs": [],
   "source": [
    "maxind = 20\n",
    "#fes = H1(mesh, order=5)\n",
    "fes = H1(mesh, order=5,dirichlet=\".*\")\n",
    "gfu = GridFunction(fes,name = \"u\")\n",
    "erg = np.zeros([len(gfu.vec),maxind])\n",
    "fh = np.zeros(len(gfu.vec))"
   ]
  },
  {
   "cell_type": "markdown",
   "metadata": {},
   "source": [
    "### The gereral solution form the helmholz equation is \n",
    "$u = \\sin(l \\pi x)\\sin(k \\pi y)$\n",
    "\n",
    "when we plug now this ansatz in the helmholz equation:\n",
    "\n",
    "$k^2\\pi^2u+l^2\\pi^2u -\\omega^2u = 0$\n",
    "\n",
    "For $u \\neq 0$ it follows that:\n",
    "\n",
    "$k^2\\pi^2+l^2\\pi^2 = \\omega^2$ $\\Rightarrow$ $\\omega = \\sqrt{k^2\\pi^2+l^2\\pi^2}$ where $k,l \\in \\mathbb{N}$"
   ]
  },
  {
   "cell_type": "code",
   "execution_count": null,
   "metadata": {},
   "outputs": [],
   "source": [
    "verg = []\n",
    "point = []\n",
    "j = 0\n",
    "temp = 0\n",
    "for k in range(1,20):\n",
    "    for l in range(1,20):\n",
    "        temp = np.sqrt(l**2*pi**2+k**2*pi**2)\n",
    "        if l > 1:\n",
    "            if temp == verg[j-1]:\n",
    "                temp = 0\n",
    "        else:\n",
    "            verg.append(temp)\n",
    "    j = j+1\n",
    "            \n",
    "        \n",
    "verg.sort()       \n",
    "print(verg)"
   ]
  },
  {
   "cell_type": "markdown",
   "metadata": {},
   "source": [
    "### Die helmholzgleichung:\n",
    "$\\Delta u - \\omega^2 u = f$\n",
    "### und die Schwache Formulierung:\n",
    "$\\int_{\\Omega}\\nabla u \\nabla v - \\omega^2\\int_{\\Omega}u v = \\int_{\\Omega}fv$ $v \\in V$\n",
    "### löse die obrige Gleichung mit paar $\\omega_i$ und speichere diese $u_i$ in eine Matrix "
   ]
  },
  {
   "cell_type": "code",
   "execution_count": null,
   "metadata": {},
   "outputs": [],
   "source": [
    "u = fes.TrialFunction()\n",
    "v = fes.TestFunction()\n",
    "\n",
    "A = BilinearForm(fes)\n",
    "K = BilinearForm(fes)\n",
    "M = BilinearForm(fes)\n",
    "F = LinearForm(fes)\n",
    "\n",
    "omega = Parameter(1)\n",
    "A += (grad(u)*grad(v)- omega**2*u*v)*dx\n",
    "K += grad(u)*grad(v)*dx\n",
    "M += u*v*dx\n",
    "\n",
    "\n",
    "#A += 1j*omega*u*v*ds # R \n",
    "F += source*v*dx  \n",
    "o = []  \n",
    "\n",
    "norm = []\n",
    "\n",
    "#o = verg[0:21]\n",
    "for i in range(0,maxind):\n",
    "    o.append(i)\n",
    "\n",
    "j = 0\n",
    "Draw(gfu)\n",
    "for i in o:   \n",
    "    omega.Set(i) \n",
    "    A.Assemble()\n",
    "    K.Assemble()\n",
    "    M.Assemble()\n",
    "    F.Assemble()   \n",
    "    gfu.vec.data = A.mat.Inverse(fes.FreeDofs()) * F.vec\n",
    "    erg[:,j] = gfu.vec\n",
    "    fh = F.vec\n",
    "    norm.append(sqrt (Integrate ((gfu)*(gfu),mesh)))\n",
    "    print(\"Number of iter: \",j,\"omega: \",i,\"L2-Norm:\",sqrt (Integrate ((gfu)*(gfu),mesh)))\n",
    "    j = j+1\n",
    "As = A.mat\n",
    "Ms = M.mat\n",
    "Ks = K.mat\n",
    "rows,cols,vals = Ms.COO()\n",
    "Mh = sp.csr_matrix((vals,(rows,cols)))\n",
    "rows,cols,vals = Ks.COO()\n",
    "Kh = sp.csr_matrix((vals,(rows,cols)))\n",
    "rows,cols,vals = As.COO()\n",
    "Ah = sp.csr_matrix((vals,(rows,cols)))\n",
    "Ah = sp.csr_matrix.toarray(Ah)"
   ]
  },
  {
   "cell_type": "markdown",
   "metadata": {},
   "source": [
    "### calulates the orthogonal basis matrix V (using qr)"
   ]
  },
  {
   "cell_type": "code",
   "execution_count": null,
   "metadata": {},
   "outputs": [],
   "source": [
    "V, r = np.linalg.qr(erg)\n",
    "V = erg.dot(np.linalg.inv(r))\n",
    "print(V[:,1].dot(V[:,2]))\n",
    "len(V)\n",
    "#lam,v = LA.eig(Ah)\n",
    "#q,R = np.linalg.qr(Ah)\n",
    "#print(np.diag(R))"
   ]
  },
  {
   "cell_type": "markdown",
   "metadata": {},
   "source": [
    "### Eigenvalue calculation with eig and qr (very expensive)"
   ]
  },
  {
   "cell_type": "code",
   "execution_count": null,
   "metadata": {},
   "outputs": [],
   "source": [
    "q,R = np.linalg.qr(Ah)"
   ]
  },
  {
   "cell_type": "code",
   "execution_count": null,
   "metadata": {},
   "outputs": [],
   "source": [
    "#print(\"from eig: \",lam[0:20])\n",
    "eig = []\n",
    "eig = np.diag(R)*np.diag(R)\n",
    "for i in verg:\n",
    "    for j in range(len(eig)):\n",
    "        #print(np.abs(i-eig[j]))\n",
    "        if np.abs(i-eig[j]) < 0.1:\n",
    "            print(j,eig[j])\n",
    "#print(\"from qr: \",eig[0:1000])"
   ]
  },
  {
   "cell_type": "markdown",
   "metadata": {},
   "source": [
    "### Plot the snapshot solution "
   ]
  },
  {
   "cell_type": "code",
   "execution_count": null,
   "metadata": {},
   "outputs": [],
   "source": [
    "plt.plot(o[1:20],norm[1:20])\n",
    "plt.xlabel(\"omega\")\n",
    "plt.ylabel(\"Euklidic-Norm\")\n",
    "plt.savefig('results/resonanz_20.png')"
   ]
  },
  {
   "cell_type": "markdown",
   "metadata": {},
   "source": [
    "### Für die erste Metode GramSchmid verwenden um eine orthonormale Koordinatentransformationsmatrix zu erstellen(Euklidische Norm). "
   ]
  },
  {
   "cell_type": "markdown",
   "metadata": {},
   "source": [
    "$$\n",
    "M_N = V^T \\cdot M_h \\cdot V\n",
    "$$\n",
    "\n",
    "$$\n",
    "K_N = V^T \\cdot K_h \\cdot V\n",
    "$$\n",
    "\n",
    "$$\n",
    "f_N = V^T \\cdot f_h\n",
    "$$\n",
    "\n",
    "$$\n",
    "u_i = (K_N - \\omega^2_iM_N)^{-1} \\cdot f_N\n",
    "$$"
   ]
  },
  {
   "cell_type": "code",
   "execution_count": null,
   "metadata": {},
   "outputs": [],
   "source": [
    "MN = np.transpose(V).dot(Mh.dot(V))\n",
    "KN = np.transpose(V).dot(Kh.dot(V))\n",
    "fN = np.transpose(V).dot(fh)"
   ]
  },
  {
   "cell_type": "markdown",
   "metadata": {},
   "source": [
    "### calculate the res, red_solution and res_red snapshot solution "
   ]
  },
  {
   "cell_type": "code",
   "execution_count": null,
   "metadata": {},
   "outputs": [],
   "source": [
    "j = 0\n",
    "uN = np.zeros([maxind,maxind])\n",
    "res_red_fh = []\n",
    "res_red_fN = []\n",
    "for fre in o:\n",
    "    uN[:,j] = np.linalg.solve(KN-fre**2*MN, fN)\n",
    "    res_red_fh.append(np.linalg.norm((Kh-fre**2*Mh).dot(uN[:,j].dot(np.transpose(V)))-fh))\n",
    "    res_red_fN.append(np.linalg.norm((Kh-fre**2*Mh).dot(uN[:,j].dot(np.transpose(V)))-fN.dot(np.transpose(V))))\n",
    "    j = j+1"
   ]
  },
  {
   "cell_type": "code",
   "execution_count": null,
   "metadata": {},
   "outputs": [],
   "source": [
    "plt.semilogy(o[1:19],res_red_fh[1:19])\n",
    "plt.xlabel(\"omega\")\n",
    "plt.ylabel(\"res_red_fh\")\n",
    "plt.savefig('results/resonanz_RB_20.png')"
   ]
  },
  {
   "cell_type": "code",
   "execution_count": null,
   "metadata": {},
   "outputs": [],
   "source": [
    "plt.semilogy(o[1:19],res_red_fN[1:19])\n",
    "plt.xlabel(\"omega\")\n",
    "plt.ylabel(\"res_red_fN\")\n",
    "plt.savefig('results/resonanz_RB_20.png')"
   ]
  },
  {
   "cell_type": "code",
   "execution_count": null,
   "metadata": {},
   "outputs": [],
   "source": [
    "iteration = int(100)\n",
    "interval = 20\n",
    "factor = interval / iteration\n",
    "omegaN = []\n",
    "norm_L2 =[]\n",
    "uN = np.zeros([maxind,iteration])\n",
    "for i in range(iteration):\n",
    "    omegaN.append(factor*i)\n",
    "    uN[:,i] = np.linalg.solve(KN-omegaN[i]**2*MN, fN)\n",
    "    new = uN[:,i].dot(np.transpose(V))\n",
    "    gif = GridFunction(fes,name = \"gif\")\n",
    "    gif.vec.FV().NumPy()[:] = new\n",
    "    Draw(gif)\n",
    "    print(\"i: \",i,\"Omega: \",omegaN[i])\n",
    "    input()\n",
    "    Redraw()\n",
    "    #norm_L2.append(sqrt(uN[:,i].dot(uN[:,i])))"
   ]
  },
  {
   "cell_type": "markdown",
   "metadata": {},
   "source": [
    "### calculates 1000 residuals and the norm of the rediced solution (very expensive)"
   ]
  },
  {
   "cell_type": "code",
   "execution_count": null,
   "metadata": {},
   "outputs": [],
   "source": [
    "verg = []\n",
    "point = []\n",
    "for k in range(1,100):\n",
    "    for l in range(1,100):\n",
    "        verg.append(np.sqrt(l**2*pi**2+k**2*pi**2))\n",
    "        point.append(0.1)\n",
    "\n",
    "\n",
    "iteration = int(1e4)\n",
    "interval = 20\n",
    "factor = interval / iteration\n",
    "omegaN = []\n",
    "norm_L2 =[]\n",
    "res = []\n",
    "uN = np.zeros([maxind,iteration])\n",
    "for i in range(iteration):\n",
    "    omegaN.append(factor*i)\n",
    "    uN[:,i] = np.linalg.solve(KN-omegaN[i]**2*MN, fN)\n",
    "    res.append(np.linalg.norm((Kh-omegaN[i]**2*Mh).dot(uN[:,i].dot(np.transpose(V)))-fN.dot(np.transpose(V))))\n",
    "    norm_L2.append(sqrt(uN[:,i].dot(uN[:,i])))\n",
    "    \n",
    "    "
   ]
  },
  {
   "cell_type": "code",
   "execution_count": null,
   "metadata": {},
   "outputs": [],
   "source": [
    "maxpoints = 6\n",
    "plt.semilogy(omegaN,norm_L2)\n",
    "plt.semilogy(verg[0:maxpoints],point[0:maxpoints],'*r')\n",
    "plt.semilogy(omegaN,norm_L2,'b')\n",
    "plt.xlabel(\"omega\")\n",
    "plt.ylabel(\"Euclidic Norm\")\n",
    "plt.savefig('results/resonanz_RB_20.png')"
   ]
  },
  {
   "cell_type": "code",
   "execution_count": null,
   "metadata": {},
   "outputs": [],
   "source": [
    "print(verg[0:7])"
   ]
  },
  {
   "cell_type": "code",
   "execution_count": null,
   "metadata": {},
   "outputs": [],
   "source": [
    "plt.semilogy(omegaN,res)\n",
    "plt.xlabel(\"omega\")\n",
    "plt.ylabel(\"Euclidic Norm\")\n",
    "plt.savefig('results/resonanz_RB_20.png')"
   ]
  },
  {
   "cell_type": "code",
   "execution_count": null,
   "metadata": {},
   "outputs": [],
   "source": [
    "newom = []\n",
    "for i in range(len(res)):\n",
    "    if res[i] < 6.94e-4:\n",
    "        print(i,omegaN[i],res[i])\n",
    "        newom.append(omegaN[i])\n",
    "    "
   ]
  },
  {
   "cell_type": "code",
   "execution_count": null,
   "metadata": {},
   "outputs": [],
   "source": []
  }
 ],
 "metadata": {
  "kernelspec": {
   "display_name": "Python 3",
   "language": "python",
   "name": "python3"
  },
  "language_info": {
   "codemirror_mode": {
    "name": "ipython",
    "version": 3
   },
   "file_extension": ".py",
   "mimetype": "text/x-python",
   "name": "python",
   "nbconvert_exporter": "python",
   "pygments_lexer": "ipython3",
   "version": "3.7.5"
  }
 },
 "nbformat": 4,
 "nbformat_minor": 4
}
