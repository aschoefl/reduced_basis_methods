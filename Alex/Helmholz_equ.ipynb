{
 "cells": [
  {
   "cell_type": "code",
   "execution_count": 1,
   "metadata": {},
   "outputs": [],
   "source": [
    "import netgen.gui\n",
    "from ngsolve import *\n",
    "import numpy as np\n",
    "import scipy.sparse as sp\n",
    "from math import pi\n",
    "from numpy import linalg as LA\n",
    "import matplotlib.pyplot as plt"
   ]
  },
  {
   "cell_type": "markdown",
   "metadata": {},
   "source": [
    "### Erstellt ein Quadrat mit der Länge $1$ \n",
    "### und setzt einen Impuls in der Mitte des Quadrats"
   ]
  },
  {
   "cell_type": "code",
   "execution_count": 2,
   "metadata": {},
   "outputs": [],
   "source": [
    "import netgen.geom2d as geom2dim\n",
    "geo = geom2dim.SplineGeometry()\n",
    "a = 1\n",
    "points = [(0,0),(a,0),(a,a),(0,a)]\n",
    "p1,p2,p3,p4 = [geo.AppendPoint(*pnt) for pnt in points]\n",
    "curves = [['line',p1,p2],['line',p2,p3],['line',p3,p4],['line',p4,p1]]\n",
    "[geo.Append(c) for c in curves]\n",
    "\n",
    "mesh = Mesh(geo.GenerateMesh(maxh = 0.1))\n",
    "\n",
    "\n",
    "piha = a/2\n",
    "shift = 0\n",
    "source = exp(-50**2*((x-piha-shift)*(x-piha-shift)+(y-piha-shift)*(y-piha-shift)))\n",
    "Draw(source,mesh,name = \"pulse\")"
   ]
  },
  {
   "cell_type": "code",
   "execution_count": 3,
   "metadata": {},
   "outputs": [],
   "source": [
    "maxind = 20\n",
    "fes = H1(mesh, order=5)\n",
    "#fes = H1(mesh, order=5,dirichlet=\".*\")\n",
    "gfu = GridFunction(fes,name = \"u\")\n",
    "erg = np.zeros([len(gfu.vec),maxind])\n",
    "fh = np.zeros([len(gfu.vec),maxind])"
   ]
  },
  {
   "cell_type": "markdown",
   "metadata": {},
   "source": [
    "### Die helmholzgleichung:\n",
    "$\\Delta u - \\omega^2 u = f$\n",
    "### und die Schwache Formulierung:\n",
    "$\\int_{\\Omega}\\nabla u \\nabla v - \\omega^2\\int_{\\Omega}u v = \\int_{\\Omega}fv$ $v \\in V$\n",
    "### löse die obrige Gleichung mit paar $\\omega_i$ und speichere diese $u_i$ in eine Matrix "
   ]
  },
  {
   "cell_type": "code",
   "execution_count": 4,
   "metadata": {},
   "outputs": [
    {
     "name": "stdout",
     "output_type": "stream",
     "text": [
      "Number of iter:  0 omega:  0 L2-Norm: 116094539143.60098\n",
      "Number of iter:  1 omega:  1 L2-Norm: 0.0012512684752141298\n",
      "Number of iter:  2 omega:  2 L2-Norm: 0.0003231626247758125\n",
      "Number of iter:  3 omega:  3 L2-Norm: 0.00016788149776646608\n",
      "Number of iter:  4 omega:  4 L2-Norm: 0.00014116616117545506\n",
      "Number of iter:  5 omega:  5 L2-Norm: 0.00018783480392257503\n",
      "Number of iter:  6 omega:  6 L2-Norm: 0.0007192272070600409\n",
      "Number of iter:  7 omega:  7 L2-Norm: 0.0002783987361936216\n",
      "Number of iter:  8 omega:  8 L2-Norm: 0.00019991530165594908\n",
      "Number of iter:  9 omega:  9 L2-Norm: 0.0012152471294392337\n",
      "Number of iter:  10 omega:  10 L2-Norm: 0.00013919399076116055\n",
      "Number of iter:  11 omega:  11 L2-Norm: 0.0001081043741403241\n",
      "Number of iter:  12 omega:  12 L2-Norm: 0.00019572005755279936\n",
      "Number of iter:  13 omega:  13 L2-Norm: 0.00025730236187653747\n",
      "Number of iter:  14 omega:  14 L2-Norm: 0.0024881506155264\n",
      "Number of iter:  15 omega:  15 L2-Norm: 0.00013934446817779708\n",
      "Number of iter:  16 omega:  16 L2-Norm: 8.810029294788016e-05\n",
      "Number of iter:  17 omega:  17 L2-Norm: 0.00011474669089624523\n",
      "Number of iter:  18 omega:  18 L2-Norm: 0.0003124991444673367\n",
      "Number of iter:  19 omega:  19 L2-Norm: 0.00044001263893199324\n"
     ]
    }
   ],
   "source": [
    "u = fes.TrialFunction()\n",
    "v = fes.TestFunction()\n",
    "\n",
    "A = BilinearForm(fes)\n",
    "K = BilinearForm(fes)\n",
    "M = BilinearForm(fes)\n",
    "F = LinearForm(fes)\n",
    "\n",
    "omega = Parameter(1)\n",
    "A += (grad(u)*grad(v)- omega**2*u*v)*dx\n",
    "K += grad(u)*grad(v)*dx\n",
    "M += u*v*dx\n",
    "\n",
    "\n",
    "#A += 1j*omega*u*v*ds # R \n",
    "F += source*v*dx  \n",
    "o = []  \n",
    "\n",
    "norm = []\n",
    "for i in range(0,maxind):\n",
    "    o.append(i)\n",
    "j = 0\n",
    "Draw(gfu)\n",
    "for i in o:   \n",
    "    omega.Set(i) \n",
    "    A.Assemble()\n",
    "    K.Assemble()\n",
    "    M.Assemble()\n",
    "    F.Assemble()   \n",
    "    gfu.vec.data = A.mat.Inverse(fes.FreeDofs()) * F.vec\n",
    "    erg[:,j] = gfu.vec\n",
    "    fh[:,j] = F.vec\n",
    "    norm.append(sqrt (Integrate ((gfu)*(gfu),mesh)))\n",
    "    print(\"Number of iter: \",j,\"omega: \",i,\"L2-Norm:\",sqrt (Integrate ((gfu)*(gfu),mesh)))\n",
    "    j = j+1\n",
    "Ms = M.mat\n",
    "Ks = K.mat\n",
    "rows,cols,vals = Ms.COO()\n",
    "Mh = sp.csr_matrix((vals,(rows,cols)))\n",
    "rows,cols,vals = Ks.COO()\n",
    "Kh = sp.csr_matrix((vals,(rows,cols)))"
   ]
  },
  {
   "cell_type": "code",
   "execution_count": 5,
   "metadata": {},
   "outputs": [
    {
     "name": "stdout",
     "output_type": "stream",
     "text": [
      "-6.456640777585676e-15\n"
     ]
    },
    {
     "data": {
      "text/plain": [
       "2976"
      ]
     },
     "execution_count": 5,
     "metadata": {},
     "output_type": "execute_result"
    }
   ],
   "source": [
    "V, r = np.linalg.qr(erg)\n",
    "V = erg.dot(np.linalg.inv(r))\n",
    "print(V[:,1].dot(V[:,2]))\n",
    "len(V)"
   ]
  },
  {
   "cell_type": "code",
   "execution_count": 6,
   "metadata": {},
   "outputs": [
    {
     "data": {
      "image/png": "[encoded data removed]",
      "text/plain": [
       "<Figure size 432x288 with 1 Axes>"
      ]
     },
     "metadata": {
      "needs_background": "light"
     },
     "output_type": "display_data"
    }
   ],
   "source": [
    "plt.plot(o,norm)\n",
    "plt.xlabel(\"omega\")\n",
    "plt.ylabel(\"L2-Norm\")\n",
    "plt.savefig('results/resonanz_20.png')"
   ]
  },
  {
   "cell_type": "markdown",
   "metadata": {},
   "source": [
    "### Für die erste Metode GramSchmid verwenden um eine orthonormale Koordinatentransformationsmatrix zu erstellen(Euklidische Norm). "
   ]
  },
  {
   "cell_type": "markdown",
   "metadata": {},
   "source": [
    "$$\n",
    "M_N = V^T \\cdot M_h \\cdot V\n",
    "$$\n",
    "\n",
    "$$\n",
    "K_N = V^T \\cdot K_h \\cdot V\n",
    "$$\n",
    "\n",
    "$$\n",
    "f_N = V^T \\cdot f_h\n",
    "$$\n",
    "\n",
    "$$\n",
    "u_i = (K_N - \\omega^2_iM_N)^{-1} \\cdot f_N\n",
    "$$"
   ]
  },
  {
   "cell_type": "code",
   "execution_count": 7,
   "metadata": {},
   "outputs": [],
   "source": [
    "MN = np.transpose(V).dot(Mh.dot(V))\n",
    "KN = np.transpose(V).dot(Kh.dot(V))\n",
    "fN = np.transpose(V).dot(fh)"
   ]
  },
  {
   "cell_type": "code",
   "execution_count": null,
   "metadata": {},
   "outputs": [],
   "source": [
    "iteration = int(1e4)\n",
    "interval = 20\n",
    "factor = interval / iteration\n",
    "omegaN = []\n",
    "norm_L2 =[]\n",
    "uN = np.zeros([maxind,iteration])\n",
    "for i in range(iteration):\n",
    "    omegaN.append(factor*i)\n",
    "    uN[:,i] = np.linalg.solve(KN-omegaN[i]**2*MN, fN[0])\n",
    "    new = uN[:,i].dot(np.transpose(V))\n",
    "    gif = GridFunction(fes,name = \"gif\")\n",
    "    gif.vec.FV().NumPy()[:] = new\n",
    "    Draw(gif)\n",
    "    print(\"Omega: \",omegaN[i])\n",
    "    input()\n",
    "    Redraw()\n",
    "    norm_L2.append(sqrt(uN[:,i].dot(uN[:,i])))"
   ]
  },
  {
   "cell_type": "code",
   "execution_count": 9,
   "metadata": {},
   "outputs": [],
   "source": [
    "maxind = 20\n",
    "iteration = int(1e4)\n",
    "interval = 20\n",
    "factor = interval / iteration\n",
    "omegaN = []\n",
    "norm_L2 =[]\n",
    "res = []\n",
    "uN = np.zeros([maxind,iteration])\n",
    "for i in range(iteration):\n",
    "    omegaN.append(factor*i)\n",
    "    uN[:,i] = np.linalg.solve(KN-omegaN[i]**2*MN, fN[0])\n",
    "    res.append(np.linalg.norm((Kh-omegaN[i]**2*Mh).dot(uN[:,i].dot(np.transpose(V)))-fN[0].dot(np.transpose(V))))\n",
    "    norm_L2.append(sqrt(uN[:,i].dot(uN[:,i])))"
   ]
  },
  {
   "cell_type": "code",
   "execution_count": null,
   "metadata": {},
   "outputs": [],
   "source": [
    "plt.semilogy(omegaN,norm_L2)\n",
    "plt.xlabel(\"omega\")\n",
    "plt.ylabel(\"L2-Norm\")\n",
    "plt.savefig('results/resonanz_RB_20.png')"
   ]
  },
  {
   "cell_type": "code",
   "execution_count": 10,
   "metadata": {},
   "outputs": [
    {
     "data": {
      "image/png": "[encoded data removed]",
      "text/plain": [
       "<Figure size 432x288 with 1 Axes>"
      ]
     },
     "metadata": {
      "needs_background": "light"
     },
     "output_type": "display_data"
    }
   ],
   "source": [
    "plt.semilogy(omegaN,res)\n",
    "plt.xlabel(\"omega\")\n",
    "plt.ylabel(\"L2-Norm\")\n",
    "plt.savefig('results/resonanz_RB_20.png')"
   ]
  },
  {
   "cell_type": "code",
   "execution_count": 13,
   "metadata": {},
   "outputs": [],
   "source": [
    "j = 0\n",
    "res = np.zeros(maxind)\n",
    "for fre in o:\n",
    "    uN[:,j] = np.linalg.solve(KN-fre**2*MN, fN[j])\n",
    "    res[j] = np.linalg.norm((Kh-fre**2*Mh).dot(uN[:,j].dot(np.transpose(V)))-fh[:,j])\n",
    "    j = j+1"
   ]
  },
  {
   "cell_type": "code",
   "execution_count": 14,
   "metadata": {},
   "outputs": [
    {
     "data": {
      "text/plain": [
       "[<matplotlib.lines.Line2D at 0x7f4db9f82b90>]"
      ]
     },
     "execution_count": 14,
     "metadata": {},
     "output_type": "execute_result"
    },
    {
     "data": {
      "image/png": "[encoded data removed]",
      "text/plain": [
       "<Figure size 432x288 with 1 Axes>"
      ]
     },
     "metadata": {
      "needs_background": "light"
     },
     "output_type": "display_data"
    }
   ],
   "source": [
    "plt.semilogy(o,res)"
   ]
  },
  {
   "cell_type": "code",
   "execution_count": null,
   "metadata": {},
   "outputs": [],
   "source": [
    "res"
   ]
  },
  {
   "cell_type": "code",
   "execution_count": null,
   "metadata": {},
   "outputs": [],
   "source": [
    "o"
   ]
  },
  {
   "cell_type": "code",
   "execution_count": null,
   "metadata": {},
   "outputs": [],
   "source": [
    "newomega = []\n",
    "dicht = 10\n",
    "for i in range(len(res)):\n",
    "    if(res[i] > 0.01):\n",
    "        temp = i\n",
    "        for j in range(1,dicht):\n",
    "            newomega.append(temp-1+(1/dicht)*j)\n",
    "    else:\n",
    "        newomega.append(i)"
   ]
  },
  {
   "cell_type": "code",
   "execution_count": null,
   "metadata": {},
   "outputs": [],
   "source": [
    "len(newomega)"
   ]
  },
  {
   "cell_type": "code",
   "execution_count": null,
   "metadata": {
    "scrolled": true
   },
   "outputs": [],
   "source": [
    "for i in range(1000):\n",
    "    new = uN[:,i*300].dot(np.transpose(V))\n",
    "    gif = GridFunction(fes,name = \"gif\")\n",
    "    gif.vec.FV().NumPy()[:] = new\n",
    "    Draw(gif)\n",
    "    input()"
   ]
  },
  {
   "cell_type": "code",
   "execution_count": null,
   "metadata": {},
   "outputs": [],
   "source": []
  }
 ],
 "metadata": {
  "kernelspec": {
   "display_name": "Python 3",
   "language": "python",
   "name": "python3"
  },
  "language_info": {
   "codemirror_mode": {
    "name": "ipython",
    "version": 3
   },
   "file_extension": ".py",
   "mimetype": "text/x-python",
   "name": "python",
   "nbconvert_exporter": "python",
   "pygments_lexer": "ipython3",
   "version": "3.7.5"
  }
 },
 "nbformat": 4,
 "nbformat_minor": 4
}
