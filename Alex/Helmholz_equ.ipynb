{
 "cells": [
  {
   "cell_type": "code",
   "execution_count": 1,
   "metadata": {},
   "outputs": [],
   "source": [
    "import netgen.gui\n",
    "from ngsolve import *\n",
    "import numpy as np\n",
    "import scipy.sparse as sp\n",
    "\n",
    "from math import pi\n",
    "from numpy import linalg as LA\n",
    "import matplotlib.pyplot as plt"
   ]
  },
  {
   "cell_type": "markdown",
   "metadata": {},
   "source": [
    "### Erstellt ein Quadrat mit der Länge $1$ \n",
    "### und setzt einen Impuls in der Mitte des Quadrats"
   ]
  },
  {
   "cell_type": "code",
   "execution_count": 2,
   "metadata": {},
   "outputs": [],
   "source": [
    "import netgen.geom2d as geom2dim\n",
    "geo = geom2dim.SplineGeometry()\n",
    "a = 1\n",
    "points = [(0,0),(a,0),(a,a),(0,a)]\n",
    "p1,p2,p3,p4 = [geo.AppendPoint(*pnt) for pnt in points]\n",
    "curves = [['line',p1,p2],['line',p2,p3],['line',p3,p4],['line',p4,p1]]\n",
    "[geo.Append(c) for c in curves]\n",
    "\n",
    "mesh = Mesh(geo.GenerateMesh(maxh = 0.1))\n",
    "\n",
    "\n",
    "piha = a/2\n",
    "shift = 0\n",
    "source = exp(-50**2*((x-piha-shift)*(x-piha-shift)+(y-piha-shift)*(y-piha-shift)))\n",
    "Draw(source,mesh,name = \"pulse\")"
   ]
  },
  {
   "cell_type": "code",
   "execution_count": 19,
   "metadata": {},
   "outputs": [],
   "source": [
    "maxind = 20\n",
    "#fes = H1(mesh, order=5)\n",
    "fes = H1(mesh, order=5,dirichlet=\".*\")\n",
    "gfu = GridFunction(fes,name = \"u\")\n",
    "erg = np.zeros([len(gfu.vec),maxind])\n",
    "fh = np.zeros(len(gfu.vec))"
   ]
  },
  {
   "cell_type": "markdown",
   "metadata": {},
   "source": [
    "### The gereral solution form the helmholz equation is \n",
    "$u = \\sin(l \\pi x)\\sin(k \\pi y)$\n",
    "\n",
    "when we plug now this ansatz in the helmholz equation:\n",
    "\n",
    "$k^2\\pi^2u+l^2\\pi^2u -\\omega^2u = 0$\n",
    "\n",
    "For $u \\neq 0$ it follows that:\n",
    "\n",
    "$k^2\\pi^2+l^2\\pi^2 = \\omega^2$ $\\Rightarrow$ $\\omega = \\sqrt{k^2\\pi^2+l^2\\pi^2}$ where $k,l \\in \\mathbb{N}$"
   ]
  },
  {
   "cell_type": "code",
   "execution_count": 20,
   "metadata": {},
   "outputs": [
    {
     "name": "stdout",
     "output_type": "stream",
     "text": [
      "[4.442882938158366, 7.024814731040727, 9.934588265796101, 12.953118343415191, 16.01904224441409, 19.10956207871615, 22.21441469079183, 25.32832971340211, 28.448331425398703, 31.57261542080455, 34.700025027842585, 37.829785066240554, 40.9613567668991, 44.09435413989645, 47.22849346153437, 50.36356154085973, 53.49939510233657, 56.63586699569489, 59.7728767351409]\n"
     ]
    }
   ],
   "source": [
    "verg = []\n",
    "point = []\n",
    "j = 0\n",
    "temp = 0\n",
    "for k in range(1,20):\n",
    "    for l in range(1,20):\n",
    "        temp = np.sqrt(l**2*pi**2+k**2*pi**2)\n",
    "        if l > 1:\n",
    "            if temp == verg[j-1]:\n",
    "                temp = 0\n",
    "        else:\n",
    "            verg.append(temp)\n",
    "    j = j+1\n",
    "            \n",
    "        \n",
    "verg.sort()       \n",
    "print(verg)"
   ]
  },
  {
   "cell_type": "markdown",
   "metadata": {},
   "source": [
    "### Die helmholzgleichung:\n",
    "$\\Delta u - \\omega^2 u = f$\n",
    "### und die Schwache Formulierung:\n",
    "$\\int_{\\Omega}\\nabla u \\nabla v - \\omega^2\\int_{\\Omega}u v = \\int_{\\Omega}fv$ $v \\in V$\n",
    "### löse die obrige Gleichung mit paar $\\omega_i$ und speichere diese $u_i$ in eine Matrix "
   ]
  },
  {
   "cell_type": "code",
   "execution_count": 21,
   "metadata": {},
   "outputs": [
    {
     "name": "stdout",
     "output_type": "stream",
     "text": [
      "Number of iter:  0 omega:  0 L2-Norm: 0.00013380101003921885\n",
      "Number of iter:  1 omega:  1 L2-Norm: 0.0001402878457279806\n",
      "Number of iter:  2 omega:  2 L2-Norm: 0.00016482056456664925\n",
      "Number of iter:  3 omega:  3 L2-Norm: 0.00023693872648335623\n",
      "Number of iter:  4 omega:  4 L2-Norm: 0.0006685491574203242\n",
      "Number of iter:  5 omega:  5 L2-Norm: 0.0004770687190558173\n",
      "Number of iter:  6 omega:  6 L2-Norm: 0.00016593496254364062\n",
      "Number of iter:  7 omega:  7 L2-Norm: 0.00011927190707528837\n",
      "Number of iter:  8 omega:  8 L2-Norm: 0.00012061279428570506\n",
      "Number of iter:  9 omega:  9 L2-Norm: 0.00020543447727135902\n",
      "Number of iter:  10 omega:  10 L2-Norm: 0.002682337857814545\n",
      "Number of iter:  11 omega:  11 L2-Norm: 0.00016821069962874135\n",
      "Number of iter:  12 omega:  12 L2-Norm: 0.00011528049938742794\n",
      "Number of iter:  13 omega:  13 L2-Norm: 0.0002929258237513671\n",
      "Number of iter:  14 omega:  14 L2-Norm: 0.000153767658568584\n",
      "Number of iter:  15 omega:  15 L2-Norm: 0.00013011752800525707\n",
      "Number of iter:  16 omega:  16 L2-Norm: 0.005644321133358355\n",
      "Number of iter:  17 omega:  17 L2-Norm: 0.00013552829896407723\n",
      "Number of iter:  18 omega:  18 L2-Norm: 0.0003022126798090452\n",
      "Number of iter:  19 omega:  19 L2-Norm: 0.00014522162503127688\n"
     ]
    }
   ],
   "source": [
    "u = fes.TrialFunction()\n",
    "v = fes.TestFunction()\n",
    "\n",
    "A = BilinearForm(fes)\n",
    "K = BilinearForm(fes)\n",
    "M = BilinearForm(fes)\n",
    "F = LinearForm(fes)\n",
    "\n",
    "omega = Parameter(1)\n",
    "A += (grad(u)*grad(v)- omega**2*u*v)*dx\n",
    "K += grad(u)*grad(v)*dx\n",
    "M += u*v*dx\n",
    "\n",
    "\n",
    "#A += 1j*omega*u*v*ds # R \n",
    "F += source*v*dx  \n",
    "o = []  \n",
    "\n",
    "norm = []\n",
    "\n",
    "#o = verg[0:21]\n",
    "for i in range(0,maxind):\n",
    "    o.append(i)\n",
    "\n",
    "j = 0\n",
    "Draw(gfu)\n",
    "for i in o:   \n",
    "    omega.Set(i) \n",
    "    A.Assemble()\n",
    "    K.Assemble()\n",
    "    M.Assemble()\n",
    "    F.Assemble()   \n",
    "    gfu.vec.data = A.mat.Inverse(fes.FreeDofs()) * F.vec\n",
    "    erg[:,j] = gfu.vec\n",
    "    fh = F.vec\n",
    "    norm.append(sqrt (Integrate ((gfu)*(gfu),mesh)))\n",
    "    print(\"Number of iter: \",j,\"omega: \",i,\"L2-Norm:\",sqrt (Integrate ((gfu)*(gfu),mesh)))\n",
    "    j = j+1\n",
    "As = A.mat\n",
    "Ms = M.mat\n",
    "Ks = K.mat\n",
    "rows,cols,vals = Ms.COO()\n",
    "Mh = sp.csr_matrix((vals,(rows,cols)))\n",
    "rows,cols,vals = Ks.COO()\n",
    "Kh = sp.csr_matrix((vals,(rows,cols)))\n",
    "rows,cols,vals = As.COO()\n",
    "Ah = sp.csr_matrix((vals,(rows,cols)))\n",
    "Ah = sp.csr_matrix.toarray(Ah)"
   ]
  },
  {
   "cell_type": "markdown",
   "metadata": {},
   "source": [
    "### calulates the orthogonal basis matrix V (using qr)"
   ]
  },
  {
   "cell_type": "code",
   "execution_count": 22,
   "metadata": {},
   "outputs": [
    {
     "name": "stdout",
     "output_type": "stream",
     "text": [
      "-3.812922200197022e-14\n"
     ]
    },
    {
     "data": {
      "text/plain": [
       "2976"
      ]
     },
     "execution_count": 22,
     "metadata": {},
     "output_type": "execute_result"
    }
   ],
   "source": [
    "V, r = np.linalg.qr(erg)\n",
    "V = erg.dot(np.linalg.inv(r))\n",
    "print(V[:,1].dot(V[:,2]))\n",
    "len(V)\n",
    "#lam,v = LA.eig(Ah)\n",
    "#q,R = np.linalg.qr(Ah)\n",
    "#print(np.diag(R))"
   ]
  },
  {
   "cell_type": "markdown",
   "metadata": {},
   "source": [
    "### Eigenvalue calculation with eig and qr (very expensive)"
   ]
  },
  {
   "cell_type": "code",
   "execution_count": null,
   "metadata": {},
   "outputs": [],
   "source": [
    "q,R = np.linalg.qr(Ah)"
   ]
  },
  {
   "cell_type": "code",
   "execution_count": null,
   "metadata": {},
   "outputs": [],
   "source": [
    "#print(\"from eig: \",lam[0:20])\n",
    "eig = []\n",
    "eig = np.diag(R)*np.diag(R)\n",
    "for i in verg:\n",
    "    for j in range(len(eig)):\n",
    "        #print(np.abs(i-eig[j]))\n",
    "        if np.abs(i-eig[j]) < 0.1:\n",
    "            print(j,eig[j])\n",
    "#print(\"from qr: \",eig[0:1000])"
   ]
  },
  {
   "cell_type": "markdown",
   "metadata": {},
   "source": [
    "### Plot the snapshot solution "
   ]
  },
  {
   "cell_type": "code",
   "execution_count": 23,
   "metadata": {},
   "outputs": [
    {
     "data": {
      "image/png": "[encoded data removed]",
      "text/plain": [
       "<Figure size 432x288 with 1 Axes>"
      ]
     },
     "metadata": {
      "needs_background": "light"
     },
     "output_type": "display_data"
    }
   ],
   "source": [
    "plt.plot(o[1:20],norm[1:20])\n",
    "plt.xlabel(\"omega\")\n",
    "plt.ylabel(\"Euklidic-Norm\")\n",
    "plt.savefig('results/resonanz_20.png')"
   ]
  },
  {
   "cell_type": "markdown",
   "metadata": {},
   "source": [
    "### Für die erste Metode GramSchmid verwenden um eine orthonormale Koordinatentransformationsmatrix zu erstellen(Euklidische Norm). "
   ]
  },
  {
   "cell_type": "markdown",
   "metadata": {},
   "source": [
    "$$\n",
    "M_N = V^T \\cdot M_h \\cdot V\n",
    "$$\n",
    "\n",
    "$$\n",
    "K_N = V^T \\cdot K_h \\cdot V\n",
    "$$\n",
    "\n",
    "$$\n",
    "f_N = V^T \\cdot f_h\n",
    "$$\n",
    "\n",
    "$$\n",
    "u_i = (K_N - \\omega^2_iM_N)^{-1} \\cdot f_N\n",
    "$$"
   ]
  },
  {
   "cell_type": "code",
   "execution_count": 24,
   "metadata": {},
   "outputs": [],
   "source": [
    "MN = np.transpose(V).dot(Mh.dot(V))\n",
    "KN = np.transpose(V).dot(Kh.dot(V))\n",
    "fN = np.transpose(V).dot(fh)"
   ]
  },
  {
   "cell_type": "markdown",
   "metadata": {},
   "source": [
    "### calculate the res, red_solution and res_red snapshot solution "
   ]
  },
  {
   "cell_type": "code",
   "execution_count": 25,
   "metadata": {},
   "outputs": [],
   "source": [
    "j = 0\n",
    "uN = np.zeros([maxind,maxind])\n",
    "res_red_fh = []\n",
    "res_red_fN = []\n",
    "for fre in o:\n",
    "    uN[:,j] = np.linalg.solve(KN-fre**2*MN, fN)\n",
    "    res_red_fh.append(np.linalg.norm((Kh-fre**2*Mh).dot(uN[:,j].dot(np.transpose(V)))-fh))\n",
    "    res_red_fN.append(np.linalg.norm((Kh-fre**2*Mh).dot(uN[:,j].dot(np.transpose(V)))-fN.dot(np.transpose(V))))\n",
    "    j = j+1"
   ]
  },
  {
   "cell_type": "code",
   "execution_count": 26,
   "metadata": {},
   "outputs": [
    {
     "data": {
      "image/png": "[encoded data removed]",
      "text/plain": [
       "<Figure size 432x288 with 1 Axes>"
      ]
     },
     "metadata": {
      "needs_background": "light"
     },
     "output_type": "display_data"
    }
   ],
   "source": [
    "plt.semilogy(o[1:19],res_red_fh[1:19])\n",
    "plt.xlabel(\"omega\")\n",
    "plt.ylabel(\"res_red_fh\")\n",
    "plt.savefig('results/resonanz_RB_20.png')"
   ]
  },
  {
   "cell_type": "code",
   "execution_count": 27,
   "metadata": {},
   "outputs": [
    {
     "data": {
      "image/png": "[encoded data removed]",
      "text/plain": [
       "<Figure size 432x288 with 1 Axes>"
      ]
     },
     "metadata": {
      "needs_background": "light"
     },
     "output_type": "display_data"
    }
   ],
   "source": [
    "plt.semilogy(o[1:19],res_red_fN[1:19])\n",
    "plt.xlabel(\"omega\")\n",
    "plt.ylabel(\"res_red_fN\")\n",
    "plt.savefig('results/resonanz_RB_20.png')"
   ]
  },
  {
   "cell_type": "code",
   "execution_count": 30,
   "metadata": {},
   "outputs": [
    {
     "name": "stdout",
     "output_type": "stream",
     "text": [
      "i:  0 Omega:  0.0\n",
      "\n",
      "i:  1 Omega:  0.2\n",
      "\n",
      "i:  2 Omega:  0.4\n",
      "\n",
      "i:  3 Omega:  0.6000000000000001\n",
      "\n",
      "i:  4 Omega:  0.8\n",
      "\n",
      "i:  5 Omega:  1.0\n",
      "\n",
      "i:  6 Omega:  1.2000000000000002\n",
      "\n",
      "i:  7 Omega:  1.4000000000000001\n",
      "\n",
      "i:  8 Omega:  1.6\n",
      "\n",
      "i:  9 Omega:  1.8\n",
      "\n",
      "i:  10 Omega:  2.0\n",
      "\n",
      "i:  11 Omega:  2.2\n",
      "\n",
      "i:  12 Omega:  2.4000000000000004\n",
      "\n",
      "i:  13 Omega:  2.6\n",
      "\n",
      "i:  14 Omega:  2.8000000000000003\n",
      "\n",
      "i:  15 Omega:  3.0\n",
      "\n",
      "i:  16 Omega:  3.2\n",
      "\n",
      "i:  17 Omega:  3.4000000000000004\n",
      "\n",
      "i:  18 Omega:  3.6\n",
      "\n",
      "i:  19 Omega:  3.8000000000000003\n",
      "\n",
      "i:  20 Omega:  4.0\n",
      "\n",
      "i:  21 Omega:  4.2\n",
      "\n",
      "i:  22 Omega:  4.4\n",
      "\n",
      "i:  23 Omega:  4.6000000000000005\n",
      "\n",
      "i:  24 Omega:  4.800000000000001\n",
      "\n",
      "i:  25 Omega:  5.0\n",
      "\n",
      "i:  26 Omega:  5.2\n",
      "\n",
      "i:  27 Omega:  5.4\n",
      "\n",
      "i:  28 Omega:  5.6000000000000005\n",
      "\n",
      "i:  29 Omega:  5.800000000000001\n",
      "\n",
      "i:  30 Omega:  6.0\n",
      "\n",
      "i:  31 Omega:  6.2\n",
      "\n",
      "i:  32 Omega:  6.4\n",
      "\n",
      "i:  33 Omega:  6.6000000000000005\n",
      "\n",
      "i:  34 Omega:  6.800000000000001\n",
      "\n",
      "i:  35 Omega:  7.0\n",
      "\n",
      "i:  36 Omega:  7.2\n",
      "\n",
      "i:  37 Omega:  7.4\n",
      "\n",
      "i:  38 Omega:  7.6000000000000005\n",
      "\n",
      "i:  39 Omega:  7.800000000000001\n",
      "\n",
      "i:  40 Omega:  8.0\n",
      "\n",
      "i:  41 Omega:  8.200000000000001\n",
      "\n",
      "i:  42 Omega:  8.4\n",
      "\n",
      "i:  43 Omega:  8.6\n",
      "\n",
      "i:  44 Omega:  8.8\n",
      "\n",
      "i:  45 Omega:  9.0\n",
      "\n",
      "i:  46 Omega:  9.200000000000001\n",
      "\n",
      "i:  47 Omega:  9.4\n",
      "\n",
      "i:  48 Omega:  9.600000000000001\n",
      "\n",
      "i:  49 Omega:  9.8\n",
      "\n",
      "i:  50 Omega:  10.0\n",
      "\n",
      "i:  51 Omega:  10.200000000000001\n",
      "\n",
      "i:  52 Omega:  10.4\n",
      "\n",
      "i:  53 Omega:  10.600000000000001\n",
      "\n",
      "i:  54 Omega:  10.8\n",
      "\n",
      "i:  55 Omega:  11.0\n",
      "\n",
      "i:  56 Omega:  11.200000000000001\n",
      "\n",
      "i:  57 Omega:  11.4\n",
      "\n",
      "i:  58 Omega:  11.600000000000001\n",
      "\n",
      "i:  59 Omega:  11.8\n",
      "\n",
      "i:  60 Omega:  12.0\n",
      "\n",
      "i:  61 Omega:  12.200000000000001\n",
      "\n",
      "i:  62 Omega:  12.4\n",
      "\n",
      "i:  63 Omega:  12.600000000000001\n",
      "\n",
      "i:  64 Omega:  12.8\n",
      "\n",
      "i:  65 Omega:  13.0\n",
      "\n",
      "i:  66 Omega:  13.200000000000001\n",
      "\n",
      "i:  67 Omega:  13.4\n",
      "\n",
      "i:  68 Omega:  13.600000000000001\n",
      "\n",
      "i:  69 Omega:  13.8\n",
      "\n",
      "i:  70 Omega:  14.0\n",
      "\n",
      "i:  71 Omega:  14.200000000000001\n",
      "\n",
      "i:  72 Omega:  14.4\n",
      "\n",
      "i:  73 Omega:  14.600000000000001\n",
      "\n",
      "i:  74 Omega:  14.8\n",
      "\n",
      "i:  75 Omega:  15.0\n",
      "\n",
      "i:  76 Omega:  15.200000000000001\n",
      "\n",
      "i:  77 Omega:  15.4\n",
      "\n",
      "i:  78 Omega:  15.600000000000001\n",
      "\n",
      "i:  79 Omega:  15.8\n",
      "\n",
      "i:  80 Omega:  16.0\n",
      "\n",
      "i:  81 Omega:  16.2\n",
      "\n",
      "i:  82 Omega:  16.400000000000002\n",
      "\n",
      "i:  83 Omega:  16.6\n",
      "\n",
      "i:  84 Omega:  16.8\n",
      "\n",
      "i:  85 Omega:  17.0\n",
      "\n",
      "i:  86 Omega:  17.2\n",
      "\n",
      "i:  87 Omega:  17.400000000000002\n",
      "\n",
      "i:  88 Omega:  17.6\n",
      "\n",
      "i:  89 Omega:  17.8\n",
      "\n",
      "i:  90 Omega:  18.0\n",
      "\n",
      "i:  91 Omega:  18.2\n",
      "\n",
      "i:  92 Omega:  18.400000000000002\n",
      "\n",
      "i:  93 Omega:  18.6\n",
      "\n",
      "i:  94 Omega:  18.8\n",
      "\n",
      "i:  95 Omega:  19.0\n",
      "\n",
      "i:  96 Omega:  19.200000000000003\n",
      "\n",
      "i:  97 Omega:  19.400000000000002\n",
      "\n",
      "i:  98 Omega:  19.6\n",
      "\n",
      "i:  99 Omega:  19.8\n",
      "\n"
     ]
    }
   ],
   "source": [
    "iteration = int(100)\n",
    "interval = 20\n",
    "factor = interval / iteration\n",
    "omegaN = []\n",
    "norm_L2 =[]\n",
    "uN = np.zeros([maxind,iteration])\n",
    "for i in range(iteration):\n",
    "    omegaN.append(factor*i)\n",
    "    uN[:,i] = np.linalg.solve(KN-omegaN[i]**2*MN, fN)\n",
    "    new = uN[:,i].dot(np.transpose(V))\n",
    "    gif = GridFunction(fes,name = \"gif\")\n",
    "    gif.vec.FV().NumPy()[:] = new\n",
    "    Draw(gif)\n",
    "    print(\"i: \",i,\"Omega: \",omegaN[i])\n",
    "    input()\n",
    "    Redraw()\n",
    "    #norm_L2.append(sqrt(uN[:,i].dot(uN[:,i])))"
   ]
  },
  {
   "cell_type": "markdown",
   "metadata": {},
   "source": [
    "### calculates 1000 residuals and the norm of the rediced solution (very expensive)"
   ]
  },
  {
   "cell_type": "code",
   "execution_count": 33,
   "metadata": {},
   "outputs": [],
   "source": [
    "verg = []\n",
    "point = []\n",
    "for k in range(1,100):\n",
    "    for l in range(1,100):\n",
    "        verg.append(np.sqrt(l**2*pi**2+k**2*pi**2))\n",
    "        point.append(0.1)\n",
    "\n",
    "\n",
    "iteration = int(1e4)\n",
    "interval = 20\n",
    "factor = interval / iteration\n",
    "omegaN = []\n",
    "norm_L2 =[]\n",
    "res = []\n",
    "uN = np.zeros([maxind,iteration])\n",
    "for i in range(iteration):\n",
    "    omegaN.append(factor*i)\n",
    "    uN[:,i] = np.linalg.solve(KN-omegaN[i]**2*MN, fN)\n",
    "    res.append(np.linalg.norm((Kh-omegaN[i]**2*Mh).dot(uN[:,i].dot(np.transpose(V)))-fN.dot(np.transpose(V))))\n",
    "    norm_L2.append(sqrt(uN[:,i].dot(uN[:,i])))\n",
    "    \n",
    "    "
   ]
  },
  {
   "cell_type": "code",
   "execution_count": 35,
   "metadata": {},
   "outputs": [
    {
     "data": {
      "image/png": "[encoded data removed]",
      "text/plain": [
       "<Figure size 432x288 with 1 Axes>"
      ]
     },
     "metadata": {
      "needs_background": "light"
     },
     "output_type": "display_data"
    }
   ],
   "source": [
    "maxpoints = 6\n",
    "plt.semilogy(omegaN,norm_L2)\n",
    "plt.semilogy(verg[0:maxpoints],point[0:maxpoints],'*r')\n",
    "plt.semilogy(omegaN,norm_L2,'b')\n",
    "plt.xlabel(\"omega\")\n",
    "plt.ylabel(\"Euclidic Norm\")\n",
    "plt.savefig('results/resonanz_RB_20.png')"
   ]
  },
  {
   "cell_type": "code",
   "execution_count": 36,
   "metadata": {},
   "outputs": [
    {
     "name": "stdout",
     "output_type": "stream",
     "text": [
      "[4.442882938158366, 7.024814731040727, 9.934588265796101, 12.953118343415191, 16.01904224441409, 19.10956207871615, 22.21441469079183]\n"
     ]
    }
   ],
   "source": [
    "print(verg[0:7])"
   ]
  },
  {
   "cell_type": "code",
   "execution_count": 37,
   "metadata": {},
   "outputs": [
    {
     "data": {
      "image/png": "[encoded data removed]",
      "text/plain": [
       "<Figure size 432x288 with 1 Axes>"
      ]
     },
     "metadata": {
      "needs_background": "light"
     },
     "output_type": "display_data"
    }
   ],
   "source": [
    "plt.semilogy(omegaN,res)\n",
    "plt.xlabel(\"omega\")\n",
    "plt.ylabel(\"Euclidic Norm\")\n",
    "plt.savefig('results/resonanz_RB_20.png')"
   ]
  },
  {
   "cell_type": "code",
   "execution_count": 18,
   "metadata": {},
   "outputs": [
    {
     "name": "stdout",
     "output_type": "stream",
     "text": [
      "628 12.56 0.0006931663375530333\n",
      "786 15.72 0.000691917825573587\n",
      "844 16.88 0.0006937171707730886\n",
      "845 16.9 0.0006923934402360873\n",
      "874 17.48 0.0006939923578125265\n",
      "875 17.5 0.0006939346334240137\n",
      "876 17.52 0.0006938706088510701\n",
      "877 17.54 0.0006937988707688901\n",
      "878 17.56 0.0006937175491126919\n",
      "879 17.580000000000002 0.0006936241167944797\n",
      "880 17.6 0.0006935150798983524\n",
      "881 17.62 0.0006933854889613287\n",
      "882 17.64 0.0006932281622210512\n",
      "883 17.66 0.0006930324930336596\n",
      "884 17.68 0.0006927829891206738\n",
      "885 17.7 0.0006924602689253953\n",
      "886 17.72 0.0006920697359039961\n",
      "887 17.740000000000002 0.0006920050394301464\n",
      "912 18.240000000000002 0.0006939415932500139\n",
      "913 18.26 0.0006938740802736398\n",
      "914 18.28 0.0006938061614839294\n",
      "915 18.3 0.0006937375684370167\n",
      "916 18.32 0.0006936680505105247\n",
      "917 18.34 0.0006935973695207908\n",
      "918 18.36 0.0006935252952702168\n",
      "919 18.38 0.0006934516018312202\n",
      "920 18.400000000000002 0.0006933760644618811\n",
      "921 18.42 0.000693298457139993\n",
      "922 18.44 0.0006932185508153688\n",
      "923 18.46 0.0006931361126421383\n",
      "924 18.48 0.0006930509067070383\n",
      "925 18.5 0.0006929626971929475\n",
      "926 18.52 0.0006928712556481928\n",
      "927 18.54 0.0006927763753327775\n",
      "928 18.56 0.0006926778979907392\n",
      "929 18.580000000000002 0.0006925757628734519\n",
      "930 18.6 0.0006924700965398083\n",
      "931 18.62 0.0006923613795167074\n",
      "932 18.64 0.0006922507628991622\n",
      "933 18.66 0.0006921406899941637\n",
      "934 18.68 0.0006920361713180863\n",
      "935 18.7 0.0006919475507920822\n",
      "936 18.72 0.0006918969576219717\n",
      "937 18.740000000000002 0.0006919348467583054\n",
      "938 18.76 0.0006921881486906585\n",
      "939 18.78 0.0006930279088738921\n",
      "952 19.04 0.0006938872625967402\n",
      "953 19.06 0.0006935252103870962\n",
      "954 19.080000000000002 0.00069322218409985\n",
      "955 19.1 0.0006929636364516356\n",
      "956 19.12 0.0006927403097476367\n",
      "957 19.14 0.0006925463481508477\n",
      "958 19.16 0.0006923782231868715\n",
      "959 19.18 0.0006922341095541477\n",
      "960 19.2 0.0006921135259003199\n",
      "961 19.22 0.0006920171422752518\n",
      "962 19.240000000000002 0.0006919467013180792\n",
      "963 19.26 0.0006919050254382373\n",
      "964 19.28 0.0006918960974433571\n",
      "965 19.3 0.0006919252123368983\n",
      "966 19.32 0.0006919992061333937\n",
      "967 19.34 0.0006921267752484302\n",
      "968 19.36 0.0006923189086326688\n",
      "969 19.38 0.0006925894656220878\n",
      "970 19.400000000000002 0.0006929559470257052\n",
      "971 19.42 0.0006934405274148101\n"
     ]
    }
   ],
   "source": [
    "newom = []\n",
    "for i in range(len(res)):\n",
    "    if res[i] < 6.94e-4:\n",
    "        print(i,omegaN[i],res[i])\n",
    "        newom.append(omegaN[i])\n",
    "    "
   ]
  },
  {
   "cell_type": "code",
   "execution_count": null,
   "metadata": {},
   "outputs": [],
   "source": []
  }
 ],
 "metadata": {
  "kernelspec": {
   "display_name": "Python 3",
   "language": "python",
   "name": "python3"
  },
  "language_info": {
   "codemirror_mode": {
    "name": "ipython",
    "version": 3
   },
   "file_extension": ".py",
   "mimetype": "text/x-python",
   "name": "python",
   "nbconvert_exporter": "python",
   "pygments_lexer": "ipython3",
   "version": "3.7.5"
  }
 },
 "nbformat": 4,
 "nbformat_minor": 4
}
