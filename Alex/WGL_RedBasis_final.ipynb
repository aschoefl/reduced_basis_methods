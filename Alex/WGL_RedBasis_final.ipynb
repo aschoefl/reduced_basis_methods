{
 "cells": [
  {
   "cell_type": "code",
   "execution_count": 1,
   "metadata": {},
   "outputs": [],
   "source": [
    "from netgen import gui\n",
    "from math import pi\n",
    "from ngsolve import *\n",
    "from netgen.geom2d import SplineGeometry\n",
    "\n",
    "import numpy as np\n",
    "import scipy.sparse as sp\n",
    "import matplotlib.pyplot as plt\n",
    "\n",
    "from ngsolve.internal import visoptions"
   ]
  },
  {
   "cell_type": "code",
   "execution_count": 2,
   "metadata": {},
   "outputs": [],
   "source": [
    "numsnap = 200\n",
    "MaxTime = 2\n",
    "Norm_Residium = []\n",
    "iteration = int(100)\n",
    "boundaries = \"Dirichlet\""
   ]
  },
  {
   "cell_type": "code",
   "execution_count": 3,
   "metadata": {},
   "outputs": [],
   "source": [
    "geo = SplineGeometry()\n",
    "geo.AddRectangle( (-1, -1), (1, 1),bcs = (\"bottom\", \"right\", \"top\", \"left\"))\n",
    "mesh = Mesh( geo.GenerateMesh(maxh=0.1))\n",
    "Draw(mesh)"
   ]
  },
  {
   "cell_type": "code",
   "execution_count": 4,
   "metadata": {},
   "outputs": [
    {
     "name": "stdout",
     "output_type": "stream",
     "text": [
      "Dirichlet\n"
     ]
    }
   ],
   "source": [
    "if boundaries == \"Dirichlet\":\n",
    "    fes = H1(mesh, order=3, dirichlet=\"bottom|right|left\")\n",
    "    print(\"Dirichlet\")\n",
    "if boundaries == \"Neumann\":\n",
    "    fes = H1(mesh, order=3)"
   ]
  },
  {
   "cell_type": "code",
   "execution_count": 5,
   "metadata": {},
   "outputs": [
    {
     "name": "stdout",
     "output_type": "stream",
     "text": [
      "dth:  0.01\n"
     ]
    },
    {
     "data": {
      "text/plain": [
       "<ngsolve.comp.LinearForm at 0x7f7a0225c2b0>"
      ]
     },
     "execution_count": 5,
     "metadata": {},
     "output_type": "execute_result"
    }
   ],
   "source": [
    "u,v = fes.TnT()\n",
    "\n",
    "dth = MaxTime/(numsnap)\n",
    "print(\"dth: \",dth)\n",
    "alpha = 0.001\n",
    "\n",
    "b = CoefficientFunction((2*y*(1-x*x),-2*x*(1-y*y)))\n",
    "visoptions.scalfunction = \"wind:0\"\n",
    "\n",
    "a = BilinearForm(fes, symmetric=False)\n",
    "a += alpha*grad(u)*grad(v)*dx + b*grad(u)*v*dx\n",
    "a.Assemble()\n",
    "\n",
    "m = BilinearForm(fes, symmetric=False)\n",
    "m += u*v*dx\n",
    "m.Assemble()\n",
    "\n",
    "mstar = m.mat.CreateMatrix()\n",
    "mstar.AsVector().data = m.mat.AsVector() + dth * a.mat.AsVector()\n",
    "invmstar = mstar.Inverse(freedofs=fes.FreeDofs())\n",
    "\n",
    "f = LinearForm(fes)\n",
    "gaussp = exp(-6*((x+0.5)*(x+0.5)+y*y))-exp(-6*((x-0.5)*(x-0.5)+y*y))\n",
    "f += gaussp*v*dx\n",
    "f.Assemble()"
   ]
  },
  {
   "cell_type": "code",
   "execution_count": 6,
   "metadata": {},
   "outputs": [],
   "source": [
    "u_t_h = GridFunction(fes)\n",
    "u_t_N = GridFunction(fes)\n",
    "u_0 = GridFunction(fes)\n",
    "\n",
    "u_t_h.Set((1-y*y)*x)\n",
    "u_0.Set((1-y*y)*x)\n",
    "u_t_N.Set((1-y*y)*x)\n",
    "\n",
    "ustart = u_0.vec\n",
    "Draw(u_0,mesh,name = \"u_0\")"
   ]
  },
  {
   "cell_type": "code",
   "execution_count": 7,
   "metadata": {},
   "outputs": [
    {
     "name": "stdout",
     "output_type": "stream",
     "text": [
      "\n"
     ]
    }
   ],
   "source": [
    "res = u_t_h.vec.CreateVector()\n",
    "erg = np.zeros([len(u_t_h.vec),numsnap]) \n",
    "erg_N_snap = np.zeros([len(u_t_h.vec),numsnap]) \n",
    "\n",
    "V_sb = MultiVector(u_t_h.vec, 1)\n",
    "V_sb[0] = u_t_h.vec\n",
    "#%%time\n",
    "t_intermediate=0 # time counter within one block-run\n",
    "for i in range(numsnap):\n",
    "    res.data = dth * f.vec - dth * a.mat * u_t_h.vec\n",
    "    u_t_h.vec.data += invmstar * res\n",
    "    V_sb.AppendOrthogonalize(u_t_h.vec)\n",
    "    erg[:,i] = u_t_h.vec\n",
    "    Draw(u_t_h,mesh,name = \"u_t_h\")\n",
    "    Redraw()\n",
    "print(\"\")"
   ]
  },
  {
   "cell_type": "code",
   "execution_count": 8,
   "metadata": {},
   "outputs": [],
   "source": [
    "dtN = MaxTime/iteration\n",
    "\n",
    "rows,cols,vals = a.mat.COO()\n",
    "Ah = sp.csr_matrix((vals,(rows,cols)))\n",
    "\n",
    "rows,cols,vals = m.mat.COO()\n",
    "Mh = sp.csr_matrix((vals,(rows,cols)))\n",
    "\n",
    "Fh = f.vec\n",
    "\n",
    "V = np.zeros([len(u_t_h.vec),numsnap])\n",
    "for i in range(numsnap):\n",
    "    V[:,i] = np.array(V_sb[i])"
   ]
  },
  {
   "cell_type": "code",
   "execution_count": 9,
   "metadata": {},
   "outputs": [],
   "source": [
    "MN = np.transpose(V).dot(Mh.dot(V))\n",
    "AN = np.transpose(V).dot(Ah.dot(V))\n",
    "fN = np.transpose(V).dot(Fh)\n",
    "\n",
    "\n",
    "mstar = m.mat.CreateMatrix()\n",
    "mstar.AsVector().data = m.mat.AsVector() + dtN * a.mat.AsVector()\n",
    "invmstar = mstar.Inverse(freedofs=fes.FreeDofs())\n",
    "\n",
    "\n",
    "uN = np.transpose(V).dot(ustart)\n",
    "\n",
    "res = u_t_h.vec.CreateVector()\n",
    "err = u_t_h.vec.CreateVector()\n",
    "\n",
    "\n",
    "Mstarh = MN + dtN*AN\n",
    "Mstarhinv = np.linalg.inv(Mstarh) \n",
    "\n",
    "\n",
    "Residium = []\n",
    "Time = []\n",
    "\n",
    "u_t_N.vec.FV().NumPy()[:] = ustart\n",
    "u_t_h.vec.FV().NumPy()[:] = ustart\n",
    "Draw(u_t_h,mesh,name = \"u_t_h\")\n",
    "Draw(u_t_N,mesh,name = \"u_t_N\")\n",
    "Draw(u_t_N-u_t_h,mesh,name = \"u_t_err\")"
   ]
  },
  {
   "cell_type": "markdown",
   "metadata": {},
   "source": [
    "### Snapshot error:"
   ]
  },
  {
   "cell_type": "code",
   "execution_count": 10,
   "metadata": {},
   "outputs": [
    {
     "name": "stdout",
     "output_type": "stream",
     "text": [
      "snap:  200 Norm_Res:  1.8974060893592226\n"
     ]
    },
    {
     "data": {
      "image/png": "[encoded data removed]",
      "text/plain": [
       "<Figure size 432x288 with 1 Axes>"
      ]
     },
     "metadata": {
      "needs_background": "light"
     },
     "output_type": "display_data"
    }
   ],
   "source": [
    "Mstarh = MN + dth*AN\n",
    "Mstarhinv = np.linalg.inv(Mstarh)\n",
    "for i in range(numsnap):\n",
    "    \n",
    "    res_N = fN-AN.dot(uN)\n",
    "    uN += dth*Mstarhinv.dot(res_N)\n",
    "    new = (uN).dot(np.transpose(V))\n",
    "    \n",
    "    with TaskManager():\n",
    "        \n",
    "        res.data = dth * f.vec - dth * a.mat * u_t_h.vec\n",
    "        u_t_h.vec.data += invmstar * res               \n",
    "        u_t_N.vec.FV().NumPy()[:] = new\n",
    "        erg_N_snap[:,i] = u_t_N.vec\n",
    "        err.vec = sqrt (Integrate ((u_t_h-u_t_N)*(u_t_h-u_t_N),mesh))\n",
    "        Residium.append(err.vec)\n",
    "        Time.append(i*dth)\n",
    "        Redraw()\n",
    "        #print(i*dth,i)\n",
    "print(\"snap: \",numsnap,\"Norm_Res: \",np.linalg.norm(Residium))\n",
    "\n",
    "Norm_Residium.append(np.linalg.norm(Residium))\n",
    "plt.semilogy(Time,Residium,label=\"NumOfsnap: {} norm_Res {}\".format(numsnap,np.linalg.norm(Residium)))\n",
    "plt.xlabel(\"time\")\n",
    "plt.ylabel(\"err\")\n",
    "plt.grid()\n",
    "plt.legend()\n",
    "plt.savefig(\"Snapshot error {} {} VS\".format(numsnap,boundaries))"
   ]
  },
  {
   "cell_type": "code",
   "execution_count": null,
   "metadata": {},
   "outputs": [],
   "source": [
    "print(Residium[50])\n",
    "print(erg[:,50])"
   ]
  },
  {
   "cell_type": "code",
   "execution_count": null,
   "metadata": {},
   "outputs": [],
   "source": [
    "print(erg[0:50,0])\n",
    "print(erg_N_snap[0:50,0])"
   ]
  },
  {
   "cell_type": "code",
   "execution_count": null,
   "metadata": {},
   "outputs": [],
   "source": [
    "print(fes.FreeDofs())"
   ]
  },
  {
   "cell_type": "code",
   "execution_count": null,
   "metadata": {},
   "outputs": [],
   "source": [
    "for i in range(iteration):\n",
    "    \n",
    "    res_N = fN-AN.dot(uN)\n",
    "    uN += dtN*Mstarhinv.dot(res_N)\n",
    "    new = (uN).dot(np.transpose(V))\n",
    "    \n",
    "    with TaskManager():\n",
    "        \n",
    "        res.data = dtN * f.vec - dtN * a.mat * u_t_h.vec\n",
    "        u_t_h.vec.data += invmstar * res               \n",
    "        u_t_N.vec.FV().NumPy()[:] = new\n",
    "        err.vec = sqrt (Integrate ((u_t_h-u_t_N)*(u_t_h-u_t_N),mesh))\n",
    "        Residium.append(err.vec)\n",
    "        Time.append(i*dtN)\n",
    "        Redraw()\n",
    "print(\"snap: \",numsnap,\"Norm_Res: \",np.linalg.norm(Residium))\n",
    "\n",
    "Norm_Residium.append(np.linalg.norm(Residium))\n",
    "plt.semilogy(Time,Residium,label=\"NumOfsnap: {} norm_Res {}\".format(numsnap,np.linalg.norm(Residium)))\n",
    "plt.xlabel(\"time\")\n",
    "plt.ylabel(\"err\")\n",
    "plt.grid()\n",
    "plt.legend()\n",
    "plt.savefig(\"total error {} {} VS\".format(numsnap,boundaries))"
   ]
  },
  {
   "cell_type": "code",
   "execution_count": null,
   "metadata": {},
   "outputs": [],
   "source": []
  },
  {
   "cell_type": "code",
   "execution_count": null,
   "metadata": {},
   "outputs": [],
   "source": []
  },
  {
   "cell_type": "code",
   "execution_count": null,
   "metadata": {},
   "outputs": [],
   "source": []
  }
 ],
 "metadata": {
  "kernelspec": {
   "display_name": "Python 3.7.5 64-bit",
   "language": "python",
   "name": "python37564bitb5f188b5fd4549769c9ea1e1a366fa0d"
  },
  "language_info": {
   "codemirror_mode": {
    "name": "ipython",
    "version": 3
   },
   "file_extension": ".py",
   "mimetype": "text/x-python",
   "name": "python",
   "nbconvert_exporter": "python",
   "pygments_lexer": "ipython3",
   "version": "3.7.5"
  }
 },
 "nbformat": 4,
 "nbformat_minor": 2
}
