{
 "cells": [
  {
   "cell_type": "code",
   "execution_count": 1,
   "metadata": {},
   "outputs": [],
   "source": [
    "from netgen import gui\n",
    "from math import pi\n",
    "from ngsolve import *\n",
    "from netgen.geom2d import SplineGeometry\n",
    "\n",
    "import numpy as np\n",
    "import scipy.sparse as sp\n",
    "import matplotlib.pyplot as plt\n",
    "\n",
    "from ngsolve.internal import visoptions"
   ]
  },
  {
   "cell_type": "code",
   "execution_count": 2,
   "metadata": {},
   "outputs": [],
   "source": [
    "numsnap = 200\n",
    "MaxTime = 2\n",
    "Norm_Residium = []\n",
    "iteration = int(100)\n",
    "boundaries = \"Neumann\""
   ]
  },
  {
   "cell_type": "code",
   "execution_count": 3,
   "metadata": {},
   "outputs": [],
   "source": [
    "geo = SplineGeometry()\n",
    "geo.AddRectangle( (-1, -1), (1, 1),bcs = (\"bottom\", \"right\", \"top\", \"left\"))\n",
    "mesh = Mesh( geo.GenerateMesh(maxh=0.1))\n",
    "Draw(mesh)"
   ]
  },
  {
   "cell_type": "code",
   "execution_count": 4,
   "metadata": {},
   "outputs": [],
   "source": [
    "if boundaries == \"Dirichlet\":\n",
    "    fes = H1(mesh, order=3, dirichlet=\"bottom|right|left\")\n",
    "    print(\"Dirichlet\")\n",
    "if boundaries == \"Neumann\":\n",
    "    fes = H1(mesh, order=3)"
   ]
  },
  {
   "cell_type": "code",
   "execution_count": 5,
   "metadata": {},
   "outputs": [
    {
     "name": "stdout",
     "output_type": "stream",
     "text": [
      "dth:  0.01\n"
     ]
    },
    {
     "data": {
      "text/plain": [
       "<ngsolve.comp.LinearForm at 0x7f031e9ef9f0>"
      ]
     },
     "execution_count": 5,
     "metadata": {},
     "output_type": "execute_result"
    }
   ],
   "source": [
    "u,v = fes.TnT()\n",
    "\n",
    "dth = MaxTime/(numsnap)\n",
    "print(\"dth: \",dth)\n",
    "alpha = 0.001\n",
    "\n",
    "b = CoefficientFunction((2*y*(1-x*x),-2*x*(1-y*y)))\n",
    "visoptions.scalfunction = \"wind:0\"\n",
    "\n",
    "a = BilinearForm(fes, symmetric=False)\n",
    "a += alpha*grad(u)*grad(v)*dx + b*grad(u)*v*dx\n",
    "a.Assemble()\n",
    "\n",
    "m = BilinearForm(fes, symmetric=False)\n",
    "m += u*v*dx\n",
    "m.Assemble()\n",
    "\n",
    "mstar = m.mat.CreateMatrix()\n",
    "mstar.AsVector().data = m.mat.AsVector() + dth * a.mat.AsVector()\n",
    "invmstar = mstar.Inverse(freedofs=fes.FreeDofs())\n",
    "\n",
    "f = LinearForm(fes)\n",
    "gaussp = exp(-6*((x+0.5)*(x+0.5)+y*y))-exp(-6*((x-0.5)*(x-0.5)+y*y))\n",
    "f += gaussp*v*dx\n",
    "f.Assemble()"
   ]
  },
  {
   "cell_type": "code",
   "execution_count": 27,
   "metadata": {},
   "outputs": [
    {
     "ename": "TypeError",
     "evalue": "'ngsolve.la.BaseMatrix' object is not subscriptable",
     "output_type": "error",
     "traceback": [
      "\u001b[0;31m---------------------------------------------------------------------------\u001b[0m",
      "\u001b[0;31mTypeError\u001b[0m                                 Traceback (most recent call last)",
      "\u001b[0;32m<ipython-input-27-139075d1d95f>\u001b[0m in \u001b[0;36m<module>\u001b[0;34m\u001b[0m\n\u001b[0;32m----> 1\u001b[0;31m \u001b[0minvmstar\u001b[0m\u001b[0;34m[\u001b[0m\u001b[0;36m0\u001b[0m\u001b[0;34m]\u001b[0m\u001b[0;34m\u001b[0m\u001b[0;34m\u001b[0m\u001b[0m\n\u001b[0m",
      "\u001b[0;31mTypeError\u001b[0m: 'ngsolve.la.BaseMatrix' object is not subscriptable"
     ]
    }
   ],
   "source": [
    "invmstar[0]"
   ]
  },
  {
   "cell_type": "code",
   "execution_count": 13,
   "metadata": {},
   "outputs": [
    {
     "ename": "IndexError",
     "evalue": "too many indices for array",
     "output_type": "error",
     "traceback": [
      "\u001b[0;31m---------------------------------------------------------------------------\u001b[0m",
      "\u001b[0;31mIndexError\u001b[0m                                Traceback (most recent call last)",
      "\u001b[0;32m<ipython-input-13-a49675ce07e5>\u001b[0m in \u001b[0;36m<module>\u001b[0;34m\u001b[0m\n\u001b[0;32m----> 1\u001b[0;31m \u001b[0mprint\u001b[0m\u001b[0;34m(\u001b[0m\u001b[0mc\u001b[0m\u001b[0;34m[\u001b[0m\u001b[0;36m0\u001b[0m\u001b[0;34m]\u001b[0m\u001b[0;34m)\u001b[0m\u001b[0;34m\u001b[0m\u001b[0;34m\u001b[0m\u001b[0m\n\u001b[0m",
      "\u001b[0;31mIndexError\u001b[0m: too many indices for array"
     ]
    }
   ],
   "source": [
    "print(c[0])"
   ]
  },
  {
   "cell_type": "code",
   "execution_count": 15,
   "metadata": {},
   "outputs": [],
   "source": [
    "u_t_h = GridFunction(fes)\n",
    "u_t_N = GridFunction(fes)\n",
    "u_0 = GridFunction(fes)\n",
    "\n",
    "u_t_h.Set((1-y*y)*x)\n",
    "u_0.Set((1-y*y)*x)\n",
    "u_t_N.Set((1-y*y)*x)\n",
    "\n",
    "ustart = u_0.vec\n",
    "Draw(u_0,mesh,name = \"u_0\")"
   ]
  },
  {
   "cell_type": "code",
   "execution_count": 16,
   "metadata": {},
   "outputs": [
    {
     "name": "stdout",
     "output_type": "stream",
     "text": [
      "\n"
     ]
    }
   ],
   "source": [
    "res = u_t_h.vec.CreateVector()\n",
    "erg = np.zeros([len(u_t_h.vec),numsnap]) \n",
    "\n",
    "V_sb = MultiVector(u_t_h.vec, 1)\n",
    "V_sb[0] = u_t_h.vec\n",
    "#%%time\n",
    "t_intermediate=0 # time counter within one block-run\n",
    "for i in range(numsnap):\n",
    "    res.data = dth * f.vec - dth * a.mat * u_t_h.vec\n",
    "    u_t_h.vec.data += invmstar * res\n",
    "    V_sb.AppendOrthogonalize(u_t_h.vec)\n",
    "    erg[:,i] = u_t_h.vec\n",
    "    Draw(u_t_h,mesh,name = \"u_t_h\")\n",
    "    Redraw()\n",
    "print(\"\")"
   ]
  },
  {
   "cell_type": "code",
   "execution_count": 17,
   "metadata": {},
   "outputs": [],
   "source": [
    "dtN = MaxTime/iteration\n",
    "\n",
    "rows,cols,vals = a.mat.COO()\n",
    "Ah = sp.csr_matrix((vals,(rows,cols)))\n",
    "\n",
    "rows,cols,vals = m.mat.COO()\n",
    "Mh = sp.csr_matrix((vals,(rows,cols)))\n",
    "\n",
    "Fh = f.vec\n",
    "\n",
    "V = np.zeros([len(u_t_h.vec),numsnap])\n",
    "for i in range(numsnap):\n",
    "    V[:,i] = np.array(V_sb[i])"
   ]
  },
  {
   "cell_type": "code",
   "execution_count": 18,
   "metadata": {},
   "outputs": [],
   "source": [
    "MN = np.transpose(V).dot(Mh.dot(V))\n",
    "AN = np.transpose(V).dot(Ah.dot(V))\n",
    "fN = np.transpose(V).dot(Fh)\n",
    "\n",
    "\n",
    "mstar = m.mat.CreateMatrix()\n",
    "mstar.AsVector().data = m.mat.AsVector() + dtN * a.mat.AsVector()\n",
    "invmstar = mstar.Inverse(freedofs=fes.FreeDofs())\n",
    "\n",
    "\n",
    "uN = np.transpose(V).dot(ustart)\n",
    "\n",
    "res = u_t_h.vec.CreateVector()\n",
    "err = u_t_h.vec.CreateVector()\n",
    "\n",
    "\n",
    "Mstarh = MN + dtN*AN\n",
    "Mstarhinv = np.linalg.inv(Mstarh) \n",
    "\n",
    "\n",
    "Residium = []\n",
    "Time = []\n",
    "\n",
    "u_t_N.vec.FV().NumPy()[:] = ustart\n",
    "u_t_h.vec.FV().NumPy()[:] = ustart\n",
    "Draw(u_t_h,mesh,name = \"u_t_h\")\n",
    "Draw(u_t_N,mesh,name = \"u_t_N\")\n",
    "Draw(u_t_N-u_t_h,mesh,name = \"u_t_err\")"
   ]
  },
  {
   "cell_type": "code",
   "execution_count": 20,
   "metadata": {},
   "outputs": [
    {
     "ename": "AttributeError",
     "evalue": "'ngsolve.la.BaseMatrix' object has no attribute 'mat'",
     "output_type": "error",
     "traceback": [
      "\u001b[0;31m---------------------------------------------------------------------------\u001b[0m",
      "\u001b[0;31mAttributeError\u001b[0m                            Traceback (most recent call last)",
      "\u001b[0;32m<ipython-input-20-e0e6022b257a>\u001b[0m in \u001b[0;36m<module>\u001b[0;34m\u001b[0m\n\u001b[0;32m----> 1\u001b[0;31m \u001b[0mI\u001b[0m \u001b[0;34m=\u001b[0m \u001b[0mnp\u001b[0m\u001b[0;34m.\u001b[0m\u001b[0mtranspose\u001b[0m\u001b[0;34m(\u001b[0m\u001b[0mV\u001b[0m\u001b[0;34m)\u001b[0m\u001b[0;34m.\u001b[0m\u001b[0mdot\u001b[0m\u001b[0;34m(\u001b[0m\u001b[0minvmstar\u001b[0m\u001b[0;34m.\u001b[0m\u001b[0mmat\u001b[0m\u001b[0;34m.\u001b[0m\u001b[0mdot\u001b[0m\u001b[0;34m(\u001b[0m\u001b[0mV\u001b[0m\u001b[0;34m)\u001b[0m\u001b[0;34m)\u001b[0m\u001b[0;34m\u001b[0m\u001b[0;34m\u001b[0m\u001b[0m\n\u001b[0m",
      "\u001b[0;31mAttributeError\u001b[0m: 'ngsolve.la.BaseMatrix' object has no attribute 'mat'"
     ]
    }
   ],
   "source": [
    "I = np.transpose(V).dot(invmstar.mat.dot(V))"
   ]
  },
  {
   "cell_type": "code",
   "execution_count": null,
   "metadata": {},
   "outputs": [],
   "source": [
    "for i in range(iteration):\n",
    "    \n",
    "    res_N = fN-AN.dot(uN)\n",
    "    uN += dtN*Mstarhinv.dot(res_N)\n",
    "    new = (uN).dot(np.transpose(V))\n",
    "    \n",
    "    with TaskManager():\n",
    "        \n",
    "        res.data = dtN * f.vec - dtN * a.mat * u_t_h.vec\n",
    "        u_t_h.vec.data += invmstar * res               \n",
    "        u_t_N.vec.FV().NumPy()[:] = new\n",
    "        err.vec = sqrt (Integrate ((u_t_h-u_t_N)*(u_t_h-u_t_N),mesh))\n",
    "        Residium.append(err.vec)\n",
    "        Time.append(i*dtN)\n",
    "        Redraw()\n",
    "print(\"snap: \",numsnap,\"Norm_Res: \",np.linalg.norm(Residium))\n",
    "\n",
    "Norm_Residium.append(np.linalg.norm(Residium))\n",
    "plt.semilogy(Time,Residium,label=\"NumOfsnap: {} norm_Res {}\".format(numsnap,np.linalg.norm(Residium)))\n",
    "plt.xlabel(\"time\")\n",
    "plt.ylabel(\"err\")\n",
    "plt.grid()\n",
    "plt.legend()\n",
    "plt.savefig(\"total error {} {} VS\".format(numsnap,boundaries))"
   ]
  },
  {
   "cell_type": "code",
   "execution_count": null,
   "metadata": {},
   "outputs": [],
   "source": []
  },
  {
   "cell_type": "code",
   "execution_count": null,
   "metadata": {},
   "outputs": [],
   "source": []
  },
  {
   "cell_type": "code",
   "execution_count": null,
   "metadata": {},
   "outputs": [],
   "source": []
  }
 ],
 "metadata": {
  "kernelspec": {
   "display_name": "Python 3.7.5 64-bit",
   "language": "python",
   "name": "python37564bitb5f188b5fd4549769c9ea1e1a366fa0d"
  },
  "language_info": {
   "codemirror_mode": {
    "name": "ipython",
    "version": 3
   },
   "file_extension": ".py",
   "mimetype": "text/x-python",
   "name": "python",
   "nbconvert_exporter": "python",
   "pygments_lexer": "ipython3",
   "version": "3.7.5"
  }
 },
 "nbformat": 4,
 "nbformat_minor": 2
}
