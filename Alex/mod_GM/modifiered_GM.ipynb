{
 "cells": [
  {
   "cell_type": "code",
   "execution_count": null,
   "metadata": {},
   "outputs": [],
   "source": [
    "import numpy as np"
   ]
  },
  {
   "cell_type": "code",
   "execution_count": null,
   "metadata": {},
   "outputs": [],
   "source": [
    "def GM(A):\n",
    "    dim = A.shape[1]\n",
    "    q = A/np.linalg.norm(A[:,0])\n",
    "    for j in range(1,dim):\n",
    "        sum_mi = np.zeros(len(A))\n",
    "        for i in range(1,j+1):  \n",
    "            sum_mi = sum_mi - (q[:,j].dot(q[:,i-1]))*(q[:,i-1])\n",
    "            #print(sum_mi)\n",
    "        q[:,j] = q[:,j] + sum_mi\n",
    "        q[:,j] = q[:,j]/np.linalg.norm(q[:,j])\n",
    "    return q"
   ]
  },
  {
   "cell_type": "code",
   "execution_count": null,
   "metadata": {},
   "outputs": [],
   "source": [
    "def GM_mod(A):\n",
    "    dim = A.shape[1]\n",
    "    q = np.zeros([A.shape[0],A.shape[1]])\n",
    "    for j in range(dim):\n",
    "        q[:,j] = A[:,j]/np.linalg.norm(A[:,j])\n",
    "        for k in range(j+1,dim):\n",
    "            A[:,k] = my_vec_min(A[:,k],q[:,j].dot(A[:,k])*q[:,j])\n",
    "            #A[:,k] = A[:,k] - q[:,j].dot(A[:,k])*q[:,j]\n",
    "    return q"
   ]
  },
  {
   "cell_type": "code",
   "execution_count": null,
   "metadata": {},
   "outputs": [],
   "source": [
    "def my_vec_min(a,b):\n",
    "    c = np.zeros(len(a))\n",
    "    for i in range(len(a)):\n",
    "        c[i] = a[i]-b[i]\n",
    "    return c"
   ]
  },
  {
   "cell_type": "markdown",
   "metadata": {},
   "source": [
    "# some tests \n",
    "## simple matrix"
   ]
  },
  {
   "cell_type": "code",
   "execution_count": null,
   "metadata": {},
   "outputs": [],
   "source": [
    "A = np.array([[1,2,4],[0,0,5],[0,3,6]])\n",
    "print(\"simple Matrix:\")\n",
    "print(A)\n",
    "print(\" \")\n",
    "q_gm = GM(A)\n",
    "q_gm_m = GM_mod(A)\n",
    "#qr_gm_num,R_numpy = np.linalg.qr(A)\n",
    "print(\"controll for the simple GM:\")\n",
    "print(q_gm.T.dot(q_gm))\n",
    "print(\" \")\n",
    "print(\"controll for the simple mod_GM:\")\n",
    "print(q_gm_m.T.dot(q_gm_m))\n",
    "print(\" \")"
   ]
  },
  {
   "cell_type": "markdown",
   "metadata": {},
   "source": [
    "## rand matrix"
   ]
  },
  {
   "cell_type": "code",
   "execution_count": null,
   "metadata": {},
   "outputs": [],
   "source": [
    "n = 5400\n",
    "m = 20\n",
    "A_ran = np.random.rand(n,m)\n",
    "print(\"rand Matrix:\")\n",
    "print(A_ran)\n",
    "print(\" \")\n",
    "q_gm = GM(A_ran)\n",
    "q_gm_m = GM_mod(A_ran)\n",
    "qr_gm_num,R_numpy = np.linalg.qr(A_ran)\n",
    "print(\"controll for the simple GM:\")\n",
    "print(q_gm.T.dot(q_gm))\n",
    "print(\" \")\n",
    "print(\"controll for the simple mod_GM:\")\n",
    "print(q_gm_m.T.dot(q_gm_m))\n",
    "print(\" \")"
   ]
  },
  {
   "cell_type": "code",
   "execution_count": null,
   "metadata": {},
   "outputs": [],
   "source": [
    "print(\"mod: \",np.linalg.norm(np.eye(m)-q_gm_m.T.dot(q_gm_m)))\n",
    "print(\"simpl: \",np.linalg.norm(np.eye(m)-q_gm.T.dot(q_gm)))\n",
    "print(\"numpy: \",np.linalg.norm(np.eye(m)-qr_gm_num.T.dot(qr_gm_num)))\n",
    "#Q = MGS(A); % Less accumulation of round-off errors (MGS)\n",
    "#norm(eye(n)-Q'*Q)"
   ]
  },
  {
   "cell_type": "markdown",
   "metadata": {},
   "source": [
    "## bad condition matrix"
   ]
  },
  {
   "cell_type": "code",
   "execution_count": null,
   "metadata": {},
   "outputs": [],
   "source": [
    "from scipy.linalg import hilbert\n",
    "h = 500\n",
    "H_bc = np.eye(h)*0.0001+hilbert(h)\n",
    "print(\"rand Matrix:\")\n",
    "print(H_bc)\n",
    "print(\" \")\n",
    "q_gm = GM(H_bc)\n",
    "q_gm_m = GM_mod(H_bc)\n",
    "qr_gm_num,R_numpy = np.linalg.qr(H_bc)\n",
    "print(\"controll for the simple GM:\")\n",
    "print(q_gm.T.dot(q_gm))\n",
    "print(\" \")\n",
    "print(\"controll for the simple mod_GM:\")\n",
    "print(q_gm_m.T.dot(q_gm_m))\n",
    "print(\" \")"
   ]
  },
  {
   "cell_type": "code",
   "execution_count": null,
   "metadata": {},
   "outputs": [],
   "source": [
    "print(\"mod: \",np.linalg.norm(np.eye(h)-q_gm_m.T.dot(q_gm_m)))\n",
    "print(\"simpl: \",np.linalg.norm(np.eye(h)-q_gm.T.dot(q_gm)))\n",
    "print(\"numpy: \",np.linalg.norm(np.eye(h)-qr_gm_num.T.dot(qr_gm_num)))"
   ]
  },
  {
   "cell_type": "code",
   "execution_count": null,
   "metadata": {},
   "outputs": [],
   "source": []
  }
 ],
 "metadata": {
  "kernelspec": {
   "display_name": "Python 3.7.5 64-bit",
   "name": "python37564bitb5f188b5fd4549769c9ea1e1a366fa0d"
  },
  "language_info": {
   "codemirror_mode": {
    "name": "ipython",
    "version": 3
   },
   "file_extension": ".py",
   "mimetype": "text/x-python",
   "name": "python",
   "nbconvert_exporter": "python",
   "pygments_lexer": "ipython3",
   "version": "3.7.5-final"
  }
 },
 "nbformat": 4,
 "nbformat_minor": 2
}
