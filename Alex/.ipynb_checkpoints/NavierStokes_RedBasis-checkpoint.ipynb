{
 "cells": [
  {
   "cell_type": "markdown",
   "metadata": {},
   "source": [
    "# Navier Stokes Equation Reduced Basis Method \n",
    "Incompressible timedependet Navier Stokes equation\n",
    "\n",
    "Find $(u,p):[0,T] \\to (H_{0,D}^1)^d \\times L^2$, s.t.\n",
    "\n",
    "\\begin{align}\n",
    "\\int_{\\Omega} \\partial_t u \\cdot v + \\int_{\\Omega} \\nu \\nabla u \\nabla v + u \\cdot \\nabla u v - \\int_{\\Omega} \\operatorname{div}(v) p &= \\int f v  && \\forall v \\in (H_{0,D}^1)^d, \\\\ \n",
    "- \\int_{\\Omega} \\operatorname{div}(u) q &= 0 && \\forall q \\in L^2, \\\\\n",
    "\\quad u(t=0) & = u_0\n",
    "\\end{align}"
   ]
  },
  {
   "cell_type": "code",
   "execution_count": 1,
   "metadata": {},
   "outputs": [],
   "source": [
    "from netgen import gui\n",
    "from ngsolve import *\n",
    "from netgen.geom2d import SplineGeometry\n",
    "import scipy.sparse as sp\n",
    "import numpy as np\n",
    "from math import pi"
   ]
  },
  {
   "cell_type": "code",
   "execution_count": 2,
   "metadata": {},
   "outputs": [],
   "source": [
    "from netgen.geom2d import SplineGeometry\n",
    "geo = SplineGeometry()\n",
    "geo.AddRectangle( (0, 0), (2, 0.41), bcs = (\"wall\", \"outlet\", \"wall\", \"inlet\"))\n",
    "geo.AddCircle ( (0.2, 0.2), r=0.05, leftdomain=0, rightdomain=1, bc=\"cyl\")\n",
    "mesh = Mesh( geo.GenerateMesh(maxh=0.08))\n",
    "mesh.Curve(3)\n",
    "Draw(mesh)\n",
    "# viscosity\n",
    "nu = 0.001\n",
    "dt = 0.001\n",
    "\n",
    "T = 1\n",
    "dn = int(T/dt)\n",
    "z = 100  # Number of snapshots"
   ]
  },
  {
   "cell_type": "code",
   "execution_count": 3,
   "metadata": {},
   "outputs": [],
   "source": [
    "k = 3\n",
    "V = VectorH1(mesh,order=k, dirichlet=\"wall|cyl|inlet\")\n",
    "Q = H1(mesh,order=k-1)\n",
    "X = FESpace([V,Q])"
   ]
  },
  {
   "cell_type": "code",
   "execution_count": 4,
   "metadata": {},
   "outputs": [],
   "source": [
    "gfu_N = GridFunction(X)\n",
    "gfu = GridFunction(X)\n",
    "velocity = gfu.components[0]\n",
    "\n",
    "\n",
    "uin = CoefficientFunction((1.5*4*y*(0.41-y)/(0.41*0.41),0))\n",
    "gfu.components[0].Set(uin, definedon=mesh.Boundaries(\"inlet\"))\n",
    "\n",
    "Draw(gfu.components[0],mesh,\"gfu\",sd=3)"
   ]
  },
  {
   "cell_type": "code",
   "execution_count": 5,
   "metadata": {},
   "outputs": [],
   "source": [
    "(u,p), (v,q) = X.TnT()\n",
    "\n",
    "a = BilinearForm(X)\n",
    "stokes = (nu*InnerProduct(grad(u),grad(v))-div(u)*q-div(v)*p)*dx\n",
    "a += stokes\n",
    "a.Assemble()\n",
    "\n",
    "f = LinearForm(X)\n",
    "f.Assemble()\n",
    "\n",
    "inv_stokes = a.mat.Inverse(X.FreeDofs())\n",
    "\n",
    "res = f.vec.CreateVector()\n",
    "res.data = f.vec - a.mat*gfu.vec\n",
    "gfu.vec.data += inv_stokes * res"
   ]
  },
  {
   "cell_type": "code",
   "execution_count": 6,
   "metadata": {},
   "outputs": [],
   "source": [
    "# matrix for implicit part of IMEX(1) scheme:\n",
    "mstar = BilinearForm(X)\n",
    "\n",
    "mstar += InnerProduct(u,v)*dx + dt*stokes\n",
    "\n",
    "mstar.Assemble()\n",
    "\n",
    "mh = BilinearForm(X)\n",
    "\n",
    "mh += InnerProduct(u,v)*dx\n",
    "mh.Assemble()\n",
    "\n",
    "inv = mstar.mat.Inverse(X.FreeDofs())\n",
    "\n",
    "\n",
    "conv = LinearForm(X)\n",
    "conv += InnerProduct(grad(velocity)*velocity,v)*dx"
   ]
  },
  {
   "cell_type": "code",
   "execution_count": 7,
   "metadata": {},
   "outputs": [],
   "source": [
    "rows,cols,vals = a.mat.COO()\n",
    "Ah = sp.csr_matrix((vals,(rows,cols)))\n",
    "Fh = f.vec\n",
    "rows,cols,vals = mh.mat.COO()\n",
    "Mh = sp.csr_matrix((vals,(rows,cols)))"
   ]
  },
  {
   "cell_type": "code",
   "execution_count": 8,
   "metadata": {},
   "outputs": [],
   "source": [
    "t = 0\n",
    "tend = 0\n",
    "erg_h = np.zeros([len(gfu.vec),int(dn)+1])\n",
    "conv_h = np.zeros([len(gfu.vec),int(dn)])\n",
    "V = np.zeros([len(gfu.vec),z]) # creat the orthogonal transformationsmatrix for the reducebasis method\n",
    "line = np.linspace(0,dn-1,z) # stors the number of linear distributed number of iteration from the solution\n",
    "S_POD = np.zeros([len(gfu.vec),z])\n",
    "#line = np.linspace(0,z,z) # stors the number of linear distributed number of iteration from the solution\n",
    "#line"
   ]
  },
  {
   "cell_type": "markdown",
   "metadata": {},
   "source": [
    "$\n",
    "M\\bigg(\\frac{u^{n+1}-u^n}{k}\\bigg) + A u^{n+1} +C u^{n} = 0\n",
    "$\n",
    "\n",
    "$\n",
    "M^*\\bigg(u^{n+1}-u^n\\bigg) = -\\Delta t A u^n - \\Delta t Cu^n\n",
    "$\n",
    "\n",
    "$\n",
    "M^* = M + \\Delta tA \n",
    "$"
   ]
  },
  {
   "cell_type": "code",
   "execution_count": 9,
   "metadata": {},
   "outputs": [],
   "source": [
    "# implicit Euler/explicit Euler splitting method:\n",
    "V_sb = MultiVector(gfu.vec, 1)\n",
    "V_sb[0] = gfu.vec\n",
    "#V[:,0] = np.array(V_sb[0])\n",
    "V[:,0] = np.array(V_sb[0])/np.linalg.norm(np.array(V_sb[0]))\n",
    "erg_h[:,0] = gfu.vec\n",
    "S_POD[:,0] = gfu.vec\n",
    "tend += 1\n",
    "o = 1\n",
    "e = int(line[o])\n",
    "for i in range(int(dn)):\n",
    "    conv.Assemble()\n",
    "    res.data = a.mat * gfu.vec + conv.vec\n",
    "    gfu.vec.data -= dt * inv * res\n",
    "    \n",
    "    for r in line:\n",
    "        if int(r) == i: #desided which solution will be orthogonalirsed\n",
    "            if i > 0:\n",
    "                with TaskManager():\n",
    "                    V_sb.AppendOrthogonalize(gfu.vec)\n",
    "                V[:,o] = np.array(V_sb[o])\n",
    "                S_POD[:,o] = gfu.vec\n",
    "                o = o + 1\n",
    "    erg_h[:,i+1] = gfu.vec #stores the solution for comparing later\n",
    "    t = t + dt\n",
    "    Redraw()"
   ]
  },
  {
   "cell_type": "markdown",
   "metadata": {},
   "source": [
    "## POD method\n",
    "A other way to get the transforamtions matrix is the POD method.\n",
    "gifen $S = \\{u_h^0,u_h^1,...u_h^{r-1}\\}$ where $r$ ist the number of snapshots.\n",
    "\n",
    "$\n",
    "C_P = S^TS\\\\\n",
    "C \\in \n",
    "$\n",
    "\n",
    "and solve the eigenwalueproblem\n",
    "\n",
    "$\n",
    "C_P\\Omega = \\Omega\\Lambda\\\\\n",
    "d\\Lambda = diag[\\lambda_0,...,\\lambda_{r-1}], \\Omega = [\\omega^0,...,\\omega^{r-1}]\n",
    "$\n",
    "\n",
    "$\\lambda_i$ is the $i$th eigenvalue and $\\omega^i$ is the corresponding normalized $i$th eigenvector\n",
    "\n",
    "$\n",
    "\\phi_j = \\frac{1}{\\sqrt{\\lambda_j}}S\\omega_j\n",
    "$\n",
    "To get a orthogonal basis $V = \\{\\phi_0,...\\phi_{r-1}\\}$"
   ]
  },
  {
   "cell_type": "code",
   "execution_count": null,
   "metadata": {},
   "outputs": [],
   "source": [
    "#def POD(S):\n",
    "   # V = np.zeros([len(gfu.vec),z])\n",
    "   # \n",
    "   # #splitting the snapshotsolution like in the paper\n",
    "   # for i in range(S.shape[1]):\n",
    "   #     S[:,i] = S[:,i] - 1/S.shape[0] * np.sum(S[:,i])\n",
    "   # \n",
    "   # if S.shape[1] <= S.shape[0]:\n",
    "   #     C = np.transpose(S).dot(S)\n",
    "   #     U, Sig, VH = np.linalg.svd(C, full_matrices=True)\n",
    "   #     print(len(VH))\n",
    "   #     VH = np.transpose(VH)\n",
    "   #     for i in range(C.shape[1]):\n",
    "   #         V[:,i] = 1/np.sqrt(Sig[i]) * S.dot(VH[:,i])\n",
    "   #     \n",
    "   #     \n",
    "   # return V,Sig"
   ]
  },
  {
   "cell_type": "markdown",
   "metadata": {},
   "source": [
    "## POD method\n",
    "A other way to get the transforamtions matrix is the POD method.\n",
    "gifen $S = \\{u_h^0,u_h^1,...u_h^{r-1}\\}$ where $r$ ist the number of snapshots.\n",
    "\n",
    "$\n",
    "C_P = S^TS\\\\\n",
    "$\n",
    "\n",
    "and solve the eigenwalueproblem\n",
    "\n",
    "$\n",
    "C_P\\Omega = \\Omega\\Lambda\\\\\n",
    "d\\Lambda = diag[\\lambda_0,...,\\lambda_{r-1}], \\Omega = [\\omega^0,...,\\omega^{r-1}]\n",
    "$\n",
    "\n",
    "$\\lambda_i$ is the $i$th eigenvalue and $\\omega^i$ is the corresponding normalized $i$th eigenvector\n",
    "\n",
    "$\n",
    "\\phi_j = \\frac{1}{\\sqrt{\\lambda_j}}\\sum_{n=0}^{r-1}\\omega^j_nu_h^n\n",
    "$\n",
    "\n",
    "To get a orthogonal basis $V = \\{\\phi_0,...\\phi_{r-1}\\}$"
   ]
  },
  {
   "cell_type": "code",
   "execution_count": 18,
   "metadata": {},
   "outputs": [
    {
     "data": {
      "text/plain": [
       "array([[-0.00983909, -0.00745104, -0.00798172, ...,  0.0099053 ,\n",
       "         0.00770255,  0.00514788],\n",
       "       [-0.00983909, -0.00745104, -0.00798172, ...,  0.0099053 ,\n",
       "         0.00770255,  0.00514788],\n",
       "       [-0.00983909, -0.00745104, -0.00798172, ...,  0.0099053 ,\n",
       "         0.00770255,  0.00514788],\n",
       "       ...,\n",
       "       [-0.00980188,  0.01208737,  0.0085405 , ..., -0.28925238,\n",
       "         0.15358225,  0.68669455],\n",
       "       [-0.01125101, -0.03692371, -0.06979221, ..., -0.14002966,\n",
       "        -0.14280002, -0.1460511 ],\n",
       "       [-0.0103478 ,  0.07329784,  0.03721574, ..., -0.06429499,\n",
       "        -0.0655593 , -0.06719444]])"
      ]
     },
     "execution_count": 18,
     "metadata": {},
     "output_type": "execute_result"
    }
   ],
   "source": [
    "r = 6\n",
    "S = S_POD\n",
    "ubar = np.zeros(r)\n",
    "for i in range(S_POD.shape[1]):\n",
    "    if i < r:\n",
    "        ubar[i] = 1/S.shape[0] * np.sum(S[:,i])\n",
    "        #print(S[:,i])\n",
    "    S[:,i] = S[:,i] - 1/S.shape[0] * np.sum(S[:,i])\n",
    "S    \n"
   ]
  },
  {
   "cell_type": "code",
   "execution_count": 14,
   "metadata": {},
   "outputs": [],
   "source": [
    "def POD_pap(S,r):\n",
    "    V = np.zeros([r,r])\n",
    "    ubar = np.zeros(r)\n",
    "    #splitting the snapshotsolution like in the paper\n",
    "    print(S[0:4,0:4])\n",
    "    for i in range(S.shape[1]):\n",
    "        if i < r:\n",
    "            ubar[i] = 1/S.shape[0] * np.sum(S[:,i])\n",
    "            #print(S[:,i])\n",
    "        S[:,i] = S[:,i] - 1/S.shape[0] * np.sum(S[:,i])\n",
    "    print(\" \")    \n",
    "    print(S[0:4,0:4],- 1/S.shape[0] * np.sum(S[:,i]))    \n",
    "    \n",
    "    if S.shape[1] <= S.shape[0]:\n",
    "        C = np.transpose(S).dot(S)\n",
    "        U, Sig, VH = np.linalg.svd(C, full_matrices=True)\n",
    "        print(S[0:2,0:6])\n",
    "        VH = np.transpose(VH)\n",
    "        S_N[0:r,0:r] = S[0:r,0:r]\n",
    "        #print(S_N)\n",
    "        for j in range(r):\n",
    "            for i in range(r):\n",
    "                V[:,j] += VH[i,j]*S_N[:,i]\n",
    "            V[:,j] = 1/np.sqrt(Sig[j]) * V[:,j]\n",
    "            \n",
    "        #for i in range(S_N.shape[1]):\n",
    "        #    V[:,i] = 1/np.sqrt(Sig[i]) * S_N.dot(VH_N[:,i])\n",
    "        \n",
    "        \n",
    "    return V,Sig,ubar"
   ]
  },
  {
   "cell_type": "code",
   "execution_count": null,
   "metadata": {},
   "outputs": [],
   "source": [
    "r = 6\n",
    "V,Sig,ubar = POD_pap(S_POD,r)\n",
    "print(V[:,0].dot(V[:,r-1]))\n",
    "ubar"
   ]
  },
  {
   "cell_type": "code",
   "execution_count": null,
   "metadata": {},
   "outputs": [],
   "source": [
    "print(V[:,0].dot(V[:,1]))\n",
    "ubar"
   ]
  },
  {
   "cell_type": "markdown",
   "metadata": {},
   "source": [
    "# Offline decomposition\n",
    "\n",
    "$C_h(\\omega,u,v) = \\int_K(\\omega \\otimes u): \\nabla v$\n",
    "\n",
    "$C0_j = C_h(\\bar{u}_h,\\bar{u}_h,\\phi_j)$\n",
    "\n",
    "$\\bar{u}_h = \\frac{1}{S}\\sum_{n=0}^{S-1}u_h^n$ is the mean walue "
   ]
  },
  {
   "cell_type": "code",
   "execution_count": null,
   "metadata": {},
   "outputs": [],
   "source": [
    "C0 = np.zeros(r)\n",
    "w = ubar\n",
    "u = w \n",
    "for i in range(r):\n",
    "    v = V[:,i]\n",
    "    print(v)\n",
    "    print(np.gradient(v))\n",
    "    C0[i] = np.linalg.norm(np.inner(np.outer(w,u),np.gradient(v)))\n",
    "#w = \n",
    "#v = np.array([1,0,-2,2,1,3])\n",
    "#w = np.array([[3],[0],[-1],[-2],[1],[-3]])\n",
    "#u = np.array([[-3],[5],[-1],[-2],[-1],[-3]])\n",
    "#np.inner(np.outer(w,u),np.gradient(v))\n",
    "#np.gradient(v)"
   ]
  },
  {
   "cell_type": "code",
   "execution_count": null,
   "metadata": {},
   "outputs": [],
   "source": [
    "C0"
   ]
  },
  {
   "cell_type": "markdown",
   "metadata": {},
   "source": [
    "$\n",
    "M_N = V^TMV\\\\\n",
    "A_N = V^TAV\n",
    "$"
   ]
  },
  {
   "cell_type": "code",
   "execution_count": null,
   "metadata": {},
   "outputs": [],
   "source": [
    "MN = np.transpose(V).dot(Mh.dot(V))\n",
    "AN = np.transpose(V).dot(Ah.dot(V))"
   ]
  },
  {
   "cell_type": "code",
   "execution_count": null,
   "metadata": {},
   "outputs": [],
   "source": [
    "gfu_N.vec.FV().NumPy()[:] = erg_h[:,0]\n",
    "gfu.vec.FV().NumPy()[:] = erg_h[:,0]\n",
    "\n",
    "uN = np.array(gfu_N.vec).dot(V)\n",
    "velocity_N = gfu_N.components[0]\n",
    "Draw(gfu_N.components[0],mesh,\"gfu_N\",sd=3)\n",
    "Draw(gfu_N.components[0]-gfu.components[0],mesh,\"error\",sd=3)\n",
    "err = res.CreateVector()\n",
    "fom = res.CreateVector()\n",
    "rom = res.CreateVector()"
   ]
  },
  {
   "cell_type": "code",
   "execution_count": null,
   "metadata": {},
   "outputs": [],
   "source": [
    "conv = LinearForm(X)\n",
    "conv += InnerProduct(grad(velocity_N)*velocity_N,v)*dx"
   ]
  },
  {
   "cell_type": "code",
   "execution_count": null,
   "metadata": {},
   "outputs": [],
   "source": [
    "v_N = GridFunction(Q)\n",
    "v_N = res.CreateVector()\n",
    "v_N.FV().NumPy()[:] = V[:,0]\n",
    "Grad(v_N)\n"
   ]
  },
  {
   "cell_type": "markdown",
   "metadata": {},
   "source": [
    "For the reduce IMEX solver we use the reduce matrixes. Where $C_N = V^TC$ to do it in every iteration step, $k = \\Delta t$\n",
    "\n",
    "$\n",
    "M_N\\bigg(\\frac{u_N^{n+1}-u_N^n}{k}\\bigg) + A_N u_N^{n+1} +C_N u_N^{n} = 0\n",
    "$\n",
    "\n",
    "$\n",
    "M_N^*\\bigg(u_N^{n+1}-u_N^n\\bigg) = -k A_N u_N^n - k C_Nu_N^n\n",
    "$\n",
    "\n",
    "$\n",
    "M_N^* = M_N + kA_N \n",
    "$"
   ]
  },
  {
   "cell_type": "code",
   "execution_count": null,
   "metadata": {},
   "outputs": [],
   "source": [
    "dt = 1/int(z)"
   ]
  },
  {
   "cell_type": "code",
   "execution_count": null,
   "metadata": {},
   "outputs": [],
   "source": [
    "Residium = []\n",
    "FOM_L2_norm = []\n",
    "ROM_L2_norm = []\n",
    "time = []\n",
    "erg_N = np.zeros([len(gfu_N.vec),int(dn)+1])\n",
    "erg_N[:,0] = gfu_N.vec\n",
    "\n",
    "MN_star = MN + dt*AN\n",
    "inv_N = np.linalg.inv(MN_star)\n",
    "for i in range(int(dn)):\n",
    "    err.vec = sqrt (Integrate ((gfu.components[0]-gfu_N.components[0])*(gfu.components[0]-gfu_N.components[0]),mesh))\n",
    "    fom.vec = Integrate ((gfu.components[0])*(gfu.components[0]),mesh)\n",
    "    rom.vec = Integrate ((gfu_N.components[0])*(gfu_N.components[0]),mesh)\n",
    "    \n",
    "    \n",
    "    \n",
    "    conv.Assemble()\n",
    "    conv_N = np.transpose(V).dot(conv.vec)\n",
    "    res_N = AN.dot(uN) + conv_N\n",
    "    uN -= dt * inv_N.dot(res_N)\n",
    "    erg_N[:,i+1] = (uN).dot(np.transpose(V))\n",
    "    \n",
    "    \n",
    "    gfu.vec.FV().NumPy()[:] = erg_h[:,i+1]\n",
    "    velocity_N = gfu_N.components[0]\n",
    "    gfu_N.vec.FV().NumPy()[:] = (uN).dot(np.transpose(V))\n",
    "    FOM_L2_norm.append(fom.vec)\n",
    "    ROM_L2_norm.append(rom.vec)\n",
    "    Residium.append(err.vec)\n",
    "    time.append(dt*i)\n",
    "    Redraw()"
   ]
  },
  {
   "cell_type": "markdown",
   "metadata": {},
   "source": [
    "$G = \\nu B$\n",
    "\n",
    "$\n",
    "\\big(\\frac{Id}{k} + \\frac{1}{2}G\\big)a^{n+1} = a - \\big(Ca^n + \\frac{1}{2}Ga^n\\big)\n",
    "$\n",
    "\n",
    "$\n",
    "M^* = \\frac{Id}{k} + \\frac{1}{2}G\n",
    "$"
   ]
  },
  {
   "cell_type": "code",
   "execution_count": null,
   "metadata": {},
   "outputs": [],
   "source": [
    "#Residium = []\n",
    "#FOM_L2_norm = []\n",
    "#ROM_L2_norm = []\n",
    "#time = []\n",
    "#erg_N = np.zeros([len(gfu_N.vec),int(dn)+1])\n",
    "#erg_N[:,0] = gfu_N.vec\n",
    "#I = np.eye(z)\n",
    "\n",
    "#MN_star = 1/dt + 0.5*AN\n",
    "#inv_N = np.linalg.inv(MN_star)\n",
    "#for i in range(int(dn)):\n",
    "#    err.vec = sqrt (Integrate ((gfu.components[0]-gfu_N.components[0])*(gfu.components[0]-gfu_N.components[0]),mesh))\n",
    "#    fom.vec = Integrate ((gfu.components[0])*(gfu.components[0]),mesh)\n",
    "#    rom.vec = Integrate ((gfu_N.components[0])*(gfu_N.components[0]),mesh)\n",
    "#    conv.Assemble()\n",
    "#    conv_N = np.transpose(V).dot(conv.vec)\n",
    "#    res_N = AN.dot(uN) + conv_N + (I/dt).dot(uN) - uN\n",
    "#    uN -= inv_N.dot(res_N)\n",
    "#    erg_N[:,i+1] = (uN).dot(np.transpose(V))\n",
    "#    gfu.vec.FV().NumPy()[:] = erg_h[:,i+1]\n",
    "#    velocity_N = gfu_N.components[0]\n",
    "#    gfu_N.vec.FV().NumPy()[:] = (uN).dot(np.transpose(V))\n",
    "#    FOM_L2_norm.append(fom.vec)\n",
    "#    ROM_L2_norm.append(rom.vec)\n",
    "#    Residium.append(err.vec)\n",
    "#    time.append(dt*i)\n",
    "#    Redraw()"
   ]
  },
  {
   "cell_type": "code",
   "execution_count": null,
   "metadata": {},
   "outputs": [],
   "source": [
    "import matplotlib.pyplot as plt\n",
    "plt.title(\"Total error {} dt {}\".format(z,dt))\n",
    "plt.ylabel(\"error\")\n",
    "plt.xlabel(\"time [s]\")\n",
    "plt.grid()\n",
    "plt.semilogy(time,Residium, label='Residium')\n",
    "plt.legend()\n",
    "plt.savefig(\"plots/Total error {} dt POD\".format(z))"
   ]
  },
  {
   "cell_type": "code",
   "execution_count": null,
   "metadata": {},
   "outputs": [],
   "source": [
    "FOM_L2_norm = []\n",
    "ROM_L2_norm = []\n",
    "Residium_N = []\n",
    "for i in range(int(dn)):\n",
    "    sum_h = sum(erg_h[:,i])\n",
    "    sum_N = sum(erg_N[:,i])\n",
    "    FOM_L2_norm.append(np.abs(sum_h*sum_h))\n",
    "    ROM_L2_norm.append(np.abs(sum_N*sum_h))\n",
    "    red = sum_N-sum_h\n",
    "    Residium_N.append(np.sqrt(np.abs(red*red)))"
   ]
  },
  {
   "cell_type": "code",
   "execution_count": null,
   "metadata": {},
   "outputs": [],
   "source": [
    "plt.title(\"absolut velositiy {} dt {}\".format(z,dt))\n",
    "plt.ylabel(\"|u|\")\n",
    "plt.xlabel(\"time [s]\")\n",
    "plt.grid()\n",
    "plt.semilogy(time,FOM_L2_norm, label='FOM_L2_norm')\n",
    "plt.semilogy(time,ROM_L2_norm, label='ROM_L2_norm')\n",
    "plt.legend()\n",
    "plt.savefig(\"plots/absolut velositiy {}\".format(z))"
   ]
  },
  {
   "cell_type": "code",
   "execution_count": null,
   "metadata": {},
   "outputs": [],
   "source": [
    "plt.title(\"total error velositiy {} dt {}\".format(z,dt))\n",
    "plt.ylabel(\"error\")\n",
    "plt.xlabel(\"time [s]\")\n",
    "plt.grid()\n",
    "plt.semilogy(time,Residium_N, label='Residium_N')\n",
    "plt.legend()\n",
    "plt.savefig(\"plots/total error velositiy {}\".format(z))"
   ]
  },
  {
   "cell_type": "markdown",
   "metadata": {},
   "source": [
    "### Input from the paper\n",
    "$(u \\cdot \\nabla u)_k = \\big(\\sum_i u_i \\frac{\\partial}{\\partial x_i}\\big)u_k = \\sum_i\\frac{\\partial}{\\partial x_i}(u_iu_k) = [\\nabla \\cdot (u \\otimes u)]_k$\n",
    "\n",
    "$C_h(\\omega,u,v) = \\int_\\Omega div(\\omega \\otimes u)v$\n",
    "\n",
    "after integration by parts\n",
    "\n",
    "$C_h(\\omega,u,v) = \\int_\\Omega (\\omega \\otimes u)\\nabla v$\n",
    "\n",
    "$(17)$ Burger Equation\n",
    "\n",
    "$\\frac{\\partial a_j}{\\partial t} + C0_j + C1_{ij}a_j + C_{ikj}a_ia_k + \\nu B_{ij}a_i = 0$\n",
    "\n",
    "$G = C0_j + C1_{ij}a_j + C_{ikj}a_ia_k + \\nu B0_j$\n",
    "\n",
    "$M\\bigg(\\frac{a^n - a^{n-1}}{k}\\bigg) + G + \\frac{1}{2}\\bigg(Aa^n + Aa^{n-1}\\bigg) = 0$\n",
    "\n",
    "$\\bigg(\\frac{M}{k} + \\frac{1}{2}Aa^n\\bigg)a^n = \\frac{M}{k}a^{n-1} - G - \\frac{1}{2}Aa^{n-1}$\n",
    "\n",
    "in the paper:\n",
    "\n",
    "$\\bigg(\\frac{M}{k} + \\frac{1}{2}Aa^n\\bigg)a^n = a^{n-1} - G - \\frac{1}{2}Aa^{n-1}$"
   ]
  },
  {
   "cell_type": "code",
   "execution_count": null,
   "metadata": {},
   "outputs": [],
   "source": [
    "gfu_N = GridFunction(100)"
   ]
  },
  {
   "cell_type": "code",
   "execution_count": null,
   "metadata": {},
   "outputs": [],
   "source": [
    "help(Grad)"
   ]
  },
  {
   "cell_type": "code",
   "execution_count": null,
   "metadata": {},
   "outputs": [],
   "source": [
    "A = np.array([[1,1,1],[2,2,2],[3,3,3]])\n",
    "B = np.array([[1,2,1],[2,2,2],[3,3,3]])\n",
    "C = np.outer(A,B)\n",
    "D = np.inner(C,C)"
   ]
  },
  {
   "cell_type": "code",
   "execution_count": null,
   "metadata": {},
   "outputs": [],
   "source": [
    "np.linalg.norm(D)"
   ]
  },
  {
   "cell_type": "code",
   "execution_count": null,
   "metadata": {},
   "outputs": [],
   "source": [
    "A"
   ]
  },
  {
   "cell_type": "code",
   "execution_count": null,
   "metadata": {},
   "outputs": [],
   "source": [
    "print(A[0:2,0:2])"
   ]
  },
  {
   "cell_type": "code",
   "execution_count": null,
   "metadata": {},
   "outputs": [],
   "source": []
  }
 ],
 "metadata": {
  "kernelspec": {
   "display_name": "Python 3",
   "language": "python",
   "name": "python3"
  },
  "language_info": {
   "codemirror_mode": {
    "name": "ipython",
    "version": 3
   },
   "file_extension": ".py",
   "mimetype": "text/x-python",
   "name": "python",
   "nbconvert_exporter": "python",
   "pygments_lexer": "ipython3",
   "version": "3.7.5"
  }
 },
 "nbformat": 4,
 "nbformat_minor": 4
}
