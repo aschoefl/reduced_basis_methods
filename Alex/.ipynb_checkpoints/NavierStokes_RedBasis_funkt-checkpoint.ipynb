{
 "cells": [
  {
   "cell_type": "markdown",
   "metadata": {},
   "source": [
    "# Navier Stokes Equation Reduced Basis Method \n",
    "Incompressible timedependet Navier Stokes equation\n",
    "\n",
    "Find $(u,p):[0,T] \\to (H_{0,D}^1)^d \\times L^2$, s.t.\n",
    "\n",
    "\\begin{align}\n",
    "\\int_{\\Omega} \\partial_t u \\cdot v + \\int_{\\Omega} \\nu \\nabla u \\nabla v + u \\cdot \\nabla u v - \\int_{\\Omega} \\operatorname{div}(v) p &= \\int f v  && \\forall v \\in (H_{0,D}^1)^d, \\\\ \n",
    "- \\int_{\\Omega} \\operatorname{div}(u) q &= 0 && \\forall q \\in L^2, \\\\\n",
    "\\quad u(t=0) & = u_0\n",
    "\\end{align}"
   ]
  },
  {
   "cell_type": "code",
   "execution_count": 1,
   "metadata": {},
   "outputs": [],
   "source": [
    "from netgen import gui\n",
    "from ngsolve import *\n",
    "from netgen.geom2d import SplineGeometry\n",
    "import scipy.sparse as sp\n",
    "import numpy as np\n",
    "from math import pi"
   ]
  },
  {
   "cell_type": "code",
   "execution_count": 42,
   "metadata": {},
   "outputs": [],
   "source": [
    "from netgen.geom2d import SplineGeometry\n",
    "geo = SplineGeometry()\n",
    "geo.AddRectangle( (0, 0), (2, 0.41), bcs = (\"wall\", \"outlet\", \"wall\", \"inlet\"))\n",
    "geo.AddCircle ( (0.2, 0.2), r=0.05, leftdomain=0, rightdomain=1, bc=\"cyl\")\n",
    "mesh = Mesh( geo.GenerateMesh(maxh=0.08))\n",
    "mesh.Curve(3)\n",
    "Draw(mesh)\n",
    "# viscosity\n",
    "nu = 0.001\n",
    "dt = 0.001\n",
    "\n",
    "T = 1\n",
    "dn = int(T/dt)\n",
    "z = 170  # Number of snapshots"
   ]
  },
  {
   "cell_type": "code",
   "execution_count": 43,
   "metadata": {},
   "outputs": [],
   "source": [
    "k = 3\n",
    "V = VectorH1(mesh,order=k, dirichlet=\"wall|cyl|inlet\")\n",
    "Q = H1(mesh,order=k-1)\n",
    "X = FESpace([V,Q])"
   ]
  },
  {
   "cell_type": "code",
   "execution_count": 44,
   "metadata": {},
   "outputs": [],
   "source": [
    "gfu_N = GridFunction(X)\n",
    "gfu = GridFunction(X)\n",
    "velocity = gfu.components[0]\n",
    "\n",
    "\n",
    "uin = CoefficientFunction((1.5*4*y*(0.41-y)/(0.41*0.41),0))\n",
    "gfu.components[0].Set(uin, definedon=mesh.Boundaries(\"inlet\"))\n",
    "\n",
    "Draw(gfu.components[0],mesh,\"gfu\",sd=3)"
   ]
  },
  {
   "cell_type": "code",
   "execution_count": 45,
   "metadata": {},
   "outputs": [],
   "source": [
    "(u,p), (v,q) = X.TnT()\n",
    "\n",
    "a = BilinearForm(X)\n",
    "stokes = (nu*InnerProduct(grad(u),grad(v))-div(u)*q-div(v)*p)*dx\n",
    "a += stokes\n",
    "a.Assemble()\n",
    "\n",
    "f = LinearForm(X)\n",
    "f.Assemble()\n",
    "\n",
    "inv_stokes = a.mat.Inverse(X.FreeDofs())\n",
    "\n",
    "res = f.vec.CreateVector()\n",
    "res.data = f.vec - a.mat*gfu.vec\n",
    "gfu.vec.data += inv_stokes * res"
   ]
  },
  {
   "cell_type": "code",
   "execution_count": 46,
   "metadata": {},
   "outputs": [],
   "source": [
    "# matrix for implicit part of IMEX(1) scheme:\n",
    "mstar = BilinearForm(X)\n",
    "\n",
    "mstar += InnerProduct(u,v)*dx + dt*stokes\n",
    "\n",
    "mstar.Assemble()\n",
    "\n",
    "mh = BilinearForm(X)\n",
    "\n",
    "mh += InnerProduct(u,v)*dx\n",
    "mh.Assemble()\n",
    "\n",
    "inv = mstar.mat.Inverse(X.FreeDofs())\n",
    "\n",
    "\n",
    "conv = LinearForm(X)\n",
    "conv += InnerProduct(grad(velocity)*velocity,v)*dx"
   ]
  },
  {
   "cell_type": "code",
   "execution_count": 47,
   "metadata": {},
   "outputs": [],
   "source": [
    "rows,cols,vals = a.mat.COO()\n",
    "Ah = sp.csr_matrix((vals,(rows,cols)))\n",
    "Fh = f.vec\n",
    "rows,cols,vals = mh.mat.COO()\n",
    "Mh = sp.csr_matrix((vals,(rows,cols)))"
   ]
  },
  {
   "cell_type": "code",
   "execution_count": 48,
   "metadata": {},
   "outputs": [],
   "source": [
    "t = 0\n",
    "tend = 0\n",
    "erg_h = np.zeros([len(gfu.vec),int(dn)+1])\n",
    "conv_h = np.zeros([len(gfu.vec),int(dn)])\n",
    "V = np.zeros([len(gfu.vec),z]) # creat the orthogonal transformationsmatrix for the reducebasis method\n",
    "line = np.linspace(0,dn-1,z) # stors the number of linear distributed number of iteration from the solution\n",
    "S_POD = np.zeros([len(gfu.vec),z])\n",
    "#line = np.linspace(0,z,z) # stors the number of linear distributed number of iteration from the solution\n",
    "#line"
   ]
  },
  {
   "cell_type": "markdown",
   "metadata": {},
   "source": [
    "$\n",
    "M\\bigg(\\frac{u^{n+1}-u^n}{k}\\bigg) + A u^{n+1} +C u^{n} = 0\n",
    "$\n",
    "\n",
    "$\n",
    "M^*\\bigg(u^{n+1}-u^n\\bigg) = -\\Delta t A u^n - \\Delta t Cu^n\n",
    "$\n",
    "\n",
    "$\n",
    "M^* = M + \\Delta tA \n",
    "$"
   ]
  },
  {
   "cell_type": "code",
   "execution_count": 49,
   "metadata": {},
   "outputs": [],
   "source": [
    "# implicit Euler/explicit Euler splitting method:\n",
    "V_sb = MultiVector(gfu.vec, 1)\n",
    "V_sb[0] = gfu.vec\n",
    "#V[:,0] = np.array(V_sb[0])\n",
    "V[:,0] = np.array(V_sb[0])/np.linalg.norm(np.array(V_sb[0]))\n",
    "erg_h[:,0] = gfu.vec\n",
    "S_POD[:,0] = gfu.vec\n",
    "tend += 1\n",
    "o = 1\n",
    "e = int(line[o])\n",
    "for i in range(int(dn)):\n",
    "    conv.Assemble()\n",
    "    res.data = a.mat * gfu.vec + conv.vec\n",
    "    gfu.vec.data -= dt * inv * res\n",
    "    \n",
    "    for r in line:\n",
    "        if int(r) == i: #desided which solution will be orthogonalirsed\n",
    "            if i > 0:\n",
    "                #with TaskManager():\n",
    "                #    V_sb.AppendOrthogonalize(gfu.vec)\n",
    "                #V[:,o] = np.array(V_sb[o])\n",
    "                S_POD[:,o] = gfu.vec\n",
    "                o = o + 1\n",
    "    erg_h[:,i+1] = gfu.vec #stores the solution for comparing later\n",
    "    t = t + dt\n",
    "    Redraw()"
   ]
  },
  {
   "cell_type": "markdown",
   "metadata": {},
   "source": [
    "## POD method\n",
    "A other way to get the transforamtions matrix is the POD method.\n",
    "gifen $S = \\{u_h^0,u_h^1,...u_h^{r-1}\\}$ where $r$ ist the number of snapshots.\n",
    "\n",
    "$\n",
    "C_P = S^TS\\\\\n",
    "C \\in \n",
    "$\n",
    "\n",
    "and solve the eigenwalueproblem\n",
    "$\n",
    "C_P\\Omega = \\Omega\\Lambda\n",
    "$\n",
    "\n",
    "$\n",
    "\\phi_j = \\frac{1}{\\sqrt{\\lambda_j}}S\\omega_j\n",
    "$\n",
    "To get a orthogonal basis $V = \\{\\phi_0,...\\phi_{r-1}\\}$"
   ]
  },
  {
   "cell_type": "code",
   "execution_count": 50,
   "metadata": {},
   "outputs": [],
   "source": [
    "def POD(S):\n",
    "    V = np.zeros([len(gfu.vec),z])\n",
    "    \n",
    "    #splitting the snapshotsolution like in the paper\n",
    "    #for i in range(S.shape[1]):\n",
    "    #    S[:,i] = S[:,i] - 1/S.shape[0] * np.sum(S[:,i])\n",
    "    \n",
    "    if S.shape[1] <= S.shape[0]:\n",
    "        C = np.transpose(S).dot(S)\n",
    "        U, Sig, VH = np.linalg.svd(C, full_matrices=True)\n",
    "        VH = np.transpose(VH)\n",
    "        for i in range(C.shape[1]):\n",
    "            V[:,i] = 1/np.sqrt(Sig[i]) * S.dot(VH[:,i])\n",
    "        \n",
    "        \n",
    "    return V"
   ]
  },
  {
   "cell_type": "code",
   "execution_count": 51,
   "metadata": {},
   "outputs": [
    {
     "name": "stdout",
     "output_type": "stream",
     "text": [
      "-3.83830210670677e-10\n"
     ]
    }
   ],
   "source": [
    "V = POD(S_POD)\n",
    "print(V[:,0].dot(V[:,z-1]))"
   ]
  },
  {
   "cell_type": "markdown",
   "metadata": {},
   "source": [
    "$\n",
    "M_N = V^TMV\\\\\n",
    "A_N = V^TAV\n",
    "$"
   ]
  },
  {
   "cell_type": "code",
   "execution_count": 52,
   "metadata": {},
   "outputs": [],
   "source": [
    "MN = np.transpose(V).dot(Mh.dot(V))\n",
    "AN = np.transpose(V).dot(Ah.dot(V))"
   ]
  },
  {
   "cell_type": "code",
   "execution_count": 53,
   "metadata": {},
   "outputs": [],
   "source": [
    "gfu_N.vec.FV().NumPy()[:] = erg_h[:,0]\n",
    "gfu.vec.FV().NumPy()[:] = erg_h[:,0]\n",
    "\n",
    "uN = np.array(gfu_N.vec).dot(V)\n",
    "velocity_N = gfu_N.components[0]\n",
    "Draw(gfu_N.components[0],mesh,\"gfu_N\",sd=3)\n",
    "Draw(gfu_N.components[0]-gfu.components[0],mesh,\"error\",sd=3)\n",
    "err = res.CreateVector()\n",
    "fom = res.CreateVector()\n",
    "rom = res.CreateVector()"
   ]
  },
  {
   "cell_type": "code",
   "execution_count": 54,
   "metadata": {},
   "outputs": [],
   "source": [
    "conv = LinearForm(X)\n",
    "conv += InnerProduct(grad(velocity_N)*velocity_N,v)*dx"
   ]
  },
  {
   "cell_type": "markdown",
   "metadata": {},
   "source": [
    "For the reduce IMEX solver we use the reduce matrixes. Where $C_N = V^TC$ to do it in every iteration step\n",
    "\n",
    "$\n",
    "M_N\\bigg(\\frac{u_N^{n+1}-u_N^n}{k}\\bigg) + A_N u_N^{n+1} +C_N u_N^{n} = 0\n",
    "$\n",
    "\n",
    "$\n",
    "M_N^*\\bigg(u_N^{n+1}-u_N^n\\bigg) = -\\Delta t A_N u_N^n - \\Delta t C_Nu_N^n\n",
    "$\n",
    "\n",
    "$\n",
    "M^* = M_N + \\Delta tA_N \n",
    "$"
   ]
  },
  {
   "cell_type": "code",
   "execution_count": 55,
   "metadata": {},
   "outputs": [],
   "source": [
    "Residium = []\n",
    "FOM_L2_norm = []\n",
    "ROM_L2_norm = []\n",
    "time = []\n",
    "erg_N = np.zeros([len(gfu_N.vec),int(dn)+1])\n",
    "erg_N[:,0] = gfu_N.vec\n",
    "\n",
    "MN_star = MN + dt*AN\n",
    "inv_N = np.linalg.inv(MN_star)\n",
    "for i in range(int(dn)):\n",
    "    err.vec = sqrt (Integrate ((gfu.components[0]-gfu_N.components[0])*(gfu.components[0]-gfu_N.components[0]),mesh))\n",
    "    fom.vec = Integrate ((gfu.components[0])*(gfu.components[0]),mesh)\n",
    "    rom.vec = Integrate ((gfu_N.components[0])*(gfu_N.components[0]),mesh)\n",
    "    conv.Assemble()\n",
    "    conv_N = np.transpose(V).dot(conv.vec)\n",
    "    res_N = AN.dot(uN) + conv_N\n",
    "    uN -= dt * inv_N.dot(res_N)\n",
    "    erg_N[:,i+1] = (uN).dot(np.transpose(V))\n",
    "    gfu.vec.FV().NumPy()[:] = erg_h[:,i+1]\n",
    "    velocity_N = gfu_N.components[0]\n",
    "    gfu_N.vec.FV().NumPy()[:] = (uN).dot(np.transpose(V))\n",
    "    FOM_L2_norm.append(fom.vec)\n",
    "    ROM_L2_norm.append(rom.vec)\n",
    "    Residium.append(err.vec)\n",
    "    time.append(dt*i)\n",
    "    Redraw()"
   ]
  },
  {
   "cell_type": "code",
   "execution_count": 56,
   "metadata": {},
   "outputs": [
    {
     "data": {
      "image/png": "[encoded data removed]",
      "text/plain": [
       "<Figure size 432x288 with 1 Axes>"
      ]
     },
     "metadata": {
      "needs_background": "light"
     },
     "output_type": "display_data"
    }
   ],
   "source": [
    "import matplotlib.pyplot as plt\n",
    "plt.title(\"Total error {} dt {}\".format(z,dt))\n",
    "plt.ylabel(\"error\")\n",
    "plt.xlabel(\"time [s]\")\n",
    "plt.grid()\n",
    "plt.semilogy(time,Residium)\n",
    "plt.savefig(\"plots/Total error {} dt POD\".format(z))"
   ]
  },
  {
   "cell_type": "code",
   "execution_count": 57,
   "metadata": {},
   "outputs": [],
   "source": [
    "FOM_L2_norm = []\n",
    "ROM_L2_norm = []\n",
    "Residium = []\n",
    "for i in range(int(dn)):\n",
    "    sum_h = sum(erg_h[:,i])\n",
    "    sum_N = sum(erg_N[:,i])\n",
    "    FOM_L2_norm.append(np.abs(sum_h*sum_h))\n",
    "    ROM_L2_norm.append(np.abs(sum_N*sum_h))\n",
    "    red = sum_N-sum_h\n",
    "    Residium.append(np.sqrt(np.abs(red*red)))"
   ]
  },
  {
   "cell_type": "code",
   "execution_count": 58,
   "metadata": {},
   "outputs": [
    {
     "data": {
      "image/png": "[encoded data removed]",
      "text/plain": [
       "<Figure size 432x288 with 1 Axes>"
      ]
     },
     "metadata": {
      "needs_background": "light"
     },
     "output_type": "display_data"
    }
   ],
   "source": [
    "plt.title(\"absolut velositiy {} dt {}\".format(z,dt))\n",
    "plt.ylabel(\"|u|\")\n",
    "plt.xlabel(\"time [s]\")\n",
    "plt.grid()\n",
    "plt.semilogy(time,FOM_L2_norm)\n",
    "plt.semilogy(time,ROM_L2_norm)\n",
    "plt.savefig(\"plots/absolut velositiy {}\".format(z))"
   ]
  },
  {
   "cell_type": "code",
   "execution_count": 59,
   "metadata": {},
   "outputs": [
    {
     "data": {
      "image/png": "[encoded data removed]",
      "text/plain": [
       "<Figure size 432x288 with 1 Axes>"
      ]
     },
     "metadata": {
      "needs_background": "light"
     },
     "output_type": "display_data"
    }
   ],
   "source": [
    "plt.title(\"total error velositiy {} dt {}\".format(z,dt))\n",
    "plt.ylabel(\"error\")\n",
    "plt.xlabel(\"time [s]\")\n",
    "plt.grid()\n",
    "plt.semilogy(time,Residium)\n",
    "plt.savefig(\"plots/absolut velositiy {}\".format(z))"
   ]
  },
  {
   "cell_type": "code",
   "execution_count": null,
   "metadata": {},
   "outputs": [],
   "source": []
  }
 ],
 "metadata": {
  "kernelspec": {
   "display_name": "Python 3",
   "language": "python",
   "name": "python3"
  },
  "language_info": {
   "codemirror_mode": {
    "name": "ipython",
    "version": 3
   },
   "file_extension": ".py",
   "mimetype": "text/x-python",
   "name": "python",
   "nbconvert_exporter": "python",
   "pygments_lexer": "ipython3",
   "version": "3.7.5"
  }
 },
 "nbformat": 4,
 "nbformat_minor": 4
}
