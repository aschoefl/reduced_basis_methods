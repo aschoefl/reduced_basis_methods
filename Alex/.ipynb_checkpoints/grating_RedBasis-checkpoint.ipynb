{
 "cells": [
  {
   "cell_type": "code",
   "execution_count": null,
   "metadata": {},
   "outputs": [],
   "source": [
    "import netgen.gui\n",
    "from ngsolve import *\n"
   ]
  },
  {
   "cell_type": "code",
   "execution_count": null,
   "metadata": {},
   "outputs": [],
   "source": [
    "import scipy.sparse as sp\n",
    "from netgen.geom2d import *\n",
    "\n",
    "geo = SplineGeometry()\n",
    "geo.AddRectangle ( (0,0), (1,1), bcs=[\"bottom\",\"right\",\"top\",\"left\"], leftdomain=1)\n",
    "\n",
    "n = 3\n",
    "r = 0.005\n",
    "geo.AddRectangle((0.45,0.45),(0.5, 0.55), bc=\"interface\",leftdomain=0, rightdomain=1)\n",
    "geo.AddRectangle((0.45,0.44),(0.5, 0.001), bc=\"interface\",leftdomain=0, rightdomain=1)\n",
    "geo.AddRectangle((0.45,0.56),(0.5, 0.999), bc=\"interface\",leftdomain=0, rightdomain=1)\n",
    "#geo.AddCircle ( (0.5,0.48), r=r, bc=\"interface\",leftdomain=0, rightdomain=1)\n",
    "#geo.AddCircle ( (0.5,0.52), r=r, bc=\"interface\",leftdomain=0, rightdomain=1)\n",
    "#geo.AddCircle ( (0.5,0.5), r=r, bc=\"interface\",leftdomain=0, rightdomain=1)\n",
    "#geo.AddCircle ( (0.5,(1)/(3)), r=r, bc=\"interface\",leftdomain=0, rightdomain=1)\n",
    "                     \n",
    "geo.SetMaterial(1, \"medium\")\n",
    "# geo.SetMaterial(2, \"dot\")\n",
    "\n",
    "mesh = Mesh(geo.GenerateMesh(maxh=0.02))\n",
    "mesh.Curve(3)\n",
    "Draw (mesh)"
   ]
  },
  {
   "cell_type": "code",
   "execution_count": null,
   "metadata": {},
   "outputs": [],
   "source": [
    "source = 100*exp(-40**2*(y-0.5)*(y-0.5))\n",
    "Draw(source,mesh,name=\"sorce\")"
   ]
  },
  {
   "cell_type": "code",
   "execution_count": null,
   "metadata": {},
   "outputs": [],
   "source": [
    "import numpy as np\n",
    "pi = 3.141425\n",
    "maxind = 20\n",
    "fes = H1(mesh, order=6, complex=True, dirichlet=\"interface\")\n",
    "gfu = GridFunction(fes)\n",
    "erg = np.zeros([len(gfu.vec),maxind],dtype=complex)\n",
    "n = { \"medium\" : 1, \"dot\" : 3 }\n",
    "cfn = CoefficientFunction( [n[mat] for mat in mesh.GetMaterials()] )\n",
    "\n",
    "\n",
    "u = fes.TrialFunction()\n",
    "v = fes.TestFunction()\n",
    "\n",
    "A = BilinearForm(fes)\n",
    "R = BilinearForm(fes)\n",
    "K = BilinearForm(fes)\n",
    "M = BilinearForm(fes)\n",
    "F = LinearForm(fes)\n",
    "\n",
    "omega = Parameter(1)\n",
    "A += (grad(u)*grad(v)- omega**2*cfn*cfn*u*v)*dx\n",
    "K += grad(u)*grad(v)*dx\n",
    "R += -1j*u*v*ds(\"left|right|top|bottom\")\n",
    "M += cfn*cfn*u*v*dx\n",
    "\n",
    "\n",
    "#A += (grad(u)*grad(v)-omega**2*cfn*cfn*u*v)*dx\n",
    "A += -1j*omega*u*v*ds(\"left|right|top|bottom\")\n",
    "F = LinearForm(fes)\n",
    "\n",
    "F += source*v*ds(\"left\")\n",
    "\n",
    "o = []\n",
    "norm = []\n",
    "for i in range(40,40+maxind):\n",
    "    o.append(2*pi*i)\n",
    "#o = [2*pi*50]\n",
    "j = 0\n",
    "for i in o:   \n",
    "    with TaskManager():\n",
    "        omega.Set(i) \n",
    "        A.Assemble()\n",
    "        K.Assemble()\n",
    "        M.Assemble()\n",
    "        F.Assemble()\n",
    "        R.Assemble()   \n",
    "        inv = A.mat.Inverse(fes.FreeDofs(), inverse=\"sparsecholesky\")\n",
    "        gfu.vec.data = inv * F.vec\n",
    "        erg[:,j] = gfu.vec\n",
    "        fh = F.vec\n",
    "        norm.append(sqrt (Integrate ((gfu)*(gfu),mesh)))\n",
    "        print(\"Number of iter: \",j,\"omega: \",i,\"L2-Norm:\",sqrt (Integrate ((gfu)*(gfu),mesh)))\n",
    "        j = j+1\n",
    "    \n",
    "Draw (gfu)\n",
    "\n",
    "\n",
    "rows,cols,vals = M.mat.COO()\n",
    "Mh = sp.csr_matrix((vals,(rows,cols)))\n",
    "rows,cols,vals = K.mat.COO()\n",
    "Kh = sp.csr_matrix((vals,(rows,cols)))\n",
    "rows,cols,vals = R.mat.COO()\n",
    "Rh = sp.csr_matrix((vals,(rows,cols)))\n"
   ]
  },
  {
   "cell_type": "code",
   "execution_count": null,
   "metadata": {},
   "outputs": [],
   "source": [
    "gfu.vec.FV().NumPy()[:] = erg[:,8]\n",
    "Draw (gfu,name = \"einzLös\")"
   ]
  },
  {
   "cell_type": "code",
   "execution_count": null,
   "metadata": {},
   "outputs": [],
   "source": [
    "V, r = np.linalg.qr(erg)"
   ]
  },
  {
   "cell_type": "code",
   "execution_count": null,
   "metadata": {},
   "outputs": [],
   "source": [
    "MN = np.transpose(V).dot(Mh.dot(V))\n",
    "KN = np.transpose(V).dot(Kh.dot(V))\n",
    "RN = np.transpose(V).dot(Rh.dot(V))\n",
    "fN = np.transpose(V).dot(fh)"
   ]
  },
  {
   "cell_type": "code",
   "execution_count": null,
   "metadata": {},
   "outputs": [],
   "source": [
    "def AllEw(A,B):\n",
    "    Binv = np.linalg.inv(B)\n",
    "    lam,v = np.linalg.eig(Binv.dot(A))\n",
    "    return lam"
   ]
  },
  {
   "cell_type": "code",
   "execution_count": null,
   "metadata": {},
   "outputs": [],
   "source": [
    "iteration = int(1000)\n",
    "Start = 200 \n",
    "Ende = 400\n",
    "lam = []\n",
    "factor = (Ende-Start) / iteration\n",
    "omegaN = []\n",
    "norm_L2 =[]\n",
    "uN = np.zeros([maxind,iteration])\n",
    "for i in range(iteration):\n",
    "    omegaN.append(Start+factor*i)\n",
    "\n",
    "    uN[:,i] = np.linalg.solve(KN-omegaN[i]**2*MN+omegaN[i]*RN, fN)\n",
    "    lam.append(AllEw(KN,omegaN[i]**2*MN+omegaN[i]*RN))\n",
    "    new = uN[:,i].dot(np.transpose(V))\n",
    "    gif = GridFunction(fes,name = \"gif_omegaN\")\n",
    "    gif.vec.FV().NumPy()[:] = new\n",
    "    Draw(gif)\n",
    "    print(\"i: \",i,\"Omega: \",omegaN[i])\n",
    "\n",
    "    Redraw()\n",
    "    #norm_L2.append(sqrt(uN[:,i].dot(uN[:,i])))\n",
    "    norm_L2.append(sqrt(np.vdot(uN[:,i],uN[:,i])))"
   ]
  },
  {
   "cell_type": "code",
   "execution_count": null,
   "metadata": {},
   "outputs": [],
   "source": [
    "\n",
    "l=AllEw(KN,MN+RN)\n",
    "np.sqrt(l)\n",
    "list(l)\n",
    "np.real(l[2])\n",
    "l[2]"
   ]
  },
  {
   "cell_type": "code",
   "execution_count": null,
   "metadata": {},
   "outputs": [],
   "source": [
    "from ngsolve import internal\n",
    "k = 240\n",
    "gfu_N = GridFunction(fes)\n",
    "gfu_N.vec.FV().NumPy()[:] = uN[:,k].dot(np.transpose(V))\n",
    "print(omegaN[k])\n",
    "Draw (gfu_N,mesh,name=\"u_N\")\n",
    "internal.visoptions.autoscale = False\n"
   ]
  },
  {
   "cell_type": "code",
   "execution_count": null,
   "metadata": {},
   "outputs": [],
   "source": [
    "lam = list(lam)\n",
    "lam"
   ]
  },
  {
   "cell_type": "code",
   "execution_count": null,
   "metadata": {},
   "outputs": [],
   "source": [
    "import matplotlib.pyplot as plt\n",
    "s = [40,40,40,40,40,40,40,40,40,40,40,40,40,40,40,40,40,40,40,40]\n",
    "plt.plot(omegaN,norm_L2)\n",
    "plt.plot(np.real(np.sqrt(l[2:])),s[2:],\"rx\")"
   ]
  },
  {
   "cell_type": "code",
   "execution_count": null,
   "metadata": {},
   "outputs": [],
   "source": [
    "slider_func = lambda x: space.draw(x, redraw=True)"
   ]
  },
  {
   "cell_type": "code",
   "execution_count": null,
   "metadata": {},
   "outputs": [],
   "source": [
    "from __future__ import print_function\n",
    "from ipywidgets import interact, interactive, fixed, interact_manual\n",
    "import ipywidgets as widgets\n",
    "\n",
    "interact(slider_func, x=widgets.FloatSlider(min=40, max=500, step=0.1, value=40))"
   ]
  },
  {
   "cell_type": "code",
   "execution_count": null,
   "metadata": {},
   "outputs": [],
   "source": []
  }
 ],
 "metadata": {
  "kernelspec": {
   "display_name": "Python 3.7.5 64-bit",
   "language": "python",
   "name": "python37564bitb5f188b5fd4549769c9ea1e1a366fa0d"
  },
  "language_info": {
   "codemirror_mode": {
    "name": "ipython",
    "version": 3
   },
   "file_extension": ".py",
   "mimetype": "text/x-python",
   "name": "python",
   "nbconvert_exporter": "python",
   "pygments_lexer": "ipython3",
   "version": "3.7.5"
  }
 },
 "nbformat": 4,
 "nbformat_minor": 2
}
