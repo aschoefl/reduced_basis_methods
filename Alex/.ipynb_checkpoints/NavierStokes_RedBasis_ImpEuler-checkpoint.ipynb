{
 "cells": [
  {
   "cell_type": "code",
   "execution_count": 1,
   "metadata": {},
   "outputs": [],
   "source": [
    "from netgen import gui\n",
    "from ngsolve import *\n",
    "from netgen.geom2d import SplineGeometry\n",
    "import scipy.sparse as sp\n",
    "import numpy as np"
   ]
  },
  {
   "cell_type": "code",
   "execution_count": 14,
   "metadata": {},
   "outputs": [],
   "source": [
    "from netgen.geom2d import SplineGeometry\n",
    "geo = SplineGeometry()\n",
    "geo.AddRectangle( (0, 0), (2, 0.41), bcs = (\"wall\", \"outlet\", \"wall\", \"inlet\"))\n",
    "geo.AddCircle ( (0.2, 0.2), r=0.05, leftdomain=0, rightdomain=1, bc=\"cyl\")\n",
    "mesh = Mesh( geo.GenerateMesh(maxh=1.5))\n",
    "mesh.Curve(3); Draw(mesh)\n",
    "# viscosity\n",
    "nu = 0.001\n",
    "t = 0\n",
    "tend = 0\n",
    "dt = 0.01\n",
    "dn = 1/dt"
   ]
  },
  {
   "cell_type": "code",
   "execution_count": 15,
   "metadata": {},
   "outputs": [],
   "source": [
    "k = 3\n",
    "V = VectorH1(mesh,order=k, dirichlet=\"wall|cyl|inlet\")\n",
    "Q = H1(mesh,order=k-1)\n",
    "X = FESpace([V,Q])"
   ]
  },
  {
   "cell_type": "code",
   "execution_count": 16,
   "metadata": {},
   "outputs": [],
   "source": [
    "gfu = GridFunction(X)\n",
    "velocity = gfu.components[0]\n",
    "Draw(velocity,mesh,\"u\",sd=3)\n",
    "Draw(gfu.components[1],mesh,\"p\",sd=3)\n",
    "from ngsolve.internal import visoptions\n",
    "visoptions.scalfunction = \"u:0\"\n",
    "\n",
    "# parabolic inflow at bc=1:\n",
    "uin = CoefficientFunction((1.5*4*y*(0.41-y)/(0.41*0.41),0))\n",
    "gfu.components[0].Set(uin, definedon=mesh.Boundaries(\"inlet\"))\n",
    "\n",
    "Redraw()\n",
    "\n"
   ]
  },
  {
   "cell_type": "code",
   "execution_count": 17,
   "metadata": {},
   "outputs": [],
   "source": [
    "(u,p), (v,q) = X.TnT()\n",
    "\n",
    "a = BilinearForm(X)\n",
    "stokes = (nu*InnerProduct(grad(u),grad(v))-div(u)*q-div(v)*p)*dx\n",
    "a += stokes\n",
    "a.Assemble()\n",
    "\n",
    "rows,cols,vals = a.mat.COO()\n",
    "A_np = sp.csr_matrix((vals,(rows,cols)))\n",
    "\n",
    "f = LinearForm(X)\n",
    "f.Assemble()\n",
    "\n",
    "inv_stokes = a.mat.Inverse(X.FreeDofs())\n",
    "\n",
    "res = f.vec.CreateVector()\n",
    "res.data = f.vec - a.mat*gfu.vec\n",
    "gfu.vec.data += inv_stokes * res\n",
    "\n",
    "Redraw()\n",
    "\n"
   ]
  },
  {
   "cell_type": "code",
   "execution_count": 18,
   "metadata": {},
   "outputs": [],
   "source": [
    "conv = BilinearForm(X)\n",
    "conv += grad(velocity)*velocity*v*dx\n",
    "\n"
   ]
  },
  {
   "cell_type": "code",
   "execution_count": 19,
   "metadata": {
    "tags": []
   },
   "outputs": [
    {
     "name": "stdout",
     "output_type": "stream",
     "text": [
      "t= 0.09999999999999999"
     ]
    },
    {
     "ename": "KeyboardInterrupt",
     "evalue": "",
     "output_type": "error",
     "traceback": [
      "\u001b[0;31m---------------------------------------------------------------------------\u001b[0m",
      "\u001b[0;31mKeyboardInterrupt\u001b[0m                         Traceback (most recent call last)",
      "\u001b[0;32m<ipython-input-19-42d9773ecf11>\u001b[0m in \u001b[0;36m<module>\u001b[0;34m\u001b[0m\n\u001b[1;32m     16\u001b[0m     \u001b[0;31m#print(Mstar_np[0,0])\u001b[0m\u001b[0;34m\u001b[0m\u001b[0;34m\u001b[0m\u001b[0;34m\u001b[0m\u001b[0m\n\u001b[1;32m     17\u001b[0m     \u001b[0;31m#print(type(Mstar_np))\u001b[0m\u001b[0;34m\u001b[0m\u001b[0;34m\u001b[0m\u001b[0;34m\u001b[0m\u001b[0m\n\u001b[0;32m---> 18\u001b[0;31m     \u001b[0minv_Mstar_np\u001b[0m \u001b[0;34m=\u001b[0m \u001b[0minv\u001b[0m\u001b[0;34m(\u001b[0m\u001b[0mMstar_np\u001b[0m\u001b[0;34m)\u001b[0m\u001b[0;34m\u001b[0m\u001b[0;34m\u001b[0m\u001b[0m\n\u001b[0m\u001b[1;32m     19\u001b[0m     \u001b[0mres\u001b[0m \u001b[0;34m=\u001b[0m \u001b[0ma\u001b[0m\u001b[0;34m.\u001b[0m\u001b[0mmat\u001b[0m \u001b[0;34m*\u001b[0m \u001b[0mgfu\u001b[0m\u001b[0;34m.\u001b[0m\u001b[0mvec\u001b[0m \u001b[0;34m+\u001b[0m \u001b[0mconv\u001b[0m\u001b[0;34m.\u001b[0m\u001b[0mmat\u001b[0m \u001b[0;34m*\u001b[0m \u001b[0mgfu\u001b[0m\u001b[0;34m.\u001b[0m\u001b[0mvec\u001b[0m\u001b[0;34m\u001b[0m\u001b[0;34m\u001b[0m\u001b[0m\n\u001b[1;32m     20\u001b[0m     \u001b[0mgfu_np\u001b[0m \u001b[0;34m=\u001b[0m \u001b[0mnp\u001b[0m\u001b[0;34m.\u001b[0m\u001b[0marray\u001b[0m\u001b[0;34m(\u001b[0m\u001b[0mgfu\u001b[0m\u001b[0;34m.\u001b[0m\u001b[0mvec\u001b[0m\u001b[0;34m)\u001b[0m\u001b[0;34m\u001b[0m\u001b[0;34m\u001b[0m\u001b[0m\n",
      "\u001b[0;32m/usr/local/lib/python3.7/dist-packages/scipy/sparse/linalg/matfuncs.py\u001b[0m in \u001b[0;36minv\u001b[0;34m(A)\u001b[0m\n\u001b[1;32m     79\u001b[0m \u001b[0;34m\u001b[0m\u001b[0m\n\u001b[1;32m     80\u001b[0m     \u001b[0mI\u001b[0m \u001b[0;34m=\u001b[0m \u001b[0m_ident_like\u001b[0m\u001b[0;34m(\u001b[0m\u001b[0mA\u001b[0m\u001b[0;34m)\u001b[0m\u001b[0;34m\u001b[0m\u001b[0;34m\u001b[0m\u001b[0m\n\u001b[0;32m---> 81\u001b[0;31m     \u001b[0mAinv\u001b[0m \u001b[0;34m=\u001b[0m \u001b[0mspsolve\u001b[0m\u001b[0;34m(\u001b[0m\u001b[0mA\u001b[0m\u001b[0;34m,\u001b[0m \u001b[0mI\u001b[0m\u001b[0;34m)\u001b[0m\u001b[0;34m\u001b[0m\u001b[0;34m\u001b[0m\u001b[0m\n\u001b[0m\u001b[1;32m     82\u001b[0m     \u001b[0;32mreturn\u001b[0m \u001b[0mAinv\u001b[0m\u001b[0;34m\u001b[0m\u001b[0;34m\u001b[0m\u001b[0m\n\u001b[1;32m     83\u001b[0m \u001b[0;34m\u001b[0m\u001b[0m\n",
      "\u001b[0;32m/usr/local/lib/python3.7/dist-packages/scipy/sparse/linalg/dsolve/linsolve.py\u001b[0m in \u001b[0;36mspsolve\u001b[0;34m(A, b, permc_spec, use_umfpack)\u001b[0m\n\u001b[1;32m    216\u001b[0m             \u001b[0;32mfor\u001b[0m \u001b[0mj\u001b[0m \u001b[0;32min\u001b[0m \u001b[0mrange\u001b[0m\u001b[0;34m(\u001b[0m\u001b[0mb\u001b[0m\u001b[0;34m.\u001b[0m\u001b[0mshape\u001b[0m\u001b[0;34m[\u001b[0m\u001b[0;36m1\u001b[0m\u001b[0;34m]\u001b[0m\u001b[0;34m)\u001b[0m\u001b[0;34m:\u001b[0m\u001b[0;34m\u001b[0m\u001b[0;34m\u001b[0m\u001b[0m\n\u001b[1;32m    217\u001b[0m                 \u001b[0mbj\u001b[0m \u001b[0;34m=\u001b[0m \u001b[0mnp\u001b[0m\u001b[0;34m.\u001b[0m\u001b[0masarray\u001b[0m\u001b[0;34m(\u001b[0m\u001b[0mb\u001b[0m\u001b[0;34m[\u001b[0m\u001b[0;34m:\u001b[0m\u001b[0;34m,\u001b[0m \u001b[0mj\u001b[0m\u001b[0;34m]\u001b[0m\u001b[0;34m.\u001b[0m\u001b[0mtodense\u001b[0m\u001b[0;34m(\u001b[0m\u001b[0;34m)\u001b[0m\u001b[0;34m)\u001b[0m\u001b[0;34m.\u001b[0m\u001b[0mravel\u001b[0m\u001b[0;34m(\u001b[0m\u001b[0;34m)\u001b[0m\u001b[0;34m\u001b[0m\u001b[0;34m\u001b[0m\u001b[0m\n\u001b[0;32m--> 218\u001b[0;31m                 \u001b[0mxj\u001b[0m \u001b[0;34m=\u001b[0m \u001b[0mAfactsolve\u001b[0m\u001b[0;34m(\u001b[0m\u001b[0mbj\u001b[0m\u001b[0;34m)\u001b[0m\u001b[0;34m\u001b[0m\u001b[0;34m\u001b[0m\u001b[0m\n\u001b[0m\u001b[1;32m    219\u001b[0m                 \u001b[0mw\u001b[0m \u001b[0;34m=\u001b[0m \u001b[0mnp\u001b[0m\u001b[0;34m.\u001b[0m\u001b[0mflatnonzero\u001b[0m\u001b[0;34m(\u001b[0m\u001b[0mxj\u001b[0m\u001b[0;34m)\u001b[0m\u001b[0;34m\u001b[0m\u001b[0;34m\u001b[0m\u001b[0m\n\u001b[1;32m    220\u001b[0m                 \u001b[0msegment_length\u001b[0m \u001b[0;34m=\u001b[0m \u001b[0mw\u001b[0m\u001b[0;34m.\u001b[0m\u001b[0mshape\u001b[0m\u001b[0;34m[\u001b[0m\u001b[0;36m0\u001b[0m\u001b[0;34m]\u001b[0m\u001b[0;34m\u001b[0m\u001b[0;34m\u001b[0m\u001b[0m\n",
      "\u001b[0;31mKeyboardInterrupt\u001b[0m: "
     ]
    }
   ],
   "source": [
    "# implicit Euler/explicit Euler splitting method:\n",
    "from scipy.sparse.linalg import inv\n",
    "MA = BilinearForm(X)\n",
    "MA += InnerProduct(u,v)*dx + dt*stokes\n",
    "MA.Assemble()\n",
    "rows,cols,vals = MA.mat.COO()\n",
    "MA_np = sp.csr_matrix((vals,(rows,cols)))\n",
    "\n",
    "for i in range(int(dn)):\n",
    "    print (\"\\rt=\", t, end=\"\" )\n",
    "    conv.Assemble()\n",
    "    rows,cols,vals = conv.mat.COO()\n",
    "    Conv_np = sp.csr_matrix((vals,(rows,cols)))\n",
    "\n",
    "    Mstar_np = MA_np + dt * Conv_np\n",
    "    #print(Mstar_np[0,0])\n",
    "    #print(type(Mstar_np))\n",
    "    inv_Mstar_np = inv(Mstar_np)\n",
    "    res = a.mat * gfu.vec + conv.mat * gfu.vec\n",
    "    gfu_np = np.array(gfu.vec)\n",
    "    res_np = A_np.dot(gfu_np) + Conv_np.dot(gfu_np)\n",
    "    gfu_np -= dt * inv_Mstar_np.dot(res_np)\n",
    "    gfu.vec.FV().NumPy()[:] = gfu_np\n",
    "\n",
    "\n",
    "\n",
    "\n",
    "\n",
    "\n",
    "\n",
    "\n",
    "\n",
    "\n",
    "\n",
    "    #MA += InnerProduct(u,v)*dx + dt*stokes# + dt*c\n",
    "    #MA.Assemble()#\n",
    "\n",
    "    #conv.Assemble()\n",
    "    #Mstar = MA.mat + conv.mat\n",
    "    #Mstar.Assemble()\n",
    "    #conv += dt*InnerProduct(grad(velocity)*velocity,v)*dx\n",
    "    #print(conv.mat)\n",
    "    #conv.Assemble()\n",
    "    #Mstar = mNS + conv.mat\n",
    "    #inv = Mstar.Inverse(X.FreeDofs())\n",
    "    #rows,cols,vals = Mstar.COO()\n",
    "    #inv_np = sp.csr_matrix((vals,(rows,cols)))\n",
    "\n",
    "    #res = a.mat * gfu.vec + conv.mat * gfu.vec\n",
    "    \n",
    "    #res_np = np.array(res)\n",
    "    #gfu_np = np.array(gfu.vec)\n",
    "    #print(type(gfu_np))\n",
    "    #print(type(res_np))\n",
    "    #print(type(inv))\n",
    "    #gfu_np = gfu_np - inv.dot(res_np)\n",
    "\n",
    "    t = t + dt\n",
    "    Redraw()"
   ]
  },
  {
   "cell_type": "code",
   "execution_count": null,
   "metadata": {},
   "outputs": [],
   "source": []
  }
 ],
 "metadata": {
  "kernelspec": {
   "display_name": "Python 3.7.5 64-bit",
   "language": "python",
   "name": "python37564bitb5f188b5fd4549769c9ea1e1a366fa0d"
  },
  "language_info": {
   "codemirror_mode": {
    "name": "ipython",
    "version": 3
   },
   "file_extension": ".py",
   "mimetype": "text/x-python",
   "name": "python",
   "nbconvert_exporter": "python",
   "pygments_lexer": "ipython3",
   "version": "3.7.5"
  }
 },
 "nbformat": 4,
 "nbformat_minor": 2
}
