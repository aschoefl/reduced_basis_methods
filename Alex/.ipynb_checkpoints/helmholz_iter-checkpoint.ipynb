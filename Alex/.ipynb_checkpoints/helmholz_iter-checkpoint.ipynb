{
 "cells": [
  {
   "cell_type": "code",
   "execution_count": 1,
   "metadata": {},
   "outputs": [],
   "source": [
    "import netgen.gui\n",
    "from ngsolve import *\n",
    "import numpy as np\n",
    "import scipy.sparse as sp\n",
    "from math import pi\n",
    "from numpy import linalg as LA\n",
    "import matplotlib.pyplot as plt"
   ]
  },
  {
   "cell_type": "code",
   "execution_count": 2,
   "metadata": {},
   "outputs": [],
   "source": [
    "import netgen.geom2d as geom2dim\n",
    "geo = geom2dim.SplineGeometry()\n",
    "a = 1\n",
    "points = [(0,0),(a,0),(a,a),(0,a)]\n",
    "p1,p2,p3,p4 = [geo.AppendPoint(*pnt) for pnt in points]\n",
    "curves = [['line',p1,p2],['line',p2,p3],['line',p3,p4],['line',p4,p1]]\n",
    "[geo.Append(c) for c in curves]\n",
    "\n",
    "mesh = Mesh(geo.GenerateMesh(maxh = 0.1))\n",
    "\n",
    "\n",
    "piha = a/2\n",
    "shift = 0\n",
    "source = exp(-50**2*((x-piha-shift)*(x-piha-shift)+(y-piha-shift)*(y-piha-shift)))\n",
    "Draw(source,mesh,name = \"pulse\")"
   ]
  },
  {
   "cell_type": "code",
   "execution_count": 3,
   "metadata": {},
   "outputs": [
    {
     "name": "stdout",
     "output_type": "stream",
     "text": [
      "[0, 1, 2, 3, 4, 5, 6, 7, 8, 9, 10, 11, 12, 13, 14, 15, 16, 17, 18, 19]\n"
     ]
    }
   ],
   "source": [
    "maxind = 20\n",
    "o = []\n",
    "fes = H1(mesh, order=5)\n",
    "gfu = GridFunction(fes,name = \"u\")\n",
    "\n",
    "u = fes.TrialFunction()\n",
    "v = fes.TestFunction()\n",
    "\n",
    "A = BilinearForm(fes)\n",
    "K = BilinearForm(fes)\n",
    "M = BilinearForm(fes)\n",
    "F = LinearForm(fes)\n",
    "omega = Parameter(1)\n",
    "\n",
    "for i in range(0,maxind):\n",
    "    o.append(i)\n",
    "    \n",
    "print(o)"
   ]
  },
  {
   "cell_type": "code",
   "execution_count": 4,
   "metadata": {},
   "outputs": [],
   "source": [
    "def helmholz_iter(anz,maxind,o,plot_glob,plot_res):\n",
    "    global u,v,A,J,M,F,omega,K\n",
    "    #u = fes.TrialFunction()\n",
    "    #v = fes.TestFunction()\n",
    "\n",
    "    #A = BilinearForm(fes)\n",
    "    #K = BilinearForm(fes)\n",
    "    #M = BilinearForm(fes)\n",
    "    #F = LinearForm(fes)\n",
    "    #omega = Parameter(1)\n",
    "    erg = np.zeros([len(gfu.vec),maxind])\n",
    "    fh = np.zeros([len(gfu.vec),maxind])\n",
    "    \n",
    "\n",
    "    A += (grad(u)*grad(v)- omega**2*u*v)*dx\n",
    "    K += grad(u)*grad(v)*dx\n",
    "    M += u*v*dx\n",
    "    \n",
    "    F += source*v*dx  \n",
    "\n",
    "\n",
    "    norm = []\n",
    "    j = 0\n",
    "                                                                                                \n",
    "    for i in o:   \n",
    "        omega.Set(i) \n",
    "        A.Assemble()\n",
    "        K.Assemble()\n",
    "        M.Assemble()\n",
    "        F.Assemble()   \n",
    "        gfu.vec.data = A.mat.Inverse(fes.FreeDofs()) * F.vec\n",
    "        erg[:,j] = gfu.vec\n",
    "        fh[:,j] = F.vec\n",
    "        norm.append(sqrt (Integrate ((gfu)*(gfu),mesh)))\n",
    "        #print(\"Anz:\",anz,\"Number of iter: \",j,\"omega: \",i,\"L2-Norm:\",sqrt (Integrate ((gfu)*(gfu),mesh)))\n",
    "        j = j+1\n",
    "    Ms = M.mat\n",
    "    Ks = K.mat\n",
    "    rows,cols,vals = Ms.COO()\n",
    "    Mh = sp.csr_matrix((vals,(rows,cols)))\n",
    "    rows,cols,vals = Ks.COO()\n",
    "    Kh = sp.csr_matrix((vals,(rows,cols)))\n",
    "\n",
    "    if(plot_glob == 1):\n",
    "        plt.figure()\n",
    "        plt.plot(o,norm)\n",
    "        plt.xlabel(\"omega\")\n",
    "        plt.ylabel(\"L2-Norm\")\n",
    "        plt.savefig('results/resonanz_20_%s.png'%anz)\n",
    "    \n",
    "\n",
    "    V, r = np.linalg.qr(erg)\n",
    "    V = erg.dot(np.linalg.inv(r))\n",
    "    \n",
    "    MN = np.transpose(V).dot(Mh.dot(V))\n",
    "    KN = np.transpose(V).dot(Kh.dot(V))\n",
    "    fN = np.transpose(V).dot(fh)\n",
    "    uN = np.zeros([maxind,maxind])\n",
    "    n = 0\n",
    "    res = np.zeros(maxind)\n",
    "    \n",
    "    for fre in o:\n",
    "        uN[:,n] = np.linalg.solve(KN-fre**2*MN, fN[0])\n",
    "        res[n] = np.linalg.norm((Kh-fre**2*Mh).dot(uN[:,n].dot(np.transpose(V)))-fh[:,n])\n",
    "        n = n+1\n",
    "        \n",
    "    if(plot_res == 1):\n",
    "        plt.figure()\n",
    "        plt.semilogy(o,res)\n",
    "        plt.xlabel(\"omega\")\n",
    "        plt.ylabel(\"res\")\n",
    "        plt.savefig('results/res_%s_%s.png'%(maxind,anz))\n",
    "        \n",
    "        \n",
    "    newomega = []\n",
    "    dicht = 5\n",
    "    for i in range(len(res)):\n",
    "        if(res[i] > 0.01):\n",
    "            temp = i\n",
    "            for j in range(1,dicht):\n",
    "                newomega.append(temp-1+0.0001*j)\n",
    "        else:\n",
    "            newomega.append(i)\n",
    "    #print(\"newomega: \",newomega)       \n",
    "    return newomega"
   ]
  },
  {
   "cell_type": "code",
   "execution_count": 5,
   "metadata": {
    "scrolled": true
   },
   "outputs": [
    {
     "data": {
      "image/png": "[encoded data removed]",
      "text/plain": [
       "<Figure size 432x288 with 1 Axes>"
      ]
     },
     "metadata": {
      "needs_background": "light"
     },
     "output_type": "display_data"
    },
    {
     "data": {
      "image/png": "[encoded data removed]",
      "text/plain": [
       "<Figure size 432x288 with 1 Axes>"
      ]
     },
     "metadata": {
      "needs_background": "light"
     },
     "output_type": "display_data"
    },
    {
     "data": {
      "image/png": "[encoded data removed]",
      "text/plain": [
       "<Figure size 432x288 with 1 Axes>"
      ]
     },
     "metadata": {
      "needs_background": "light"
     },
     "output_type": "display_data"
    }
   ],
   "source": [
    "new = []\n",
    "new = o\n",
    "for i in range(3):\n",
    "    new = helmholz_iter(i,len(new),new,0,1)"
   ]
  },
  {
   "cell_type": "code",
   "execution_count": null,
   "metadata": {},
   "outputs": [],
   "source": [
    "print(new)"
   ]
  },
  {
   "cell_type": "code",
   "execution_count": null,
   "metadata": {},
   "outputs": [],
   "source": []
  }
 ],
 "metadata": {
  "kernelspec": {
   "display_name": "Python 3",
   "language": "python",
   "name": "python3"
  },
  "language_info": {
   "codemirror_mode": {
    "name": "ipython",
    "version": 3
   },
   "file_extension": ".py",
   "mimetype": "text/x-python",
   "name": "python",
   "nbconvert_exporter": "python",
   "pygments_lexer": "ipython3",
   "version": "3.7.5"
  }
 },
 "nbformat": 4,
 "nbformat_minor": 4
}
