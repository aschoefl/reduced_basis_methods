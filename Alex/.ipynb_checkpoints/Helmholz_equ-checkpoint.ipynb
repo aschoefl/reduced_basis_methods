{
 "cells": [
  {
   "cell_type": "code",
   "execution_count": 1,
   "metadata": {},
   "outputs": [],
   "source": [
    "import netgen.gui\n",
    "from ngsolve import *\n",
    "import numpy as np\n",
    "import scipy.sparse as sp\n",
    "from math import pi\n",
    "from numpy import linalg as LA\n",
    "import matplotlib.pyplot as plt"
   ]
  },
  {
   "cell_type": "markdown",
   "metadata": {},
   "source": [
    "### Erstellt ein Quadrat mit der Länge $\\pi$ \n",
    "### und setzt einen Impuls in der Mitte des Quadrats "
   ]
  },
  {
   "cell_type": "code",
   "execution_count": 31,
   "metadata": {},
   "outputs": [],
   "source": [
    "import netgen.geom2d as geom2dim\n",
    "geo = geom2dim.SplineGeometry()\n",
    "\n",
    "points = [(0,0),(3*pi,0),(3*pi,3*pi),(0,3*pi)]\n",
    "p1,p2,p3,p4 = [geo.AppendPoint(*pnt) for pnt in points]\n",
    "curves = [['line',p1,p2],['line',p2,p3],['line',p3,p4],['line',p4,p1]]\n",
    "[geo.Append(c) for c in curves]\n",
    "\n",
    "mesh = Mesh(geo.GenerateMesh(maxh = 0.2))\n",
    "\n",
    "piha = 3*pi/2\n",
    "source = exp(-10**2*((x-piha)*(x-piha)+(y-piha)*(y-piha)))\n",
    "Draw(source,mesh,name = \"pulse\")"
   ]
  },
  {
   "cell_type": "markdown",
   "metadata": {},
   "source": [
    "### Erstellt ein Quadrat mit der Länge $1$ \n",
    "### und setzt einen Impuls in der Mitte des Quadrats"
   ]
  },
  {
   "cell_type": "code",
   "execution_count": 95,
   "metadata": {},
   "outputs": [],
   "source": [
    "import netgen.geom2d as geom2dim\n",
    "geo = geom2dim.SplineGeometry()\n",
    "\n",
    "points = [(0,0),(1,0),(1,1),(0,1)]\n",
    "p1,p2,p3,p4 = [geo.AppendPoint(*pnt) for pnt in points]\n",
    "curves = [['line',p1,p2],['line',p2,p3],['line',p3,p4],['line',p4,p1]]\n",
    "[geo.Append(c) for c in curves]\n",
    "\n",
    "mesh = Mesh(geo.GenerateMesh(maxh = 0.05))\n",
    "\n",
    "piha = 1/2\n",
    "shift = 0\n",
    "source = exp(-70**2*((x-piha-shift)*(x-piha-shift)+(y-piha)*(y-piha)))\n",
    "Draw(source,mesh,name = \"pulse\")"
   ]
  },
  {
   "cell_type": "code",
   "execution_count": 96,
   "metadata": {},
   "outputs": [],
   "source": [
    "maxind = 20\n",
    "fes = H1(mesh, order=5,dirichlet=\"bottom\")\n",
    "#fes = H1(mesh, order=5,dirichlet=\".*\")\n",
    "gfu = GridFunction(fes,name = \"u\")\n",
    "erg = np.zeros([len(gfu.vec),maxind])\n",
    "fh = np.zeros([len(gfu.vec),maxind])"
   ]
  },
  {
   "cell_type": "markdown",
   "metadata": {},
   "source": [
    "### Die helmholzgleichung:\n",
    "$\\Delta u - \\omega^2 u = f$\n",
    "### und die Schwache Formulierung:\n",
    "$\\int_{\\Omega}\\nabla u \\nabla v - \\omega^2\\int_{\\Omega}u v = \\int_{\\Omega}fv$ $v \\in V$\n",
    "### löse die obrige Gleichung mit paar $\\omega_i$ und speichere diese $u_i$ in eine Matrix "
   ]
  },
  {
   "cell_type": "code",
   "execution_count": 104,
   "metadata": {},
   "outputs": [],
   "source": [
    "u = fes.TrialFunction()\n",
    "v = fes.TestFunction()\n",
    "\n",
    "A = BilinearForm(fes)\n",
    "F = LinearForm(fes)\n",
    "\n",
    "A += (grad(u)*grad(v)- (3)**2*u*v)*dx\n",
    "F += source*v*dx\n",
    "\n",
    "F.Assemble()\n",
    "A.Assemble()\n",
    "\n",
    "gfu.vec.data = A.mat.Inverse(fes.FreeDofs()) * F.vec\n",
    "Draw(gfu,mesh,name = \"wave\")"
   ]
  },
  {
   "cell_type": "code",
   "execution_count": 98,
   "metadata": {},
   "outputs": [
    {
     "name": "stdout",
     "output_type": "stream",
     "text": [
      "Number of iter:  0 omega:  0.5 L2-Norm: 0.0025647190650563826\n",
      "Number of iter:  1 omega:  1.5 L2-Norm: 0.00028793333608290194\n",
      "Number of iter:  2 omega:  2.5 L2-Norm: 0.00011216770659606723\n",
      "Number of iter:  3 omega:  3.5 L2-Norm: 7.481018050373393e-05\n",
      "Number of iter:  4 omega:  4.5 L2-Norm: 7.879232082098444e-05\n",
      "Number of iter:  5 omega:  5.5 L2-Norm: 0.00014387173927338457\n",
      "Number of iter:  6 omega:  6.5 L2-Norm: 0.00046366452325399566\n",
      "Number of iter:  7 omega:  7.5 L2-Norm: 9.781756277230418e-05\n",
      "Number of iter:  8 omega:  8.5 L2-Norm: 0.00019604193375842254\n",
      "Number of iter:  9 omega:  9.5 L2-Norm: 0.00011945088978356839\n",
      "Number of iter:  10 omega:  10.5 L2-Norm: 5.7822835494099316e-05\n",
      "Number of iter:  11 omega:  11.5 L2-Norm: 6.489868858147851e-05\n",
      "Number of iter:  12 omega:  12.5 L2-Norm: 0.0007661968101411171\n",
      "Number of iter:  13 omega:  13.5 L2-Norm: 0.00013169181849382642\n",
      "Number of iter:  14 omega:  14.5 L2-Norm: 0.00014374841097408128\n",
      "Number of iter:  15 omega:  15.5 L2-Norm: 5.2530096532712325e-05\n",
      "Number of iter:  16 omega:  16.5 L2-Norm: 4.693672567131717e-05\n",
      "Number of iter:  17 omega:  17.5 L2-Norm: 0.0001378365531970359\n",
      "Number of iter:  18 omega:  18.5 L2-Norm: 0.00011489288158864278\n",
      "Number of iter:  19 omega:  19.5 L2-Norm: 0.00013552839991006217\n"
     ]
    }
   ],
   "source": [
    "u = fes.TrialFunction()\n",
    "v = fes.TestFunction()\n",
    "\n",
    "A = BilinearForm(fes)\n",
    "K = BilinearForm(fes)\n",
    "M = BilinearForm(fes)\n",
    "F = LinearForm(fes)\n",
    "\n",
    "omega = Parameter(1)\n",
    "A += (grad(u)*grad(v)- omega**2*u*v)*dx\n",
    "K += grad(u)*grad(v)*dx\n",
    "M += u*v*dx\n",
    "\n",
    "\n",
    "#A += 1j*omega*u*v*ds # R \n",
    "F += source*v*dx\n",
    "       \n",
    "#omega = 1*pi*20     \n",
    "o = []  \n",
    "\n",
    "norm = []\n",
    "for i in range(0,maxind):\n",
    "    o.append(i+0.5)\n",
    "j = 0\n",
    "#print(\"omega: \",omega)\n",
    "Draw(gfu)\n",
    "for i in o:   \n",
    "    omega.Set(i)\n",
    "    \n",
    "    \n",
    "    A.Assemble()\n",
    "    K.Assemble()\n",
    "    M.Assemble()\n",
    "    F.Assemble()\n",
    "    \n",
    "    gfu.vec.data = A.mat.Inverse(fes.FreeDofs()) * F.vec\n",
    "    #Redraw()\n",
    "\n",
    "    \n",
    "    \n",
    "    #erg[:,j] = gfu.vec \n",
    "    #rhs[:,j] = F.vec\n",
    "    #bas[:,j] = gfu\n",
    "    #print(gfu.cof)\n",
    "    #if(j == 1):\n",
    "        #Ah = A.mat\n",
    "    erg[:,j] = gfu.vec\n",
    "    fh[:,j] = F.vec\n",
    "    norm.append(sqrt (Integrate ((gfu)*(gfu),mesh)))\n",
    "    #exact = sin(pi*x)+sin(pi*y)\n",
    "    #print (\"L2-error:\", sqrt (Integrate ( (gfu-exact)*(gfu-exact), mesh)))\n",
    "    print(\"Number of iter: \",j,\"omega: \",i,\"L2-Norm:\",sqrt (Integrate ((gfu)*(gfu),mesh)))\n",
    "    j = j+1\n",
    "    #input()\n",
    "Ms = M.mat\n",
    "Ks = K.mat\n",
    "rows,cols,vals = Ms.COO()\n",
    "Mh = sp.csr_matrix((vals,(rows,cols)))\n",
    "rows,cols,vals = Ks.COO()\n",
    "Kh = sp.csr_matrix((vals,(rows,cols)))\n",
    "\n",
    "A = BilinearForm(fes)\n",
    "F = LinearForm(fes)\n",
    "\n",
    "A += (grad(u)*grad(v)- 5**2*u*v)*dx\n",
    "F.Assemble()\n",
    "A.Assemble()\n",
    "gfu.vec.data = A.mat.Inverse(fes.FreeDofs()) * F.vec\n",
    "Draw(gfu,mesh,name = \"wave\")"
   ]
  },
  {
   "cell_type": "code",
   "execution_count": 99,
   "metadata": {},
   "outputs": [
    {
     "name": "stdout",
     "output_type": "stream",
     "text": [
      "11926\n"
     ]
    }
   ],
   "source": [
    "V, r = np.linalg.qr(erg)\n",
    "print(len(V))"
   ]
  },
  {
   "cell_type": "code",
   "execution_count": 25,
   "metadata": {},
   "outputs": [
    {
     "data": {
      "text/plain": [
       "[<matplotlib.lines.Line2D at 0x7f962bc00978>]"
      ]
     },
     "execution_count": 25,
     "metadata": {},
     "output_type": "execute_result"
    },
    {
     "data": {
      "image/png": "[encoded data removed]",
      "text/plain": [
       "<Figure size 432x288 with 1 Axes>"
      ]
     },
     "metadata": {
      "needs_background": "light"
     },
     "output_type": "display_data"
    }
   ],
   "source": [
    "vpi = [pi,2*pi,3*pi,4*pi,5*pi,6*pi,7*pi]\n",
    "points = [0.005,0.005,0.005,0.005,0.005,0.005,0.005]\n",
    "plt.plot(o,norm)\n",
    "plt.xlabel(\"omega\")\n",
    "plt.ylabel(\"L2-Norm\")\n",
    "plt.plot(vpi,points, \"r*\")\n",
    "#plt.savefig('results/resonanz_goal_1.png')"
   ]
  },
  {
   "cell_type": "markdown",
   "metadata": {},
   "source": [
    "### Für die erste Metode GramSchmid verwenden um eine orthonormale Koordinatentransformationsmatrix zu erstellen(Euklidische Norm). "
   ]
  },
  {
   "cell_type": "code",
   "execution_count": null,
   "metadata": {},
   "outputs": [],
   "source": [
    "def GramSchidt(V,u):\n",
    "    if V.all() == 0:\n",
    "        z = u\n",
    "    else:\n",
    "        VTu = np.transpose(V).dot(u)\n",
    "        VVTu = V.dot(VTu)\n",
    "        z = u-VVTu\n",
    "        \n",
    "    z = z/LA.norm(z)\n",
    "    return z"
   ]
  },
  {
   "cell_type": "code",
   "execution_count": null,
   "metadata": {},
   "outputs": [],
   "source": [
    "V = np.zeros([len(gfu.vec),maxind])\n",
    "for i in range(maxind):\n",
    "    #for j in range(100):\n",
    "        u = erg[:,i]\n",
    "        zi = GramSchidt(V,u)\n",
    "        V[:,i] = zi "
   ]
  },
  {
   "cell_type": "code",
   "execution_count": null,
   "metadata": {},
   "outputs": [],
   "source": [
    "print(len(V))"
   ]
  },
  {
   "cell_type": "markdown",
   "metadata": {},
   "source": [
    "$$\n",
    "M_N = V \\cdot M_h \\cdot V^T\n",
    "$$\n",
    "\n",
    "$$\n",
    "K_N = V \\cdot K_h \\cdot V^T\n",
    "$$\n",
    "\n",
    "$$\n",
    "f_N = V^T \\cdot f_h\n",
    "$$\n",
    "\n",
    "$$\n",
    "u_i = (K_N - \\omega^2_iM_N)^{-1} \\cdot f_N\n",
    "$$"
   ]
  },
  {
   "cell_type": "code",
   "execution_count": 100,
   "metadata": {},
   "outputs": [],
   "source": [
    "MN = np.transpose(V).dot(Mh.dot(V))\n",
    "KN = np.transpose(V).dot(Kh.dot(V))\n",
    "fN = np.transpose(V).dot(fh)\n",
    "#a = [1,3]\n",
    "#print(a[0]*MN)\n",
    "#print(\"Hallo: \",MN)"
   ]
  },
  {
   "cell_type": "code",
   "execution_count": 101,
   "metadata": {},
   "outputs": [],
   "source": [
    "iteration = int(1e5)\n",
    "interval = 10\n",
    "factor = interval / iteration\n",
    "omegaN = []\n",
    "norm_L2 =[]\n",
    "uN = np.zeros([maxind,iteration])\n",
    "for i in range(iteration):\n",
    "    omegaN.append(factor*i)\n",
    "    uN[:,i] = np.linalg.solve(KN-omegaN[i]**2*MN, fN[0])\n",
    "    norm_L2.append(sqrt(uN[:,i].dot(uN[:,i])))\n",
    "#uN = zeros([maxind,it])\n",
    "#\n",
    "\n",
    "points = []\n",
    "viel = []\n",
    "for i in range(100):\n",
    "    points.append(10)\n",
    "    viel.append(i*pi)\n"
   ]
  },
  {
   "cell_type": "code",
   "execution_count": 102,
   "metadata": {},
   "outputs": [
    {
     "data": {
      "image/png": "[encoded data removed]",
      "text/plain": [
       "<Figure size 432x288 with 1 Axes>"
      ]
     },
     "metadata": {
      "needs_background": "light"
     },
     "output_type": "display_data"
    }
   ],
   "source": [
    "plt.semilogy(omegaN,norm_L2)\n",
    "#plt.plot(viel[0:7], points[0:7], \"r*\")\n",
    "plt.xlabel(\"omega\")\n",
    "plt.ylabel(\"L2-Norm\")\n",
    "plt.savefig('results/resonanz_RB_1.png')"
   ]
  },
  {
   "cell_type": "code",
   "execution_count": null,
   "metadata": {},
   "outputs": [],
   "source": [
    "def GramSchidt(V,u):\n",
    "    if V.all() == 0:\n",
    "        z = u\n",
    "    else:\n",
    "        VTu = np.transpose(V).dot(u)\n",
    "        VVTu = V.dot(VTu)\n",
    "        z = u-VVTu\n",
    "    return z"
   ]
  },
  {
   "cell_type": "code",
   "execution_count": null,
   "metadata": {},
   "outputs": [],
   "source": [
    "V = np.zeros([len(gfu.vec),maxind])\n",
    "for i in range(maxind):\n",
    "    #for j in range(100):\n",
    "        u = erg[:,i]\n",
    "        zi = GramSchidt(V,u)\n",
    "        V[:,i] = zi "
   ]
  },
  {
   "cell_type": "code",
   "execution_count": null,
   "metadata": {},
   "outputs": [],
   "source": [
    "MN = np.transpose(V).dot(Mh.dot(V))\n",
    "KN = np.transpose(V).dot(Kh.dot(V))\n",
    "fN = np.transpose(V).dot(fh)\n",
    "#a = [1,3]\n",
    "#print(a[0]*MN)\n",
    "#print(\"Hallo: \",MN)\n",
    "print(len(KN-20**2*MN))"
   ]
  },
  {
   "cell_type": "code",
   "execution_count": null,
   "metadata": {},
   "outputs": [],
   "source": [
    "iteration = int(1e5)\n",
    "interval = 60\n",
    "factor = interval / iteration\n",
    "omegaN = []\n",
    "norm_L2 =[]\n",
    "uN = np.zeros([maxind,iteration])\n",
    "for i in range(iteration):\n",
    "    omegaN.append(factor*i)\n",
    "    uN[:,i] = np.linalg.solve(KN-omegaN[i]**2*MN, fN[0])\n",
    "    norm_L2.append(sqrt(uN[:,i].dot(uN[:,i])))\n",
    "#uN = zeros([maxind,it])\n",
    "#\n",
    "\n",
    "points = []\n",
    "viel = []\n",
    "for i in range(100):\n",
    "    points.append(10)\n",
    "    viel.append(i*pi)"
   ]
  },
  {
   "cell_type": "code",
   "execution_count": null,
   "metadata": {},
   "outputs": [],
   "source": [
    "plt.semilogy(omegaN,norm_L2)\n",
    "#plt.plot(viel[0:10], points[0:10], \"r*\")\n",
    "plt.xlabel(\"omega\")\n",
    "plt.ylabel(\"L2-Norm\")\n",
    "plt.savefig('data/resonanz_pi_notnorm.png')"
   ]
  },
  {
   "cell_type": "code",
   "execution_count": null,
   "metadata": {},
   "outputs": [],
   "source": [
    "from scipy.linalg import svd\n",
    "U, s, VT = svd(V)"
   ]
  },
  {
   "cell_type": "code",
   "execution_count": null,
   "metadata": {},
   "outputs": [],
   "source": [
    "U, s, VT = svd(V)"
   ]
  }
 ],
 "metadata": {
  "kernelspec": {
   "display_name": "Python 3",
   "language": "python",
   "name": "python3"
  },
  "language_info": {
   "codemirror_mode": {
    "name": "ipython",
    "version": 3
   },
   "file_extension": ".py",
   "mimetype": "text/x-python",
   "name": "python",
   "nbconvert_exporter": "python",
   "pygments_lexer": "ipython3",
   "version": "3.6.9"
  }
 },
 "nbformat": 4,
 "nbformat_minor": 4
}
