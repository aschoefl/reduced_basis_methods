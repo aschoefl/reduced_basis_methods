{
 "cells": [
  {
   "cell_type": "markdown",
   "metadata": {},
   "source": [
    "# Navier Stokes Equation Reduced Basis Method \n",
    "Incompressible timedependet Navier Stokes equation\n",
    "\n",
    "Find $(u,p):[0,T] \\to (H_{0,D}^1)^d \\times L^2$, s.t.\n",
    "\n",
    "\\begin{align}\n",
    "\\int_{\\Omega} \\partial_t u \\cdot v + \\int_{\\Omega} \\nu \\nabla u \\nabla v + u \\cdot \\nabla u v - \\int_{\\Omega} \\operatorname{div}(v) p &= \\int f v  && \\forall v \\in (H_{0,D}^1)^d, \\\\ \n",
    "- \\int_{\\Omega} \\operatorname{div}(u) q &= 0 && \\forall q \\in L^2, \\\\\n",
    "\\quad u(t=0) & = u_0\n",
    "\\end{align}"
   ]
  },
  {
   "cell_type": "code",
   "execution_count": 1,
   "metadata": {},
   "outputs": [],
   "source": [
    "from netgen import gui\n",
    "from ngsolve import *\n",
    "from netgen.geom2d import SplineGeometry\n",
    "import scipy.sparse as sp\n",
    "import numpy as np\n",
    "from math import pi"
   ]
  },
  {
   "cell_type": "code",
   "execution_count": 2,
   "metadata": {},
   "outputs": [],
   "source": [
    "from netgen.geom2d import SplineGeometry\n",
    "geo = SplineGeometry()\n",
    "geo.AddRectangle( (0, 0), (2, 0.41), bcs = (\"wall\", \"outlet\", \"wall\", \"inlet\"))\n",
    "geo.AddCircle ( (0.2, 0.2), r=0.05, leftdomain=0, rightdomain=1, bc=\"cyl\")\n",
    "mesh = Mesh( geo.GenerateMesh(maxh=0.08))\n",
    "mesh.Curve(3)\n",
    "Draw(mesh)\n",
    "# viscosity\n",
    "nu = 0.001\n",
    "dt = 0.001\n",
    "\n",
    "T = 1\n",
    "dn = int(T/dt)\n",
    "z = 100  # Number of snapshots"
   ]
  },
  {
   "cell_type": "code",
   "execution_count": 3,
   "metadata": {},
   "outputs": [],
   "source": [
    "k = 3\n",
    "V = VectorH1(mesh,order=k, dirichlet=\"wall|cyl|inlet\")\n",
    "Q = H1(mesh,order=k-1)\n",
    "X = FESpace([V,Q])"
   ]
  },
  {
   "cell_type": "code",
   "execution_count": 4,
   "metadata": {},
   "outputs": [],
   "source": [
    "gfu_N = GridFunction(X)\n",
    "gfu = GridFunction(X)\n",
    "velocity = gfu.components[0]\n",
    "\n",
    "\n",
    "uin = CoefficientFunction((1.5*4*y*(0.41-y)/(0.41*0.41),0))\n",
    "gfu.components[0].Set(uin, definedon=mesh.Boundaries(\"inlet\"))\n",
    "\n",
    "Draw(gfu.components[0],mesh,\"gfu\",sd=3)"
   ]
  },
  {
   "cell_type": "code",
   "execution_count": 5,
   "metadata": {},
   "outputs": [],
   "source": [
    "(u,p), (v,q) = X.TnT()\n",
    "\n",
    "a = BilinearForm(X)\n",
    "stokes = (nu*InnerProduct(grad(u),grad(v))-div(u)*q-div(v)*p)*dx\n",
    "a += stokes\n",
    "a.Assemble()\n",
    "\n",
    "f = LinearForm(X)\n",
    "f.Assemble()\n",
    "\n",
    "inv_stokes = a.mat.Inverse(X.FreeDofs())\n",
    "\n",
    "res = f.vec.CreateVector()\n",
    "res.data = f.vec - a.mat*gfu.vec\n",
    "gfu.vec.data += inv_stokes * res"
   ]
  },
  {
   "cell_type": "code",
   "execution_count": 6,
   "metadata": {},
   "outputs": [],
   "source": [
    "# matrix for implicit part of IMEX(1) scheme:\n",
    "mstar = BilinearForm(X)\n",
    "\n",
    "mstar += InnerProduct(u,v)*dx + dt*stokes\n",
    "\n",
    "mstar.Assemble()\n",
    "\n",
    "mh = BilinearForm(X)\n",
    "\n",
    "mh += InnerProduct(u,v)*dx\n",
    "mh.Assemble()\n",
    "\n",
    "inv = mstar.mat.Inverse(X.FreeDofs())\n",
    "\n",
    "\n",
    "conv = LinearForm(X)\n",
    "conv += InnerProduct(grad(velocity)*velocity,v)*dx"
   ]
  },
  {
   "cell_type": "code",
   "execution_count": 7,
   "metadata": {},
   "outputs": [],
   "source": [
    "rows,cols,vals = a.mat.COO()\n",
    "Ah = sp.csr_matrix((vals,(rows,cols)))\n",
    "\n",
    "rows,cols,vals = mh.mat.COO()\n",
    "Mh = sp.csr_matrix((vals,(rows,cols)))"
   ]
  },
  {
   "cell_type": "code",
   "execution_count": 8,
   "metadata": {},
   "outputs": [],
   "source": [
    "t = 0\n",
    "len_h = len(gfu.components[0].vec)\n",
    "erg_h = np.zeros([len(gfu.vec),int(dn)+1])\n",
    "line = np.linspace(0,dn-1,z) # stors the number of linear distributed number of iteration from the solution\n",
    "S_POD_v = np.zeros([len_h,z])\n",
    "S_POD_p = np.zeros([len(gfu.components[1].vec),z])\n",
    "#line = np.linspace(0,z,z) # stors the number of linear distributed number of iteration from the solution\n",
    "#line"
   ]
  },
  {
   "cell_type": "markdown",
   "metadata": {},
   "source": [
    "$\n",
    "M\\bigg(\\frac{u^{n+1}-u^n}{k}\\bigg) + A u^{n+1} +C u^{n} = 0\n",
    "$\n",
    "\n",
    "$\n",
    "M^*\\bigg(u^{n+1}-u^n\\bigg) = -k A u^n - k Cu^n\n",
    "$\n",
    "\n",
    "$\n",
    "M^* = M + kA \n",
    "$"
   ]
  },
  {
   "cell_type": "code",
   "execution_count": 9,
   "metadata": {},
   "outputs": [],
   "source": [
    "# implicit Euler/explicit Euler splitting method:\n",
    "erg_h[:,0] = gfu.vec\n",
    "S_POD_v[:,0] = gfu.components[0].vec\n",
    "S_POD_p[:,0] = gfu.components[1].vec\n",
    "\n",
    "o = 1\n",
    "e = int(line[o])\n",
    "for i in range(int(dn)):\n",
    "    conv.Assemble()\n",
    "    res.data = a.mat * gfu.vec + conv.vec\n",
    "    gfu.vec.data -= dt * inv * res\n",
    "    \n",
    "    for r in line:\n",
    "        if int(r) == i: #desided which solution will be orthogonalirsed\n",
    "            if i > 0:\n",
    "                S_POD_v[:,o] = gfu.components[0].vec\n",
    "                S_POD_p[:,o] = gfu.components[1].vec\n",
    "                o = o + 1\n",
    "    erg_h[:,i+1] = gfu.vec #stores the solution for comparing later\n",
    "    t = t + dt\n",
    "    Redraw()"
   ]
  },
  {
   "cell_type": "markdown",
   "metadata": {},
   "source": [
    "## POD method\n",
    "A other way to get the transforamtions matrix is the POD method.\n",
    "gifen $\\mathbb{S} = \\{u_h^0,u_h^1,...u_h^{S-1}\\}$ where $S$ ist the number of snapshots.\n",
    "\n",
    "$\n",
    "C = \\mathbb{S}^T\\mathbb{S}\\\\\n",
    "$\n",
    "\n",
    "$\n",
    "C \\in \\mathbb{R}^{S \\times S}\n",
    "$\n",
    "\n",
    "decompose the solution $u_h$ into the mean part $\\bar{u}_h$ and the fluctuation part $\\hat{u}_h$\n",
    "\n",
    "$\\bar{u}_h = \\frac{1}{S} \\sum_{n=0}^{S-1}u_h^n$  $\\,\\,\\,\\,\\,\\, \\bar{u}_h \\in \\mathbb{R}^{Nh \\times S-1}$????\n",
    "\n",
    "and solve the eigenwalueproblem\n",
    "\n",
    "$\n",
    "C\\Omega = \\Omega\\Lambda\\\\\n",
    "\\Lambda = diag[\\lambda_0,...,\\lambda_{S-1}], \\Omega = [\\omega^0,...,\\omega^{S-1}]\n",
    "$\n",
    "\n",
    "$\\lambda_i$ is the $i$th eigenvalue and $\\omega^i$ is the corresponding normalized $i$th eigenvector\n",
    "\n",
    "For a integer $r<<S$ given the $r$th POD basis like:\n",
    "\n",
    "$\n",
    "\\phi_j = \\frac{1}{\\sqrt{\\lambda_j}}\\sum_{n=0}^{r-1}\\omega^j_nu_h^n, \\,\\,\\,\\,\\,\\,\\,\\, j = 0,...,r-1\n",
    "$\n",
    "\n",
    "Frage:\n",
    "For $j=0$  and $r = 3$ the expression becomes to:\n",
    "\n",
    "$\n",
    "\\phi_0 = \\frac{1}{\\sqrt{\\lambda_0}}\\bigg[\\omega_0^0 \\cdot u_h^0 + \\omega_1^0 \\cdot u_h^1 +\\omega_2^0 \\cdot u_h^2\\bigg]\n",
    "$\n",
    "\n",
    "So $\\phi \\in \\mathbb{R}^{N_h\\times r}$\n",
    "\n",
    "To get a orthogonal basis $V = \\{\\phi_0,...\\phi_{r-1}\\}$"
   ]
  },
  {
   "cell_type": "code",
   "execution_count": 10,
   "metadata": {},
   "outputs": [],
   "source": [
    "def calcMean(S_POD,len_h):\n",
    "    ubar = np.zeros(len_h)\n",
    "    #splitting the snapshotsolution like in the paper\n",
    "    for i in range(S_POD.shape[1]):\n",
    "        ubar = ubar + S_POD[:,i]                   \n",
    "    ubar = 1/S_POD.shape[1] * ubar \n",
    "    for i in range(S_POD.shape[1]):\n",
    "        S_POD[:,i] = S_POD[:,i] - ubar\n",
    "    return S_POD,ubar"
   ]
  },
  {
   "cell_type": "code",
   "execution_count": 11,
   "metadata": {},
   "outputs": [],
   "source": [
    "S_POD_v,ubar_v = calcMean(S_POD_v,len_h)\n",
    "S_POD_p,ubar_p = calcMean(S_POD_p,len(gfu.components[1].vec))"
   ]
  },
  {
   "cell_type": "markdown",
   "metadata": {},
   "source": [
    "# POD_Method RedBasis Book"
   ]
  },
  {
   "cell_type": "code",
   "execution_count": 12,
   "metadata": {},
   "outputs": [],
   "source": [
    "def calcPOD(S_POD,r):\n",
    "    C = np.transpose(S_POD).dot(S_POD)\n",
    "    V_POD = np.zeros([S_POD.shape[0],r])\n",
    "    U,Sig,VH = np.linalg.svd(C)\n",
    "    VH = np.transpose(VH)\n",
    "    for i in range(r):\n",
    "        V_POD[:,i] = 1/(np.sqrt(Sig[i])) * S_POD.dot(VH[:,i])\n",
    "    \n",
    "    return V_POD"
   ]
  },
  {
   "cell_type": "code",
   "execution_count": 13,
   "metadata": {},
   "outputs": [],
   "source": [
    "r = 30\n",
    "V_POD_v = calcPOD(S_POD_v,r)\n",
    "V_POD_p = calcPOD(S_POD_p,r)"
   ]
  },
  {
   "cell_type": "markdown",
   "metadata": {},
   "source": [
    "# Offline decomposition\n",
    "\n",
    "$C_h(\\omega,u,v) = \\int_K(\\nabla \\omega \\cdot u): v$\n",
    "\n",
    "$C0_j = C_h(\\bar{u}_h,\\bar{u}_h,\\phi_j)$\n",
    "\n",
    "$C1_{i,j} = C_h(\\bar{u}_h,\\phi_i,\\phi_j) + C_h(\\phi_i,\\bar{u}_h,\\phi_j)$\n",
    "\n",
    "$C_{i,j,k} = C_h(\\phi_i,\\phi_j,\\phi_k)$"
   ]
  },
  {
   "cell_type": "code",
   "execution_count": 20,
   "metadata": {},
   "outputs": [],
   "source": [
    "def Ch_ngsolve(wh,uh,vh):\n",
    "    Ch = 0\n",
    "    u_N = GridFunction(V)\n",
    "    v_N = GridFunction(V)\n",
    "    w_N = GridFunction(V)\n",
    "    w_N.vec.FV().NumPy()[:] = wh\n",
    "    u_N.vec.FV().NumPy()[:] = uh\n",
    "    v_N.vec.FV().NumPy()[:] = vh\n",
    "        \n",
    "    Ch += Integrate(InnerProduct(Grad(w_N)*u_N,v_N),mesh)\n",
    "    l.data = InnerProduct(Grad(w_N)*u_N,v_N)\n",
    "    print(l)\n",
    "    \n",
    "    return Ch"
   ]
  },
  {
   "cell_type": "code",
   "execution_count": 21,
   "metadata": {},
   "outputs": [
    {
     "ename": "NameError",
     "evalue": "name 'l' is not defined",
     "output_type": "error",
     "traceback": [
      "\u001b[0;31m---------------------------------------------------------------------------\u001b[0m",
      "\u001b[0;31mNameError\u001b[0m                                 Traceback (most recent call last)",
      "\u001b[0;32m<ipython-input-21-7cf54eb8c10f>\u001b[0m in \u001b[0;36m<module>\u001b[0;34m\u001b[0m\n\u001b[1;32m      4\u001b[0m \u001b[0;32mfor\u001b[0m \u001b[0mi\u001b[0m \u001b[0;32min\u001b[0m \u001b[0mrange\u001b[0m\u001b[0;34m(\u001b[0m\u001b[0mr\u001b[0m\u001b[0;34m)\u001b[0m\u001b[0;34m:\u001b[0m\u001b[0;34m\u001b[0m\u001b[0;34m\u001b[0m\u001b[0m\n\u001b[1;32m      5\u001b[0m     \u001b[0mv\u001b[0m \u001b[0;34m=\u001b[0m \u001b[0mV_POD_v\u001b[0m\u001b[0;34m[\u001b[0m\u001b[0;34m:\u001b[0m\u001b[0;34m,\u001b[0m\u001b[0mi\u001b[0m\u001b[0;34m]\u001b[0m\u001b[0;34m\u001b[0m\u001b[0;34m\u001b[0m\u001b[0m\n\u001b[0;32m----> 6\u001b[0;31m     \u001b[0mC0\u001b[0m\u001b[0;34m[\u001b[0m\u001b[0mi\u001b[0m\u001b[0;34m]\u001b[0m \u001b[0;34m=\u001b[0m \u001b[0mCh_ngsolve\u001b[0m\u001b[0;34m(\u001b[0m\u001b[0mw\u001b[0m\u001b[0;34m,\u001b[0m\u001b[0mu\u001b[0m\u001b[0;34m,\u001b[0m\u001b[0mv\u001b[0m\u001b[0;34m)\u001b[0m\u001b[0;34m\u001b[0m\u001b[0;34m\u001b[0m\u001b[0m\n\u001b[0m\u001b[1;32m      7\u001b[0m \u001b[0;31m#C0\u001b[0m\u001b[0;34m\u001b[0m\u001b[0;34m\u001b[0m\u001b[0;34m\u001b[0m\u001b[0m\n",
      "\u001b[0;32m<ipython-input-20-c30e859debd3>\u001b[0m in \u001b[0;36mCh_ngsolve\u001b[0;34m(wh, uh, vh)\u001b[0m\n\u001b[1;32m      9\u001b[0m \u001b[0;34m\u001b[0m\u001b[0m\n\u001b[1;32m     10\u001b[0m     \u001b[0mCh\u001b[0m \u001b[0;34m+=\u001b[0m \u001b[0mIntegrate\u001b[0m\u001b[0;34m(\u001b[0m\u001b[0mInnerProduct\u001b[0m\u001b[0;34m(\u001b[0m\u001b[0mGrad\u001b[0m\u001b[0;34m(\u001b[0m\u001b[0mw_N\u001b[0m\u001b[0;34m)\u001b[0m\u001b[0;34m*\u001b[0m\u001b[0mu_N\u001b[0m\u001b[0;34m,\u001b[0m\u001b[0mv_N\u001b[0m\u001b[0;34m)\u001b[0m\u001b[0;34m,\u001b[0m\u001b[0mmesh\u001b[0m\u001b[0;34m)\u001b[0m\u001b[0;34m\u001b[0m\u001b[0;34m\u001b[0m\u001b[0m\n\u001b[0;32m---> 11\u001b[0;31m     \u001b[0ml\u001b[0m\u001b[0;34m.\u001b[0m\u001b[0mdata\u001b[0m \u001b[0;34m=\u001b[0m \u001b[0mInnerProduct\u001b[0m\u001b[0;34m(\u001b[0m\u001b[0mGrad\u001b[0m\u001b[0;34m(\u001b[0m\u001b[0mw_N\u001b[0m\u001b[0;34m)\u001b[0m\u001b[0;34m*\u001b[0m\u001b[0mu_N\u001b[0m\u001b[0;34m,\u001b[0m\u001b[0mv_N\u001b[0m\u001b[0;34m)\u001b[0m\u001b[0;34m\u001b[0m\u001b[0;34m\u001b[0m\u001b[0m\n\u001b[0m\u001b[1;32m     12\u001b[0m     \u001b[0mprint\u001b[0m\u001b[0;34m(\u001b[0m\u001b[0ml\u001b[0m\u001b[0;34m)\u001b[0m\u001b[0;34m\u001b[0m\u001b[0;34m\u001b[0m\u001b[0m\n\u001b[1;32m     13\u001b[0m \u001b[0;34m\u001b[0m\u001b[0m\n",
      "\u001b[0;31mNameError\u001b[0m: name 'l' is not defined"
     ]
    }
   ],
   "source": [
    "C0 = np.zeros(r)\n",
    "w = ubar_v\n",
    "u = w \n",
    "for i in range(r):\n",
    "    v = V_POD_v[:,i]\n",
    "    C0[i] = Ch_ngsolve(w,u,v)\n",
    "#C0"
   ]
  },
  {
   "cell_type": "code",
   "execution_count": null,
   "metadata": {},
   "outputs": [],
   "source": [
    "C1 = np.zeros([r,r])\n",
    "for i in range(r):\n",
    "    w = ubar_v\n",
    "    u = V_POD_v[:,i]\n",
    "    for j in range(r):\n",
    "        v = V_POD_v[:,j]\n",
    "        C1[i,j] = Ch_ngsolve(w,u,v)\n",
    "        C1[i,j] += Ch_ngsolve(u,w,v)\n",
    "#C1"
   ]
  },
  {
   "cell_type": "code",
   "execution_count": null,
   "metadata": {},
   "outputs": [],
   "source": [
    "C = np.zeros([r,r,r])\n",
    "for i in range(r):\n",
    "    w = V_POD_v[:,i]\n",
    "    for j in range(r):\n",
    "        u = V_POD_v[:,j]\n",
    "        for k in range(r):\n",
    "            v = V_POD_v[:,k]\n",
    "            C[i,j,k] = Ch_ngsolve(w,u,v)\n",
    "#C"
   ]
  },
  {
   "cell_type": "code",
   "execution_count": null,
   "metadata": {},
   "outputs": [],
   "source": [
    "V_POD = np.zeros([len(gfu.vec),r])\n",
    "V_POD[0:len(gfu.components[0].vec),0:r] = V_POD_v[:,:]\n",
    "V_POD[len(gfu.components[0].vec):len(gfu.vec),0:r] = V_POD_p[:,:]\n",
    "V_POD = 1/(np.sqrt(2))*V_POD"
   ]
  },
  {
   "cell_type": "markdown",
   "metadata": {},
   "source": [
    "# RedBasis NavierStokes"
   ]
  },
  {
   "cell_type": "code",
   "execution_count": null,
   "metadata": {},
   "outputs": [],
   "source": [
    "MN = np.transpose(V_POD).dot(Mh.dot(V_POD))\n",
    "AN = np.transpose(V_POD).dot(Ah.dot(V_POD))"
   ]
  },
  {
   "cell_type": "code",
   "execution_count": null,
   "metadata": {},
   "outputs": [],
   "source": [
    "gfu_N = GridFunction(X)\n",
    "gfu = GridFunction(X)\n",
    "gfu_N.vec.FV().NumPy()[:] = erg_h[:,0]\n",
    "gfu.vec.FV().NumPy()[:] = erg_h[:,0]\n",
    "\n",
    "uN = np.array(gfu_N.vec).dot(V_POD)\n",
    "Draw(gfu_N.components[0],mesh,\"gfu_N\",sd=3)\n",
    "Draw(gfu_N.components[0]-gfu.components[0],mesh,\"error\",sd=3)\n",
    "err = res.CreateVector()"
   ]
  },
  {
   "cell_type": "code",
   "execution_count": null,
   "metadata": {},
   "outputs": [],
   "source": [
    "dt = 0.00001\n",
    "dn = 1/dt\n",
    "Residium = []\n",
    "time = []\n",
    "erg_N = np.zeros([len(gfu.vec),int(dn)+1])\n",
    "erg_N[:,0] = gfu_N.vec\n",
    "\n",
    "\n",
    "MN_star = MN + dt*AN\n",
    "inv_N = np.linalg.inv(MN_star)\n",
    "for i in range(int(dn)):\n",
    "    #err.vec = sqrt (Integrate ((gfu.components[0]-gfu_N.components[0])*(gfu.components[0]-gfu_N.components[0]),mesh))\n",
    "    \n",
    "    res_N = C0 + C1.dot(uN) + uN.dot(C.dot(uN)) + AN.dot(uN)\n",
    "    #res_N = AN.dot(uN)\n",
    "    uN -= dt * inv_N.dot(res_N)\n",
    "    #erg_N[:,i+1] = (uN).dot(np.transpose(V_POD))\n",
    "    \n",
    "    \n",
    "    #gfu.vec.FV().NumPy()[:] = erg_h[:,i+1]\n",
    "    gfu_N.vec.FV().NumPy()[:] = (uN).dot(np.transpose(V_POD))\n",
    "    #Residium.append(err.vec)\n",
    "    #time.append(dt*i)\n",
    "    Redraw()"
   ]
  },
  {
   "cell_type": "code",
   "execution_count": null,
   "metadata": {},
   "outputs": [],
   "source": []
  }
 ],
 "metadata": {
  "kernelspec": {
   "display_name": "Python 3.7.5 64-bit",
   "language": "python",
   "name": "python37564bitb5f188b5fd4549769c9ea1e1a366fa0d"
  },
  "language_info": {
   "codemirror_mode": {
    "name": "ipython",
    "version": 3
   },
   "file_extension": ".py",
   "mimetype": "text/x-python",
   "name": "python",
   "nbconvert_exporter": "python",
   "pygments_lexer": "ipython3",
   "version": "3.7.5"
  }
 },
 "nbformat": 4,
 "nbformat_minor": 4
}
