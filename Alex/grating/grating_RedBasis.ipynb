{
 "cells": [
  {
   "cell_type": "code",
   "execution_count": 1,
   "metadata": {},
   "outputs": [],
   "source": [
    "import netgen.gui\n",
    "from ngsolve import *\n",
    "import scipy.sparse as sp\n",
    "from ngsolve import internal\n",
    "from netgen.geom2d import *\n",
    "import numpy as np\n",
    "import matplotlib.pyplot as plt\n",
    "\n",
    "import ipywidgets as widgets\n",
    "from IPython.display import display"
   ]
  },
  {
   "cell_type": "code",
   "execution_count": null,
   "metadata": {},
   "outputs": [],
   "source": [
    "def AllEw(A,B):\n",
    "    Binv = np.linalg.inv(B)\n",
    "    lam,v = np.linalg.eig(Binv.dot(A))\n",
    "    return lam"
   ]
  },
  {
   "cell_type": "code",
   "execution_count": null,
   "metadata": {},
   "outputs": [],
   "source": [
    "geo = SplineGeometry()\n",
    "geo.AddRectangle ( (0,0), (1,1), bcs=[\"bottom\",\"right\",\"top\",\"left\"], leftdomain=1)\n",
    "\n",
    "n = 3\n",
    "r = 0.005\n",
    "geo.AddRectangle((0.45,0.45),(0.5, 0.55), bc=\"interface\",leftdomain=0, rightdomain=1)\n",
    "geo.AddRectangle((0.45,0.44),(0.5, 0.001), bc=\"interface\",leftdomain=0, rightdomain=1)\n",
    "geo.AddRectangle((0.45,0.56),(0.5, 0.999), bc=\"interface\",leftdomain=0, rightdomain=1)\n",
    "#geo.AddCircle ( (0.5,0.48), r=r, bc=\"interface\",leftdomain=0, rightdomain=1)\n",
    "#geo.AddCircle ( (0.5,0.52), r=r, bc=\"interface\",leftdomain=0, rightdomain=1)\n",
    "#geo.AddCircle ( (0.5,0.5), r=r, bc=\"interface\",leftdomain=0, rightdomain=1)\n",
    "#geo.AddCircle ( (0.5,(1)/(3)), r=r, bc=\"interface\",leftdomain=0, rightdomain=1)\n",
    "                     \n",
    "geo.SetMaterial(1, \"medium\")\n",
    "# geo.SetMaterial(2, \"dot\")\n",
    "\n",
    "mesh = Mesh(geo.GenerateMesh(maxh=0.02))\n",
    "mesh.Curve(3)\n",
    "Draw (mesh)"
   ]
  },
  {
   "cell_type": "code",
   "execution_count": 10,
   "metadata": {},
   "outputs": [],
   "source": [
    "geo = SplineGeometry()\n",
    "geo.AddRectangle ( (0,0), (1,1), bcs=[\"bottom\",\"right\",\"top\",\"left\"], leftdomain=1)\n",
    "\n",
    "n = 40\n",
    "r = 0.005\n",
    "for i in range(n-1):\n",
    "    geo.AddCircle ( (0.5,(i+1)/(n)), r=r, bc=\"interface\", \n",
    "                     leftdomain=0, rightdomain=1)\n",
    "geo.SetMaterial(1, \"medium\")\n",
    "\n",
    "\n",
    "mesh = Mesh(geo.GenerateMesh(maxh=0.02))\n",
    "mesh.Curve(3)\n",
    "Draw (mesh)"
   ]
  },
  {
   "cell_type": "code",
   "execution_count": 11,
   "metadata": {},
   "outputs": [],
   "source": [
    "source = exp(-10**2*(y-0.5)*(y-0.5))\n",
    "Draw(source,mesh,name=\"sorce\")"
   ]
  },
  {
   "cell_type": "code",
   "execution_count": 16,
   "metadata": {},
   "outputs": [
    {
     "name": "stdout",
     "output_type": "stream",
     "text": [
      "Number of iter:  0 omega:  251.314 L2-Norm: (0.0007119328490967492+7.355958213524856e-24j)\n",
      "Number of iter:  1 omega:  257.92752631578946 L2-Norm: (0.0006930865559650687+7.140635699807646e-24j)\n",
      "Number of iter:  2 omega:  264.54105263157896 L2-Norm: (0.0006757271174874931+6.807051390114775e-24j)\n",
      "Number of iter:  3 omega:  271.1545789473684 L2-Norm: (0.0006600990497361615-1.9611924976151344e-23j)\n",
      "Number of iter:  4 omega:  277.7681052631579 L2-Norm: (0.0006458688491090847+2.233827266356696e-23j)\n",
      "Number of iter:  5 omega:  284.38163157894735 L2-Norm: (0.0006324730045148813-6.76235602519117e-23j)\n",
      "Number of iter:  6 omega:  290.99515789473685 L2-Norm: (0.0006198999713513087+5.802480803532988e-23j)\n",
      "Number of iter:  7 omega:  297.6086842105263 L2-Norm: (0.0006075668549537969+1.8429429015185903e-23j)\n",
      "Number of iter:  8 omega:  304.2222105263158 L2-Norm: (0.0005959690235061452-3.5313432748762196e-23j)\n",
      "Number of iter:  9 omega:  310.83573684210523 L2-Norm: (0.0005847655137329321-3.6471739919626226e-23j)\n",
      "Number of iter:  10 omega:  317.44926315789473 L2-Norm: (0.0005736109881072856-1.6327420925640284e-23j)\n",
      "Number of iter:  11 omega:  324.06278947368423 L2-Norm: (0.0005630241685522109+1.7822176678046584e-23j)\n",
      "Number of iter:  12 omega:  330.6763157894737 L2-Norm: (0.0005523976761576712+1.5987298003362018e-23j)\n",
      "Number of iter:  13 omega:  337.2898421052631 L2-Norm: (0.000541794295506927-2.2798531379312058e-23j)\n",
      "Number of iter:  14 omega:  343.9033684210526 L2-Norm: (0.0005318736799614752-6.121332371149722e-24j)\n",
      "Number of iter:  15 omega:  350.5168947368421 L2-Norm: (0.0005232331244003785-1.0761298724382849e-23j)\n",
      "Number of iter:  16 omega:  357.13042105263156 L2-Norm: (0.0005086788989988729-4.387042542881665e-23j)\n",
      "Number of iter:  17 omega:  363.743947368421 L2-Norm: (0.0004871580535885196-3.480229011740255e-23j)\n",
      "Number of iter:  18 omega:  370.3574736842105 L2-Norm: (0.0004921893258930874+3.4315085250985525e-23j)\n",
      "Number of iter:  19 omega:  376.971 L2-Norm: (0.000482274191358262-3.322664762497986e-23j)\n"
     ]
    }
   ],
   "source": [
    "pi = 3.141425\n",
    "maxind = 20\n",
    "omegfact = np.linspace(40,60,maxind)\n",
    "fes = H1(mesh, order=5, complex=True, dirichlet=\"interface\")\n",
    "gfu = GridFunction(fes)\n",
    "erg = np.zeros([len(gfu.vec),maxind],dtype=complex)\n",
    "n = { \"medium\" : 1, \"dot\" : 3 }\n",
    "cfn = CoefficientFunction( [n[mat] for mat in mesh.GetMaterials()] )\n",
    "\n",
    "\n",
    "u = fes.TrialFunction()\n",
    "v = fes.TestFunction()\n",
    "\n",
    "A = BilinearForm(fes)\n",
    "R = BilinearForm(fes)\n",
    "K = BilinearForm(fes)\n",
    "M = BilinearForm(fes)\n",
    "F = LinearForm(fes)\n",
    "\n",
    "omega = Parameter(1)\n",
    "A += (grad(u)*grad(v)- omega**2*cfn*cfn*u*v)*dx\n",
    "A += -1j*omega*u*v*ds(\"left|right|top|bottom\")\n",
    "K += grad(u)*grad(v)*dx\n",
    "R += -1j*u*v*ds(\"left|right|top|bottom\")\n",
    "M += cfn*cfn*u*v*dx\n",
    "\n",
    "F = LinearForm(fes)\n",
    "\n",
    "F += source*v*ds(\"left\")\n",
    "\n",
    "o = []\n",
    "norm = []\n",
    "for i in range(maxind):\n",
    "    o.append(2*pi*omegfact[i])\n",
    "#o = [2*pi*50]\n",
    "j = 0\n",
    "for i in o:   \n",
    "    with TaskManager():\n",
    "        omega.Set(i) \n",
    "        A.Assemble()\n",
    "        K.Assemble()\n",
    "        M.Assemble()\n",
    "        F.Assemble()\n",
    "        R.Assemble()   \n",
    "        inv = A.mat.Inverse(fes.FreeDofs(), inverse=\"sparsecholesky\")\n",
    "        gfu.vec.data = inv * F.vec\n",
    "        erg[:,j] = gfu.vec\n",
    "        fh = F.vec\n",
    "        norm.append(sqrt (Integrate ((Conj(gfu))*(gfu),mesh)))\n",
    "        print(\"Number of iter: \",j,\"omega: \",i,\"L2-Norm:\",sqrt (Integrate ((Conj(gfu))*(gfu),mesh)))\n",
    "        j = j+1\n",
    "    \n",
    "Draw (gfu,mesh,name = \"u_h\")\n",
    "\n",
    "\n",
    "rows,cols,vals = M.mat.COO()\n",
    "Mh = sp.csr_matrix((vals,(rows,cols)))\n",
    "rows,cols,vals = K.mat.COO()\n",
    "Kh = sp.csr_matrix((vals,(rows,cols)))\n",
    "rows,cols,vals = R.mat.COO()\n",
    "Rh = sp.csr_matrix((vals,(rows,cols)))\n"
   ]
  },
  {
   "cell_type": "code",
   "execution_count": 13,
   "metadata": {},
   "outputs": [],
   "source": [
    "V, r = np.linalg.qr(erg)\n",
    "V = V.dot(np.linalg.inv(r))"
   ]
  },
  {
   "cell_type": "code",
   "execution_count": 14,
   "metadata": {},
   "outputs": [],
   "source": [
    "MN = np.transpose(V).dot(Mh.dot(V))\n",
    "KN = np.transpose(V).dot(Kh.dot(V))\n",
    "RN = np.transpose(V).dot(Rh.dot(V))\n",
    "fN = np.transpose(V).dot(fh)"
   ]
  },
  {
   "cell_type": "code",
   "execution_count": 22,
   "metadata": {},
   "outputs": [
    {
     "name": "stdout",
     "output_type": "stream",
     "text": [
      "Omega:  251.314\n"
     ]
    },
    {
     "name": "stderr",
     "output_type": "stream",
     "text": [
      "/home/alexander/.local/lib/python3.7/site-packages/ipykernel_launcher.py:11: ComplexWarning: Casting complex values to real discards the imaginary part\n",
      "  # This is added back by InteractiveShellApp.init_path()\n"
     ]
    },
    {
     "ename": "IndexError",
     "evalue": "boolean index did not match indexed array along dimension 0; dimension is 20 but corresponding boolean dimension is 155232",
     "output_type": "error",
     "traceback": [
      "\u001b[0;31m---------------------------------------------------------------------------\u001b[0m",
      "\u001b[0;31mIndexError\u001b[0m                                Traceback (most recent call last)",
      "\u001b[0;32m<ipython-input-22-05bc1dffd717>\u001b[0m in \u001b[0;36m<module>\u001b[0;34m\u001b[0m\n\u001b[1;32m     11\u001b[0m     \u001b[0muN_s\u001b[0m\u001b[0;34m[\u001b[0m\u001b[0;34m:\u001b[0m\u001b[0;34m,\u001b[0m\u001b[0mj\u001b[0m\u001b[0;34m]\u001b[0m \u001b[0;34m=\u001b[0m \u001b[0mnp\u001b[0m\u001b[0;34m.\u001b[0m\u001b[0mlinalg\u001b[0m\u001b[0;34m.\u001b[0m\u001b[0msolve\u001b[0m\u001b[0;34m(\u001b[0m\u001b[0mKN\u001b[0m\u001b[0;34m-\u001b[0m\u001b[0mfre\u001b[0m\u001b[0;34m**\u001b[0m\u001b[0;36m2\u001b[0m\u001b[0;34m*\u001b[0m\u001b[0mMN\u001b[0m\u001b[0;34m+\u001b[0m\u001b[0mfre\u001b[0m\u001b[0;34m*\u001b[0m\u001b[0mRN\u001b[0m\u001b[0;34m,\u001b[0m \u001b[0mfN\u001b[0m\u001b[0;34m)\u001b[0m\u001b[0;34m\u001b[0m\u001b[0;34m\u001b[0m\u001b[0m\n\u001b[1;32m     12\u001b[0m     \u001b[0mprint\u001b[0m\u001b[0;34m(\u001b[0m\u001b[0;34m\"Omega: \"\u001b[0m\u001b[0;34m,\u001b[0m\u001b[0mfre\u001b[0m\u001b[0;34m)\u001b[0m\u001b[0;34m\u001b[0m\u001b[0;34m\u001b[0m\u001b[0m\n\u001b[0;32m---> 13\u001b[0;31m     \u001b[0mnorm_L2_s\u001b[0m\u001b[0;34m.\u001b[0m\u001b[0mappend\u001b[0m\u001b[0;34m(\u001b[0m\u001b[0mnp\u001b[0m\u001b[0;34m.\u001b[0m\u001b[0mlinalg\u001b[0m\u001b[0;34m.\u001b[0m\u001b[0mnorm\u001b[0m\u001b[0;34m(\u001b[0m\u001b[0muN_s\u001b[0m\u001b[0;34m[\u001b[0m\u001b[0;34m:\u001b[0m\u001b[0;34m,\u001b[0m\u001b[0mj\u001b[0m\u001b[0;34m]\u001b[0m\u001b[0;34m[\u001b[0m\u001b[0mfes\u001b[0m\u001b[0;34m.\u001b[0m\u001b[0mFreeDofs\u001b[0m\u001b[0;34m(\u001b[0m\u001b[0;34m)\u001b[0m\u001b[0;34m]\u001b[0m\u001b[0;34m)\u001b[0m\u001b[0;34m)\u001b[0m\u001b[0;34m\u001b[0m\u001b[0;34m\u001b[0m\u001b[0m\n\u001b[0m\u001b[1;32m     14\u001b[0m \u001b[0;34m\u001b[0m\u001b[0m\n\u001b[1;32m     15\u001b[0m     \u001b[0mured\u001b[0m\u001b[0;34m.\u001b[0m\u001b[0mvec\u001b[0m\u001b[0;34m.\u001b[0m\u001b[0mFV\u001b[0m\u001b[0;34m(\u001b[0m\u001b[0;34m)\u001b[0m\u001b[0;34m.\u001b[0m\u001b[0mNumPy\u001b[0m\u001b[0;34m(\u001b[0m\u001b[0;34m)\u001b[0m\u001b[0;34m[\u001b[0m\u001b[0;34m:\u001b[0m\u001b[0;34m]\u001b[0m \u001b[0;34m=\u001b[0m \u001b[0muN_s\u001b[0m\u001b[0;34m[\u001b[0m\u001b[0;34m:\u001b[0m\u001b[0;34m,\u001b[0m\u001b[0mj\u001b[0m\u001b[0;34m]\u001b[0m\u001b[0;34m.\u001b[0m\u001b[0mdot\u001b[0m\u001b[0;34m(\u001b[0m\u001b[0mnp\u001b[0m\u001b[0;34m.\u001b[0m\u001b[0mtranspose\u001b[0m\u001b[0;34m(\u001b[0m\u001b[0mV\u001b[0m\u001b[0;34m)\u001b[0m\u001b[0;34m)\u001b[0m\u001b[0;34m\u001b[0m\u001b[0;34m\u001b[0m\u001b[0m\n",
      "\u001b[0;31mIndexError\u001b[0m: boolean index did not match indexed array along dimension 0; dimension is 20 but corresponding boolean dimension is 155232"
     ]
    }
   ],
   "source": [
    "ured = GridFunction(fes)\n",
    "norm_s =[]\n",
    "Residual_s=[]\n",
    "#ngs_temp = K.mat.CreateColVector()\n",
    "#ngs_temp2 = K.mat.CreateColVector()\n",
    "uN_s = np.zeros([maxind,maxind])\n",
    "j = 0\n",
    "for fre in o:\n",
    "    ngs_temp = K.mat.CreateColVector()\n",
    "    ngs_temp2 = K.mat.CreateColVector()\n",
    "    uN_s[:,j] = np.linalg.solve(KN-fre**2*MN+fre*RN, fN)\n",
    "    print(\"Omega: \",fre)\n",
    "    norm_s.append(np.linalg.norm(uN_s[:,j]))\n",
    "\n",
    "    ured.vec.FV().NumPy()[:] = uN_s[:,j].dot(np.transpose(V))\n",
    "    with TaskManager():\n",
    "        ngs_temp.data = K.mat*ured.vec - fre*fre*M.mat*ured.vec + fre * R.mat*ured.vec - F.vec\n",
    "        ngs_temp2.data = Projector(fes.FreeDofs(), True)*ngs_temp                                      \n",
    "        res = Norm(ngs_temp2)\n",
    "        Residual_s.append(res)\n",
    "    j = j + 1\n",
    "Residual_s    "
   ]
  },
  {
   "cell_type": "code",
   "execution_count": 20,
   "metadata": {},
   "outputs": [
    {
     "data": {
      "text/plain": [
       "[<pyngcore.BitArray at 0x7f519b168b70>]"
      ]
     },
     "execution_count": 20,
     "metadata": {},
     "output_type": "execute_result"
    }
   ],
   "source": [
    "[fes.FreeDofs()]"
   ]
  },
  {
   "cell_type": "code",
   "execution_count": 9,
   "metadata": {},
   "outputs": [],
   "source": [
    "u_N_s = GridFunction(fes)\n",
    "u_N_s.vec.FV().NumPy()[:] = uN_s[:,19].dot(np.transpose(V))\n",
    "Draw(u_N_s,mesh,name=\"u_N_s\")\n",
    "Draw(u_N_s-gfu,mesh,name=\"u_err\")"
   ]
  },
  {
   "cell_type": "code",
   "execution_count": null,
   "metadata": {
    "tags": [
     "outputPrepend",
     "outputPrepend",
     "outputPrepend",
     "outputPrepend",
     "outputPrepend",
     "outputPrepend",
     "outputPrepend",
     "outputPrepend",
     "outputPrepend",
     "outputPrepend",
     "outputPrepend",
     "outputPrepend",
     "outputPrepend",
     "outputPrepend",
     "outputPrepend",
     "outputPrepend"
    ]
   },
   "outputs": [],
   "source": [
    "ured = GridFunction(fes)\n",
    "iteration = int(1000)\n",
    "Start = o[0] \n",
    "Ende = o[maxind-1]\n",
    "lam = []\n",
    "factor = (Ende-Start) / iteration\n",
    "omegaN = []\n",
    "norm_L2 =[]\n",
    "Residual=[]\n",
    "ngs_temp = K.mat.CreateColVector()\n",
    "ngs_temp2 = K.mat.CreateColVector()\n",
    "uN = np.zeros([maxind,iteration])\n",
    "for i in range(iteration):\n",
    "    omegaN.append(Start+factor*i)\n",
    "    uN[:,i] = np.linalg.solve(KN-omegaN[i]**2*MN+omegaN[i]*RN, fN)\n",
    "    print(\"i: \",i,\"Omega: \",omegaN[i])\n",
    "    norm_L2.append(sqrt(np.vdot(uN[:,i],uN[:,i])))\n",
    "\n",
    "    ured.vec.FV().NumPy()[:] = uN[:,i].dot(np.transpose(V))\n",
    "    with TaskManager():\n",
    "        ngs_temp.data = K.mat*ured.vec - omegaN[i]*omegaN[i]*M.mat*ured.vec + omegaN[i] * R.mat*ured.vec - F.vec\n",
    "        ngs_temp2.data = Projector(fes.FreeDofs(), True)*ngs_temp                                      \n",
    "        res = Norm(ngs_temp2)\n",
    "        Residual.append(res)"
   ]
  },
  {
   "cell_type": "code",
   "execution_count": null,
   "metadata": {},
   "outputs": [],
   "source": [
    "print(Residual[53],o[1])"
   ]
  },
  {
   "cell_type": "code",
   "execution_count": null,
   "metadata": {},
   "outputs": [],
   "source": [
    "l=AllEw(KN,MN+RN)\n",
    "l = np.sqrt(l)"
   ]
  },
  {
   "cell_type": "code",
   "execution_count": null,
   "metadata": {},
   "outputs": [],
   "source": [
    "def DrawOmega(amp):\n",
    "    gfu_N = GridFunction(fes)\n",
    "    gfu_N.vec.FV().NumPy()[:] = uN[:,amp].dot(np.transpose(V))\n",
    "    print(omegaN[amp])\n",
    "    Draw (gfu_N,mesh,name=\"u_N\")\n",
    "    internal.visoptions.autoscale = False\n",
    "    "
   ]
  },
  {
   "cell_type": "code",
   "execution_count": null,
   "metadata": {},
   "outputs": [],
   "source": [
    "#x = np.linspace(0,10,1000)\n",
    "amp = widgets.IntSlider(min=0, max=iteration-1, value=4, description = \"Omega:\")\n",
    "widgets.interactive(DrawOmega,amp=amp)"
   ]
  },
  {
   "cell_type": "code",
   "execution_count": null,
   "metadata": {},
   "outputs": [],
   "source": [
    "d = []\n",
    "for i in range(20):\n",
    "    d.append(0.1)"
   ]
  },
  {
   "cell_type": "code",
   "execution_count": null,
   "metadata": {},
   "outputs": [],
   "source": [
    "plt.plot(omegaN,Residual)\n",
    "#plt.plot(o,d,\"ro\")\n",
    "plt.plot(np.real(l[2:]),d[2:],\"bo\")"
   ]
  },
  {
   "cell_type": "code",
   "execution_count": null,
   "metadata": {},
   "outputs": [],
   "source": [
    "plt.plot(omegaN,norm_L2)\n",
    "plt.plot(np.real(l[2:]),d[2:],\"bo\")"
   ]
  },
  {
   "cell_type": "code",
   "execution_count": null,
   "metadata": {},
   "outputs": [],
   "source": []
  }
 ],
 "metadata": {
  "kernelspec": {
   "display_name": "Python 3.7.5 64-bit",
   "language": "python",
   "name": "python37564bitb5f188b5fd4549769c9ea1e1a366fa0d"
  },
  "language_info": {
   "codemirror_mode": {
    "name": "ipython",
    "version": 3
   },
   "file_extension": ".py",
   "mimetype": "text/x-python",
   "name": "python",
   "nbconvert_exporter": "python",
   "pygments_lexer": "ipython3",
   "version": "3.7.5"
  }
 },
 "nbformat": 4,
 "nbformat_minor": 2
}
