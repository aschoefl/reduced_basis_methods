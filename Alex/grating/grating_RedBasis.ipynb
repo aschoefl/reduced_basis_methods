{
 "cells": [
  {
   "cell_type": "code",
   "execution_count": null,
   "metadata": {},
   "outputs": [],
   "source": [
    "import netgen.gui\n",
    "from ngsolve import *\n",
    "import scipy.sparse as sp\n",
    "from ngsolve import internal\n",
    "from netgen.geom2d import *\n",
    "import numpy as np\n",
    "import matplotlib.pyplot as plt\n",
    "\n",
    "import ipywidgets as widgets\n",
    "from IPython.display import display\n",
    "import math \n",
    "import numpy.linalg as LA"
   ]
  },
  {
   "cell_type": "code",
   "execution_count": null,
   "metadata": {},
   "outputs": [],
   "source": [
    "def setang(alpha,d):\n",
    "    if alpha > 90 or alpha < 30:\n",
    "        return print(\"wrong angle\")\n",
    "    return d/(np.sin(np.radians(alpha)))"
   ]
  },
  {
   "cell_type": "code",
   "execution_count": null,
   "metadata": {},
   "outputs": [],
   "source": [
    "maxind = 120\n",
    "mode = \"equi\"\n",
    "s = 40\n",
    "\n",
    "# set the minimumangle\n",
    "alpha1 = 40\n",
    "# set the maxangle\n",
    "alpha2 = 70"
   ]
  },
  {
   "cell_type": "code",
   "execution_count": null,
   "metadata": {},
   "outputs": [],
   "source": [
    "def ChebPoints(a,b,n):\n",
    "    pi = 3.1415\n",
    "    x_i = []\n",
    "    for i in range(0,n+1):\n",
    "        fac = (2*i+1)/(2*n+2)\n",
    "        x_ch = np.cos(pi*fac)\n",
    "        x_i.append((a+b)/2+((b-a)/2)*x_ch)\n",
    "    return x_i"
   ]
  },
  {
   "cell_type": "code",
   "execution_count": null,
   "metadata": {},
   "outputs": [],
   "source": [
    "geo = SplineGeometry()\n",
    "geo.AddRectangle ( (0,0), (1,1), bcs=[\"bottom\",\"right\",\"top\",\"left\"], leftdomain=1)\n",
    "\n",
    "n = 3\n",
    "r = 0.005\n",
    "#geo.AddRectangle((0.45,0.49),(0.5, 0.51), bc=\"interface\",leftdomain=0, rightdomain=1)\n",
    "\n",
    "#geo.AddRectangle((0.45,0.48),(0.5, 0.001), bc=\"interface\",leftdomain=0, rightdomain=1)\n",
    "#geo.AddRectangle((0.45,0.52),(0.5, 0.999), bc=\"interface\",leftdomain=0, rightdomain=1)\n",
    "\n",
    "\n",
    "#geo.AddCircle ( (0.5,0.48), r=r, bc=\"interface\",leftdomain=0, rightdomain=1)\n",
    "#geo.AddCircle ( (0.5,0.52), r=r, bc=\"interface\",leftdomain=0, rightdomain=1)\n",
    "#geo.AddCircle ( (0.5,0.5), r=r, bc=\"interface\",leftdomain=0, rightdomain=1)\n",
    "#geo.AddCircle ( (0.5,(1)/(3)), r=r, bc=\"interface\",leftdomain=0, rightdomain=1)\n",
    "                     \n",
    "geo.SetMaterial(1, \"medium\")\n",
    "# geo.SetMaterial(2, \"dot\")\n",
    "\n",
    "mesh = Mesh(geo.GenerateMesh(maxh=0.02))\n",
    "mesh.Curve(3)\n",
    "Draw (mesh)"
   ]
  },
  {
   "cell_type": "code",
   "execution_count": null,
   "metadata": {},
   "outputs": [],
   "source": [
    "geo = SplineGeometry()\n",
    "geo.AddRectangle ( (0,0), (1,1), bcs=[\"bottom\",\"right\",\"top\",\"left\"], leftdomain=1)\n",
    "\n",
    "r = 0.005\n",
    "for i in range(s-1):\n",
    "    geo.AddCircle ( (0.5,(i+1)/(s)), r=r, bc=\"interface\", \n",
    "                     leftdomain=0, rightdomain=1)\n",
    "geo.SetMaterial(1, \"medium\")\n",
    "\n",
    "\n",
    "mesh = Mesh(geo.GenerateMesh(maxh=0.02))\n",
    "mesh.Curve(3)\n",
    "Draw (mesh)"
   ]
  },
  {
   "cell_type": "code",
   "execution_count": null,
   "metadata": {},
   "outputs": [],
   "source": [
    "source = exp(-10**2*(y-0.5)*(y-0.5))\n",
    "Draw(source,mesh,name=\"sorce\")"
   ]
  },
  {
   "cell_type": "code",
   "execution_count": null,
   "metadata": {},
   "outputs": [],
   "source": [
    "n = 20\n",
    "x_i = ChebPoints(-1,1,n)\n",
    "d = []\n",
    "for i in range(n+1):\n",
    "    d.append(0)\n",
    "plt.plot(x_i,d,\"rx\")"
   ]
  },
  {
   "cell_type": "code",
   "execution_count": null,
   "metadata": {},
   "outputs": [],
   "source": [
    "lower = setang(alpha2,s)\n",
    "upper = setang(alpha1,s)\n",
    "if mode == \"Cheb\":\n",
    "    omegfact = np.sort(ChebPoints(lower,upper,maxind))\n",
    "if mode == \"equi\":\n",
    "    omegfact = np.linspace(lower,upper,maxind)\n",
    "\n",
    "print(mode)\n",
    "fes = H1(mesh, order=5, complex=True, dirichlet=\"interface\")\n",
    "gfu = GridFunction(fes)\n",
    "erg = np.zeros([len(gfu.vec),maxind],dtype=complex)\n",
    "n = { \"medium\" : 1, \"dot\" : 3 }\n",
    "cfn = CoefficientFunction( [n[mat] for mat in mesh.GetMaterials()] )\n",
    "\n",
    "\n",
    "u = fes.TrialFunction()\n",
    "v = fes.TestFunction()\n",
    "\n",
    "A = BilinearForm(fes)\n",
    "R = BilinearForm(fes)\n",
    "K = BilinearForm(fes)\n",
    "M = BilinearForm(fes)\n",
    "F = LinearForm(fes)\n",
    "\n",
    "omega = Parameter(1)\n",
    "A += (grad(u)*grad(v)- omega**2*cfn*cfn*u*v)*dx\n",
    "A += -1j*omega*u*v*ds(\"left|right|top|bottom\")\n",
    "K += grad(u)*grad(v)*dx\n",
    "R += -1j*u*v*ds(\"left|right|top|bottom\")\n",
    "M += cfn*cfn*u*v*dx\n",
    "\n",
    "F = LinearForm(fes)\n",
    "\n",
    "F += source*v*ds(\"left\")\n",
    "\n",
    "o = []\n",
    "norm = []\n",
    "for i in range(maxind):\n",
    "    o.append(2*math.pi*omegfact[i])\n",
    "    #o.append(i)\n",
    "#o = [2*pi*50]\n",
    "j = 0\n",
    "for i in o:   \n",
    "    with TaskManager():\n",
    "        omega.Set(i) \n",
    "        A.Assemble()\n",
    "        K.Assemble()\n",
    "        M.Assemble()\n",
    "        F.Assemble()\n",
    "        R.Assemble()   \n",
    "        inv = A.mat.Inverse(fes.FreeDofs(), inverse=\"sparsecholesky\")\n",
    "        gfu.vec.data = inv * F.vec\n",
    "        erg[:,j] = gfu.vec\n",
    "        fh = F.vec\n",
    "        norm.append(sqrt (Integrate ((Conj(gfu))*(gfu),mesh)))\n",
    "        print(\"Number of iter: \",j,\"omega: \",i,\"L2-Norm:\",sqrt (Integrate ((Conj(gfu))*(gfu),mesh)))\n",
    "        j = j+1\n",
    "    \n",
    "Draw (gfu,mesh,name = \"u_h\")\n",
    "\n",
    "\n",
    "rows,cols,vals = M.mat.COO()\n",
    "Mh = sp.csr_matrix((vals,(rows,cols)))\n",
    "rows,cols,vals = K.mat.COO()\n",
    "Kh = sp.csr_matrix((vals,(rows,cols)))\n",
    "rows,cols,vals = R.mat.COO()\n",
    "Rh = sp.csr_matrix((vals,(rows,cols)))\n"
   ]
  },
  {
   "cell_type": "code",
   "execution_count": null,
   "metadata": {},
   "outputs": [],
   "source": [
    "#V, r = np.linalg.qr(erg)\n",
    "#V = V.dot(np.linalg.inv(r))\n",
    "V, r = np.linalg.qr(erg)\n",
    "diff = V.dot(r)-erg\n",
    "count = 0\n",
    "for i in range(len(V)):\n",
    "    for j in range(maxind):\n",
    "        if diff[i,j] < 1e-14:\n",
    "            count = count + 1\n",
    "        else:\n",
    "            print(i,j,diff[i,j])\n",
    "\n",
    "print(maxind,\"Anzahl an elementen die nicht kleiner als 1e-14 sind: \",np.abs(count-len(V)*maxind))"
   ]
  },
  {
   "cell_type": "code",
   "execution_count": null,
   "metadata": {},
   "outputs": [],
   "source": [
    "MN = np.transpose(V).dot(Mh.dot(V))\n",
    "KN = np.transpose(V).dot(Kh.dot(V))\n",
    "RN = np.transpose(V).dot(Rh.dot(V))\n",
    "fN = np.transpose(V).dot(fh)"
   ]
  },
  {
   "cell_type": "code",
   "execution_count": null,
   "metadata": {},
   "outputs": [],
   "source": [
    "ured = GridFunction(fes)\n",
    "norm_s =[]\n",
    "Residual_s=[]\n",
    "#ngs_temp = K.mat.CreateColVector()\n",
    "#ngs_temp2 = K.mat.CreateColVector()\n",
    "uN_s = np.zeros([maxind,maxind],dtype=complex)\n",
    "j = 0\n",
    "#print(KN-1**2*MN+1*RN)\n",
    "for fre in o:\n",
    "    ngs_temp = K.mat.CreateColVector()\n",
    "    ngs_temp2 = K.mat.CreateColVector()\n",
    "    uN_s[:,j] = np.linalg.solve(KN-fre**2*MN+fre*RN, fN)\n",
    "    print(\"Omega: \",fre)\n",
    "    norm_s.append(np.linalg.norm(uN_s[:,j]))\n",
    "\n",
    "    ured.vec.FV().NumPy()[:] = uN_s[:,j].dot(np.transpose(V))\n",
    "    with TaskManager():\n",
    "        ngs_temp.data = K.mat*ured.vec - fre*fre*M.mat*ured.vec + fre * R.mat*ured.vec - F.vec\n",
    "        ngs_temp2.data = Projector(fes.FreeDofs(), True)*ngs_temp                                      \n",
    "        res = Norm(ngs_temp2)\n",
    "        Residual_s.append(res)\n",
    "    j = j + 1\n",
    "Residual_s    "
   ]
  },
  {
   "cell_type": "code",
   "execution_count": null,
   "metadata": {},
   "outputs": [],
   "source": [
    "plt.plot(o,Residual_s,label=\"Norm {}\".format(LA.norm(Residual_s)))\n",
    "plt.grid()\n",
    "plt.xlabel(\"omega\")\n",
    "plt.ylabel(\"res\")\n",
    "plt.title(\"Residual_snapshots_{}_{}\".format(maxind,mode))\n",
    "plt.legend()\n",
    "plt.savefig(\"Residual_snapshots_{}_{}_nonInv\".format(maxind,mode))"
   ]
  },
  {
   "cell_type": "code",
   "execution_count": null,
   "metadata": {},
   "outputs": [],
   "source": [
    "u_N_s = GridFunction(fes)\n",
    "u_N_s.vec.FV().NumPy()[:] = uN_s[:,maxind-1].dot(np.transpose(V))\n",
    "Draw(u_N_s,mesh,name=\"u_N_s\")\n",
    "Draw(u_N_s-gfu,mesh,name=\"u_err\")"
   ]
  },
  {
   "cell_type": "code",
   "execution_count": null,
   "metadata": {},
   "outputs": [],
   "source": [
    "ured = GridFunction(fes)\n",
    "iteration = int(1000)\n",
    "Start = o[0] \n",
    "Ende = o[maxind-1]\n",
    "lam = []\n",
    "factor = (Ende-Start) / iteration\n",
    "omegaN = []\n",
    "norm_L2 =[]\n",
    "Residual=[]\n",
    "ngs_temp = K.mat.CreateColVector()\n",
    "ngs_temp2 = K.mat.CreateColVector()\n",
    "uN = np.zeros([maxind,iteration],dtype=complex)\n",
    "if mode == \"Cheb\":\n",
    "    omegaN = np.sort(ChebPoints(Start,Ende,iteration))\n",
    "for i in range(iteration):\n",
    "    if mode == \"equi\":\n",
    "        omegaN.append(Start+factor*i)\n",
    "    uN[:,i] = np.linalg.solve(KN-omegaN[i]**2*MN+omegaN[i]*RN, fN)\n",
    "    print(\"i: \",i,\"Omega: \",omegaN[i])\n",
    "    norm_L2.append(sqrt(np.vdot(uN[:,i],uN[:,i])))\n",
    "\n",
    "    ured.vec.FV().NumPy()[:] = uN[:,i].dot(np.transpose(V))\n",
    "    with TaskManager():\n",
    "        ngs_temp.data = K.mat*ured.vec - omegaN[i]*omegaN[i]*M.mat*ured.vec + omegaN[i] * R.mat*ured.vec - F.vec\n",
    "        ngs_temp2.data = Projector(fes.FreeDofs(), True)*ngs_temp                                      \n",
    "        res = Norm(ngs_temp2)\n",
    "        Residual.append(res)"
   ]
  },
  {
   "cell_type": "code",
   "execution_count": null,
   "metadata": {},
   "outputs": [],
   "source": [
    "def DrawOmega(amp):\n",
    "    pi = 3.14159\n",
    "    #n = 40\n",
    "    gfu_N = GridFunction(fes)\n",
    "    gfu_N.vec.FV().NumPy()[:] = uN[:,amp].dot(np.transpose(V))\n",
    "    ang = np.arcsin((2*pi*40)/omegaN[amp])\n",
    "    print(\"omega: \",omegaN[amp])\n",
    "    print(\"angle: \",np.degrees(ang))\n",
    "    Draw (gfu_N,mesh,name=\"u_N\")\n",
    "    internal.visoptions.autoscale = False\n",
    "    "
   ]
  },
  {
   "cell_type": "code",
   "execution_count": null,
   "metadata": {},
   "outputs": [],
   "source": [
    "#x = np.linspace(0,10,1000)\n",
    "amp = widgets.IntSlider(min=0, max=iteration-1, value=4, description = \"angle:\")\n",
    "widgets.interactive(DrawOmega,s=s,amp=amp)"
   ]
  },
  {
   "cell_type": "code",
   "execution_count": null,
   "metadata": {},
   "outputs": [],
   "source": [
    "d = []\n",
    "for i in range(20):\n",
    "    d.append(0.1)"
   ]
  },
  {
   "cell_type": "code",
   "execution_count": null,
   "metadata": {},
   "outputs": [],
   "source": [
    "plt.semilogy(omegaN[0:iteration],Residual,label=\"Norm{}\".format(LA.norm(Residual)))\n",
    "plt.grid()\n",
    "plt.xlabel(\"omega\")\n",
    "plt.ylabel(\"res\")\n",
    "plt.title(\"Residual_iterations_{}_{}\".format(maxind,mode))\n",
    "plt.legend()\n",
    "plt.savefig(\"Residual_iterations_{}_{}_nonInv\".format(maxind,mode))"
   ]
  },
  {
   "cell_type": "code",
   "execution_count": null,
   "metadata": {},
   "outputs": [],
   "source": [
    "plt.plot(omegaN,norm_L2)\n",
    "#plt.plot(np.real(l[2:]),d[2:],\"bo\")"
   ]
  },
  {
   "cell_type": "code",
   "execution_count": null,
   "metadata": {},
   "outputs": [],
   "source": [
    "print(np.arcsin(-1.00000)*45)"
   ]
  },
  {
   "cell_type": "code",
   "execution_count": null,
   "metadata": {},
   "outputs": [],
   "source": [
    "import numpy.linalg as LA\n",
    "print(LA.norm(Residual))"
   ]
  },
  {
   "cell_type": "code",
   "execution_count": null,
   "metadata": {},
   "outputs": [],
   "source": []
  },
  {
   "cell_type": "code",
   "execution_count": null,
   "metadata": {},
   "outputs": [],
   "source": []
  },
  {
   "cell_type": "code",
   "execution_count": null,
   "metadata": {},
   "outputs": [],
   "source": []
  },
  {
   "cell_type": "code",
   "execution_count": null,
   "metadata": {},
   "outputs": [],
   "source": []
  },
  {
   "cell_type": "code",
   "execution_count": null,
   "metadata": {},
   "outputs": [],
   "source": []
  },
  {
   "cell_type": "code",
   "execution_count": null,
   "metadata": {},
   "outputs": [],
   "source": []
  }
 ],
 "metadata": {
  "kernelspec": {
   "display_name": "Python 3.7.5 64-bit",
   "language": "python",
   "name": "python37564bitb5f188b5fd4549769c9ea1e1a366fa0d"
  },
  "language_info": {
   "codemirror_mode": {
    "name": "ipython",
    "version": 3
   },
   "file_extension": ".py",
   "mimetype": "text/x-python",
   "name": "python",
   "nbconvert_exporter": "python",
   "pygments_lexer": "ipython3",
   "version": "3.7.5"
  }
 },
 "nbformat": 4,
 "nbformat_minor": 2
}
