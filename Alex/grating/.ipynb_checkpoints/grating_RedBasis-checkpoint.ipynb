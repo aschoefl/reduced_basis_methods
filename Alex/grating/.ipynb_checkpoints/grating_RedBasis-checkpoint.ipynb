{
 "cells": [
  {
   "cell_type": "code",
   "execution_count": 1,
   "metadata": {},
   "outputs": [],
   "source": [
    "import netgen.gui\n",
    "from ngsolve import *\n",
    "import scipy.sparse as sp\n",
    "from ngsolve import internal\n",
    "from netgen.geom2d import *\n",
    "import numpy as np\n",
    "import matplotlib.pyplot as plt\n",
    "\n",
    "import ipywidgets as widgets\n",
    "from IPython.display import display"
   ]
  },
  {
   "cell_type": "code",
   "execution_count": 2,
   "metadata": {},
   "outputs": [],
   "source": [
    "def AllEw(A,B):\n",
    "    Binv = np.linalg.inv(B)\n",
    "    lam,v = np.linalg.eig(Binv.dot(A))\n",
    "    return lam"
   ]
  },
  {
   "cell_type": "code",
   "execution_count": 3,
   "metadata": {},
   "outputs": [],
   "source": [
    "geo = SplineGeometry()\n",
    "geo.AddRectangle ( (0,0), (1,1), bcs=[\"bottom\",\"right\",\"top\",\"left\"], leftdomain=1)\n",
    "\n",
    "n = 3\n",
    "r = 0.005\n",
    "geo.AddRectangle((0.45,0.45),(0.5, 0.55), bc=\"interface\",leftdomain=0, rightdomain=1)\n",
    "geo.AddRectangle((0.45,0.44),(0.5, 0.001), bc=\"interface\",leftdomain=0, rightdomain=1)\n",
    "geo.AddRectangle((0.45,0.56),(0.5, 0.999), bc=\"interface\",leftdomain=0, rightdomain=1)\n",
    "#geo.AddCircle ( (0.5,0.48), r=r, bc=\"interface\",leftdomain=0, rightdomain=1)\n",
    "#geo.AddCircle ( (0.5,0.52), r=r, bc=\"interface\",leftdomain=0, rightdomain=1)\n",
    "#geo.AddCircle ( (0.5,0.5), r=r, bc=\"interface\",leftdomain=0, rightdomain=1)\n",
    "#geo.AddCircle ( (0.5,(1)/(3)), r=r, bc=\"interface\",leftdomain=0, rightdomain=1)\n",
    "                     \n",
    "geo.SetMaterial(1, \"medium\")\n",
    "# geo.SetMaterial(2, \"dot\")\n",
    "\n",
    "mesh = Mesh(geo.GenerateMesh(maxh=0.02))\n",
    "mesh.Curve(3)\n",
    "Draw (mesh)"
   ]
  },
  {
   "cell_type": "code",
   "execution_count": 4,
   "metadata": {},
   "outputs": [],
   "source": [
    "geo = SplineGeometry()\n",
    "geo.AddRectangle ( (0,0), (1,1), bcs=[\"bottom\",\"right\",\"top\",\"left\"], leftdomain=1)\n",
    "\n",
    "n = 40\n",
    "r = 0.005\n",
    "for i in range(n-1):\n",
    "    geo.AddCircle ( (0.5,(i+1)/(n)), r=r, bc=\"interface\", \n",
    "                     leftdomain=0, rightdomain=1)\n",
    "geo.SetMaterial(1, \"medium\")\n",
    "# geo.SetMaterial(2, \"dot\")\n",
    "\n",
    "mesh = Mesh(geo.GenerateMesh(maxh=0.02))\n",
    "mesh.Curve(3)\n",
    "Draw (mesh)"
   ]
  },
  {
   "cell_type": "code",
   "execution_count": 6,
   "metadata": {},
   "outputs": [],
   "source": [
    "source = exp(-10**2*(y-0.5)*(y-0.5))\n",
    "Draw(source,mesh,name=\"sorce\")"
   ]
  },
  {
   "cell_type": "code",
   "execution_count": null,
   "metadata": {},
   "outputs": [
    {
     "name": "stdout",
     "output_type": "stream",
     "text": [
      "Number of iter:  0 omega:  251.314 L2-Norm: (9.592306616168702e-05-5.560292629391809e-05j)\n",
      "Number of iter:  1 omega:  257.92752631578946 L2-Norm: (9.769828964978305e-05-0.00012487097558688145j)\n",
      "Number of iter:  2 omega:  264.54105263157896 L2-Norm: (0.00012514539622286093-0.0001499791860251854j)\n",
      "Number of iter:  3 omega:  271.1545789473684 L2-Norm: (0.0001536990950241274-0.0001549518969902804j)\n",
      "Number of iter:  4 omega:  277.7681052631579 L2-Norm: (0.0001856344344346225-0.00014725638216176828j)\n",
      "Number of iter:  5 omega:  284.38163157894735 L2-Norm: (0.00021245904231621135-0.0001321759020891144j)\n"
     ]
    }
   ],
   "source": [
    "pi = 3.141425\n",
    "maxind = 20\n",
    "omegfact = np.linspace(40,60,maxind)\n",
    "fes = H1(mesh, order=5, complex=True, dirichlet=\"interface\")\n",
    "gfu = GridFunction(fes)\n",
    "erg = np.zeros([len(gfu.vec),maxind],dtype=complex)\n",
    "n = { \"medium\" : 1, \"dot\" : 3 }\n",
    "cfn = CoefficientFunction( [n[mat] for mat in mesh.GetMaterials()] )\n",
    "\n",
    "\n",
    "u = fes.TrialFunction()\n",
    "v = fes.TestFunction()\n",
    "\n",
    "A = BilinearForm(fes)\n",
    "R = BilinearForm(fes)\n",
    "K = BilinearForm(fes)\n",
    "M = BilinearForm(fes)\n",
    "F = LinearForm(fes)\n",
    "\n",
    "omega = Parameter(1)\n",
    "A += (grad(u)*grad(v)- omega**2*cfn*cfn*u*v)*dx\n",
    "K += grad(u)*grad(v)*dx\n",
    "R += -1j*u*v*ds(\"left|right|top|bottom\")\n",
    "M += cfn*cfn*u*v*dx\n",
    "\n",
    "\n",
    "A += -1j*omega*u*v*ds(\"left|right|top|bottom\")\n",
    "F = LinearForm(fes)\n",
    "\n",
    "F += source*v*ds(\"left\")\n",
    "\n",
    "o = []\n",
    "norm = []\n",
    "for i in range(maxind):\n",
    "    o.append(2*pi*omegfact[i])\n",
    "#o = [2*pi*50]\n",
    "j = 0\n",
    "for i in o:   \n",
    "    with TaskManager():\n",
    "        omega.Set(i) \n",
    "        A.Assemble()\n",
    "        K.Assemble()\n",
    "        M.Assemble()\n",
    "        F.Assemble()\n",
    "        R.Assemble()   \n",
    "        inv = A.mat.Inverse(fes.FreeDofs(), inverse=\"sparsecholesky\")\n",
    "        gfu.vec.data = inv * F.vec\n",
    "        erg[:,j] = gfu.vec\n",
    "        fh = F.vec\n",
    "        norm.append(sqrt (Integrate ((gfu)*(gfu),mesh)))\n",
    "        print(\"Number of iter: \",j,\"omega: \",i,\"L2-Norm:\",sqrt (Integrate ((gfu)*(gfu),mesh)))\n",
    "        j = j+1\n",
    "    \n",
    "Draw (gfu)\n",
    "\n",
    "\n",
    "rows,cols,vals = M.mat.COO()\n",
    "Mh = sp.csr_matrix((vals,(rows,cols)))\n",
    "rows,cols,vals = K.mat.COO()\n",
    "Kh = sp.csr_matrix((vals,(rows,cols)))\n",
    "rows,cols,vals = R.mat.COO()\n",
    "Rh = sp.csr_matrix((vals,(rows,cols)))\n"
   ]
  },
  {
   "cell_type": "code",
   "execution_count": null,
   "metadata": {},
   "outputs": [],
   "source": [
    "V, r = np.linalg.qr(erg)\n",
    "V = V.dot(np.linalg.inv(r))"
   ]
  },
  {
   "cell_type": "code",
   "execution_count": null,
   "metadata": {},
   "outputs": [],
   "source": [
    "MN = np.transpose(V).dot(Mh.dot(V))\n",
    "KN = np.transpose(V).dot(Kh.dot(V))\n",
    "RN = np.transpose(V).dot(Rh.dot(V))\n",
    "fN = np.transpose(V).dot(fh)"
   ]
  },
  {
   "cell_type": "code",
   "execution_count": null,
   "metadata": {
    "tags": [
     "outputPrepend",
     "outputPrepend",
     "outputPrepend",
     "outputPrepend",
     "outputPrepend",
     "outputPrepend",
     "outputPrepend",
     "outputPrepend",
     "outputPrepend",
     "outputPrepend",
     "outputPrepend",
     "outputPrepend",
     "outputPrepend",
     "outputPrepend",
     "outputPrepend",
     "outputPrepend"
    ]
   },
   "outputs": [],
   "source": [
    "ured = GridFunction(fes)\n",
    "iteration = int(1000)\n",
    "Start = o[0] \n",
    "Ende = o[maxind-1]\n",
    "lam = []\n",
    "factor = (Ende-Start) / iteration\n",
    "omegaN = []\n",
    "norm_L2 =[]\n",
    "Residual=[]\n",
    "ngs_temp = K.mat.CreateColVector()\n",
    "ngs_temp2 = K.mat.CreateColVector()\n",
    "uN = np.zeros([maxind,iteration])\n",
    "for i in range(iteration):\n",
    "    omegaN.append(Start+factor*i)\n",
    "    uN[:,i] = np.linalg.solve(KN-omegaN[i]**2*MN+omegaN[i]*RN, fN)\n",
    "    print(\"i: \",i,\"Omega: \",omegaN[i])\n",
    "    norm_L2.append(sqrt(np.vdot(uN[:,i],uN[:,i])))\n",
    "\n",
    "    ured.vec.FV().NumPy()[:] = uN[:,i].dot(np.transpose(V))\n",
    "    with TaskManager():\n",
    "        ngs_temp.data = K.mat*ured.vec - omegaN[i]*omegaN[i]*M.mat*ured.vec + omegaN[i] * R.mat*ured.vec - F.vec\n",
    "        ngs_temp2.data = Projector(fes.FreeDofs(), True)*ngs_temp                                      \n",
    "        res = Norm(ngs_temp2)\n",
    "        Residual.append(res)"
   ]
  },
  {
   "cell_type": "code",
   "execution_count": null,
   "metadata": {},
   "outputs": [],
   "source": [
    "l=AllEw(KN,MN+RN)\n",
    "np.sqrt(l)\n",
    "list(l)"
   ]
  },
  {
   "cell_type": "code",
   "execution_count": null,
   "metadata": {},
   "outputs": [],
   "source": [
    "def DrawOmega(amp):\n",
    "    gfu_N = GridFunction(fes)\n",
    "    gfu_N.vec.FV().NumPy()[:] = uN[:,amp].dot(np.transpose(V))\n",
    "    print(omegaN[amp])\n",
    "    Draw (gfu_N,mesh,name=\"u_N\")\n",
    "    internal.visoptions.autoscale = False"
   ]
  },
  {
   "cell_type": "code",
   "execution_count": null,
   "metadata": {},
   "outputs": [],
   "source": [
    "#x = np.linspace(0,10,1000)\n",
    "amp = widgets.IntSlider(min=0, max=iteration-1, value=4, description = \"Omega:\")\n",
    "widgets.interactive(DrawOmega,amp=amp)"
   ]
  },
  {
   "cell_type": "code",
   "execution_count": null,
   "metadata": {},
   "outputs": [],
   "source": [
    "plt.plot(omegaN,Residual)"
   ]
  },
  {
   "cell_type": "code",
   "execution_count": null,
   "metadata": {},
   "outputs": [],
   "source": [
    "plt.plot(omegaN,norm_L2)"
   ]
  },
  {
   "cell_type": "code",
   "execution_count": null,
   "metadata": {},
   "outputs": [],
   "source": []
  }
 ],
 "metadata": {
  "kernelspec": {
   "display_name": "Python 3.7.5 64-bit",
   "language": "python",
   "name": "python37564bitb5f188b5fd4549769c9ea1e1a366fa0d"
  },
  "language_info": {
   "codemirror_mode": {
    "name": "ipython",
    "version": 3
   },
   "file_extension": ".py",
   "mimetype": "text/x-python",
   "name": "python",
   "nbconvert_exporter": "python",
   "pygments_lexer": "ipython3",
   "version": "3.7.5"
  }
 },
 "nbformat": 4,
 "nbformat_minor": 2
}
