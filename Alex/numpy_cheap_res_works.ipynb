{
 "cells": [
  {
   "cell_type": "markdown",
   "metadata": {},
   "source": [
    "<h2> Reduced Basis Methods for the Helmholz Equation </h2>\n",
    "\n",
    "We want to create a reduced basis space for the Helmholz equation\n",
    "\\begin{equation}\n",
    "    \\Delta u - \\omega^2u = f\n",
    "\\end{equation}\n",
    "\n",
    "defined on a two dimensional domain $\\Omega$. It has the Galerkin formulation in the finite element space $V_h$. Find an $u_h$ so that\n",
    "\n",
    "\\begin{equation}\n",
    "    \\int_{\\Omega} \\nabla u_h \\nabla v_h \\text{dx} - \\omega^2 \\int_{\\Omega} u_hv_h \\text{dx} - i\\omega \\int_{\\partial \\Omega} u_hv_h \\text{ds} = \\int_{\\Omega} fv_h \\text{dx}\n",
    "\\end{equation}\n",
    "\n",
    "holds for all $v_h \\in V_h$. We can write this as an equation of bilinearforms \n",
    "\n",
    "\\begin{equation}\n",
    "    k(u_h, v_h) - \\omega^2 m(u_h, v_h) - i\\omega r(u_h,v_h)= \\int_{\\Omega} fv_h \\text{dx}  \\tag{1}\n",
    "\\end{equation}\n",
    "\n",
    "where $r$ only exists if we want Robin boundary conditions, otherwise $r(u,v) \\equiv 0$. To get Dirichlet boundaries, we choose our test functions $v$ from the Sobolev space $H_0^1(\\Omega)$ and Neumann boundaries are enforced for $v \\in H^1(\\Omega)$. \n"
   ]
  },
  {
   "cell_type": "markdown",
   "metadata": {},
   "source": [
    "<h3> The reduced basis method </h3>\n",
    "\n",
    "In a nutshell the idea of creating a reduced basis space is to choose a so called snapshot of $N$ parameters $ \\{ \\omega_1, .., \\omega_N \\} $ for which we solve the system $(1)$. By doing so we get linearly independent snapshot solutions $\\{u_h^1, .., u_h^N\\}$. The space \n",
    "\\begin{equation}\n",
    "V_N := \\overline{\\text{span}\\{u_h^1, .., u_h^N\\}}\n",
    "\\end{equation}\n",
    "is a linear subspace of $V_h$. To approximate a solution for an arbitrary $\\omega$ we now have to solve the system $(1)$ only for $v_N \\in V_N$, which is computationally way less expensive than solving the original system. "
   ]
  },
  {
   "cell_type": "markdown",
   "metadata": {},
   "source": [
    "<h3> Generate a Reduced Basis Space </h3>\n",
    "\n",
    "We first need to import some libraries and then we write a little python class. \n",
    "\n",
    "The input parameter for the class is the finite element space and a coefficient function $f$. "
   ]
  },
  {
   "cell_type": "code",
   "execution_count": 1,
   "metadata": {},
   "outputs": [],
   "source": [
    "from __future__ import print_function\n",
    "from ipywidgets import interact, interactive, fixed, interact_manual\n",
    "import ipywidgets as widgets\n",
    "\n",
    "from ngsolve import *\n",
    "from netgen.geom2d import unit_square\n",
    "\n",
    "\n",
    "import numpy as np\n",
    "import scipy\n",
    "import math\n",
    "import time\n",
    "\n",
    "from ngsolve.webgui import Draw\n",
    "\n",
    "class ReducedBasis:\n",
    "    \n",
    "    def __init__(self, fes, f, cfn = 1):\n",
    "        self.setSpace(fes, f, cfn)\n",
    "        self.logging = True"
   ]
  },
  {
   "cell_type": "markdown",
   "metadata": {},
   "source": [
    "The `setSpace` and `reset` functions just (re-)set some parameters we will need later. "
   ]
  },
  {
   "cell_type": "code",
   "execution_count": 2,
   "metadata": {},
   "outputs": [],
   "source": [
    "class ReducedBasis(ReducedBasis):\n",
    "    \n",
    "    ## TODO: decide if biliner forms or space should be given to construct the class\n",
    "\n",
    "    def setSpace(self, fes, func, cfn = 1):\n",
    "\n",
    "        self.fes = fes\n",
    "        \n",
    "        # assume robin bnd if fes is complex\n",
    "        if fes.is_complex:\n",
    "            self.robin = True\n",
    "        else:\n",
    "            self.robin = False\n",
    "        \n",
    "\n",
    "        # set (bi-)linear forms and matrices\n",
    "        self.omega = Parameter(0)\n",
    "        \n",
    "        ##########################################\n",
    "        ## TODO: implement the boundary thing in a better way\n",
    "        u,v =self.fes.TnT()\n",
    "        self.a = BilinearForm(self.fes)\n",
    "        self.a += (grad(u)*grad(v) - self.omega*self.omega*cfn*cfn*u*v) * dx\n",
    "        # what happens per default if \"robin\" doesn't exist as boundary?\n",
    "        if self.robin:\n",
    "            if 'robin' in self.fes.mesh.GetBoundaries():\n",
    "                self.a += -1j*self.omega*u*v*ds (definedon=self.fes.mesh.Boundaries(\"robin\"))\n",
    "            else:\n",
    "                self.a += -1j*self.omega*u*v*ds\n",
    "        self.a.Assemble()\n",
    "        self.a.Assemble()\n",
    "        ##########################################\n",
    "        \n",
    "        # store ainv for better performance\n",
    "        self.ainv = self.a.mat.Inverse(self.fes.FreeDofs(), inverse=\"sparsecholesky\")\n",
    "\n",
    "        self.f = LinearForm(self.fes)\n",
    "        self.f += func * v * dx\n",
    "        self.f.Assemble()\n",
    "         \n",
    "\n",
    "        self.k = BilinearForm(self.fes)\n",
    "        self.k += grad(u)*grad(v)*dx\n",
    "        self.k.Assemble()\n",
    "        rows,cols,vals = self.k.mat.COO()\n",
    "        self.K_orig = scipy.sparse.csr_matrix((vals,(rows,cols)))\n",
    "\n",
    "        self.m = BilinearForm(self.fes)\n",
    "        self.m += cfn*cfn*u*v * dx\n",
    "        self.m.Assemble()\n",
    "        rows,cols,vals = self.m.mat.COO()\n",
    "        self.M_orig = scipy.sparse.csr_matrix((vals,(rows,cols)))\n",
    "\n",
    "        if self.robin:\n",
    "            self.r = BilinearForm(self.fes)\n",
    "            if 'robin' in self.fes.mesh.GetBoundaries():\n",
    "                self.r += u*v*ds (definedon=self.fes.mesh.Boundaries(\"robin\"))\n",
    "            else:\n",
    "                self.r += u*v*ds\n",
    "            self.r.Assemble()\n",
    "            rows,cols,vals = self.r.mat.COO()\n",
    "            self.R_orig = scipy.sparse.csr_matrix((vals,(rows,cols)))\n",
    "    \n",
    "\n",
    "        # initialize grid functions\n",
    "        self.gfu = GridFunction(self.fes)\n",
    "        self.drawu = GridFunction(self.fes)\n",
    "\n",
    "        # temporary ngsolve vectors\n",
    "        self.__bv_tmp = self.k.mat.CreateColVector()\n",
    "        self.__bv_tmp2 = self.k.mat.CreateColVector()\n",
    "        self.__gf_tmp = GridFunction(self.fes)\n",
    "        \n",
    "        \n",
    "        self.__proj = Projector(self.fes.FreeDofs(), True)\n",
    "        # compute norm of f\n",
    "        self.__bv_tmp.data = self.__proj*self.f.vec\n",
    "        self.f.vec.data = self.__bv_tmp.data\n",
    "        self.normf = Norm(self.__bv_tmp)**2\n",
    "        \n",
    "        \n",
    "        self.reset()\n",
    "\n",
    "    \n",
    "    def reset(self):\n",
    "        # reset dynamically updated parameters\n",
    "        self.K_red = None\n",
    "        self.M_red = None\n",
    "        self.F_red = None\n",
    "        self.R_red = None\n",
    "        self.sol = []\n",
    "        self.__V = None  # snapshot solutions\n",
    "        self.__snapshots_updated = True\n",
    "        self.__snapshots = [] # snapshot parameters\n",
    "        self.__indices = []\n"
   ]
  },
  {
   "cell_type": "markdown",
   "metadata": {},
   "source": [
    "Next we can create a function that takes a list of omegas and sets them as snapshots. To have the possibility to dynamically expand our reduced basis later on, we will expand the list of snapshot parameters instead of resetting them if `reset==False`. We will also add a get function. "
   ]
  },
  {
   "cell_type": "code",
   "execution_count": 3,
   "metadata": {},
   "outputs": [],
   "source": [
    "class ReducedBasis(ReducedBasis):\n",
    "\n",
    "    def setSnapshots(self, new_snapshots, reset = True, compute_RB = True):\n",
    "        \n",
    "        # TODO: check that snapshots do not already exist\n",
    "        if len(self.__snapshots) > 0 and not reset:\n",
    "            if self.logging: print(\"append snapshots with {}\".format(new_snapshots))\n",
    "            self.__snapshots = np.append(self.__snapshots, np.array(new_snapshots))\n",
    "        else:\n",
    "            if self.logging: print(\"set snapshots and reset basis\")\n",
    "            self.__snapshots = np.array(new_snapshots)\n",
    "            self.__V = None\n",
    "\n",
    "        self.__snapshots_updated = True\n",
    "        self.__update_res_mat = True\n",
    "\n",
    "        # store smallest and biggest snapshot parameter\n",
    "        self.omega_min = min(self.__snapshots)\n",
    "        self.omega_max = max(self.__snapshots)\n",
    "\n",
    "        # store indices of snapshots in ascending order\n",
    "        tmp = self.__snapshots\n",
    "        zip_to_sort = list(zip(tmp, range(len(tmp))))\n",
    "        sorted_zip = sorted(zip_to_sort, key=lambda x: x[0], reverse=False)\n",
    "        self.__indices = [tup[1] for tup in sorted_zip]\n",
    "\n",
    "        if compute_RB:\n",
    "            self.__computeRB()\n",
    "\n",
    "    def getSnapshots(self):\n",
    "        return self.__snapshots[self.__indices]"
   ]
  },
  {
   "cell_type": "markdown",
   "metadata": {},
   "source": [
    "Let $n$ be the dimension of the original space $V_h$. The snapshot solutions $\\{u_h^1, .., u_h^N\\}$ could be used directly as basis functions for $V_N$. However we prefer the matrix $V \\in \\mathbb{C}^{n\\times N} $ that contains the coefficients of the reduced basis functions $\\{\\zeta^1, .., \\zeta^N\\}$  to be as pretty as possible. Therefore we make sure that the coefficient vectors of the $\\zeta_i$ form an ortonormal system respective the Euklidean norm. This we achieve by performing a QR-decomposition and only using the Q part. \n",
    "\n",
    "\n",
    "We now solve the equation $(1)$ in the original space for the new snapshots. If the matrix $V$ already contains some basis functions, we extend the basis. "
   ]
  },
  {
   "cell_type": "code",
   "execution_count": 4,
   "metadata": {},
   "outputs": [],
   "source": [
    "class ReducedBasis(ReducedBasis):\n",
    "    \n",
    "    def __computeRB(self):\n",
    "\n",
    "\n",
    "        if self.logging: print(\"compute Reduced Basis\")\n",
    "\n",
    "        if len(self.__snapshots) == 0:\n",
    "            if self.logging: print(\"\"\" no snapshots given, please call 'instance.setSnapshots' first\"\"\")\n",
    "            return\n",
    "        \n",
    "        dim_orig = len(self.gfu.vec)\n",
    "        dim_red = len(self.__snapshots)\n",
    "\n",
    "        if self.robin:\n",
    "            V_tmp = np.zeros((dim_orig, dim_red), dtype=complex )\n",
    "        else:\n",
    "            V_tmp = np.zeros((dim_orig, dim_red))\n",
    "\n",
    "        # extend basis if it already exists\n",
    "        try: \n",
    "            existing_basis_len = len(self.__V)\n",
    "            ## TODO: if Numpy interface working get rid of for loop\n",
    "            for i in range(existing_basis_len):\n",
    "                V_tmp[:,i] = self.__V[i].FV().NumPy()\n",
    "#             V_tmp[:,0:existing_basis_len] = self.__V\n",
    "            self.__V.Expand(dim_red-existing_basis_len)\n",
    "            if self.logging: print(\"extend reduced basis\")\n",
    "\n",
    "        except:\n",
    "            existing_basis_len = 0\n",
    "            self.__V = MultiVector(self.__bv_tmp, dim_red)\n",
    "\n",
    "\n",
    "        with TaskManager():\n",
    "\n",
    "            for n in range(0+existing_basis_len, dim_red):\n",
    "                _omega = self.__snapshots[n]\n",
    "                \n",
    "                # compute FEM solution for parameter _omega\n",
    "                self.omega.Set(_omega)\n",
    "                self.a.Assemble()\n",
    "\n",
    "                self.ainv.Update()\n",
    "                self.gfu.vec.data = self.ainv * self.f.vec\n",
    "\n",
    "                V_tmp[:,n] = self.gfu.vec.FV().NumPy()        \n",
    "\n",
    "\n",
    "            # do QR-decomposition \n",
    "            #q, r = np.linalg.qr(V_tmp)\n",
    "            #V_tmp = V_tmp.dot(np.linalg.inv(r))\n",
    "            \n",
    "            print(\"Calculate QR_Decomposition\")\n",
    "            dim = V_tmp.shape[1]\n",
    "            q = np.zeros([V_tmp.shape[0],V_tmp.shape[1]],dtype=complex)\n",
    "            r = np.zeros([V_tmp.shape[1],V_tmp.shape[1]],dtype=complex)\n",
    "            for j in range(dim):\n",
    "                r[j,j] = np.linalg.norm(V_tmp[:,j])\n",
    "                q[:,j] = V_tmp[:,j]/r[j,j]\n",
    "                #print(r[j,j])\n",
    "                for k in range(j+1,dim):\n",
    "                    r[j,k] = np.vdot(q[:,j],V_tmp[:,k])\n",
    "                    tmp = V_tmp[:,k]-r[j,k]*q[:,j]\n",
    "                    V_tmp[:,k] = tmp\n",
    "            \n",
    "            V = V_tmp\n",
    "            # rearange V and snapshots due to the order of the snapshots\n",
    "            ## TODO: if Numpy interface working get rid of loop\n",
    "            for i in range(dim_red):\n",
    "                self.__V[i].FV().NumPy()[:] = V_tmp[:, self.__indices[i]]\n",
    "                \n",
    "\n",
    "            # set system in reduced basis space\n",
    "            \n",
    "             ## TODO: get rid of that if conversion to matrix implemented\n",
    "            V_tmp = V_tmp[:, self.__indices]\n",
    "            self.K_red = np.transpose(V_tmp).dot(self.K_orig.dot(V_tmp))\n",
    "            self.M_red = np.transpose(V_tmp).dot(self.M_orig.dot(V_tmp))\n",
    "            self.F_red = np.transpose(V_tmp).dot(self.f.vec.data)\n",
    "\n",
    "            if self.robin:\n",
    "                self.R_red = np.transpose(V_tmp).dot(self.R_orig.dot(V_tmp))\n",
    "\n",
    "            self.__snapshots_updated = False\n",
    "            self.__snapshots = self.__snapshots[self.__indices]\n",
    "            self.__indices = range(dim_red)\n",
    "            \n",
    "            if self.logging: print(\"finished computing Reduced Basis\")\n",
    "                \n"
   ]
  },
  {
   "cell_type": "markdown",
   "metadata": {},
   "source": [
    "To look at the solutions of the reduced system, we want to implement a draw function, that takes a parameter $\\omega$, computes the reduced solution and displays it in the ngsolve webgui."
   ]
  },
  {
   "cell_type": "code",
   "execution_count": 5,
   "metadata": {},
   "outputs": [],
   "source": [
    "class ReducedBasis(ReducedBasis):\n",
    "    \n",
    "    def draw(self, omega,minval = -0.0001,maxval = 0.0001, autoscale = True,redraw=False):\n",
    "        \n",
    "        if self.__snapshots_updated:\n",
    "            self.__computeRB()\n",
    "        \n",
    "        # compute reduced basis\n",
    "        \n",
    "        ## TODO: make LU decomposition once  (for M and K) and use np.linalg.solve_triangular\n",
    "        ## (vorwaerts- und rueckwaertssubstitution)\n",
    "        if self.robin:\n",
    "            Ainv = np.linalg.inv(self.K_red-omega*omega*self.M_red-1j*omega*self.R_red)\n",
    "        else:\n",
    "            Ainv = np.linalg.inv(self.K_red-omega*omega*self.M_red)\n",
    "\n",
    "        red_sol_vec = np.matmul(Ainv, self.F_red)\n",
    "        \n",
    "#         self.drawu.vec.FV().NumPy()[:] = self.__V.dot(red_sol_vec)[:]\n",
    "        v = Vector(red_sol_vec.tolist())\n",
    "#         v.FV().NumPy()[:] = red_sol_vec\n",
    "        \n",
    "        ## TODO: implement \n",
    "        self.drawu.vec.data = self.__V * v\n",
    "        if self.logging: print(\"omega: {}, norm of solution: {}\".format(omega, Integrate ( Conj(self.drawu)*(self.drawu), self.fes.mesh)))\n",
    "        # draw solution\n",
    "        if not redraw:\n",
    "            self.scene = Draw(self.drawu,min = minval, max = maxval,autoscale = autoscale)\n",
    "        else:\n",
    "            self.scene.Redraw()\n",
    "#             Redraw()\n"
   ]
  },
  {
   "cell_type": "markdown",
   "metadata": {},
   "source": [
    "To test the implementation so far, we define an H1-FEM space on the unit square with dirichlet boundary values. To compute the first set of snapshot solutions we choose the parameters $\\omega \\in \\{0, .., 20\\}$. Subsequently we create a slider to visualize the reduced solutions for a set of omegas. "
   ]
  },
  {
   "cell_type": "markdown",
   "metadata": {},
   "source": [
    "<h3> Compute the residual </h3>\n",
    "\n",
    "Let $M, K, R \\in \\mathbb{C}^{nxn}$ and $F \\in \\mathbb{C}^{n}$ be the matrices (respectively the vector) corresponding to the bilinear forms in (1). A solution of the reduced system can be written as $Vu = \\sum_{j = 1}^{N}u_j\\zeta_j \\in V_h$ with coefficient vector $u = (u_1, .., u_N)$. Therefore a norm of the residual can be defined as $|| (K-\\omega^2 M -i\\omega R)Vu -F||$.\n",
    "\n",
    "\n",
    "By squaring and rearranging the therm above we get a measure <span style=\"color:red\">(Anm: ich meine nicht Maß im mathematischen Sinne. Was wäre ein besseres Wort dafür?)</span> for the residual\n",
    "\n",
    "\\begin{equation}\n",
    "\\begin{split}\n",
    "    \\text{res}(\\omega) :&= || (K-\\omega^2 M -i\\omega R)Vu -F||_2^2 \\\\\n",
    "    &= || (K-\\omega^2 M -i\\omega R)Vu||_2^2 + 2\\text{Re} \\langle (K-\\omega^2 M -i\\omega R)Vu , F \\rangle + ||F||_2^2 \\\\\n",
    "    &= \\sum_{j = 1}^N \\sum_{k = 1}^N u_j \\overline{u_k}\\langle (K-\\omega^2 M -i\\omega R)\\zeta_j, (K-\\omega^2 M -i\\omega R)\\zeta_k \\rangle + \\sum_{j = 1}^N u_j \\langle (K-\\omega^2 M -i\\omega R)\\zeta_j, F \\rangle  + || F||^2 \\\\\n",
    "    & = \\overline{u^T}Au - 2\\text{Re} A_F u + || F||^2\n",
    "\\end{split} \n",
    "\\end{equation}\n",
    "where \n",
    "\\begin{equation}\n",
    "\\begin{split}\n",
    "    (A)_{jk} = ~ & \\langle K\\zeta_j, K\\zeta_k \\rangle -\\omega^2 \\langle M\\zeta_j, K\\zeta_k \\rangle - i\\omega \\langle R\\zeta_j, K\\zeta_k \\rangle \\\\\n",
    "       & - \\omega^2 \\langle K\\zeta_j, M\\zeta_k \\rangle + \\omega^4 \\langle M\\zeta_j, M\\zeta_k \\rangle + i\\omega^3 \\langle R\\zeta_j, M\\zeta_k \\rangle \\\\\n",
    "       &-i\\omega \\langle K\\zeta_j, R\\zeta_k \\rangle + i \\omega^3 \\langle M\\zeta_j, R\\zeta_k \\rangle + \\omega^2 \\langle R\\zeta_j, R\\zeta_k \\rangle.\n",
    "\\end{split}\n",
    "\\end{equation}\n",
    "and \n",
    "\\begin{equation}\n",
    "    (A_F)_{j} = \\langle K\\zeta_j, F \\rangle - \\omega^2 \\langle M\\zeta_j, F \\rangle - i\\omega \\langle R\\zeta_j, F \\rangle.\n",
    "\\end{equation}\n",
    "\n",
    "Now we can implement a function that build all the necessary matrices. "
   ]
  },
  {
   "cell_type": "code",
   "execution_count": 6,
   "metadata": {},
   "outputs": [],
   "source": [
    "def myinner(A,B):\n",
    "    return np.complex(np.inner(np.transpose(A), np.transpose(B)))"
   ]
  },
  {
   "cell_type": "code",
   "execution_count": 7,
   "metadata": {},
   "outputs": [],
   "source": [
    "class ReducedBasis(ReducedBasis):\n",
    "    \n",
    "    def __computeResMat(self):\n",
    "        \n",
    "        self.__update_res_mat = False\n",
    "        dim = self.K_red.shape\n",
    "        \n",
    "        if self.robin:\n",
    "            npdtype = 'complex'\n",
    "        else:\n",
    "            npdtype = 'longdouble'\n",
    "\n",
    "\n",
    "        \n",
    "        ## TODO: test with ngsolve operations\n",
    "        # TODO: think about boundaries\n",
    "        \n",
    "        V_np = np.zeros((len(self.__V[0]), len(self.__V)), dtype=npdtype)\n",
    "        for i in range(len(self.__V[0])):\n",
    "            for j in range(len(self.__V)):\n",
    "                V_np[i,j] = self.__V[j][i]\n",
    "        k_zeta_np = self.K_orig.dot(V_np)\n",
    "        m_zeta_np = self.M_orig.dot(V_np)\n",
    "\n",
    "#         k_zeta = MultiVector(self.__bv_tmp, dim[0])\n",
    "#         m_zeta = MultiVector(self.__bv_tmp, dim[0])\n",
    "#         tmp = MultiVector(self.__bv_tmp, dim[0])\n",
    "                \n",
    "#         tmp.data = self.k.mat * self.__V\n",
    "#         k_zeta.data = self.__proj * tmp\n",
    "        \n",
    "#         tmp.data = self.m.mat * self.__V\n",
    "#         m_zeta.data = self.__proj * tmp\n",
    "        \n",
    "        keys = ['kk', 'mm', 'mk']\n",
    "        \n",
    "        if self.robin:\n",
    "            r_zeta_np = self.R_orig.dot(V_np) #np.zeros(k_zeta_np.shape, dtype=\"complex\")\n",
    "            keys += ['rr', 'rm', 'rk']\n",
    "            \n",
    "\n",
    "        self.__res_mat = {} # kk, mm, km, rr, rm, rk\n",
    "        self.__np_res_mat = {}\n",
    "        \n",
    "        for key in keys:\n",
    "            self.__np_res_mat[key] = np.zeros(dim, dtype = npdtype)\n",
    "#             self.__res_mat[key] = Matrix(dim[0], dim[1], complex=self.robin)\n",
    "\n",
    "            if list(key)[0] == list(key)[1]:\n",
    "                self.__np_res_mat['{}f'.format(list(key)[0])] = np.zeros(dim[0], dtype = npdtype)\n",
    "#                 self.__res_mat['{}f'.format(list(key)[0])] = Vector(dim[0], complex= self.robin)\n",
    "        \n",
    "        \n",
    "        \n",
    "        # TODO: without for loop (parallel)\n",
    "        for j in range(dim[0]):\n",
    "            ## maybe use hermitian property for hermitian matrices\n",
    "            # f \n",
    "            for key in keys:\n",
    "                if list(key)[0] == list(key)[1]:\n",
    "#                     self.__res_mat['{}f'.format(list(key)[0])][j] = eval(\n",
    "#                         \"InnerProduct ({}_zeta[{}], self.f.vec.data)\".format(list(key)[0], j))\n",
    "                    self.__np_res_mat['{}f'.format(list(key)[0])][j] = eval(\"myinner({}_zeta_np[:,{}], self.f.vec.FV().NumPy())\".format(list(key)[0], j))\n",
    "            for k in range(dim[0]):\n",
    "                for key in keys:\n",
    "#                     self.__res_mat[key][j,k] = eval(\n",
    "#                         \"InnerProduct ({}_zeta[{}], {}_zeta[{}])\".format(list(key)[0], j, list(key)[1], k))\n",
    "                    self.__np_res_mat[key][j,k] = eval(\"myinner({}_zeta_np[:,{}], {}_zeta_np[:,{}])\".format(list(key)[0], j, list(key)[1], k))\n"
   ]
  },
  {
   "cell_type": "markdown",
   "metadata": {},
   "source": [
    "We now want to plot the norms and residuals of the solutions for a large set of different omegas. Therefore we extend our class by a function that takes a vector of omegas and returns the corresponding values (norm and/or residual)."
   ]
  },
  {
   "cell_type": "code",
   "execution_count": 8,
   "metadata": {},
   "outputs": [],
   "source": [
    "def myinner(A,B):\n",
    "    return np.complex(np.inner(np.transpose(A), np.transpose(B)))"
   ]
  },
  {
   "cell_type": "code",
   "execution_count": 9,
   "metadata": {},
   "outputs": [],
   "source": [
    "class ReducedBasis(ReducedBasis):\n",
    "    \n",
    "    def computeValues(self, param, residual=True, norm=True, cheap = True):\n",
    "        \n",
    "        ret_val = []\n",
    "\n",
    "        if self.__snapshots_updated:\n",
    "            self.__computeRB()\n",
    "        \n",
    "        \n",
    "        if residual and norm: \n",
    "            if self.logging: print(\"compute residual and norm\")\n",
    "        elif residual: \n",
    "            if self.logging: print(\"compute residual\")\n",
    "        elif norm: \n",
    "            if self.logging: print(\"compute norm\")\n",
    "        else: return\n",
    "        \n",
    "        norm_ret = []\n",
    "        residual_ret = []\n",
    "\n",
    "        \n",
    "        with TaskManager():\n",
    "\n",
    "            for _omega in param:\n",
    "                \n",
    "                ## TODO: make LU decomposition once  (for M and K) and use np.linalg.solve_triangular\n",
    "                ## (vorwaerts- und rueckwaertssubstitution)\n",
    "                ## or change to ngsolve operations\n",
    "                if self.robin:\n",
    "                    Ainv = np.linalg.inv(self.K_red-_omega*_omega*self.M_red-1j*_omega*self.R_red)\n",
    "                else:\n",
    "                    Ainv = np.linalg.inv(self.K_red-_omega*_omega*self.M_red)\n",
    "                red_sol_vec = Vector(np.matmul(Ainv, self.F_red).tolist())\n",
    "                \n",
    "                \n",
    "                if norm:\n",
    "\n",
    "    #                 self.__gf_tmp.vec.FV().NumPy()[:] = self.__V.dot(red_sol_vec) \n",
    "                    self.__gf_tmp.vec.data = self.__V * red_sol_vec\n",
    "#                     self.__gf_tmp.vec.data = self.__V * red_sol_vec\n",
    "\n",
    "\n",
    "                    # imaginary part is not exactly 0 due to numerical errors\n",
    "                    nof = np.real(Integrate(self.__gf_tmp*Conj(self.__gf_tmp), self.fes.mesh))\n",
    "                    norm_ret += [nof]\n",
    "\n",
    "                if residual:   \n",
    "                    \n",
    "                    if cheap:\n",
    "                        if self.__update_res_mat:\n",
    "                            self.__computeResMat()\n",
    "                        ## TODO: how to conjugate a matrix pointwise\n",
    "#                         A = (self.__res_mat['kk']- _omega**2*(self.__res_mat['mk']+\n",
    "# #                             Conj(self.__res_mat['mk']))+ _omega**4*(self.__res_mat['mm']))\n",
    "#                         A = (self.__res_mat['kk']- self.__res_mat['mk']*_omega**2*2+self.__res_mat['mm']*_omega**4)\n",
    "#                         A_F = self.__res_mat['kf']-self.__res_mat['mf']*_omega**2\n",
    "        \n",
    "                        A_np = (self.__np_res_mat['kk']- _omega**2*(self.__np_res_mat['mk']+self.__np_res_mat['mk'])+_omega**4*self.__np_res_mat['mm'])\n",
    "                        A_F_np = self.__np_res_mat['kf']-_omega**2*self.__np_res_mat['mf']\n",
    "                                \n",
    "                        \n",
    "                        if self.robin:\n",
    "                            A_np += (-1j*_omega*(self.__np_res_mat['rk']+self.__np_res_mat['rk'])\n",
    "                                 + 1j*_omega**3*(self.__np_res_mat['rm']+self.__np_res_mat['rm'])\n",
    "                                 - _omega**2*self.__np_res_mat['rr'])\n",
    "                            A_F_np -= 1j*_omega*self.__np_res_mat['rf']\n",
    "                        #print(type(self.__np_res_mat['rk'][0,0]))    \n",
    "                        tmp = red_sol_vec.NumPy()\n",
    "                        #print(tmp)\n",
    "                        res_np = myinner(tmp, A_np.dot(tmp)) - 2*myinner(tmp,A_F_np) + self.normf\n",
    "#                         res = InnerProduct(red_sol_vec, A * red_sol_vec) - 2*np.real( InnerProduct(red_sol_vec, A_F)) + self.normf\n",
    "                        residual_ret += [abs(res_np)]\n",
    "\n",
    "                    else:\n",
    "                        if not norm: self.__gf_tmp.vec.data = self.__V * red_sol_vec\n",
    "                    \n",
    "                        self.__bv_tmp.data = self.k.mat*self.__gf_tmp.vec - _omega*_omega*self.m.mat*self.__gf_tmp.vec - self.f.vec\n",
    "                        \n",
    "                        if self.robin:\n",
    "                            self.__bv_tmp.data += -1j*_omega*self.r.mat*self.__gf_tmp.vec\n",
    "\n",
    "#                         self.__bv_tmp2.data = self.__proj*self.__bv_tmp\n",
    "                        res = Norm(self.__bv_tmp)**2\n",
    "                    \n",
    "                        residual_ret += [res]\n",
    "                    \n",
    "                    \n",
    "        if self.logging: print(\"finished computing values\")\n",
    "        if norm and (not residual): return norm_ret\n",
    "        if residual and (not norm): return residual_ret\n",
    "        if norm and residual: return norm_ret, residual_ret\n",
    "    "
   ]
  },
  {
   "cell_type": "code",
   "execution_count": 10,
   "metadata": {},
   "outputs": [],
   "source": [
    "def ChebPoints(a,b,n):\n",
    "    x_i = []\n",
    "    for i in range(0,n+1):\n",
    "        fac = (2*i+1)/(2*n+2)\n",
    "        x_ch = np.cos(pi*fac)\n",
    "        x_i.append((a+b)/2+((b-a)/2)*x_ch)\n",
    "    return x_i"
   ]
  },
  {
   "cell_type": "code",
   "execution_count": 11,
   "metadata": {},
   "outputs": [],
   "source": [
    "def setang(alpha,d):\n",
    "    if alpha > 90 or alpha < 30:\n",
    "        return print(\"wrong angle\")\n",
    "    return d/(np.sin(np.radians(alpha)))\n",
    "\n",
    "maxind = 20\n",
    "mode = \"equi\"\n",
    "s = 40\n",
    "\n",
    "# set the minimumangle\n",
    "alpha1 = 30\n",
    "# set the maxangle\n",
    "alpha2 = 70\n",
    "\n",
    "lower = setang(alpha2,s)\n",
    "upper = setang(alpha1,s)\n",
    "if mode == \"Cheb\":\n",
    "    omegfact = np.sort(ChebPoints(lower,upper,maxind))\n",
    "if mode == \"equi\":\n",
    "    omegfact = np.linspace(lower,upper,maxind)\n",
    "snapshots = []\n",
    "for i in range(maxind):\n",
    "    snapshots.append(2*math.pi*omegfact[i])"
   ]
  },
  {
   "cell_type": "code",
   "execution_count": 12,
   "metadata": {},
   "outputs": [
    {
     "data": {
      "application/vnd.jupyter.widget-view+json": {
       "model_id": "9b34f2300a694d7fb3dcd5d67ba994c1",
       "version_major": 2,
       "version_minor": 0
      },
      "text/plain": [
       "NGSWebGuiWidget(value={'ngsolve_version': '6.2.2006-135-gee9a66d1f', 'mesh_dim': 2, 'order2d': 2, 'order3d': 2…"
      ]
     },
     "metadata": {},
     "output_type": "display_data"
    }
   ],
   "source": [
    "from netgen.geom2d import *\n",
    "from math import pi\n",
    "\n",
    "geo = SplineGeometry()\n",
    "geo.AddRectangle ( (0,0), (1,1), bcs=[\"bottom\",\"right\",\"top\",\"left\"], leftdomain=1)\n",
    "r = 0.005\n",
    "for i in range(s-1):\n",
    "    geo.AddCircle ( (0.5,(i+1)/(s)), r=r, bc=\"interface\", \n",
    "                     leftdomain=0, rightdomain=1)\n",
    "geo.SetMaterial(1, \"medium\")\n",
    "mesh = Mesh(geo.GenerateMesh(maxh=0.02))\n",
    "mesh.Curve(3)\n",
    "Draw(mesh)\n",
    "\n",
    "fes = H1(mesh, order=5, complex=True, dirichlet=\"interface\")\n",
    "n = { \"medium\" : 1, \"dot\" : 3 }\n",
    "cfn = CoefficientFunction( [n[mat] for mat in mesh.GetMaterials()] )\n",
    "\n",
    "source = 80*exp(-20**2*(y-0.5)*(y-0.5))\n",
    "space = ReducedBasis(fes, source,cfn)"
   ]
  },
  {
   "cell_type": "code",
   "execution_count": 13,
   "metadata": {},
   "outputs": [
    {
     "name": "stdout",
     "output_type": "stream",
     "text": [
      "set snapshots and reset basis\n",
      "compute Reduced Basis\n"
     ]
    },
    {
     "ename": "KeyboardInterrupt",
     "evalue": "",
     "output_type": "error",
     "traceback": [
      "\u001b[0;31m---------------------------------------------------------------------------\u001b[0m",
      "\u001b[0;31mKeyboardInterrupt\u001b[0m                         Traceback (most recent call last)",
      "\u001b[0;32m<ipython-input-13-94eabb35b032>\u001b[0m in \u001b[0;36m<module>\u001b[0;34m\u001b[0m\n\u001b[0;32m----> 1\u001b[0;31m \u001b[0mspace\u001b[0m\u001b[0;34m.\u001b[0m\u001b[0msetSnapshots\u001b[0m\u001b[0;34m(\u001b[0m\u001b[0msnapshots\u001b[0m\u001b[0;34m)\u001b[0m\u001b[0;34m\u001b[0m\u001b[0;34m\u001b[0m\u001b[0m\n\u001b[0m\u001b[1;32m      2\u001b[0m \u001b[0mslider_func1\u001b[0m \u001b[0;34m=\u001b[0m \u001b[0;32mlambda\u001b[0m \u001b[0malpha\u001b[0m\u001b[0;34m:\u001b[0m \u001b[0mspace\u001b[0m\u001b[0;34m.\u001b[0m\u001b[0mdraw\u001b[0m\u001b[0;34m(\u001b[0m\u001b[0;34m(\u001b[0m\u001b[0;36m2\u001b[0m\u001b[0;34m*\u001b[0m\u001b[0mpi\u001b[0m\u001b[0;34m*\u001b[0m\u001b[0ms\u001b[0m\u001b[0;34m)\u001b[0m\u001b[0;34m/\u001b[0m\u001b[0;34m(\u001b[0m\u001b[0mnp\u001b[0m\u001b[0;34m.\u001b[0m\u001b[0msin\u001b[0m\u001b[0;34m(\u001b[0m\u001b[0mnp\u001b[0m\u001b[0;34m.\u001b[0m\u001b[0mradians\u001b[0m\u001b[0;34m(\u001b[0m\u001b[0malpha\u001b[0m\u001b[0;34m)\u001b[0m\u001b[0;34m)\u001b[0m\u001b[0;34m)\u001b[0m\u001b[0;34m,\u001b[0m\u001b[0mredraw\u001b[0m\u001b[0;34m=\u001b[0m\u001b[0;32mTrue\u001b[0m\u001b[0;34m)\u001b[0m\u001b[0;34m\u001b[0m\u001b[0;34m\u001b[0m\u001b[0m\n\u001b[1;32m      3\u001b[0m \u001b[0mspace\u001b[0m\u001b[0;34m.\u001b[0m\u001b[0mdraw\u001b[0m\u001b[0;34m(\u001b[0m\u001b[0mspace\u001b[0m\u001b[0;34m.\u001b[0m\u001b[0momega_max\u001b[0m\u001b[0;34m,\u001b[0m\u001b[0mminval\u001b[0m \u001b[0;34m=\u001b[0m \u001b[0;34m-\u001b[0m\u001b[0;36m0.00007\u001b[0m\u001b[0;34m,\u001b[0m\u001b[0mmaxval\u001b[0m \u001b[0;34m=\u001b[0m \u001b[0;36m0.00007\u001b[0m\u001b[0;34m,\u001b[0m\u001b[0mautoscale\u001b[0m \u001b[0;34m=\u001b[0m \u001b[0;32mFalse\u001b[0m\u001b[0;34m)\u001b[0m\u001b[0;34m\u001b[0m\u001b[0;34m\u001b[0m\u001b[0m\n\u001b[1;32m      4\u001b[0m \u001b[0minteract\u001b[0m\u001b[0;34m(\u001b[0m\u001b[0mslider_func1\u001b[0m\u001b[0;34m,\u001b[0m \u001b[0malpha\u001b[0m\u001b[0;34m=\u001b[0m\u001b[0mwidgets\u001b[0m\u001b[0;34m.\u001b[0m\u001b[0mFloatSlider\u001b[0m\u001b[0;34m(\u001b[0m\u001b[0mmin\u001b[0m\u001b[0;34m=\u001b[0m\u001b[0malpha1\u001b[0m\u001b[0;34m,\u001b[0m \u001b[0mmax\u001b[0m\u001b[0;34m=\u001b[0m\u001b[0malpha2\u001b[0m\u001b[0;34m,\u001b[0m \u001b[0mstep\u001b[0m\u001b[0;34m=\u001b[0m\u001b[0;36m1\u001b[0m\u001b[0;34m,\u001b[0m \u001b[0mvalue\u001b[0m\u001b[0;34m=\u001b[0m\u001b[0malpha1\u001b[0m\u001b[0;34m)\u001b[0m\u001b[0;34m)\u001b[0m\u001b[0;34m\u001b[0m\u001b[0;34m\u001b[0m\u001b[0m\n",
      "\u001b[0;32m<ipython-input-3-21a83c998c9f>\u001b[0m in \u001b[0;36msetSnapshots\u001b[0;34m(self, new_snapshots, reset, compute_RB)\u001b[0m\n\u001b[1;32m     26\u001b[0m \u001b[0;34m\u001b[0m\u001b[0m\n\u001b[1;32m     27\u001b[0m         \u001b[0;32mif\u001b[0m \u001b[0mcompute_RB\u001b[0m\u001b[0;34m:\u001b[0m\u001b[0;34m\u001b[0m\u001b[0;34m\u001b[0m\u001b[0m\n\u001b[0;32m---> 28\u001b[0;31m             \u001b[0mself\u001b[0m\u001b[0;34m.\u001b[0m\u001b[0m__computeRB\u001b[0m\u001b[0;34m(\u001b[0m\u001b[0;34m)\u001b[0m\u001b[0;34m\u001b[0m\u001b[0;34m\u001b[0m\u001b[0m\n\u001b[0m\u001b[1;32m     29\u001b[0m \u001b[0;34m\u001b[0m\u001b[0m\n\u001b[1;32m     30\u001b[0m     \u001b[0;32mdef\u001b[0m \u001b[0mgetSnapshots\u001b[0m\u001b[0;34m(\u001b[0m\u001b[0mself\u001b[0m\u001b[0;34m)\u001b[0m\u001b[0;34m:\u001b[0m\u001b[0;34m\u001b[0m\u001b[0;34m\u001b[0m\u001b[0m\n",
      "\u001b[0;32m<ipython-input-4-c382afe6cc51>\u001b[0m in \u001b[0;36m__computeRB\u001b[0;34m(self)\u001b[0m\n\u001b[1;32m     40\u001b[0m                 \u001b[0;31m# compute FEM solution for parameter _omega\u001b[0m\u001b[0;34m\u001b[0m\u001b[0;34m\u001b[0m\u001b[0;34m\u001b[0m\u001b[0m\n\u001b[1;32m     41\u001b[0m                 \u001b[0mself\u001b[0m\u001b[0;34m.\u001b[0m\u001b[0momega\u001b[0m\u001b[0;34m.\u001b[0m\u001b[0mSet\u001b[0m\u001b[0;34m(\u001b[0m\u001b[0m_omega\u001b[0m\u001b[0;34m)\u001b[0m\u001b[0;34m\u001b[0m\u001b[0;34m\u001b[0m\u001b[0m\n\u001b[0;32m---> 42\u001b[0;31m                 \u001b[0mself\u001b[0m\u001b[0;34m.\u001b[0m\u001b[0ma\u001b[0m\u001b[0;34m.\u001b[0m\u001b[0mAssemble\u001b[0m\u001b[0;34m(\u001b[0m\u001b[0;34m)\u001b[0m\u001b[0;34m\u001b[0m\u001b[0;34m\u001b[0m\u001b[0m\n\u001b[0m\u001b[1;32m     43\u001b[0m \u001b[0;34m\u001b[0m\u001b[0m\n\u001b[1;32m     44\u001b[0m                 \u001b[0mself\u001b[0m\u001b[0;34m.\u001b[0m\u001b[0mainv\u001b[0m\u001b[0;34m.\u001b[0m\u001b[0mUpdate\u001b[0m\u001b[0;34m(\u001b[0m\u001b[0;34m)\u001b[0m\u001b[0;34m\u001b[0m\u001b[0;34m\u001b[0m\u001b[0m\n",
      "\u001b[0;31mKeyboardInterrupt\u001b[0m: "
     ]
    }
   ],
   "source": [
    "space.setSnapshots(snapshots)\n",
    "slider_func1 = lambda alpha: space.draw((2*pi*s)/(np.sin(np.radians(alpha))),redraw=True)\n",
    "space.draw(space.omega_max,minval = -0.00007,maxval = 0.00007,autoscale = False)\n",
    "interact(slider_func1, alpha=widgets.FloatSlider(min=alpha1, max=alpha2, step=1, value=alpha1))"
   ]
  },
  {
   "cell_type": "markdown",
   "metadata": {},
   "source": [
    "Again we define an instance of our now updated class. Afterwards we can plot norm and residuals for a set of random omegas. "
   ]
  },
  {
   "cell_type": "code",
   "execution_count": null,
   "metadata": {},
   "outputs": [],
   "source": [
    "mesh = Mesh(unit_square.GenerateMesh(maxh=0.2))\n",
    "fes = H1(mesh, order=3, complex=True)#,dirichlet=\"bottom|right|top|left\")\n",
    "\n",
    "x_0 = 0.6\n",
    "y_0 = 0.3\n",
    "func = 100*exp(-20*((x-x_0)**2 + (y-y_0)**2))\n",
    "\n",
    "space = ReducedBasis(fes, func)\n",
    "snapshots = np.array([0.5]+np.arange(1,5, 1).tolist())\n",
    "\n",
    "space.setSnapshots(snapshots)\n",
    "\n",
    "space.draw(space.omega_min, redraw = False)\n",
    "slider_func = lambda x: space.draw(x, redraw=True)\n",
    "\n",
    "interact(slider_func, x=widgets.FloatSlider(min=space.omega_min, max=space.omega_max, step=0.05, value=space.omega_min))"
   ]
  },
  {
   "cell_type": "code",
   "execution_count": null,
   "metadata": {},
   "outputs": [],
   "source": [
    "\n",
    "random_omegas = np.sort(np.append(np.random.uniform(space.omega_min, space.omega_max, 1000), snapshots))\n",
    "norm, residual = space.computeValues(random_omegas)\n",
    "res_np = residual\n",
    "\n",
    "residual = space.computeValues(space.getSnapshots(), norm=False)\n",
    "snap_np = residual\n",
    "\n",
    "res_orig = space.computeValues(random_omegas, norm=False, cheap = False)"
   ]
  },
  {
   "cell_type": "code",
   "execution_count": null,
   "metadata": {
    "scrolled": true
   },
   "outputs": [],
   "source": [
    "%matplotlib notebook\n",
    "import matplotlib.pyplot as plt\n",
    "\n",
    "fig, ax = plt.subplots()\n",
    "ax.plot(random_omegas, norm,  '-', label = \"norm\")\n",
    "ax.set_xlabel(\"omega\")\n",
    "ax.set_ylabel(\"norm of solution\")\n",
    "ax.set_title(\"norm of solution in reduced space\")\n",
    "plt.semilogy()\n",
    "\n",
    "fig, ax = plt.subplots()         \n",
    "ax.plot(random_omegas, res_orig , '-', label= \"original\")\n",
    "ax.plot(random_omegas, res_np , '-', label= \"cheap np\")\n",
    "\n",
    "ax.plot(space.getSnapshots(), snap_np, 'r*', label = \"snapshots np \")\n",
    "\n",
    "ax.legend()\n",
    "ax.set_xlabel(\"omega\")\n",
    "ax.set_ylabel('residual of solution')\n",
    "ax.set_title(\"residual in reduced space\")\n",
    "plt.semilogy()"
   ]
  },
  {
   "cell_type": "code",
   "execution_count": null,
   "metadata": {},
   "outputs": [],
   "source": [
    "%matplotlib notebook\n",
    "import matplotlib.pyplot as plt\n",
    "\n",
    "fig, ax = plt.subplots()\n",
    "ax.plot(random_omegas, norm,  '-', label = \"norm\")\n",
    "ax.set_xlabel(\"omega\")\n",
    "ax.set_ylabel(\"norm of solution\")\n",
    "ax.set_title(\"norm of solution in reduced space\")\n",
    "plt.semilogy()\n",
    "\n",
    "fig, ax = plt.subplots()         \n",
    "ax.plot(random_omegas, res_orig , '-', label= \"original\")\n",
    "ax.plot(random_omegas, res_np , '-', label= \"cheap np\")\n",
    "\n",
    "ax.plot(space.getSnapshots(), snap_np, 'r*', label = \"snapshots np \")\n",
    "\n",
    "ax.legend()\n",
    "ax.set_xlabel(\"omega\")\n",
    "ax.set_ylabel('residual of solution')\n",
    "ax.set_title(\"residual in reduced space\")\n",
    "plt.semilogy()"
   ]
  },
  {
   "cell_type": "code",
   "execution_count": null,
   "metadata": {},
   "outputs": [],
   "source": [
    "import numpy as np\n",
    "from numpy import linalg as LA"
   ]
  },
  {
   "cell_type": "code",
   "execution_count": null,
   "metadata": {},
   "outputs": [],
   "source": [
    "import numpy as np\n",
    "from numpy import linalg as LA\n",
    "#A = np.array([[1+1j,2+2j,3],[5+2j,8*3j,3+1j],[2+2j,3+2j,3+4j]])\n",
    "\n",
    "omg = 1\n",
    "K = np.array([[1,1,1],[2,3,1],[1,-2,0]])\n",
    "M = np.array([[0,-1,1],[0,-1,0],[-1,-3,0]])\n",
    "#R = np.array([[1,2,0],[2,3,1],[2,2,4]])\n",
    "#u = np.array([[1+1j],[2+1j],[2-1j]])\n",
    "u = np.array([[1],[2],[2]])\n",
    "I = np.array([[1,0,0],[0,1,0],[0,0,1]])\n",
    "V = np.array([[1,2],[1,1],[4,4]])\n",
    "A = K-omg**2*M#-1j*omg*R\n",
    "F = A.dot(u)\n",
    "#V,r = np.linalg.qr(F)"
   ]
  },
  {
   "cell_type": "code",
   "execution_count": null,
   "metadata": {},
   "outputs": [],
   "source": [
    "Ku = (K).dot(u)\n",
    "Mu = (M).dot(u)\n",
    "tmp1 = np.vdot(Ku,Ku)-omg**2*np.vdot(Mu,Ku)-omg**2*np.vdot(Ku,Mu)+omg**4*np.vdot(Mu,Mu)\n",
    "c = np.vdot(F,Ku)-omg**2*np.vdot(F,Mu)\n",
    "d = np.vdot(F,Ku)-omg**2*np.vdot(Mu,F)\n",
    "tmp3 = np.vdot(F,F)\n",
    "print(tmp1-c-d+tmp3)"
   ]
  },
  {
   "cell_type": "markdown",
   "metadata": {},
   "source": [
    "# Reell orgiginal"
   ]
  },
  {
   "cell_type": "code",
   "execution_count": null,
   "metadata": {},
   "outputs": [],
   "source": [
    "omg = 1\n",
    "K = np.array([[1,1,1],[2,3,1],[1,-2,0]])\n",
    "M = np.array([[0,-1,1],[0,-1,0],[-1,-3,0]])\n",
    "u = np.array([[1],[2],[2]])\n",
    "I = np.array([[1,0,0],[0,1,0],[0,0,1]])\n",
    "V = np.array([[1,2],[1,1],[4,4]])\n",
    "A = K-omg**2*M#-1j*omg*R\n",
    "F = A.dot(u)\n",
    "\n",
    "Ku = (K).dot(u)\n",
    "Mu = (M).dot(u)\n",
    "tmp1 = np.vdot(Ku-omg**2*Mu,Ku-omg**2*Mu)\n",
    "tmp1_aus = np.vdot(Ku,Ku)-omg**2*np.vdot(Mu,Ku)-omg**2*np.vdot(Ku,Mu)+omg**4*np.vdot(Mu,Mu)\n",
    "print(tmp1-tmp1_aus)\n",
    "c = np.vdot(F,Ku)-omg**2*np.vdot(F,Mu)\n",
    "d = np.vdot(F,Ku)-omg**2*np.vdot(Mu,F)\n",
    "tmp3 = np.vdot(F,F)\n",
    "print(tmp1-c-d+tmp3)"
   ]
  },
  {
   "cell_type": "markdown",
   "metadata": {},
   "source": [
    "# Reell reduce"
   ]
  },
  {
   "cell_type": "code",
   "execution_count": null,
   "metadata": {},
   "outputs": [],
   "source": [
    "omg = 1\n",
    "K = np.array([[1,1,1],[2,3,1],[1,-2,0]])\n",
    "M = np.array([[0,-1,1],[0,-1,0],[-1,-3,0]])\n",
    "u = np.array([[1],[2],[2]])\n",
    "I = np.array([[1,0,0],[0,1,0],[0,0,1]])\n",
    "V = np.array([[1,2],[1,1],[4,4]])\n",
    "A = K-omg**2*M#-1j*omg*R\n",
    "F = A.dot(u)\n",
    "\n",
    "u_r = np.transpose(V).dot(u)\n",
    "K_r = (np.transpose(V).dot(K.dot(V)))#.dot(u_r)\n",
    "M_r = (np.transpose(V).dot(M.dot(V)))#.dot(u_r)\n",
    "\n",
    "A_r = K_r-omg**2*M_r#-1j*omg*R\n",
    "F_r = A_r.dot(u_r)\n",
    "\n",
    "Ku_r = (np.transpose(V).dot(K.dot(V))).dot(u_r)\n",
    "Mu_r = (np.transpose(V).dot(M.dot(V))).dot(u_r)\n",
    "\n",
    "\n",
    "tmp1 = np.vdot(Ku_r-omg**2*Mu_r,Ku_r-omg**2*Mu_r)\n",
    "#tmp1_aus = np.vdot(Ku,Ku)-omg**2*np.vdot(Mu,Ku)-omg**2*np.vdot(Ku,Mu)+omg**4*np.vdot(Mu,Mu)\n",
    "#print(tmp1-tmp1_aus)\n",
    "c = np.vdot(F_r,Ku_r)-omg**2*np.vdot(F_r,Mu_r)\n",
    "d = np.vdot(F_r,Ku_r)-omg**2*np.vdot(Mu_r,F_r)\n",
    "tmp3 = np.vdot(F_r,F_r)\n",
    "print(tmp1-c-d+tmp3)"
   ]
  },
  {
   "cell_type": "markdown",
   "metadata": {},
   "source": [
    "# Imagenär"
   ]
  },
  {
   "cell_type": "code",
   "execution_count": null,
   "metadata": {},
   "outputs": [],
   "source": [
    "omg = 1\n",
    "K = np.array([[1,1,1],[2,3,1],[1,-2,0]])\n",
    "M = np.array([[0,-1,1],[0,-1,0],[-1,-3,0]])\n",
    "R = np.array([[1,2,0],[2,3,1],[2,2,4]])\n",
    "u = np.array([[1+1j],[2+1j],[2-1j]])\n",
    "\n",
    "\n",
    "A = K-omg**2*M-1j*omg*R\n",
    "F = A.dot(u)\n",
    "Ku = (K).dot(u)\n",
    "Mu = (M).dot(u)\n",
    "Ru = R.dot(u)\n",
    "\n",
    "tmp = (K-omg**2*M-1j*omg*R).dot(u)-F\n",
    "print(tmp)\n",
    "tmp1 = np.vdot(Ku-omg**2*Mu-1j*omg*Ru,Ku-omg**2*Mu-1j*omg*Ru)\n",
    "\n",
    "tmp1_aus = np.vdot(Ku,Ku)-omg**2*np.vdot(Mu,Ku)-omg*np.vdot(1j*Ru,Ku)-omg**2*np.vdot(Ku,Mu)+omg**4*np.vdot(Mu,Mu)+omg**3*np.vdot(1j*Ru,Ku)-omg*np.vdot(Ku,1j*Ru)+omg**3*np.vdot(Mu,1j*Ru)+omg**2*np.vdot(1j*Ru,1j*Ru)\n",
    "\n",
    "print(tmp1,-tmp1_aus)\n",
    "#tmp2 = np.vdot(Ku-omg**2*Mu-1j*omg*Ru,F)\n",
    "#tmp2_aus = np.vdot(Ku,F)-omg**2*np.vdot(Mu,F)-1j*omg*np.vdot(Ru,F)\n",
    "#tmp3 = np.vdot(F,Ku-omg**2*Mu-1j*omg*Ru)\n",
    "#tmp4 = np.vdot(F,F)\n",
    "#print(tmp1-tmp2-tmp3+tmp4)\n",
    "\n",
    "#tmp1 = np.vdot(Ku,Ku)-omg**2*np.vdot(Ku,Mu)-1j*omg*np.vdot(Ku,Ru)-omg**2*np.vdot(Mu,Ku)\n",
    "#+omg**4*np.vdot(Mu,Mu)+1j*omg**3*np.vdot(Mu,Ru)-1j*omg*np.vdot(Ku,Ru)+1j*omg**3*np.vdot(Ru,Mu)\n",
    "#-omg**2*np.vdot(Ru,Ru)\n",
    "#c = np.vdot(F,Ku)-omg**2*np.vdot(F,Mu)-1j*omg*np.vdot(F,Ru)\n",
    "#d = np.vdot(Ku,F)-omg**2*np.vdot(Mu,F)-1j*omg*np.vdot(Ru,F)\n",
    "#tmp3 = np.vdot(F,F)\n",
    "#print(tmp1-c-d+tmp3)\n",
    "#print(tmp1,tmp1-tmp1_aus)\n",
    "#print(tmp2,tmp2_aus,tmp2-tmp2_aus)"
   ]
  },
  {
   "cell_type": "markdown",
   "metadata": {},
   "source": [
    "# Imag Test"
   ]
  },
  {
   "cell_type": "code",
   "execution_count": null,
   "metadata": {},
   "outputs": [],
   "source": [
    "v1 = np.array([[1+1j],[2+1j]])\n",
    "v2 = np.array([[2+1j],[5+3j]])\n",
    "v3 = np.array([[2+2j],[3+3j]])\n",
    "print(np.vdot(v1+v2+v3,v1+v2+v3),np.vdot(v1,v1)+np.vdot(v1,v2)+np.vdot(v1,v3)+np.vdot(v2,v1)+np.vdot(v2,v2)+np.vdot(v2,v3)+np.vdot(v3,v1)+np.vdot(v3,v2)+np.vdot(v3,v3))"
   ]
  },
  {
   "cell_type": "code",
   "execution_count": null,
   "metadata": {},
   "outputs": [],
   "source": [
    "print(Ku)\n",
    "print(\"\")\n",
    "print(F)\n",
    "print(\"\")\n",
    "print(Ku*F)\n",
    "print(\"\")\n",
    "print(np.vdot(Ku,F))\n",
    "print(\"\")\n"
   ]
  },
  {
   "cell_type": "code",
   "execution_count": null,
   "metadata": {},
   "outputs": [],
   "source": [
    "u_r = np.transpose(V).dot(u)\n",
    "Ku_r = (np.transpose(V).dot(K.dot(V)))#.dot(u_r)\n",
    "Mu_r = (np.transpose(V).dot(M.dot(V)))#.dot(u_r)\n",
    "print((np.transpose(V).dot(K.dot(V))))\n",
    "print(u_r)\n",
    "F_r = np.transpose(V).dot(F)\n",
    "print(\"Matrix: \",(Ku_r-omg**2*Mu_r).dot(u_r)-F_r)\n",
    "tmp1 = np.vdot(Ku_r,Ku_r)-omg**2*np.vdot(Mu_r,Ku_r)-omg**2*np.vdot(Ku_r,Mu_r)+omg**4*np.vdot(Mu_r,Mu_r)\n",
    "c = np.vdot(F_r,Ku_r)-omg**2*np.vdot(F_r,Mu_r)\n",
    "d = np.vdot(Ku_r,F_r)-omg**2*np.vdot(Mu_r,F_r)\n",
    "tmp3 = np.vdot(F_r,F_r)\n",
    "print(tmp1-c-d+tmp3)\n",
    "print(tmp1,-c-d,tmp3)\n",
    "print(c)\n",
    "print(d)\n",
    "print(tmp3)"
   ]
  },
  {
   "cell_type": "code",
   "execution_count": null,
   "metadata": {},
   "outputs": [],
   "source": [
    "print(\"Matrix: \",(Ku_r-omg**2*Mu_r).dot(u_r))"
   ]
  },
  {
   "cell_type": "code",
   "execution_count": null,
   "metadata": {},
   "outputs": [],
   "source": []
  },
  {
   "cell_type": "code",
   "execution_count": null,
   "metadata": {},
   "outputs": [],
   "source": [
    "u_r = np.transpose(V).dot(u)\n",
    "Ku_r = (np.transpose(V).dot(K.dot(V)))#.dot(u_r)\n",
    "Mu_r = (np.transpose(V).dot(M.dot(V)))#.dot(u_r)\n",
    "Ru_r = (np.transpose(V).dot(R.dot(V)))\n",
    "F_r = np.transpose(V).dot(F)\n",
    "\n",
    "\n",
    "tmp = (Ku_r-omg**2*Mu_r-1j*omg*Ru_r).dot(u_r)-F_r\n",
    "print(np.vdot(tmp,tmp))"
   ]
  },
  {
   "cell_type": "code",
   "execution_count": null,
   "metadata": {},
   "outputs": [],
   "source": []
  },
  {
   "cell_type": "code",
   "execution_count": null,
   "metadata": {},
   "outputs": [],
   "source": []
  },
  {
   "cell_type": "code",
   "execution_count": null,
   "metadata": {},
   "outputs": [],
   "source": []
  },
  {
   "cell_type": "code",
   "execution_count": null,
   "metadata": {},
   "outputs": [],
   "source": [
    "tmp = (K-omg**2*M-1j*omg*R).dot(u)-F\n",
    "print(np.vdot(tmp,tmp))\n",
    "tmp1 = np.vdot((K-omg**2*M-1j*omg*R).dot(u),(K-omg**2*M-1j*omg*R).dot(u))\n",
    "tmp1 = \n",
    "tmp2 = 2*np.vdot(F,(K-omg**2*M-1j*omg*R).dot(u))\n",
    "tmp3 = np.vdot(F,F)\n",
    "print(tmp1-tmp2+tmp3)\n",
    "#print(np.vdot((K-omg**2*M).dot(u),(K-omg**2*M).dot(u))-np.vdot(F,(K-omg**2*M).dot(u)))-np.vdot(F,(K-omg**2*M).dot(u))"
   ]
  },
  {
   "cell_type": "code",
   "execution_count": null,
   "metadata": {},
   "outputs": [],
   "source": [
    "print(np.transpose(V).dot(K.dot(V)))"
   ]
  },
  {
   "cell_type": "code",
   "execution_count": null,
   "metadata": {},
   "outputs": [],
   "source": [
    "#tmp = (K-omg**2*M).dot(u)-F\n",
    "#print(np.vdot(tmp,tmp))\n",
    "#tmp1 = np.vdot((K-omg**2*M).dot(u),(K-omg**2*M).dot(u))\n",
    "#u = np.transpose(V).dot(u)\n",
    "#Ku = (np.transpose(V).dot(K.dot(V))).dot(u)\n",
    "#Mu = (np.transpose(V).dot(M.dot(V))).dot(u)\n",
    "#F = np.transpose(V).dot(F)\n",
    "\n",
    "#tmp2 = 2*np.vdot(F,(K-omg**2*M).dot(u))\n",
    "\n",
    "Ku = (K).dot(u)\n",
    "Mu = (M).dot(u)\n",
    "tmp1 = np.vdot(Ku,Ku)-omg**2*np.vdot(Mu,Ku)-omg**2*np.vdot(Ku,Mu)+omg**4*np.vdot(Mu,Mu)\n",
    "c = np.vdot(F,Ku)-omg**2*np.vdot(F,Mu)\n",
    "d = np.vdot(F,Ku)-omg**2*np.vdot(Mu,F)\n",
    "tmp3 = np.vdot(F,F)\n",
    "print(tmp1-c-d+tmp3)\n",
    "#print(np.vdot((K-omg**2*M).dot(u),(K-omg**2*M).dot(u))-np.vdot(F,(K-omg**2*M).dot(u)))-np.vdot(F,(K-omg**2*M).dot(u))"
   ]
  },
  {
   "cell_type": "code",
   "execution_count": null,
   "metadata": {},
   "outputs": [],
   "source": [
    "print(np.linalg.solve(A,F))"
   ]
  },
  {
   "cell_type": "code",
   "execution_count": null,
   "metadata": {},
   "outputs": [],
   "source": [
    "A_jk = np.zeros([3,3])\n",
    "A_Fab = np.zeros([3,1])\n",
    "A_Fba = np.zeros([3,1])\n",
    "#for i in range(3):\n",
    "#    A_Fab[i,0] = np.vdot(K[i],F)-omg**2*np.vdot(M[i],F)-1j*omg*np.vdot(R[i],F)\n",
    "#    A_Fba[i,0] = np.vdot(F,K[i])-omg**2*np.vdot(F,M[i])-1j*omg*np.vdot(F,R[i])\n",
    "#    for j in range(3):      \n",
    "#        A_jk[i,j] = np.vdot(K[i],K[j])-omg**2*np.vdot(M[i],K[j])-1j*omg*np.vdot(R[i],K[j])-omg**2*np.vdot(K[i],M[j])\n",
    "#        +omg**4*np.vdot(M[i],M[j])+1j*omg**3*np.vdot(R[i],M[j])-1j*omg*np.vdot(K[i],R[j])*1j*omg**3*np.vdot(M[i],R[j])\n",
    "#        -omg*np.vdot(R[i],R[j])\n",
    "for i in range(3):\n",
    "    A_Fab[i,0] = np.vdot(K[i],F)-omg**2*np.vdot(M[i],F)\n",
    "    A_Fba[i,0] = np.vdot(F,K[i])-omg**2*np.vdot(F,M[i])\n",
    "    for j in range(3):      \n",
    "        A_jk[i,j] = np.vdot(K[i],K[j])-2*omg**2*np.vdot(M[i],K[j])+omg**4*np.vdot(M[i],M[j])\n",
    "\n",
    "        "
   ]
  },
  {
   "cell_type": "code",
   "execution_count": null,
   "metadata": {},
   "outputs": [],
   "source": [
    "print(np.transpose(u).dot(A_jk.dot(u))-np.transpose(A_Fab).dot(u)-np.transpose(A_Fab).dot(u)+np.vdot(F,F))\n",
    "print(np.vdot(F,F))\n",
    "print(-np.vdot(A_Fab,u)-np.vdot(A_Fba,u))\n",
    "print(np.transpose(u).dot(A_jk.dot(u)))"
   ]
  },
  {
   "cell_type": "code",
   "execution_count": null,
   "metadata": {},
   "outputs": [],
   "source": [
    "A_jk.dot(u)"
   ]
  },
  {
   "cell_type": "code",
   "execution_count": null,
   "metadata": {},
   "outputs": [],
   "source": [
    "print(LA.norm(F))\n",
    "print(np.vdot(F,F))"
   ]
  },
  {
   "cell_type": "code",
   "execution_count": null,
   "metadata": {},
   "outputs": [],
   "source": [
    "A_F.dot(np.transpose(u))"
   ]
  },
  {
   "cell_type": "code",
   "execution_count": null,
   "metadata": {},
   "outputs": [],
   "source": [
    "A_F"
   ]
  },
  {
   "cell_type": "code",
   "execution_count": null,
   "metadata": {},
   "outputs": [],
   "source": [
    "u"
   ]
  },
  {
   "cell_type": "code",
   "execution_count": null,
   "metadata": {},
   "outputs": [],
   "source": [
    "np.conj(u)"
   ]
  },
  {
   "cell_type": "code",
   "execution_count": null,
   "metadata": {},
   "outputs": [],
   "source": [
    "K[i]"
   ]
  },
  {
   "cell_type": "code",
   "execution_count": null,
   "metadata": {},
   "outputs": [],
   "source": [
    "A_Fab[1,0]"
   ]
  },
  {
   "cell_type": "code",
   "execution_count": null,
   "metadata": {},
   "outputs": [],
   "source": [
    "import netgen.gui\n",
    "from ngsolve import *\n",
    "from netgen.geom2d import unit_square\n",
    "import numpy as np"
   ]
  },
  {
   "cell_type": "code",
   "execution_count": null,
   "metadata": {},
   "outputs": [],
   "source": [
    "def myinner(A,B):\n",
    "    return np.complex(np.inner(np.transpose(A), np.transpose(B)))"
   ]
  },
  {
   "cell_type": "code",
   "execution_count": null,
   "metadata": {},
   "outputs": [],
   "source": [
    "A = np.array([[0],[0],[0],[0.526316+0.526316j],[0],[-6.31579-6.31579j],[-0.789474-0.789474j],[0],[-0.789474-0.789474j]])\n",
    "B = np.array([[0],[0],[0],[0.315789+0.105263j],[0],[-3.78947-1.26316j],[-0.473684-0.157895j],[0],[-0.473684-0.157895j]])"
   ]
  },
  {
   "cell_type": "code",
   "execution_count": null,
   "metadata": {},
   "outputs": [],
   "source": [
    "1j*np.conj(myinner(A,B))\n",
    "print(myinner(A,B))"
   ]
  },
  {
   "cell_type": "code",
   "execution_count": null,
   "metadata": {},
   "outputs": [],
   "source": [
    "mesh = Mesh(unit_square.GenerateMesh(maxh=5))\n",
    "fes = H1(mesh, order=2, dirichlet=\"bottom|right\",complex = True)\n",
    "gfu2 = GridFunction(fes)\n",
    "a = BilinearForm(fes, symmetric=True)\n",
    "a += (3*u*u-1j*u*v)*dx\n",
    "a.Assemble()\n",
    "\n",
    "f = LinearForm(fes)\n",
    "f += v*dx\n",
    "f.Assemble()\n",
    "\n",
    "gfu2.vec.data = a.mat.Inverse(freedofs=fes.FreeDofs()) * f.vec"
   ]
  },
  {
   "cell_type": "code",
   "execution_count": null,
   "metadata": {},
   "outputs": [],
   "source": [
    "print(gfu1.vec)\n",
    "print(gfu2.vec)\n",
    "-1j*np.conj(InnerProduct(gfu1.vec,gfu2.vec))\n",
    "#d = Conj(g)\n",
    "#print(d.data)"
   ]
  },
  {
   "cell_type": "code",
   "execution_count": null,
   "metadata": {},
   "outputs": [],
   "source": [
    "uvecs1 = MultiVector(gfu1.vec, 1)\n",
    "uvecs2 = MultiVector(gfu2.vec, 1)\n",
    "uvecs1[0] = 2+1j\n",
    "uvecs2[0] = 3+1j\n",
    "print(uvecs1[0])\n",
    "print(uvecs2[0])\n",
    "InnerProduct(uvecs1[0],uvecs2[0])"
   ]
  },
  {
   "cell_type": "code",
   "execution_count": null,
   "metadata": {},
   "outputs": [],
   "source": [
    "A = np.array([[2+1j],[2+1j],[2+1j],[2+1j],[2+1j],[2+1j],[2+1j],[2+1j],[2+1j]])\n",
    "B = np.array([[3-1j],[3-1j],[3-1j],[3-1j],[3-1j],[3-1j],[3-1j],[3-1j],[3-1j]])\n",
    "print(myinner(A,B))"
   ]
  },
  {
   "cell_type": "code",
   "execution_count": null,
   "metadata": {},
   "outputs": [],
   "source": [
    "(2+1j)*(3-1j)+(2+1j)*(3-1j)+(2+1j)*(3-1j)+(2+1j)*(3-1j)+(2+1j)*(3-1j)+(2+1j)*(3-1j)+(2+1j)*(3-1j)+(2+1j)*(3-1j)+(2+1j)*(3-1j)"
   ]
  },
  {
   "cell_type": "code",
   "execution_count": null,
   "metadata": {},
   "outputs": [],
   "source": [
    "r_zeta1 = MultiVector(gfu1.vec, 0)\n",
    "r_zeta2 = MultiVector(gfu2.vec, 0)\n",
    "#print(r_zeta.C)\n",
    "print(1j*np.conj(InnerProduct(r_zeta1,r_zeta2)))"
   ]
  },
  {
   "cell_type": "code",
   "execution_count": null,
   "metadata": {},
   "outputs": [],
   "source": [
    "vu = gfu.vec\n",
    "s = vu.CreateVector()\n",
    "#s.FV().NumPy()[:] = np.array([[1+1j,2,3,1,2,-1,2,1,0]])"
   ]
  },
  {
   "cell_type": "code",
   "execution_count": null,
   "metadata": {},
   "outputs": [],
   "source": [
    "print(s)"
   ]
  },
  {
   "cell_type": "code",
   "execution_count": null,
   "metadata": {},
   "outputs": [],
   "source": [
    "InnerProduct(s,s)"
   ]
  },
  {
   "cell_type": "code",
   "execution_count": null,
   "metadata": {},
   "outputs": [],
   "source": [
    "r_zeta = MultiVector(vu, 0)\n",
    "r_zeta.data = np.array([1+1j,2,3,1,2,-1,2,1,0])\n",
    "#r_zeta.FV().NumPy()[:] = np.array([[1+1j,2,3,1,2,-1,2,1,0]])"
   ]
  },
  {
   "cell_type": "code",
   "execution_count": null,
   "metadata": {},
   "outputs": [],
   "source": [
    "print(r_zeta)"
   ]
  },
  {
   "cell_type": "code",
   "execution_count": null,
   "metadata": {},
   "outputs": [],
   "source": []
  }
 ],
 "metadata": {
  "kernelspec": {
   "display_name": "Python 3",
   "language": "python",
   "name": "python3"
  },
  "language_info": {
   "codemirror_mode": {
    "name": "ipython",
    "version": 3
   },
   "file_extension": ".py",
   "mimetype": "text/x-python",
   "name": "python",
   "nbconvert_exporter": "python",
   "pygments_lexer": "ipython3",
   "version": "3.8.2"
  }
 },
 "nbformat": 4,
 "nbformat_minor": 2
}
