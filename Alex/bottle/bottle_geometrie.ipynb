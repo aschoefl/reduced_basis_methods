{
 "cells": [
  {
   "cell_type": "code",
   "execution_count": 1,
   "metadata": {},
   "outputs": [],
   "source": [
    "from ngsolve import *\n",
    "import netgen.gui\n",
    "from netgen.geom2d import *"
   ]
  },
  {
   "cell_type": "code",
   "execution_count": 3,
   "metadata": {},
   "outputs": [],
   "source": [
    "geo = SplineGeometry()\n",
    "a = 3\n",
    "cringx = a/2\n",
    "cringy = a/3\n",
    "rring = 0.8\n",
    "geo.AddRectangle((0,0), (a,a), bc = \"outer\", leftdomain=1, rightdomain=0)\n",
    "\n",
    "#geo.AddRectangle((0,0), (a,a), bc=['bottom','right','top','left'], leftdomain=1, rightdomain=0)\n",
    "p1,p2,p3,p4 = [ geo.AppendPoint(x,y) for x,y in [(0,0), (1,0), (1,1), (0,1)] ]\n",
    "geo.Append ([\"line\", p1, p2], bc = \"inner\", leftdomain=2, rightdomain=1)\n",
    "geo.Append ([\"line\", p2, p3], bc = \"inner\", leftdomain=2, rightdomain=1)\n",
    "geo.Append ([\"line\", p3, p4], bc = \"inner\", leftdomain=2, rightdomain=1)\n",
    "geo.Append ([\"line\", p4, p1], bc = \"inner\", leftdomain=2, rightdomain=1)\n",
    "\n",
    "geo.AddCircle(c=(cringx,cringy), r=rring, bc = \"inner\", leftdomain=2, rightdomain=1)\n",
    "\n",
    "geo.SetMaterial (1, \"outer\")\n",
    "geo.SetMaterial (2, \"inner\")\n",
    "#geo.Append ([\"spline3\", p2, p3, p4])\n",
    "#geo.Append ([\"line\", p4, p1])\n",
    "\n",
    "mesh = Mesh(geo.GenerateMesh(maxh=0.1))\n",
    "Draw(mesh)"
   ]
  },
  {
   "cell_type": "code",
   "execution_count": 2,
   "metadata": {},
   "outputs": [],
   "source": [
    "geo = SplineGeometry()\n",
    "a = 3\n",
    "cringx = a/2\n",
    "cringy = a/3\n",
    "rring = 0.8\n",
    "geo.AddRectangle((0,0), (a,a), bc = \"outer\", leftdomain=1, rightdomain=0)\n",
    "z = 1/2\n",
    "#geo.AddRectangle((0,0), (a,a), bc=['bottom','right','top','left'], leftdomain=1, rightdomain=0)\n",
    "p1,p2,p3,p4 = [ geo.AppendPoint(x,y) for x,y in [(z,z), (1/2+z,z), (1/2+z,1+z), (z,1+z)] ]\n",
    "\n",
    "geo.Append ([\"line\", p1, p2], bc = \"hals\", leftdomain=2, rightdomain=1)\n",
    "geo.Append ([\"line\", p2, p3], bc = \"hals\", leftdomain=2, rightdomain=1)\n",
    "geo.Append ([\"line\", p3, p4], bc = \"hals\", leftdomain=2, rightdomain=1)\n",
    "geo.Append ([\"line\", p4, p1], bc = \"hals\", leftdomain=2, rightdomain=1)\n",
    "\n",
    "geo.AddCircle(c=(cringx,cringy), r=rring, bc = \"inner\", leftdomain=3, rightdomain=2)\n",
    "\n",
    "geo.SetMaterial (1, \"outer\")\n",
    "geo.SetMaterial (2, \"inner\")\n",
    "#geo.Append ([\"spline3\", p2, p3, p4])\n",
    "#geo.Append ([\"line\", p4, p1])\n",
    "\n",
    "mesh = Mesh(geo.GenerateMesh(maxh=0.1))\n",
    "Draw(mesh)"
   ]
  },
  {
   "cell_type": "code",
   "execution_count": 6,
   "metadata": {},
   "outputs": [],
   "source": [
    "geo = SplineGeometry()\n",
    "a = 3\n",
    "cringx = a/2\n",
    "cringy = a/3\n",
    "rring = 0.8\n",
    "geo.AddRectangle((0,0), (a,a), bc = \"outer\", leftdomain=3, rightdomain=1)\n",
    "\n",
    "p1,p2,p3,p4 = [ geo.AppendPoint(x,y) for x,y in [(0,0), (1,0), (1,1), (0,1)] ]\n",
    "p5,p6 =  [ geo.AppendPoint(x,y) for x,y in [(2,0), (2,1)] ]\n",
    "geo.Append ([\"line\", p1, p2], leftdomain=1, rightdomain=0)\n",
    "geo.Append ([\"line\", p2, p3], leftdomain=1, rightdomain=2)\n",
    "geo.Append ([\"line\", p3, p4], leftdomain=1, rightdomain=0)\n",
    "geo.Append ([\"line\", p4, p1], leftdomain=1, rightdomain=0)\n",
    "geo.Append ([\"line\", p2, p5], leftdomain=2, rightdomain=0)\n",
    "geo.Append ([\"line\", p5, p6], leftdomain=2, rightdomain=0)\n",
    "geo.Append ([\"line\", p6, p3], leftdomain=2, rightdomain=0)\n",
    "\n",
    "mesh = Mesh(geo.GenerateMesh(maxh=0.1))\n",
    "Draw(mesh)\n",
    "\n"
   ]
  },
  {
   "cell_type": "code",
   "execution_count": null,
   "metadata": {},
   "outputs": [],
   "source": []
  }
 ],
 "metadata": {
  "language_info": {
   "codemirror_mode": {
    "name": "ipython",
    "version": 3
   },
   "file_extension": ".py",
   "mimetype": "text/x-python",
   "name": "python",
   "nbconvert_exporter": "python",
   "pygments_lexer": "ipython3",
   "version": "3.7.5-final"
  },
  "orig_nbformat": 2,
  "kernelspec": {
   "name": "python37564bitb5f188b5fd4549769c9ea1e1a366fa0d",
   "display_name": "Python 3.7.5 64-bit"
  }
 },
 "nbformat": 4,
 "nbformat_minor": 2
}