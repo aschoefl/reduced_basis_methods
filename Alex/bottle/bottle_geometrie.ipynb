{
 "cells": [
  {
   "cell_type": "code",
   "execution_count": null,
   "metadata": {},
   "outputs": [],
   "source": [
    "from ngsolve import *\n",
    "import netgen.gui\n",
    "from netgen.geom2d import *\n",
    "\n",
    "import matplotlib.pyplot as plt\n",
    "import numpy as np\n",
    "import scipy.sparse as sp"
   ]
  },
  {
   "cell_type": "code",
   "execution_count": null,
   "metadata": {},
   "outputs": [],
   "source": [
    "geo = SplineGeometry()\n",
    "a = 3\n",
    "cringx = a/2\n",
    "cringy = a/3\n",
    "rring = 0.8\n",
    "geo.AddRectangle((0,0), (a,a), bc = \"air\", leftdomain=1, rightdomain=0)\n",
    "z = 2\n",
    "#geo.AddRectangle((0,0), (a,a), bc=['bottom','right','top','left'], leftdomain=1, rightdomain=0)\n",
    "p1,p2,p3,p4 = [ geo.AppendPoint(x,y) for x,y in [(z,z), (1/2+z,z), (1/2+z,1+z), (z,1+z)] ]\n",
    "\n",
    "geo.AddCircle(c=(cringx,cringy), r=rring, bc = \"glas\", leftdomain=2, rightdomain=1)\n",
    "geo.AddCircle(c=(cringx,cringy), r=rring-0.1,bc = \"glas\", leftdomain=1, rightdomain=2)\n",
    "\n",
    "geo.SetMaterial (1, \"air\")\n",
    "geo.SetMaterial (2, \"glas\")\n",
    "\n",
    "#geo.Append ([\"spline3\", p2, p3, p4])\n",
    "#geo.Append ([\"line\", p4, p1])\n",
    "\n",
    "mesh = Mesh(geo.GenerateMesh(maxh=0.1))\n",
    "Draw(mesh)"
   ]
  },
  {
   "cell_type": "code",
   "execution_count": null,
   "metadata": {},
   "outputs": [],
   "source": [
    "maxind = 20\n",
    "fes = H1(mesh, order=5,complex = True)\n",
    "#fes = H1(mesh, order=5,dirichlet=\".*\")\n",
    "gfu = GridFunction(fes,name = \"u\")\n",
    "erg = np.zeros([len(gfu.vec),maxind],dtype = complex)\n",
    "fh = np.zeros(len(gfu.vec),dtype = complex)\n",
    "\n",
    "piha = 1\n",
    "\n",
    "source = exp(-50**2*((x-a/2)*(x-a/2)+(y-1.5)*(y-1.5)))\n",
    "Draw(source,mesh,name = \"pulse\")"
   ]
  },
  {
   "cell_type": "code",
   "execution_count": null,
   "metadata": {},
   "outputs": [],
   "source": [
    "u = fes.TrialFunction()\n",
    "v = fes.TestFunction()\n",
    "\n",
    "A = BilinearForm(fes)\n",
    "K = BilinearForm(fes)\n",
    "M = BilinearForm(fes)\n",
    "F = LinearForm(fes)\n",
    "R = BilinearForm(fes)\n",
    "\n",
    "omega = Parameter(1)\n",
    "A += (grad(u)*grad(v)- omega**2*u*v)*dx\n",
    "K += grad(u)*grad(v)*dx\n",
    "M += u*v*dx\n",
    "R += -1j*u*v*ds(definedon=mesh.Materials('glas'))\n",
    "A += -1j*omega*u*v*ds(definedon=mesh.Materials('glas'))\n",
    "\n",
    "\n",
    "#A += 1j*omega*u*v*ds # R \n",
    "F += source*v*dx  \n",
    "o = []  \n",
    "\n",
    "norm = []\n",
    "\n",
    "#o = verg[0:21]\n",
    "for i in range(0,maxind):\n",
    "    o.append(i)\n",
    "\n",
    "j = 0\n",
    "Draw(gfu)\n",
    "for i in o:   \n",
    "    omega.Set(i) \n",
    "    A.Assemble()\n",
    "    K.Assemble()\n",
    "    M.Assemble()\n",
    "    F.Assemble()  \n",
    "    R.Assemble() \n",
    "    gfu.vec.data = A.mat.Inverse(fes.FreeDofs()) * F.vec\n",
    "    erg[:,j] = gfu.vec\n",
    "    fh = F.vec\n",
    "    norm.append(sqrt (Integrate ((gfu)*(gfu),mesh)))\n",
    "    print(\"Number of iter: \",j,\"omega: \",i,\"L2-Norm:\",sqrt (Integrate ((gfu)*(gfu),mesh)))\n",
    "    j = j+1\n",
    "#As = A.mat\n",
    "Ms = M.mat\n",
    "Ks = K.mat\n",
    "Rs = R.mat\n",
    "rows,cols,vals = Ms.COO()\n",
    "Mh = sp.csr_matrix((vals,(rows,cols)))\n",
    "rows,cols,vals = Ks.COO()\n",
    "Kh = sp.csr_matrix((vals,(rows,cols)))\n",
    "rows,cols,vals = Rs.COO()\n",
    "Rh = sp.csr_matrix((vals,(rows,cols)))\n",
    "#rows,cols,vals = As.COO()\n",
    "#Ah = sp.csr_matrix((vals,(rows,cols)))\n",
    "#Ah = sp.csr_matrix.toarray(Ah)"
   ]
  },
  {
   "cell_type": "code",
   "execution_count": null,
   "metadata": {},
   "outputs": [],
   "source": [
    "plt.plot(o[1:20],norm[1:20])\n",
    "plt.xlabel(\"omega\")\n",
    "plt.ylabel(\"Euklidic-Norm\")\n",
    "#plt.savefig('results/resonanz_20.png')"
   ]
  },
  {
   "cell_type": "code",
   "execution_count": null,
   "metadata": {},
   "outputs": [],
   "source": [
    "V, r = np.linalg.qr(erg)\n",
    "V = erg.dot(np.linalg.inv(r))\n",
    "print(np.vdot(V[:,1],(V[:,2])))\n",
    "len(V)"
   ]
  },
  {
   "cell_type": "code",
   "execution_count": null,
   "metadata": {},
   "outputs": [],
   "source": [
    "MN = np.transpose(V).dot(Mh.dot(V))\n",
    "KN = np.transpose(V).dot(Kh.dot(V))\n",
    "fN = np.transpose(V).dot(fh)\n",
    "RN = np.transpose(V).dot(Rh.dot(V))"
   ]
  },
  {
   "cell_type": "code",
   "execution_count": null,
   "metadata": {},
   "outputs": [],
   "source": [
    "iteration = int(100)\n",
    "interval = 20\n",
    "factor = interval / iteration\n",
    "omegaN = []\n",
    "norm_L2 =[]\n",
    "uN = np.zeros([maxind,iteration])\n",
    "for i in range(iteration):\n",
    "    omegaN.append(factor*i)\n",
    "    uN[:,i] = np.linalg.solve(KN-omegaN[i]**2*MN+omegaN[i]*RN, fN)\n",
    "    new = uN[:,i].dot(np.transpose(V))\n",
    "    gif = GridFunction(fes,name = \"gif\")\n",
    "    gif.vec.FV().NumPy()[:] = new\n",
    "    Draw(gif)\n",
    "    print(\"i: \",i,\"Omega: \",omegaN[i])\n",
    "    input()\n",
    "    Redraw()\n",
    "    #norm_L2.append(sqrt(uN[:,i].dot(uN[:,i])))"
   ]
  },
  {
   "cell_type": "code",
   "execution_count": null,
   "metadata": {},
   "outputs": [],
   "source": [
    "\n",
    "\n",
    "\n",
    "iteration = int(1e3)\n",
    "interval = 20\n",
    "factor = interval / iteration\n",
    "omegaN = []\n",
    "norm_L2 =[]\n",
    "res = []\n",
    "uN = np.zeros([maxind,iteration])\n",
    "for i in range(iteration):\n",
    "    print(i)\n",
    "    omegaN.append(factor*i)\n",
    "    uN[:,i] = np.linalg.solve(KN-omegaN[i]**2*MN, fN)\n",
    "    res.append(np.linalg.norm((Kh-omegaN[i]**2*Mh).dot(uN[:,i].dot(np.transpose(V)))-fN.dot(np.transpose(V))))\n",
    "    norm_L2.append(sqrt(uN[:,i].dot(uN[:,i])))"
   ]
  },
  {
   "cell_type": "code",
   "execution_count": null,
   "metadata": {},
   "outputs": [],
   "source": [
    "\n",
    "\n",
    "#plt.semilogy(verg[0:maxpoints],point[0:maxpoints],'*r')\n",
    "plt.semilogy(omegaN[10:],norm_L2[10:],'b')\n",
    "plt.xlabel(\"omega\")\n",
    "plt.ylabel(\"Euclidic Norm\")\n",
    "#plt.savefig('results/resonanz_RB_20.png')"
   ]
  },
  {
   "cell_type": "code",
   "execution_count": null,
   "metadata": {},
   "outputs": [],
   "source": [
    "plt.semilogy(omegaN,res)\n",
    "plt.xlabel(\"omega\")\n",
    "plt.ylabel(\"Euclidic Norm\")"
   ]
  },
  {
   "cell_type": "code",
   "execution_count": null,
   "metadata": {},
   "outputs": [],
   "source": []
  }
 ],
 "metadata": {
  "kernelspec": {
   "display_name": "Python 3.7.5 64-bit",
   "name": "python37564bitb5f188b5fd4549769c9ea1e1a366fa0d"
  },
  "language_info": {
   "codemirror_mode": {
    "name": "ipython",
    "version": 3
   },
   "file_extension": ".py",
   "mimetype": "text/x-python",
   "name": "python",
   "nbconvert_exporter": "python",
   "pygments_lexer": "ipython3",
   "version": "3.7.5-final"
  }
 },
 "nbformat": 4,
 "nbformat_minor": 2
}
