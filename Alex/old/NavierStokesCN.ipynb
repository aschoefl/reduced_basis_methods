{
 "cells": [
  {
   "cell_type": "markdown",
   "metadata": {},
   "source": [
    "# Navier Stokes Equation Reduced Basis Method \n",
    "Incompressible timedependet Navier Stokes equation\n",
    "\n",
    "Find $(u,p):[0,T] \\to (H_{0,D}^1)^d \\times L^2$, s.t.\n",
    "\n",
    "\\begin{align}\n",
    "\\int_{\\Omega} \\partial_t u \\cdot v + \\int_{\\Omega} \\nu \\nabla u \\nabla v + u \\cdot \\nabla u v - \\int_{\\Omega} \\operatorname{div}(v) p &= \\int f v  && \\forall v \\in (H_{0,D}^1)^d, \\\\ \n",
    "- \\int_{\\Omega} \\operatorname{div}(u) q &= 0 && \\forall q \\in L^2, \\\\\n",
    "\\quad u(t=0) & = u_0\n",
    "\\end{align}"
   ]
  },
  {
   "cell_type": "code",
   "execution_count": 1,
   "metadata": {},
   "outputs": [],
   "source": [
    "from netgen import gui\n",
    "from ngsolve import *\n",
    "from netgen.geom2d import SplineGeometry\n",
    "import scipy.sparse as sp\n",
    "import numpy as np\n",
    "from math import pi"
   ]
  },
  {
   "cell_type": "code",
   "execution_count": 2,
   "metadata": {},
   "outputs": [],
   "source": [
    "from netgen.geom2d import SplineGeometry\n",
    "geo = SplineGeometry()\n",
    "geo.AddRectangle( (0, 0), (2, 0.41), bcs = (\"wall\", \"outlet\", \"wall\", \"inlet\"))\n",
    "geo.AddCircle ( (0.2, 0.2), r=0.05, leftdomain=0, rightdomain=1, bc=\"cyl\")\n",
    "mesh = Mesh( geo.GenerateMesh(maxh=0.08))\n",
    "mesh.Curve(3)\n",
    "Draw(mesh)\n",
    "# viscosity\n",
    "nu = 0.001\n",
    "dt = 0.001\n",
    "dn = 1./dt\n",
    "z = 100  # Number of snapshots"
   ]
  },
  {
   "cell_type": "code",
   "execution_count": 3,
   "metadata": {},
   "outputs": [],
   "source": [
    "k = 3\n",
    "V = VectorH1(mesh,order=k, dirichlet=\"wall|cyl|inlet\")\n",
    "Q = H1(mesh,order=k-1)\n",
    "X = FESpace([V,Q])"
   ]
  },
  {
   "cell_type": "code",
   "execution_count": 4,
   "metadata": {},
   "outputs": [],
   "source": [
    "gfu_N = GridFunction(X)\n",
    "gfu = GridFunction(X)\n",
    "velocity = gfu.components[0]\n",
    "\n",
    "\n",
    "uin = CoefficientFunction((1.5*4*y*(0.41-y)/(0.41*0.41),0))\n",
    "#gfu_h.components[0].Set(uin, definedon=mesh.Boundaries(\"inlet\"))\n",
    "gfu.components[0].Set(uin, definedon=mesh.Boundaries(\"inlet\"))\n",
    "\n",
    "#Draw(gfu_h.components[0],mesh,\"gfu_h\",sd=3)\n",
    "Draw(gfu.components[0],mesh,\"gfu\",sd=3)"
   ]
  },
  {
   "cell_type": "code",
   "execution_count": 5,
   "metadata": {},
   "outputs": [],
   "source": [
    "(u,p), (v,q) = X.TnT()\n",
    "\n",
    "a = BilinearForm(X)\n",
    "stokes = (nu*InnerProduct(grad(u),grad(v))-div(u)*q-div(v)*p)*dx\n",
    "a += stokes\n",
    "a.Assemble()\n",
    "\n",
    "f = LinearForm(X)\n",
    "f.Assemble()\n",
    "\n",
    "inv_stokes = a.mat.Inverse(X.FreeDofs())\n",
    "\n",
    "res = f.vec.CreateVector()\n",
    "res.data = f.vec - a.mat*gfu.vec\n",
    "gfu.vec.data += inv_stokes * res\n",
    "Draw(gfu.components[0],mesh,\"gfu\",sd=3)"
   ]
  },
  {
   "cell_type": "code",
   "execution_count": 6,
   "metadata": {},
   "outputs": [],
   "source": [
    "# matrix for implicit part of IMEX(1) scheme:\n",
    "mstar = BilinearForm(X)\n",
    "\n",
    "mstar += 2*InnerProduct(u,v)*dx + dt*stokes\n",
    "\n",
    "mstar.Assemble()\n",
    "\n",
    "mh = BilinearForm(X)\n",
    "\n",
    "mh += InnerProduct(u,v)*dx\n",
    "mh.Assemble()\n",
    "\n",
    "inv = mstar.mat.Inverse(X.FreeDofs())\n",
    "\n",
    "\n",
    "conv = LinearForm(X)\n",
    "conv += InnerProduct(grad(velocity)*velocity,v)*dx"
   ]
  },
  {
   "cell_type": "code",
   "execution_count": 7,
   "metadata": {},
   "outputs": [],
   "source": [
    "rows,cols,vals = a.mat.COO()\n",
    "Ah = sp.csr_matrix((vals,(rows,cols)))\n",
    "Fh = f.vec\n",
    "rows,cols,vals = mh.mat.COO()\n",
    "Mh = sp.csr_matrix((vals,(rows,cols)))"
   ]
  },
  {
   "cell_type": "code",
   "execution_count": 8,
   "metadata": {},
   "outputs": [],
   "source": [
    "t = 0\n",
    "tend = 0\n",
    "erg_h = np.zeros([len(gfu.vec),int(dn)+1])\n",
    "conv_h = np.zeros([len(gfu.vec),int(dn)])\n",
    "V = np.zeros([len(gfu.vec),z]) # creat the orthogonal transformationsmatrix for the reducebasis method\n",
    "line = np.linspace(0,dn-1,z) # stors the number of linear distributed number of iteration from the solution\n",
    "S_erg = np.zeros([len(gfu.vec),z])"
   ]
  },
  {
   "cell_type": "code",
   "execution_count": 9,
   "metadata": {},
   "outputs": [],
   "source": [
    "# implicit Euler/explicit Euler splitting method:\n",
    "V_sb = MultiVector(gfu.vec, 1)\n",
    "V_sb[0] = gfu.vec\n",
    "V[:,0] = np.array(V_sb[0])/np.linalg.norm(np.array(V_sb[0]))\n",
    "erg_h[:,0] = gfu.vec\n",
    "S_erg[:,0] = gfu.vec\n",
    "\n",
    "tend += 1\n",
    "o = 1\n",
    "e = int(line[o])\n",
    "for i in range(int(dn)):\n",
    "    conv.Assemble()\n",
    "\n",
    "    res.data = 2*a.mat * gfu.vec + 2*conv.vec\n",
    "    gfu.vec.data -= dt * inv * res\n",
    "    \n",
    "    for r in line:\n",
    "        if int(r) == i: #desided which solution will be orthogonalirsed\n",
    "            if i > 0:\n",
    "                with TaskManager():\n",
    "                    V_sb.AppendOrthogonalize(gfu.vec)\n",
    "                V[:,o] = np.array(V_sb[o])\n",
    "                S_erg[:,o] = gfu.vec\n",
    "                o = o + 1\n",
    "    erg_h[:,i+1] = gfu.vec #stores the solution for comparing later\n",
    "    t = t + dt\n",
    "    Redraw()"
   ]
  },
  {
   "cell_type": "code",
   "execution_count": null,
   "metadata": {},
   "outputs": [],
   "source": []
  }
 ],
 "metadata": {
  "kernelspec": {
   "display_name": "Python 3",
   "language": "python",
   "name": "python3"
  },
  "language_info": {
   "codemirror_mode": {
    "name": "ipython",
    "version": 3
   },
   "file_extension": ".py",
   "mimetype": "text/x-python",
   "name": "python",
   "nbconvert_exporter": "python",
   "pygments_lexer": "ipython3",
   "version": "3.7.5"
  }
 },
 "nbformat": 4,
 "nbformat_minor": 4
}
