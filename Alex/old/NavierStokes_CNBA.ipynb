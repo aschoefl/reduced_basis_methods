{
 "cells": [
  {
   "cell_type": "markdown",
   "metadata": {},
   "source": [
    "# Navier Stokes Equation Reduced Basis Method \n",
    "Incompressible timedependet Navier Stokes equation\n",
    "\n",
    "Find $(u,p):[0,T] \\to (H_{0,D}^1)^d \\times L^2$, s.t.\n",
    "\n",
    "\\begin{align}\n",
    "\\int_{\\Omega} \\partial_t u \\cdot v + \\int_{\\Omega} \\nu \\nabla u \\nabla v + u \\cdot \\nabla u v - \\int_{\\Omega} \\operatorname{div}(v) p &= \\int f v  && \\forall v \\in (H_{0,D}^1)^d, \\\\ \n",
    "- \\int_{\\Omega} \\operatorname{div}(u) q &= 0 && \\forall q \\in L^2, \\\\\n",
    "\\quad u(t=0) & = u_0\n",
    "\\end{align}"
   ]
  },
  {
   "cell_type": "code",
   "execution_count": 1,
   "metadata": {},
   "outputs": [],
   "source": [
    "from netgen import gui\n",
    "from ngsolve import *\n",
    "from netgen.geom2d import SplineGeometry\n",
    "import scipy.sparse as sp\n",
    "import numpy as np\n",
    "from math import pi"
   ]
  },
  {
   "cell_type": "code",
   "execution_count": 2,
   "metadata": {},
   "outputs": [],
   "source": [
    "from netgen.geom2d import SplineGeometry\n",
    "geo = SplineGeometry()\n",
    "geo.AddRectangle( (0, 0), (2, 0.41), bcs = (\"wall\", \"outlet\", \"wall\", \"inlet\"))\n",
    "geo.AddCircle ( (0.2, 0.2), r=0.05, leftdomain=0, rightdomain=1, bc=\"cyl\")\n",
    "mesh = Mesh( geo.GenerateMesh(maxh=0.08))\n",
    "mesh.Curve(3)\n",
    "Draw(mesh)"
   ]
  },
  {
   "cell_type": "code",
   "execution_count": 3,
   "metadata": {},
   "outputs": [],
   "source": [
    "# viscosity\n",
    "nu = 0.001\n",
    "dt = 0.001\n",
    "dn = 1./dt\n",
    "z = 100  # Number of snapshots"
   ]
  },
  {
   "cell_type": "code",
   "execution_count": 4,
   "metadata": {},
   "outputs": [],
   "source": [
    "k = 3\n",
    "V = VectorH1(mesh,order=k, dirichlet=\"wall|cyl|inlet\")\n",
    "Q = H1(mesh,order=k-1)\n",
    "X = FESpace([V,Q])"
   ]
  },
  {
   "cell_type": "code",
   "execution_count": 5,
   "metadata": {},
   "outputs": [],
   "source": [
    "gfu_h = GridFunction(X)\n",
    "gfu_N = GridFunction(X)\n",
    "gfu = GridFunction(X)\n",
    "velocity = gfu.components[0]\n",
    "\n",
    "\n",
    "uin = CoefficientFunction((1.5*4*y*(0.41-y)/(0.41*0.41),0))\n",
    "gfu_h.components[0].Set(uin, definedon=mesh.Boundaries(\"inlet\"))\n",
    "gfu.components[0].Set(uin, definedon=mesh.Boundaries(\"inlet\"))\n",
    "\n",
    "Draw(gfu_h.components[0],mesh,\"gfu_h\",sd=3)\n",
    "Draw(gfu.components[0],mesh,\"gfu\",sd=3)"
   ]
  },
  {
   "cell_type": "code",
   "execution_count": 6,
   "metadata": {},
   "outputs": [],
   "source": [
    "(u,p), (v,q) = X.TnT()\n",
    "\n",
    "a = BilinearForm(X)\n",
    "stokes = (nu*InnerProduct(grad(u),grad(v))-div(u)*q-div(v)*p)*dx\n",
    "a += stokes\n",
    "a.Assemble()\n",
    "\n",
    "f = LinearForm(X)\n",
    "f.Assemble()\n",
    "\n",
    "inv_stokes = a.mat.Inverse(X.FreeDofs())\n",
    "\n",
    "res = f.vec.CreateVector()\n",
    "res.data = f.vec - a.mat*gfu_h.vec\n",
    "gfu_h.vec.data += inv_stokes * res\n",
    "gfu_N = gfu_h\n",
    "Draw(gfu_h.components[0],mesh,\"gfu_h\",sd=3)"
   ]
  },
  {
   "cell_type": "code",
   "execution_count": 7,
   "metadata": {},
   "outputs": [],
   "source": [
    "(u,p), (v,q) = X.TnT()\n",
    "\n",
    "a = BilinearForm(X)\n",
    "stokes = (nu*InnerProduct(grad(u),grad(v))-div(u)*q-div(v)*p)*dx\n",
    "a += stokes\n",
    "a.Assemble()\n",
    "\n",
    "f = LinearForm(X)\n",
    "f.Assemble()\n",
    "\n",
    "inv_stokes = a.mat.Inverse(X.FreeDofs())\n",
    "\n",
    "res = f.vec.CreateVector()\n",
    "res.data = f.vec - a.mat*gfu.vec\n",
    "gfu.vec.data += inv_stokes * res\n",
    "Draw(gfu.components[0],mesh,\"gfu\",sd=3)"
   ]
  },
  {
   "cell_type": "code",
   "execution_count": 8,
   "metadata": {},
   "outputs": [],
   "source": [
    "# matrix for implicit part of IMEX(1) scheme:\n",
    "mstar = BilinearForm(X)\n",
    "\n",
    "mstar += InnerProduct(u,v)*dx + dt*stokes\n",
    "\n",
    "mstar.Assemble()\n",
    "\n",
    "mh = BilinearForm(X)\n",
    "\n",
    "mh += InnerProduct(u,v)*dx\n",
    "mh.Assemble()\n",
    "\n",
    "inv = mstar.mat.Inverse(X.FreeDofs())"
   ]
  },
  {
   "cell_type": "code",
   "execution_count": 9,
   "metadata": {},
   "outputs": [],
   "source": [
    "M = BilinearForm(X)\n",
    "M += InnerProduct(u,v)*dx\n",
    "M.Assemble()\n",
    "\n",
    "#D = BilinearForm(X)\n",
    "#D += (div(u)*q+div(v)*p)*dx\n",
    "#D.Assemble()\n",
    "\n",
    "A = BilinearForm(X)\n",
    "A += (nu*InnerProduct(grad(u),grad(v))-div(u)*q-div(v)*p)*dx\n",
    "A.Assemble()\n",
    "\n",
    "Mstar = BilinearForm(X)\n",
    "Mstar += 2*InnerProduct(u,v)*dx + dt*(nu*InnerProduct(grad(u),grad(v))-div(u)*q-div(v)*p)*dx\n",
    "Mstar.Assemble()\n",
    "Inv_CN = Mstar.mat.Inverse(X.FreeDofs())\n",
    "\n",
    "conv = BilinearForm(X, nonassemble=True)\n",
    "conv += (grad(velocity)*velocity*v)*dx\n",
    "\n",
    "unm1 = gfu.vec.CreateVector()\n",
    "unm1 = gfu.vec\n",
    "\n"
   ]
  },
  {
   "cell_type": "code",
   "execution_count": 10,
   "metadata": {},
   "outputs": [],
   "source": [
    "rows,cols,vals = A.mat.COO()\n",
    "Ah = sp.csr_matrix((vals,(rows,cols)))\n",
    "\n",
    "rows,cols,vals = M.mat.COO()\n",
    "Mh = sp.csr_matrix((vals,(rows,cols)))"
   ]
  },
  {
   "cell_type": "code",
   "execution_count": 11,
   "metadata": {},
   "outputs": [],
   "source": [
    "erg = np.zeros([len(gfu.vec),int(dn)+1])\n",
    "S_erg = np.zeros([len(gfu.vec),z])\n",
    "erg[:,0] = gfu.vec\n",
    "V = np.zeros([len(gfu.vec),z]) # creat the orthogonal transformationsmatrix for the reducebasis method\n",
    "line = np.linspace(0,dn-1,z) # stors the number of linear distributed number of iteration from the solution"
   ]
  },
  {
   "cell_type": "markdown",
   "metadata": {},
   "source": [
    "### CNBA method \n",
    "For $n = \\{0,1,2 ... N-1\\}$\n",
    "\n",
    "$\n",
    "M^* = 2M + \\nu k B -kD \n",
    "$\n",
    "\n",
    "$\n",
    "M \\big(\\frac{u^{n+1}-u^{n}}{k}\\big) + C\\big(\\frac{3}{2}u^{n}-\\frac{1}{2}u^{n-1}\\big) + \\nu B\\big(\\frac{1}{2}(u^{n+1}+u^{n})\\big) - D\\big(\\frac{1}{2}(p^{n+1}+p^{n})\\big) - D\\big(\\frac{1}{2}(u^{n+1}+u^{n})\\big) = 0\n",
    "$\n",
    "\n",
    "$\n",
    "u^{n+1}\\big(2M+\\nu kB -kD\\big) = 2Mu^n - \\nu kBu^n + kDu^n- 3kCu^n + kCu^{n-1}\n",
    "$\n",
    "\n",
    "where $M^* = 2M+\\nu kB -kD$\n",
    "\n",
    "$\n",
    "M^*\\big(u^{n+1} - u^{n} \\big) = k\\bigg[ u^n\\big( 2D - 3C - 2\\nu B\\big) + Cu^{n-1} \\bigg]\n",
    "$\n",
    "\n",
    "Where $u^{-1} := u_0$"
   ]
  },
  {
   "cell_type": "code",
   "execution_count": 12,
   "metadata": {},
   "outputs": [],
   "source": [
    "V_sb = MultiVector(gfu.vec, 1)\n",
    "V_sb[0] = gfu.vec\n",
    "V[:,0] = np.array(V_sb[0])/np.linalg.norm(np.array(V_sb[0]))\n",
    "erg[:,0] = gfu.vec\n",
    "S_erg[:,0] = gfu.vec\n",
    "o = 1\n",
    "e = int(line[o])\n",
    "\n",
    "for i in range(int(dn)):\n",
    "    conv.Assemble()\n",
    "    if i > 1:\n",
    "        unm1.vec = erg[:,i-1]\n",
    "    res.data =  3*conv.mat*gfu.vec + 2*A.mat*gfu.vec - conv.mat*unm1\n",
    "    gfu.vec.data -= dt * Inv_CN * res\n",
    "    \n",
    "    for r in line:\n",
    "        if int(r) == i: #desided which solution will be orthogonalirsed\n",
    "            if i > 0:\n",
    "                with TaskManager():\n",
    "                    V_sb.AppendOrthogonalize(gfu.vec)\n",
    "                V[:,o] = np.array(V_sb[o])\n",
    "                S_erg[:,o] = gfu.vec\n",
    "                o = o + 1\n",
    "    \n",
    "    velocity = gfu.components[0]\n",
    "    erg[:,i+1] = gfu.vec\n",
    "    Redraw()    \n",
    "        "
   ]
  },
  {
   "cell_type": "code",
   "execution_count": 13,
   "metadata": {},
   "outputs": [
    {
     "data": {
      "text/plain": [
       "1.2476504924271326e-16"
      ]
     },
     "execution_count": 13,
     "metadata": {},
     "output_type": "execute_result"
    }
   ],
   "source": [
    "S_erg[0,0]"
   ]
  },
  {
   "cell_type": "markdown",
   "metadata": {},
   "source": [
    "## POD method\n",
    "A other way to get the transforamtions matrix is the POD method."
   ]
  },
  {
   "cell_type": "code",
   "execution_count": 14,
   "metadata": {},
   "outputs": [],
   "source": [
    "def POD(S):\n",
    "    V = np.zeros([len(gfu.vec),z])\n",
    "    \n",
    "    #splitting the snapshotsolution like in the paper\n",
    "    for i in range(S.shape[1]):\n",
    "        S[:,i] = S[:,i] - 1/S.shape[0] * np.sum(S[:,i])\n",
    "    \n",
    "    if S.shape[1] <= S.shape[0]:\n",
    "        C = np.transpose(S).dot(S)\n",
    "        U, Sig, VH = np.linalg.svd(C, full_matrices=True)\n",
    "        VH = np.transpose(VH)\n",
    "        for i in range(C.shape[1]):\n",
    "            V[:,i] = 1/np.sqrt(Sig[i]) * S.dot(VH[:,i])\n",
    "        \n",
    "        \n",
    "    return V"
   ]
  },
  {
   "cell_type": "code",
   "execution_count": 23,
   "metadata": {},
   "outputs": [
    {
     "name": "stdout",
     "output_type": "stream",
     "text": [
      "1.000000000000001\n",
      "4314\n"
     ]
    }
   ],
   "source": [
    "V = POD(S_erg)\n",
    "print(V[:,0].dot(V[:,0]))\n",
    "print(len(V[:,0]))"
   ]
  },
  {
   "cell_type": "code",
   "execution_count": 16,
   "metadata": {},
   "outputs": [],
   "source": [
    "MN = np.transpose(V).dot(Mh.dot(V))\n",
    "AN = np.transpose(V).dot(Ah.dot(V))\n",
    "\n",
    "#conv_N = np.transpose(V).dot(conv_h.dot(V))"
   ]
  },
  {
   "cell_type": "code",
   "execution_count": 17,
   "metadata": {},
   "outputs": [],
   "source": [
    "gfu_N = GridFunction(X)\n",
    "gfu_N.vec.FV().NumPy()[:] = erg[:,0] \n",
    "gfu.vec.FV().NumPy()[:] = erg[:,0] \n",
    "uN = np.transpose(V).dot(erg[:,0])\n",
    "velocity_N = gfu_N.components[0]\n",
    "Draw(gfu_N.components[0],mesh,\"gfu_N\",sd=3)"
   ]
  },
  {
   "cell_type": "code",
   "execution_count": 18,
   "metadata": {},
   "outputs": [],
   "source": [
    "err = res.CreateVector()\n",
    "Draw(gfu_N.components[0]-gfu.components[0],mesh,\"error\",sd=3)"
   ]
  },
  {
   "cell_type": "markdown",
   "metadata": {},
   "source": [
    "$\n",
    "\\bigg(\\frac{Id}{\\Delta t} + \\frac{1}{2}\\nu B \\bigg) a^{n+1} = a^n - \\bigg( C_1 \\tilde{a}^{n-\\frac{1}{2}} + \\frac{1}{2}\\nu B a^n\\bigg)\n",
    "$\n",
    "\n",
    "$\n",
    "M^* = \\frac{Id}{\\Delta t} + \\frac{1}{2}\\nu B\n",
    "$\n",
    "\n",
    "$\n",
    "M^*\\bigg(a^{n+1} - a^{n}\\bigg) = - \\frac{1}{2}\\nu B a^{n+1} - C_1 \\tilde{a}^{n-\\frac{1}{2}}\n",
    "$"
   ]
  },
  {
   "cell_type": "code",
   "execution_count": 24,
   "metadata": {},
   "outputs": [
    {
     "ename": "TypeError",
     "evalue": "__mul__(): incompatible function arguments. The following argument types are supported:\n    1. (self: ngsolve.fem.CoefficientFunction, cf: ngsolve.fem.CoefficientFunction) -> ngsolve.fem.CoefficientFunction\n    2. (self: ngsolve.fem.CoefficientFunction, value: float) -> ngsolve.fem.CoefficientFunction\n    3. (self: ngsolve.fem.CoefficientFunction, value: complex) -> ngsolve.fem.CoefficientFunction\n    4. (self: ngsolve.fem.CoefficientFunction, arg0: ngfem::DifferentialSymbol) -> ngfem::SumOfIntegrals\n\nInvoked with: <ngsolve.comp.GridFunctionCoefficientFunction object at 0x7f3b39b74170>, array([-3.16722105e-06, -3.16722105e-06, -3.16722105e-06, ...,\n        5.08758889e-03,  2.91401263e-03,  1.25292191e-03])",
     "output_type": "error",
     "traceback": [
      "\u001b[0;31m---------------------------------------------------------------------------\u001b[0m",
      "\u001b[0;31mTypeError\u001b[0m                                 Traceback (most recent call last)",
      "\u001b[0;32m<ipython-input-24-533fd2a29a79>\u001b[0m in \u001b[0;36m<module>\u001b[0;34m\u001b[0m\n\u001b[1;32m      1\u001b[0m \u001b[0mC1ij\u001b[0m \u001b[0;34m=\u001b[0m \u001b[0mBilinearForm\u001b[0m\u001b[0;34m(\u001b[0m\u001b[0mX\u001b[0m\u001b[0;34m,\u001b[0m \u001b[0mnonassemble\u001b[0m\u001b[0;34m=\u001b[0m\u001b[0;32mTrue\u001b[0m\u001b[0;34m)\u001b[0m\u001b[0;34m\u001b[0m\u001b[0;34m\u001b[0m\u001b[0m\n\u001b[0;32m----> 2\u001b[0;31m \u001b[0mC1ij\u001b[0m \u001b[0;34m+=\u001b[0m \u001b[0;34m(\u001b[0m\u001b[0mgrad\u001b[0m\u001b[0;34m(\u001b[0m\u001b[0mvelocity_N\u001b[0m\u001b[0;34m)\u001b[0m\u001b[0;34m*\u001b[0m\u001b[0mV\u001b[0m\u001b[0;34m[\u001b[0m\u001b[0;34m:\u001b[0m\u001b[0;34m,\u001b[0m\u001b[0;36m0\u001b[0m\u001b[0;34m]\u001b[0m\u001b[0;34m*\u001b[0m\u001b[0mv\u001b[0m\u001b[0;34m)\u001b[0m\u001b[0;34m*\u001b[0m\u001b[0mdx\u001b[0m\u001b[0;34m\u001b[0m\u001b[0;34m\u001b[0m\u001b[0m\n\u001b[0m",
      "\u001b[0;31mTypeError\u001b[0m: __mul__(): incompatible function arguments. The following argument types are supported:\n    1. (self: ngsolve.fem.CoefficientFunction, cf: ngsolve.fem.CoefficientFunction) -> ngsolve.fem.CoefficientFunction\n    2. (self: ngsolve.fem.CoefficientFunction, value: float) -> ngsolve.fem.CoefficientFunction\n    3. (self: ngsolve.fem.CoefficientFunction, value: complex) -> ngsolve.fem.CoefficientFunction\n    4. (self: ngsolve.fem.CoefficientFunction, arg0: ngfem::DifferentialSymbol) -> ngfem::SumOfIntegrals\n\nInvoked with: <ngsolve.comp.GridFunctionCoefficientFunction object at 0x7f3b39b74170>, array([-3.16722105e-06, -3.16722105e-06, -3.16722105e-06, ...,\n        5.08758889e-03,  2.91401263e-03,  1.25292191e-03])"
     ]
    }
   ],
   "source": [
    "C1ij = BilinearForm(X, nonassemble=True)\n",
    "C1ij += (grad(velocity_N)*velocity_N*v)*dx"
   ]
  },
  {
   "cell_type": "code",
   "execution_count": 27,
   "metadata": {},
   "outputs": [
    {
     "ename": "AttributeError",
     "evalue": "'ngsolve.comp.ProxyFunction' object has no attribute 'vec'",
     "output_type": "error",
     "traceback": [
      "\u001b[0;31m---------------------------------------------------------------------------\u001b[0m",
      "\u001b[0;31mAttributeError\u001b[0m                            Traceback (most recent call last)",
      "\u001b[0;32m<ipython-input-27-5a62011bb46b>\u001b[0m in \u001b[0;36m<module>\u001b[0;34m\u001b[0m\n\u001b[0;32m----> 1\u001b[0;31m \u001b[0mprint\u001b[0m\u001b[0;34m(\u001b[0m\u001b[0mv\u001b[0m\u001b[0;34m.\u001b[0m\u001b[0mvec\u001b[0m\u001b[0;34m)\u001b[0m\u001b[0;34m\u001b[0m\u001b[0;34m\u001b[0m\u001b[0m\n\u001b[0m",
      "\u001b[0;31mAttributeError\u001b[0m: 'ngsolve.comp.ProxyFunction' object has no attribute 'vec'"
     ]
    }
   ],
   "source": [
    "print(v.vec)"
   ]
  },
  {
   "cell_type": "code",
   "execution_count": 20,
   "metadata": {},
   "outputs": [],
   "source": [
    "C0 = LinearForm(X)\n",
    "C0 += InnerProduct(grad(velocity_N)*velocity_N,v)*dx"
   ]
  },
  {
   "cell_type": "code",
   "execution_count": 21,
   "metadata": {},
   "outputs": [],
   "source": [
    "Residium = []\n",
    "time = []\n",
    "erg_N = np.zeros([len(gfu_N.vec),int(dn)+1])\n",
    "I = np.eye(z, dtype=int)\n",
    "\n",
    "erg_N[:,0] = gfu_N.vec\n",
    "\n",
    "MN_star = I + 0.5*dt*AN\n",
    "inv_N = np.linalg.inv(MN_star)\n",
    "for i in range(int(dn)):\n",
    "    err.vec = sqrt (Integrate ((gfu.components[0]-gfu_N.components[0])*(gfu.components[0]-gfu_N.components[0]),mesh))\n",
    "    Residium.append(err.vec)\n",
    "    C0.Assemble()\n",
    "    C0_N = np.transpose(V).dot(C0.vec)\n",
    "    res_N = -0.5*dt*AN.dot(uN) - C0_N\n",
    "    uN -= uN + dt * inv_N.dot(res_N)\n",
    "    gfu.vec.FV().NumPy()[:] = erg[:,i+1]\n",
    "    velocity_N = gfu_N.components[0]\n",
    "    gfu_N.vec.FV().NumPy()[:] = (uN).dot(np.transpose(V))\n",
    "    erg_N[:,i+1] = gfu_N.vec\n",
    "    time.append(dt*i)\n",
    "    velocity_N = gfu_N.components[0]\n",
    "    Redraw()"
   ]
  },
  {
   "cell_type": "code",
   "execution_count": null,
   "metadata": {},
   "outputs": [],
   "source": [
    "C1ij.mat"
   ]
  },
  {
   "cell_type": "code",
   "execution_count": null,
   "metadata": {},
   "outputs": [],
   "source": [
    "C0 = LinearForm(X)\n",
    "C0 += (grad(velocity_N)*velocity_N*v)*dx"
   ]
  },
  {
   "cell_type": "code",
   "execution_count": null,
   "metadata": {},
   "outputs": [],
   "source": [
    "Residium = []\n",
    "time = []\n",
    "erg_N = np.zeros([len(gfu_N.vec),int(dn)+1])\n",
    "erg_N[:,0] = gfu_N.vec\n",
    "unm1_N = np.transpose(V).dot(erg_N[:,0])\n",
    "MN_star = 2*MN + dt*AN\n",
    "inv_N = np.linalg.inv(MN_star)\n",
    "for i in range(int(dn)):\n",
    "    err.vec = sqrt (Integrate ((gfu.components[0]-gfu_N.components[0])*(gfu.components[0]-gfu_N.components[0]),mesh))\n",
    "    Residium.append(err.vec)\n",
    "    C0.Assemble()\n",
    "    C0_N = np.transpose(V).dot(C0.vec)\n",
    "    \n",
    "    \n",
    "    if i > 1:\n",
    "        unm1_N = np.transpose(V).dot(erg_N[:,i-1])\n",
    "        \n",
    "    #res.data =  3*conv.mat*gfu.vec + 2*A.mat*gfu.vec - conv.mat*unm1\n",
    "    #gfu.vec.data -= dt * Inv_CN * res\n",
    "    \n",
    "    res_N =  3*C0_N.dot(uN) + 2*AN.dot(uN) - C0_N.dot(unm1_N)\n",
    "    uN -= dt * inv_N.dot(res_N)\n",
    "\n",
    "    gfu.vec.FV().NumPy()[:] = erg[:,i+1]\n",
    "    \n",
    "    gfu_N.vec.FV().NumPy()[:] = (uN).dot(np.transpose(V))\n",
    "    velocity_N = gfu_N.components[0]\n",
    "    erg_N[:,i+1] = gfu_N.vec\n",
    "    time.append(dt*i)\n",
    "    \n",
    "   \n",
    "    Redraw()"
   ]
  },
  {
   "cell_type": "code",
   "execution_count": null,
   "metadata": {},
   "outputs": [],
   "source": [
    "import matplotlib.pyplot as plt\n",
    "plt.title(\"Total error {} dt {}\".format(z,dt))\n",
    "plt.ylabel(\"error\")\n",
    "plt.xlabel(\"time [s]\")\n",
    "plt.grid()\n",
    "plt.semilogy(time,Residium)\n",
    "plt.savefig(\"plots/Total error {} dt POD\".format(z))"
   ]
  },
  {
   "cell_type": "code",
   "execution_count": 31,
   "metadata": {},
   "outputs": [
    {
     "name": "stdout",
     "output_type": "stream",
     "text": [
      "[[2]]\n"
     ]
    }
   ],
   "source": [
    "D = np.array([[2,2],[2,2]])\n",
    "print(np.outer(1,2))"
   ]
  },
  {
   "cell_type": "code",
   "execution_count": null,
   "metadata": {},
   "outputs": [],
   "source": []
  }
 ],
 "metadata": {
  "kernelspec": {
   "display_name": "Python 3",
   "language": "python",
   "name": "python3"
  },
  "language_info": {
   "codemirror_mode": {
    "name": "ipython",
    "version": 3
   },
   "file_extension": ".py",
   "mimetype": "text/x-python",
   "name": "python",
   "nbconvert_exporter": "python",
   "pygments_lexer": "ipython3",
   "version": "3.7.5"
  }
 },
 "nbformat": 4,
 "nbformat_minor": 4
}
