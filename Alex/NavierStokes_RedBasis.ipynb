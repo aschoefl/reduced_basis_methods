{
 "cells": [
  {
   "cell_type": "code",
   "execution_count": 1,
   "metadata": {},
   "outputs": [],
   "source": [
    "#from netgen import gui\n",
    "from ngsolve.webgui import Draw\n",
    "from ngsolve import *\n",
    "from netgen.geom2d import SplineGeometry\n",
    "import scipy.sparse as sp\n",
    "import numpy as np"
   ]
  },
  {
   "cell_type": "code",
   "execution_count": 2,
   "metadata": {},
   "outputs": [],
   "source": [
    "from netgen.geom2d import SplineGeometry\n",
    "geo = SplineGeometry()\n",
    "geo.AddRectangle( (0, 0), (2, 0.41), bcs = (\"wall\", \"outlet\", \"wall\", \"inlet\"))\n",
    "geo.AddCircle ( (0.2, 0.2), r=0.05, leftdomain=0, rightdomain=1, bc=\"cyl\")\n",
    "mesh = Mesh( geo.GenerateMesh(maxh=0.08))\n",
    "mesh.Curve(3)\n",
    "Draw(mesh)\n",
    "# viscosity\n",
    "nu = 0.001\n",
    "dt = 0.001\n"
   ]
  },
  {
   "cell_type": "code",
   "execution_count": null,
   "metadata": {},
   "outputs": [],
   "source": [
    "k = 3\n",
    "V = VectorH1(mesh,order=k, dirichlet=\"wall|cyl|inlet\")\n",
    "Q = H1(mesh,order=k-1)\n",
    "X = FESpace([V,Q])"
   ]
  },
  {
   "cell_type": "code",
   "execution_count": null,
   "metadata": {},
   "outputs": [],
   "source": [
    "gfu_h = GridFunction(X)\n",
    "gfu_N = GridFunction(X)\n",
    "gfu = GridFunction(X)\n",
    "velocity = gfu.components[0]\n",
    "\n",
    "\n",
    "uin = CoefficientFunction((1.5*4*y*(0.41-y)/(0.41*0.41),0))\n",
    "gfu_h.components[0].Set(uin, definedon=mesh.Boundaries(\"inlet\"))\n",
    "gfu.components[0].Set(uin, definedon=mesh.Boundaries(\"inlet\"))\n",
    "\n",
    "Draw(gfu_h.components[0],mesh,\"gfu_h\",sd=3)\n",
    "Draw(gfu.components[0],mesh,\"gfu\",sd=3)\n"
   ]
  },
  {
   "cell_type": "code",
   "execution_count": null,
   "metadata": {},
   "outputs": [],
   "source": [
    "(u,p), (v,q) = X.TnT()\n",
    "\n",
    "a = BilinearForm(X)\n",
    "stokes = (nu*InnerProduct(grad(u),grad(v))-div(u)*q-div(v)*p)*dx\n",
    "a += stokes\n",
    "a.Assemble()\n",
    "\n",
    "f = LinearForm(X)\n",
    "f.Assemble()\n",
    "\n",
    "inv_stokes = a.mat.Inverse(X.FreeDofs())\n",
    "\n",
    "res = f.vec.CreateVector()\n",
    "res.data = f.vec - a.mat*gfu_h.vec\n",
    "gfu_h.vec.data += inv_stokes * res\n",
    "gfu_N = gfu_h\n",
    "Draw(gfu_h.components[0],mesh,\"gfu_h\",sd=3)"
   ]
  },
  {
   "cell_type": "code",
   "execution_count": null,
   "metadata": {},
   "outputs": [],
   "source": [
    "(u,p), (v,q) = X.TnT()\n",
    "\n",
    "a = BilinearForm(X)\n",
    "stokes = (nu*InnerProduct(grad(u),grad(v))-div(u)*q-div(v)*p)*dx\n",
    "a += stokes\n",
    "a.Assemble()\n",
    "\n",
    "f = LinearForm(X)\n",
    "f.Assemble()\n",
    "\n",
    "inv_stokes = a.mat.Inverse(X.FreeDofs())\n",
    "\n",
    "res = f.vec.CreateVector()\n",
    "res.data = f.vec - a.mat*gfu.vec\n",
    "gfu.vec.data += inv_stokes * res\n",
    "Draw(gfu.components[0],mesh,\"gfu\",sd=3)"
   ]
  },
  {
   "cell_type": "code",
   "execution_count": null,
   "metadata": {},
   "outputs": [],
   "source": [
    "# matrix for implicit part of IMEX(1) scheme:\n",
    "mstar = BilinearForm(X)\n",
    "\n",
    "mstar += InnerProduct(u,v)*dx + dt*stokes\n",
    "\n",
    "mstar.Assemble()\n",
    "\n",
    "\n",
    "inv = mstar.mat.Inverse(X.FreeDofs())\n",
    "\n",
    "\n",
    "conv = LinearForm(X)\n",
    "conv += InnerProduct(grad(velocity)*velocity,v)*dx"
   ]
  },
  {
   "cell_type": "code",
   "execution_count": null,
   "metadata": {},
   "outputs": [],
   "source": [
    "rows,cols,vals = a.mat.COO()\n",
    "Ah = sp.csr_matrix((vals,(rows,cols)))\n",
    "Fh = f.vec\n",
    "rows,cols,vals = mstar.mat.COO()\n",
    "Mh_star = sp.csr_matrix((vals,(rows,cols)))"
   ]
  },
  {
   "cell_type": "code",
   "execution_count": null,
   "metadata": {
    "tags": []
   },
   "outputs": [],
   "source": [
    "dn = 1./dt\n",
    "z = 100\n",
    "t = 0\n",
    "tend = 0\n",
    "erg_h = np.zeros([len(gfu_h.vec),int(dn)+1])\n",
    "conv_h = np.zeros([len(gfu_h.vec),int(dn)])\n",
    "print(int(dn))\n",
    "V = np.zeros([len(gfu.vec),z])\n",
    "line = np.linspace(0,dn-1,z)"
   ]
  },
  {
   "cell_type": "code",
   "execution_count": null,
   "metadata": {
    "tags": []
   },
   "outputs": [],
   "source": [
    "# implicit Euler/explicit Euler splitting method:\n",
    "V_sb = MultiVector(gfu.vec, 1)\n",
    "V_sb[0] = gfu.vec\n",
    "V[:,0] = np.array(V_sb[0])\n",
    "V[:,0] = V[:,0]/np.linalg.norm(V[:,0])\n",
    "erg_h[:,0] = gfu_N.vec\n",
    "\n",
    "tend += 1\n",
    "o = 1\n",
    "e = int(line[o])\n",
    "d = 0\n",
    "k = 1\n",
    "#while t < tend-0.5*dt:\n",
    "for i in range(int(dn)):\n",
    "    conv.Assemble()\n",
    "    conv_h[:,i] = conv.vec\n",
    "    res.data = a.mat * gfu.vec + conv.vec\n",
    "    gfu.vec.data -= dt * inv * res\n",
    "    for r in line:\n",
    "        if int(r) == i:\n",
    "            if i > 0:\n",
    "                print(o,i,\"do Orth:\")\n",
    "                with TaskManager():\n",
    "                    V_sb.AppendOrthogonalize(gfu.vec)\n",
    "                V[:,o] = np.array(V_sb[o])\n",
    "                o = o + 1\n",
    "    erg_h[:,i+1] = gfu.vec\n",
    "    #d = d + 1\n",
    "    #k = k + 1\n",
    "    t = t + dt\n",
    "    Redraw()\n",
    "    #Draw (gfu.components[0], mesh, \"gfu\")"
   ]
  },
  {
   "cell_type": "code",
   "execution_count": null,
   "metadata": {},
   "outputs": [],
   "source": [
    "MN = np.transpose(V).dot(Mh_star.dot(V))\n",
    "AN = np.transpose(V).dot(Ah.dot(V))\n",
    "fN = np.transpose(V).dot(Fh)\n",
    "#conv_N = np.transpose(V).dot(conv_h.dot(V))\n"
   ]
  },
  {
   "cell_type": "code",
   "execution_count": null,
   "metadata": {},
   "outputs": [],
   "source": [
    "#velocity_N = gfu_N.components[0]"
   ]
  },
  {
   "cell_type": "code",
   "execution_count": null,
   "metadata": {},
   "outputs": [],
   "source": [
    "uN = np.array(gfu_N.vec).dot(V)\n",
    "Draw(gfu_N.components[0],mesh,\"gfu_N\",sd=3)"
   ]
  },
  {
   "cell_type": "code",
   "execution_count": null,
   "metadata": {
    "tags": []
   },
   "outputs": [],
   "source": [
    "#inv_stokes_N = np.linalg.inv(AN)\n",
    "#res_N = -AN.dot(uN)\n",
    "#uN += inv_stokes_N.dot(res_N)\n",
    "#print(\"uN: \",uN)\n",
    "#gfu_N.vec.FV().NumPy()[:] = (uN).dot(np.transpose(V))\n",
    "#Draw(gfu_N.components[0],mesh,\"gfu\",sd=3)\n",
    "#Draw(gfu_N.components[0]-gfu_h.components[0],mesh,\"err\",sd=3)"
   ]
  },
  {
   "cell_type": "code",
   "execution_count": null,
   "metadata": {
    "tags": []
   },
   "outputs": [],
   "source": [
    "#print(np.linalg.norm(np.array(gfu_N.components[0].vec)-np.array(gfu_h.components[0].vec)))#,gfu_h.components[0].vec)\n",
    "#h = np.array(gfu_N.components[0].vec)-np.array(gfu_h.components[0].vec)\n",
    "#print(np.max(h))"
   ]
  },
  {
   "cell_type": "code",
   "execution_count": null,
   "metadata": {},
   "outputs": [],
   "source": [
    "#conv = LinearForm(X)\n",
    "#conv += InnerProduct(grad(velocity)*velocity,v)*dx\n"
   ]
  },
  {
   "cell_type": "code",
   "execution_count": null,
   "metadata": {},
   "outputs": [],
   "source": [
    "gfu_h.vec.FV().NumPy()[:] = erg_h[:,0]\n",
    "#Draw(gfu_h.components[0],mesh,\"gfu_h_conny\",sd=3)\n",
    "#Draw(gfu_N.components[0]-gfu_h.components[0],mesh,\"error\",sd=3)"
   ]
  },
  {
   "cell_type": "code",
   "execution_count": null,
   "metadata": {
    "tags": []
   },
   "outputs": [],
   "source": [
    " #Draw(gfu_N.components[0]-gfu_h.components[0],mesh,\"error\",sd=3)\n",
    " \n",
    " erg_N = np.zeros([len(gfu_N.vec),int(dn)+1])\n",
    " erg_N[:,i+1] = gfu_N.vec\n",
    " inv_N = np.linalg.inv(MN)\n",
    " for i in range(int(dn)):\n",
    "    #print(i)\n",
    "    #conv.Assemble()\n",
    "    #conv_N = np.transpose(V).dot(conv.vec)\n",
    "    conv_N = np.transpose(V).dot(conv_h[:,i])\n",
    "    res_N = AN.dot(uN) + conv_N\n",
    "    uN -= dt * inv_N.dot(res_N)\n",
    "    gfu_h.vec.FV().NumPy()[:] = erg_h[:,i]\n",
    "    gfu_N.vec.FV().NumPy()[:] = (uN).dot(np.transpose(V))\n",
    "    Redraw()\n",
    "    erg_N[:,i+1] = gfu_N.vec"
   ]
  },
  {
   "cell_type": "code",
   "execution_count": null,
   "metadata": {},
   "outputs": [],
   "source": [
    "Residual = []\n",
    "time = []\n",
    "for i in range(int(dn)):\n",
    "    Residual.append(np.linalg.norm(erg_h[:,i]-erg_N[:,i]))\n",
    "    time.append(dt*i)"
   ]
  },
  {
   "cell_type": "code",
   "execution_count": null,
   "metadata": {},
   "outputs": [],
   "source": [
    "import matplotlib.pyplot as plt\n",
    "plt.title(\"Total error {} dt {}\".format(z,dt))\n",
    "plt.ylabel(\"error\")\n",
    "plt.xlabel(\"time [s]\")\n",
    "plt.grid()\n",
    "plt.plot(time,Residual)\n",
    "plt.savefig(\"Total error {} dt\".format(z))"
   ]
  },
  {
   "cell_type": "code",
   "execution_count": null,
   "metadata": {},
   "outputs": [],
   "source": []
  },
  {
   "cell_type": "code",
   "execution_count": null,
   "metadata": {
    "tags": []
   },
   "outputs": [],
   "source": [
    "v = erg_h[0,999]-erg_N[0,999]\n",
    "print(v.max())"
   ]
  },
  {
   "cell_type": "code",
   "execution_count": null,
   "metadata": {},
   "outputs": [],
   "source": []
  },
  {
   "cell_type": "code",
   "execution_count": null,
   "metadata": {},
   "outputs": [],
   "source": [
    "erg_N"
   ]
  },
  {
   "cell_type": "code",
   "execution_count": null,
   "metadata": {},
   "outputs": [],
   "source": []
  },
  {
   "cell_type": "code",
   "execution_count": null,
   "metadata": {},
   "outputs": [],
   "source": []
  },
  {
   "cell_type": "code",
   "execution_count": null,
   "metadata": {},
   "outputs": [],
   "source": []
  },
  {
   "cell_type": "code",
   "execution_count": null,
   "metadata": {},
   "outputs": [],
   "source": []
  },
  {
   "cell_type": "code",
   "execution_count": null,
   "metadata": {
    "tags": []
   },
   "outputs": [],
   "source": [
    "print(np.linalg.norm(np.array(gfu_N.components[0].vec)-np.array(gfu.components[0].vec)))"
   ]
  },
  {
   "cell_type": "code",
   "execution_count": null,
   "metadata": {},
   "outputs": [],
   "source": []
  },
  {
   "cell_type": "code",
   "execution_count": null,
   "metadata": {
    "tags": []
   },
   "outputs": [],
   "source": [
    "print(InnerProduct(gfu_N.components[0]-gfu.components[0],gfu_N.components[0]-gfu.components[0]))"
   ]
  },
  {
   "cell_type": "code",
   "execution_count": null,
   "metadata": {
    "tags": []
   },
   "outputs": [],
   "source": [
    "print(X.FreeDofs())"
   ]
  },
  {
   "cell_type": "code",
   "execution_count": null,
   "metadata": {},
   "outputs": [],
   "source": []
  },
  {
   "cell_type": "code",
   "execution_count": null,
   "metadata": {},
   "outputs": [],
   "source": [
    "gfu = GridFunction(X)\n",
    "velocity = gfu.components[0]\n",
    "#Draw(velocity,mesh,\"u\",sd=3)\n",
    "#Draw(gfu.components[1],mesh,\"p\",sd=3)\n",
    "from ngsolve.internal import visoptions\n",
    "visoptions.scalfunction = \"u:0\"\n",
    "\n",
    "# parabolic inflow at bc=1:\n",
    "uin = CoefficientFunction((1.5*4*y*(0.41-y)/(0.41*0.41),0))\n",
    "gfu.components[0].Set(uin, definedon=mesh.Boundaries(\"inlet\"))\n",
    "\n",
    "#Redraw()"
   ]
  },
  {
   "cell_type": "code",
   "execution_count": null,
   "metadata": {},
   "outputs": [],
   "source": [
    "#uN = np.array(gfu.components[0]).dot(V)\n",
    "#uN = np.transpose(V).dot(gfu.vec)\n",
    "uN = np.array(gfu.vec).dot(V)"
   ]
  },
  {
   "cell_type": "code",
   "execution_count": null,
   "metadata": {},
   "outputs": [],
   "source": [
    "u_t_N = GridFunction(X)\n",
    "\n",
    "inv_stokes_N = np.linalg.inv(AN)\n",
    "#inv_stokes = a.mat.Inverse(X.FreeDofs())\n",
    "\n",
    "#res = f.vec.CreateVector()\n",
    "#res.data = f.vec - a.mat*gfu.vec\n",
    "res_N = AN.dot(uN)\n",
    "uN += inv_stokes_N.dot(res_N)\n",
    "u_t_N.vec.FV().NumPy()[:] = (uN).dot(np.transpose(V))\n",
    "\n",
    "#gfu.vec.data += inv_stokes * res\n",
    "\n",
    "velocity_N = u_t_N.components[0]\n",
    "Draw(velocity_N,mesh,\"u_N\",sd=3)\n",
    "#Draw(u_t_h.components[0],mesh,\"u_start\",sd=3)"
   ]
  },
  {
   "cell_type": "code",
   "execution_count": null,
   "metadata": {},
   "outputs": [],
   "source": [
    "print(u_t_h_satrt)"
   ]
  },
  {
   "cell_type": "code",
   "execution_count": null,
   "metadata": {},
   "outputs": [],
   "source": []
  }
 ],
 "metadata": {
  "kernelspec": {
   "display_name": "Python 3.7.5 64-bit",
   "language": "python",
   "name": "python37564bitb5f188b5fd4549769c9ea1e1a366fa0d"
  },
  "language_info": {
   "codemirror_mode": {
    "name": "ipython",
    "version": 3
   },
   "file_extension": ".py",
   "mimetype": "text/x-python",
   "name": "python",
   "nbconvert_exporter": "python",
   "pygments_lexer": "ipython3",
   "version": "3.7.5-final"
  }
 },
 "nbformat": 4,
 "nbformat_minor": 2
}