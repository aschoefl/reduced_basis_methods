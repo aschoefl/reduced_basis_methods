{
 "cells": [
  {
   "cell_type": "markdown",
   "metadata": {},
   "source": [
    "# Navier Stokes Equation Reduced Basis Method \n",
    "Incompressible timedependet Navier Stokes equation\n",
    "\n",
    "Find $(u,p):[0,T] \\to (H_{0,D}^1)^d \\times L^2$, s.t.\n",
    "\n",
    "\\begin{align}\n",
    "\\int_{\\Omega} \\partial_t u \\cdot v + \\int_{\\Omega} \\nu \\nabla u \\nabla v + u \\cdot \\nabla u v - \\int_{\\Omega} \\operatorname{div}(v) p &= \\int f v  && \\forall v \\in (H_{0,D}^1)^d, \\\\ \n",
    "- \\int_{\\Omega} \\operatorname{div}(u) q &= 0 && \\forall q \\in L^2, \\\\\n",
    "\\quad u(t=0) & = u_0\n",
    "\\end{align}"
   ]
  },
  {
   "cell_type": "code",
   "execution_count": null,
   "metadata": {},
   "outputs": [],
   "source": [
    "from netgen import gui\n",
    "from ngsolve import *\n",
    "from netgen.geom2d import SplineGeometry\n",
    "import scipy.sparse as sp\n",
    "import numpy as np\n",
    "from math import pi"
   ]
  },
  {
   "cell_type": "code",
   "execution_count": null,
   "metadata": {},
   "outputs": [],
   "source": [
    "from netgen.geom2d import SplineGeometry\n",
    "geo = SplineGeometry()\n",
    "geo.AddRectangle( (0, 0), (2, 0.41), bcs = (\"wall\", \"outlet\", \"wall\", \"inlet\"))\n",
    "geo.AddCircle ( (0.2, 0.2), r=0.05, leftdomain=0, rightdomain=1, bc=\"cyl\")\n",
    "mesh = Mesh( geo.GenerateMesh(maxh=0.08))\n",
    "mesh.Curve(3)\n",
    "Draw(mesh)\n",
    "# viscosity\n",
    "nu = 0.001\n",
    "dt = 0.001\n",
    "\n",
    "T = 1\n",
    "dn = int(T/dt)\n",
    "z = 100  # Number of snapshots"
   ]
  },
  {
   "cell_type": "code",
   "execution_count": null,
   "metadata": {},
   "outputs": [],
   "source": [
    "k = 3\n",
    "V = VectorH1(mesh,order=k, dirichlet=\"wall|cyl|inlet\", dgjumps=True)\n",
    "Q = H1(mesh,order=k-1)\n",
    "X = FESpace([V,Q])"
   ]
  },
  {
   "cell_type": "code",
   "execution_count": null,
   "metadata": {},
   "outputs": [],
   "source": [
    "gfu_N = GridFunction(X)\n",
    "gfu = GridFunction(X)\n",
    "velocity = gfu.components[0]\n",
    "\n",
    "\n",
    "uin = CoefficientFunction((1.5*4*y*(0.41-y)/(0.41*0.41),0))\n",
    "gfu.components[0].Set(uin, definedon=mesh.Boundaries(\"inlet\"))\n",
    "\n",
    "Draw(gfu.components[0],mesh,\"gfu\",sd=3)"
   ]
  },
  {
   "cell_type": "code",
   "execution_count": null,
   "metadata": {},
   "outputs": [],
   "source": [
    "(u,p), (v,q) = X.TnT()\n",
    "\n",
    "a = BilinearForm(X)\n",
    "stokes = (nu*InnerProduct(grad(u),grad(v))-div(u)*q-div(v)*p)*dx\n",
    "a += stokes\n",
    "a.Assemble()\n",
    "\n",
    "f = LinearForm(X)\n",
    "f.Assemble()\n",
    "\n",
    "inv_stokes = a.mat.Inverse(X.FreeDofs())\n",
    "\n",
    "res = f.vec.CreateVector()\n",
    "res.data = f.vec - a.mat*gfu.vec\n",
    "gfu.vec.data += inv_stokes * res"
   ]
  },
  {
   "cell_type": "code",
   "execution_count": null,
   "metadata": {},
   "outputs": [],
   "source": [
    "# matrix for implicit part of IMEX(1) scheme:\n",
    "mstar = BilinearForm(X)\n",
    "\n",
    "mstar += InnerProduct(u,v)*dx + dt*stokes\n",
    "\n",
    "mstar.Assemble()\n",
    "\n",
    "mh = BilinearForm(X)\n",
    "\n",
    "mh += InnerProduct(u,v)*dx\n",
    "mh.Assemble()\n",
    "\n",
    "inv = mstar.mat.Inverse(X.FreeDofs())\n",
    "\n",
    "\n",
    "conv = LinearForm(X)\n",
    "conv += InnerProduct(grad(velocity)*velocity,v)*dx"
   ]
  },
  {
   "cell_type": "code",
   "execution_count": null,
   "metadata": {},
   "outputs": [],
   "source": [
    "rows,cols,vals = a.mat.COO()\n",
    "Ah = sp.csr_matrix((vals,(rows,cols)))\n",
    "Fh = f.vec\n",
    "rows,cols,vals = mh.mat.COO()\n",
    "Mh = sp.csr_matrix((vals,(rows,cols)))"
   ]
  },
  {
   "cell_type": "code",
   "execution_count": null,
   "metadata": {},
   "outputs": [],
   "source": [
    "t = 0\n",
    "tend = 0\n",
    "len_h = len(gfu.components[0].vec)\n",
    "erg_h = np.zeros([len_h,int(dn)+1])\n",
    "conv_h = np.zeros([len_h,int(dn)])\n",
    "V_POD = np.zeros([len_h,z]) # creat the orthogonal transformationsmatrix for the reducebasis method\n",
    "line = np.linspace(0,dn-1,z) # stors the number of linear distributed number of iteration from the solution\n",
    "S_POD = np.zeros([len_h,z])\n",
    "#line = np.linspace(0,z,z) # stors the number of linear distributed number of iteration from the solution\n",
    "#line"
   ]
  },
  {
   "cell_type": "markdown",
   "metadata": {},
   "source": [
    "$\n",
    "M\\bigg(\\frac{u^{n+1}-u^n}{k}\\bigg) + A u^{n+1} +C u^{n} = 0\n",
    "$\n",
    "\n",
    "$\n",
    "M^*\\bigg(u^{n+1}-u^n\\bigg) = -k A u^n - k Cu^n\n",
    "$\n",
    "\n",
    "$\n",
    "M^* = M + kA \n",
    "$"
   ]
  },
  {
   "cell_type": "code",
   "execution_count": null,
   "metadata": {},
   "outputs": [],
   "source": [
    "# implicit Euler/explicit Euler splitting method:\n",
    "erg_h[:,0] = gfu.components[0].vec\n",
    "S_POD[:,0] = gfu.components[0].vec\n",
    "o = 1\n",
    "e = int(line[o])\n",
    "for i in range(int(dn)):\n",
    "    conv.Assemble()\n",
    "    res.data = a.mat * gfu.vec + conv.vec\n",
    "    gfu.vec.data -= dt * inv * res\n",
    "    \n",
    "    for r in line:\n",
    "        if int(r) == i: #desided which solution will be orthogonalirsed\n",
    "            if i > 0:\n",
    "                S_POD[:,o] = gfu.components[0].vec\n",
    "                o = o + 1\n",
    "    erg_h[:,i+1] = gfu.components[0].vec #stores the solution for comparing later\n",
    "    t = t + dt\n",
    "    Redraw()"
   ]
  },
  {
   "cell_type": "markdown",
   "metadata": {},
   "source": [
    "## POD method\n",
    "A other way to get the transforamtions matrix is the POD method.\n",
    "gifen $\\mathbb{S} = \\{u_h^0,u_h^1,...u_h^{S-1}\\}$ where $S$ ist the number of snapshots.\n",
    "\n",
    "$\n",
    "C = \\mathbb{S}^T\\mathbb{S}\\\\\n",
    "$\n",
    "\n",
    "$\n",
    "C \\in \\mathbb{R}^{S \\times S}\n",
    "$\n",
    "\n",
    "decompose the solution $u_h$ into the mean part $\\bar{u}_h$ and the fluctuation part $\\hat{u}_h$\n",
    "\n",
    "$\\bar{u}_h = \\frac{1}{S} \\sum_{n=0}^{S-1}u_h^n$  $\\,\\,\\,\\,\\,\\, \\bar{u}_h \\in \\mathbb{R}^{Nh \\times S-1}$????\n",
    "\n",
    "and solve the eigenwalueproblem\n",
    "\n",
    "$\n",
    "C\\Omega = \\Omega\\Lambda\\\\\n",
    "\\Lambda = diag[\\lambda_0,...,\\lambda_{S-1}], \\Omega = [\\omega^0,...,\\omega^{S-1}]\n",
    "$\n",
    "\n",
    "$\\lambda_i$ is the $i$th eigenvalue and $\\omega^i$ is the corresponding normalized $i$th eigenvector\n",
    "\n",
    "For a integer $r<<S$ given the $r$th POD basis like:\n",
    "\n",
    "$\n",
    "\\phi_j = \\frac{1}{\\sqrt{\\lambda_j}}\\sum_{n=0}^{r-1}\\omega^j_nu_h^n, \\,\\,\\,\\,\\,\\,\\,\\, j = 0,...,r-1\n",
    "$\n",
    "\n",
    "Frage:\n",
    "For $j=0$  and $r = 3$ the expression becomes to:\n",
    "\n",
    "$\n",
    "\\phi_0 = \\frac{1}{\\sqrt{\\lambda_0}}\\bigg[\\omega_0^0 \\cdot u_h^0 + \\omega_1^0 \\cdot u_h^1 +\\omega_2^0 \\cdot u_h^2\\bigg]\n",
    "$\n",
    "\n",
    "So $\\phi \\in \\mathbb{R}^{N_h\\times r}$\n",
    "\n",
    "To get a orthogonal basis $V = \\{\\phi_0,...\\phi_{r-1}\\}$"
   ]
  },
  {
   "cell_type": "code",
   "execution_count": null,
   "metadata": {},
   "outputs": [],
   "source": [
    "ubar = np.zeros(len_h)\n",
    "#splitting the snapshotsolution like in the paper\n",
    "for i in range(S_POD.shape[1]):\n",
    "    ubar = ubar + S_POD[:,i]                   \n",
    "ubar = 1/S_POD.shape[1] * ubar \n",
    "for i in range(S_POD.shape[1]):\n",
    "    S_POD[:,i] = S_POD[:,i] - ubar"
   ]
  },
  {
   "cell_type": "code",
   "execution_count": null,
   "metadata": {},
   "outputs": [],
   "source": [
    "print(ubar)"
   ]
  },
  {
   "cell_type": "markdown",
   "metadata": {},
   "source": [
    "## POD_Method paper"
   ]
  },
  {
   "cell_type": "code",
   "execution_count": null,
   "metadata": {},
   "outputs": [],
   "source": [
    "C = np.transpose(S_POD).dot(S_POD)\n",
    "lam,omg = np.linalg.eigh(C)"
   ]
  },
  {
   "cell_type": "code",
   "execution_count": null,
   "metadata": {},
   "outputs": [],
   "source": [
    "lam = np.abs(lam)"
   ]
  },
  {
   "cell_type": "code",
   "execution_count": null,
   "metadata": {},
   "outputs": [],
   "source": [
    "r = 6\n",
    "V_POD = np.zeros([len_h,r])\n",
    "for i in range(r):\n",
    "    for j in range(r):\n",
    "        V_POD[:,i] += omg[j,i]*S_POD[:,j]\n",
    "    V_POD[:,i] = 1/np.sqrt(lam[i]) * V_POD[:,i]"
   ]
  },
  {
   "cell_type": "code",
   "execution_count": null,
   "metadata": {},
   "outputs": [],
   "source": [
    "print(V_POD[:,0].dot(V_POD[:,0]))\n",
    "print(V_POD.shape)"
   ]
  },
  {
   "cell_type": "markdown",
   "metadata": {},
   "source": [
    "## POD_Method RedBasis Book"
   ]
  },
  {
   "cell_type": "code",
   "execution_count": null,
   "metadata": {},
   "outputs": [],
   "source": [
    "r = 6\n",
    "C = np.transpose(S_POD).dot(S_POD)\n",
    "V_POD = np.zeros([len_h,r])\n",
    "U,Sig,VH = np.linalg.svd(C)\n",
    "VH = np.transpose(VH)\n",
    "for i in range(r):\n",
    "    V_POD[:,i] = 1/(np.sqrt(Sig[i])) * S_POD.dot(VH[:,i])\n"
   ]
  },
  {
   "cell_type": "code",
   "execution_count": null,
   "metadata": {},
   "outputs": [],
   "source": [
    "V_POD[:,0].dot(V_POD[:,5])"
   ]
  },
  {
   "cell_type": "markdown",
   "metadata": {},
   "source": [
    "# Offline decomposition\n",
    "\n",
    "$C_h(\\omega,u,v) = \\int_K(\\nabla \\omega \\cdot u): v$\n",
    "\n",
    "$C0_j = C_h(\\bar{u}_h,\\bar{u}_h,\\phi_j)$\n",
    "\n",
    "$C1_{i,j} = C_h(\\bar{u}_h,\\phi_i,\\phi_j) + C_h(\\phi_i,\\bar{u}_h,\\phi_j)$\n",
    "\n",
    "$C_{i,j,k} = C_h(\\phi_i,\\phi_j,\\phi_k)$\n",
    "\n",
    "\n"
   ]
  },
  {
   "cell_type": "code",
   "execution_count": null,
   "metadata": {},
   "outputs": [],
   "source": [
    "def Ch_ngsolve(wh,uh,vh):\n",
    "    Ch = 0\n",
    "    u_N = GridFunction(V)\n",
    "    v_N = GridFunction(V)\n",
    "    w_N = GridFunction(V)\n",
    "    w_N.vec.FV().NumPy()[:] = wh\n",
    "    u_N.vec.FV().NumPy()[:] = uh\n",
    "    v_N.vec.FV().NumPy()[:] = vh\n",
    "    jump_u_N = u_N-u_N.Other()\n",
    "    mean_uu = 0.5 * (u_N+u_N.Other())\n",
    "        \n",
    "    Ch += Integrate(InnerProduct(Grad(w_N)*u_N,v_N),mesh)\n",
    "    Ch += -Integrate(mean_uu*n,mesh)\n",
    "    \n",
    "    return Ch"
   ]
  },
  {
   "cell_type": "code",
   "execution_count": null,
   "metadata": {
    "scrolled": false
   },
   "outputs": [],
   "source": [
    "C0 = np.zeros(r)\n",
    "w = ubar\n",
    "u = w \n",
    "for i in range(r):\n",
    "    v = V_POD[:,i]\n",
    "    C0[i] = Ch_ngsolve(w,u,v)\n"
   ]
  },
  {
   "cell_type": "code",
   "execution_count": null,
   "metadata": {},
   "outputs": [],
   "source": [
    "C0"
   ]
  },
  {
   "cell_type": "code",
   "execution_count": null,
   "metadata": {},
   "outputs": [],
   "source": [
    "C = np.zeros([r,r,r])\n",
    "for i in range(r):\n",
    "    w = V_POD[:,i]\n",
    "    for j in range(r):\n",
    "        u = V_POD[:,j]\n",
    "        for k in range(r):\n",
    "            v = V_POD[:,k]\n",
    "            C[i,j,k] = Ch_ngsolve(w,u,v)"
   ]
  },
  {
   "cell_type": "code",
   "execution_count": null,
   "metadata": {},
   "outputs": [],
   "source": [
    "C1 = np.zeros([r,r])\n",
    "for i in range(r):\n",
    "    w = ubar\n",
    "    u = V_POD[:,i]\n",
    "    for j in range(r):\n",
    "        v = V_POD[:,j]\n",
    "        C1[i,j] = Ch_ngsolve(w,u,v)\n",
    "        C1[i,j] += Ch_ngsolve(u,w,v)\n",
    "    "
   ]
  },
  {
   "cell_type": "code",
   "execution_count": null,
   "metadata": {},
   "outputs": [],
   "source": [
    "#Integrate(dudx, mesh, definedon=mesh.Boundaries('left'))"
   ]
  },
  {
   "cell_type": "code",
   "execution_count": null,
   "metadata": {},
   "outputs": [],
   "source": [
    "def Bh_ngsolve(uh,vh):\n",
    "    Bh = 0\n",
    "    u_N = GridFunction(V)\n",
    "    v_N = GridFunction(V)\n",
    "    u_N.vec.FV().NumPy()[:] = uh\n",
    "    v_N.vec.FV().NumPy()[:] = vh\n",
    "    \n",
    "    Bh += Integrate(InnerProduct(Grad(u_N),Grad(v_N)),mesh)\n",
    "    \n",
    "    return Bh"
   ]
  },
  {
   "cell_type": "code",
   "execution_count": null,
   "metadata": {},
   "outputs": [],
   "source": [
    "B0 = np.zeros(r)\n",
    "u = ubar \n",
    "for i in range(r):\n",
    "    v = V_POD[:,i]\n",
    "    B0[i] = Bh_ngsolve(u,v)"
   ]
  },
  {
   "cell_type": "code",
   "execution_count": null,
   "metadata": {},
   "outputs": [],
   "source": [
    "B1 = np.zeros([r,r])\n",
    "for i in range(r):\n",
    "    u = V_POD[:,i]\n",
    "    for j in range(r):\n",
    "        v = V_POD[:,j]\n",
    "        B1[i,j] = Bh_ngsolve(u,v)"
   ]
  },
  {
   "cell_type": "code",
   "execution_count": null,
   "metadata": {},
   "outputs": [],
   "source": [
    "B1"
   ]
  },
  {
   "cell_type": "code",
   "execution_count": null,
   "metadata": {},
   "outputs": [],
   "source": [
    "def Mh_ngsolve(uh,vh):\n",
    "    Mh = 0\n",
    "    u_N = GridFunction(V)\n",
    "    v_N = GridFunction(V)\n",
    "    u_N.vec.FV().NumPy()[:] = uh\n",
    "    v_N.vec.FV().NumPy()[:] = vh\n",
    "    \n",
    "    Mh += Integrate(InnerProduct(u_N,v_N),mesh)\n",
    "    \n",
    "    return Mh"
   ]
  },
  {
   "cell_type": "code",
   "execution_count": null,
   "metadata": {},
   "outputs": [],
   "source": [
    "M1 = np.zeros([r,r])\n",
    "for i in range(r):\n",
    "    u = V_POD[:,i]\n",
    "    for j in range(r):\n",
    "        v = V_POD[:,j]\n",
    "        M1[i,j] = Mh_ngsolve(u,v)"
   ]
  },
  {
   "cell_type": "code",
   "execution_count": null,
   "metadata": {},
   "outputs": [],
   "source": [
    "M1"
   ]
  },
  {
   "cell_type": "markdown",
   "metadata": {},
   "source": [
    "## Offline decomposition\n",
    "\n",
    "$B_h^{dg}(u,v) = \\sum_{T}\\big(\\int_T \\nabla u : \\nabla v dx \\big) - \\int_{\\partial T} (\\{\\{\\nabla u \\}\\}n) \\cdot tang(v) ds - \\int_{\\partial T} (\\{\\{\\nabla v \\}\\}n) \\cdot tang(u) ds + \\int_{\\partial T} \\frac{4k^2}{h}tang([u]) \\cdot tang([v]) ds$\n",
    "\n",
    "$B0_j = B_h^{dg}(\\bar{u}_h,\\phi_j)$\n",
    "\n",
    "$B1_{i,j} = B_h^{dg}(\\phi_i,\\phi_j)$"
   ]
  },
  {
   "cell_type": "code",
   "execution_count": null,
   "metadata": {},
   "outputs": [],
   "source": [
    "def tang(vec):\n",
    "    return vec - (vec*n)*n"
   ]
  },
  {
   "cell_type": "code",
   "execution_count": null,
   "metadata": {},
   "outputs": [],
   "source": [
    "u = V.TrialFunction()\n",
    "v = V.TestFunction()\n",
    "test = GridFunction(V)\n",
    "\n",
    "jump_u = u-u.Other()\n",
    "jump_v = v-v.Other()\n",
    "n = specialcf.normal(mesh.dim)\n",
    "h = specialcf.mesh_size\n",
    "mean_dudu = 0.5 * (grad(u)+grad(u.Other()))\n",
    "mean_dvdv = 0.5 * (grad(v)+grad(v.Other()))\n",
    "\n",
    "B_dg = BilinearForm(V)\n",
    "B_dg += (InnerProduct(Grad(u),Grad(v)))*dx \n",
    "B_dg += - (InnerProduct(mean_dudu*n,tang(v)))*ds(skeleton=True)\n",
    "B_dg += - (InnerProduct(mean_dvdv*n,tang(u)))*ds(skeleton=True)\n",
    "B_dg += ((4*k*k)/h*(InnerProduct(tang(jump_u),tang(jump_v))))*ds(skeleton=True)\n"
   ]
  },
  {
   "cell_type": "code",
   "execution_count": null,
   "metadata": {},
   "outputs": [],
   "source": [
    "from scipy.sparse.linalg import norm\n",
    "u_N = test.vec.CreateVector()\n",
    "v_N = test.vec.CreateVector()\n",
    "\n",
    "B0 = np.zeros(r)\n",
    "u_N.vec = ubar \n",
    "for i in range(r):\n",
    "    v_N.vec = V_POD[:,i]\n",
    "    B_dg.Apply(v_N,u_N)\n",
    "    B_dg.Assemble()\n",
    "    \n",
    "    rows,cols,vals = B_dg.mat.COO()\n",
    "    Bh = sp.csr_matrix((vals,(rows,cols)))\n",
    "    print(Bh)\n",
    "    print(\" \")\n",
    "    #B0[i] = norm(Bh,1)\n",
    "    #print(B0[i])\n",
    "    #Integrate(B_dg, VOL,mesh)\n",
    "    #B_dg.Assemble()\n",
    "    #Integrate(B_dg.mat,mesh)"
   ]
  },
  {
   "cell_type": "code",
   "execution_count": null,
   "metadata": {},
   "outputs": [],
   "source": [
    "B1 = np.zeros([r,r]) \n",
    "for i in range(r):\n",
    "    v_N.vec = V_POD[:,i]\n",
    "    for j in range(r):\n",
    "        v_N.vec = V_POD[:,j]\n",
    "        B_dg.Apply(u_N,v_N)\n",
    "        B_dg.Assemble()\n",
    "        rows,cols,vals = B_dg.mat.COO()\n",
    "        Bh = sp.csr_matrix((vals,(rows,cols)))\n",
    "        B1[i,j] = norm(Bh,1)\n"
   ]
  },
  {
   "cell_type": "code",
   "execution_count": null,
   "metadata": {},
   "outputs": [],
   "source": [
    "B1"
   ]
  },
  {
   "cell_type": "markdown",
   "metadata": {},
   "source": [
    "$C_h(\\omega,u,v) = -\\frac{1}{2} \\bigg(\\int_T(\\nabla \\omega \\cdot u): v - \\int_{\\partial T} (\\omega \\cdot n)(\\{\\{u\\}\\}\\cdot v)ds\\bigg)$\n",
    "\n",
    "$C0_j = C_h(\\bar{u}_h,\\bar{u}_h,\\phi_j)$\n",
    "\n",
    "$C1_{i,j} = C_h(\\bar{u}_h,\\phi_i,\\phi_j) + C_h(\\phi_i,\\bar{u}_h,\\phi_j)$\n",
    "\n",
    "$C_{i,j,k} = C_h(\\phi_i,\\phi_j,\\phi_k)$"
   ]
  },
  {
   "cell_type": "code",
   "execution_count": null,
   "metadata": {},
   "outputs": [],
   "source": [
    "u = V.TrialFunction()\n",
    "w = V.TrialFunction()\n",
    "v = V.TestFunction()\n",
    "test = GridFunction(V)\n",
    "\n",
    "jump_u = u-u.Other()\n",
    "n = specialcf.normal(mesh.dim)\n",
    "mean_uu = 0.5 * (u+u.Other())\n",
    "\n",
    "\n",
    "C_dg = BilinearForm(V)\n",
    "C_dg += (InnerProduct(Grad(w)*u,v))*dx\n",
    "C_dg += - (InnerProduct(w * n,mean_uu * v))*ds(skeleton=True)\n"
   ]
  },
  {
   "cell_type": "markdown",
   "metadata": {},
   "source": [
    "# RedBasis NavierStokes"
   ]
  },
  {
   "cell_type": "code",
   "execution_count": null,
   "metadata": {},
   "outputs": [],
   "source": [
    "gfu_N = GridFunction(V)\n",
    "gfu = GridFunction(V)\n",
    "gfu_N.vec.FV().NumPy()[:] = erg_h[:,0]\n",
    "gfu.vec.FV().NumPy()[:] = erg_h[:,0]\n",
    "\n",
    "uN = np.array(gfu_N.vec).dot(V_POD)\n",
    "velocity_N = gfu_N.components[0]\n",
    "Draw(gfu_N.components[0],mesh,\"gfu_N\",sd=3)\n",
    "Draw(gfu_N.components[0]-gfu.components[0],mesh,\"error\",sd=3)\n",
    "err = res.CreateVector()"
   ]
  },
  {
   "cell_type": "code",
   "execution_count": null,
   "metadata": {},
   "outputs": [],
   "source": [
    "dt = 0.00001\n",
    "dn = 1/dt\n",
    "Residium = []\n",
    "time = []\n",
    "erg_N = np.zeros([len(gfu_N.vec),int(dn)+1])\n",
    "erg_N[:,0] = gfu_N.vec\n",
    "\n",
    "I = np.eye(r)\n",
    "MN_star = M1/dt + 0.5*dt*nu*B1\n",
    "inv_N = np.linalg.inv(MN_star)\n",
    "for i in range(int(dn)):\n",
    "    #err.vec = sqrt (Integrate ((gfu.components[0]-gfu_N.components[0])*(gfu.components[0]-gfu_N.components[0]),mesh))\n",
    "    \n",
    "    res_N = C0 + C1.dot(uN) + uN.dot(C.dot(uN)) + nu*B0 + 0.5*nu*B1.dot(uN)\n",
    "    uN -= dt * inv_N.dot(res_N)\n",
    "    #erg_N[:,i+1] = (uN).dot(np.transpose(V_POD))\n",
    "    \n",
    "    \n",
    "    #gfu.vec.FV().NumPy()[:] = erg_h[:,i+1]\n",
    "    gfu_N.vec.FV().NumPy()[:] = (uN).dot(np.transpose(V_POD))\n",
    "    #Residium.append(err.vec)\n",
    "    #time.append(dt*i)\n",
    "    Redraw()"
   ]
  },
  {
   "cell_type": "code",
   "execution_count": null,
   "metadata": {},
   "outputs": [],
   "source": [
    "Residium"
   ]
  },
  {
   "cell_type": "code",
   "execution_count": null,
   "metadata": {},
   "outputs": [],
   "source": []
  }
 ],
 "metadata": {
  "kernelspec": {
   "display_name": "Python 3",
   "language": "python",
   "name": "python3"
  },
  "language_info": {
   "codemirror_mode": {
    "name": "ipython",
    "version": 3
   },
   "file_extension": ".py",
   "mimetype": "text/x-python",
   "name": "python",
   "nbconvert_exporter": "python",
   "pygments_lexer": "ipython3",
   "version": "3.7.5"
  }
 },
 "nbformat": 4,
 "nbformat_minor": 4
}
