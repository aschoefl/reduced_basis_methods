{
 "cells": [
  {
   "cell_type": "markdown",
   "metadata": {},
   "source": [
    "# Navier Stokes Equation Reduced Basis Method \n",
    "Incompressible timedependet Navier Stokes equation\n",
    "\n",
    "Find $(u,p):[0,T] \\to (H_{0,D}^1)^d \\times L^2$, s.t.\n",
    "\n",
    "\\begin{align}\n",
    "\\int_{\\Omega} \\partial_t u \\cdot v + \\int_{\\Omega} \\nu \\nabla u \\nabla v + u \\cdot \\nabla u v - \\int_{\\Omega} \\operatorname{div}(v) p &= \\int f v  && \\forall v \\in (H_{0,D}^1)^d, \\\\ \n",
    "- \\int_{\\Omega} \\operatorname{div}(u) q &= 0 && \\forall q \\in L^2, \\\\\n",
    "\\quad u(t=0) & = u_0\n",
    "\\end{align}"
   ]
  },
  {
   "cell_type": "code",
   "execution_count": 1,
   "metadata": {},
   "outputs": [],
   "source": [
    "from netgen import gui\n",
    "from ngsolve import *\n",
    "from netgen.geom2d import SplineGeometry\n",
    "import scipy.sparse as sp\n",
    "import numpy as np\n",
    "from math import pi"
   ]
  },
  {
   "cell_type": "code",
   "execution_count": 2,
   "metadata": {},
   "outputs": [],
   "source": [
    "from netgen.geom2d import SplineGeometry\n",
    "geo = SplineGeometry()\n",
    "geo.AddRectangle( (0, 0), (2, 0.41), bcs = (\"wall\", \"outlet\", \"wall\", \"inlet\"))\n",
    "geo.AddCircle ( (0.2, 0.2), r=0.05, leftdomain=0, rightdomain=1, bc=\"cyl\")\n",
    "mesh = Mesh( geo.GenerateMesh(maxh=0.08))\n",
    "mesh.Curve(3)\n",
    "Draw(mesh)\n",
    "# viscosity\n",
    "nu = 0.001\n",
    "dt = 0.001\n",
    "\n",
    "T = 1\n",
    "dn = int(T/dt)\n",
    "z = 100  # Number of snapshots"
   ]
  },
  {
   "cell_type": "code",
   "execution_count": 3,
   "metadata": {},
   "outputs": [],
   "source": [
    "k = 3\n",
    "V = VectorH1(mesh,order=k, dirichlet=\"wall|cyl|inlet\", dgjumps=True)\n",
    "Q = H1(mesh,order=k-1)\n",
    "X = FESpace([V,Q])"
   ]
  },
  {
   "cell_type": "code",
   "execution_count": 4,
   "metadata": {},
   "outputs": [],
   "source": [
    "gfu_N = GridFunction(X)\n",
    "gfu = GridFunction(X)\n",
    "velocity = gfu.components[0]\n",
    "\n",
    "\n",
    "uin = CoefficientFunction((1.5*4*y*(0.41-y)/(0.41*0.41),0))\n",
    "gfu.components[0].Set(uin, definedon=mesh.Boundaries(\"inlet\"))\n",
    "\n",
    "Draw(gfu.components[0],mesh,\"gfu\",sd=3)"
   ]
  },
  {
   "cell_type": "code",
   "execution_count": 5,
   "metadata": {},
   "outputs": [],
   "source": [
    "(u,p), (v,q) = X.TnT()\n",
    "\n",
    "a = BilinearForm(X)\n",
    "stokes = (nu*InnerProduct(grad(u),grad(v))-div(u)*q-div(v)*p)*dx\n",
    "a += stokes\n",
    "a.Assemble()\n",
    "\n",
    "f = LinearForm(X)\n",
    "f.Assemble()\n",
    "\n",
    "inv_stokes = a.mat.Inverse(X.FreeDofs())\n",
    "\n",
    "res = f.vec.CreateVector()\n",
    "res.data = f.vec - a.mat*gfu.vec\n",
    "gfu.vec.data += inv_stokes * res"
   ]
  },
  {
   "cell_type": "code",
   "execution_count": 6,
   "metadata": {},
   "outputs": [],
   "source": [
    "# matrix for implicit part of IMEX(1) scheme:\n",
    "mstar = BilinearForm(X)\n",
    "\n",
    "mstar += InnerProduct(u,v)*dx + dt*stokes\n",
    "\n",
    "mstar.Assemble()\n",
    "\n",
    "mh = BilinearForm(X)\n",
    "\n",
    "mh += InnerProduct(u,v)*dx\n",
    "mh.Assemble()\n",
    "\n",
    "inv = mstar.mat.Inverse(X.FreeDofs())\n",
    "\n",
    "\n",
    "conv = LinearForm(X)\n",
    "conv += InnerProduct(grad(velocity)*velocity,v)*dx"
   ]
  },
  {
   "cell_type": "code",
   "execution_count": 7,
   "metadata": {},
   "outputs": [],
   "source": [
    "rows,cols,vals = a.mat.COO()\n",
    "Ah = sp.csr_matrix((vals,(rows,cols)))\n",
    "Fh = f.vec\n",
    "rows,cols,vals = mh.mat.COO()\n",
    "Mh = sp.csr_matrix((vals,(rows,cols)))"
   ]
  },
  {
   "cell_type": "code",
   "execution_count": 9,
   "metadata": {},
   "outputs": [
    {
     "data": {
      "text/plain": [
       "array([  0,  10,  20,  30,  40,  50,  60,  70,  80,  90, 100, 111, 121,\n",
       "       131, 141, 151, 161, 171, 181, 191, 201, 211, 222, 232, 242, 252,\n",
       "       262, 272, 282, 292, 302, 312, 322, 333, 343, 353, 363, 373, 383,\n",
       "       393, 403, 413, 423, 433, 444, 454, 464, 474, 484, 494, 504, 514,\n",
       "       524, 534, 544, 555, 565, 575, 585, 595, 605, 615, 625, 635, 645,\n",
       "       655, 666, 676, 686, 696, 706, 716, 726, 736, 746, 756, 766, 777,\n",
       "       787, 797, 807, 817, 827, 837, 847, 857, 867, 877, 888, 898, 908,\n",
       "       918, 928, 938, 948, 958, 968, 978, 988, 999])"
      ]
     },
     "execution_count": 9,
     "metadata": {},
     "output_type": "execute_result"
    }
   ],
   "source": [
    "t = 0\n",
    "tend = 0\n",
    "len_h = len(gfu.components[0].vec)\n",
    "erg_h = np.zeros([len_h,int(dn)+1])\n",
    "\n",
    "V_POD = np.zeros([len_h,z]) # creat the orthogonal transformationsmatrix for the reducebasis method\n",
    "line = np.linspace(0,dn-1,z,dtype = int) # stors the number of linear distributed number of iteration from the solution\n",
    "S_POD = np.zeros([len_h,z])\n",
    "#line = np.linspace(0,z,z) # stors the number of linear distributed number of iteration from the solution\n",
    "line"
   ]
  },
  {
   "cell_type": "markdown",
   "metadata": {},
   "source": [
    "$\n",
    "M\\bigg(\\frac{u^{n+1}-u^n}{k}\\bigg) + A u^{n+1} +C u^{n} = 0\n",
    "$\n",
    "\n",
    "$\n",
    "M^*\\bigg(u^{n+1}-u^n\\bigg) = -k A u^n - k Cu^n\n",
    "$\n",
    "\n",
    "$\n",
    "M^* = M + kA \n",
    "$"
   ]
  },
  {
   "cell_type": "code",
   "execution_count": 10,
   "metadata": {},
   "outputs": [
    {
     "name": "stdout",
     "output_type": "stream",
     "text": [
      "orthogonaliese:  10\n",
      "orthogonaliese:  20\n",
      "orthogonaliese:  30\n",
      "orthogonaliese:  40\n",
      "orthogonaliese:  50\n",
      "orthogonaliese:  60\n",
      "orthogonaliese:  70\n",
      "orthogonaliese:  80\n",
      "orthogonaliese:  90\n",
      "orthogonaliese:  100\n",
      "orthogonaliese:  111\n",
      "orthogonaliese:  121\n",
      "orthogonaliese:  131\n",
      "orthogonaliese:  141\n",
      "orthogonaliese:  151\n",
      "orthogonaliese:  161\n",
      "orthogonaliese:  171\n",
      "orthogonaliese:  181\n",
      "orthogonaliese:  191\n",
      "orthogonaliese:  201\n",
      "orthogonaliese:  211\n",
      "orthogonaliese:  222\n",
      "orthogonaliese:  232\n",
      "orthogonaliese:  242\n",
      "orthogonaliese:  252\n",
      "orthogonaliese:  262\n",
      "orthogonaliese:  272\n",
      "orthogonaliese:  282\n",
      "orthogonaliese:  292\n",
      "orthogonaliese:  302\n",
      "orthogonaliese:  312\n",
      "orthogonaliese:  322\n",
      "orthogonaliese:  333\n",
      "orthogonaliese:  343\n",
      "orthogonaliese:  353\n",
      "orthogonaliese:  363\n",
      "orthogonaliese:  373\n",
      "orthogonaliese:  383\n",
      "orthogonaliese:  393\n",
      "orthogonaliese:  403\n",
      "orthogonaliese:  413\n",
      "orthogonaliese:  423\n",
      "orthogonaliese:  433\n",
      "orthogonaliese:  444\n",
      "orthogonaliese:  454\n",
      "orthogonaliese:  464\n",
      "orthogonaliese:  474\n",
      "orthogonaliese:  484\n",
      "orthogonaliese:  494\n",
      "orthogonaliese:  504\n",
      "orthogonaliese:  514\n",
      "orthogonaliese:  524\n",
      "orthogonaliese:  534\n",
      "orthogonaliese:  544\n",
      "orthogonaliese:  555\n",
      "orthogonaliese:  565\n",
      "orthogonaliese:  575\n",
      "orthogonaliese:  585\n",
      "orthogonaliese:  595\n",
      "orthogonaliese:  605\n",
      "orthogonaliese:  615\n",
      "orthogonaliese:  625\n",
      "orthogonaliese:  635\n",
      "orthogonaliese:  645\n",
      "orthogonaliese:  655\n",
      "orthogonaliese:  666\n",
      "orthogonaliese:  676\n",
      "orthogonaliese:  686\n",
      "orthogonaliese:  696\n",
      "orthogonaliese:  706\n",
      "orthogonaliese:  716\n",
      "orthogonaliese:  726\n",
      "orthogonaliese:  736\n",
      "orthogonaliese:  746\n",
      "orthogonaliese:  756\n",
      "orthogonaliese:  766\n",
      "orthogonaliese:  777\n",
      "orthogonaliese:  787\n",
      "orthogonaliese:  797\n",
      "orthogonaliese:  807\n",
      "orthogonaliese:  817\n",
      "orthogonaliese:  827\n",
      "orthogonaliese:  837\n",
      "orthogonaliese:  847\n",
      "orthogonaliese:  857\n",
      "orthogonaliese:  867\n",
      "orthogonaliese:  877\n",
      "orthogonaliese:  888\n",
      "orthogonaliese:  898\n",
      "orthogonaliese:  908\n",
      "orthogonaliese:  918\n",
      "orthogonaliese:  928\n",
      "orthogonaliese:  938\n",
      "orthogonaliese:  948\n",
      "orthogonaliese:  958\n",
      "orthogonaliese:  968\n",
      "orthogonaliese:  978\n",
      "orthogonaliese:  988\n",
      "orthogonaliese:  999\n"
     ]
    }
   ],
   "source": [
    "# implicit Euler/explicit Euler splitting method:\n",
    "erg_h[:,0] = gfu.components[0].vec\n",
    "S_POD[:,0] = gfu.components[0].vec\n",
    "o = 1\n",
    "for i in range(int(dn)):\n",
    "    conv.Assemble()\n",
    "    res.data = a.mat * gfu.vec + conv.vec\n",
    "    gfu.vec.data -= dt * inv * res\n",
    "    \n",
    "    for r in line:\n",
    "        if int(r) == i: #desided which solution will be orthogonalirsed\n",
    "            if i > 0:\n",
    "                S_POD[:,o] = gfu.components[0].vec\n",
    "                o = o + 1\n",
    "    erg_h[:,i+1] = gfu.components[0].vec #stores the solution for comparing later\n",
    "    t = t + dt\n",
    "    Redraw()"
   ]
  },
  {
   "cell_type": "markdown",
   "metadata": {},
   "source": [
    "## POD method\n",
    "A other way to get the transforamtions matrix is the POD method.\n",
    "gifen $\\mathbb{S} = \\{u_h^0,u_h^1,...u_h^{S-1}\\}$ where $S$ ist the number of snapshots.\n",
    "\n",
    "$\n",
    "C = \\mathbb{S}^T\\mathbb{S}\\\\\n",
    "$\n",
    "\n",
    "$\n",
    "C \\in \\mathbb{R}^{S \\times S}\n",
    "$\n",
    "\n",
    "decompose the solution $u_h$ into the mean part $\\bar{u}_h$ and the fluctuation part $\\hat{u}_h$\n",
    "\n",
    "$\\bar{u}_h = \\frac{1}{S} \\sum_{n=0}^{S-1}u_h^n$  $\\,\\,\\,\\,\\,\\, \\bar{u}_h \\in \\mathbb{R}^{Nh \\times S-1}$????\n",
    "\n",
    "and solve the eigenwalueproblem\n",
    "\n",
    "$\n",
    "C\\Omega = \\Omega\\Lambda\\\\\n",
    "\\Lambda = diag[\\lambda_0,...,\\lambda_{S-1}], \\Omega = [\\omega^0,...,\\omega^{S-1}]\n",
    "$\n",
    "\n",
    "$\\lambda_i$ is the $i$th eigenvalue and $\\omega^i$ is the corresponding normalized $i$th eigenvector\n",
    "\n",
    "For a integer $r<<S$ given the $r$th POD basis like:\n",
    "\n",
    "$\n",
    "\\phi_j = \\frac{1}{\\sqrt{\\lambda_j}}\\sum_{n=0}^{r-1}\\omega^j_nu_h^n, \\,\\,\\,\\,\\,\\,\\,\\, j = 0,...,r-1\n",
    "$\n",
    "\n",
    "Frage:\n",
    "For $j=0$  and $r = 3$ the expression becomes to:\n",
    "\n",
    "$\n",
    "\\phi_0 = \\frac{1}{\\sqrt{\\lambda_0}}\\bigg[\\omega_0^0 \\cdot u_h^0 + \\omega_1^0 \\cdot u_h^1 +\\omega_2^0 \\cdot u_h^2\\bigg]\n",
    "$\n",
    "\n",
    "So $\\phi \\in \\mathbb{R}^{N_h\\times r}$\n",
    "\n",
    "To get a orthogonal basis $V = \\{\\phi_0,...\\phi_{r-1}\\}$"
   ]
  },
  {
   "cell_type": "code",
   "execution_count": 11,
   "metadata": {},
   "outputs": [],
   "source": [
    "ubar = np.zeros(len_h)\n",
    "#splitting the snapshotsolution like in the paper\n",
    "for i in range(S_POD.shape[1]):\n",
    "    ubar = ubar + S_POD[:,i]                   \n",
    "ubar = 1/S_POD.shape[1] * ubar \n",
    "for i in range(S_POD.shape[1]):\n",
    "    S_POD[:,i] = S_POD[:,i] - ubar"
   ]
  },
  {
   "cell_type": "code",
   "execution_count": 12,
   "metadata": {},
   "outputs": [
    {
     "name": "stdout",
     "output_type": "stream",
     "text": [
      "[ 1.24765049e-16  0.00000000e+00  0.00000000e+00 ... -1.05922749e-01\n",
      "  2.27022742e-02 -3.49115782e-01]\n"
     ]
    }
   ],
   "source": [
    "print(ubar)"
   ]
  },
  {
   "cell_type": "markdown",
   "metadata": {},
   "source": [
    "## POD_Method paper"
   ]
  },
  {
   "cell_type": "code",
   "execution_count": null,
   "metadata": {},
   "outputs": [],
   "source": [
    "C = np.transpose(S_POD).dot(S_POD)\n",
    "lam,omg = np.linalg.eigh(C)"
   ]
  },
  {
   "cell_type": "code",
   "execution_count": null,
   "metadata": {},
   "outputs": [],
   "source": [
    "lam = np.abs(lam)"
   ]
  },
  {
   "cell_type": "code",
   "execution_count": null,
   "metadata": {},
   "outputs": [],
   "source": [
    "r = 6\n",
    "V_POD = np.zeros([len_h,r])\n",
    "for i in range(r):\n",
    "    for j in range(r):\n",
    "        V_POD[:,i] += omg[j,i]*S_POD[:,j]\n",
    "    V_POD[:,i] = 1/np.sqrt(lam[i]) * V_POD[:,i]"
   ]
  },
  {
   "cell_type": "code",
   "execution_count": null,
   "metadata": {},
   "outputs": [],
   "source": [
    "print(V_POD[:,0].dot(V_POD[:,0]))\n",
    "print(V_POD.shape)"
   ]
  },
  {
   "cell_type": "markdown",
   "metadata": {},
   "source": [
    "## POD_Method RedBasis Book"
   ]
  },
  {
   "cell_type": "code",
   "execution_count": 13,
   "metadata": {},
   "outputs": [],
   "source": [
    "def calcPOD(S_POD,r):\n",
    "    C = np.transpose(S_POD).dot(S_POD)\n",
    "    V_POD = np.zeros([S_POD.shape[0],r])\n",
    "    U,Sig,VH = np.linalg.svd(C)\n",
    "    VH = np.transpose(VH)\n",
    "    line = np.linspace(0,S_POD.shape[1]-1,r,dtype = int)\n",
    "    print(line)\n",
    "    o = 0\n",
    "    for i in line:\n",
    "        V_POD[:,o] = 1/(np.sqrt(Sig[i])) * S_POD.dot(VH[:,i])\n",
    "        o = o + 1\n",
    "    \n",
    "    return V_POD"
   ]
  },
  {
   "cell_type": "code",
   "execution_count": 14,
   "metadata": {},
   "outputs": [
    {
     "name": "stdout",
     "output_type": "stream",
     "text": [
      "[ 0 19 39 59 79 99]\n"
     ]
    }
   ],
   "source": [
    "r = 6\n",
    "V_POD = calcPOD(S_POD,r)"
   ]
  },
  {
   "cell_type": "code",
   "execution_count": null,
   "metadata": {},
   "outputs": [],
   "source": [
    "r = 6\n",
    "C = np.transpose(S_POD).dot(S_POD)\n",
    "V_POD = np.zeros([len_h,r])\n",
    "U,Sig,VH = np.linalg.svd(C)\n",
    "VH = np.transpose(VH)\n",
    "for i in range(r):\n",
    "    V_POD[:,i] = 1/(np.sqrt(Sig[i])) * S_POD.dot(VH[:,i])\n"
   ]
  },
  {
   "cell_type": "code",
   "execution_count": null,
   "metadata": {},
   "outputs": [],
   "source": [
    "V_POD[:,0].dot(V_POD[:,0])"
   ]
  },
  {
   "cell_type": "markdown",
   "metadata": {},
   "source": [
    "# Offline decomposition\n",
    "\n",
    "$C_h(\\omega,u,v) = \\int_K(\\nabla \\omega \\cdot u): v$\n",
    "\n",
    "$C0_j = C_h(\\bar{u}_h,\\bar{u}_h,\\phi_j)$\n",
    "\n",
    "$C1_{i,j} = C_h(\\bar{u}_h,\\phi_i,\\phi_j) + C_h(\\phi_i,\\bar{u}_h,\\phi_j)$\n",
    "\n",
    "$C_{i,j,k} = C_h(\\phi_i,\\phi_j,\\phi_k)$\n",
    "\n",
    "\n"
   ]
  },
  {
   "cell_type": "code",
   "execution_count": 21,
   "metadata": {},
   "outputs": [],
   "source": [
    "def Ch_ngsolve(wh,uh,vh):\n",
    "    Ch = 0\n",
    "    u_N = GridFunction(V)\n",
    "    v_N = GridFunction(V)\n",
    "    w_N = GridFunction(V)\n",
    "    w_N.vec.FV().NumPy()[:] = wh\n",
    "    u_N.vec.FV().NumPy()[:] = uh\n",
    "    v_N.vec.FV().NumPy()[:] = vh\n",
    "    mean_dudu = 0.5 * (Grad(u_N)+Grad(u_N.Other()))\n",
    "    #jump_u_N = u_N-u_N.Other()\n",
    "    #mean_uu = 0.5 * (u_N+u_N.Other())\n",
    "    #n = specialcf.normal(mesh.dim)\n",
    "    #print(mean_uu)\n",
    "        \n",
    "    Ch += Integrate(InnerProduct(Grad(w_N)*u_N,v_N),mesh)\n",
    "    #Ch += -Integrate(InnerProduct(mean_uu,n),mesh)\n",
    "    \n",
    "    return Ch"
   ]
  },
  {
   "cell_type": "code",
   "execution_count": 22,
   "metadata": {
    "scrolled": false
   },
   "outputs": [
    {
     "ename": "AttributeError",
     "evalue": "'ngsolve.fem.CoefficientFunction' object has no attribute 'derivname'",
     "output_type": "error",
     "traceback": [
      "\u001b[0;31m---------------------------------------------------------------------------\u001b[0m",
      "\u001b[0;31mAttributeError\u001b[0m                            Traceback (most recent call last)",
      "\u001b[0;32m~/ngsuite/ngsolve-install/lib/python3/dist-packages/ngsolve/utils.py\u001b[0m in \u001b[0;36mGrad\u001b[0;34m(func)\u001b[0m\n\u001b[1;32m     48\u001b[0m     \u001b[0;32mtry\u001b[0m\u001b[0;34m:\u001b[0m\u001b[0;34m\u001b[0m\u001b[0;34m\u001b[0m\u001b[0m\n\u001b[0;32m---> 49\u001b[0;31m         \u001b[0;32mreturn\u001b[0m \u001b[0mfunc\u001b[0m\u001b[0;34m.\u001b[0m\u001b[0mOperator\u001b[0m\u001b[0;34m(\u001b[0m\u001b[0;34m\"Grad\"\u001b[0m\u001b[0;34m)\u001b[0m\u001b[0;34m\u001b[0m\u001b[0;34m\u001b[0m\u001b[0m\n\u001b[0m\u001b[1;32m     50\u001b[0m     \u001b[0;32mexcept\u001b[0m\u001b[0;34m:\u001b[0m\u001b[0;34m\u001b[0m\u001b[0;34m\u001b[0m\u001b[0m\n",
      "\u001b[0;31mAttributeError\u001b[0m: 'ngsolve.fem.CoefficientFunction' object has no attribute 'Operator'",
      "\nDuring handling of the above exception, another exception occurred:\n",
      "\u001b[0;31mAttributeError\u001b[0m                            Traceback (most recent call last)",
      "\u001b[0;32m<ipython-input-22-1aa071bdeb57>\u001b[0m in \u001b[0;36m<module>\u001b[0;34m\u001b[0m\n\u001b[1;32m      4\u001b[0m \u001b[0;32mfor\u001b[0m \u001b[0mi\u001b[0m \u001b[0;32min\u001b[0m \u001b[0mrange\u001b[0m\u001b[0;34m(\u001b[0m\u001b[0mr\u001b[0m\u001b[0;34m)\u001b[0m\u001b[0;34m:\u001b[0m\u001b[0;34m\u001b[0m\u001b[0;34m\u001b[0m\u001b[0m\n\u001b[1;32m      5\u001b[0m     \u001b[0mv\u001b[0m \u001b[0;34m=\u001b[0m \u001b[0mV_POD\u001b[0m\u001b[0;34m[\u001b[0m\u001b[0;34m:\u001b[0m\u001b[0;34m,\u001b[0m\u001b[0mi\u001b[0m\u001b[0;34m]\u001b[0m\u001b[0;34m\u001b[0m\u001b[0;34m\u001b[0m\u001b[0m\n\u001b[0;32m----> 6\u001b[0;31m     \u001b[0mC0\u001b[0m\u001b[0;34m[\u001b[0m\u001b[0mi\u001b[0m\u001b[0;34m]\u001b[0m \u001b[0;34m=\u001b[0m \u001b[0mCh_ngsolve\u001b[0m\u001b[0;34m(\u001b[0m\u001b[0mw\u001b[0m\u001b[0;34m,\u001b[0m\u001b[0mu\u001b[0m\u001b[0;34m,\u001b[0m\u001b[0mv\u001b[0m\u001b[0;34m)\u001b[0m\u001b[0;34m\u001b[0m\u001b[0;34m\u001b[0m\u001b[0m\n\u001b[0m\u001b[1;32m      7\u001b[0m \u001b[0mC0\u001b[0m\u001b[0;34m\u001b[0m\u001b[0;34m\u001b[0m\u001b[0m\n",
      "\u001b[0;32m<ipython-input-21-70a032aef2d2>\u001b[0m in \u001b[0;36mCh_ngsolve\u001b[0;34m(wh, uh, vh)\u001b[0m\n\u001b[1;32m      7\u001b[0m     \u001b[0mu_N\u001b[0m\u001b[0;34m.\u001b[0m\u001b[0mvec\u001b[0m\u001b[0;34m.\u001b[0m\u001b[0mFV\u001b[0m\u001b[0;34m(\u001b[0m\u001b[0;34m)\u001b[0m\u001b[0;34m.\u001b[0m\u001b[0mNumPy\u001b[0m\u001b[0;34m(\u001b[0m\u001b[0;34m)\u001b[0m\u001b[0;34m[\u001b[0m\u001b[0;34m:\u001b[0m\u001b[0;34m]\u001b[0m \u001b[0;34m=\u001b[0m \u001b[0muh\u001b[0m\u001b[0;34m\u001b[0m\u001b[0;34m\u001b[0m\u001b[0m\n\u001b[1;32m      8\u001b[0m     \u001b[0mv_N\u001b[0m\u001b[0;34m.\u001b[0m\u001b[0mvec\u001b[0m\u001b[0;34m.\u001b[0m\u001b[0mFV\u001b[0m\u001b[0;34m(\u001b[0m\u001b[0;34m)\u001b[0m\u001b[0;34m.\u001b[0m\u001b[0mNumPy\u001b[0m\u001b[0;34m(\u001b[0m\u001b[0;34m)\u001b[0m\u001b[0;34m[\u001b[0m\u001b[0;34m:\u001b[0m\u001b[0;34m]\u001b[0m \u001b[0;34m=\u001b[0m \u001b[0mvh\u001b[0m\u001b[0;34m\u001b[0m\u001b[0;34m\u001b[0m\u001b[0m\n\u001b[0;32m----> 9\u001b[0;31m     \u001b[0mmean_dudu\u001b[0m \u001b[0;34m=\u001b[0m \u001b[0;36m0.5\u001b[0m \u001b[0;34m*\u001b[0m \u001b[0;34m(\u001b[0m\u001b[0mGrad\u001b[0m\u001b[0;34m(\u001b[0m\u001b[0mu_N\u001b[0m\u001b[0;34m)\u001b[0m\u001b[0;34m+\u001b[0m\u001b[0mGrad\u001b[0m\u001b[0;34m(\u001b[0m\u001b[0mu_N\u001b[0m\u001b[0;34m.\u001b[0m\u001b[0mOther\u001b[0m\u001b[0;34m(\u001b[0m\u001b[0;34m)\u001b[0m\u001b[0;34m)\u001b[0m\u001b[0;34m)\u001b[0m\u001b[0;34m\u001b[0m\u001b[0;34m\u001b[0m\u001b[0m\n\u001b[0m\u001b[1;32m     10\u001b[0m     \u001b[0;31m#jump_u_N = u_N-u_N.Other()\u001b[0m\u001b[0;34m\u001b[0m\u001b[0;34m\u001b[0m\u001b[0;34m\u001b[0m\u001b[0m\n\u001b[1;32m     11\u001b[0m     \u001b[0;31m#mean_uu = 0.5 * (u_N+u_N.Other())\u001b[0m\u001b[0;34m\u001b[0m\u001b[0;34m\u001b[0m\u001b[0;34m\u001b[0m\u001b[0m\n",
      "\u001b[0;32m~/ngsuite/ngsolve-install/lib/python3/dist-packages/ngsolve/utils.py\u001b[0m in \u001b[0;36mGrad\u001b[0;34m(func)\u001b[0m\n\u001b[1;32m     49\u001b[0m         \u001b[0;32mreturn\u001b[0m \u001b[0mfunc\u001b[0m\u001b[0;34m.\u001b[0m\u001b[0mOperator\u001b[0m\u001b[0;34m(\u001b[0m\u001b[0;34m\"Grad\"\u001b[0m\u001b[0;34m)\u001b[0m\u001b[0;34m\u001b[0m\u001b[0;34m\u001b[0m\u001b[0m\n\u001b[1;32m     50\u001b[0m     \u001b[0;32mexcept\u001b[0m\u001b[0;34m:\u001b[0m\u001b[0;34m\u001b[0m\u001b[0;34m\u001b[0m\u001b[0m\n\u001b[0;32m---> 51\u001b[0;31m         \u001b[0;32mreturn\u001b[0m \u001b[0mgrad\u001b[0m\u001b[0;34m(\u001b[0m\u001b[0mfunc\u001b[0m\u001b[0;34m)\u001b[0m\u001b[0;34m.\u001b[0m\u001b[0mtrans\u001b[0m\u001b[0;34m\u001b[0m\u001b[0;34m\u001b[0m\u001b[0m\n\u001b[0m\u001b[1;32m     52\u001b[0m \u001b[0;34m\u001b[0m\u001b[0m\n\u001b[1;32m     53\u001b[0m \u001b[0;34m\u001b[0m\u001b[0m\n",
      "\u001b[0;32m~/ngsuite/ngsolve-install/lib/python3/dist-packages/ngsolve/utils.py\u001b[0m in \u001b[0;36mgrad\u001b[0;34m(func)\u001b[0m\n\u001b[1;32m     33\u001b[0m     \u001b[0;32mif\u001b[0m \u001b[0;34m\"normal vector\"\u001b[0m \u001b[0;32min\u001b[0m \u001b[0mstr\u001b[0m\u001b[0;34m(\u001b[0m\u001b[0mfunc\u001b[0m\u001b[0;34m)\u001b[0m\u001b[0;34m:\u001b[0m\u001b[0;34m\u001b[0m\u001b[0;34m\u001b[0m\u001b[0m\n\u001b[1;32m     34\u001b[0m         \u001b[0;32mreturn\u001b[0m \u001b[0mspecialcf\u001b[0m\u001b[0;34m.\u001b[0m\u001b[0mWeingarten\u001b[0m\u001b[0;34m(\u001b[0m\u001b[0mfunc\u001b[0m\u001b[0;34m.\u001b[0m\u001b[0mdim\u001b[0m\u001b[0;34m)\u001b[0m\u001b[0;34m\u001b[0m\u001b[0;34m\u001b[0m\u001b[0m\n\u001b[0;32m---> 35\u001b[0;31m     \u001b[0;32mif\u001b[0m \u001b[0mfunc\u001b[0m\u001b[0;34m.\u001b[0m\u001b[0mderivname\u001b[0m \u001b[0;34m==\u001b[0m \u001b[0;34m\"grad\"\u001b[0m\u001b[0;34m:\u001b[0m\u001b[0;34m\u001b[0m\u001b[0;34m\u001b[0m\u001b[0m\n\u001b[0m\u001b[1;32m     36\u001b[0m         \u001b[0;32mreturn\u001b[0m \u001b[0mfunc\u001b[0m\u001b[0;34m.\u001b[0m\u001b[0mDeriv\u001b[0m\u001b[0;34m(\u001b[0m\u001b[0;34m)\u001b[0m\u001b[0;34m\u001b[0m\u001b[0;34m\u001b[0m\u001b[0m\n\u001b[1;32m     37\u001b[0m     \u001b[0madd\u001b[0m \u001b[0;34m=\u001b[0m \u001b[0mfunc\u001b[0m\u001b[0;34m.\u001b[0m\u001b[0mOperator\u001b[0m\u001b[0;34m(\u001b[0m\u001b[0;34m\"grad\"\u001b[0m\u001b[0;34m)\u001b[0m\u001b[0;34m\u001b[0m\u001b[0;34m\u001b[0m\u001b[0m\n",
      "\u001b[0;31mAttributeError\u001b[0m: 'ngsolve.fem.CoefficientFunction' object has no attribute 'derivname'"
     ]
    }
   ],
   "source": [
    "C0 = np.zeros(r)\n",
    "w = ubar\n",
    "u = w \n",
    "for i in range(r):\n",
    "    v = V_POD[:,i]\n",
    "    C0[i] = Ch_ngsolve(w,u,v)\n",
    "C0"
   ]
  },
  {
   "cell_type": "code",
   "execution_count": null,
   "metadata": {},
   "outputs": [],
   "source": [
    "C0"
   ]
  },
  {
   "cell_type": "code",
   "execution_count": null,
   "metadata": {},
   "outputs": [],
   "source": [
    "C = np.zeros([r,r,r])\n",
    "for i in range(r):\n",
    "    w = V_POD[:,i]\n",
    "    for j in range(r):\n",
    "        u = V_POD[:,j]\n",
    "        for k in range(r):\n",
    "            v = V_POD[:,k]\n",
    "            C[i,j,k] = Ch_ngsolve(w,u,v)"
   ]
  },
  {
   "cell_type": "code",
   "execution_count": null,
   "metadata": {},
   "outputs": [],
   "source": [
    "C1 = np.zeros([r,r])\n",
    "for i in range(r):\n",
    "    w = ubar\n",
    "    u = V_POD[:,i]\n",
    "    for j in range(r):\n",
    "        v = V_POD[:,j]\n",
    "        C1[i,j] = Ch_ngsolve(w,u,v)\n",
    "        C1[i,j] += Ch_ngsolve(u,w,v)\n",
    "    "
   ]
  },
  {
   "cell_type": "code",
   "execution_count": null,
   "metadata": {},
   "outputs": [],
   "source": [
    "def Bh_ngsolve(uh,vh):\n",
    "    Bh = 0\n",
    "    n = specialcf.normal(mesh.dim)\n",
    "    u_N = GridFunction(V)\n",
    "    v_N = GridFunction(V)\n",
    "    u_N.vec.FV().NumPy()[:] = uh\n",
    "    v_N.vec.FV().NumPy()[:] = vh\n",
    "    jump_u_N = u_N-u_N.Other()\n",
    "    \n",
    "    Bh += Integrate(InnerProduct(Grad(u_N),Grad(v_N)),mesh) \n",
    "    \n",
    "    return Bh"
   ]
  },
  {
   "cell_type": "code",
   "execution_count": null,
   "metadata": {},
   "outputs": [],
   "source": [
    "B0 = np.zeros(r)\n",
    "u = ubar \n",
    "for i in range(r):\n",
    "    v = V_POD[:,i]\n",
    "    B0[i] = Bh_ngsolve(u,v)"
   ]
  },
  {
   "cell_type": "code",
   "execution_count": null,
   "metadata": {},
   "outputs": [],
   "source": [
    "B1 = np.zeros([r,r])\n",
    "for i in range(r):\n",
    "    u = V_POD[:,i]\n",
    "    for j in range(r):\n",
    "        v = V_POD[:,j]\n",
    "        B1[i,j] = Bh_ngsolve(u,v)"
   ]
  },
  {
   "cell_type": "code",
   "execution_count": null,
   "metadata": {},
   "outputs": [],
   "source": [
    "B1"
   ]
  },
  {
   "cell_type": "code",
   "execution_count": null,
   "metadata": {},
   "outputs": [],
   "source": [
    "def Mh_ngsolve(uh,vh):\n",
    "    Mh = 0\n",
    "    u_N = GridFunction(V)\n",
    "    v_N = GridFunction(V)\n",
    "    u_N.vec.FV().NumPy()[:] = uh\n",
    "    v_N.vec.FV().NumPy()[:] = vh\n",
    "    \n",
    "    Mh += Integrate(InnerProduct(Grad(u_N),Grad(v_N)),mesh)\n",
    "    \n",
    "    return Mh"
   ]
  },
  {
   "cell_type": "code",
   "execution_count": null,
   "metadata": {},
   "outputs": [],
   "source": [
    "M1 = np.zeros([r,r])\n",
    "for i in range(r):\n",
    "    u = V_POD[:,i]\n",
    "    for j in range(r):\n",
    "        v = V_POD[:,j]\n",
    "        M1[i,j] = Mh_ngsolve(u,v)"
   ]
  },
  {
   "cell_type": "code",
   "execution_count": null,
   "metadata": {},
   "outputs": [],
   "source": [
    "M1"
   ]
  },
  {
   "cell_type": "markdown",
   "metadata": {},
   "source": [
    "## Offline decomposition\n",
    "\n",
    "$B_h^{dg}(u,v) = \\sum_{T}\\big(\\int_T \\nabla u : \\nabla v dx \\big) - \\int_{\\partial T} (\\{\\{\\nabla u \\}\\}n) \\cdot tang(v) ds - \\int_{\\partial T} (\\{\\{\\nabla v \\}\\}n) \\cdot tang(u) ds + \\int_{\\partial T} \\frac{4k^2}{h}tang([u]) \\cdot tang([v]) ds$\n",
    "\n",
    "$B0_j = B_h^{dg}(\\bar{u}_h,\\phi_j)$\n",
    "\n",
    "$B1_{i,j} = B_h^{dg}(\\phi_i,\\phi_j)$"
   ]
  },
  {
   "cell_type": "code",
   "execution_count": 15,
   "metadata": {},
   "outputs": [],
   "source": [
    "def tang(vec):\n",
    "    return vec - (vec*n)*n"
   ]
  },
  {
   "cell_type": "code",
   "execution_count": 27,
   "metadata": {},
   "outputs": [],
   "source": [
    "u_N = GridFunction(X)\n",
    "v_N = GridFunction(X)\n",
    "\n",
    "u = u_N.components[0]\n",
    "v = v_N.components[0]\n",
    "\n",
    "#u_N.vec.FV().NumPy()[:] = 0\n",
    "#v_N.vec.FV().NumPy()[:] = 0\n",
    "    \n",
    "test = GridFunction(V)"
   ]
  },
  {
   "cell_type": "code",
   "execution_count": 41,
   "metadata": {},
   "outputs": [
    {
     "ename": "AttributeError",
     "evalue": "'ngsolve.fem.CoefficientFunction' object has no attribute 'derivname'",
     "output_type": "error",
     "traceback": [
      "\u001b[0;31m---------------------------------------------------------------------------\u001b[0m",
      "\u001b[0;31mAttributeError\u001b[0m                            Traceback (most recent call last)",
      "\u001b[0;32m~/ngsuite/ngsolve-install/lib/python3/dist-packages/ngsolve/utils.py\u001b[0m in \u001b[0;36mGrad\u001b[0;34m(func)\u001b[0m\n\u001b[1;32m     48\u001b[0m     \u001b[0;32mtry\u001b[0m\u001b[0;34m:\u001b[0m\u001b[0;34m\u001b[0m\u001b[0;34m\u001b[0m\u001b[0m\n\u001b[0;32m---> 49\u001b[0;31m         \u001b[0;32mreturn\u001b[0m \u001b[0mfunc\u001b[0m\u001b[0;34m.\u001b[0m\u001b[0mOperator\u001b[0m\u001b[0;34m(\u001b[0m\u001b[0;34m\"Grad\"\u001b[0m\u001b[0;34m)\u001b[0m\u001b[0;34m\u001b[0m\u001b[0;34m\u001b[0m\u001b[0m\n\u001b[0m\u001b[1;32m     50\u001b[0m     \u001b[0;32mexcept\u001b[0m\u001b[0;34m:\u001b[0m\u001b[0;34m\u001b[0m\u001b[0;34m\u001b[0m\u001b[0m\n",
      "\u001b[0;31mAttributeError\u001b[0m: 'ngsolve.fem.CoefficientFunction' object has no attribute 'Operator'",
      "\nDuring handling of the above exception, another exception occurred:\n",
      "\u001b[0;31mAttributeError\u001b[0m                            Traceback (most recent call last)",
      "\u001b[0;32m<ipython-input-41-8487172a9bce>\u001b[0m in \u001b[0;36m<module>\u001b[0;34m\u001b[0m\n\u001b[1;32m      6\u001b[0m \u001b[0mh\u001b[0m \u001b[0;34m=\u001b[0m \u001b[0mspecialcf\u001b[0m\u001b[0;34m.\u001b[0m\u001b[0mmesh_size\u001b[0m\u001b[0;34m\u001b[0m\u001b[0;34m\u001b[0m\u001b[0m\n\u001b[1;32m      7\u001b[0m \u001b[0mmean_dudu\u001b[0m \u001b[0;34m=\u001b[0m \u001b[0;36m0.5\u001b[0m\u001b[0;34m*\u001b[0m\u001b[0mn\u001b[0m \u001b[0;34m*\u001b[0m \u001b[0;34m(\u001b[0m\u001b[0mu_N\u001b[0m\u001b[0;34m.\u001b[0m\u001b[0mOther\u001b[0m\u001b[0;34m(\u001b[0m\u001b[0;34m)\u001b[0m\u001b[0;34m)\u001b[0m\u001b[0;34m\u001b[0m\u001b[0;34m\u001b[0m\u001b[0m\n\u001b[0;32m----> 8\u001b[0;31m \u001b[0mmean_dudu\u001b[0m \u001b[0;34m=\u001b[0m \u001b[0;36m0.5\u001b[0m\u001b[0;34m*\u001b[0m\u001b[0mn\u001b[0m \u001b[0;34m*\u001b[0m \u001b[0;34m(\u001b[0m\u001b[0mGrad\u001b[0m\u001b[0;34m(\u001b[0m\u001b[0mu_N\u001b[0m\u001b[0;34m)\u001b[0m\u001b[0;34m+\u001b[0m\u001b[0mGrad\u001b[0m\u001b[0;34m(\u001b[0m\u001b[0mu_N\u001b[0m\u001b[0;34m.\u001b[0m\u001b[0mOther\u001b[0m\u001b[0;34m(\u001b[0m\u001b[0;34m)\u001b[0m\u001b[0;34m)\u001b[0m\u001b[0;34m)\u001b[0m\u001b[0;34m\u001b[0m\u001b[0;34m\u001b[0m\u001b[0m\n\u001b[0m\u001b[1;32m      9\u001b[0m \u001b[0;31m#mean_dvdv = 0.5 * (Grad(v_N)+Grad(v_N.Other()))\u001b[0m\u001b[0;34m\u001b[0m\u001b[0;34m\u001b[0m\u001b[0;34m\u001b[0m\u001b[0m\n\u001b[1;32m     10\u001b[0m \u001b[0;34m\u001b[0m\u001b[0m\n",
      "\u001b[0;32m~/ngsuite/ngsolve-install/lib/python3/dist-packages/ngsolve/utils.py\u001b[0m in \u001b[0;36mGrad\u001b[0;34m(func)\u001b[0m\n\u001b[1;32m     49\u001b[0m         \u001b[0;32mreturn\u001b[0m \u001b[0mfunc\u001b[0m\u001b[0;34m.\u001b[0m\u001b[0mOperator\u001b[0m\u001b[0;34m(\u001b[0m\u001b[0;34m\"Grad\"\u001b[0m\u001b[0;34m)\u001b[0m\u001b[0;34m\u001b[0m\u001b[0;34m\u001b[0m\u001b[0m\n\u001b[1;32m     50\u001b[0m     \u001b[0;32mexcept\u001b[0m\u001b[0;34m:\u001b[0m\u001b[0;34m\u001b[0m\u001b[0;34m\u001b[0m\u001b[0m\n\u001b[0;32m---> 51\u001b[0;31m         \u001b[0;32mreturn\u001b[0m \u001b[0mgrad\u001b[0m\u001b[0;34m(\u001b[0m\u001b[0mfunc\u001b[0m\u001b[0;34m)\u001b[0m\u001b[0;34m.\u001b[0m\u001b[0mtrans\u001b[0m\u001b[0;34m\u001b[0m\u001b[0;34m\u001b[0m\u001b[0m\n\u001b[0m\u001b[1;32m     52\u001b[0m \u001b[0;34m\u001b[0m\u001b[0m\n\u001b[1;32m     53\u001b[0m \u001b[0;34m\u001b[0m\u001b[0m\n",
      "\u001b[0;32m~/ngsuite/ngsolve-install/lib/python3/dist-packages/ngsolve/utils.py\u001b[0m in \u001b[0;36mgrad\u001b[0;34m(func)\u001b[0m\n\u001b[1;32m     33\u001b[0m     \u001b[0;32mif\u001b[0m \u001b[0;34m\"normal vector\"\u001b[0m \u001b[0;32min\u001b[0m \u001b[0mstr\u001b[0m\u001b[0;34m(\u001b[0m\u001b[0mfunc\u001b[0m\u001b[0;34m)\u001b[0m\u001b[0;34m:\u001b[0m\u001b[0;34m\u001b[0m\u001b[0;34m\u001b[0m\u001b[0m\n\u001b[1;32m     34\u001b[0m         \u001b[0;32mreturn\u001b[0m \u001b[0mspecialcf\u001b[0m\u001b[0;34m.\u001b[0m\u001b[0mWeingarten\u001b[0m\u001b[0;34m(\u001b[0m\u001b[0mfunc\u001b[0m\u001b[0;34m.\u001b[0m\u001b[0mdim\u001b[0m\u001b[0;34m)\u001b[0m\u001b[0;34m\u001b[0m\u001b[0;34m\u001b[0m\u001b[0m\n\u001b[0;32m---> 35\u001b[0;31m     \u001b[0;32mif\u001b[0m \u001b[0mfunc\u001b[0m\u001b[0;34m.\u001b[0m\u001b[0mderivname\u001b[0m \u001b[0;34m==\u001b[0m \u001b[0;34m\"grad\"\u001b[0m\u001b[0;34m:\u001b[0m\u001b[0;34m\u001b[0m\u001b[0;34m\u001b[0m\u001b[0m\n\u001b[0m\u001b[1;32m     36\u001b[0m         \u001b[0;32mreturn\u001b[0m \u001b[0mfunc\u001b[0m\u001b[0;34m.\u001b[0m\u001b[0mDeriv\u001b[0m\u001b[0;34m(\u001b[0m\u001b[0;34m)\u001b[0m\u001b[0;34m\u001b[0m\u001b[0;34m\u001b[0m\u001b[0m\n\u001b[1;32m     37\u001b[0m     \u001b[0madd\u001b[0m \u001b[0;34m=\u001b[0m \u001b[0mfunc\u001b[0m\u001b[0;34m.\u001b[0m\u001b[0mOperator\u001b[0m\u001b[0;34m(\u001b[0m\u001b[0;34m\"grad\"\u001b[0m\u001b[0;34m)\u001b[0m\u001b[0;34m\u001b[0m\u001b[0;34m\u001b[0m\u001b[0m\n",
      "\u001b[0;31mAttributeError\u001b[0m: 'ngsolve.fem.CoefficientFunction' object has no attribute 'derivname'"
     ]
    }
   ],
   "source": [
    "u_N = GridFunction(V)\n",
    "v_N = GridFunction(V)\n",
    "\n",
    "\n",
    "test = GridFunction(V)\n",
    "\n",
    "jump_u = u-u.Other()\n",
    "jump_v = v-v.Other()\n",
    "n = specialcf.normal(mesh.dim)\n",
    "h = specialcf.mesh_size\n",
    "mean_dudu = 0.5 * (grad(u)+grad(u.Other()))\n",
    "mean_dvdv = 0.5 * (grad(v)+grad(v.Other()))\n",
    "\n",
    "B_dg = BilinearForm(V)\n",
    "B_dg += (InnerProduct(Grad(u),Grad(v)))*dx \n",
    "B_dg += - (InnerProduct(mean_dudu*n,tang(v)))*ds(skeleton=True)\n",
    "B_dg += - (InnerProduct(mean_dvdv*n,tang(u)))*ds(skeleton=True)\n",
    "B_dg += ((4*k*k)/h*(InnerProduct(tang(jump_u),tang(jump_v))))*ds(skeleton=True)"
   ]
  },
  {
   "cell_type": "code",
   "execution_count": 83,
   "metadata": {},
   "outputs": [],
   "source": [
    "u_N = GridFunction(V)\n",
    "v_N = V.TestFunction()\n",
    "\n",
    "jump_u = u_N-u_N.Other()\n",
    "jump_v = v_N-v_N.Other()\n",
    "n = specialcf.normal(mesh.dim)\n",
    "h = specialcf.mesh_size\n",
    "\n",
    "B_hdg = LinearForm(V)\n",
    "B_hdg += (InnerProduct(Grad(u_N),Grad(v_N)))*dx\n",
    "B_hdg += -(InnerProduct(Grad(u_N)*n,jump_v))*ds(skeleton=True)\n",
    "B_hdg += -(InnerProduct(Grad(v_N)*n,jump_u))*ds(skeleton=True)\n",
    "B_hdg += ((4*k*k*jump_u*jump_v)/h)*ds(skeleton=True)"
   ]
  },
  {
   "cell_type": "code",
   "execution_count": 88,
   "metadata": {},
   "outputs": [
    {
     "name": "stdout",
     "output_type": "stream",
     "text": [
      "0.060392607235387766\n"
     ]
    }
   ],
   "source": [
    "u_N.vec.FV().NumPy()[:] = V_POD[:,5]\n",
    "#v_N.vec.FV().NumPy()[:] = V_POD[:,1]\n",
    "#B_hdg.Apply(u_N.vec,res)\n",
    "B_hdg.Assemble()\n",
    "\n",
    "print(Integrate(InnerProduct(B_hdg.vec,B_hdg.vec),mesh))"
   ]
  },
  {
   "cell_type": "code",
   "execution_count": null,
   "metadata": {},
   "outputs": [],
   "source": [
    "u_N = test.vec.CreateVector()\n",
    "v_N = test.vec.CreateVector()\n",
    "res = test.vec.CreateVector()\n",
    "\n",
    "B0 = np.zeros(r)\n",
    "u_N.vec = V_POD[:,1]\n",
    "for i in range(r):\n",
    "    v_N.vec = V_POD[:,i]\n",
    "    B_dg.Apply(u_N,res)\n",
    "    #B0[i] = Integrate(InnerProduct(res,res),mesh)\n",
    "    print(res)\n",
    "    #B_dg.Assemble()\n",
    "    #rows,cols,vals = B_dg.mat.COO()\n",
    "    #Bh = sp.csr_matrix((vals,(rows,cols)))\n",
    "    #B_dg.Apply(u_N,v_N,res)\n",
    "    \n",
    "    \n",
    "    #B0[i] = Integrate(InnerProduct(res,res),mesh)\n"
   ]
  },
  {
   "cell_type": "code",
   "execution_count": null,
   "metadata": {},
   "outputs": [],
   "source": [
    "print(Bh)"
   ]
  },
  {
   "cell_type": "code",
   "execution_count": null,
   "metadata": {},
   "outputs": [],
   "source": [
    "B1 = np.zeros([r,r]) \n",
    "for i in range(r):\n",
    "    v_N.vec = V_POD[:,i]\n",
    "    for j in range(r):\n",
    "        v_N.vec = V_POD[:,j]\n",
    "        B_dg.Apply(u_N,v_N)\n",
    "        B_dg.Assemble()\n",
    "        rows,cols,vals = B_dg.mat.COO()\n",
    "        Bh = sp.csr_matrix((vals,(rows,cols)))\n",
    "        B1[i,j] = norm(Bh,1)\n"
   ]
  },
  {
   "cell_type": "code",
   "execution_count": null,
   "metadata": {},
   "outputs": [],
   "source": [
    "B1"
   ]
  },
  {
   "cell_type": "markdown",
   "metadata": {},
   "source": [
    "$C_h(\\omega,u,v) = -\\frac{1}{2} \\bigg(\\int_T(\\nabla \\omega \\cdot u): v - \\int_{\\partial T} (\\omega \\cdot n)(\\{\\{u\\}\\}\\cdot v)ds\\bigg)$\n",
    "\n",
    "$C0_j = C_h(\\bar{u}_h,\\bar{u}_h,\\phi_j)$\n",
    "\n",
    "$C1_{i,j} = C_h(\\bar{u}_h,\\phi_i,\\phi_j) + C_h(\\phi_i,\\bar{u}_h,\\phi_j)$\n",
    "\n",
    "$C_{i,j,k} = C_h(\\phi_i,\\phi_j,\\phi_k)$"
   ]
  },
  {
   "cell_type": "code",
   "execution_count": 23,
   "metadata": {},
   "outputs": [],
   "source": [
    "u = V.TrialFunction()\n",
    "w = V.TrialFunction()\n",
    "v = V.TrialFunction()\n",
    "test = GridFunction(V)\n",
    "\n",
    "jump_u = u-u.Other()\n",
    "n = specialcf.normal(mesh.dim)\n",
    "mean_uu = 0.5 * (u+u.Other())\n",
    "\n",
    "\n",
    "C_dg = BilinearForm(V)\n",
    "C_dg += (InnerProduct(Grad(w)*u,v))*dx\n",
    "C_dg += - (InnerProduct(w * n,mean_uu * v))*ds(skeleton=True)\n"
   ]
  },
  {
   "cell_type": "code",
   "execution_count": null,
   "metadata": {},
   "outputs": [],
   "source": [
    "C_dg.Assemble()\n",
    "rows,cols,vals = C_dg.mat.COO()\n",
    "Ch = sp.csr_matrix((vals,(rows,cols)))"
   ]
  },
  {
   "cell_type": "code",
   "execution_count": null,
   "metadata": {},
   "outputs": [],
   "source": [
    "print(Ch)"
   ]
  },
  {
   "cell_type": "markdown",
   "metadata": {},
   "source": [
    "# RedBasis NavierStokes"
   ]
  },
  {
   "cell_type": "code",
   "execution_count": null,
   "metadata": {},
   "outputs": [],
   "source": [
    "gfu_N = GridFunction(V)\n",
    "gfu = GridFunction(V)\n",
    "gfu_N.vec.FV().NumPy()[:] = erg_h[:,0]\n",
    "gfu.vec.FV().NumPy()[:] = erg_h[:,0]\n",
    "\n",
    "uN = np.array(gfu_N.vec).dot(V_POD)\n",
    "velocity_N = gfu_N.components[0]\n",
    "Draw(gfu_N.components[0],mesh,\"gfu_N\",sd=3)\n",
    "Draw(gfu_N.components[0]-gfu.components[0],mesh,\"error\",sd=3)\n",
    "err = res.CreateVector()"
   ]
  },
  {
   "cell_type": "code",
   "execution_count": null,
   "metadata": {},
   "outputs": [],
   "source": [
    "dt = 0.0001\n",
    "dn = 10/dt\n",
    "Residium = []\n",
    "time = []\n",
    "erg_N = np.zeros([len(gfu_N.vec),int(dn)+1])\n",
    "erg_N[:,0] = gfu_N.vec\n",
    "\n",
    "I = np.eye(r)\n",
    "MN_star = M1 + 0.5*dt*nu*B1\n",
    "inv_N = np.linalg.inv(MN_star)\n",
    "for i in range(int(dn)):\n",
    "    #err.vec = sqrt (Integrate ((gfu.components[0]-gfu_N.components[0])*(gfu.components[0]-gfu_N.components[0]),mesh))\n",
    "    \n",
    "    res_N = C0 + C1.dot(uN) + uN.dot(C.dot(uN)) + nu*B0 + 0.5*nu*B1.dot(uN)\n",
    "    uN -= dt * inv_N.dot(res_N)\n",
    "    #erg_N[:,i+1] = (uN).dot(np.transpose(V_POD))\n",
    "    \n",
    "    \n",
    "    #gfu.vec.FV().NumPy()[:] = erg_h[:,i+1]\n",
    "    gfu_N.vec.FV().NumPy()[:] = (uN).dot(np.transpose(V_POD))\n",
    "    #Residium.append(err.vec)\n",
    "    #time.append(dt*i)\n",
    "    Redraw()"
   ]
  },
  {
   "cell_type": "code",
   "execution_count": null,
   "metadata": {},
   "outputs": [],
   "source": [
    "Residium"
   ]
  },
  {
   "cell_type": "code",
   "execution_count": null,
   "metadata": {},
   "outputs": [],
   "source": [
    "M1"
   ]
  },
  {
   "cell_type": "code",
   "execution_count": null,
   "metadata": {},
   "outputs": [],
   "source": []
  }
 ],
 "metadata": {
  "kernelspec": {
   "display_name": "Python 3",
   "language": "python",
   "name": "python3"
  },
  "language_info": {
   "codemirror_mode": {
    "name": "ipython",
    "version": 3
   },
   "file_extension": ".py",
   "mimetype": "text/x-python",
   "name": "python",
   "nbconvert_exporter": "python",
   "pygments_lexer": "ipython3",
   "version": "3.7.5"
  }
 },
 "nbformat": 4,
 "nbformat_minor": 4
}
