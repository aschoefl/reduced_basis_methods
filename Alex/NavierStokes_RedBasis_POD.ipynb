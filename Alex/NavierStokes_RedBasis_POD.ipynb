{
 "cells": [
  {
   "cell_type": "markdown",
   "metadata": {},
   "source": [
    "# Navier Stokes Equation Reduced Basis Method \n",
    "Incompressible timedependet Navier Stokes equation\n",
    "\n",
    "Find $(u,p):[0,T] \\to (H_{0,D}^1)^d \\times L^2$, s.t.\n",
    "\n",
    "\\begin{align}\n",
    "\\int_{\\Omega} \\partial_t u \\cdot v + \\int_{\\Omega} \\nu \\nabla u \\nabla v + u \\cdot \\nabla u v - \\int_{\\Omega} \\operatorname{div}(v) p &= \\int f v  && \\forall v \\in (H_{0,D}^1)^d, \\\\ \n",
    "- \\int_{\\Omega} \\operatorname{div}(u) q &= 0 && \\forall q \\in L^2, \\\\\n",
    "\\quad u(t=0) & = u_0\n",
    "\\end{align}"
   ]
  },
  {
   "cell_type": "code",
   "execution_count": 1,
   "metadata": {},
   "outputs": [],
   "source": [
    "from netgen import gui\n",
    "from ngsolve import *\n",
    "from netgen.geom2d import SplineGeometry\n",
    "import scipy.sparse as sp\n",
    "import numpy as np\n",
    "from math import pi"
   ]
  },
  {
   "cell_type": "code",
   "execution_count": 2,
   "metadata": {},
   "outputs": [],
   "source": [
    "from netgen.geom2d import SplineGeometry\n",
    "geo = SplineGeometry()\n",
    "geo.AddRectangle( (0, 0), (2, 0.41), bcs = (\"wall\", \"outlet\", \"wall\", \"inlet\"))\n",
    "geo.AddCircle ( (0.2, 0.2), r=0.05, leftdomain=0, rightdomain=1, bc=\"cyl\")\n",
    "mesh = Mesh( geo.GenerateMesh(maxh=0.08))\n",
    "mesh.Curve(3)\n",
    "Draw(mesh)\n",
    "# viscosity\n",
    "nu = 0.001\n",
    "dt = 0.001\n",
    "\n",
    "T = 1\n",
    "dn = int(T/dt)\n",
    "z = 100  # Number of snapshots"
   ]
  },
  {
   "cell_type": "code",
   "execution_count": 3,
   "metadata": {},
   "outputs": [],
   "source": [
    "k = 3\n",
    "V = VectorH1(mesh,order=k, dirichlet=\"wall|cyl|inlet\")\n",
    "Q = H1(mesh,order=k-1)\n",
    "X = FESpace([V,Q])"
   ]
  },
  {
   "cell_type": "code",
   "execution_count": 4,
   "metadata": {},
   "outputs": [],
   "source": [
    "gfu_N = GridFunction(X)\n",
    "gfu = GridFunction(X)\n",
    "velocity = gfu.components[0]\n",
    "\n",
    "\n",
    "uin = CoefficientFunction((1.5*4*y*(0.41-y)/(0.41*0.41),0))\n",
    "gfu.components[0].Set(uin, definedon=mesh.Boundaries(\"inlet\"))\n",
    "\n",
    "Draw(gfu.components[0],mesh,\"gfu\",sd=3)"
   ]
  },
  {
   "cell_type": "code",
   "execution_count": 5,
   "metadata": {},
   "outputs": [],
   "source": [
    "(u,p), (v,q) = X.TnT()\n",
    "\n",
    "a = BilinearForm(X)\n",
    "stokes = (nu*InnerProduct(grad(u),grad(v))-div(u)*q-div(v)*p)*dx\n",
    "a += stokes\n",
    "a.Assemble()\n",
    "\n",
    "f = LinearForm(X)\n",
    "f.Assemble()\n",
    "\n",
    "inv_stokes = a.mat.Inverse(X.FreeDofs())\n",
    "\n",
    "res = f.vec.CreateVector()\n",
    "res.data = f.vec - a.mat*gfu.vec\n",
    "gfu.vec.data += inv_stokes * res"
   ]
  },
  {
   "cell_type": "code",
   "execution_count": 6,
   "metadata": {},
   "outputs": [],
   "source": [
    "# matrix for implicit part of IMEX(1) scheme:\n",
    "mstar = BilinearForm(X)\n",
    "\n",
    "mstar += InnerProduct(u,v)*dx + dt*stokes\n",
    "\n",
    "mstar.Assemble()\n",
    "\n",
    "mh = BilinearForm(X)\n",
    "\n",
    "mh += InnerProduct(u,v)*dx\n",
    "mh.Assemble()\n",
    "\n",
    "inv = mstar.mat.Inverse(X.FreeDofs())\n",
    "\n",
    "\n",
    "conv = LinearForm(X)\n",
    "conv += InnerProduct(grad(velocity)*velocity,v)*dx"
   ]
  },
  {
   "cell_type": "code",
   "execution_count": 7,
   "metadata": {},
   "outputs": [],
   "source": [
    "rows,cols,vals = a.mat.COO()\n",
    "Ah = sp.csr_matrix((vals,(rows,cols)))\n",
    "Fh = f.vec\n",
    "rows,cols,vals = mh.mat.COO()\n",
    "Mh = sp.csr_matrix((vals,(rows,cols)))"
   ]
  },
  {
   "cell_type": "code",
   "execution_count": 8,
   "metadata": {},
   "outputs": [],
   "source": [
    "t = 0\n",
    "tend = 0\n",
    "erg_h = np.zeros([len(gfu.vec),int(dn)+1])\n",
    "conv_h = np.zeros([len(gfu.vec),int(dn)])\n",
    "V = np.zeros([len(gfu.vec),z]) # creat the orthogonal transformationsmatrix for the reducebasis method\n",
    "line = np.linspace(0,dn-1,z) # stors the number of linear distributed number of iteration from the solution\n",
    "S_POD = np.zeros([len(gfu.vec),z])\n",
    "#line = np.linspace(0,z,z) # stors the number of linear distributed number of iteration from the solution\n",
    "#line"
   ]
  },
  {
   "cell_type": "markdown",
   "metadata": {},
   "source": [
    "$\n",
    "M\\bigg(\\frac{u^{n+1}-u^n}{k}\\bigg) + A u^{n+1} +C u^{n} = 0\n",
    "$\n",
    "\n",
    "$\n",
    "M^*\\bigg(u^{n+1}-u^n\\bigg) = -k A u^n - k Cu^n\n",
    "$\n",
    "\n",
    "$\n",
    "M^* = M + kA \n",
    "$"
   ]
  },
  {
   "cell_type": "code",
   "execution_count": 9,
   "metadata": {},
   "outputs": [],
   "source": [
    "# implicit Euler/explicit Euler splitting method:\n",
    "erg_h[:,0] = gfu.vec\n",
    "S_POD[:,0] = gfu.vec\n",
    "o = 1\n",
    "e = int(line[o])\n",
    "for i in range(int(dn)):\n",
    "    conv.Assemble()\n",
    "    res.data = a.mat * gfu.vec + conv.vec\n",
    "    gfu.vec.data -= dt * inv * res\n",
    "    \n",
    "    for r in line:\n",
    "        if int(r) == i: #desided which solution will be orthogonalirsed\n",
    "            if i > 0:\n",
    "                S_POD[:,o] = gfu.vec\n",
    "                o = o + 1\n",
    "    erg_h[:,i+1] = gfu.vec #stores the solution for comparing later\n",
    "    t = t + dt\n",
    "    Redraw()"
   ]
  },
  {
   "cell_type": "markdown",
   "metadata": {},
   "source": [
    "## POD method\n",
    "A other way to get the transforamtions matrix is the POD method.\n",
    "gifen $\\mathbb{F} = \\{u_h^0,u_h^1,...u_h^{S-1}\\}$ where $S$ ist the number of snapshots.\n",
    "\n",
    "$\n",
    "C = \\mathbb{F}^T\\mathbb{F}\\\\\n",
    "$\n",
    "\n",
    "$\n",
    "C \\in \\mathbb{R}^{S \\times S}\n",
    "$\n",
    "\n",
    "and solve the eigenwalueproblem\n",
    "\n",
    "$\n",
    "C\\Omega = \\Omega\\Lambda\\\\\n",
    "\\Lambda = diag[\\lambda_0,...,\\lambda_{S-1}], \\Omega = [\\omega^0,...,\\omega^{S-1}]\n",
    "$\n",
    "\n",
    "$\\lambda_i$ is the $i$th eigenvalue and $\\omega^i$ is the corresponding normalized $i$th eigenvector\n",
    "\n",
    "For a integer $r<<S$ given the $r$th POD basis like:\n",
    "\n",
    "$\n",
    "\\phi_j = \\frac{1}{\\sqrt{\\lambda_j}}\\sum_{n=0}^{r-1}\\omega^j_nu_h^n, \\,\\,\\,\\,\\,\\,\\,\\, j = 0,...,r-1\n",
    "$\n",
    "\n",
    "Frage:\n",
    "For $j=0$  and $r = 3$ the expression becomes to:\n",
    "\n",
    "$\n",
    "\\phi_0 = \\frac{1}{\\sqrt{\\lambda_0}}\\bigg[\\omega_0^0 \\cdot u_h^0 + \\omega_1^0 \\cdot u_h^1 +\\omega_2^0 \\cdot u_h^2\\bigg]\n",
    "$\n",
    "\n",
    "So $\\phi \\in \\mathbb{R}^{r\\times N_h}$\n",
    "\n",
    "To get a orthogonal basis $V = \\{\\phi_0,...\\phi_{r-1}\\}$"
   ]
  },
  {
   "cell_type": "code",
   "execution_count": null,
   "metadata": {},
   "outputs": [],
   "source": [
    "def POD(S,r):\n",
    "    #V = np.zeros([len(gfu.vec),r])\n",
    "    ubar = np.zeros(r)\n",
    "    #splitting the snapshotsolution like in the paper\n",
    "    for i in range(S.shape[1]):\n",
    "        mean = 0\n",
    "        for j in range(S.shape[1]):\n",
    "            mean += S[j,i]\n",
    "        mean = 1/S.shape[1] * mean  \n",
    "        \n",
    "        if i < r:\n",
    "            ubar[i] = mean\n",
    "                        \n",
    "        S[:,i] = S[:,i] - mean\n",
    "\n",
    "\n",
    "    \n",
    "    if S.shape[1] <= S.shape[0]:\n",
    "        C = np.transpose(S).dot(S)\n",
    "        U, Sig, VH = np.linalg.svd(C, full_matrices=True)\n",
    "        V = U[:,0:r]\n",
    "        #lam,omg = np.linalg.eigh(C)\n",
    "        #for j in range(r):\n",
    "        #    for i in range(r):\n",
    "        #        V[:,j] += omg[i,j]*S[:,j]\n",
    "        #    V[:,j] = 1/np.sqrt(lam[i]) * V[:,j]\n",
    "        \n",
    "        \n",
    "        \n",
    "        #for i in range(r):\n",
    "        #    V[:,i] = 1/np.sqrt(lam[i]) * S.dot(omg[:,i])\n",
    "        #V = V[0:r,0:r]\n",
    "        #S = S[0:r,0:r]\n",
    "        #for i in range(r):\n",
    "        #    for j in range(r):\n",
    "        #        V[:,i] += omg[j,i]*S[:,j]\n",
    "        #    V[:,i] = 1/np.sqrt(lam[i]) * V[:,i]\n",
    "        \n",
    "        #U, Sig, VH = np.linalg.svd(C, full_matrices=True)\n",
    "        #VH = np.transpose(VH)\n",
    "        #S_N = S[0:r,0:r]\n",
    "        #print(S_N)\n",
    "        \n",
    "        #for j in range(r):\n",
    "        #    for i in range(r):\n",
    "        #        V[:,j] += VH[i,j]*S[:,i]\n",
    "        #    V[:,j] = 1/np.sqrt(Sig[j]) * V[:,j]\n",
    "            \n",
    "        #for i in range(S_N.shape[1]):\n",
    "        #    V[:,i] = 1/np.sqrt(Sig[i]) * S_N.dot(VH_N[:,i])\n",
    "        \n",
    "        \n",
    "    return V,ubar#,Sig,ubar"
   ]
  },
  {
   "cell_type": "code",
   "execution_count": null,
   "metadata": {},
   "outputs": [],
   "source": [
    "r = 6\n",
    "#V,Sig,ubar = POD_pap(S_POD,r)\n",
    "V,ubar = POD(S_POD,r)\n",
    "#print(V[:,0].dot(V[:,0]))\n",
    "ubar"
   ]
  },
  {
   "cell_type": "code",
   "execution_count": null,
   "metadata": {},
   "outputs": [],
   "source": [
    "print(V[:,0].dot(V[:,0]))\n",
    "print(V.shape)"
   ]
  },
  {
   "cell_type": "markdown",
   "metadata": {},
   "source": [
    "# Offline decomposition\n",
    "\n",
    "$C_h(\\omega,u,v) = \\int_K(\\omega \\otimes u): \\nabla v$\n",
    "\n",
    "$C0_j = C_h(\\bar{u}_h,\\bar{u}_h,\\phi_j)$\n",
    "\n",
    "$\\bar{u}_h = \\frac{1}{S}\\sum_{n=0}^{S-1}u_h^n$ is the mean walue "
   ]
  },
  {
   "cell_type": "code",
   "execution_count": null,
   "metadata": {},
   "outputs": [],
   "source": [
    "def Ch(wh,uh,vh):\n",
    "    return np.linalg.norm(np.inner(np.outer(wh,uh),np.gradient(vh)))\n",
    "    "
   ]
  },
  {
   "cell_type": "code",
   "execution_count": null,
   "metadata": {
    "scrolled": false
   },
   "outputs": [],
   "source": [
    "C0 = np.zeros(r)\n",
    "w = ubar\n",
    "u = w \n",
    "for i in range(r):\n",
    "    v = V[:,i]\n",
    "    #print(v)\n",
    "    #print(np.gradient(v))\n",
    "    #C0[i] = np.linalg.norm(np.inner(np.outer(w,u),np.gradient(v)))\n",
    "#w = \n",
    "#v = np.array([1,0,-2,2,1,3])\n",
    "#w = np.array([[3],[0],[-1],[-2],[1],[-3]])\n",
    "#u = np.array([[-3],[5],[-1],[-2],[-1],[-3]])\n",
    "#np.inner(np.outer(w,u),np.gradient(v))\n",
    "#np.gradient(v)"
   ]
  },
  {
   "cell_type": "code",
   "execution_count": null,
   "metadata": {},
   "outputs": [],
   "source": [
    "C = np.zeros([r,r,r])\n",
    "for i in range(r):\n",
    "    w = V[:,i]\n",
    "    for j in range(r):\n",
    "        u = V[:,j]\n",
    "        for k in range(r):\n",
    "            v = V[:,k]\n",
    "            C[i,j,k] = Ch(w,u,v)\n",
    "            \n",
    "C1 = np.zeros([r,r])\n",
    "for i in range(r):\n",
    "    w = ubar[i]\n",
    "    u = V[:,i]\n",
    "    for j in range(r):\n",
    "        v = V[:,j]\n",
    "        C[i,j] = Ch(w,u,v)\n",
    "        C[i,j] += Ch(u,w,v)\n",
    "    "
   ]
  },
  {
   "cell_type": "code",
   "execution_count": null,
   "metadata": {},
   "outputs": [],
   "source": [
    "C[0,:,:]"
   ]
  },
  {
   "cell_type": "code",
   "execution_count": null,
   "metadata": {},
   "outputs": [],
   "source": [
    "C[1,:,:]"
   ]
  },
  {
   "cell_type": "code",
   "execution_count": null,
   "metadata": {},
   "outputs": [],
   "source": []
  }
 ],
 "metadata": {
  "kernelspec": {
   "display_name": "Python 3",
   "language": "python",
   "name": "python3"
  },
  "language_info": {
   "codemirror_mode": {
    "name": "ipython",
    "version": 3
   },
   "file_extension": ".py",
   "mimetype": "text/x-python",
   "name": "python",
   "nbconvert_exporter": "python",
   "pygments_lexer": "ipython3",
   "version": "3.7.5"
  }
 },
 "nbformat": 4,
 "nbformat_minor": 4
}
