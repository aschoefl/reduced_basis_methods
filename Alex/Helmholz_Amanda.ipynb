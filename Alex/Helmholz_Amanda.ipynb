{
 "cells": [
  {
   "cell_type": "code",
   "execution_count": 13,
   "metadata": {},
   "outputs": [],
   "source": [
    "import netgen.gui\n",
    "from ngsolve import *\n",
    "from netgen.geom2d import unit_square\n",
    "import numpy as np\n",
    "from math import pi"
   ]
  },
  {
   "cell_type": "code",
   "execution_count": 14,
   "metadata": {},
   "outputs": [],
   "source": [
    "mesh = Mesh(unit_square.GenerateMesh(maxh=0.2))\n",
    "fes = H1(mesh, order=3, dirichlet='t|b|l|r')\n",
    "u,v =fes.TnT()"
   ]
  },
  {
   "cell_type": "code",
   "execution_count": 15,
   "metadata": {},
   "outputs": [],
   "source": [
    "x_0 = 0.5\n",
    "y_0 = 0.5\n",
    "maxind = 20\n",
    "omega = []\n",
    "sigma_sqared = 0.01\n",
    "factor = 10\n",
    "\n",
    "f = LinearForm(fes)\n",
    "f += exp(-factor*((x-x_0)**2/(2*sigma_sqared) + (y-y_0)**2/(2*sigma_sqared)))* v * dx\n",
    "f.Assemble()"
   ]
  },
  {
   "cell_type": "code",
   "execution_count": 16,
   "metadata": {},
   "outputs": [],
   "source": [
    "for i in range(0,maxind):\n",
    "    omega.append((i)*0.005*(20*pi)+60)"
   ]
  },
  {
   "cell_type": "code",
   "execution_count": 17,
   "metadata": {},
   "outputs": [],
   "source": [
    "norm_of_solutions = [] # sqared l2 norm actually\n",
    "V = []\n",
    "z = GridFunction(fes)\n",
    "tmp = GridFunction(fes)\n",
    "for w in omega:\n",
    "    a = BilinearForm(fes)\n",
    "    a += (grad(u)*grad(v) - w*w *u*v) * dx\n",
    "    a.Assemble()\n",
    "    gfu = GridFunction(fes)\n",
    "    gfu.vec.data = a.mat.Inverse(fes.FreeDofs(), inverse=\"sparsecholesky\") * f.vec\n",
    "    nof = Integrate(gfu*gfu, mesh)\n",
    "    norm_of_solutions += [nof]\n",
    "    if V==[]:\n",
    "        z.vec.data = gfu.vec.data\n",
    "    else:\n",
    "        tmp.Set(0)\n",
    "        for zeta in V:   \n",
    "            a = Integrate(zeta*zeta+grad(zeta)*grad(zeta), mesh)\n",
    "            b = Integrate(gfu*zeta + grad(gfu)*grad(zeta), mesh)\n",
    "            ## attention: multiplication with scalar only allowed from left side\n",
    "            tmp.vec.data += float(Integrate(gfu*zeta + grad(gfu)*grad(zeta), mesh)/\n",
    "                    Integrate(zeta*zeta+grad(zeta)*grad(zeta), mesh))*zeta.vec.data \n",
    "        z.vec.data = gfu.vec.data-tmp.vec.data\n",
    "    z.vec.data = float(1./sqrt(Integrate(z*z+grad(z)*grad(z), mesh)))*z.vec.data\n",
    "    V += [z]"
   ]
  },
  {
   "cell_type": "code",
   "execution_count": 22,
   "metadata": {},
   "outputs": [
    {
     "name": "stdout",
     "output_type": "stream",
     "text": [
      "1.0000000000000007\n",
      "1.0000000000000007\n",
      "1.0000000000000007\n",
      "1.0000000000000007\n",
      "1.0000000000000007\n",
      "1.0000000000000007\n",
      "1.0000000000000007\n",
      "1.0000000000000007\n",
      "1.0000000000000007\n",
      "1.0000000000000007\n",
      "1.0000000000000007\n",
      "1.0000000000000007\n",
      "1.0000000000000007\n",
      "1.0000000000000007\n",
      "1.0000000000000007\n",
      "1.0000000000000007\n",
      "1.0000000000000007\n",
      "1.0000000000000007\n",
      "1.0000000000000007\n",
      "1.0000000000000007\n",
      "[<ngsolve.comp.GridFunction object at 0x7f41bee3f570>, <ngsolve.comp.GridFunction object at 0x7f41bee3f570>, <ngsolve.comp.GridFunction object at 0x7f41bee3f570>, <ngsolve.comp.GridFunction object at 0x7f41bee3f570>, <ngsolve.comp.GridFunction object at 0x7f41bee3f570>, <ngsolve.comp.GridFunction object at 0x7f41bee3f570>, <ngsolve.comp.GridFunction object at 0x7f41bee3f570>, <ngsolve.comp.GridFunction object at 0x7f41bee3f570>, <ngsolve.comp.GridFunction object at 0x7f41bee3f570>, <ngsolve.comp.GridFunction object at 0x7f41bee3f570>, <ngsolve.comp.GridFunction object at 0x7f41bee3f570>, <ngsolve.comp.GridFunction object at 0x7f41bee3f570>, <ngsolve.comp.GridFunction object at 0x7f41bee3f570>, <ngsolve.comp.GridFunction object at 0x7f41bee3f570>, <ngsolve.comp.GridFunction object at 0x7f41bee3f570>, <ngsolve.comp.GridFunction object at 0x7f41bee3f570>, <ngsolve.comp.GridFunction object at 0x7f41bee3f570>, <ngsolve.comp.GridFunction object at 0x7f41bee3f570>, <ngsolve.comp.GridFunction object at 0x7f41bee3f570>, <ngsolve.comp.GridFunction object at 0x7f41bee3f570>]\n"
     ]
    }
   ],
   "source": [
    "j = 0\n",
    "for zeta in V:\n",
    "    print(Integrate(zeta*zeta+grad(zeta)*grad(zeta), mesh))"
   ]
  },
  {
   "cell_type": "code",
   "execution_count": 31,
   "metadata": {},
   "outputs": [
    {
     "ename": "TypeError",
     "evalue": "list indices must be integers or slices, not tuple",
     "output_type": "error",
     "traceback": [
      "\u001b[0;31m---------------------------------------------------------------------------\u001b[0m",
      "\u001b[0;31mTypeError\u001b[0m                                 Traceback (most recent call last)",
      "\u001b[0;32m<ipython-input-31-cc8ac788b090>\u001b[0m in \u001b[0;36m<module>\u001b[0;34m\u001b[0m\n\u001b[0;32m----> 1\u001b[0;31m \u001b[0mprint\u001b[0m\u001b[0;34m(\u001b[0m\u001b[0mV\u001b[0m\u001b[0;34m[\u001b[0m\u001b[0;36m1\u001b[0m\u001b[0;34m,\u001b[0m\u001b[0;36m1\u001b[0m\u001b[0;34m]\u001b[0m\u001b[0;34m)\u001b[0m\u001b[0;34m\u001b[0m\u001b[0;34m\u001b[0m\u001b[0m\n\u001b[0m",
      "\u001b[0;31mTypeError\u001b[0m: list indices must be integers or slices, not tuple"
     ]
    }
   ],
   "source": [
    "print(V[1,1])"
   ]
  },
  {
   "cell_type": "code",
   "execution_count": null,
   "metadata": {},
   "outputs": [],
   "source": []
  }
 ],
 "metadata": {
  "kernelspec": {
   "display_name": "Python 3",
   "language": "python",
   "name": "python3"
  },
  "language_info": {
   "codemirror_mode": {
    "name": "ipython",
    "version": 3
   },
   "file_extension": ".py",
   "mimetype": "text/x-python",
   "name": "python",
   "nbconvert_exporter": "python",
   "pygments_lexer": "ipython3",
   "version": "3.6.8"
  }
 },
 "nbformat": 4,
 "nbformat_minor": 4
}
