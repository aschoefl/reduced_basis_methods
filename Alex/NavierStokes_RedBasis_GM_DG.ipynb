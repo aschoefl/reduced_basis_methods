{
 "cells": [
  {
   "cell_type": "markdown",
   "metadata": {},
   "source": [
    "# Navier Stokes Equation Reduced Basis Method \n",
    "Incompressible timedependet Navier Stokes equation\n",
    "\n",
    "Find $(u,p):[0,T] \\to (H_{0,D}^1)^d \\times L^2$, s.t.\n",
    "\n",
    "\\begin{align}\n",
    "\\int_{\\Omega} \\partial_t u \\cdot v + \\int_{\\Omega} \\nu \\nabla u \\nabla v + u \\cdot \\nabla u v - \\int_{\\Omega} \\operatorname{div}(v) p &= \\int f v  && \\forall v \\in (H_{0,D}^1)^d, \\\\ \n",
    "- \\int_{\\Omega} \\operatorname{div}(u) q &= 0 && \\forall q \\in L^2, \\\\\n",
    "\\quad u(t=0) & = u_0\n",
    "\\end{align}"
   ]
  },
  {
   "cell_type": "code",
   "execution_count": 1,
   "metadata": {},
   "outputs": [],
   "source": [
    "from netgen import gui\n",
    "from ngsolve import *\n",
    "from netgen.geom2d import SplineGeometry\n",
    "import scipy.sparse as sp\n",
    "import numpy as np\n",
    "from math import pi"
   ]
  },
  {
   "cell_type": "code",
   "execution_count": 2,
   "metadata": {},
   "outputs": [],
   "source": [
    "from netgen.geom2d import SplineGeometry\n",
    "geo = SplineGeometry()\n",
    "geo.AddRectangle((0, 0), (2, 0.41), bcs = (\"wall\", \"outlet\", \"wall\", \"inlet\"))\n",
    "geo.AddCircle((0.2, 0.2), r=0.05, leftdomain = 0, rightdomain = 1, bc = \"cyl\")\n",
    "mesh = Mesh( geo.GenerateMesh(maxh = 0.08) ); Draw(mesh)\n",
    "order = 3\n",
    "mesh.Curve(order)\n",
    "# viscosity\n",
    "nu = 0.001\n",
    "dt = 0.001\n",
    "\n",
    "T = 1\n",
    "dn = int(T/dt)\n",
    "z = 100  # Number of snapshots"
   ]
  },
  {
   "cell_type": "code",
   "execution_count": 3,
   "metadata": {},
   "outputs": [],
   "source": [
    "V1 = HDiv ( mesh, order = order, dirichlet = \"wall|cyl|inlet\" )\n",
    "V2 = FESpace ( \"vectorfacet\", mesh, order = order,\n",
    "              dirichlet = \"wall|cyl|inlet\" )\n",
    "Q = L2( mesh, order = order-1)\n",
    "V = FESpace ([V1,V2,Q])\n",
    "\n",
    "u, uhat, p = V.TrialFunction()\n",
    "v, vhat, q = V.TestFunction()"
   ]
  },
  {
   "cell_type": "code",
   "execution_count": 4,
   "metadata": {},
   "outputs": [],
   "source": [
    "nu = 0.001 # viscosity\n",
    "n = specialcf.normal(mesh.dim)\n",
    "h = specialcf.mesh_size\n",
    "def tang(vec):\n",
    "    return vec - (vec*n)*n"
   ]
  },
  {
   "cell_type": "code",
   "execution_count": 5,
   "metadata": {},
   "outputs": [],
   "source": [
    "alpha = 4  # SIP parameter\n",
    "dS = dx(element_boundary=True)\n",
    "a = BilinearForm ( V, symmetric=True)\n",
    "a += nu * InnerProduct ( Grad(u), Grad(v)) * dx\n",
    "a += nu * InnerProduct ( Grad(u)*n,  tang(vhat-v) ) * dS\n",
    "a += nu * InnerProduct ( Grad(v)*n,  tang(uhat-u) ) * dS\n",
    "a += nu * alpha*order*order/h * InnerProduct(tang(vhat-v),  tang(uhat-u))*dS\n",
    "a += (-div(u)*q -div(v)*p) * dx\n",
    "a.Assemble()\n",
    "\n",
    "rows,cols,vals = a.mat.COO()\n",
    "Ah = sp.csr_matrix((vals,(rows,cols)))"
   ]
  },
  {
   "cell_type": "code",
   "execution_count": 6,
   "metadata": {},
   "outputs": [
    {
     "data": {
      "text/plain": [
       "<ngsolve.comp.BilinearForm at 0x7fb1ec5b2c70>"
      ]
     },
     "execution_count": 6,
     "metadata": {},
     "output_type": "execute_result"
    }
   ],
   "source": [
    "m = BilinearForm(V , symmetric=True)\n",
    "m += SymbolicBFI( u * v )\n",
    "m.Assemble()"
   ]
  },
  {
   "cell_type": "code",
   "execution_count": 7,
   "metadata": {},
   "outputs": [],
   "source": [
    "gfu = GridFunction(V)\n",
    "\n",
    "U0 = 1.5\n",
    "uin = CoefficientFunction( (U0*4*y*(0.41-y)/(0.41*0.41),0) )\n",
    "gfu.components[0].Set(uin, definedon=mesh.Boundaries(\"inlet\"))\n",
    "\n",
    "invstokes = a.mat.Inverse(V.FreeDofs(), inverse=\"umfpack\")\n",
    "gfu.vec.data += invstokes @ -a.mat * gfu.vec\n",
    "\n",
    "Draw( gfu.components[0], mesh, \"velocity\" )\n",
    "Draw( gfu.components[2], mesh, \"pressure\" )\n",
    "Draw( Norm(gfu.components[0]), mesh, \"absvel(hdiv)\")"
   ]
  },
  {
   "cell_type": "code",
   "execution_count": 8,
   "metadata": {},
   "outputs": [],
   "source": [
    "VL2 = VectorL2(mesh, order=order, piola=True)\n",
    "uL2, vL2 = VL2.TnT()\n",
    "bfmixed = BilinearForm ( V, VL2, nonassemble=True )\n",
    "bfmixed += vL2*u*dx\n",
    "bfmixedT = BilinearForm ( VL2, V, nonassemble=True)\n",
    "bfmixedT += uL2*v*dx\n",
    "\n"
   ]
  },
  {
   "cell_type": "code",
   "execution_count": 9,
   "metadata": {},
   "outputs": [],
   "source": [
    "vel = gfu.components[0]\n",
    "convL2 = BilinearForm(VL2, nonassemble=True )\n",
    "convL2 += (-InnerProduct(Grad(vL2) * vel, uL2)) * dx\n",
    "un = InnerProduct(vel,n)\n",
    "upwindL2 = IfPos(un, un*uL2, un*uL2.Other(bnd=uin))\n",
    "\n",
    "dskel_inner  = dx(skeleton=True)\n",
    "dskel_bound  = ds(skeleton=True)\n",
    "\n",
    "convL2 += InnerProduct (upwindL2, vL2-vL2.Other()) * dskel_inner\n",
    "convL2 += InnerProduct (upwindL2, vL2) * dskel_bound\n",
    "\n"
   ]
  },
  {
   "cell_type": "code",
   "execution_count": 10,
   "metadata": {},
   "outputs": [],
   "source": [
    "class PropagateConvection(BaseMatrix):\n",
    "    def __init__(self,tau,steps):\n",
    "        super(PropagateConvection, self).__init__()\n",
    "        self.tau = tau; self.steps = steps\n",
    "        self.h = V.ndof; self.w = V.ndof # operator domain and range\n",
    "        self.mL2 = VL2.Mass(Id(mesh.dim)); self.invmL2 = self.mL2.Inverse()\n",
    "        self.vecL2 = bfmixed.mat.CreateColVector() # temp vector\n",
    "    def Mult(self, x, y):\n",
    "        self.vecL2.data = self.invmL2 @ bfmixed.mat * x # <- project from Hdiv to L2\n",
    "        for i in range(self.steps):\n",
    "            self.vecL2.data -= self.tau/self.steps * self.invmL2 @ convL2.mat * self.vecL2\n",
    "        y.data = bfmixedT.mat * self.vecL2\n",
    "    def CreateColVector(self):\n",
    "        return CreateVVector(self.h)\n",
    "\n"
   ]
  },
  {
   "cell_type": "code",
   "execution_count": 11,
   "metadata": {},
   "outputs": [],
   "source": [
    "t = 0; tend = 0\n",
    "tau = 0.01; substeps = 10\n",
    "\n",
    "mstar = m.mat.CreateMatrix()\n",
    "mstar.AsVector().data = m.mat.AsVector() + tau * a.mat.AsVector()\n",
    "inv = mstar.Inverse(V.FreeDofs(), inverse=\"umfpack\")\n",
    "\n"
   ]
  },
  {
   "cell_type": "code",
   "execution_count": 12,
   "metadata": {},
   "outputs": [],
   "source": [
    "erg_h = np.zeros([len(gfu.vec),z])\n",
    "V_GM = np.zeros([len(gfu.vec),z])\n",
    "\n",
    "V_sb = MultiVector(gfu.vec, 1)\n",
    "V_sb[0] = gfu.vec\n",
    "V_GM[:,0] = np.array(V_sb[0])/np.linalg.norm(np.array(V_sb[0]))"
   ]
  },
  {
   "cell_type": "code",
   "execution_count": 13,
   "metadata": {},
   "outputs": [
    {
     "name": "stdout",
     "output_type": "stream",
     "text": [
      "CPU times: user 14.8 s, sys: 772 ms, total: 15.6 s\n",
      "Wall time: 9.99 s\n"
     ]
    }
   ],
   "source": [
    "%%time\n",
    "tend += 1\n",
    "o = 1\n",
    "res = gfu.vec.CreateVector()\n",
    "convpropagator = PropagateConvection(tau,substeps)\n",
    "while t < tend:\n",
    "    gfu.vec.data += inv @ (convpropagator - mstar) * gfu.vec\n",
    "    t += tau\n",
    "    with TaskManager():\n",
    "        V_sb.AppendOrthogonalize(gfu.vec)\n",
    "    if o < z:\n",
    "        V_GM[:,o] = np.array(V_sb[o])\n",
    "    o = o + 1\n",
    "    #print (\"\\r  t =\", t, end=\"\")\n",
    "    Redraw(blocking=True)"
   ]
  },
  {
   "cell_type": "code",
   "execution_count": 14,
   "metadata": {},
   "outputs": [
    {
     "name": "stdout",
     "output_type": "stream",
     "text": [
      "-9.922618282587337e-16\n"
     ]
    }
   ],
   "source": [
    "print(V_GM[:,0].dot(V_GM[:,1]))"
   ]
  },
  {
   "cell_type": "code",
   "execution_count": 15,
   "metadata": {},
   "outputs": [],
   "source": [
    "AN = np.transpose(V_GM).dot(Ah.dot(V_GM))"
   ]
  },
  {
   "cell_type": "code",
   "execution_count": 16,
   "metadata": {},
   "outputs": [
    {
     "data": {
      "text/plain": [
       "(100, 100)"
      ]
     },
     "execution_count": 16,
     "metadata": {},
     "output_type": "execute_result"
    }
   ],
   "source": [
    "AN.shape"
   ]
  },
  {
   "cell_type": "code",
   "execution_count": null,
   "metadata": {},
   "outputs": [],
   "source": []
  },
  {
   "cell_type": "code",
   "execution_count": null,
   "metadata": {},
   "outputs": [],
   "source": []
  }
 ],
 "metadata": {
  "kernelspec": {
   "display_name": "Python 3.7.5 64-bit",
   "language": "python",
   "name": "python37564bitb5f188b5fd4549769c9ea1e1a366fa0d"
  },
  "language_info": {
   "codemirror_mode": {
    "name": "ipython",
    "version": 3
   },
   "file_extension": ".py",
   "mimetype": "text/x-python",
   "name": "python",
   "nbconvert_exporter": "python",
   "pygments_lexer": "ipython3",
   "version": "3.7.5"
  }
 },
 "nbformat": 4,
 "nbformat_minor": 4
}
