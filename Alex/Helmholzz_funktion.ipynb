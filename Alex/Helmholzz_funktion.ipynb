{
 "cells": [
  {
   "cell_type": "markdown",
   "metadata": {},
   "source": [
    "# Die helmholzgleichung:\n",
    "$\\Delta u - \\omega^2 u = f$\n",
    "### und die Schwache Formulierung:\n",
    "$\\int_{\\Omega}\\nabla u \\nabla v - \\omega^2\\int_{\\Omega}u v = \\int_{\\Omega}fv$ $v \\in V$\n",
    "### löse die obrige Gleichung mit paar $\\omega_i$ und speichere diese $u_i$ in eine Matrix "
   ]
  },
  {
   "cell_type": "code",
   "execution_count": 1,
   "metadata": {},
   "outputs": [],
   "source": [
    "#import netgen.gui\n",
    "from ngsolve import *\n",
    "import numpy as np\n",
    "from math import pi\n",
    "import netgen.geom2d as geom2dim\n",
    "import matplotlib.pyplot as plt\n",
    "import scipy.sparse as sp"
   ]
  },
  {
   "cell_type": "code",
   "execution_count": 2,
   "metadata": {},
   "outputs": [],
   "source": [
    "def GreatGeometry(a,shift,h):\n",
    "    geo = geom2dim.SplineGeometry()\n",
    "    points = [(0,0),(a,0),(a,a),(0,a)]\n",
    "    p1,p2,p3,p4 = [geo.AppendPoint(*pnt) for pnt in points]\n",
    "    curves = [['line',p1,p2],['line',p2,p3],['line',p3,p4],['line',p4,p1]]\n",
    "    [geo.Append(c) for c in curves]\n",
    "\n",
    "    mesh = Mesh(geo.GenerateMesh(maxh = h))\n",
    "\n",
    "\n",
    "    piha = a/2\n",
    "    source = exp(-50**2*((x-piha-shift)*(x-piha-shift)+(y-piha-shift)*(y-piha-shift)))\n",
    "    Draw(source,mesh,name = \"pulse\")\n",
    "    return mesh,source"
   ]
  },
  {
   "cell_type": "code",
   "execution_count": 3,
   "metadata": {},
   "outputs": [],
   "source": [
    "def plot_Reso(x,y):#,xlab,ylab,tit):\n",
    "    plt.grid()\n",
    "    plt.plot(x,y)\n",
    "    plt.xlabel(\"omega\")\n",
    "    plt.ylabel(\"Euklidic-Norm\")\n",
    "    #plt.savefig('results/resonanz_20.png')"
   ]
  },
  {
   "cell_type": "code",
   "execution_count": 81,
   "metadata": {},
   "outputs": [],
   "source": [
    "def Redusebasis(erg,Mh,Kh,Fh):    \n",
    "    rows,cols,vals = Mh.COO()\n",
    "    Mh = sp.csr_matrix((vals,(rows,cols)))\n",
    "    rows,cols,vals = Kh.COO()\n",
    "    Kh = sp.csr_matrix((vals,(rows,cols)))                     \n",
    "    V, r = np.linalg.qr(erg)\n",
    "    V = erg.dot(np.linalg.inv(r))\n",
    "    \n",
    "    MN = np.transpose(V).dot(Mh.dot(V))\n",
    "    KN = np.transpose(V).dot(Kh.dot(V))\n",
    "    FN = np.transpose(V).dot(Fh)\n",
    "    print(\"Check: \",np.vdot(V[:,1],V[:,2]))\n",
    "    #print(\"Check: \",V[:,1].vdot(V[:,1])) # nachschauen ob complex \n",
    "    print(type(V))\n",
    "    return MN,KN,FN,V"
   ]
  },
  {
   "cell_type": "code",
   "execution_count": 82,
   "metadata": {},
   "outputs": [],
   "source": [
    "def calcReduseRes(V,iteration,interval,fes,Mh,Kh,Fh,uN,o,KN,MN,FN):\n",
    "    ured = GridFunction(fes)\n",
    "    F = Mh.CreateColVector()\n",
    "    F.FV().NumPy()[:] = Fh[:]\n",
    "    #print(\"Fh: \",Fh)\n",
    "    #print(\"F: \",F)\n",
    "    factor = interval / iteration\n",
    "    omegaN = []\n",
    "    res = []\n",
    "    res_snap = []\n",
    "    for i in range(iteration):\n",
    "        omegaN.append(factor*i)\n",
    "        with TaskManager():\n",
    "            ured.vec.FV().NumPy()[:] = V.dot(uN[:,i])[:]\n",
    "            \n",
    "            ngs_temp = Mh.CreateColVector()\n",
    "            ngs_temp.data = Kh*ured.vec - omegaN[i]**2*Mh*ured.vec - F\n",
    "\n",
    "            ngs_temp2 = Kh.CreateColVector()\n",
    "            ngs_temp2.data = Projector(fes.FreeDofs(), True)*ngs_temp\n",
    "            res.append(Norm(ngs_temp2))\n",
    "    plt.figure()\n",
    "    plot_Reso(omegaN,res)\n",
    "    j = 0\n",
    "    for fre in o:\n",
    "        with TaskManager():\n",
    "            uN[:,j] = np.linalg.solve(KN-fre**2*MN, FN)\n",
    "            ured.vec.FV().NumPy()[:] = V.dot(uN[:,i])[:]\n",
    "            ngs_temp = Mh.CreateColVector()\n",
    "            ngs_temp.data = Kh*ured.vec - omegaN[i]**2*Mh*ured.vec - F\n",
    "\n",
    "            ngs_temp2 = Kh.CreateColVector()\n",
    "            ngs_temp2.data = Projector(fes.FreeDofs(), True)*ngs_temp\n",
    "            res_snap.append(Norm(ngs_temp2))\n",
    "            j = j+1\n",
    "    plt.figure()\n",
    "    plot_Reso(o,res_snap)"
   ]
  },
  {
   "cell_type": "code",
   "execution_count": 83,
   "metadata": {},
   "outputs": [],
   "source": [
    "def calcRedusesol(MN,KN,FN,iteration,interval,maxind):\n",
    "    factor = interval / iteration\n",
    "    omegaN = []\n",
    "    norm =[]\n",
    "    uN = np.zeros([maxind,iteration])\n",
    "    for i in range(iteration):\n",
    "        omegaN.append(factor*i)\n",
    "        uN[:,i] = np.linalg.solve(KN-omegaN[i]**2*MN, FN)\n",
    "        norm.append(sqrt(uN[:,i].dot(uN[:,i])))\n",
    "    plot_Reso(omegaN,norm)\n",
    "    return uN"
   ]
  },
  {
   "cell_type": "code",
   "execution_count": 84,
   "metadata": {},
   "outputs": [],
   "source": [
    "def Snapshot(name,maxind,a,shift,h,Print,points):\n",
    "    mesh,source = GreatGeometry(a,shift,h)\n",
    "    if name == \"Dirichlet\":\n",
    "        fes = H1(mesh, order=5,dirichlet=\".*\")\n",
    "        gfu = GridFunction(fes,name = \"u_Dir\")\n",
    "        erg = np.zeros([len(gfu.vec),maxind])\n",
    "        Fh = np.zeros([len(gfu.vec),maxind])\n",
    "    if name == \"Neumann\":\n",
    "        fes = H1(mesh, order=5)\n",
    "        gfu = GridFunction(fes,name = \"u_Neu\")\n",
    "        erg = np.zeros([len(gfu.vec),maxind])\n",
    "        Fh = np.zeros([len(gfu.vec),maxind])\n",
    "    if name == \"Robin\":\n",
    "        fes = H1(mesh, order=5,complex = True)\n",
    "        gfu = GridFunction(fes,name = \"u_Rob\")\n",
    "        erg = np.zeros([len(gfu.vec),maxind],dtype=complex)\n",
    "        Fh = np.zeros([len(gfu.vec),maxind],dtype=complex)\n",
    "       \n",
    "    print(\"Modus: \",name) \n",
    "    \n",
    "    u = fes.TrialFunction()\n",
    "    v = fes.TestFunction()\n",
    "    \n",
    "    A = BilinearForm(fes)\n",
    "    K = BilinearForm(fes)\n",
    "    M = BilinearForm(fes)\n",
    "    omega = Parameter(1)\n",
    "    if name == \"Robin\":\n",
    "        R = BilinearForm(fes)\n",
    "        A += (grad(u)*grad(v)- omega**2*u*v)*dx -1j*omega*u*v*ds\n",
    "        R += -1j*u*v*ds\n",
    "        R.Assemble()\n",
    "    else:\n",
    "        A += (grad(u)*grad(v)- omega**2*u*v)*dx        \n",
    "    \n",
    "    F = LinearForm(fes)\n",
    "    \n",
    "\n",
    "    K += grad(u)*grad(v)*dx\n",
    "    M += u*v*dx\n",
    "    \n",
    "    F += source*v*dx \n",
    "    o = []\n",
    "    norm = []\n",
    "    j = 0\n",
    "    for i in range(maxind):\n",
    "        o.append(i)\n",
    "    print(\"Start calculation the snapshots\")\n",
    "    for i in o:  \n",
    "        with TaskManager():\n",
    "            omega.Set(i) \n",
    "            A.Assemble()\n",
    "            K.Assemble()\n",
    "            M.Assemble()\n",
    "            F.Assemble()  \n",
    "            \n",
    "            gfu.vec.data = A.mat.Inverse(fes.FreeDofs()) * F.vec\n",
    "            erg[:,j] = gfu.vec\n",
    "            Fh[:,j] = F.vec\n",
    "            norm.append(sqrt (Integrate ((gfu)*(gfu),mesh)))\n",
    "            if Print:\n",
    "                print(\"Number of iter: \",j,\"omega: \",i,\"L2-Norm:\",sqrt (Integrate ((gfu)*(gfu),mesh)))\n",
    "            j = j+1\n",
    "    print(\"plot the Resonanz: \")\n",
    "    #plot_Reso(o,norm)\n",
    "    print(\"calculates the ReducedBasis: \")\n",
    "    MN,KN,FN,V = Redusebasis(erg,M.mat,K.mat,Fh[:,0])\n",
    "\n",
    "    print(\"calculates the ReducedSolution: \")\n",
    "    #uN = calcRedusesol(MN,KN,FN,points,20,20)\n",
    "    \n",
    "    print(\"calculates the ReducedResidual: \")\n",
    "    #res = calcReduseRes(V,points,20,fes,M.mat,K.mat,Fh[:,0],uN,o,KN,MN,FN)\n",
    "\n",
    "    #print(Fh[:,0])\n",
    "    #print(Fh[:,1])\n",
    "    #print(Fh[:,2])"
   ]
  },
  {
   "cell_type": "code",
   "execution_count": 85,
   "metadata": {},
   "outputs": [
    {
     "name": "stdout",
     "output_type": "stream",
     "text": [
      "Modus:  Robin\n",
      "Start calculation the snapshots\n",
      "Number of iter:  0 omega:  0 L2-Norm: (149120153823.57114+0j)\n",
      "Number of iter:  1 omega:  1 L2-Norm: (2.698238753873974e-05+0.00031796244187237634j)\n",
      "Number of iter:  2 omega:  2 L2-Norm: (2.751162526675496e-05+0.0001724349801754431j)\n",
      "Number of iter:  3 omega:  3 L2-Norm: (1.8579146600238367e-05+0.00013563616634673856j)\n",
      "Number of iter:  4 omega:  4 L2-Norm: (6.299756489753046e-06-0.00011509264874423683j)\n",
      "Number of iter:  5 omega:  5 L2-Norm: (2.8819957051583806e-05-7.739353812681517e-05j)\n",
      "Number of iter:  6 omega:  6 L2-Norm: (1.827422840297139e-05-2.9533076012331056e-05j)\n",
      "Number of iter:  7 omega:  7 L2-Norm: (2.1443270610450573e-05+3.944774203415432e-05j)\n",
      "Number of iter:  8 omega:  8 L2-Norm: (1.4671346199430406e-05+5.504556351353669e-05j)\n",
      "Number of iter:  9 omega:  9 L2-Norm: (1.306516729448051e-06-5.6411075521569615e-05j)\n",
      "Number of iter:  10 omega:  10 L2-Norm: (1.5124312523225299e-05-4.3975883739464785e-05j)\n",
      "Number of iter:  11 omega:  11 L2-Norm: (1.5961120421890682e-05-2.1735156027603904e-05j)\n",
      "Number of iter:  12 omega:  12 L2-Norm: (1.2054409193994783e-05+1.9963327221930628e-05j)\n",
      "Number of iter:  13 omega:  13 L2-Norm: (7.725634705639032e-06+3.429478569647875e-05j)\n",
      "Number of iter:  14 omega:  14 L2-Norm: (2.94619365370438e-06-3.4036342447357855e-05j)\n",
      "Number of iter:  15 omega:  15 L2-Norm: (7.510544557840841e-06-2.6072766216899008e-05j)\n",
      "Number of iter:  16 omega:  16 L2-Norm: (4.143212714546009e-06-1.8061797066443218e-05j)\n",
      "Number of iter:  17 omega:  17 L2-Norm: (3.0902353160057423e-06+2.0304524447651838e-05j)\n",
      "Number of iter:  18 omega:  18 L2-Norm: (4.3654319727754974e-07-2.517831438126324e-05j)\n",
      "Number of iter:  19 omega:  19 L2-Norm: (6.459023878411534e-06-2.135186468828254e-05j)\n",
      "plot the Resonanz: \n",
      "calculates the ReducedBasis: \n",
      "Check:  (-1.6243950629046822e-14-1.0993810029003015e-15j)\n",
      "<class 'numpy.ndarray'>\n",
      "calculates the ReducedSolution: \n",
      "calculates the ReducedResidual: \n"
     ]
    }
   ],
   "source": [
    "# name, maxiter , recksize, shift, h, Print,points\n",
    "Snapshot(\"Robin\",20,1,0,0.1,True,int(1e3))"
   ]
  },
  {
   "cell_type": "code",
   "execution_count": null,
   "metadata": {},
   "outputs": [],
   "source": []
  },
  {
   "cell_type": "code",
   "execution_count": null,
   "metadata": {},
   "outputs": [],
   "source": [
    "r"
   ]
  },
  {
   "cell_type": "code",
   "execution_count": 50,
   "metadata": {},
   "outputs": [
    {
     "ename": "NameError",
     "evalue": "name 'o' is not defined",
     "output_type": "error",
     "traceback": [
      "\u001b[0;31m---------------------------------------------------------------------------\u001b[0m",
      "\u001b[0;31mNameError\u001b[0m                                 Traceback (most recent call last)",
      "\u001b[0;32m<ipython-input-50-aa0a18d9cd83>\u001b[0m in \u001b[0;36m<module>\u001b[0;34m\u001b[0m\n\u001b[0;32m----> 1\u001b[0;31m \u001b[0mo\u001b[0m\u001b[0;34m\u001b[0m\u001b[0;34m\u001b[0m\u001b[0m\n\u001b[0m",
      "\u001b[0;31mNameError\u001b[0m: name 'o' is not defined"
     ]
    }
   ],
   "source": [
    "o"
   ]
  },
  {
   "cell_type": "code",
   "execution_count": null,
   "metadata": {},
   "outputs": [],
   "source": []
  }
 ],
 "metadata": {
  "kernelspec": {
   "display_name": "Python 3",
   "language": "python",
   "name": "python3"
  },
  "language_info": {
   "codemirror_mode": {
    "name": "ipython",
    "version": 3
   },
   "file_extension": ".py",
   "mimetype": "text/x-python",
   "name": "python",
   "nbconvert_exporter": "python",
   "pygments_lexer": "ipython3",
   "version": "3.7.5"
  }
 },
 "nbformat": 4,
 "nbformat_minor": 4
}
