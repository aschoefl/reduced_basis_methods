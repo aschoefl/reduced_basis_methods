{
 "cells": [
  {
   "cell_type": "markdown",
   "metadata": {},
   "source": [
    "# Die helmholzgleichung:\n",
    "$\\Delta u - \\omega^2 u = f$\n",
    "### und die Schwache Formulierung:\n",
    "$\\int_{\\Omega}\\nabla u \\nabla v - \\omega^2\\int_{\\Omega}u v = \\int_{\\Omega}fv$ $v \\in V$\n",
    "### löse die obrige Gleichung mit paar $\\omega_i$ und speichere diese $u_i$ in eine Matrix "
   ]
  },
  {
   "cell_type": "code",
   "execution_count": null,
   "metadata": {},
   "outputs": [],
   "source": [
    "#import netgen.gui\n",
    "from ngsolve import *\n",
    "import numpy as np\n",
    "from math import pi\n",
    "import netgen.geom2d as geom2dim\n",
    "import matplotlib.pyplot as plt\n",
    "import scipy.sparse as sp"
   ]
  },
  {
   "cell_type": "code",
   "execution_count": null,
   "metadata": {},
   "outputs": [],
   "source": [
    "def GreatGeometry(a,shift,h):\n",
    "    geo = geom2dim.SplineGeometry()\n",
    "    points = [(0,0),(a,0),(a,a),(0,a)]\n",
    "    p1,p2,p3,p4 = [geo.AppendPoint(*pnt) for pnt in points]\n",
    "    curves = [['line',p1,p2],['line',p2,p3],['line',p3,p4],['line',p4,p1]]\n",
    "    [geo.Append(c) for c in curves]\n",
    "\n",
    "    mesh = Mesh(geo.GenerateMesh(maxh = h))\n",
    "\n",
    "\n",
    "    piha = a/2\n",
    "    source = exp(-50**2*((x-piha-shift)*(x-piha-shift)+(y-piha-shift)*(y-piha-shift)))\n",
    "    Draw(source,mesh,name = \"pulse\")\n",
    "    return mesh,source"
   ]
  },
  {
   "cell_type": "code",
   "execution_count": null,
   "metadata": {},
   "outputs": [],
   "source": [
    "def plot_Reso(x,y):#,xlab,ylab,tit):\n",
    "    plt.grid()\n",
    "    plt.plot(x,y)\n",
    "    plt.xlabel(\"omega\")\n",
    "    plt.ylabel(\"Euklidic-Norm\")\n",
    "    #plt.savefig('results/resonanz_20.png')"
   ]
  },
  {
   "cell_type": "code",
   "execution_count": null,
   "metadata": {},
   "outputs": [],
   "source": [
    "def Redusebasis(erg,Mh,Kh,Fh):    \n",
    "    rows,cols,vals = Mh.COO()\n",
    "    Mh = sp.csr_matrix((vals,(rows,cols)))\n",
    "    rows,cols,vals = Kh.COO()\n",
    "    Kh = sp.csr_matrix((vals,(rows,cols)))                     \n",
    "    V, r = np.linalg.qr(erg)\n",
    "    V = erg.dot(np.linalg.inv(r))\n",
    "    \n",
    "    MN = np.transpose(V).dot(Mh.dot(V))\n",
    "    KN = np.transpose(V).dot(Kh.dot(V))\n",
    "    FN = np.transpose(V).dot(Fh)\n",
    "    print(\"Check: \",np.vdot(V[:,1],V[:,2]))\n",
    "    #print(\"Check: \",V[:,1].vdot(V[:,1])) # nachschauen ob complex \n",
    "    print(type(V))\n",
    "    return MN,KN,FN,V"
   ]
  },
  {
   "cell_type": "code",
   "execution_count": null,
   "metadata": {},
   "outputs": [],
   "source": [
    "def calcReduseRes(V,iteration,interval,fes,Mh,Kh,Fh,uN,o,KN,MN,FN):\n",
    "    ured = GridFunction(fes)\n",
    "    F = Mh.CreateColVector()\n",
    "    F.FV().NumPy()[:] = Fh[:]\n",
    "    #print(\"Fh: \",Fh)\n",
    "    #print(\"F: \",F)\n",
    "    factor = interval / iteration\n",
    "    omegaN = []\n",
    "    res = []\n",
    "    res_snap = []\n",
    "    for i in range(iteration):\n",
    "        omegaN.append(factor*i)\n",
    "        with TaskManager():\n",
    "            ured.vec.FV().NumPy()[:] = V.dot(uN[:,i])[:]\n",
    "            \n",
    "            ngs_temp = Mh.CreateColVector()\n",
    "            ngs_temp.data = Kh*ured.vec - omegaN[i]**2*Mh*ured.vec - F\n",
    "\n",
    "            ngs_temp2 = Kh.CreateColVector()\n",
    "            ngs_temp2.data = Projector(fes.FreeDofs(), True)*ngs_temp\n",
    "            res.append(Norm(ngs_temp2))\n",
    "    plt.figure()\n",
    "    plot_Reso(omegaN,res)\n",
    "    j = 0\n",
    "    for fre in o:\n",
    "        with TaskManager():\n",
    "            uN[:,j] = np.linalg.solve(KN-fre**2*MN, FN)\n",
    "            ured.vec.FV().NumPy()[:] = V.dot(uN[:,i])[:]\n",
    "            ngs_temp = Mh.CreateColVector()\n",
    "            ngs_temp.data = Kh*ured.vec - omegaN[i]**2*Mh*ured.vec - F\n",
    "\n",
    "            ngs_temp2 = Kh.CreateColVector()\n",
    "            ngs_temp2.data = Projector(fes.FreeDofs(), True)*ngs_temp\n",
    "            res_snap.append(Norm(ngs_temp2))\n",
    "            j = j+1\n",
    "    plt.figure()\n",
    "    plot_Reso(o,res_snap)"
   ]
  },
  {
   "cell_type": "code",
   "execution_count": null,
   "metadata": {},
   "outputs": [],
   "source": [
    "def calcRedusesol(MN,KN,FN,iteration,interval,maxind):\n",
    "    factor = interval / iteration\n",
    "    omegaN = []\n",
    "    norm =[]\n",
    "    uN = np.zeros([maxind,iteration])\n",
    "    for i in range(iteration):\n",
    "        omegaN.append(factor*i)\n",
    "        uN[:,i] = np.linalg.solve(KN-omegaN[i]**2*MN, FN)\n",
    "        norm.append(sqrt(uN[:,i].dot(uN[:,i])))\n",
    "    plot_Reso(omegaN,norm)\n",
    "    return uN"
   ]
  },
  {
   "cell_type": "code",
   "execution_count": null,
   "metadata": {},
   "outputs": [],
   "source": [
    "def Snapshot(name,maxind,a,shift,h,Print,points):\n",
    "    mesh,source = GreatGeometry(a,shift,h)\n",
    "    if name == \"Dirichlet\":\n",
    "        fes = H1(mesh, order=5,dirichlet=\".*\")\n",
    "        gfu = GridFunction(fes,name = \"u_Dir\")\n",
    "        erg = np.zeros([len(gfu.vec),maxind])\n",
    "        Fh = np.zeros([len(gfu.vec),maxind])\n",
    "    if name == \"Neumann\":\n",
    "        fes = H1(mesh, order=5)\n",
    "        gfu = GridFunction(fes,name = \"u_Neu\")\n",
    "        erg = np.zeros([len(gfu.vec),maxind])\n",
    "        Fh = np.zeros([len(gfu.vec),maxind])\n",
    "    if name == \"Robin\":\n",
    "        fes = H1(mesh, order=5,complex = True)\n",
    "        gfu = GridFunction(fes,name = \"u_Rob\")\n",
    "        erg = np.zeros([len(gfu.vec),maxind],dtype=complex)\n",
    "        Fh = np.zeros([len(gfu.vec),maxind],dtype=complex)\n",
    "       \n",
    "    print(\"Modus: \",name) \n",
    "    \n",
    "    u = fes.TrialFunction()\n",
    "    v = fes.TestFunction()\n",
    "    \n",
    "    A = BilinearForm(fes)\n",
    "    K = BilinearForm(fes)\n",
    "    M = BilinearForm(fes)\n",
    "    omega = Parameter(1)\n",
    "    if name == \"Robin\":\n",
    "        R = BilinearForm(fes)\n",
    "        A += (grad(u)*grad(v)- omega**2*u*v)*dx -1j*omega*u*v*ds\n",
    "        R += -1j*u*v*ds\n",
    "        R.Assemble()\n",
    "    else:\n",
    "        A += (grad(u)*grad(v)- omega**2*u*v)*dx        \n",
    "    \n",
    "    F = LinearForm(fes)\n",
    "    \n",
    "\n",
    "    K += grad(u)*grad(v)*dx\n",
    "    M += u*v*dx\n",
    "    \n",
    "    F += source*v*dx \n",
    "    o = []\n",
    "    norm = []\n",
    "    j = 0\n",
    "    for i in range(maxind):\n",
    "        o.append(i)\n",
    "    print(\"Start calculation the snapshots\")\n",
    "    for i in o:  \n",
    "        with TaskManager():\n",
    "            omega.Set(i) \n",
    "            A.Assemble()\n",
    "            K.Assemble()\n",
    "            M.Assemble()\n",
    "            F.Assemble()  \n",
    "            \n",
    "            gfu.vec.data = A.mat.Inverse(fes.FreeDofs()) * F.vec\n",
    "            erg[:,j] = gfu.vec\n",
    "            Fh[:,j] = F.vec\n",
    "            norm.append(sqrt (Integrate ((gfu)*(gfu),mesh)))\n",
    "            if Print:\n",
    "                print(\"Number of iter: \",j,\"omega: \",i,\"L2-Norm:\",sqrt (Integrate ((gfu)*(gfu),mesh)))\n",
    "            j = j+1\n",
    "    print(\"plot the Resonanz: \")\n",
    "    #plot_Reso(o,norm)\n",
    "    print(\"calculates the ReducedBasis: \")\n",
    "    MN,KN,FN,V = Redusebasis(erg,M.mat,K.mat,Fh[:,0])\n",
    "\n",
    "    print(\"calculates the ReducedSolution: \")\n",
    "    #uN = calcRedusesol(MN,KN,FN,points,20,20)\n",
    "    \n",
    "    print(\"calculates the ReducedResidual: \")\n",
    "    #res = calcReduseRes(V,points,20,fes,M.mat,K.mat,Fh[:,0],uN,o,KN,MN,FN)\n",
    "\n",
    "    #print(Fh[:,0])\n",
    "    #print(Fh[:,1])\n",
    "    #print(Fh[:,2])"
   ]
  },
  {
   "cell_type": "code",
   "execution_count": null,
   "metadata": {},
   "outputs": [],
   "source": [
    "# name, maxiter , recksize, shift, h, Print,points\n",
    "Snapshot(\"Robin\",20,1,0,0.1,True,int(1e3))"
   ]
  },
  {
   "cell_type": "code",
   "execution_count": null,
   "metadata": {},
   "outputs": [],
   "source": []
  },
  {
   "cell_type": "code",
   "execution_count": null,
   "metadata": {},
   "outputs": [],
   "source": [
    "r"
   ]
  },
  {
   "cell_type": "code",
   "execution_count": null,
   "metadata": {},
   "outputs": [],
   "source": [
    "o"
   ]
  },
  {
   "cell_type": "code",
   "execution_count": null,
   "metadata": {},
   "outputs": [],
   "source": []
  }
 ],
 "metadata": {
  "kernelspec": {
   "display_name": "Python 3",
   "language": "python",
   "name": "python3"
  },
  "language_info": {
   "codemirror_mode": {
    "name": "ipython",
    "version": 3
   },
   "file_extension": ".py",
   "mimetype": "text/x-python",
   "name": "python",
   "nbconvert_exporter": "python",
   "pygments_lexer": "ipython3",
   "version": "3.7.5"
  }
 },
 "nbformat": 4,
 "nbformat_minor": 4
}
