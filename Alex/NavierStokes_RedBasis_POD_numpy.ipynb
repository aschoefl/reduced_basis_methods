{
 "cells": [
  {
   "cell_type": "markdown",
   "metadata": {},
   "source": [
    "# Navier Stokes Equation Reduced Basis Method \n",
    "Incompressible timedependet Navier Stokes equation\n",
    "\n",
    "Find $(u,p):[0,T] \\to (H_{0,D}^1)^d \\times L^2$, s.t.\n",
    "\n",
    "\\begin{align}\n",
    "\\int_{\\Omega} \\partial_t u \\cdot v + \\int_{\\Omega} \\nu \\nabla u \\nabla v + u \\cdot \\nabla u v - \\int_{\\Omega} \\operatorname{div}(v) p &= \\int f v  && \\forall v \\in (H_{0,D}^1)^d, \\\\ \n",
    "- \\int_{\\Omega} \\operatorname{div}(u) q &= 0 && \\forall q \\in L^2, \\\\\n",
    "\\quad u(t=0) & = u_0\n",
    "\\end{align}"
   ]
  },
  {
   "cell_type": "code",
   "execution_count": 1,
   "metadata": {},
   "outputs": [],
   "source": [
    "from netgen import gui\n",
    "from ngsolve import *\n",
    "from netgen.geom2d import SplineGeometry\n",
    "import scipy.sparse as sp\n",
    "import numpy as np\n",
    "from math import pi"
   ]
  },
  {
   "cell_type": "code",
   "execution_count": 2,
   "metadata": {},
   "outputs": [],
   "source": [
    "from netgen.geom2d import SplineGeometry\n",
    "geo = SplineGeometry()\n",
    "geo.AddRectangle( (0, 0), (2, 0.41), bcs = (\"wall\", \"outlet\", \"wall\", \"inlet\"))\n",
    "geo.AddCircle ( (0.2, 0.2), r=0.05, leftdomain=0, rightdomain=1, bc=\"cyl\")\n",
    "mesh = Mesh( geo.GenerateMesh(maxh=0.08))\n",
    "mesh.Curve(3)\n",
    "Draw(mesh)\n",
    "# viscosity\n",
    "nu = 0.001\n",
    "dt = 0.001\n",
    "\n",
    "T = 1\n",
    "dn = int(T/dt)\n",
    "z = 20  # Number of snapshots"
   ]
  },
  {
   "cell_type": "code",
   "execution_count": 3,
   "metadata": {},
   "outputs": [],
   "source": [
    "k = 3\n",
    "V = VectorH1(mesh,order=k, dirichlet=\"wall|cyl|inlet\")\n",
    "Q = H1(mesh,order=k-1)\n",
    "X = FESpace([V,Q])"
   ]
  },
  {
   "cell_type": "code",
   "execution_count": 4,
   "metadata": {},
   "outputs": [],
   "source": [
    "gfu_N = GridFunction(X)\n",
    "gfu = GridFunction(X)\n",
    "velocity = gfu.components[0]\n",
    "\n",
    "\n",
    "uin = CoefficientFunction((1.5*4*y*(0.41-y)/(0.41*0.41),0))\n",
    "gfu.components[0].Set(uin, definedon=mesh.Boundaries(\"inlet\"))\n",
    "\n",
    "Draw(gfu.components[0],mesh,\"gfu\",sd=3)"
   ]
  },
  {
   "cell_type": "code",
   "execution_count": 5,
   "metadata": {},
   "outputs": [],
   "source": [
    "(u,p), (v,q) = X.TnT()\n",
    "\n",
    "a = BilinearForm(X)\n",
    "stokes = (nu*InnerProduct(grad(u),grad(v))-div(u)*q-div(v)*p)*dx\n",
    "a += stokes\n",
    "a.Assemble()\n",
    "\n",
    "f = LinearForm(X)\n",
    "f.Assemble()\n",
    "\n",
    "inv_stokes = a.mat.Inverse(X.FreeDofs())\n",
    "\n",
    "res = f.vec.CreateVector()\n",
    "res.data = f.vec - a.mat*gfu.vec\n",
    "gfu.vec.data += inv_stokes * res"
   ]
  },
  {
   "cell_type": "code",
   "execution_count": 6,
   "metadata": {},
   "outputs": [],
   "source": [
    "# matrix for implicit part of IMEX(1) scheme:\n",
    "mstar = BilinearForm(X)\n",
    "\n",
    "mstar += InnerProduct(u,v)*dx + dt*stokes\n",
    "\n",
    "mstar.Assemble()\n",
    "\n",
    "mh = BilinearForm(X)\n",
    "\n",
    "mh += InnerProduct(u,v)*dx\n",
    "mh.Assemble()\n",
    "\n",
    "inv = mstar.mat.Inverse(X.FreeDofs())\n",
    "\n",
    "\n",
    "conv = LinearForm(X)\n",
    "conv += InnerProduct(grad(velocity)*velocity,v)*dx"
   ]
  },
  {
   "cell_type": "code",
   "execution_count": 7,
   "metadata": {},
   "outputs": [],
   "source": [
    "rows,cols,vals = a.mat.COO()\n",
    "Ah = sp.csr_matrix((vals,(rows,cols)))\n",
    "\n",
    "rows,cols,vals = mh.mat.COO()\n",
    "Mh = sp.csr_matrix((vals,(rows,cols)))"
   ]
  },
  {
   "cell_type": "code",
   "execution_count": 8,
   "metadata": {},
   "outputs": [],
   "source": [
    "t = 0\n",
    "len_h = len(gfu.components[0].vec)\n",
    "erg_h = np.zeros([len(gfu.vec),int(dn)+1])\n",
    "line = np.linspace(0,dn-1,z,dtype = int) # stors the number of linear distributed number of iteration from the solution\n",
    "S_POD_v = np.zeros([len_h,z])\n",
    "S_POD_p = np.zeros([len(gfu.components[1].vec),z])\n",
    "#line = np.linspace(0,z,z) # stors the number of linear distributed number of iteration from the solution"
   ]
  },
  {
   "cell_type": "markdown",
   "metadata": {},
   "source": [
    "$\n",
    "M\\bigg(\\frac{u^{n+1}-u^n}{k}\\bigg) + A u^{n+1} +C u^{n} = 0\n",
    "$\n",
    "\n",
    "$\n",
    "M^*\\bigg(u^{n+1}-u^n\\bigg) = -k A u^n - k Cu^n\n",
    "$\n",
    "\n",
    "$\n",
    "M^* = M + kA \n",
    "$"
   ]
  },
  {
   "cell_type": "code",
   "execution_count": 9,
   "metadata": {},
   "outputs": [],
   "source": [
    "S_POD_v[:,0] = gfu.components[0].vec\n",
    "S_POD_p[:,0] = gfu.components[1].vec\n",
    "V_v = np.zeros([len(gfu.components[0].vec),z])\n",
    "V_p = np.zeros([len(gfu.components[1].vec),z])\n",
    "# implicit Euler/explicit Euler splitting method:\n",
    "V_sb_v = MultiVector(gfu.components[0].vec, 1)\n",
    "V_sb_v[0] = gfu.components[0].vec\n",
    "V_v[:,0] = np.array(V_sb_v[0])/np.linalg.norm(np.array(V_sb_v[0]))\n",
    "\n",
    "V_sb_p = MultiVector(gfu.components[1].vec, 1)\n",
    "V_sb_p[0] = gfu.components[1].vec\n",
    "V_p[:,0] = np.array(V_sb_p[0])/np.linalg.norm(np.array(V_sb_p[0]))\n",
    "\n",
    "erg_h[:,0] = gfu.vec\n",
    "o = 1\n",
    "e = int(line[o])\n",
    "for i in range(int(dn)):\n",
    "    conv.Assemble()\n",
    "    res.data = a.mat * gfu.vec + conv.vec\n",
    "    gfu.vec.data -= dt * inv * res\n",
    "    \n",
    "    for r in line:\n",
    "        if int(r) == i: #desided which solution will be orthogonalirsed\n",
    "            if i > 0:\n",
    "                with TaskManager():\n",
    "                    V_sb_v.AppendOrthogonalize(gfu.components[0].vec)\n",
    "                    V_sb_p.AppendOrthogonalize(gfu.components[1].vec)\n",
    "                V_v[:,o] = np.array(V_sb_v[o])\n",
    "                V_p[:,o] = np.array(V_sb_p[o])\n",
    "                S_POD_v[:,o] = gfu.components[0].vec\n",
    "                S_POD_p[:,o] = gfu.components[1].vec\n",
    "                o = o + 1\n",
    "    erg_h[:,i+1] = gfu.vec #stores the solution for comparing later\n",
    "    t = t + dt\n",
    "    Redraw()"
   ]
  },
  {
   "cell_type": "code",
   "execution_count": null,
   "metadata": {},
   "outputs": [],
   "source": [
    "# implicit Euler/explicit Euler splitting method:\n",
    "erg_h[:,0] = gfu.vec\n",
    "S_POD_v[:,0] = gfu.components[0].vec\n",
    "S_POD_p[:,0] = gfu.components[1].vec\n",
    "\n",
    "o = 1\n",
    "for i in range(int(dn)):\n",
    "    conv.Assemble()\n",
    "    res.data = a.mat * gfu.vec + conv.vec\n",
    "    gfu.vec.data -= dt * inv * res\n",
    "    \n",
    "    for r in line:\n",
    "        if int(r) == i: #desided which solution will be orthogonalirsed\n",
    "            if i > 0:\n",
    "                S_POD_v[:,o] = gfu.components[0].vec\n",
    "                S_POD_p[:,o] = gfu.components[1].vec\n",
    "                o = o + 1\n",
    "    erg_h[:,i+1] = gfu.vec #stores the solution for comparing later\n",
    "    t = t + dt\n",
    "    Redraw()"
   ]
  },
  {
   "cell_type": "code",
   "execution_count": null,
   "metadata": {},
   "outputs": [],
   "source": [
    "gfu.vec.FV().NumPy()[:] = erg_h[:,8000]\n",
    "Draw(gfu.components[0],mesh,\"gfu\",sd=3)"
   ]
  },
  {
   "cell_type": "markdown",
   "metadata": {},
   "source": [
    "## POD method\n",
    "A other way to get the transforamtions matrix is the POD method.\n",
    "gifen $\\mathbb{S} = \\{u_h^0,u_h^1,...u_h^{S-1}\\}$ where $S$ ist the number of snapshots.\n",
    "\n",
    "$\n",
    "C = \\mathbb{S}^T\\mathbb{S}\\\\\n",
    "$\n",
    "\n",
    "$\n",
    "C \\in \\mathbb{R}^{S \\times S}\n",
    "$\n",
    "\n",
    "decompose the solution $u_h$ into the mean part $\\bar{u}_h$ and the fluctuation part $\\hat{u}_h$\n",
    "\n",
    "$\\bar{u}_h = \\frac{1}{S} \\sum_{n=0}^{S-1}u_h^n$  $\\,\\,\\,\\,\\,\\, \\bar{u}_h \\in \\mathbb{R}^{Nh \\times S-1}$????\n",
    "\n",
    "and solve the eigenwalueproblem\n",
    "\n",
    "$\n",
    "C\\Omega = \\Omega\\Lambda\\\\\n",
    "\\Lambda = diag[\\lambda_0,...,\\lambda_{S-1}], \\Omega = [\\omega^0,...,\\omega^{S-1}]\n",
    "$\n",
    "\n",
    "$\\lambda_i$ is the $i$th eigenvalue and $\\omega^i$ is the corresponding normalized $i$th eigenvector\n",
    "\n",
    "For a integer $r<<S$ given the $r$th POD basis like:\n",
    "\n",
    "$\n",
    "\\phi_j = \\frac{1}{\\sqrt{\\lambda_j}}\\sum_{n=0}^{r-1}\\omega^j_nu_h^n, \\,\\,\\,\\,\\,\\,\\,\\, j = 0,...,r-1\n",
    "$\n",
    "\n",
    "Frage:\n",
    "For $j=0$  and $r = 3$ the expression becomes to:\n",
    "\n",
    "$\n",
    "\\phi_0 = \\frac{1}{\\sqrt{\\lambda_0}}\\bigg[\\omega_0^0 \\cdot u_h^0 + \\omega_1^0 \\cdot u_h^1 +\\omega_2^0 \\cdot u_h^2\\bigg]\n",
    "$\n",
    "\n",
    "So $\\phi \\in \\mathbb{R}^{N_h\\times r}$\n",
    "\n",
    "To get a orthogonal basis $V = \\{\\phi_0,...\\phi_{r-1}\\}$"
   ]
  },
  {
   "cell_type": "code",
   "execution_count": 10,
   "metadata": {},
   "outputs": [],
   "source": [
    "def calcMean(S_POD,len_h):\n",
    "    ubar = np.zeros(len_h)\n",
    "    #splitting the snapshotsolution like in the paper\n",
    "    for i in range(S_POD.shape[1]):\n",
    "        ubar = ubar + S_POD[:,i]                   \n",
    "    ubar = 1/S_POD.shape[1] * ubar \n",
    "    for i in range(S_POD.shape[1]):\n",
    "        S_POD[:,i] = S_POD[:,i] - ubar\n",
    "    return S_POD,ubar"
   ]
  },
  {
   "cell_type": "code",
   "execution_count": 11,
   "metadata": {},
   "outputs": [],
   "source": [
    "S_POD_v,ubar_v = calcMean(S_POD_v,len(gfu.components[0].vec))\n",
    "S_POD_p,ubar_p = calcMean(S_POD_p,len(gfu.components[1].vec))"
   ]
  },
  {
   "cell_type": "markdown",
   "metadata": {},
   "source": [
    "# POD_Method RedBasis Book"
   ]
  },
  {
   "cell_type": "code",
   "execution_count": null,
   "metadata": {},
   "outputs": [],
   "source": [
    "def calcPOD(S_POD,r):\n",
    "    C = np.transpose(S_POD).dot(S_POD)\n",
    "    V_POD = np.zeros([S_POD.shape[0],r])\n",
    "    U,Sig,VH = np.linalg.svd(C)\n",
    "    VH = np.transpose(VH)\n",
    "    line = np.linspace(0,S_POD.shape[1]-1,r,dtype = int)\n",
    "    o = 0\n",
    "    for i in line:\n",
    "        V_POD[:,o] = 1/(np.sqrt(Sig[i])) * S_POD.dot(VH[:,i])\n",
    "        o = o + 1\n",
    "    \n",
    "    return V_POD"
   ]
  },
  {
   "cell_type": "code",
   "execution_count": null,
   "metadata": {},
   "outputs": [],
   "source": [
    "r = 6\n",
    "V_POD_v = calcPOD(S_POD_v,r)\n",
    "V_POD_p = calcPOD(S_POD_p,r)"
   ]
  },
  {
   "cell_type": "markdown",
   "metadata": {},
   "source": [
    "# POD_Method paper"
   ]
  },
  {
   "cell_type": "code",
   "execution_count": 12,
   "metadata": {},
   "outputs": [],
   "source": [
    "def calcPODp(S_POD,r):\n",
    "    C = np.transpose(S_POD).dot(S_POD)\n",
    "    lam,omg = np.linalg.eigh(C)\n",
    "    lam = np.abs(lam)\n",
    "    V_POD = np.zeros([S_POD.shape[0],r])\n",
    "    for i in range(r):\n",
    "        for j in range(r):\n",
    "            V_POD[:,i] += omg[j,i]*S_POD[:,j]\n",
    "        V_POD[:,i] = 1/np.sqrt(lam[i]) * V_POD[:,i]\n",
    "    return V_POD"
   ]
  },
  {
   "cell_type": "code",
   "execution_count": 13,
   "metadata": {},
   "outputs": [],
   "source": [
    "r = z\n",
    "V_POD_v = calcPODp(S_POD_v,r)\n",
    "V_POD_p = calcPODp(S_POD_p,r)"
   ]
  },
  {
   "cell_type": "markdown",
   "metadata": {},
   "source": [
    "# Offline decomposition\n",
    "\n",
    "$C_h(\\omega,u,v) = \\int_K(\\nabla \\omega \\cdot u): v$\n",
    "\n",
    "$C0_j = C_h(\\bar{u}_h,\\bar{u}_h,\\phi_j)$\n",
    "\n",
    "$C1_{i,j} = C_h(\\bar{u}_h,\\phi_i,\\phi_j) + C_h(\\phi_i,\\bar{u}_h,\\phi_j)$\n",
    "\n",
    "$C_{i,j,k} = C_h(\\phi_i,\\phi_j,\\phi_k)$"
   ]
  },
  {
   "cell_type": "code",
   "execution_count": 14,
   "metadata": {},
   "outputs": [],
   "source": [
    "def Ch_ngsolve(wh,uh,vh):\n",
    "    with TaskManager():\n",
    "        u_N = GridFunction(V)\n",
    "        v_N = GridFunction(V)\n",
    "        w_N = GridFunction(V)\n",
    "        w_N.vec.FV().NumPy()[:] = wh\n",
    "        u_N.vec.FV().NumPy()[:] = uh\n",
    "        v_N.vec.FV().NumPy()[:] = vh\n",
    "        Ch = Integrate(InnerProduct(w_N,Grad(u_N)*v_N),mesh)\n",
    "    \n",
    "    return Ch"
   ]
  },
  {
   "cell_type": "code",
   "execution_count": 15,
   "metadata": {},
   "outputs": [
    {
     "data": {
      "text/plain": [
       "array([ 1.24448621e-06, -3.98628365e-05, -4.33934691e-05,  6.78300796e-06,\n",
       "        6.34403105e-08, -4.14546040e-07, -5.90723186e-05, -8.44774133e-06,\n",
       "        6.14971314e-06, -2.80986170e-05, -1.77425575e-05, -3.83082575e-06,\n",
       "        5.40049903e-06, -1.79028801e-05, -5.16552914e-06,  2.48783636e-05,\n",
       "        9.03174252e-06,  1.03688920e-05,  3.77258206e-05,  1.52100817e-05])"
      ]
     },
     "execution_count": 15,
     "metadata": {},
     "output_type": "execute_result"
    }
   ],
   "source": [
    "#r = z\n",
    "V_POD_v = V_v\n",
    "V_POD_p = V_p\n",
    "C0 = np.zeros(r)\n",
    "w = ubar_v\n",
    "for i in range(r):\n",
    "    #v = V_POD_v[:,i]\n",
    "    #w = S_POD_v[:,i]\n",
    "    v = V_v[:,i]\n",
    "    C0[i] = Ch_ngsolve(w,w,v)\n",
    "C0"
   ]
  },
  {
   "cell_type": "code",
   "execution_count": 16,
   "metadata": {},
   "outputs": [
    {
     "data": {
      "text/plain": [
       "array([[-4.32542243e-08, -1.48557288e-06, -2.16796669e-06,\n",
       "         7.25263498e-07, -2.71957773e-07, -1.08509086e-06,\n",
       "        -2.46434504e-06,  7.58890916e-07,  1.67087288e-06,\n",
       "        -1.78649187e-06, -5.65094404e-07,  1.53102374e-06,\n",
       "         1.68999031e-06,  1.76794736e-07,  1.61059872e-06,\n",
       "         2.14056167e-06,  3.88858890e-07,  1.97851961e-06,\n",
       "         2.30440731e-06,  1.88994898e-06],\n",
       "       [ 2.09762362e-08, -3.87703860e-07, -1.35569206e-06,\n",
       "         1.89931716e-07, -2.77083055e-07,  5.13443531e-07,\n",
       "         2.42143393e-08, -2.49450159e-07, -4.51421174e-08,\n",
       "         2.31118510e-07,  4.03412410e-08, -1.97008443e-07,\n",
       "        -1.50821837e-07, -1.42234754e-07, -2.16621963e-07,\n",
       "         4.01813131e-08,  6.86700220e-08, -1.95637305e-07,\n",
       "        -4.55183344e-09, -1.87967259e-07],\n",
       "       [ 7.95006386e-08, -7.28968003e-07,  4.56141071e-07,\n",
       "        -1.94244058e-06,  2.35755296e-07,  8.12057114e-07,\n",
       "         2.39474017e-07, -5.20871393e-07, -6.20722283e-07,\n",
       "        -2.09365107e-07, -1.42654042e-07, -4.70698868e-07,\n",
       "        -4.46129145e-07, -7.29893978e-07, -5.92422336e-07,\n",
       "        -5.46963137e-07, -1.04261951e-07, -5.49228315e-07,\n",
       "         2.04589039e-08, -4.50390404e-07],\n",
       "       [ 4.46083184e-07, -2.03264547e-07,  9.02198661e-07,\n",
       "         1.32816638e-06, -3.69115590e-06, -2.84062846e-07,\n",
       "        -5.79130302e-07,  2.06460153e-07, -8.70517251e-07,\n",
       "        -5.70439659e-07,  1.37148662e-07,  3.44230038e-07,\n",
       "         2.54070200e-07, -6.81351884e-07, -6.36034371e-07,\n",
       "        -3.80591566e-08, -2.40078491e-07, -1.62837071e-07,\n",
       "         5.13050810e-07,  5.27269357e-09],\n",
       "       [-2.71524616e-07, -2.02641978e-06,  1.32155849e-06,\n",
       "         2.89632730e-06,  4.45046760e-06, -5.50754603e-06,\n",
       "        -3.34540042e-06, -1.20435295e-06,  1.36206350e-06,\n",
       "        -6.79405956e-07, -1.76348175e-06, -1.63289360e-06,\n",
       "        -6.04425140e-07, -1.61892063e-06, -1.89761584e-06,\n",
       "         8.69725540e-07,  1.58992287e-06,  1.93707477e-07,\n",
       "         7.76664490e-07, -1.08624024e-07],\n",
       "       [-1.32748616e-07,  1.15039834e-07, -1.81781517e-06,\n",
       "        -4.59060328e-06,  2.09873404e-06,  7.39575537e-06,\n",
       "        -2.79634808e-06, -1.20555531e-07, -2.43473756e-06,\n",
       "        -3.89141321e-06, -3.62017022e-07, -1.33135147e-06,\n",
       "        -1.84328432e-06, -1.11624110e-06, -6.54637633e-07,\n",
       "        -1.72255636e-07, -6.70684686e-07,  2.40388837e-06,\n",
       "         2.34525306e-06, -1.97561543e-06],\n",
       "       [-5.28501467e-08,  1.39540189e-07, -1.78899054e-06,\n",
       "         6.75077525e-07,  2.93273613e-07,  6.07962084e-08,\n",
       "         2.73518560e-06,  5.47621104e-07, -2.93922113e-06,\n",
       "        -3.17367772e-06, -1.68954333e-06,  1.99080174e-06,\n",
       "         2.04315708e-06, -2.94511628e-07, -3.43997930e-06,\n",
       "         2.87698600e-06,  1.34398234e-06,  2.30681683e-06,\n",
       "         2.08355804e-06,  1.81803327e-06],\n",
       "       [-1.23514222e-08,  4.79541662e-08, -3.29116828e-07,\n",
       "        -1.13706367e-06,  1.02765191e-06,  1.59687321e-06,\n",
       "        -2.33491916e-06, -5.73256814e-07, -2.36397851e-06,\n",
       "         1.87688915e-06, -8.96661467e-07,  1.03472786e-07,\n",
       "         2.29151097e-06,  4.18181559e-07, -2.54383882e-07,\n",
       "         4.88594341e-06,  1.58516163e-06,  8.11386502e-09,\n",
       "         1.72150251e-06,  6.13409936e-07],\n",
       "       [-3.82442512e-08, -2.25191228e-07,  2.85739203e-07,\n",
       "        -1.73718250e-07, -9.86939382e-07,  1.26394769e-06,\n",
       "        -4.02845241e-06, -5.39307131e-07,  3.31134638e-06,\n",
       "        -6.04898663e-07,  1.69742844e-06, -9.66331240e-07,\n",
       "        -1.96068372e-06,  2.39488044e-06,  5.31573462e-06,\n",
       "        -2.09254602e-06,  5.01354210e-07, -9.54491180e-07,\n",
       "         5.27297520e-07,  3.61515458e-06],\n",
       "       [ 9.29436037e-09,  6.00890506e-08, -1.93011878e-07,\n",
       "        -8.04632458e-08, -9.59691447e-07,  1.63764412e-06,\n",
       "        -1.77734700e-06, -2.24693106e-06,  2.09020637e-06,\n",
       "         2.93678987e-06, -4.91080803e-06,  6.94842991e-07,\n",
       "         1.42100572e-06, -1.26258083e-06,  1.77188400e-06,\n",
       "         4.10529582e-06,  6.22193351e-08, -3.98708244e-06,\n",
       "         8.29705207e-07, -1.32767523e-07],\n",
       "       [ 4.18675255e-09,  1.10600126e-07,  2.12425570e-07,\n",
       "         1.62079151e-07, -5.54611784e-07,  1.84574358e-07,\n",
       "        -3.67545822e-07, -2.82322076e-06,  1.49831608e-06,\n",
       "         4.18629247e-06, -3.55607229e-07, -2.96909704e-06,\n",
       "         2.41132367e-06,  2.50061034e-06, -1.55126155e-06,\n",
       "         9.70018833e-07,  2.26779481e-07,  2.12436411e-08,\n",
       "        -1.35780488e-06, -1.27504788e-06],\n",
       "       [ 3.20567295e-08,  7.02529223e-08,  4.68566932e-07,\n",
       "         1.50547608e-07,  3.90742986e-08, -1.29543065e-06,\n",
       "         5.60761629e-07, -1.07825858e-06, -1.57272777e-06,\n",
       "         1.22123884e-06,  4.31906966e-06, -2.42875231e-06,\n",
       "        -5.40241038e-06,  3.93282963e-06,  3.63009289e-06,\n",
       "        -3.64652982e-06,  3.88831172e-06, -4.04963998e-06,\n",
       "         8.84700485e-07,  3.09247270e-07],\n",
       "       [ 3.56803892e-08,  1.60856133e-08,  4.45683238e-07,\n",
       "         6.25465970e-07,  4.15258733e-07, -1.33709877e-06,\n",
       "         4.15145731e-07,  1.96655534e-06, -2.00610343e-06,\n",
       "        -1.25380723e-07, -9.97979261e-07,  2.94832160e-06,\n",
       "        -2.47920071e-06, -8.02208675e-06, -1.02652932e-06,\n",
       "         4.04835123e-06, -2.33477783e-06,  4.20710466e-06,\n",
       "        -2.84617786e-06,  2.45267709e-06],\n",
       "       [ 2.21819249e-08,  1.57413524e-07,  5.78825490e-08,\n",
       "         2.09723213e-07,  4.49379128e-08,  1.57560298e-06,\n",
       "         2.94824934e-07,  4.10718739e-07,  7.47796118e-07,\n",
       "        -1.43430347e-07, -6.97058407e-07, -3.11473810e-06,\n",
       "         1.24672536e-06, -7.96229149e-07, -7.55154720e-06,\n",
       "        -2.50197427e-06,  2.10461560e-07, -2.20657046e-06,\n",
       "         4.03254311e-07,  9.08318543e-07],\n",
       "       [-5.31099914e-09,  1.22846764e-07,  3.27842289e-08,\n",
       "         4.14168698e-07,  7.99887398e-07, -5.81095753e-07,\n",
       "         3.46460197e-06,  5.69766482e-07, -3.75158912e-06,\n",
       "         2.38045849e-06, -2.11729263e-08, -9.44155415e-07,\n",
       "        -1.59442412e-06, -1.77917225e-07, -6.33916297e-06,\n",
       "        -9.09648492e-06, -2.45361428e-06, -7.76256016e-07,\n",
       "        -2.95103029e-06,  3.07815574e-10],\n",
       "       [-3.22914617e-08, -1.06306816e-07, -5.88653588e-07,\n",
       "         6.18367807e-07,  7.72029777e-07,  8.19222466e-07,\n",
       "        -1.58503628e-06,  1.87004918e-06,  3.52246455e-07,\n",
       "        -1.44848853e-06,  2.04069659e-06,  8.74672845e-07,\n",
       "         3.39035365e-07,  1.44338332e-06,  1.16454063e-07,\n",
       "        -8.19221577e-06, -7.07028520e-06, -2.89923287e-06,\n",
       "        -3.45853330e-06, -3.15301752e-06],\n",
       "       [-1.44712700e-08, -3.23570679e-08, -2.45387815e-07,\n",
       "         9.71560269e-08,  5.89781930e-07,  7.66170446e-07,\n",
       "        -2.43434552e-06, -1.29818296e-06,  1.26703912e-06,\n",
       "        -1.55429906e-07,  5.64722755e-07, -4.17051800e-07,\n",
       "        -8.50265294e-07, -2.05605369e-08,  2.63743319e-06,\n",
       "        -1.33146051e-06, -3.75849725e-06, -3.67810012e-06,\n",
       "        -1.73949838e-06, -2.62204630e-06],\n",
       "       [-5.20014088e-09, -4.02483372e-08, -2.82962079e-07,\n",
       "         8.34247271e-07,  5.90988743e-07,  1.55941937e-06,\n",
       "        -2.88111218e-06, -1.48562723e-06, -5.76593346e-07,\n",
       "         1.24163625e-06, -2.24174118e-07, -3.27017317e-06,\n",
       "        -3.46109435e-06, -1.68168757e-06,  1.30996827e-06,\n",
       "         1.19240956e-06,  1.68489729e-06, -3.69320681e-06,\n",
       "        -4.07431405e-06, -4.93531035e-07],\n",
       "       [-1.22811564e-09, -1.74465983e-08, -4.59893891e-07,\n",
       "         1.59004932e-07,  7.83721462e-07, -6.75714341e-07,\n",
       "        -3.88964822e-07,  2.92359911e-07,  1.21144535e-06,\n",
       "         2.90548560e-07, -3.31678242e-08, -2.24031675e-06,\n",
       "        -3.22373906e-07, -1.48591589e-06, -7.89477234e-07,\n",
       "         1.82243810e-08, -1.00900000e-07, -2.35706558e-07,\n",
       "        -7.10027785e-07, -2.09892938e-06],\n",
       "       [ 9.40232430e-09, -2.45096300e-08, -3.24903763e-07,\n",
       "         2.30603712e-07,  2.96349784e-07, -1.71514678e-06,\n",
       "        -4.51688194e-07,  5.51024964e-07, -8.68837513e-07,\n",
       "         7.33227589e-07, -2.59990665e-08, -9.68493418e-07,\n",
       "         1.05618186e-06,  3.09692558e-06, -2.07240097e-07,\n",
       "         4.48767595e-07,  5.86341211e-07, -7.13323007e-07,\n",
       "         3.32001376e-06, -5.84252957e-07]])"
      ]
     },
     "execution_count": 16,
     "metadata": {},
     "output_type": "execute_result"
    }
   ],
   "source": [
    "C1 = np.zeros([r,r])\n",
    "for i in range(r):\n",
    "    w = ubar_v\n",
    "    #w = S_POD_v[:,i]\n",
    "    u = V_POD_v[:,i]\n",
    "    for j in range(r):\n",
    "        v = V_POD_v[:,j]\n",
    "        C1[i,j] = Ch_ngsolve(w,u,v)\n",
    "        C1[i,j] += Ch_ngsolve(u,w,v)\n",
    "C1"
   ]
  },
  {
   "cell_type": "code",
   "execution_count": 17,
   "metadata": {},
   "outputs": [
    {
     "name": "stdout",
     "output_type": "stream",
     "text": [
      "0\n",
      "1\n",
      "2\n",
      "3\n",
      "4\n",
      "5\n",
      "6\n",
      "7\n",
      "8\n",
      "9\n",
      "10\n",
      "11\n",
      "12\n",
      "13\n",
      "14\n",
      "15\n",
      "16\n",
      "17\n",
      "18\n",
      "19\n"
     ]
    },
    {
     "data": {
      "text/plain": [
       "array([[[-1.41293694e-09,  2.54757002e-09, -2.68783709e-08, ...,\n",
       "          6.57755830e-09,  3.30208641e-10,  1.06926298e-08],\n",
       "        [-1.68513516e-05,  1.23341625e-06,  1.12834113e-06, ...,\n",
       "          3.82502525e-08,  1.61790689e-07,  1.06787901e-07],\n",
       "        [ 4.51514464e-07,  4.03734400e-06,  6.07970916e-07, ...,\n",
       "         -2.34299154e-07, -1.48042280e-07, -2.09927810e-07],\n",
       "        ...,\n",
       "        [ 2.64095403e-07,  1.08548807e-07,  8.27925586e-08, ...,\n",
       "          1.11013604e-06, -7.03959124e-07, -1.46357311e-06],\n",
       "        [ 4.16001142e-07,  2.05118706e-08, -2.16972160e-08, ...,\n",
       "          1.66057359e-06,  8.71698263e-07, -9.30933608e-07],\n",
       "        [ 7.34978398e-07, -6.70007645e-10, -1.17086698e-07, ...,\n",
       "          9.67261002e-07,  1.61061594e-06,  7.46868328e-07]],\n",
       "\n",
       "       [[ 1.68530845e-05, -1.24499899e-06, -1.16298127e-06, ...,\n",
       "         -2.95798882e-08, -1.57061162e-07, -1.04304737e-07],\n",
       "        [-7.29673443e-10, -2.22507706e-09, -8.80656692e-09, ...,\n",
       "         -1.69962850e-09, -6.41846352e-10, -7.89248493e-10],\n",
       "        [-1.56251985e-05,  1.95496779e-07,  1.69497159e-06, ...,\n",
       "          9.23954180e-08,  2.04400290e-07,  1.80878324e-07],\n",
       "        ...,\n",
       "        [-5.31481119e-07,  7.13902719e-08,  1.23167926e-07, ...,\n",
       "         -6.73166545e-08,  6.13045245e-09,  8.58894874e-08],\n",
       "        [-1.90954753e-07,  1.30799435e-08,  1.05042931e-08, ...,\n",
       "         -1.50465768e-07, -1.42743981e-07, -2.06159672e-08],\n",
       "        [ 2.13738561e-07, -2.01863280e-08, -8.07121016e-08, ...,\n",
       "         -8.42071777e-08, -2.10880600e-07, -1.44752800e-07]],\n",
       "\n",
       "       [[-4.53673670e-07, -4.06315169e-06, -5.81337773e-07, ...,\n",
       "          2.51298076e-07,  1.61195584e-07,  2.24333666e-07],\n",
       "        [ 1.56245753e-05, -1.95266170e-07, -1.69343719e-06, ...,\n",
       "         -9.91518221e-08, -2.03766087e-07, -1.81939827e-07],\n",
       "        [ 3.11091781e-09, -5.20203851e-09, -8.94181165e-09, ...,\n",
       "         -6.72062816e-09, -8.50907460e-11, -6.16385835e-09],\n",
       "        ...,\n",
       "        [-2.07426659e-06,  2.50318048e-07,  4.24450385e-07, ...,\n",
       "         -2.74049995e-07,  1.44737444e-07,  3.84072050e-07],\n",
       "        [-1.84362472e-06,  3.02048561e-07,  3.87995072e-07, ...,\n",
       "         -5.24730991e-07, -3.28869679e-07,  8.67224493e-08],\n",
       "        [-5.30665988e-07,  1.79502114e-07,  7.39582285e-08, ...,\n",
       "         -3.46587557e-07, -6.35351388e-07, -3.82602750e-07]],\n",
       "\n",
       "       ...,\n",
       "\n",
       "       [[-2.65201376e-07, -1.10430086e-07, -9.80080258e-08, ...,\n",
       "         -1.33124802e-06,  5.53207527e-07,  1.38673115e-06],\n",
       "        [ 5.31658330e-07, -7.23169409e-08, -1.21361743e-07, ...,\n",
       "          8.12610432e-08, -2.95565998e-09, -8.11121583e-08],\n",
       "        [ 2.07501250e-06, -2.50458592e-07, -4.24116642e-07, ...,\n",
       "          3.14636482e-07, -1.34393817e-07, -3.65477254e-07],\n",
       "        ...,\n",
       "        [ 1.82190417e-10, -2.40888034e-10,  5.01513899e-09, ...,\n",
       "          1.02383932e-07,  2.73215784e-08, -1.53924343e-08],\n",
       "        [-2.75969588e-05,  1.04812886e-06,  3.61143704e-06, ...,\n",
       "          1.84320181e-06,  7.92219807e-07,  4.80593027e-07],\n",
       "        [-1.58460843e-05,  7.13895309e-07,  2.33783081e-06, ...,\n",
       "          1.20804181e-06,  8.14072621e-07,  6.72491502e-07]],\n",
       "\n",
       "       [[-4.16753872e-07, -1.29280230e-08, -1.88501840e-08, ...,\n",
       "         -1.64057613e-06, -8.84046151e-07,  8.71327572e-07],\n",
       "        [ 1.91061835e-07, -1.50029178e-08, -5.30123504e-09, ...,\n",
       "          1.49673530e-07,  1.43221663e-07,  2.08755153e-08],\n",
       "        [ 1.84442621e-06, -3.05175570e-07, -3.80449836e-07, ...,\n",
       "          5.15407643e-07,  3.28541843e-07, -8.27921400e-08],\n",
       "        ...,\n",
       "        [ 2.75973688e-05, -1.05204641e-06, -3.62156641e-06, ...,\n",
       "         -1.74966005e-06, -6.21555897e-07, -4.68555418e-07],\n",
       "        [ 5.98451681e-11, -3.44498727e-09,  8.05562337e-09, ...,\n",
       "          2.12860909e-08,  8.81547557e-08,  1.52198033e-08],\n",
       "        [-2.93910010e-05,  1.17117038e-06,  3.98877292e-06, ...,\n",
       "          2.79176640e-06,  1.95857010e-06,  1.21959344e-06]],\n",
       "\n",
       "       [[-7.35451265e-07, -3.20593987e-11,  1.09566143e-07, ...,\n",
       "         -9.74799952e-07, -1.46298325e-06, -7.55330573e-07],\n",
       "        [-2.13575417e-07,  1.87289335e-08,  8.11990028e-08, ...,\n",
       "          8.85010396e-08,  2.04469928e-07,  1.48029549e-07],\n",
       "        [ 5.31362973e-07, -1.80384666e-07, -7.54484948e-08, ...,\n",
       "          3.47942171e-07,  6.12877064e-07,  3.90779894e-07],\n",
       "        ...,\n",
       "        [ 1.58462827e-05, -7.15479447e-07, -2.32630865e-06, ...,\n",
       "         -1.17565207e-06, -7.26215517e-07, -6.72545060e-07],\n",
       "        [ 2.93912817e-05, -1.17021676e-06, -3.97865105e-06, ...,\n",
       "         -2.75421820e-06, -1.91728639e-06, -1.16824564e-06],\n",
       "        [ 3.88814536e-10,  8.12319979e-10, -4.59845854e-09, ...,\n",
       "          3.14467120e-08, -3.59139127e-08,  4.93632929e-08]]])"
      ]
     },
     "execution_count": 17,
     "metadata": {},
     "output_type": "execute_result"
    }
   ],
   "source": [
    "C = np.zeros([r,r,r])\n",
    "for i in range(r):\n",
    "    print(i)\n",
    "    w = V_POD_v[:,i]\n",
    "    #w = S_POD_v[:,i]\n",
    "    for j in range(r):\n",
    "        u = V_POD_v[:,j]\n",
    "        #u = S_POD_v[:,j]\n",
    "        for k in range(r):\n",
    "            v = V_POD_v[:,k]\n",
    "            C[i,j,k] = Ch_ngsolve(u,w,v)\n",
    "C"
   ]
  },
  {
   "cell_type": "code",
   "execution_count": 18,
   "metadata": {},
   "outputs": [],
   "source": [
    "V_POD = np.zeros([len(gfu.vec),r])\n",
    "V_POD[0:len(gfu.components[0].vec),0:r] = V_POD_v\n",
    "V_POD[len(gfu.components[0].vec):len(gfu.vec),0:r] = V_POD_p\n",
    "#V_POD = 1/(np.sqrt(2))*V_POD\n"
   ]
  },
  {
   "cell_type": "markdown",
   "metadata": {},
   "source": [
    "# RedBasis NavierStokes"
   ]
  },
  {
   "cell_type": "code",
   "execution_count": 19,
   "metadata": {},
   "outputs": [],
   "source": [
    "MN = np.transpose(V_POD).dot(Mh.dot(V_POD))\n",
    "AN = np.transpose(V_POD).dot(Ah.dot(V_POD))"
   ]
  },
  {
   "cell_type": "code",
   "execution_count": 20,
   "metadata": {},
   "outputs": [],
   "source": [
    "gfu_N = GridFunction(X)\n",
    "gfu = GridFunction(X)\n",
    "gfu_N.vec.FV().NumPy()[:] = erg_h[:,0]\n",
    "gfu.vec.FV().NumPy()[:] = erg_h[:,0]\n",
    "\n",
    "uN = np.array(gfu_N.vec).dot(V_POD)\n",
    "Draw(gfu.components[0],mesh,\"gfu\",sd=3)\n",
    "Draw(gfu_N.components[0],mesh,\"gfu_N\",sd=3)\n",
    "Draw(gfu_N.components[0]-gfu.components[0],mesh,\"error\",sd=3)\n",
    "err = res.CreateVector()\n",
    "fom = res.CreateVector()\n",
    "rom = res.CreateVector()"
   ]
  },
  {
   "cell_type": "code",
   "execution_count": 21,
   "metadata": {},
   "outputs": [],
   "source": [
    "#dt = 0.0001\n",
    "#dn = 1/dt\n",
    "FOM_L2_norm = []\n",
    "ROM_L2_norm = []\n",
    "Residium = []\n",
    "time = []\n",
    "erg_N = np.zeros([len(gfu.vec),int(dn)+1])\n",
    "erg_N[:,0] = gfu_N.vec\n",
    "\n",
    "\n",
    "MN_star = MN + dt*AN\n",
    "inv_N = np.linalg.inv(MN_star)\n",
    "for i in range(int(dn)):\n",
    "    err.vec = sqrt (Integrate ((gfu.components[0]-gfu_N.components[0])*(gfu.components[0]-gfu_N.components[0]),mesh))\n",
    "    fom.vec = Integrate ((gfu.components[0])*(gfu.components[0]),mesh)\n",
    "    rom.vec = Integrate ((gfu_N.components[0])*(gfu_N.components[0]),mesh)\n",
    "    res_N = AN.dot(uN) + uN.dot(C.dot(uN)) + C1.dot(uN) \n",
    "    uN -= dt * inv_N.dot(res_N)\n",
    "    erg_N[:,i+1] = (uN).dot(np.transpose(V_POD))\n",
    "    \n",
    "    \n",
    "    gfu.vec.FV().NumPy()[:] = erg_h[:,i+1]\n",
    "    gfu_N.vec.FV().NumPy()[:] = (uN).dot(np.transpose(V_POD))\n",
    "    Residium.append(err.vec)\n",
    "    FOM_L2_norm.append(fom.vec)\n",
    "    ROM_L2_norm.append(rom.vec)\n",
    "    time.append(dt*i)\n",
    "    Redraw()"
   ]
  },
  {
   "cell_type": "code",
   "execution_count": 22,
   "metadata": {
    "scrolled": false
   },
   "outputs": [
    {
     "data": {
      "image/png": "[encoded data removed]",
      "text/plain": [
       "<Figure size 432x288 with 1 Axes>"
      ]
     },
     "metadata": {
      "needs_background": "light"
     },
     "output_type": "display_data"
    }
   ],
   "source": [
    "import matplotlib.pyplot as plt\n",
    "plt.title(\"Total error snap: {} dt {}\".format(z,dt))\n",
    "plt.ylabel(\"error\")\n",
    "plt.xlabel(\"time [s]\")\n",
    "plt.grid()\n",
    "plt.plot(time[1:],Residium[1:], label='Residium')\n",
    "plt.legend()\n",
    "plt.savefig(\"plots_Tensor/Total error {} dt GM wechsel\".format(z))"
   ]
  },
  {
   "cell_type": "code",
   "execution_count": 23,
   "metadata": {},
   "outputs": [
    {
     "data": {
      "image/png": "[encoded data removed]",
      "text/plain": [
       "<Figure size 432x288 with 1 Axes>"
      ]
     },
     "metadata": {
      "needs_background": "light"
     },
     "output_type": "display_data"
    }
   ],
   "source": [
    "plt.title(\"absolut velositiy {} dt {}\".format(z,dt))\n",
    "plt.ylabel(\"|u|\")\n",
    "plt.xlabel(\"time [s]\")\n",
    "plt.grid()\n",
    "plt.semilogy(time,FOM_L2_norm, label='FOM_L2_norm')\n",
    "plt.semilogy(time,ROM_L2_norm, label='ROM_L2_norm')\n",
    "plt.legend()\n",
    "plt.savefig(\"plots/absolut velositiy {}\".format(z))"
   ]
  },
  {
   "cell_type": "code",
   "execution_count": 24,
   "metadata": {},
   "outputs": [],
   "source": [
    "FOM_L2_norm = []\n",
    "ROM_L2_norm = []\n",
    "Residium_N = []\n",
    "for i in range(int(dn)):\n",
    "    sum_h = sum(erg_h[:,i])\n",
    "    sum_N = sum(erg_N[:,i])\n",
    "    FOM_L2_norm.append(np.abs(sum_h*sum_h))\n",
    "    ROM_L2_norm.append(np.abs(sum_N*sum_h))\n",
    "    red = sum_N-sum_h\n",
    "    Residium_N.append(np.sqrt(np.abs(red*red)))"
   ]
  },
  {
   "cell_type": "code",
   "execution_count": 25,
   "metadata": {},
   "outputs": [
    {
     "data": {
      "image/png": "[encoded data removed]",
      "text/plain": [
       "<Figure size 432x288 with 1 Axes>"
      ]
     },
     "metadata": {
      "needs_background": "light"
     },
     "output_type": "display_data"
    }
   ],
   "source": [
    "plt.title(\"absolut velositiy {} dt {}\".format(z,dt))\n",
    "plt.ylabel(\"|u|\")\n",
    "plt.xlabel(\"time [s]\")\n",
    "plt.grid()\n",
    "plt.semilogy(time,FOM_L2_norm, label='FOM_L2_norm')\n",
    "plt.semilogy(time,ROM_L2_norm, label='ROM_L2_norm')\n",
    "plt.legend()\n",
    "plt.savefig(\"plots/absolut velositiy {}\".format(z))"
   ]
  },
  {
   "cell_type": "code",
   "execution_count": 28,
   "metadata": {},
   "outputs": [
    {
     "data": {
      "image/png": "[encoded data removed]",
      "text/plain": [
       "<Figure size 432x288 with 1 Axes>"
      ]
     },
     "metadata": {
      "needs_background": "light"
     },
     "output_type": "display_data"
    }
   ],
   "source": [
    "plt.title(\"total error velositiy {} dt {}\".format(z,dt))\n",
    "plt.ylabel(\"error\")\n",
    "plt.xlabel(\"time [s]\")\n",
    "plt.grid()\n",
    "plt.semilogy(time,Residium_N, label='Residium_N')\n",
    "plt.legend()\n",
    "plt.savefig(\"plots/total error velositiy {}\".format(z))"
   ]
  },
  {
   "cell_type": "code",
   "execution_count": null,
   "metadata": {},
   "outputs": [],
   "source": [
    "np.linalg.norm(Residium)"
   ]
  },
  {
   "cell_type": "code",
   "execution_count": null,
   "metadata": {},
   "outputs": [],
   "source": [
    "gfu.vec.FV().NumPy()[:] = erg_h[:,500]\n",
    "gfu_N.vec.FV().NumPy()[:] = erg_N[:,495]\n",
    "Draw(gfu.components[0],mesh,\"gfu\",sd=3)\n",
    "Draw(gfu_N.components[0],mesh,\"gfu_N\",sd=3)"
   ]
  },
  {
   "cell_type": "code",
   "execution_count": null,
   "metadata": {},
   "outputs": [],
   "source": []
  }
 ],
 "metadata": {
  "kernelspec": {
   "display_name": "Python 3.7.5 64-bit",
   "language": "python",
   "name": "python37564bitb5f188b5fd4549769c9ea1e1a366fa0d"
  },
  "language_info": {
   "codemirror_mode": {
    "name": "ipython",
    "version": 3
   },
   "file_extension": ".py",
   "mimetype": "text/x-python",
   "name": "python",
   "nbconvert_exporter": "python",
   "pygments_lexer": "ipython3",
   "version": "3.7.5"
  }
 },
 "nbformat": 4,
 "nbformat_minor": 4
}
