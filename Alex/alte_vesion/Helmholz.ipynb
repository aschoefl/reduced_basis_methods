{
 "cells": [
  {
   "cell_type": "code",
   "execution_count": null,
   "metadata": {},
   "outputs": [],
   "source": [
    "import netgen.gui\n",
    "from ngsolve import *\n",
    "import numpy as np"
   ]
  },
  {
   "cell_type": "code",
   "execution_count": null,
   "metadata": {},
   "outputs": [],
   "source": [
    "from netgen.geom2d import unit_square\n",
    "import matplotlib.pyplot as plt\n",
    "mesh = Mesh(unit_square.GenerateMesh(maxh=0.05))\n",
    "\n",
    "from math import pi"
   ]
  },
  {
   "cell_type": "code",
   "execution_count": null,
   "metadata": {},
   "outputs": [],
   "source": [
    "import netgen.geom2d as geom2dim\n",
    "geo = geom2dim.SplineGeometry()\n",
    "\n",
    "points = [(0,0),(0.5,0),(0.5,0.5),(0,0.5)]\n",
    "p1,p2,p3,p4 = [geo.AppendPoint(*pnt) for pnt in points]\n",
    "curves = [['line',p1,p2],['line',p2,p3],['line',p3,p4],['line',p4,p1]]\n",
    "[geo.Append(c) for c in curves]\n",
    "\n",
    "\n",
    "mesh = Mesh(geo.GenerateMesh(maxh = 0.1))\n",
    "from math import pi"
   ]
  },
  {
   "cell_type": "code",
   "execution_count": null,
   "metadata": {},
   "outputs": [],
   "source": [
    "maxind = 20\n",
    "fes = H1(mesh, order=3,dirichlet=\"Top|Left|Right|Bottom\")\n",
    "gfu = GridFunction(fes,name = \"u\")\n",
    "erg = np.zeros([len(gfu.vec),maxind])\n",
    "print(len(gfu.vec))"
   ]
  },
  {
   "cell_type": "code",
   "execution_count": null,
   "metadata": {},
   "outputs": [],
   "source": [
    "source = exp(-50**2*((x-0.5)*(x-0.5)+(y-0.5)*(y-0.5)))\n",
    "Draw(source,mesh,name = \"pulse\")  "
   ]
  },
  {
   "cell_type": "code",
   "execution_count": null,
   "metadata": {},
   "outputs": [],
   "source": [
    "u = fes.TrialFunction()\n",
    "v = fes.TestFunction()\n",
    "A = BilinearForm(fes)\n",
    "F = LinearForm(fes)\n",
    "source = exp(-50**2*((x-0.25)*(x-0.25)+(y-0.25)*(y-0.25)))\n",
    "Draw(source,mesh,name = \"pulse\")       \n",
    "#omega = 1*pi*20     \n",
    "omega = []  \n",
    "\n",
    "norm_0_5 = []\n",
    "for i in range(6,maxind):\n",
    "    omega.append((i*0.01)*pi*20)\n",
    "j = 0\n",
    "print(\"omega: \",omega)\n",
    "\n",
    "for i in omega:\n",
    "    print(j)\n",
    "    A += (grad(u)*grad(v)-i**2*u*v)*dx\n",
    "    F += source*v*dx\n",
    "\n",
    "    A.Assemble()\n",
    "    F.Assemble()\n",
    "    \n",
    "    gfu.vec.data = A.mat.Inverse(fes.FreeDofs()) * F.vec\n",
    "    norm_0_5.append(sqrt (Integrate ( (gfu)*(gfu), mesh)))\n",
    "    j = j+1"
   ]
  },
  {
   "cell_type": "code",
   "execution_count": null,
   "metadata": {},
   "outputs": [],
   "source": [
    "gfu.vec.data = a.mat.Inverse(fes.FreeDofs()) * f.vec\n",
    "erg[:,1] = gfu.vec\n",
    "Draw (gfu)\n",
    "print (\"L2-error:\", sqrt (Integrate ( (gfu)*(gfu), mesh)))"
   ]
  },
  {
   "cell_type": "code",
   "execution_count": null,
   "metadata": {},
   "outputs": [],
   "source": [
    "plt.semilogy(omega[1:180],norm_2[1:180])\n",
    "plt.xlabel(\"omega\")\n",
    "plt.ylabel(\"L2-Norm\")\n",
    "plt.savefig('resonanz_2.png')"
   ]
  },
  {
   "cell_type": "code",
   "execution_count": null,
   "metadata": {},
   "outputs": [],
   "source": [
    "plt.semilogy(omega[50:150],norm[50:150])\n",
    "plt.xlabel(\"omega\")\n",
    "plt.ylabel(\"L2-Norm\")\n",
    "plt.savefig('resonanz_1.png')"
   ]
  },
  {
   "cell_type": "code",
   "execution_count": null,
   "metadata": {},
   "outputs": [],
   "source": [
    "plt.plot(omega[1:170],norm_3[1:170])\n",
    "plt.xlabel(\"omega\")\n",
    "plt.ylabel(\"L2-Norm\")\n",
    "plt.savefig('resonanz_3.png')"
   ]
  },
  {
   "cell_type": "code",
   "execution_count": null,
   "metadata": {},
   "outputs": [],
   "source": [
    "plt.plot(omega,norm_0_5)\n",
    "plt.xlabel(\"omega\")\n",
    "plt.ylabel(\"L2-Norm\")\n",
    "plt.savefig('resonanz_0_5.png')"
   ]
  },
  {
   "cell_type": "code",
   "execution_count": null,
   "metadata": {},
   "outputs": [],
   "source": [
    "u = fes.TrialFunction()\n",
    "v = fes.TestFunction()\n",
    "M = BilinearForm(fes)\n",
    "K = BilinearForm(fes)\n",
    "f = LinearForm(fes)\n",
    "source = exp(-50**2*((x-0.5)*(x-0.5)+(y-0.5)*(y-0.5)))\n",
    "Draw(source,mesh,name = \"pulse\")       \n",
    "omega = 1*pi*20     \n",
    "#omega = []  \n",
    "\n",
    "norm = []\n",
    "gfu = GridFunction(fes,name = \"u\")\n",
    "\n",
    "M += u*v*dx\n",
    "K += grad(u)*grad(v)*dx\n",
    "f = LinearForm(fes)\n",
    "f += source*v*dx\n",
    "\n",
    "M.Assemble()\n",
    "K.Assemble()\n",
    "f.Assemble()\n",
    "gfu.vec.data = (K.mat.Inverse(fes.FreeDofs())-omega**2*M.mat.Inverse(fes.FreeDofs())) * f.vec\n",
    "#erg[:,j] = gfu.vec\n",
    "norm.append(sqrt (Integrate ( (gfu)*(gfu), mesh)))\n"
   ]
  },
  {
   "cell_type": "code",
   "execution_count": null,
   "metadata": {},
   "outputs": [],
   "source": [
    "u = fes.TrialFunction()\n",
    "v = fes.TestFunction()\n",
    "a = BilinearForm(fes)\n",
    "f = LinearForm(fes)\n",
    "source = exp(-50**2*((x-0.5)*(x-0.5)+(y-0.5)*(y-0.5)))\n",
    "Draw(source,mesh,name = \"pulse\")       \n",
    "#omega = 1*pi*20     \n",
    "omega = []  \n",
    "\n",
    "norm = []\n",
    "for i in range(6,maxind):\n",
    "    omega.append((i*0.03)*pi*20)\n",
    "    #print((i*0.02)*pi*20)\n",
    "#omega = [1.5*pi*20,2*pi*20,2.5*pi*20,3*pi*20]\n",
    "j = 0\n",
    "print(\"omega: \",omega)\n",
    "for i in omega:\n",
    "    print(j)\n",
    "    a += (grad(u)*grad(v)-i**2*u*v)*dx\n",
    "    f = LinearForm(fes)\n",
    "\n",
    "    f += source*v*dx\n",
    "\n",
    "    a.Assemble()\n",
    "    f.Assemble()\n",
    "    gfu.vec.data = a.mat.Inverse(fes.FreeDofs()) * f.vec\n",
    "    erg[:,j] = gfu.vec\n",
    "    norm.append(sqrt (Integrate ( (gfu)*(gfu), mesh)))\n",
    "    j = j+1"
   ]
  },
  {
   "cell_type": "code",
   "execution_count": null,
   "metadata": {},
   "outputs": [],
   "source": [
    "import netgen.geom2d as geom2dim\n",
    "geo = geom2dim.SplineGeometry()\n",
    "\n",
    "points = [(0,0),(2,0),(2,2),(0,2)]\n",
    "p1,p2,p3,p4 = [geo.AppendPoint(*pnt) for pnt in points]\n",
    "curves = [['line',p1,p2],['line',p2,p3],['line',p3,p4],['line',p4,p1]]\n",
    "[geo.Append(c) for c in curves]\n",
    "\n",
    "\n",
    "mesh = Mesh(geo.GenerateMesh(maxh = 0.1))\n",
    "from math import pi"
   ]
  }
 ],
 "metadata": {
  "kernelspec": {
   "display_name": "Python 3",
   "language": "python",
   "name": "python3"
  },
  "language_info": {
   "codemirror_mode": {
    "name": "ipython",
    "version": 3
   },
   "file_extension": ".py",
   "mimetype": "text/x-python",
   "name": "python",
   "nbconvert_exporter": "python",
   "pygments_lexer": "ipython3",
   "version": "3.6.9"
  }
 },
 "nbformat": 4,
 "nbformat_minor": 4
}
