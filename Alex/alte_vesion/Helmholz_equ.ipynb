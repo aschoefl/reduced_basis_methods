{
 "cells": [
  {
   "cell_type": "code",
   "execution_count": 1,
   "metadata": {},
   "outputs": [],
   "source": [
    "import netgen.gui\n",
    "from ngsolve import *\n",
    "import numpy as np\n",
    "import scipy.sparse as sp\n",
    "from math import pi\n",
    "from numpy import linalg as LA\n",
    "import matplotlib.pyplot as plt"
   ]
  },
  {
   "cell_type": "markdown",
   "metadata": {},
   "source": [
    "### Erstellt ein Quadrat mit der Länge $\\pi$ \n",
    "### und setzt einen Impuls in der Mitte des Quadrats "
   ]
  },
  {
   "cell_type": "code",
   "execution_count": 2,
   "metadata": {},
   "outputs": [],
   "source": [
    "#import netgen.geom2d as geom2dim\n",
    "#geo = geom2dim.SplineGeometry()\n",
    "\n",
    "#points = [(0,0),(3*pi,0),(3*pi,3*pi),(0,3*pi)]\n",
    "#p1,p2,p3,p4 = [geo.AppendPoint(*pnt) for pnt in points]\n",
    "#curves = [['line',p1,p2],['line',p2,p3],['line',p3,p4],['line',p4,p1]]\n",
    "#[geo.Append(c) for c in curves]\n",
    "\n",
    "#mesh = Mesh(geo.GenerateMesh(maxh = 0.2))\n",
    "\n",
    "#piha = 3*pi/2\n",
    "#source = exp(-10**2*((x-piha)*(x-piha)+(y-piha)*(y-piha)))\n",
    "#Draw(source,mesh,name = \"pulse\")"
   ]
  },
  {
   "cell_type": "markdown",
   "metadata": {},
   "source": [
    "### Erstellt ein Quadrat mit der Länge $1$ \n",
    "### und setzt einen Impuls in der Mitte des Quadrats"
   ]
  },
  {
   "cell_type": "code",
   "execution_count": 3,
   "metadata": {},
   "outputs": [],
   "source": [
    "import netgen.geom2d as geom2dim\n",
    "geo = geom2dim.SplineGeometry()\n",
    "a = 1\n",
    "points = [(0,0),(a,0),(a,a),(0,a)]\n",
    "p1,p2,p3,p4 = [geo.AppendPoint(*pnt) for pnt in points]\n",
    "curves = [['line',p1,p2],['line',p2,p3],['line',p3,p4],['line',p4,p1]]\n",
    "[geo.Append(c) for c in curves]\n",
    "\n",
    "mesh = Mesh(geo.GenerateMesh(maxh = 0.1))\n",
    "\n",
    "\n",
    "piha = a/2\n",
    "shift = 0\n",
    "source = exp(-70**2*((x-piha-shift)*(x-piha-shift)+(y-piha-shift)*(y-piha-shift)))\n",
    "Draw(source,mesh,name = \"pulse\")"
   ]
  },
  {
   "cell_type": "code",
   "execution_count": 4,
   "metadata": {},
   "outputs": [],
   "source": [
    "maxind = 40\n",
    "fes = H1(mesh, order=5,dirichlet=\".*\")\n",
    "#fes = H1(mesh, order=5,dirichlet=\".*\")\n",
    "gfu = GridFunction(fes,name = \"u\")\n",
    "erg = np.zeros([len(gfu.vec),maxind])\n",
    "fh = np.zeros([len(gfu.vec),maxind])"
   ]
  },
  {
   "cell_type": "markdown",
   "metadata": {},
   "source": [
    "### Die helmholzgleichung:\n",
    "$\\Delta u - \\omega^2 u = f$\n",
    "### und die Schwache Formulierung:\n",
    "$\\int_{\\Omega}\\nabla u \\nabla v - \\omega^2\\int_{\\Omega}u v = \\int_{\\Omega}fv$ $v \\in V$\n",
    "### löse die obrige Gleichung mit paar $\\omega_i$ und speichere diese $u_i$ in eine Matrix "
   ]
  },
  {
   "cell_type": "code",
   "execution_count": 5,
   "metadata": {},
   "outputs": [],
   "source": [
    "#u = fes.TrialFunction()\n",
    "#v = fes.TestFunction()\n",
    "\n",
    "#A = BilinearForm(fes)\n",
    "#F = LinearForm(fes)\n",
    "\n",
    "#A += (grad(u)*grad(v)- (pi-0.001)**2*u*v)*dx\n",
    "#F += source*v*dx\n",
    "\n",
    "#F.Assemble()\n",
    "#A.Assemble()\n",
    "\n",
    "#gfu.vec.data = A.mat.Inverse(fes.FreeDofs()) * F.vec\n",
    "#Draw(gfu,mesh,name = \"wave\")"
   ]
  },
  {
   "cell_type": "code",
   "execution_count": 6,
   "metadata": {},
   "outputs": [
    {
     "name": "stdout",
     "output_type": "stream",
     "text": [
      "gif:  0.0\n",
      "gif:  0.0\n",
      "gif:  0.0\n",
      "gif:  0.0\n",
      "gif:  0.0\n",
      "gif:  0.0\n",
      "gif:  0.0\n",
      "gif:  0.0\n",
      "gif:  0.0\n",
      "gif:  0.0\n",
      "gif:  0.0\n",
      "gif:  0.0\n",
      "gif:  0.0\n",
      "gif:  0.0\n",
      "gif:  0.0\n",
      "gif:  0.0\n",
      "gif:  0.0\n",
      "gif:  0.0\n",
      "gif:  0.0\n",
      "gif:  0.0\n",
      "gif:  0.0\n",
      "gif:  0.0\n",
      "gif:  0.0\n",
      "gif:  0.0\n",
      "gif:  0.0\n",
      "gif:  0.0\n",
      "gif:  0.0\n",
      "gif:  0.0\n",
      "gif:  0.0\n",
      "gif:  0.0\n",
      "gif:  0.0\n",
      "gif:  0.0\n",
      "gif:  0.0\n",
      "gif:  0.0\n",
      "gif:  0.0\n",
      "gif:  0.0\n",
      "gif:  0.0\n",
      "gif:  0.0\n",
      "gif:  0.0\n",
      "gif:  0.0\n",
      "erg [ 0.00000000e+00  0.00000000e+00  0.00000000e+00 ...  4.07291185e-05\n",
      " -6.98635808e-05  3.61373054e-05]\n"
     ]
    }
   ],
   "source": [
    "u = fes.TrialFunction()\n",
    "v = fes.TestFunction()\n",
    "\n",
    "A = BilinearForm(fes)\n",
    "K = BilinearForm(fes)\n",
    "M = BilinearForm(fes)\n",
    "F = LinearForm(fes)\n",
    "\n",
    "omega = Parameter(1)\n",
    "A += (grad(u)*grad(v)- omega**2*u*v)*dx\n",
    "K += grad(u)*grad(v)*dx\n",
    "M += u*v*dx\n",
    "\n",
    "\n",
    "#A += 1j*omega*u*v*ds # R \n",
    "F += source*v*dx\n",
    "       \n",
    "#omega = 1*pi*20     \n",
    "o = []  \n",
    "\n",
    "norm = []\n",
    "for i in range(0,maxind):\n",
    "    o.append(i*(pi/4))\n",
    "j = 0\n",
    "#print(\"omega: \",omega)\n",
    "Draw(gfu)\n",
    "for i in o:   \n",
    "    omega.Set(i)\n",
    "    \n",
    "    \n",
    "    A.Assemble()\n",
    "    K.Assemble()\n",
    "    M.Assemble()\n",
    "    F.Assemble()\n",
    "    \n",
    "    gfu.vec.data = A.mat.Inverse(fes.FreeDofs()) * F.vec\n",
    "    #Redraw()\n",
    "\n",
    "    \n",
    "    \n",
    "    #erg[:,j] = gfu.vec \n",
    "    #rhs[:,j] = F.vec\n",
    "    #bas[:,j] = gfu\n",
    "    #print(gfu.cof)\n",
    "    #if(j == 1):\n",
    "        #Ah = A.mat\n",
    "    erg[:,j] = gfu.vec\n",
    "    print(\"gif: \",gfu.vec[0])\n",
    "    fh[:,j] = F.vec\n",
    "    norm.append(sqrt (Integrate ((gfu)*(gfu),mesh)))\n",
    "    #exact = sin(pi*x)+sin(pi*y)\n",
    "    #print (\"L2-error:\", sqrt (Integrate ( (gfu-exact)*(gfu-exact), mesh)))\n",
    "    #print(\"Number of iter: \",j,\"omega: \",i,\"L2-Norm:\",sqrt (Integrate ((gfu)*(gfu),mesh)))\n",
    "    j = j+1\n",
    "    #input()\n",
    "print(\"erg\",erg[:,0])\n",
    "Ms = M.mat\n",
    "Ks = K.mat\n",
    "rows,cols,vals = Ms.COO()\n",
    "Mh = sp.csr_matrix((vals,(rows,cols)))\n",
    "rows,cols,vals = Ks.COO()\n",
    "Kh = sp.csr_matrix((vals,(rows,cols)))"
   ]
  },
  {
   "cell_type": "code",
   "execution_count": 7,
   "metadata": {},
   "outputs": [
    {
     "name": "stdout",
     "output_type": "stream",
     "text": [
      "8.326672684688674e-17\n"
     ]
    },
    {
     "data": {
      "text/plain": [
       "2976"
      ]
     },
     "execution_count": 7,
     "metadata": {},
     "output_type": "execute_result"
    }
   ],
   "source": [
    "V, r = np.linalg.qr(erg)\n",
    "print(V[:,1].dot(V[:,2]))\n",
    "len(V)\n"
   ]
  },
  {
   "cell_type": "code",
   "execution_count": 8,
   "metadata": {},
   "outputs": [],
   "source": [
    "#vpi = [pi,2*pi,3*pi,4*pi,5*pi,6*pi,7*pi]\n",
    "#points = [0.005,0.005,0.005,0.005,0.005,0.005,0.005]\n",
    "#b = 430\n",
    "#a = 350\n",
    "#plt.plot(o[a:b],norm[a:b])\n",
    "#plt.plot(o,norm)\n",
    "#plt.xlabel(\"omega\")\n",
    "#plt.ylabel(\"L2-Norm\")\n",
    "#plt.plot(vpi,points, \"r*\")\n",
    "#plt.savefig('results/resonanz_goal_1_sh00.png')"
   ]
  },
  {
   "cell_type": "markdown",
   "metadata": {},
   "source": [
    "### Für die erste Metode GramSchmid verwenden um eine orthonormale Koordinatentransformationsmatrix zu erstellen(Euklidische Norm). "
   ]
  },
  {
   "cell_type": "code",
   "execution_count": 9,
   "metadata": {},
   "outputs": [],
   "source": [
    "#def GramSchidt(V,u):\n",
    "#    if V.all() == 0:\n",
    "#        z = u\n",
    "#    else:\n",
    "#        VTu = np.transpose(V).dot(u)\n",
    "#        VVTu = V.dot(VTu)\n",
    "#        z = u-VVTu\n",
    "        \n",
    "#    z = z/LA.norm(z)\n",
    "#    return z"
   ]
  },
  {
   "cell_type": "code",
   "execution_count": 10,
   "metadata": {},
   "outputs": [],
   "source": [
    "#V = np.zeros([len(gfu.vec),maxind])\n",
    "#for i in range(maxind):\n",
    "#    #for j in range(100):\n",
    "#        u = erg[:,i]\n",
    "#        zi = GramSchidt(V,u)\n",
    "#        V[:,i] = zi "
   ]
  },
  {
   "cell_type": "code",
   "execution_count": 11,
   "metadata": {},
   "outputs": [],
   "source": [
    "#print(len(V))"
   ]
  },
  {
   "cell_type": "markdown",
   "metadata": {},
   "source": [
    "$$\n",
    "M_N = V^T \\cdot M_h \\cdot V\n",
    "$$\n",
    "\n",
    "$$\n",
    "K_N = V^T \\cdot K_h \\cdot V\n",
    "$$\n",
    "\n",
    "$$\n",
    "f_N = V^T \\cdot f_h\n",
    "$$\n",
    "\n",
    "$$\n",
    "u_i = (K_N - \\omega^2_iM_N)^{-1} \\cdot f_N\n",
    "$$"
   ]
  },
  {
   "cell_type": "code",
   "execution_count": 12,
   "metadata": {},
   "outputs": [],
   "source": [
    "MN = np.transpose(V).dot(Mh.dot(V))\n",
    "KN = np.transpose(V).dot(Kh.dot(V))\n",
    "fN = np.transpose(V).dot(fh)\n",
    "#a = [1,3]\n",
    "#print(a[0]*MN)\n",
    "#print(\"Hallo: \",MN)"
   ]
  },
  {
   "cell_type": "code",
   "execution_count": 13,
   "metadata": {},
   "outputs": [],
   "source": [
    "iteration = int(1e5)\n",
    "interval = 30\n",
    "factor = interval / iteration\n",
    "omegaN = []\n",
    "norm_L2 =[]\n",
    "uN = np.zeros([maxind,iteration])\n",
    "for i in range(iteration):\n",
    "    omegaN.append(factor*i)\n",
    "    uN[:,i] = np.linalg.solve(KN-omegaN[i]**2*MN, fN[0])\n",
    "    norm_L2.append(sqrt(uN[:,i].dot(uN[:,i])))\n",
    "#uN = zeros([maxind,it])\n",
    "#\n",
    "\n",
    "points = []\n",
    "viel = []\n",
    "for i in range(100):\n",
    "    points.append(10)\n",
    "    viel.append(i*pi)\n"
   ]
  },
  {
   "cell_type": "code",
   "execution_count": 14,
   "metadata": {},
   "outputs": [
    {
     "data": {
      "image/png": "[encoded data removed]",
      "text/plain": [
       "<Figure size 432x288 with 1 Axes>"
      ]
     },
     "metadata": {
      "needs_background": "light"
     },
     "output_type": "display_data"
    }
   ],
   "source": [
    "c = 350000\n",
    "d = 520000\n",
    "plt.semilogy(omegaN,norm_L2)\n",
    "plt.plot(viel[0:10], points[0:10], \"r*\")\n",
    "plt.xlabel(\"omega\")\n",
    "plt.ylabel(\"L2-Norm\")\n",
    "plt.savefig('results/resonanz_RB_40.png')"
   ]
  },
  {
   "cell_type": "code",
   "execution_count": 15,
   "metadata": {},
   "outputs": [
    {
     "name": "stdout",
     "output_type": "stream",
     "text": [
      "2976\n",
      "[ 0.         -0.         -0.         ... -0.01536471  0.02635544\n",
      " -0.01363249]\n",
      "[ 0.00000000e+00  0.00000000e+00  0.00000000e+00 ...  4.07291185e-05\n",
      " -6.98635808e-05  3.61373054e-05]\n"
     ]
    }
   ],
   "source": [
    "new = uN[:,20000].dot(np.transpose(V))\n",
    "print(len(new))\n",
    "gif = GridFunction(fes,name = \"gif\")\n",
    "gif.vec.FV().NumPy()[:] = new\n",
    "Draw(gif)\n",
    "print(V[:,0])\n",
    "print(erg[:,0])"
   ]
  },
  {
   "cell_type": "code",
   "execution_count": null,
   "metadata": {},
   "outputs": [],
   "source": []
  }
 ],
 "metadata": {
  "kernelspec": {
   "display_name": "Python 3",
   "language": "python",
   "name": "python3"
  },
  "language_info": {
   "codemirror_mode": {
    "name": "ipython",
    "version": 3
   },
   "file_extension": ".py",
   "mimetype": "text/x-python",
   "name": "python",
   "nbconvert_exporter": "python",
   "pygments_lexer": "ipython3",
   "version": "3.6.8"
  }
 },
 "nbformat": 4,
 "nbformat_minor": 4
}
