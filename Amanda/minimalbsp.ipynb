{
 "cells": [
  {
   "cell_type": "code",
   "execution_count": 1,
   "metadata": {},
   "outputs": [],
   "source": [
    "from netgen.csg import *\n",
    "from ngsolve import *\n",
    "from ngsolve.webgui import Draw\n",
    "# import netgen.gui\n",
    "\n",
    "import numpy as np"
   ]
  },
  {
   "cell_type": "code",
   "execution_count": 2,
   "metadata": {},
   "outputs": [],
   "source": [
    "# in SI units\n",
    "a = 0.150 # width of hole in coil\n",
    "l = 0.294 # length of aluminium plate\n",
    "r = 0.025  # width of coil\n",
    "\n",
    "# hights of coil\n",
    "hc0 = 0.049 \n",
    "hc1 = 0.149 \n",
    "\n",
    "ha = 0.019  # hight of aluminium plate\n",
    "\n",
    "# x-y coordinates of vertices for coil \n",
    "'''(Eckpunkte des die Spule umschließenden Quaders, wie sag ich das auf Englisch?)'''\n",
    "cv = [(l-a-2*r,0), (l,0), (l,a+2*r), (l-a-2*r,a+2*r)]\n",
    "\n",
    "# x-y coordinates of centers of circles for corners\n",
    "cc = [(l-a, 2*r), (l-2*r, 2*r), (l-2*r, a), (l-a, a)]\n",
    "\n",
    "# x-y coordinates of vertices for hole\n",
    "hole_vertices = [(0.018, 0.018), (0.126, 0.126)]\n",
    "\n",
    "d = 0.050 # extra space between geometry and enclosing box\n",
    "\n",
    "sor = 1 # sense of rotation"
   ]
  },
  {
   "cell_type": "code",
   "execution_count": 3,
   "metadata": {
    "scrolled": false
   },
   "outputs": [
    {
     "data": {
      "application/vnd.jupyter.widget-view+json": {
       "model_id": "3becccefea764626a86bf227566fae42",
       "version_major": 2,
       "version_minor": 0
      },
      "text/plain": [
       "NGSWebGuiWidget(value={'ngsolve_version': '6.2.2008-17-g2ebed44be', 'mesh_dim': 3, 'order2d': 2, 'order3d': 2,…"
      ]
     },
     "metadata": {},
     "output_type": "display_data"
    },
    {
     "data": {
      "text/plain": []
     },
     "execution_count": 3,
     "metadata": {},
     "output_type": "execute_result"
    }
   ],
   "source": [
    "geo = CSGeometry()\n",
    "\n",
    "''' warum brauch ich '-1e-3' damit es funktioniert? '''\n",
    "p = cv.copy()\n",
    "p[0] = (p[0][0], -1e-3)\n",
    "\n",
    "maxh_corners = 0.020\n",
    "# corners\n",
    "corners = []\n",
    "\n",
    "'''\n",
    "########## was ich gerne haette ##########\n",
    "for i in range(4):\n",
    "    corners += [(Cylinder(Pnt(cc[i]+(0,)), Pnt(cc[i]+(1,)), 2*r) - Cylinder(Pnt(cc[i]+(0,)), Pnt(cc[i]+(1,)), r)) * \\\n",
    "       OrthoBrick(Pnt(p[i]+(hc0,)),Pnt(cc[i]+(hc1,)))]\n",
    "####################\n",
    "'''\n",
    "\n",
    "'''########## was ich stattdessen mache ##########'''\n",
    "corners += [(Cylinder(Pnt(cc[0]+(0,)), Pnt(cc[0]+(1,)), 2*r) - Cylinder(Pnt(cc[0]+(0,)), Pnt(cc[0]+(1,)), r)) * \\\n",
    "             OrthoBrick(Pnt(p[0]+(hc0,)),Pnt(cc[0]+(hc1,))).mat('corner0').maxh(maxh_corners)]\n",
    "corners += [(Cylinder(Pnt(cc[1]+(0,)), Pnt(cc[1]+(1,)), 2*r) - Cylinder(Pnt(cc[1]+(0,)), Pnt(cc[1]+(1,)), r)) * \\\n",
    "             OrthoBrick(Pnt(p[1]+(hc0,))-Vec(2*r, 0,0),Pnt(cc[1]+(hc1,))+Vec(2*r,0,0)).mat('corner1').maxh(maxh_corners)]\n",
    "corners += [(Cylinder(Pnt(cc[2]+(0,)), Pnt(cc[2]+(1,)), 2*r) - Cylinder(Pnt(cc[2]+(0,)), Pnt(cc[2]+(1,)), r)) * \\\n",
    "             OrthoBrick(Pnt(cc[2]+(hc0,)),Pnt(p[2]+(hc1,))).mat('corner2').maxh(maxh_corners)]\n",
    "corners += [(Cylinder(Pnt(cc[3]+(0,)), Pnt(cc[3]+(1,)), 2*r) - Cylinder(Pnt(cc[3]+(0,)), Pnt(cc[3]+(1,)), r)) * \\\n",
    "             OrthoBrick(Pnt(p[3]+(hc0,))-Vec(0,2*r,0), Pnt(cc[3]+(hc1,))+Vec(0,2*r,0)).mat('corner3').maxh(maxh_corners)]\n",
    "'''####################'''\n",
    "\n",
    "\n",
    "# bricks\n",
    "b0 = [(l-a,0), (l-r,2*r), (l-a,a+r), (l-a-2*r,2*r)]\n",
    "b1 = [(l-2*r,r),(l,a), (l-2*r,a+2*r), (l-a-r,a)]\n",
    "bricks = []\n",
    "for i in range(4):\n",
    "    bricks += [OrthoBrick(Pnt(b0[i]+(hc0,)), Pnt(b1[i]+(hc1,))).mat('brick{}'.format(i))]\n",
    "\n",
    "plate = (OrthoBrick(Pnt(0,0,0), Pnt(l,l,ha)) -\n",
    "            OrthoBrick(Pnt(hole_vertices[0]+(0,)), Pnt(hole_vertices[1]+(ha,)))).mat('plate')\n",
    "\n",
    "\n",
    "box = OrthoBrick(Pnt(0-d, 0-d, 0-d), Pnt(p[2][0]+d, l+d, hc1+d)).bc(\"outer\")\n",
    "air = (box - sum(bricks) - sum(corners) - plate).mat('air')\n",
    "    \n",
    "\n",
    "geo.Add(air)\n",
    "geo.Add(plate)\n",
    "for i in range(4):\n",
    "    geo.Add(corners[i])\n",
    "    geo.Add(bricks[i])\n",
    "# generate mesh\n",
    "mesh = Mesh(geo.GenerateMesh(maxh=0.5))\n",
    "mesh.Curve(6)\n",
    "\n",
    "\n",
    "# generate normalized impressed current vectors\n",
    "n = lambda center: CoefficientFunction(sqrt((x-center[0])**2+(y-center[1])**2))\n",
    "sd = {\n",
    "    'corner0': (-sor*(y-cc[0][1])/n(cc[0]),sor*(x-cc[0][0])/n(cc[0]),0) ,\n",
    "    'corner1': (-sor*(y-cc[1][1])/n(cc[1]),sor*(x-cc[1][0])/n(cc[1]),0) , \n",
    "    'corner2': (-sor*(y-cc[2][1])/n(cc[2]),sor*(x-cc[2][0])/n(cc[2]),0) ,\n",
    "    'corner3': (-sor*(y-cc[3][1])/n(cc[3]),sor*(x-cc[3][0])/n(cc[3]),0) ,\n",
    "    'brick0': (sor*1,0,0) ,\n",
    "    'brick1': (0,sor*1,0) ,\n",
    "    'brick2': (-sor*1,0,0) ,\n",
    "    'brick3': (0,-sor*1,0)\n",
    "}\n",
    "coil_mat = ['corner0','corner1', 'corner2','corner3','brick0','brick1','brick2','brick3']\n",
    "source_norm = CoefficientFunction([sd[mat] if mat in sd.keys() else (0,0,0) for mat in mesh.GetMaterials()])\n",
    "\n",
    "Draw (source_norm, mesh, draw_surf=False)"
   ]
  },
  {
   "cell_type": "code",
   "execution_count": 4,
   "metadata": {
    "scrolled": false
   },
   "outputs": [],
   "source": [
    "SHOW_POTENTIAL = False\n",
    "if SHOW_POTENTIAL: \n",
    "    %matplotlib\n",
    "    from matplotlib import pyplot as plt\n",
    "    from mpl_toolkits import mplot3d\n",
    "    \n",
    "import numpy as np\n",
    "\n",
    "def T0z_pw(x,y, sor=1):\n",
    "    \n",
    "    # check if x is in area 1 or 2\n",
    "    if (x >= cv[0][0] and x<cc[0][0]):\n",
    "        \n",
    "        # check if y is in area D or E\n",
    "        if (y >= cv[0][1] and y<cc[0][1]):\n",
    "            \n",
    "            dist = lambda p: sqrt((p[0]-cc[0][0])**2+(p[1]-cc[0][1])**2)\n",
    "            if dist((x,y)) > 2*r: return (0)\n",
    "            elif dist((x,y)) < r: return (sor)\n",
    "            else: return (sor*(2*r-dist((x,y)))/r)\n",
    "        \n",
    "        # check if y is in area C\n",
    "        elif (y >= cc[0][1] and y < cc[3][1]):\n",
    "            \n",
    "            if (x <= cv[0][0]+r): \n",
    "                return(sor*(x-cv[0][0])/r)\n",
    "            else: return (sor)\n",
    "        \n",
    "        # check if y is in area A or B\n",
    "        elif (y >= cc[3][1] and y <= cv[3][1]):\n",
    "            \n",
    "            dist = lambda p: sqrt((p[0]-cc[3][0])**2+(p[1]-cc[3][1])**2)\n",
    "            if dist((x,y)) > 2*r: return (0)\n",
    "            elif dist((x,y)) < r: return (sor)\n",
    "            else: return (sor*(2*r-dist((x,y)))/r)\n",
    "        \n",
    "     \n",
    "    # check if x is in area 3\n",
    "    elif (x>= cc[0][0] and x<cc[1][0]):\n",
    "        \n",
    "        # check if y is in area E\n",
    "        if (y>cv[0][1] and y < cv[0][1]+r):\n",
    "            return(sor*y/r)\n",
    "        \n",
    "        # check if y is in area B to D\n",
    "        elif (y >= cv[0][1]+r and y < cv[3][1]-r): \n",
    "            return (sor)\n",
    "        \n",
    "        # check if y is in area A\n",
    "        elif (y >= cv[3][1]-r and y < cv[3][1]):\n",
    "            return(-sor*(y-cv[3][1])/r)\n",
    "\n",
    "    # check if x is in area 4 or 5\n",
    "    elif (x >= cc[1][0] and x <= cv[1][0]):\n",
    "        \n",
    "        # check if y is in area D or E\n",
    "        if (y>=cv[0][1] and y<cc[0][1]):\n",
    "            \n",
    "            dist = lambda p: sqrt((p[0]-cc[1][0])**2+(p[1]-cc[1][1])**2)\n",
    "            if dist((x,y)) > 2*r: return (0)\n",
    "            elif dist((x,y)) < r: return (sor)\n",
    "            else: return (sor*(2*r-dist((x,y)))/r)\n",
    "        \n",
    "        # check if y is in area C\n",
    "        elif (y >= cc[0][1] and y < cc[3][1]):\n",
    "            \n",
    "            if ( x >= cv[1][0]-r): \n",
    "                return(-sor*(x-cv[1][0])/r)\n",
    "            \n",
    "            else: return (float(sor))\n",
    "        \n",
    "        # check if y is in area A or B\n",
    "        elif (y >= cc[3][1] and y <= cv[3][1]):\n",
    "            \n",
    "            dist = lambda p: sqrt((p[0]-cc[2][0])**2+(p[1]-cc[2][1])**2)\n",
    "            if dist((x,y)) > 2*r: return (0)\n",
    "            elif dist((x,y)) < r: return (sor)\n",
    "            else: return (sor*(2*r-dist((x,y)))/r)\n",
    "            \n",
    "    return (0.0)\n",
    "\n",
    "T0z = np.vectorize(T0z_pw)\n",
    "\n",
    "if SHOW_POTENTIAL: \n",
    "    # plot for control\n",
    "    fig = plt.figure()\n",
    "    ax = plt.axes(projection='3d')\n",
    "\n",
    "    x_lin = y_lin = np.linspace(0, l+0.010, 100)  \n",
    "    values = T0z(x_lin[:,None], y_lin[None,:])\n",
    "    values = values.reshape(len(x_lin),len(y_lin)).astype(float)\n",
    "    X, Y = np.meshgrid(x_lin, y_lin)\n",
    "    ax.scatter(X, Y, values)\n",
    "    plt.title('z coordianate of impressed current vector potential')"
   ]
  },
  {
   "cell_type": "code",
   "execution_count": 6,
   "metadata": {
    "scrolled": false
   },
   "outputs": [
    {
     "data": {
      "application/vnd.jupyter.widget-view+json": {
       "model_id": "ec0db83d9de641b38ccd28766dd31fa5",
       "version_major": 2,
       "version_minor": 0
      },
      "text/plain": [
       "NGSWebGuiWidget(value={'ngsolve_version': '6.2.2008-17-g2ebed44be', 'mesh_dim': 3, 'order2d': 2, 'order3d': 2,…"
      ]
     },
     "metadata": {},
     "output_type": "display_data"
    },
    {
     "data": {
      "text/plain": []
     },
     "execution_count": 6,
     "metadata": {},
     "output_type": "execute_result"
    }
   ],
   "source": [
    "N = 3000\n",
    "\n",
    "x_lin = np.linspace(cv[0][0], cv[1][0], N)\n",
    "y_lin = np.linspace(cv[0][1], cv[3][1], N)\n",
    "\n",
    "values = T0z(x_lin[:,None], y_lin[None,:])\n",
    "values = values.reshape(1,len(x_lin),len(y_lin)).astype(float)\n",
    "\n",
    "vc = VoxelCoefficient((cv[0][0],cv[0][1],hc0), \n",
    "        (cv[1][0],cv[3][1],hc1), values, linear=True)\n",
    "func = IfPos(hc1-z, IfPos(z-hc0, vc, 0), 0)\n",
    "\n",
    "Draw(func, mesh)"
   ]
  },
  {
   "cell_type": "code",
   "execution_count": 9,
   "metadata": {
    "scrolled": false
   },
   "outputs": [
    {
     "data": {
      "application/vnd.jupyter.widget-view+json": {
       "model_id": "54015e5c3e0c490eb12c8bbc8bf3c049",
       "version_major": 2,
       "version_minor": 0
      },
      "text/plain": [
       "NGSWebGuiWidget(value={'ngsolve_version': '6.2.2008-17-g2ebed44be', 'mesh_dim': 3, 'order2d': 2, 'order3d': 2,…"
      ]
     },
     "metadata": {},
     "output_type": "display_data"
    },
    {
     "data": {
      "application/vnd.jupyter.widget-view+json": {
       "model_id": "f1380e4f794b42279a84ccf2eddd640f",
       "version_major": 2,
       "version_minor": 0
      },
      "text/plain": [
       "NGSWebGuiWidget(value={'ngsolve_version': '6.2.2008-17-g2ebed44be', 'mesh_dim': 3, 'order2d': 2, 'order3d': 2,…"
      ]
     },
     "metadata": {},
     "output_type": "display_data"
    },
    {
     "data": {
      "text/plain": []
     },
     "execution_count": 9,
     "metadata": {},
     "output_type": "execute_result"
    }
   ],
   "source": [
    "fes = HCurl(mesh, order = 2, dirichlet=\"outer\", complex = True)#, nograds=True,)\n",
    "u,v = fes.TnT()\n",
    "\n",
    "\n",
    "# physical constants\n",
    "mu0 = 4*np.pi*1e-7 \n",
    "curdens = 2742/(r*(hc1-hc0)) # impressed current density in m (if scaling factor is 1e-3)\n",
    "omega = 2*np.pi*50 # angular velocity\n",
    "sigma = 3.526e7\n",
    "\n",
    "# nu = CoefficientFunction([1/(mu0*1000) if mat in coil_mat else 1/mu0 for mat in mesh.GetMaterials()])\n",
    "\n",
    "nu = CoefficientFunction(1/mu0)\n",
    "# regularization term and conductivity term\n",
    "kappa = CoefficientFunction([1j*omega*sigma if mat=='plate' else 1e-6*nu for mat in mesh.GetMaterials()])\n",
    "\n",
    "a = BilinearForm(fes)\n",
    "a += nu*curl(u)*curl(v)*dx + kappa*u*v*dx \n",
    "c = Preconditioner(a, \"bddc\")\n",
    "\n",
    "f1 = LinearForm(fes)\n",
    "f1 += CoefficientFunction(curdens)*source_norm*v*dx\n",
    "\n",
    "f2 = LinearForm(fes)\n",
    "f2 += CoefficientFunction(curdens)*func*CoefficientFunction((0,0,1))*curl(v)*dx\n",
    "\n",
    "with TaskManager():\n",
    "    a.Assemble()\n",
    "    f1.Assemble()\n",
    "    gfu1 = GridFunction(fes)\n",
    "\n",
    "    f2.Assemble()\n",
    "    gfu2 = GridFunction(fes)\n",
    "    \n",
    "    solvers.CG(sol=gfu1.vec, rhs=f1.vec, mat=a.mat, pre=c.mat, tol= 1e-8, printrates=False)\n",
    "    solvers.CG(sol=gfu2.vec, rhs=f2.vec, mat=a.mat, pre=c.mat, tol= 1e-8, printrates=False)\n",
    "\n",
    "\n",
    "B1 = lambda omega_t: (curl(gfu1)*exp(1j*omega_t)).real\n",
    "B2 = lambda omega_t: (curl(gfu2)*exp(1j*omega_t)).real\n",
    "      \n",
    "Draw(B1(0), mesh, \"B1\", draw_surf=False)\n",
    "Draw(B2(0), mesh, \"B2\", draw_surf=False)"
   ]
  },
  {
   "cell_type": "code",
   "execution_count": 12,
   "metadata": {},
   "outputs": [
    {
     "name": "stdout",
     "output_type": "stream",
     "text": [
      "Using matplotlib backend: Qt5Agg\n",
      "relative error [1.11011677 0.18228577 0.0341745  0.1636058  0.26493066 6.77380682\n",
      " 0.30267717 0.11577465 0.08629317 0.11062931 0.11755856 0.10424513\n",
      " 0.1360692  0.12014039 0.14309344 0.3210129  0.4944248 ]\n",
      "relative error [0.79475341 0.42093144 0.5105092  0.62032606 0.78462986 1.13995317\n",
      " 1.98157397 0.52296976 0.2400299  0.08653006 0.20496491 0.17665021\n",
      " 0.17143459 0.2258396  0.29042514 0.34405283 1.27753975]\n",
      "relative error [ 0.42761168  0.65657388  0.69437909  0.64765447  0.58720533 11.49700651\n",
      "  0.92776648  0.70299672  0.62218679  0.62318769  0.57734547  0.63370176\n",
      "  0.64117974  0.57271634  0.647328    0.90628321  1.1083381 ]\n",
      "relative error [0.45661422 0.85348982 0.87785507 0.91647132 0.98618019 1.13734618\n",
      " 1.47946041 0.86567162 0.71923222 0.64401882 0.67194633 0.66096122\n",
      " 0.65871869 0.69534159 0.75495715 0.80481526 1.19817896]\n"
     ]
    },
    {
     "data": {
      "text/plain": [
       "<matplotlib.legend.Legend at 0x7f37bd97af40>"
      ]
     },
     "execution_count": 12,
     "metadata": {},
     "output_type": "execute_result"
    }
   ],
   "source": [
    "%matplotlib\n",
    "from matplotlib import pyplot as plt\n",
    "\n",
    "xv = [0, 0.018, 0.036, 0.054, 0.072, 0.09, 0.108, 0.126, 0.144, 0.162,\n",
    "         0.18, 0.198, 0.216, 0.234, 0.252, 0.27, 0.288]\n",
    "\n",
    "val1 = {'B0': np.array([B1(0)(mesh(x, 0.072, 0.034))[2] for x in xv])*1e4,\n",
    "          'B90': np.array([B1(np.pi/2)(mesh(x, 0.072, 0.034))[2] for x in xv])*1e4}\n",
    "\n",
    "val2 = {'B0': np.array([B2(0)(mesh(x, 0.072, 0.034))[2] for x in xv])*1e2,\n",
    "          'B90': np.array([B2(np.pi/2)(mesh(x, 0.072, 0.034))[2] for x in xv])*1e2}\n",
    "\n",
    "ref_val = {'B0': np.array([-4.9, -17.88, -22.13,-20.19,-15.67,0.36,43.64,78.11,\n",
    "                 71.55,60.44,53.91,51.62,53.81,56.91,59.24,52.78,27.61]),\n",
    "          'B90': np.array([-1.16,2.84,4.15,4,3.07,2.31,1.89,4.97,12.61,14.15,13.04,\n",
    "                         12.4,12.05,12.27,12.66,9.96,2.36])}\n",
    "\n",
    "\n",
    "plt.figure(0)\n",
    "plt.plot(xv, val1['B0'], label='modeled')\n",
    "plt.plot(xv, ref_val['B0'], label='measured')\n",
    "print(\"relative error\", abs(np.divide(val1['B0']-ref_val['B0'], ref_val['B0'])))\n",
    "plt.title('z-coord of B1(0)')\n",
    "plt.legend()\n",
    "\n",
    "plt.figure(1)\n",
    "plt.plot(xv, val1['B90'],label='modeled')\n",
    "plt.plot(xv, ref_val['B90'], label='measured')\n",
    "print(\"relative error\", abs(np.divide(val1['B90']-ref_val['B90'], ref_val['B90'])))\n",
    "plt.title('z-coord of B1(90)')\n",
    "plt.legend()\n",
    "\n",
    "plt.figure(3)\n",
    "plt.plot(xv, val2['B0'], label='modeled')\n",
    "plt.plot(xv, ref_val['B0'], label='measured')\n",
    "print(\"relative error\", abs(np.divide(val2['B0']-ref_val['B0'], ref_val['B0'])))\n",
    "plt.title('z-coord of B2(0)')\n",
    "plt.legend()\n",
    "\n",
    "plt.figure(4)\n",
    "plt.plot(xv, val2['B90'],label='modeled')\n",
    "plt.plot(xv, ref_val['B90'], label='measured')\n",
    "print(\"relative error\", abs(np.divide(val2['B90']-ref_val['B90'], ref_val['B90'])))\n",
    "plt.title('z-coord of B2(90)')\n",
    "plt.legend()\n",
    "\n",
    "# print(\"Version 1: {}, Version2: {}\".format(B1(omega_t)(mip)[2], B2(omega_t)(mip)[2]))"
   ]
  }
 ],
 "metadata": {
  "kernelspec": {
   "display_name": "Python 3",
   "language": "python",
   "name": "python3"
  },
  "language_info": {
   "codemirror_mode": {
    "name": "ipython",
    "version": 3
   },
   "file_extension": ".py",
   "mimetype": "text/x-python",
   "name": "python",
   "nbconvert_exporter": "python",
   "pygments_lexer": "ipython3",
   "version": "3.8.2"
  }
 },
 "nbformat": 4,
 "nbformat_minor": 4
}
