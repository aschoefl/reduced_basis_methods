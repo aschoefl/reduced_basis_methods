{
 "cells": [
  {
   "cell_type": "code",
   "execution_count": 1,
   "metadata": {},
   "outputs": [],
   "source": [
    "from __future__ import print_function\n",
    "from ipywidgets import interact, interactive, fixed, interact_manual\n",
    "import ipywidgets as widgets\n",
    "\n",
    "from netgen.csg import *\n",
    "from ngsolve import *\n",
    "from ngsolve.webgui import Draw\n",
    "# import netgen.gui\n",
    "\n",
    "import numpy as np"
   ]
  },
  {
   "cell_type": "code",
   "execution_count": 2,
   "metadata": {},
   "outputs": [],
   "source": [
    "scaling_factor = 1e-3\n",
    "\n",
    "a = 150 * scaling_factor # width of hole in coil\n",
    "l = 294 * scaling_factor# length of aluminium plate\n",
    "r = 25 * scaling_factor # width of coil\n",
    "\n",
    "# hights of coil\n",
    "hc0 = 49 * scaling_factor\n",
    "hc1 = 149 * scaling_factor\n",
    "\n",
    "ha = 19 * scaling_factor # hight of aluminium plate\n",
    "\n",
    "# x-y coordinates of vertices for coil \n",
    "'''(Eckpunkte des die Spule umschließenden Quaders, wie sag ich das auf Englisch?)'''\n",
    "coil_outer_vertices = [(l-a-2*r,0), (l,0), (l,a+2*r), (l-a-2*r,a+2*r)]\n",
    "\n",
    "# x-y coordinates of centers of circles for corners\n",
    "coil_circle_centers = [(l-a, 2*r), (l-2*r, 2*r), (l-2*r, a), (l-a, a)]\n",
    "\n",
    "# x-y coordinates of vertices for hole\n",
    "hole_vertices = [(18* scaling_factor, 18* scaling_factor), (126* scaling_factor, 126* scaling_factor)]\n",
    "\n",
    "d = 50 * scaling_factor # extra space between geometry and enclosing box\n",
    "\n",
    "sor = -1 # sense of rotation"
   ]
  },
  {
   "cell_type": "code",
   "execution_count": 3,
   "metadata": {
    "scrolled": false
   },
   "outputs": [
    {
     "data": {
      "application/vnd.jupyter.widget-view+json": {
       "model_id": "afab86b6351d4b8a99e384e5c57d2627",
       "version_major": 2,
       "version_minor": 0
      },
      "text/plain": [
       "NGSWebGuiWidget(value={'ngsolve_version': '6.2.2008-17-g2ebed44be', 'mesh_dim': 3, 'order2d': 2, 'order3d': 2,…"
      ]
     },
     "metadata": {},
     "output_type": "display_data"
    },
    {
     "data": {
      "text/plain": []
     },
     "execution_count": 3,
     "metadata": {},
     "output_type": "execute_result"
    }
   ],
   "source": [
    "geo = CSGeometry()\n",
    "\n",
    "cc = coil_circle_centers.copy()\n",
    "\n",
    "''' warum brauch ich '-1e-3' damit es funktioniert? '''\n",
    "bp = coil_outer_vertices.copy()\n",
    "bp[0] = (bp[0][0], -1e-3)\n",
    "\n",
    "maxh_corners = 20*scaling_factor\n",
    "# corners\n",
    "corners = []\n",
    "\n",
    "'''\n",
    "########## was ich gerne haette ##########\n",
    "for i in range(4):\n",
    "    corners += [(Cylinder(Pnt(cc[i]+(0,)), Pnt(cc[i]+(1,)), 2*r) - Cylinder(Pnt(cc[i]+(0,)), Pnt(cc[i]+(1,)), r)) * \\\n",
    "       OrthoBrick(Pnt(bp[i]+(hc0,)),Pnt(cc[i]+(hc1,)))]\n",
    "####################\n",
    "'''\n",
    "\n",
    "'''########## was ich stattdessen mache ##########'''\n",
    "corners += [(Cylinder(Pnt(cc[0]+(0,)), Pnt(cc[0]+(1,)), 2*r) - Cylinder(Pnt(cc[0]+(0,)), Pnt(cc[0]+(1,)), r)) * \\\n",
    "             OrthoBrick(Pnt(bp[0]+(hc0,)),Pnt(cc[0]+(hc1,))).mat('corner0').maxh(maxh_corners)]\n",
    "corners += [(Cylinder(Pnt(cc[1]+(0,)), Pnt(cc[1]+(1,)), 2*r) - Cylinder(Pnt(cc[1]+(0,)), Pnt(cc[1]+(1,)), r)) * \\\n",
    "             OrthoBrick(Pnt(bp[1]+(hc0,))-Vec(2*r, 0,0),Pnt(cc[1]+(hc1,))+Vec(2*r,0,0)).mat('corner1').maxh(maxh_corners)]\n",
    "corners += [(Cylinder(Pnt(cc[2]+(0,)), Pnt(cc[2]+(1,)), 2*r) - Cylinder(Pnt(cc[2]+(0,)), Pnt(cc[2]+(1,)), r)) * \\\n",
    "             OrthoBrick(Pnt(cc[2]+(hc0,)),Pnt(bp[2]+(hc1,))).mat('corner2').maxh(maxh_corners)]\n",
    "corners += [(Cylinder(Pnt(cc[3]+(0,)), Pnt(cc[3]+(1,)), 2*r) - Cylinder(Pnt(cc[3]+(0,)), Pnt(cc[3]+(1,)), r)) * \\\n",
    "             OrthoBrick(Pnt(bp[3]+(hc0,))-Vec(0,2*r,0), Pnt(cc[3]+(hc1,))+Vec(0,2*r,0)).mat('corner3').maxh(maxh_corners)]\n",
    "'''####################'''\n",
    "\n",
    "\n",
    "# bricks\n",
    "b0 = [(l-a,0), (l-r,2*r), (l-a,a+r), (l-a-2*r,2*r)]\n",
    "b1 = [(l-2*r,r),(l,a), (l-2*r,a+2*r), (l-a-r,a)]\n",
    "bricks = []\n",
    "for i in range(4):\n",
    "    bricks += [OrthoBrick(Pnt(b0[i]+(hc0,)), Pnt(b1[i]+(hc1,))).mat('brick{}'.format(i))]\n",
    "\n",
    "plate = (OrthoBrick(Pnt(0,0,0), Pnt(l,l,ha)) -\n",
    "            OrthoBrick(Pnt(hole_vertices[0]+(0,)), Pnt(hole_vertices[1]+(ha,)))).mat('plate')\n",
    "\n",
    "\n",
    "box = OrthoBrick(Pnt(0-d, 0-d, 0-d), Pnt(bp[2][0]+d, l+d, hc1+d)).bc(\"outer\")\n",
    "air = (box - sum(bricks) - sum(corners) - plate).mat('air')\n",
    "    \n",
    "\n",
    "geo.Add(air)\n",
    "geo.Add(plate)\n",
    "for i in range(4):\n",
    "    geo.Add(corners[i])\n",
    "    geo.Add(bricks[i])\n",
    "# generate mesh\n",
    "mesh = Mesh(geo.GenerateMesh(maxh=0.5))\n",
    "mesh.Curve(6)\n",
    "\n",
    "\n",
    "# generate normalized impressed current vectors\n",
    "n = lambda center: CoefficientFunction(sqrt((x-center[0])**2+(y-center[1])**2))\n",
    "sd = {\n",
    "    'corner0': (-sor*(y-cc[0][1])/n(cc[0]),sor*(x-cc[0][0])/n(cc[0]),0) ,\n",
    "    'corner1': (-sor*(y-cc[1][1])/n(cc[1]),sor*(x-cc[1][0])/n(cc[1]),0) , \n",
    "    'corner2': (-sor*(y-cc[2][1])/n(cc[2]),sor*(x-cc[2][0])/n(cc[2]),0) ,\n",
    "    'corner3': (-sor*(y-cc[3][1])/n(cc[3]),sor*(x-cc[3][0])/n(cc[3]),0) ,\n",
    "    'brick0': (sor*1,0,0) ,\n",
    "    'brick1': (0,sor*1,0) ,\n",
    "    'brick2': (-sor*1,0,0) ,\n",
    "    'brick3': (0,-sor*1,0)\n",
    "}\n",
    "coil_mat = ['corner0','corner1', 'corner2','corner3','brick0','brick1','brick2','brick3']\n",
    "source_norm = CoefficientFunction([sd[mat] if mat in sd.keys() else (0,0,0) for mat in mesh.GetMaterials()])\n",
    "\n",
    "Draw (source_norm, mesh, draw_surf=False)"
   ]
  },
  {
   "cell_type": "code",
   "execution_count": 4,
   "metadata": {
    "scrolled": false
   },
   "outputs": [],
   "source": [
    "SHOW_POTENTIAL = False\n",
    "if SHOW_POTENTIAL: \n",
    "    %matplotlib\n",
    "    from matplotlib import pyplot as plt\n",
    "    from mpl_toolkits import mplot3d\n",
    "    \n",
    "import numpy as np\n",
    "\n",
    "def T0z(x,y,z, sor=-1):\n",
    "    \n",
    "    # check if z is in area of coil\n",
    "    if (z>hc1 or z<hc0): return(0)\n",
    "    \n",
    "    # check if x is in area 1 or 2\n",
    "    if (x > coil_outer_vertices[0][0] and x<coil_circle_centers[0][0]):\n",
    "        \n",
    "        # check if y is in area D or E\n",
    "        if (y > coil_outer_vertices[0][1] and y<coil_circle_centers[0][1]):\n",
    "            \n",
    "            dist = lambda p: sqrt((p[0]-coil_circle_centers[0][0])**2+(p[1]-coil_circle_centers[0][1])**2)\n",
    "            if dist((x,y)) > 2*r: return (0)\n",
    "            elif dist((x,y)) < r: return (sor)\n",
    "            else: return (sor*(2*r-dist((x,y)))/r)\n",
    "        \n",
    "        # check if y is in area C\n",
    "        elif (y >= coil_circle_centers[0][1] and y < coil_circle_centers[3][1]):\n",
    "            \n",
    "            if (x <= coil_outer_vertices[0][0]+r): \n",
    "                return(sor*(x-coil_outer_vertices[0][0])/r)\n",
    "            else: return (sor)\n",
    "        \n",
    "        # check if y is in area A or B\n",
    "        elif (y >= coil_circle_centers[3][1] and y < coil_outer_vertices[3][1]):\n",
    "            \n",
    "            dist = lambda p: sqrt((p[0]-coil_circle_centers[3][0])**2+(p[1]-coil_circle_centers[3][1])**2)\n",
    "            if dist((x,y)) > 2*r: return (0)\n",
    "            elif dist((x,y)) < r: return (sor)\n",
    "            else: return (sor*(2*r-dist((x,y)))/r)\n",
    "        \n",
    "     \n",
    "    # check if x is in area 3\n",
    "    elif (x>= coil_circle_centers[0][0] and x<coil_circle_centers[1][0]):\n",
    "        \n",
    "        # check if y is in area E\n",
    "        if (y>coil_outer_vertices[0][1] and y < coil_outer_vertices[0][1]+r):\n",
    "            return(sor*y/r)\n",
    "        \n",
    "        # check if y is in area B to D\n",
    "        elif (y >= coil_outer_vertices[0][1]+r and y < coil_outer_vertices[3][1]-r): \n",
    "            return (sor)\n",
    "        \n",
    "        # check if y is in area A\n",
    "        elif (y >= coil_outer_vertices[3][1]-r and y < coil_outer_vertices[3][1]):\n",
    "            return(-sor*(y-coil_outer_vertices[3][1])/r)\n",
    "\n",
    "    # check if x is in area 4 or 5\n",
    "    elif (x >= coil_circle_centers[1][0] and x < coil_outer_vertices[1][0]):\n",
    "        \n",
    "        # check if y is in area D or E\n",
    "        if (y>=coil_outer_vertices[0][1] and y<coil_circle_centers[0][1]):\n",
    "            \n",
    "            dist = lambda p: sqrt((p[0]-coil_circle_centers[1][0])**2+(p[1]-coil_circle_centers[1][1])**2)\n",
    "            if dist((x,y)) > 2*r: return (0)\n",
    "            elif dist((x,y)) < r: return (sor)\n",
    "            else: return (sor*(2*r-dist((x,y)))/r)\n",
    "        \n",
    "        # check if y is in area C\n",
    "        elif (y >= coil_circle_centers[0][1] and y < coil_circle_centers[3][1]):\n",
    "            \n",
    "            if ( x >= coil_outer_vertices[1][0]-r): \n",
    "                return(-sor*(x-coil_outer_vertices[1][0])/r)\n",
    "            \n",
    "            else: return (sor)\n",
    "        \n",
    "        # check if y is in area A or B\n",
    "        elif (y >= coil_circle_centers[3][1] and y < coil_outer_vertices[3][1]):\n",
    "            \n",
    "            dist = lambda p: sqrt((p[0]-coil_circle_centers[2][0])**2+(p[1]-coil_circle_centers[2][1])**2)\n",
    "            if dist((x,y)) > 2*r: return (0)\n",
    "            elif dist((x,y)) < r: return (sor)\n",
    "            else: return (sor*(2*r-dist((x,y)))/r)\n",
    "            \n",
    "    return (0)\n",
    "\n",
    "\n",
    "if SHOW_POTENTIAL: \n",
    "    # plot for control\n",
    "    fig = plt.figure()\n",
    "    ax = plt.axes(projection='3d')\n",
    "\n",
    "    x = y = np.arange(0, l+10*scaling_factor, 5*scaling_factor)\n",
    "    X, Y = np.meshgrid(x, y)\n",
    "    zs = np.array([T0z(x,y,(hc0+hc1)/2) for x,y in zip(np.ravel(X), np.ravel(Y))])\n",
    "    Z = zs.reshape(X.shape)\n",
    "\n",
    "    ax.scatter(X, Y, Z)\n",
    "    plt.title('z coordianate of impressed current vector potential')"
   ]
  },
  {
   "cell_type": "code",
   "execution_count": 9,
   "metadata": {},
   "outputs": [
    {
     "data": {
      "application/vnd.jupyter.widget-view+json": {
       "model_id": "cb1b4940fa9644b4a70a7e267206647c",
       "version_major": 2,
       "version_minor": 0
      },
      "text/plain": [
       "NGSWebGuiWidget(value={'ngsolve_version': '6.2.2008-17-g2ebed44be', 'mesh_dim': 3, 'order2d': 2, 'order3d': 2,…"
      ]
     },
     "metadata": {},
     "output_type": "display_data"
    },
    {
     "data": {
      "text/plain": []
     },
     "execution_count": 9,
     "metadata": {},
     "output_type": "execute_result"
    }
   ],
   "source": [
    "N = 300\n",
    "marg  = 5*scaling_factor\n",
    "x_lin = np.linspace(coil_outer_vertices[0][0]-marg, coil_outer_vertices[1][0]+marg, N)\n",
    "y_lin = np.linspace(coil_outer_vertices[0][1]-marg, coil_outer_vertices[3][1]+marg, N)\n",
    "z_lin = np.linspace(hc0-(hc1-hc0), hc1+(hc1-hc0), int(4/(hc1-hc0)))\n",
    "# z_lin = np.linspace(hc0-marg, hc1+marg, int(N*(hc1-hc0+2*marg)/(coil_outer_vertices[1][0]-coil_outer_vertices[0][0]+2*marg)))\n",
    "\n",
    "\n",
    "values = np.array([T0z(x,y,z) for x in x_lin for y in y_lin for z in z_lin])\n",
    "values = values.reshape(len(x_lin),len(y_lin),len(z_lin))\n",
    "func = VoxelCoefficient((coil_outer_vertices[0][0]-marg,coil_outer_vertices[0][1]-marg,hc0-(hc1-hc0)), \n",
    "        (coil_outer_vertices[1][0]+marg,coil_outer_vertices[3][1]+marg,hc1+(hc1-hc0)), values, linear=True)\n",
    "\n",
    "Draw(func, mesh)"
   ]
  },
  {
   "cell_type": "code",
   "execution_count": 6,
   "metadata": {
    "scrolled": false
   },
   "outputs": [
    {
     "name": "stdout",
     "output_type": "stream",
     "text": [
      "Version 1: 0.0014343713999740435, Version2: 0.060841204196464535\n"
     ]
    },
    {
     "data": {
      "application/vnd.jupyter.widget-view+json": {
       "model_id": "4ee0bf4cac484bd2bb0a4c615410016f",
       "version_major": 2,
       "version_minor": 0
      },
      "text/plain": [
       "NGSWebGuiWidget(value={'ngsolve_version': '6.2.2008-17-g2ebed44be', 'mesh_dim': 3, 'order2d': 2, 'order3d': 2,…"
      ]
     },
     "metadata": {},
     "output_type": "display_data"
    },
    {
     "data": {
      "application/vnd.jupyter.widget-view+json": {
       "model_id": "7a777b447e0c407896f4151f03e5ef27",
       "version_major": 2,
       "version_minor": 0
      },
      "text/plain": [
       "NGSWebGuiWidget(value={'ngsolve_version': '6.2.2008-17-g2ebed44be', 'mesh_dim': 3, 'order2d': 2, 'order3d': 2,…"
      ]
     },
     "metadata": {},
     "output_type": "display_data"
    },
    {
     "data": {
      "text/plain": []
     },
     "execution_count": 6,
     "metadata": {},
     "output_type": "execute_result"
    }
   ],
   "source": [
    "fes = HCurl(mesh, order = 2, dirichlet=\"outer\", complex = True)#, nograds=True,)\n",
    "u,v = fes.TnT()\n",
    "\n",
    "\n",
    "# physical constants\n",
    "mu0 = 4*np.pi*1e-7 \n",
    "curdens = 2742/(r*(hc1-hc0)) # impressed current density in m (if scaling factor is 1e-3)\n",
    "omega = Parameter(50) # frequenzy\n",
    "sigma = 3.526e7\n",
    "\n",
    "# nu = CoefficientFunction([1/(mu0*1000) if mat in coil_mat else 1/mu0 for mat in mesh.GetMaterials()])\n",
    "\n",
    "nu = CoefficientFunction(1/mu0)\n",
    "# regularization term and conductivity term\n",
    "kappa = CoefficientFunction([1j*omega*sigma if mat=='plate' else 1e-6*nu for mat in mesh.GetMaterials()])\n",
    "\n",
    "a = BilinearForm(fes)\n",
    "a += nu*curl(u)*curl(v)*dx + kappa*u*v*dx \n",
    "c = Preconditioner(a, \"bddc\")\n",
    "\n",
    "f1 = LinearForm(fes)\n",
    "f1 += CoefficientFunction(curdens)*source_norm*v*dx\n",
    "\n",
    "f2 = LinearForm(fes)\n",
    "f2 += CoefficientFunction(curdens)*func*CoefficientFunction((0,0,1))*curl(v)*dx\n",
    "\n",
    "with TaskManager():\n",
    "    a.Assemble()\n",
    "    f1.Assemble()\n",
    "    gfu1 = GridFunction(fes)\n",
    "\n",
    "    f2.Assemble()\n",
    "    gfu2 = GridFunction(fes)\n",
    "    \n",
    "    solvers.CG(sol=gfu1.vec, rhs=f1.vec, mat=a.mat, pre=c.mat, tol= 1e-8, printrates=False)\n",
    "    solvers.CG(sol=gfu2.vec, rhs=f2.vec, mat=a.mat, pre=c.mat, tol= 1e-8, printrates=False)\n",
    "\n",
    "\n",
    "B1 = lambda omega_t: (curl(gfu1)*exp(1j*omega_t)).real\n",
    "B2 = lambda omega_t: (curl(gfu2)*exp(1j*omega_t)).real\n",
    "\n",
    "omega_t = 0#np.pi/2\n",
    "mip = mesh(0*scaling_factor,72*scaling_factor, 34*scaling_factor)\n",
    "print(\"Version 1: {}, Version2: {}\".format(B1(omega_t)(mip)[2], B2(omega_t)(mip)[2]))\n",
    "      \n",
    "Draw(B1(omega_t), mesh, \"B1\", draw_surf=False)\n",
    "Draw(B2(omega_t), mesh, \"B2\", draw_surf=False)"
   ]
  }
 ],
 "metadata": {
  "kernelspec": {
   "display_name": "Python 3",
   "language": "python",
   "name": "python3"
  },
  "language_info": {
   "codemirror_mode": {
    "name": "ipython",
    "version": 3
   },
   "file_extension": ".py",
   "mimetype": "text/x-python",
   "name": "python",
   "nbconvert_exporter": "python",
   "pygments_lexer": "ipython3",
   "version": "3.8.2"
  }
 },
 "nbformat": 4,
 "nbformat_minor": 4
}
