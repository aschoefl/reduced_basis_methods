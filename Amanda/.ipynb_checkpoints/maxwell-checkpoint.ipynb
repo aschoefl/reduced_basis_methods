{
 "cells": [
  {
   "cell_type": "code",
   "execution_count": 1,
   "metadata": {},
   "outputs": [],
   "source": [
    "from __future__ import print_function\n",
    "from ipywidgets import interact, interactive, fixed, interact_manual\n",
    "import ipywidgets as widgets\n",
    "\n",
    "from netgen.csg import *\n",
    "from ngsolve import *\n",
    "from ngsolve.webgui import Draw"
   ]
  },
  {
   "cell_type": "markdown",
   "metadata": {},
   "source": [
    "### Permanentmagnet\n",
    "$$\n",
    "\\DeclareMathOperator{\\Grad}{grad}\n",
    "\\DeclareMathOperator{\\Curl}{curl}\n",
    "\\DeclareMathOperator{\\Div}{div}\n",
    "\\DeclareMathOperator{\\R}{\\mathbb{R}}\n",
    "\\DeclareMathOperator{\\real}{real}\n",
    "$$\n",
    "Finde $ u \\in H(\\Curl)$ sodass \n",
    "$$\n",
    "\\int \\mu^{-1} \\Curl u \\Curl v + 10^{-8} \\int  u  v= \\int M \\Curl v \\qquad  \\forall \\, v \\in H(\\Curl) \\tag{1}\n",
    "$$\n",
    "\n",
    "\n",
    "Wobei der zweite Integralterm der Stabilität dient und die Werte für $\\mu_r$ wie folgt angenommen werden:\n",
    "* magnet: $\\mu_r = 1$\n",
    "* copper plate: $\\mu_r = 1-6.4\\cdot10^{-6}$\n",
    "* iron plate: $\\mu_r = 1000$\n",
    "* air: $\\mu_r = 1$ \n"
   ]
  },
  {
   "cell_type": "code",
   "execution_count": 51,
   "metadata": {
    "scrolled": false
   },
   "outputs": [
    {
     "ename": "KeyboardInterrupt",
     "evalue": "",
     "output_type": "error",
     "traceback": [
      "\u001b[0;31m---------------------------------------------------------------------------\u001b[0m",
      "\u001b[0;31mKeyboardInterrupt\u001b[0m                         Traceback (most recent call last)",
      "\u001b[0;32m<ipython-input-51-bcdc81de7273>\u001b[0m in \u001b[0;36m<module>\u001b[0;34m\u001b[0m\n\u001b[1;32m     13\u001b[0m \u001b[0mgeo\u001b[0m\u001b[0;34m.\u001b[0m\u001b[0mAdd\u001b[0m\u001b[0;34m(\u001b[0m\u001b[0mair\u001b[0m\u001b[0;34m)\u001b[0m\u001b[0;31m#, transparent=True)\u001b[0m\u001b[0;34m\u001b[0m\u001b[0;34m\u001b[0m\u001b[0m\n\u001b[1;32m     14\u001b[0m \u001b[0;34m\u001b[0m\u001b[0m\n\u001b[0;32m---> 15\u001b[0;31m \u001b[0mmesh\u001b[0m \u001b[0;34m=\u001b[0m \u001b[0mMesh\u001b[0m\u001b[0;34m(\u001b[0m\u001b[0mgeo\u001b[0m\u001b[0;34m.\u001b[0m\u001b[0mGenerateMesh\u001b[0m\u001b[0;34m(\u001b[0m\u001b[0mmaxh\u001b[0m\u001b[0;34m=\u001b[0m\u001b[0;36m0.5\u001b[0m\u001b[0;34m)\u001b[0m\u001b[0;34m)\u001b[0m\u001b[0;34m\u001b[0m\u001b[0;34m\u001b[0m\u001b[0m\n\u001b[0m\u001b[1;32m     16\u001b[0m \u001b[0mmesh\u001b[0m\u001b[0;34m.\u001b[0m\u001b[0mCurve\u001b[0m\u001b[0;34m(\u001b[0m\u001b[0;36m5\u001b[0m\u001b[0;34m)\u001b[0m\u001b[0;34m\u001b[0m\u001b[0;34m\u001b[0m\u001b[0m\n\u001b[1;32m     17\u001b[0m \u001b[0mDraw\u001b[0m \u001b[0;34m(\u001b[0m\u001b[0mmesh\u001b[0m\u001b[0;34m)\u001b[0m\u001b[0;34m\u001b[0m\u001b[0;34m\u001b[0m\u001b[0m\n",
      "\u001b[0;31mKeyboardInterrupt\u001b[0m: "
     ]
    }
   ],
   "source": [
    "geo = CSGeometry()\n",
    "box_size = 5\n",
    "box = OrthoBrick(Pnt(-box_size,-box_size,-box_size), Pnt(box_size,box_size,box_size)).bc(\"outer\")\n",
    "magnet = Cylinder(Pnt(0.05,0,0), Pnt(0.05,0,1), 0.3) * \\\n",
    "            OrthoBrick (Pnt(-1,-1,-1),Pnt(1,1,1)).mat(\"magnet\")\n",
    "\n",
    "plate = OrthoBrick (Pnt(-1, 1,-1.5),Pnt(1,1.2,1.5)).mat('copper').maxh(0.1)\n",
    "\n",
    "air = (box - magnet- plate).mat('air') \n",
    "\n",
    "geo.Add(plate)#, col=(0,1,0)) # what is col?\n",
    "geo.Add(magnet)\n",
    "geo.Add(air)#, transparent=True)\n",
    "\n",
    "mesh = Mesh(geo.GenerateMesh(maxh=0.5))\n",
    "mesh.Curve(5)\n",
    "Draw (mesh)\n",
    "# help (geo)\n",
    "# help(box)"
   ]
  },
  {
   "cell_type": "code",
   "execution_count": 3,
   "metadata": {
    "scrolled": false
   },
   "outputs": [
    {
     "name": "stdout",
     "output_type": "stream",
     "text": [
      "iteration 0 error = 0.1357366984617559\n",
      "iteration 1 error = 0.05446811268414847\n",
      "iteration 2 error = 0.0444591438641548\n",
      "iteration 3 error = 0.02717653754105494\n",
      "iteration 4 error = 0.02597378464823053\n",
      "iteration 5 error = 0.01635199265957913\n",
      "iteration 6 error = 0.012993999362003513\n",
      "iteration 7 error = 0.008316893964657238\n",
      "iteration 8 error = 0.004776856237243529\n",
      "iteration 9 error = 0.0028803529666548366\n",
      "iteration 10 error = 0.0018173497067847488\n",
      "iteration 11 error = 0.0013036766553775104\n",
      "iteration 12 error = 0.0008947605294193155\n",
      "iteration 13 error = 0.0005574876507782936\n",
      "iteration 14 error = 0.0003649686095884966\n",
      "iteration 15 error = 0.0002339339617995258\n",
      "iteration 16 error = 0.0001591933548562376\n",
      "iteration 17 error = 0.00010310697095541286\n",
      "iteration 18 error = 6.734964023806795e-05\n",
      "iteration 19 error = 4.364698787465303e-05\n",
      "iteration 20 error = 2.8851971273919117e-05\n",
      "iteration 21 error = 1.848001919212407e-05\n",
      "iteration 22 error = 1.2623508872539936e-05\n",
      "iteration 23 error = 8.117904765412043e-06\n",
      "iteration 24 error = 5.396556730051433e-06\n",
      "iteration 25 error = 3.4848955643813197e-06\n",
      "iteration 26 error = 2.3092891324507393e-06\n",
      "iteration 27 error = 1.5156138681548887e-06\n",
      "iteration 28 error = 1.0217855192884126e-06\n",
      "iteration 29 error = 6.602516640233889e-07\n",
      "iteration 30 error = 4.323484264700088e-07\n",
      "iteration 31 error = 2.7749217779109446e-07\n",
      "iteration 32 error = 1.890798906470529e-07\n",
      "iteration 33 error = 1.2437036054256254e-07\n",
      "iteration 34 error = 7.878960721149461e-08\n",
      "iteration 35 error = 5.086966071617237e-08\n",
      "iteration 36 error = 3.4824001340244696e-08\n",
      "iteration 37 error = 2.8454807604265407e-08\n",
      "iteration 38 error = 1.771628033427437e-08\n",
      "iteration 39 error = 1.1224669845973569e-08\n",
      "iteration 40 error = 7.390477204594911e-09\n",
      "iteration 41 error = 4.7657225903170704e-09\n",
      "iteration 42 error = 3.0751598821498137e-09\n",
      "iteration 43 error = 1.972996840292132e-09\n",
      "iteration 44 error = 1.2756106922819064e-09\n",
      "iteration 45 error = 8.344750899673531e-10\n",
      "iteration 46 error = 5.444223692862527e-10\n",
      "iteration 47 error = 3.414604125256323e-10\n",
      "iteration 48 error = 2.1903773341870208e-10\n",
      "iteration 49 error = 1.395153789296615e-10\n",
      "iteration 50 error = 9.114931867169692e-11\n",
      "iteration 51 error = 6.029240870845199e-11\n",
      "iteration 52 error = 3.7710644580211606e-11\n",
      "iteration 53 error = 2.5149877272940116e-11\n",
      "iteration 54 error = 1.617479907443001e-11\n",
      "iteration 55 error = 1.0562893430734923e-11\n",
      "iteration 56 error = 7.011492431779858e-12\n",
      "iteration 57 error = 4.55544197327949e-12\n",
      "iteration 58 error = 2.8540796190983192e-12\n",
      "iteration 59 error = 1.8475531278085128e-12\n",
      "iteration 60 error = 1.1634515709548137e-12\n",
      "iteration 61 error = 7.565579791151542e-13\n",
      "iteration 62 error = 4.93779372904391e-13\n",
      "iteration 63 error = 3.163487476637765e-13\n",
      "iteration 64 error = 2.2034003532726173e-13\n",
      "iteration 65 error = 1.8261482506427457e-13\n",
      "iteration 66 error = 1.1035261679711483e-13\n"
     ]
    }
   ],
   "source": [
    "fes = HCurl(mesh, order = 3, dirichlet=\"outer\", nograds=True)\n",
    "u,v = fes.TnT()\n",
    "from math import pi\n",
    "mu0 = 4*pi*1e-7\n",
    "mur = CoefficientFunction( [1 if mat== \"magnet\" else 1-6.4*1e-7 if mat=='copper' else 1000 if mat == 'iron' else 1\n",
    "                            for mat in mesh.GetMaterials()]) \n",
    "a = BilinearForm(fes)\n",
    "a += 1/(mu0*mur)*curl(u)*curl(v)*dx + 1e-8/(mu0*mur)*u*v*dx\n",
    "c = Preconditioner(a, \"bddc\")\n",
    "\n",
    "f = LinearForm(fes)\n",
    "mag = CoefficientFunction((0,0,1)) * \\\n",
    "    CoefficientFunction( [100 if mat == \"magnet\" else 0 for mat in mesh.GetMaterials()])\n",
    "f += mag*curl(v)*dx(mesh.Materials(\"magnet\"))\n",
    "\n",
    "gfu = GridFunction(fes)\n",
    "\n",
    "with TaskManager():\n",
    "    a.Assemble()\n",
    "    f.Assemble()\n",
    "    solvers.CG(sol=gfu.vec, rhs=f.vec, mat=a.mat, pre=c.mat)\n",
    "\n",
    "# help(c)\n",
    "# help(fes)"
   ]
  },
  {
   "cell_type": "code",
   "execution_count": 50,
   "metadata": {
    "scrolled": false
   },
   "outputs": [
    {
     "data": {
      "application/vnd.jupyter.widget-view+json": {
       "model_id": "52e9a552c9a647b7aa7fca40e92796ef",
       "version_major": 2,
       "version_minor": 0
      },
      "text/plain": [
       "NGSWebGuiWidget(value={'ngsolve_version': '6.2.2007-9-ga349a5c89', 'mesh_dim': 3, 'order2d': 2, 'order3d': 2, …"
      ]
     },
     "metadata": {},
     "output_type": "display_data"
    },
    {
     "data": {
      "text/plain": []
     },
     "execution_count": 50,
     "metadata": {},
     "output_type": "execute_result"
    }
   ],
   "source": [
    "## magnetic flux\n",
    "Draw (curl(gfu), mesh, \"B-field\", draw_surf=False)"
   ]
  },
  {
   "cell_type": "code",
   "execution_count": 49,
   "metadata": {},
   "outputs": [
    {
     "data": {
      "application/vnd.jupyter.widget-view+json": {
       "model_id": "f500096edd414f36b86af4cc6890f9ee",
       "version_major": 2,
       "version_minor": 0
      },
      "text/plain": [
       "NGSWebGuiWidget(value={'ngsolve_version': '6.2.2007-9-ga349a5c89', 'mesh_dim': 3, 'order2d': 2, 'order3d': 2, …"
      ]
     },
     "metadata": {},
     "output_type": "display_data"
    },
    {
     "data": {
      "text/plain": []
     },
     "execution_count": 49,
     "metadata": {},
     "output_type": "execute_result"
    }
   ],
   "source": [
    "Draw (gfu, mesh, \"vector-potential\", draw_surf = False)"
   ]
  },
  {
   "cell_type": "code",
   "execution_count": 6,
   "metadata": {},
   "outputs": [
    {
     "data": {
      "application/vnd.jupyter.widget-view+json": {
       "model_id": "4a77224ce44f481d9d1b9404ae593273",
       "version_major": 2,
       "version_minor": 0
      },
      "text/plain": [
       "NGSWebGuiWidget(value={'ngsolve_version': '6.2.2007-9-ga349a5c89', 'mesh_dim': 3, 'order2d': 2, 'order3d': 2, …"
      ]
     },
     "metadata": {},
     "output_type": "display_data"
    },
    {
     "data": {
      "text/plain": []
     },
     "execution_count": 6,
     "metadata": {},
     "output_type": "execute_result"
    }
   ],
   "source": [
    "## magnetic field\n",
    "Draw (1/(mu0*mur)*curl(gfu)-mag, mesh, \"H-field\", draw_surf=False)"
   ]
  },
  {
   "cell_type": "markdown",
   "metadata": {},
   "source": [
    "### Harmonische Magnetisierung\n",
    "\n",
    "Wird noch durch mit Spule umwickeltem Eisenkern ersetzt, hier mal die einfachere Schummelvariante zum Ausprobieren. \n",
    "\n",
    "\n",
    "Finde $ u \\in H(\\Curl)$ sodass \n",
    "$$\n",
    "\\int_{\\Omega} \\mu^{-1} \\Curl u \\Curl v + i\\omega\\sigma \\int_{\\Omega\\setminus\\text{magnet}}  u  v  + 10^{-8} \\int_{\\text{magnet}} u v = \\int_{\\Omega} M \\Curl v \\qquad  \\forall \\, v \\in H(\\Curl) \\tag{2}\n",
    "$$\n",
    "\n",
    "mit den Werten\n",
    "* magnet: $\\mu_r = 1, \\sigma = 0$ (darf ich das? Ich will dass im Magneten kein frequenzabhängiges E-Feld ist, bzw wie geht man mit dem Magneten selber um?) \n",
    "* copper plate: $\\mu_r = 1-6.4\\cdot10^{-6}, \\sigma = 58 \\cdot 10^8$\n",
    "* air: $\\mu_r = 1, \\sigma = 10^{-5}$ (weiß nicht ob das stimmt aber Luft ist ja quasi nicht leitfähig oder?)"
   ]
  },
  {
   "cell_type": "code",
   "execution_count": 45,
   "metadata": {},
   "outputs": [
    {
     "name": "stdout",
     "output_type": "stream",
     "text": [
      "iteration 0 error = 0.1356296127878176\n",
      "iteration 1 error = 0.05442096832987308\n",
      "iteration 2 error = 0.04443064057060134\n",
      "iteration 3 error = 0.02717327962913698\n",
      "iteration 4 error = 0.025905414851376544\n",
      "iteration 5 error = 0.015902818312813864\n",
      "iteration 6 error = 0.01073202457913006\n",
      "iteration 7 error = 0.007227581277908041\n",
      "iteration 8 error = 0.005041330196623233\n",
      "iteration 9 error = 0.00294076099305811\n",
      "iteration 10 error = 0.0018587039196000831\n",
      "iteration 11 error = 0.0013443685905112455\n",
      "iteration 12 error = 0.0008982278669758395\n",
      "iteration 13 error = 0.0005610385027635144\n",
      "iteration 14 error = 0.0003731619209116679\n",
      "iteration 15 error = 0.00024540402935899257\n",
      "iteration 16 error = 0.00016150004345054765\n",
      "iteration 17 error = 0.00010229326580600525\n",
      "iteration 18 error = 6.68873188213443e-05\n",
      "iteration 19 error = 4.327875346252991e-05\n",
      "iteration 20 error = 2.8670262109990604e-05\n",
      "iteration 21 error = 1.8366543734224e-05\n",
      "iteration 22 error = 1.2538299344401711e-05\n",
      "iteration 23 error = 8.046101733981503e-06\n",
      "iteration 24 error = 5.346036773248638e-06\n",
      "iteration 25 error = 3.4401179111995366e-06\n",
      "iteration 26 error = 2.2731547680946114e-06\n",
      "iteration 27 error = 1.4902106461035775e-06\n",
      "iteration 28 error = 1.0095485757349507e-06\n",
      "iteration 29 error = 6.569830506413082e-07\n",
      "iteration 30 error = 4.2931961231248136e-07\n",
      "iteration 31 error = 2.732177189073337e-07\n",
      "iteration 32 error = 1.8470392763212288e-07\n",
      "iteration 33 error = 1.236357548956492e-07\n",
      "iteration 34 error = 7.87255191324435e-08\n",
      "iteration 35 error = 5.0776913900576925e-08\n",
      "iteration 36 error = 3.547535562022152e-08\n",
      "iteration 37 error = 2.9164449142347655e-08\n",
      "iteration 38 error = 1.7414371662949727e-08\n",
      "iteration 39 error = 1.1151027182657451e-08\n",
      "iteration 40 error = 7.379386972948284e-09\n",
      "iteration 41 error = 4.766985415528184e-09\n",
      "iteration 42 error = 3.0647619927581383e-09\n",
      "iteration 43 error = 1.955777007222096e-09\n",
      "iteration 44 error = 1.2578395946732445e-09\n",
      "iteration 45 error = 8.252031899198677e-10\n",
      "iteration 46 error = 5.434932175712131e-10\n",
      "iteration 47 error = 3.420003704047412e-10\n",
      "iteration 48 error = 2.1837881662439433e-10\n",
      "iteration 49 error = 1.380569294097322e-10\n",
      "iteration 50 error = 8.919895301357054e-11\n",
      "iteration 51 error = 5.929316593839279e-11\n",
      "iteration 52 error = 3.7153718213948116e-11\n",
      "iteration 53 error = 2.4572932059861163e-11\n",
      "iteration 54 error = 1.580028450008957e-11\n",
      "iteration 55 error = 1.0205917473865238e-11\n",
      "iteration 56 error = 6.747837222383173e-12\n",
      "iteration 57 error = 4.507127840043423e-12\n",
      "iteration 58 error = 2.841380953276829e-12\n",
      "iteration 59 error = 1.8304666293405035e-12\n",
      "iteration 60 error = 1.1482539890635882e-12\n",
      "iteration 61 error = 7.545595461989721e-13\n",
      "iteration 62 error = 5.75260870115588e-13\n",
      "iteration 63 error = 4.391589445011015e-13\n",
      "iteration 64 error = 2.575132494059413e-13\n",
      "iteration 65 error = 1.6608970684129576e-13\n",
      "iteration 66 error = 1.0494287162722203e-13\n"
     ]
    }
   ],
   "source": [
    "fes = HCurl(mesh, order = 3, dirichlet=\"outer\", nograds=True, complex= True)\n",
    "u,v = fes.TnT()\n",
    "from math import pi\n",
    "mu0 = 4*pi*1e-7\n",
    "mur = CoefficientFunction( [1 if mat== \"magnet\" else 1-6.4*1e-7 if mat=='copper' else  1\n",
    "                            for mat in mesh.GetMaterials()]) \n",
    "\n",
    "sigma = CoefficientFunction( [0 if mat== \"magnet\" else 58*1e8 if mat=='copper' else 1e-5\n",
    "                            for mat in mesh.GetMaterials()]) \n",
    "omega = Parameter(100)\n",
    "a = BilinearForm(fes)\n",
    "a += 1/(mu0*mur)*curl(u)*curl(v)*dx + 1e-8/(mu0*mur)*u*v*dx(\"magnet\") + 1j*omega*sigma*u*v*dx\n",
    "c = Preconditioner(a, \"bddc\")\n",
    "\n",
    "f = LinearForm(fes)\n",
    "mag = CoefficientFunction((0,0,1)) * \\\n",
    "    CoefficientFunction( [100 if mat == \"magnet\" else 0 for mat in mesh.GetMaterials()])\n",
    "f += mag*curl(v)*dx(mesh.Materials(\"magnet\"))\n",
    "\n",
    "gfu = GridFunction(fes)\n",
    "\n",
    "with TaskManager():\n",
    "    a.Assemble()\n",
    "    f.Assemble()\n",
    "    solvers.CG(sol=gfu.vec, rhs=f.vec, mat=a.mat, pre=c.mat)"
   ]
  },
  {
   "cell_type": "code",
   "execution_count": 48,
   "metadata": {},
   "outputs": [
    {
     "data": {
      "application/vnd.jupyter.widget-view+json": {
       "model_id": "46599ea7540c4431a6ff02b78d3219a8",
       "version_major": 2,
       "version_minor": 0
      },
      "text/plain": [
       "NGSWebGuiWidget(value={'ngsolve_version': '6.2.2007-9-ga349a5c89', 'mesh_dim': 3, 'order2d': 2, 'order3d': 2, …"
      ]
     },
     "metadata": {},
     "output_type": "display_data"
    },
    {
     "data": {
      "text/plain": []
     },
     "execution_count": 48,
     "metadata": {},
     "output_type": "execute_result"
    }
   ],
   "source": [
    "# drawu = GridFunction(fes)\n",
    "## need equivalent to\n",
    "# drawu.vec.data = (-1j*omega*exp(1j*omega*1)*gfu).data\n",
    "# scene = Draw (drawu.real, mesh, \"E-field\", draw_surf=False)\n",
    "# def slider_func(t): \n",
    "    ## need equivalent to\n",
    "#     drawu.vec.data = (-1j*omega*exp(1j*omega*t)*gfu).data\n",
    "#     scene.Redraw()\n",
    "# interact(slider_func, x=widgets.FloatSlider(min=1, max=100, step=0.05, value=1))\n",
    "\n",
    "t = 1\n",
    "Draw ((-1j*omega*exp(1j*omega*t)*gfu).real, mesh, \"E-field\", draw_surf=False)\n"
   ]
  },
  {
   "cell_type": "code",
   "execution_count": 47,
   "metadata": {},
   "outputs": [
    {
     "data": {
      "application/vnd.jupyter.widget-view+json": {
       "model_id": "b1570630231a423a9c88886f464cb599",
       "version_major": 2,
       "version_minor": 0
      },
      "text/plain": [
       "NGSWebGuiWidget(value={'ngsolve_version': '6.2.2007-9-ga349a5c89', 'mesh_dim': 3, 'order2d': 2, 'order3d': 2, …"
      ]
     },
     "metadata": {},
     "output_type": "display_data"
    },
    {
     "data": {
      "text/plain": []
     },
     "execution_count": 47,
     "metadata": {},
     "output_type": "execute_result"
    }
   ],
   "source": [
    "t = 1\n",
    "Draw (sigma*(-1j*omega*exp(1j*omega*t)*gfu).real, mesh, \"j\", draw_surf=False)\n",
    "## to see: clipping (0,1,0,-1)"
   ]
  },
  {
   "cell_type": "markdown",
   "metadata": {},
   "source": [
    "## Notizen für mich\n",
    "nützliche links:\n",
    "\n",
    "* https://de.wikipedia.org/wiki/Maxwell-Gleichungen\n",
    "* https://ngsolve.org/docu/latest/i-tutorials/wta/maxwell.html\n",
    "* https://ngsolve.org/docu/latest/i-tutorials/unit-2.3-hcurlhdiv/hcurlhdiv.html\n",
    "* https://ngsolve.org/docu/latest/i-tutorials/unit-2.4-Maxwell/Maxwell.html\n",
    "* https://www.asc.tuwien.ac.at/~schoeberl/wiki/lva/notes/maxwell.pdf\n",
    "* https://www.numa.uni-linz.ac.at/Teaching/Bachelor/kagerer-bakk.pdf\n",
    "* \"allwissender Kreis\" \n",
    "\n",
    "### Fragen\n",
    "\n",
    "* Ist es möglich die äußere Box unsichtbar zu machen?\n",
    "* Was ist `col` bei geo.Add(..)\n",
    "* Was bringt `nograds` (lt Help 'Remove higher order gradients of H1 basis functions from HCurl FESpace')?\n",
    "* slider function Problem\n",
    "* Wie gehe ich mit leitenden Materialien um (Permittivität)? \n",
    "* mehr clipping planes? \n",
    "* impressed current density?\n",
    "\n",
    "### Basics\n",
    "\n",
    "#### Physikalische Größen\n",
    "\n",
    "$E$ .. Elektrische Feldstärke (Stärke und Richtung eines elektrischen Feldes) \\\n",
    "$D$ .. Elektrische Flussdichte (Dichte der elektrischen Feldlinien in Bezug auf eine Fläche) \\\n",
    "$H$ .. Magnetische Felstärke \\\n",
    "$B$ .. Magnetische Flussdichte \\\n",
    "$M$ .. Magnetisierung \\\n",
    "$\\rho$ .. Ladungsdichte (Ladung pro Volumen) \\\n",
    "$\\sigma$ .. elektrische Leitfähigkeit \\\n",
    "$j$ .. Stromdichte (Strom pro durchflossene Fläche) \n",
    "\n",
    "\n",
    "#### Makroskopische Maxwelllgleichungen\n",
    "(M1) $\\Div D = \\rho$ (Ladung ist Quelle des elektrischen Feldes) \\\n",
    "(M2) $\\Div B = 0$ (keine magnetischen Ladungen) \\\n",
    "(M3) $\\Curl E = -\\partial_t B$ (Induktion)  \\\n",
    "(M4) $\\Curl H = j + \\partial_t D$ (Amper'sches Gesetz mit Verschiebungsstrom)\n",
    "\n",
    "#### sonstige Zusammenhänge\n",
    "\n",
    "(S1) $D = \\epsilon E $ (evtl noch $+ P$ .. Polarisation, was ist das?) wobei $\\epsilon = \\epsilon_0 \\epsilon_r$ (Permittivität),  $\\epsilon_0 = 10^{-7} \\cdot 8.8541878128$\\\n",
    "(S2) $H = \\mu^{-1} B - M$ wobei $\\mu = \\mu_0 \\mu_r$ (magnetische Permeabilität wenn im linearen Bereich), $\\mu_0 =  4\\pi10^{-7}$ \\\n",
    "(S3) $j = \\sigma E +j_i$ ($j_i$ .. 'impressed current density', was ist das genau?)\n",
    "\n",
    "\n",
    "#### Herleitung einer schwachen Formulierung\n",
    "Einführen eines Vektorpotentials $A$ sodass $B = \\Curl A$. \n",
    "\n",
    "Umformen:\n",
    "$$\n",
    "\\begin{split}\n",
    "\\Curl(\\mu^{-1} \\Curl(A) - M) &= \\Curl(\\mu^{-1} B - M) \\\\\n",
    "&\\stackrel{\\text{(S2)}}{=} \\Curl(H) \\\\\n",
    "&\\stackrel{\\text{(M4)}}{=} j + \\partial_t D \\\\\n",
    "&\\stackrel{\\text{(S1)}}{=} j + \\partial_t \\epsilon E  \\\\\n",
    "&\\stackrel{\\text{(S3)}}{=} \\sigma E + j_i + \\partial_t \\epsilon E \n",
    "\\end{split}\n",
    "$$\n",
    "\n",
    "\n",
    "Ziel ist $A$ so zu wählen, dass $E = -\\partial_t A$. Einzige Bedingung an $A$ war, dass $\\Curl A = B$, dh jedes $\\tilde{A}$ das sich von $A$ nur um ein Gradientenfeld unterscheidet erfüllt das genauso. Sei $\\tilde{A}$ so dass $\\Curl \\tilde{A} = B$\n",
    "\n",
    "\n",
    "\n",
    "Nach (M3) gilt $\\Curl E = - \\partial_t (\\Curl \\tilde{A})) = - \\Curl( \\partial_t \\tilde{A})$. Äquivalent dazu $\\Curl(E + \\partial_t \\tilde{A}) = 0$. Gibt Potential $\\phi: \\R^3 \\rightarrow \\R $ mit $\\Grad \\phi =  E+ \\partial_t \\tilde{A}$ wenn das Gebiet brav genug ist (sternförmig oder einfach zusammenhängend). Angenommen das ist der Fall dann gilt $E = \\Grad \\phi - \\partial_t \\tilde{A}$. Mit \n",
    "$$\n",
    "A = - (\\int_{t_0}^{t} \\Grad \\phi(s) ~ \\text{ds} - \\tilde{A})\n",
    "$$ \n",
    "ist die gewünschte Anforderung erfüllt. Dh wir können annehmen $E = -\\partial_t A$. \n",
    "\n",
    "Einsetzen ergibt\n",
    "$$\n",
    "\\Curl(\\mu^{-1} \\Curl(A) - M) + \\sigma \\partial_t A +  \\epsilon \\partial_t^2A = j_i .\n",
    "$$\n",
    "\n",
    "\n",
    "Partielle Integration für curl \n",
    "$$\n",
    "\\int_\\Omega \\Curl u \\cdot v = \\int_\\Omega u \\cdot \\Curl v - \\int_{\\partial\\Omega} (u \\times n) \\cdot v\n",
    "$$\n",
    "\n",
    "\n",
    "Angenommen wir haben Dirichlet RB, dann ergibt sich die schwache Formulierung:\n",
    "\n",
    "__________\n",
    "\n",
    "Finde $A \\in H(\\Curl)$ sodass \n",
    "$$ \n",
    "\\int \\mu^{-1} \\Curl A \\Curl v +  \\sigma \\int \\partial_t A v + \\epsilon \\int \\partial_t^2 A v = \\int j_i v + \\int M \\Curl v \\qquad \\forall v \\in H(\\Curl). \n",
    "$$\n",
    "__________\n",
    "\n",
    "#### Spezialfälle\n",
    "\n",
    "Permanentmagnet:  $j_i = 0$ und  $E = 0$ $\\Rightarrow$ (1) \n",
    "\n",
    "harmonische Magnetisierung:  $j_i = 0$ , $M(x,t) = \\real(M(x)e^{i\\omega t})$ und $A = \\real(A(x)e^{i\\omega t})$ $\\Rightarrow$ (2) \n"
   ]
  }
 ],
 "metadata": {
  "kernelspec": {
   "display_name": "Python 3",
   "language": "python",
   "name": "python3"
  },
  "language_info": {
   "codemirror_mode": {
    "name": "ipython",
    "version": 3
   },
   "file_extension": ".py",
   "mimetype": "text/x-python",
   "name": "python",
   "nbconvert_exporter": "python",
   "pygments_lexer": "ipython3",
   "version": "3.8.2"
  }
 },
 "nbformat": 4,
 "nbformat_minor": 4
}
