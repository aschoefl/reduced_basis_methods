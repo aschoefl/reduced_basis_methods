{
 "cells": [
  {
   "cell_type": "code",
   "execution_count": 1,
   "metadata": {},
   "outputs": [],
   "source": [
    "from __future__ import print_function\n",
    "from ipywidgets import interact, interactive, fixed, interact_manual\n",
    "import ipywidgets as widgets\n",
    "\n",
    "from netgen.csg import *\n",
    "from ngsolve import *\n",
    "from ngsolve.webgui import Draw\n",
    "from ngsolve.comp import ConvertOperator\n",
    "\n",
    "import time"
   ]
  },
  {
   "cell_type": "markdown",
   "metadata": {},
   "source": [
    "### Harmonische Magnetisierung\n",
    "\n",
    "Finde $ u \\in H(\\Curl)$ sodass \n",
    "$$\n",
    "\\int_{\\Omega} \\mu^{-1} \\Curl u \\Curl v + i\\omega\\sigma \\int_{\\Omega\\setminus\\text{magnet}}  u  v  + 10^{-8} \\int_{\\text{magnet}} u v = \\int_{\\Omega} M \\Curl v \\qquad  \\forall \\, v \\in H(\\Curl) \\tag{2}\n",
    "$$\n",
    "\n",
    "mit den Werten\n",
    "* magnet: $\\mu_r = 1, \\sigma = 0$ \n",
    "* copper plate: $\\mu_r = 1-6.4\\cdot10^{-6}, \\sigma = 58 \\cdot 10^8$\n",
    "* air: $\\mu_r = 1, \\sigma = 10^{-5}$ "
   ]
  },
  {
   "cell_type": "code",
   "execution_count": 2,
   "metadata": {},
   "outputs": [],
   "source": [
    "geo = CSGeometry()\n",
    "box_size = 4\n",
    "box = OrthoBrick(Pnt(-box_size,-box_size,-box_size), Pnt(box_size,box_size,box_size)).bc(\"outer\")\n",
    "magnet = Cylinder(Pnt(0.05,0,0), Pnt(0.05,0,1), 0.3) * \\\n",
    "            OrthoBrick (Pnt(-1,-1,-1),Pnt(1,1,1)).mat(\"magnet\").maxh(0.2)\n",
    "\n",
    "plate = OrthoBrick (Pnt(-1, 1,-1.5),Pnt(1,1.2,1.5)).mat('copper').maxh(0.1)\n",
    "\n",
    "air = (box - magnet- plate).mat('air').maxh(0.5)\n",
    "\n",
    "geo.Add(plate)#, col=(0,1,0)) # what is col?\n",
    "geo.Add(magnet)\n",
    "geo.Add(air, transparent=True)\n",
    "\n",
    "mesh = Mesh(geo.GenerateMesh(maxh=0.5))\n",
    "mesh.Curve(3)\n",
    "\n",
    "\n",
    "from math import pi\n",
    "mu0 = 4*pi*1e-7\n",
    "mur = CoefficientFunction( [1 if mat== \"magnet\" else 1-6.4*1e-7 if mat=='copper' else  1\n",
    "                            for mat in mesh.GetMaterials()]) \n",
    "\n",
    "sigma = CoefficientFunction( [0 if mat== \"magnet\" else 58*1e8 if mat=='copper' else 1e-5\n",
    "                            for mat in mesh.GetMaterials()]) \n",
    "omega = Parameter(100)\n",
    "\n",
    "mag = CoefficientFunction((0,0,1)) * \\\n",
    "        CoefficientFunction( [100 if mat == \"magnet\" else 0 for mat in mesh.GetMaterials()])\n",
    "\n",
    "kappa = CoefficientFunction( [1e-8 if mat== \"magnet\" else 1j*omega*sigma for mat in mesh.GetMaterials()])\n",
    "nu = 1/(mu0*mur)\n",
    "\n",
    "TOL = 1e-4\n",
    "                            \n",
    "\n",
    "def show (t=1):\n",
    "    Draw ((-1j*omega*exp(1j*omega*t)*gfu).real, mesh, \"E-field\", draw_surf=False)\n",
    "    Draw (sigma*(-1j*omega*exp(1j*omega*t)*gfu).real, mesh, \"j\", draw_surf=False)\n",
    "    ## to see: clipping (0,1,0,-1)"
   ]
  },
  {
   "cell_type": "markdown",
   "metadata": {},
   "source": [
    "### Ohne Preconditioner mit CG-Verfahren"
   ]
  },
  {
   "cell_type": "code",
   "execution_count": 3,
   "metadata": {},
   "outputs": [
    {
     "data": {
      "text/plain": [
       "'Fehlermeldung: either pre or freedofs must be given'"
      ]
     },
     "execution_count": 3,
     "metadata": {},
     "output_type": "execute_result"
    }
   ],
   "source": [
    "# with TaskManager(): # pajetrace=10**8\n",
    "    \n",
    "#     fes = HCurl(mesh, order = 0, dirichlet=\"outer\", nograds=True, complex= True)\n",
    "#     u,v = fes.TnT()\n",
    "    \n",
    "#     a = BilinearForm(fes)\n",
    "#     a += nu*curl(u)*curl(v)*dx + kappa*u*v*dx\n",
    "#     a.Assemble()\n",
    "    \n",
    "#     f = LinearForm(fes)\n",
    "#     f += mag*curl(v)*dx(mesh.Materials(\"magnet\"))\n",
    "#     f.Assemble()\n",
    "\n",
    "#     gfu = GridFunction(fes)\n",
    "\n",
    "#     help(solvers.CG)\n",
    "#     solvers.CG(sol=gfu.vec, rhs=f.vec, mat=a.mat) \n",
    "\n",
    "'''Fehlermeldung: either pre or freedofs must be given'''"
   ]
  },
  {
   "cell_type": "markdown",
   "metadata": {},
   "source": [
    "### Mit Preconditioner 'BDDC' und CG-Verfahren"
   ]
  },
  {
   "cell_type": "code",
   "execution_count": 4,
   "metadata": {},
   "outputs": [
    {
     "name": "stdout",
     "output_type": "stream",
     "text": [
      "iteration 0 error = 0.07888027196078051\n",
      "iteration 1 error = 1.463310834478679e-10\n",
      "calculation took 18.812010288238525 seconds\n"
     ]
    },
    {
     "data": {
      "application/vnd.jupyter.widget-view+json": {
       "model_id": "a61ece62900e4743b768c4dfeca7a555",
       "version_major": 2,
       "version_minor": 0
      },
      "text/plain": [
       "NGSWebGuiWidget(value={'ngsolve_version': '6.2.2007-77-g8f6b4b911', 'mesh_dim': 3, 'order2d': 2, 'order3d': 2,…"
      ]
     },
     "metadata": {},
     "output_type": "display_data"
    },
    {
     "data": {
      "application/vnd.jupyter.widget-view+json": {
       "model_id": "4702ac36161248488c7cd1b5afb0fe2d",
       "version_major": 2,
       "version_minor": 0
      },
      "text/plain": [
       "NGSWebGuiWidget(value={'ngsolve_version': '6.2.2007-77-g8f6b4b911', 'mesh_dim': 3, 'order2d': 2, 'order3d': 2,…"
      ]
     },
     "metadata": {},
     "output_type": "display_data"
    }
   ],
   "source": [
    "start = time.time()\n",
    "with TaskManager(): # pajetrace=10**8\n",
    "\n",
    "    fes = HCurl(mesh, order = 0, dirichlet=\"outer\", nograds=True, complex= True)\n",
    "    u,v = fes.TnT()\n",
    "\n",
    "    a = BilinearForm(fes)\n",
    "    a += nu*curl(u)*curl(v)*dx + kappa*u*v*dx\n",
    "    \n",
    "    c = Preconditioner(a, \"bddc\")\n",
    "\n",
    "    f = LinearForm(fes)\n",
    "    f += mag*curl(v)*dx (mesh.Materials(\"magnet\"))\n",
    "    \n",
    "    a.Assemble() # don't call before preconditioner!\n",
    "\n",
    "    f.Assemble()\n",
    "\n",
    "    gfu = GridFunction(fes)\n",
    "\n",
    "#     help(solvers.CG)\n",
    "    solvers.CG(sol=gfu.vec, rhs=f.vec, mat=a.mat, pre=c.mat, tol = TOL) \n",
    "    stop = time.time()\n",
    "    \n",
    "print(\"calculation took {} seconds\".format(stop-start))\n",
    "show()"
   ]
  },
  {
   "cell_type": "markdown",
   "metadata": {},
   "source": [
    "### Mit Preconditioner aus 'ams.py' und CG-Verfahren"
   ]
  },
  {
   "cell_type": "code",
   "execution_count": 5,
   "metadata": {
    "scrolled": false
   },
   "outputs": [
    {
     "name": "stdout",
     "output_type": "stream",
     "text": [
      "solve\n",
      "iteration 0 error = 0.0789710867323955\n",
      "iteration 1 error = 0.017261106204543047\n",
      "iteration 2 error = 0.005597319698264312\n",
      "iteration 3 error = 0.0027204083932058573\n",
      "iteration 4 error = 0.003261116085026336\n",
      "iteration 5 error = 0.001233091210708405\n",
      "iteration 6 error = 0.0013781203795050572\n",
      "iteration 7 error = 0.0005745478307284771\n",
      "iteration 8 error = 0.0005540604748016245\n",
      "iteration 9 error = 0.0002868575754240123\n",
      "iteration 10 error = 0.00025342334820623437\n",
      "iteration 11 error = 0.00015256445988572103\n",
      "iteration 12 error = 0.00014113291399381347\n",
      "iteration 13 error = 9.012221250761933e-05\n",
      "iteration 14 error = 6.068598109085281e-05\n",
      "iteration 15 error = 3.957464939736959e-05\n",
      "iteration 16 error = 2.7681470478384033e-05\n",
      "iteration 17 error = 2.326315439447468e-05\n",
      "iteration 18 error = 1.2954946013727791e-05\n",
      "iteration 19 error = 1.112997787563932e-05\n",
      "iteration 20 error = 6.925925057523498e-06\n",
      "calculation took 15.064869165420532 seconds\n"
     ]
    },
    {
     "data": {
      "application/vnd.jupyter.widget-view+json": {
       "model_id": "35f6f7fd405a4ad3a8fa406d68034fde",
       "version_major": 2,
       "version_minor": 0
      },
      "text/plain": [
       "NGSWebGuiWidget(value={'ngsolve_version': '6.2.2007-77-g8f6b4b911', 'mesh_dim': 3, 'order2d': 2, 'order3d': 2,…"
      ]
     },
     "metadata": {},
     "output_type": "display_data"
    },
    {
     "data": {
      "application/vnd.jupyter.widget-view+json": {
       "model_id": "66a4311973994bff9692ce585a6ad5a7",
       "version_major": 2,
       "version_minor": 0
      },
      "text/plain": [
       "NGSWebGuiWidget(value={'ngsolve_version': '6.2.2007-77-g8f6b4b911', 'mesh_dim': 3, 'order2d': 2, 'order3d': 2,…"
      ]
     },
     "metadata": {},
     "output_type": "display_data"
    }
   ],
   "source": [
    "# nu = 1\n",
    "# kappa = 0.001\n",
    "COMPLEX = True\n",
    "# TOL = 1e-5\n",
    "\n",
    "start = time.time()\n",
    "with TaskManager(): # pajetrace=10**8\n",
    "\n",
    "    fes = HCurl(mesh, order = 0, dirichlet=\"outer\", nograds=True, complex= COMPLEX)\n",
    "    u,v = fes.TnT()\n",
    "    \n",
    "    a = BilinearForm(fes)\n",
    "    a += nu*curl(u)*curl(v)*dx + kappa*u*v*dx\n",
    "    a.Assemble()\n",
    "\n",
    "\n",
    "    fespot = H1(mesh, order=1, complex= COMPLEX)\n",
    "    upot, vpot = fespot.TnT()\n",
    "    apot = BilinearForm(kappa*grad(upot)*grad(vpot)*dx + kappa*upot*vpot*dx)\n",
    "    cpot = Preconditioner(apot, \"h1amg\")\n",
    "    \n",
    "#     help(cpot)\n",
    "    apot.Assemble()\n",
    "    \n",
    "    embedpot = ConvertOperator(fespot, fes, grad(upot))\n",
    "    \n",
    "    fesvec = VectorH1(mesh, order=1, complex= COMPLEX)\n",
    "    uvec, vvec = fesvec.TnT()\n",
    "    avec = BilinearForm(nu*InnerProduct(Grad(uvec), Grad(vvec))*dx + kappa*uvec*vvec*dx).Assemble()\n",
    "    embedvec = ConvertOperator(fesvec, fes)\n",
    "    \n",
    "    jacobi = a.mat.CreateSmoother(fes.FreeDofs())\n",
    "    \n",
    "#     help(embedpot)\n",
    "    \n",
    "#     print(type(embedpot), type(cpot.mat), type(embedpot.CreateTranspose()))\n",
    "    \n",
    "    pre = embedpot @ cpot.mat @ embedpot.CreateTranspose() + \\\n",
    "        embedvec @ avec.mat.Inverse(inverse=\"sparsecholesky\") @ embedvec.CreateTranspose() +\\\n",
    "        jacobi\n",
    "    \n",
    "    f = LinearForm(fes)\n",
    "    f += mag*curl(v)*dx(mesh.Materials(\"magnet\"))\n",
    "    f.Assemble()\n",
    "    \n",
    "\n",
    "    \n",
    "    gfu = GridFunction(fes)\n",
    "    \n",
    "    print('solve')\n",
    "    solvers.CG(sol=gfu.vec, rhs=f.vec, mat=a.mat, pre=pre, tol = TOL) \n",
    "    stop = time.time()\n",
    "    \n",
    "print(\"calculation took {} seconds\".format(stop-start))\n",
    "    \n",
    "show()"
   ]
  },
  {
   "cell_type": "markdown",
   "metadata": {},
   "source": [
    "$$\n",
    "\\DeclareMathOperator{\\Grad}{grad}\n",
    "\\DeclareMathOperator{\\Curl}{curl}\n",
    "\\DeclareMathOperator{\\Div}{div}\n",
    "\\DeclareMathOperator{\\R}{\\mathbb{R}}\n",
    "\\DeclareMathOperator{\\real}{real}\n",
    "$$\n",
    "\n",
    "## Notizen für mich\n",
    "\n",
    "Fragen/Bemerkungen:\n",
    "* wird im argument \"pre\" $C$ oder $C^{-1}$ übergeben (ich glaube letzteres)?\n",
    "* Transponiert-Konjugiert für komplexe Sparse Matrizen?\n",
    "* bei sehr großer Toleranz (1e-4) ist ams Version schneller, erreicht aber die Genauigkeit der bddc Version allgemein nicht\n",
    "\n",
    "\n",
    "nützliche links:\n",
    "\n",
    "* http://www.numa.uni-linz.ac.at/Teaching/PhD/Finished/zaglmayr\n",
    "* https://www.asc.tuwien.ac.at/~schoeberl/wiki/index.php/Numpde20\n",
    "* https://nemesis.asc.tuwien.ac.at/index.php/s/HgeCgy5Xbgo4NW6/authenticate/showShare\n",
    "* https://www.asc.tuwien.ac.at/~schoeberl/wiki/lva/notes/maxwell.pdf\n",
    "* https://www.math-linux.com/mathematics/linear-systems/article/preconditioned-conjugate-gradient-method\n",
    "\n",
    "ToDos:\n",
    "\n",
    "- [ ] Theorie zu H1 AMG\n",
    "- [ ] Theorie zu Additive Schwarz und geht das auch im komplexen?\n",
    "- [ ] Das mit der Einbettung klären (welche Ordnungen passen zusammen?)\n",
    "- [X] Vergleich Preconditioner (Zeit)\n",
    "- [ ] Slider über die Zeit\n",
    "- [ ] Spule statt Permanentmagnet\n",
    "- [ ] siehe Kommentare in Markdown Zellen \n",
    "\n",
    "### Basics\n",
    "\n",
    "Berachtete Beispiele iterativer Verfahren: \n",
    "\n",
    "* Richardson Iteration\n",
    "* CG-Verfahren\n",
    "\n",
    "Betrachtete Preconditioner:\n",
    "\n",
    "* H1 AMG (im H1)\n",
    "* Additive Schwarz (für Zusammensetzung)\n",
    "* Jacobi\n",
    "\n",
    "\n",
    "#### Was sind Preconditioner?\n",
    "\n",
    "Für eine positiv definite symmetrische Matrix $A \\in \\R^{n\\times n} $ soll das Problem \n",
    "$$\n",
    "Au = f \\tag{1}\n",
    "$$\n",
    "iterativ gelöst werden (Fixpunktiteration). Ein Precomditioner $C$ dient der Verbesserung der Konvergenzrate und sollte erfüllen:\n",
    "\n",
    "1. $C^{-1} v$ ist für $v \\in \\R^n$ leicht zu berechnen\n",
    "2. $C$ ist eine gute Approximation für $A$ im Sinne, dass\n",
    "$$\n",
    "\\exists \\gamma_1, \\gamma_2  > 0 : ~ \\gamma_1 \\leq \\frac{u^TAu}{u^TCu} \\leq  \\gamma_2 ~\\forall 0  \\neq u \\in \\R^n \n",
    "$$\n",
    "und $\\kappa := \\frac{\\gamma_2}{\\gamma_1}$ möglichst nahe bei 1 (spektrale Konditionszahl von $C^{-1}A$). \n",
    "\n",
    "<!-- _________\n",
    "\n",
    "Randnotiz: warum ist $\\kappa$ spektrale Konditionszahl von $C^{-1}A$? \\\n",
    "Wiederholung: Für eine symmetrische positiv definite Matrix $M$, die euklidische Norm $||~.||$ und die Abbildung $f: b \\mapsto M^{-1}b = : x$ gilt \n",
    "$$\\text{cond}(M) := \\text{cond} (f) = \\lim \\sup_{b \\in \\R^n} \\frac{\\frac{||\\Delta(M^{-1}b)||}{||M^{-1}b}||}{\\frac{||\\Delta b||}{||b||}} = \\lim \\sup_{b \\in \\R^n} \\left(\\frac{||A^{-1}(\\Delta b)||}{||\\Delta b||} \\frac{||b||}{||A^{-1}b||}\\right) = \\lim \\sup_{b \\in \\R^n} \\frac{||A^{-1}(\\Delta b)||}{||\\Delta b||} \\lim \\sup_{x \\in \\R^n} \\frac{||Ax||}{||x||} = \\frac{\\lambda_{\\max}}{\\lambda_{\\min}}$$\n",
    "\n",
    "\n",
    "Fertig machen wenn Zeit\n",
    "_________\n",
    " -->\n",
    " \n",
    "\n",
    "#### Richardson Iteration\n",
    "\n",
    "Wdh Numerik: Erweiterung von (1) mit $Cu$, wobei $C$ regulär ist, gibt\n",
    "\n",
    "$$\n",
    "(1) ~ \\Leftrightarrow ~ Cu = Cu + f - Au  ~ \\Leftrightarrow ~ u = u + C^{-1}(f-Au).\n",
    "$$\n",
    "\n",
    "Nach Einführung eines zusätzlichen Faktors $\\tau$ (wozu ist das?) definiere die Fixpunktiteration \n",
    "\n",
    "$$\n",
    "u^{k+1} := u^k + \\tau C^{-1}(f-Au)\n",
    "$$\n",
    "\n",
    "deren Grenzwert die Lösung von (1) ist (bis auf das $\\tau$).\n",
    "\n",
    "\n",
    "#### CG-Verfahren\n",
    "Wdh Numerik: Wähle Suchrichtungen $d^k$ paarweise orthogonal bzgl des Energie-Skalarprodukts.\n",
    "\n",
    "1. Startwerte: Startpunkt $u^0$, Residuum, $r^0 = b- Au^0$, Suchrichtung $d^0 = r^0$\n",
    "2. wiederhole für $k = 0,.., \\min \\{ $ gewünschte Genauigkeit erreicht, $ n  \\}$: \\\n",
    "$ u^{k+1} = u^k + \\alpha^k d^k$ mit $$ \\alpha ^k = \\frac{(r^k)^Td^k}{(d^k)^TAd^k}$$\n",
    "$r^{k+1} = b- Au^{k+1}$ (äquivalent $r^{k+1} = r^k- \\alpha^k Ad^{k}$)\\\n",
    "$ d^{k+1} = r^{k+1} + \\beta^{k}d^k$ mit $$ \\beta^k = - \\frac{(r^{k+1})^T Ad^k}{(d^k)^TAd^k}$$ \n",
    "\n",
    "\n",
    "Mit Preconditioning:\n",
    "\n",
    "1. Startwerte: Startpunkt $u^0$, Residuum, $r^0 = b- Au^0$, $z^0 = C^{-1}r^0$, Suchrichtung $d^0 = z^0$\n",
    "2. wiederhole für $k = 0,.., \\min \\{ $ gewünschte Genauigkeit erreicht, $ n  \\}$: \\\n",
    "$ u^{k+1} = u^k + \\alpha^k d^k$ mit $$ \\alpha ^k = \\frac{(z^k)^Tr^k}{(d^k)^TAd^k}$$\n",
    "$r^{k+1} = b- Au^{k+1}$  (äquivalent $r^{k+1} = r^k- \\alpha^k Ad^{k}$)\\\n",
    "$z^{k+1} = C^{-1}r^{k+1}$\n",
    "$ d^{k+1} = z^{k+1} + \\beta^{k}d^k$ mit $$ \\beta^k = \\frac{(z^{k+1})^T r^{k+1}}{(z^k)^T r^k}$$ \n",
    "\n",
    "<!-- Falls Zeit über das $\\beta$ nachdenken. -->\n",
    "\n",
    "#### Additive Schwarz\n",
    "\n",
    "Angenommen $u \\in \\R^n$ kann für $E_i \\in \\R^{n \\times n_i}$ mit Rang $n_i$ wie folgt geschrieben werden\n",
    "$$\n",
    "    u = \\sum_i E_i u_i \\tag{*}\n",
    "$$\n",
    "\n",
    "dann definiere\n",
    "\n",
    "$$\n",
    "C^{-1} = \\sum_i E_i A_i^{-1}E_i^T \\quad \\text{mit} \\quad A_i = E_i^T A E_i.\n",
    "$$\n",
    "\n",
    "\n",
    "Es gilt\n",
    "\n",
    "$$ \n",
    "u^T C u = \\inf_{u \\text{ erfüllt } (*) } \\sum_i u_i^T A_i u_i.\n",
    "$$\n",
    "\n",
    "\n",
    "In unserem Fall"
   ]
  }
 ],
 "metadata": {
  "kernelspec": {
   "display_name": "Python 3",
   "language": "python",
   "name": "python3"
  },
  "language_info": {
   "codemirror_mode": {
    "name": "ipython",
    "version": 3
   },
   "file_extension": ".py",
   "mimetype": "text/x-python",
   "name": "python",
   "nbconvert_exporter": "python",
   "pygments_lexer": "ipython3",
   "version": "3.8.2"
  }
 },
 "nbformat": 4,
 "nbformat_minor": 4
}
