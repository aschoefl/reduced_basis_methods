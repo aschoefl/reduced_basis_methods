{
 "cells": [
  {
   "cell_type": "markdown",
   "metadata": {},
   "source": [
    "<h3> A greedy way to choose snapshot parameters </h3>\n",
    "\n",
    "\n",
    "From the plots we can also observe, that the density of the eigenvalues increases with higher values of $\\omega$. Our sample rate however does not change because we choose equidistant snapsots. This causes an offset in the residual too, which is something we don't want.  \n",
    "\n",
    "One way to tackle this issue is to choose the snapshots dynamically. Therefore we can start with a small set of snapshot parameters and extend this set with the value where the residual is the highest.\n",
    "\n",
    "To see what is going on, we plot the residual for each new snapshot."
   ]
  },
  {
   "cell_type": "code",
   "execution_count": null,
   "metadata": {},
   "outputs": [],
   "source": [
    "import time\n",
    "\n",
    "space.logging = False\n",
    "space.setSnapshots(snapshots, reset=True, compute_RB = True)\n",
    "random_omegas = np.sort(np.append(np.random.uniform(space.omega_min, space.omega_max, 1000), snapshots))\n",
    "\n",
    "MAX_IT = 20\n",
    "\n",
    "# initialize plot\n",
    "fig_r = plt.figure()\n",
    "ax_r = fig_r.add_subplot(111)\n",
    "plt.ion()\n",
    "fig_r.show()\n",
    "fig_r.canvas.draw()\n",
    "\n",
    "for i in range(MAX_IT):\n",
    "    \n",
    "    residual = space.computeValues(random_omegas, norm=False)\n",
    "    \n",
    "    ax_r.clear()    \n",
    "    ax_r.plot(random_omegas, residual , '-')\n",
    "    sn_residual = space.computeValues(space.getSnapshots(), norm = False)\n",
    "    ax_r.plot(space.getSnapshots(), sn_residual, 'r.', label = 'snapshots')\n",
    "    ax_r.set_xlabel('omega')\n",
    "    ax_r.set_title('residual')\n",
    "    plt.semilogy()\n",
    "    \n",
    "    # sort by residual (descending)\n",
    "    zip_to_sort = list(zip(residual, range(len(residual))))\n",
    "    sorted_zip = sorted(zip_to_sort, key=lambda x: x[0], reverse=True)\n",
    "    index = [tup[1] for tup in sorted_zip]\n",
    "    \n",
    "    for i in index:\n",
    "        if not random_omegas[i] in space.getSnapshots(): \n",
    "            space.setSnapshots(random_omegas[i], reset=False, compute_RB = False)\n",
    "            break\n",
    "    \n",
    "    ax_r.plot(random_omegas[i], residual[i], 'g*', label = 'snapshot to add')\n",
    "    ax_r.legend()\n",
    "\n",
    "    \n",
    "    fig_r.canvas.draw()\n",
    "    space.computeValues(None,residual=False,  norm = False)\n",
    "\n",
    "    \n",
    "    time.sleep(0.00001)\n",
    "    \n",
    "\n"
   ]
  },
  {
   "cell_type": "markdown",
   "metadata": {},
   "source": [
    "Again we can calculate and plot the solutions in the new reduced space and see that the visual impression gets better.  "
   ]
  },
  {
   "cell_type": "code",
   "execution_count": null,
   "metadata": {},
   "outputs": [],
   "source": [
    "slider_func = lambda x: space.draw(x, redraw=True)\n",
    "space.draw(space.omega_min)\n",
    "interact(slider_func, x=widgets.FloatSlider(min=space.omega_min, max=space.omega_max, step=0.05, value=space.omega_min))"
   ]
  }
 ],
 "metadata": {
  "kernelspec": {
   "display_name": "Python 3",
   "language": "python",
   "name": "python3"
  },
  "language_info": {
   "codemirror_mode": {
    "name": "ipython",
    "version": 3
   },
   "file_extension": ".py",
   "mimetype": "text/x-python",
   "name": "python",
   "nbconvert_exporter": "python",
   "pygments_lexer": "ipython3",
   "version": "3.6.9"
  }
 },
 "nbformat": 4,
 "nbformat_minor": 4
}
