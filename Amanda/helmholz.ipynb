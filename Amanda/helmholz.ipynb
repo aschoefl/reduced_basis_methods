{
 "cells": [
  {
   "cell_type": "code",
   "execution_count": 1,
   "metadata": {},
   "outputs": [],
   "source": [
    "from ngsolve import *\n",
    "# import netgen.gui\n",
    "from netgen.geom2d import unit_square\n",
    "import numpy as np\n",
    "import netgen.geom2d"
   ]
  },
  {
   "cell_type": "code",
   "execution_count": 2,
   "metadata": {},
   "outputs": [],
   "source": [
    "## unchangeable Globals\n",
    "import scipy.sparse as sparse\n",
    "\n",
    "# mesh = Mesh(unit_square.GenerateMesh(maxh=0.1))\n",
    "geo = netgen.geom2d.SplineGeometry()\n",
    "p1 = geo.AppendPoint (0,0)\n",
    "p2 = geo.AppendPoint (np.pi,0)\n",
    "p3 = geo.AppendPoint (np.pi, np.pi)\n",
    "p4 = geo.AppendPoint (0,np.pi)\n",
    "\n",
    "geo.Append ([\"line\", p1, p2], bc = \"b\")\n",
    "geo.Append ([\"line\", p2, p3], bc = \"r\")\n",
    "geo.Append ([\"line\", p3, p4], bc = \"t\")\n",
    "geo.Append ([\"line\", p4, p1], bc = \"l\")\n",
    "\n",
    "mesh = Mesh(geo.GenerateMesh(maxh=0.1))\n",
    "\n",
    "## Todo: don't compare coefficients of bondary functions if dirichlet\n",
    "fes = H1(mesh, order=5)#dirichlet='top|bottom|left|right')\n",
    "u,v =fes.TnT()\n",
    "\n",
    "\n",
    "x_0 = 0.3\n",
    "y_0 = 0.6\n",
    "factor = 25\n",
    "\n",
    "func = exp(-factor*((x-x_0)**2 + (y-y_0)**2))\n",
    "\n",
    "f = LinearForm(fes)\n",
    "f += func * v * dx\n",
    "f.Assemble()\n",
    "\n",
    "omega = Parameter(0)\n",
    "a = BilinearForm(fes)\n",
    "a += (grad(u)*grad(v) - omega*omega *u*v) * dx\n",
    "a.Assemble()\n",
    "\n",
    "gfu = GridFunction(fes)\n",
    "\n",
    "k_blf = BilinearForm(fes)\n",
    "k_blf += grad(u)*grad(v)*dx\n",
    "k_blf.Assemble()\n",
    "rows,cols,vals = k_blf.mat.COO()\n",
    "K_orig = sparse.csr_matrix((vals,(rows,cols)))\n",
    "\n",
    "m_blf = BilinearForm(fes)\n",
    "m_blf += u*v * dx\n",
    "m_blf.Assemble()\n",
    "rows,cols,vals = m_blf.mat.COO()\n",
    "M_orig = sparse.csr_matrix((vals,(rows,cols)))\n"
   ]
  },
  {
   "cell_type": "code",
   "execution_count": 3,
   "metadata": {},
   "outputs": [],
   "source": [
    "def GramSchmidt (V, u):\n",
    "    if V ==[]:\n",
    "        z = u\n",
    "    else:\n",
    "        #computational expensive\n",
    "        V_mat = np.array(V)\n",
    "        z = u - np.transpose(V_mat).dot(V_mat).dot(u)\n",
    "    z = z/np.linalg.norm(z)\n",
    "    V += [z]\n",
    "    return V"
   ]
  },
  {
   "cell_type": "code",
   "execution_count": 4,
   "metadata": {},
   "outputs": [],
   "source": [
    "def computeRB(snapshots):\n",
    "    global V, dim_orig, norm_of_solutions_orig, norm_of_solutions_red, sol\n",
    "    global K_red, M_red, P_red, K_orig, M_orig, f, gfu, a\n",
    "    \n",
    "    dim_red = len(snapshots)\n",
    "    V_tmp = np.zeros((dim_orig,dim_red))\n",
    "    \n",
    "    try: \n",
    "        existing_basis_len = V.shape[1]\n",
    "        V_tmp[:,0:existing_basis_len] = V\n",
    "        print(\"extending basis\")\n",
    "    except:\n",
    "        existing_basis_len = 0\n",
    "        \n",
    "\n",
    "    for n in range(0+existing_basis_len, dim_red):\n",
    "        _omega = snapshots[n]\n",
    "        ## compute FEM solution for parameter _omega\n",
    "        omega.Set(_omega)\n",
    "        a.Assemble()\n",
    "        gfu.vec.data = a.mat.Inverse(fes.FreeDofs(), inverse=\"sparsecholesky\") * f.vec\n",
    "        nof = Integrate(gfu*gfu, mesh)\n",
    "        norm_of_solutions_orig += [nof]\n",
    "        V_tmp[:,n] = np.array(gfu.vec.data) \n",
    "        sol += [gfu.vec]\n",
    "        # GramSchmidt(V, np.array(gfu.vec.data))\n",
    "\n",
    "        if visual:\n",
    "            Redraw()\n",
    "            input(\"norm of solution {}: {}\".format(_omega, nof))\n",
    "    q, r = np.linalg.qr(V_tmp)\n",
    "    V = V_tmp.dot(np.linalg.inv(r))\n",
    "            \n",
    "    K_red = np.transpose(V).dot(K_orig.dot(V))\n",
    "    M_red = np.transpose(V).dot(M_orig.dot(V))\n",
    "    P_red = np.transpose(V).dot(f.vec.data)"
   ]
  },
  {
   "cell_type": "code",
   "execution_count": 5,
   "metadata": {},
   "outputs": [],
   "source": [
    "def computeResidual(param):\n",
    "    global norm_of_solutions_red, residual, K_orig, M_orig, f, K_red, M_red, P_red, V\n",
    "    global stepsize, reduced_stepsize\n",
    "    norm_of_solutions_red = [] \n",
    "    residual = []\n",
    "\n",
    "    ured = GridFunction(fes)\n",
    "    tmp = GridFunction(fes)\n",
    "    visual = False\n",
    "\n",
    "    if visual: Draw(ured)\n",
    "    j = 0\n",
    "    norm_diff = []\n",
    "    for _omega in param:\n",
    "\n",
    "        A = K_orig-_omega*_omega*M_orig\n",
    "\n",
    "        ## TODO: solve lgs\n",
    "        Ainv = np.linalg.inv(K_red-_omega*_omega*M_red)\n",
    "        red_sol_vec = np.matmul(Ainv, P_red)\n",
    "\n",
    "        ured.vec.FV().NumPy()[:] = V.dot(red_sol_vec)[:]\n",
    "        nof = Integrate(ured*ured, mesh)\n",
    "        norm_of_solutions_red += [nof]\n",
    "        res = np.linalg.norm(A.dot(np.array(ured.vec.data))-f.vec.data)\n",
    "\n",
    "        try:\n",
    "            if len(sol)==len(param):\n",
    "                # for i in range(dim_orig):\n",
    "                # print(\"ured: {} , sol: {}\".format(ured.vec.data[i], sol[j][i]))\n",
    "                  tmp.vec.FV().NumPy()[:] = sol[j][:] - ured.vec.data[:]\n",
    "                  nof_orig = Integrate(tmp*tmp, mesh)\n",
    "        except:\n",
    "            pass\n",
    "\n",
    "    #     print(res)\n",
    "        #res = np.linalg.norm(A.dot(np.array(ured.vec))-np.array(f.vec.data))\n",
    "        ## just for testing\n",
    "    #     res = np.linalg.norm((K_orig-_omega*_omega*M_orig).dot(np.array(V[:,j]))-f.vec.data)\n",
    "        residual += [res]\n",
    "        #print(\"norm of solution {}: {}\".format(_omega, nof))\n",
    "        j += 1\n",
    "        if visual:\n",
    "            Redraw()\n",
    "            input(\"norm of solution {}: {}\".format(_omega, nof))\n"
   ]
  },
  {
   "cell_type": "code",
   "execution_count": 6,
   "metadata": {},
   "outputs": [],
   "source": [
    "## Global variables that can change\n",
    "## TODO: dictionary and function that resets them\n",
    "visual = False\n",
    "V = None\n",
    "K_red = None\n",
    "M_red = None\n",
    "P_red = None\n",
    "sol = []\n",
    "norm_of_solutions_red = [] \n",
    "norm_of_solutions_orig = [] # l2 norm \n",
    "residual = []\n",
    "beginning = 1\n",
    "end = 5\n",
    "dim_orig= len(gfu.vec)# dim of original space\n",
    "dim_red  = None\n",
    "\n",
    "\n",
    "if visual: Draw(gfu)"
   ]
  },
  {
   "cell_type": "code",
   "execution_count": 7,
   "metadata": {},
   "outputs": [],
   "source": [
    "stepsize = 0.25\n",
    "## TODO: write Globals in dictionary and reset them here\n",
    "first_snapshot = np.arange(beginning,end, stepsize).tolist()\n",
    "computeRB(first_snapshot)\n",
    "computeResidual(first_snapshot)"
   ]
  },
  {
   "cell_type": "code",
   "execution_count": 8,
   "metadata": {},
   "outputs": [
    {
     "name": "stdout",
     "output_type": "stream",
     "text": [
      "216\n"
     ]
    }
   ],
   "source": [
    "test_omegas = np.random.uniform(beginning, end, 200).tolist() + first_snapshot\n",
    "computeResidual(test_omegas)\n",
    "print(len(residual))"
   ]
  },
  {
   "cell_type": "code",
   "execution_count": 10,
   "metadata": {},
   "outputs": [
    {
     "data": {
      "text/plain": [
       "[]"
      ]
     },
     "execution_count": 10,
     "metadata": {},
     "output_type": "execute_result"
    },
    {
     "data": {
      "image/png": "[encoded data removed]",
      "text/plain": [
       "<Figure size 432x288 with 1 Axes>"
      ]
     },
     "metadata": {
      "needs_background": "light"
     },
     "output_type": "display_data"
    }
   ],
   "source": [
    "import matplotlib.pyplot as plt\n",
    "fig, ax = plt.subplots()\n",
    "\n",
    "# print(first_snapshot)\n",
    "# print(residual[200:])\n",
    "\n",
    "x = np.array(test_omegas)\n",
    "y = np.array(residual)\n",
    "\n",
    "zip_to_sort = list(zip(x, range(len(x))))\n",
    "sorted_zip = sorted(zip_to_sort, key=lambda x: x[0], reverse=True)\n",
    "indices = [tup[1] for tup in sorted_zip]\n",
    "\n",
    "plt.plot(x[indices],y[indices], '-')\n",
    "\n",
    "x = np.array(test_omegas[200:])\n",
    "y = np.array(residual[200:])\n",
    "\n",
    "zip_to_sort = list(zip(x, range(len(x))))\n",
    "sorted_zip = sorted(zip_to_sort, key=lambda x: x[0], reverse=True)\n",
    "indices = [tup[1] for tup in sorted_zip]\n",
    "\n",
    "plt.plot(x[indices],y[indices], '.r')\n",
    "\n",
    "\n",
    "plt.semilogy()"
   ]
  },
  {
   "cell_type": "code",
   "execution_count": null,
   "metadata": {},
   "outputs": [],
   "source": [
    "zip_to_sort = list(zip(residual, range(0, len(residual))))\n",
    "sorted_residuals = sorted(zip_to_sort, key=lambda x: x[0], reverse=True)[0:10]\n",
    "indices = [tup[1] for tup in sorted_residuals]\n",
    "second_snapshot = first_snapshot + np.array(test_omegas)[indices].tolist()\n",
    "# print(second_snapshot)\n",
    "computeRB(second_snapshot)"
   ]
  },
  {
   "cell_type": "code",
   "execution_count": null,
   "metadata": {},
   "outputs": [],
   "source": [
    "computeResidual(second_snapshot)"
   ]
  },
  {
   "cell_type": "code",
   "execution_count": null,
   "metadata": {},
   "outputs": [],
   "source": [
    "import matplotlib.pyplot as plt\n",
    "fig, ax = plt.subplots()\n",
    "snapshot = list(second_snapshot)\n",
    "print(len(snapshot))\n",
    "\n",
    "\n",
    "eigenvalues = []\n",
    "for j in range(beginning, 2*end+1):\n",
    "    for i in range(beginning, 2*end+1):\n",
    "        tmp = (i*i+j*j)**(1/2)*1/2\n",
    "        if tmp <= end: eigenvalues += [tmp]\n",
    "        \n",
    "zip_to_sort = list(zip(snapshot, range(len(snapshot))))\n",
    "sorted_zip = sorted(zip_to_sort, key=lambda x: x[0], reverse=True)\n",
    "indices = [tup[1] for tup in sorted_zip]\n",
    "\n",
    "ax.plot([snapshot[i] for i in indices], [norm_of_solutions_red[i] for i in indices], '-')\n",
    "ax.plot(eigenvalues, np.ones(len(eigenvalues)), '.')\n",
    "plt.yscale('log')"
   ]
  }
 ],
 "metadata": {
  "file_extension": ".py",
  "kernelspec": {
   "display_name": "Python 3.6.9 64-bit",
   "language": "python",
   "name": "python36964bitbc110d7e7d684364a5777decf7cc6ac1"
  },
  "language_info": {
   "codemirror_mode": {
    "name": "ipython",
    "version": 3
   },
   "file_extension": ".py",
   "mimetype": "text/x-python",
   "name": "python",
   "nbconvert_exporter": "python",
   "pygments_lexer": "ipython3",
   "version": "3.6.9"
  },
  "mimetype": "text/x-python",
  "name": "python",
  "npconvert_exporter": "python",
  "pygments_lexer": "ipython3",
  "version": 3
 },
 "nbformat": 4,
 "nbformat_minor": 2
}
