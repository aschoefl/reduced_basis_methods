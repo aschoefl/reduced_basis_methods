{
 "cells": [
  {
   "cell_type": "code",
   "execution_count": 1,
   "metadata": {},
   "outputs": [],
   "source": [
    "from __future__ import print_function\n",
    "from ipywidgets import interact, interactive, fixed, interact_manual\n",
    "import ipywidgets as widgets\n",
    "\n",
    "from netgen.csg import *\n",
    "from ngsolve import *\n",
    "from ngsolve.webgui import Draw"
   ]
  },
  {
   "cell_type": "markdown",
   "metadata": {},
   "source": [
    "### Permanentmagnet\n",
    "$$\n",
    "\\DeclareMathOperator{\\Grad}{grad}\n",
    "\\DeclareMathOperator{\\Curl}{curl}\n",
    "\\DeclareMathOperator{\\Div}{div}\n",
    "\\DeclareMathOperator{\\R}{\\mathbb{R}}\n",
    "\\DeclareMathOperator{\\real}{real}\n",
    "$$\n",
    "Finde $ u \\in H(\\Curl)$ sodass \n",
    "$$\n",
    "\\int \\mu^{-1} \\Curl u \\Curl v + 10^{-8} \\int  u  v= \\int M \\Curl v \\qquad  \\forall \\, v \\in H(\\Curl) \\tag{1}\n",
    "$$\n",
    "\n",
    "\n",
    "Wobei der zweite Integralterm der Stabilität dient und die Werte für $\\mu_r$ wie folgt angenommen werden:\n",
    "* magnet: $\\mu_r = 1$\n",
    "* copper plate: $\\mu_r = 1-6.4\\cdot10^{-6}$\n",
    "* iron plate: $\\mu_r = 1000$\n",
    "* air: $\\mu_r = 1$ \n"
   ]
  },
  {
   "cell_type": "code",
   "execution_count": 2,
   "metadata": {
    "scrolled": false
   },
   "outputs": [
    {
     "data": {
      "application/vnd.jupyter.widget-view+json": {
       "model_id": "2fde300db1d34b65a85d22478cc961c9",
       "version_major": 2,
       "version_minor": 0
      },
      "text/plain": [
       "NGSWebGuiWidget(value={'ngsolve_version': '6.2.2007-77-g8f6b4b911', 'mesh_dim': 3, 'order2d': 2, 'order3d': 2,…"
      ]
     },
     "metadata": {},
     "output_type": "display_data"
    },
    {
     "data": {
      "text/plain": []
     },
     "execution_count": 2,
     "metadata": {},
     "output_type": "execute_result"
    }
   ],
   "source": [
    "geo = CSGeometry()\n",
    "box_size = 4\n",
    "box = OrthoBrick(Pnt(-box_size,-box_size,-box_size), Pnt(box_size,box_size,box_size)).bc(\"outer\")\n",
    "magnet = Cylinder(Pnt(0.05,0,0), Pnt(0.05,0,1), 0.3) * \\\n",
    "            OrthoBrick (Pnt(-1,-1,-1),Pnt(1,1,1)).mat(\"magnet\")\n",
    "\n",
    "plate = OrthoBrick (Pnt(-1, 1,-1.5),Pnt(1,1.2,1.5)).mat('copper').maxh(0.1)\n",
    "\n",
    "air = (box - magnet- plate).mat('air') \n",
    "\n",
    "geo.Add(plate)#, col=(0,1,0)) # what is col?\n",
    "geo.Add(magnet)\n",
    "geo.Add(air)#, transparent=True)\n",
    "\n",
    "mesh = Mesh(geo.GenerateMesh(maxh=0.5))\n",
    "mesh.Curve(5)\n",
    "Draw (mesh)\n",
    "# help (geo)\n",
    "# help(box)"
   ]
  },
  {
   "cell_type": "code",
   "execution_count": 3,
   "metadata": {
    "scrolled": false
   },
   "outputs": [
    {
     "name": "stdout",
     "output_type": "stream",
     "text": [
      "iteration 0 error = 0.13567283909579136\n",
      "iteration 1 error = 0.05473322846754457\n",
      "iteration 2 error = 0.044385023621072675\n",
      "iteration 3 error = 0.027011162617394557\n",
      "iteration 4 error = 0.0257904703103141\n",
      "iteration 5 error = 0.017863894156241695\n",
      "iteration 6 error = 0.012876952473059512\n",
      "iteration 7 error = 0.007108495317293985\n",
      "iteration 8 error = 0.004363922238399485\n",
      "iteration 9 error = 0.00273911721968456\n",
      "iteration 10 error = 0.0018865737925905825\n",
      "iteration 11 error = 0.0013196573282326226\n",
      "iteration 12 error = 0.0009264698419429858\n",
      "iteration 13 error = 0.0006107678606498744\n",
      "iteration 14 error = 0.0004413137883422795\n",
      "iteration 15 error = 0.00030263061281250215\n",
      "iteration 16 error = 0.0001860823233421447\n",
      "iteration 17 error = 0.00012186645154315413\n",
      "iteration 18 error = 8.404813836294833e-05\n",
      "iteration 19 error = 5.8513987613521834e-05\n",
      "iteration 20 error = 4.072693432941794e-05\n",
      "iteration 21 error = 2.7305124117102016e-05\n",
      "iteration 22 error = 1.8433534880673422e-05\n",
      "iteration 23 error = 1.2943068376763901e-05\n",
      "iteration 24 error = 8.426655783501233e-06\n",
      "iteration 25 error = 5.715328132949569e-06\n",
      "iteration 26 error = 3.970554663812772e-06\n",
      "iteration 27 error = 2.5773385375749768e-06\n",
      "iteration 28 error = 1.7100360595693753e-06\n",
      "iteration 29 error = 1.127582671810241e-06\n",
      "iteration 30 error = 7.776338494896645e-07\n",
      "iteration 31 error = 5.215879482256267e-07\n",
      "iteration 32 error = 3.3476430469940454e-07\n",
      "iteration 33 error = 2.2546764752745012e-07\n",
      "iteration 34 error = 1.469867006676277e-07\n",
      "iteration 35 error = 9.842169673487018e-08\n",
      "iteration 36 error = 6.46951189344483e-08\n",
      "iteration 37 error = 4.279630500501689e-08\n",
      "iteration 38 error = 2.7563747657168315e-08\n",
      "iteration 39 error = 1.72351728253458e-08\n",
      "iteration 40 error = 1.1240984926482877e-08\n",
      "iteration 41 error = 7.304776641393267e-09\n",
      "iteration 42 error = 4.755092807261182e-09\n",
      "iteration 43 error = 3.031582070657056e-09\n",
      "iteration 44 error = 2.003150317504757e-09\n",
      "iteration 45 error = 1.3277820620804827e-09\n",
      "iteration 46 error = 8.979004550606412e-10\n",
      "iteration 47 error = 5.762093303560099e-10\n",
      "iteration 48 error = 3.6906734306885474e-10\n",
      "iteration 49 error = 2.3332798347682205e-10\n",
      "iteration 50 error = 1.5474919639164188e-10\n",
      "iteration 51 error = 1.0565872979413916e-10\n",
      "iteration 52 error = 6.782366875455688e-11\n",
      "iteration 53 error = 4.4201148735853104e-11\n",
      "iteration 54 error = 2.798587533636417e-11\n",
      "iteration 55 error = 1.8669020599575106e-11\n",
      "iteration 56 error = 1.217481747575446e-11\n",
      "iteration 57 error = 8.471212035640465e-12\n",
      "iteration 58 error = 6.499992118198296e-12\n",
      "iteration 59 error = 3.987585355792808e-12\n",
      "iteration 60 error = 2.5601748316562686e-12\n",
      "iteration 61 error = 1.6315184027881996e-12\n",
      "iteration 62 error = 1.0475074474604937e-12\n",
      "iteration 63 error = 7.023345566854864e-13\n",
      "iteration 64 error = 4.814199001678667e-13\n",
      "iteration 65 error = 3.669889784864641e-13\n",
      "iteration 66 error = 2.2774970789965254e-13\n",
      "iteration 67 error = 1.4583181049490744e-13\n",
      "iteration 68 error = 9.170116305877385e-14\n"
     ]
    }
   ],
   "source": [
    "fes = HCurl(mesh, order = 3, dirichlet=\"outer\", nograds=True)\n",
    "u,v = fes.TnT()\n",
    "from math import pi\n",
    "mu0 = 4*pi*1e-7\n",
    "mur = CoefficientFunction( [1 if mat== \"magnet\" else 1-6.4*1e-7 if mat=='copper' else 1000 if mat == 'iron' else 1\n",
    "                            for mat in mesh.GetMaterials()]) \n",
    "a = BilinearForm(fes)\n",
    "a += 1/(mu0*mur)*curl(u)*curl(v)*dx + 1e-8/(mu0*mur)*u*v*dx\n",
    "c = Preconditioner(a, \"bddc\")\n",
    "\n",
    "f = LinearForm(fes)\n",
    "mag = CoefficientFunction((0,0,1)) * \\\n",
    "    CoefficientFunction([100 if mat == \"magnet\" else 0 for mat in mesh.GetMaterials()])\n",
    "f += mag*curl(v)*dx(mesh.Materials(\"magnet\"))\n",
    "\n",
    "gfu = GridFunction(fes)\n",
    "\n",
    "with TaskManager():\n",
    "    a.Assemble()\n",
    "    f.Assemble()\n",
    "    solvers.CG(sol=gfu.vec, rhs=f.vec, mat=a.mat, pre=c.mat)\n",
    "\n",
    "# help(c)\n",
    "# help(fes)"
   ]
  },
  {
   "cell_type": "code",
   "execution_count": 4,
   "metadata": {
    "scrolled": false
   },
   "outputs": [
    {
     "data": {
      "application/vnd.jupyter.widget-view+json": {
       "model_id": "1e1f38db710b420e9f7940cb050e9a77",
       "version_major": 2,
       "version_minor": 0
      },
      "text/plain": [
       "NGSWebGuiWidget(value={'ngsolve_version': '6.2.2007-77-g8f6b4b911', 'mesh_dim': 3, 'order2d': 2, 'order3d': 2,…"
      ]
     },
     "metadata": {},
     "output_type": "display_data"
    },
    {
     "data": {
      "text/plain": []
     },
     "execution_count": 4,
     "metadata": {},
     "output_type": "execute_result"
    }
   ],
   "source": [
    "## magnetic flux\n",
    "Draw (curl(gfu), mesh, \"B-field\", draw_surf=False)"
   ]
  },
  {
   "cell_type": "code",
   "execution_count": 5,
   "metadata": {},
   "outputs": [
    {
     "data": {
      "application/vnd.jupyter.widget-view+json": {
       "model_id": "98a94a8e042c49d1958e26b39b608aa1",
       "version_major": 2,
       "version_minor": 0
      },
      "text/plain": [
       "NGSWebGuiWidget(value={'ngsolve_version': '6.2.2007-9-ga349a5c89', 'mesh_dim': 3, 'order2d': 2, 'order3d': 2, …"
      ]
     },
     "metadata": {},
     "output_type": "display_data"
    },
    {
     "data": {
      "text/plain": []
     },
     "execution_count": 5,
     "metadata": {},
     "output_type": "execute_result"
    }
   ],
   "source": [
    "Draw (gfu, mesh, \"vector-potential\", draw_surf = False)"
   ]
  },
  {
   "cell_type": "code",
   "execution_count": 6,
   "metadata": {},
   "outputs": [
    {
     "data": {
      "application/vnd.jupyter.widget-view+json": {
       "model_id": "9c5f31bd861a446dba22d820d869ead8",
       "version_major": 2,
       "version_minor": 0
      },
      "text/plain": [
       "NGSWebGuiWidget(value={'ngsolve_version': '6.2.2007-9-ga349a5c89', 'mesh_dim': 3, 'order2d': 2, 'order3d': 2, …"
      ]
     },
     "metadata": {},
     "output_type": "display_data"
    },
    {
     "data": {
      "text/plain": []
     },
     "execution_count": 6,
     "metadata": {},
     "output_type": "execute_result"
    }
   ],
   "source": [
    "## magnetic field\n",
    "Draw (1/(mu0*mur)*curl(gfu)-mag, mesh, \"H-field\", draw_surf=False)"
   ]
  },
  {
   "cell_type": "markdown",
   "metadata": {},
   "source": [
    "### Harmonische Magnetisierung\n",
    "\n",
    "Wird noch durch mit Spule umwickeltem Eisenkern ersetzt, hier mal die einfachere Schummelvariante zum Ausprobieren. \n",
    "\n",
    "\n",
    "Finde $ u \\in H(\\Curl)$ sodass \n",
    "$$\n",
    "\\int_{\\Omega} \\mu^{-1} \\Curl u \\Curl v + i\\omega\\sigma \\int_{\\Omega\\setminus\\text{magnet}}  u  v  + 10^{-8} \\int_{\\text{magnet}} u v = \\int_{\\Omega} M \\Curl v \\qquad  \\forall \\, v \\in H(\\Curl) \\tag{2}\n",
    "$$\n",
    "\n",
    "mit den Werten\n",
    "* magnet: $\\mu_r = 1, \\sigma = 0$ \n",
    "* copper plate: $\\mu_r = 1-6.4\\cdot10^{-6}, \\sigma = 58 \\cdot 10^8$\n",
    "* air: $\\mu_r = 1, \\sigma = 10^{-5}$ "
   ]
  },
  {
   "cell_type": "code",
   "execution_count": 5,
   "metadata": {},
   "outputs": [
    {
     "name": "stdout",
     "output_type": "stream",
     "text": [
      "iteration 0 error = 0.13556129855403448\n",
      "iteration 1 error = 0.05469199386933857\n",
      "iteration 2 error = 0.044351141812883174\n",
      "iteration 3 error = 0.026977052202825518\n",
      "iteration 4 error = 0.025366589493256958\n",
      "iteration 5 error = 0.017306660664428566\n",
      "iteration 6 error = 0.012861338635837454\n",
      "iteration 7 error = 0.007127312737917468\n",
      "iteration 8 error = 0.004361682719270799\n",
      "iteration 9 error = 0.0027210631650359707\n",
      "iteration 10 error = 0.0018680633142637664\n",
      "iteration 11 error = 0.0013079565347494382\n",
      "iteration 12 error = 0.000917511833448032\n",
      "iteration 13 error = 0.0005913105204216592\n",
      "iteration 14 error = 0.00041613405413416923\n",
      "iteration 15 error = 0.00029370822361207444\n",
      "iteration 16 error = 0.0001872677930015665\n",
      "iteration 17 error = 0.0001202613709409528\n",
      "iteration 18 error = 8.294695502827921e-05\n",
      "iteration 19 error = 5.87338009783319e-05\n",
      "iteration 20 error = 4.072569174025659e-05\n",
      "iteration 21 error = 2.666256369803744e-05\n",
      "iteration 22 error = 1.781076397407041e-05\n",
      "iteration 23 error = 1.3139724380892635e-05\n",
      "iteration 24 error = 8.627272459207616e-06\n",
      "iteration 25 error = 5.700624825346836e-06\n",
      "iteration 26 error = 3.850302222034913e-06\n",
      "iteration 27 error = 2.4723339187995144e-06\n",
      "iteration 28 error = 1.6198440954434898e-06\n",
      "iteration 29 error = 1.0632851731860363e-06\n",
      "iteration 30 error = 7.098268895148404e-07\n",
      "iteration 31 error = 4.7647939676807134e-07\n",
      "iteration 32 error = 3.1065219783905297e-07\n",
      "iteration 33 error = 2.0936112489568646e-07\n",
      "iteration 34 error = 1.3785453295606492e-07\n",
      "iteration 35 error = 9.446647682154395e-08\n",
      "iteration 36 error = 6.324866550150968e-08\n",
      "iteration 37 error = 4.260461457399449e-08\n",
      "iteration 38 error = 2.7695745409502456e-08\n",
      "iteration 39 error = 1.723699595710049e-08\n",
      "iteration 40 error = 1.1235232250456785e-08\n",
      "iteration 41 error = 7.298583581982533e-09\n",
      "iteration 42 error = 4.7540611671558975e-09\n",
      "iteration 43 error = 3.028195451210202e-09\n",
      "iteration 44 error = 1.994389264598945e-09\n",
      "iteration 45 error = 1.314282909038888e-09\n",
      "iteration 46 error = 8.902183465440087e-10\n",
      "iteration 47 error = 5.739773102013225e-10\n",
      "iteration 48 error = 3.677271936590525e-10\n",
      "iteration 49 error = 2.3125882384954875e-10\n",
      "iteration 50 error = 1.5154435588061533e-10\n",
      "iteration 51 error = 1.0336147086510747e-10\n",
      "iteration 52 error = 6.747620780048021e-11\n",
      "iteration 53 error = 4.436705126149978e-11\n",
      "iteration 54 error = 2.8457074748154073e-11\n",
      "iteration 55 error = 2.016876875155638e-11\n",
      "iteration 56 error = 1.4722199465294925e-11\n",
      "iteration 57 error = 1.0010017664364718e-11\n",
      "iteration 58 error = 6.282873792345538e-12\n",
      "iteration 59 error = 3.958312222217128e-12\n",
      "iteration 60 error = 2.76651464398356e-12\n",
      "iteration 61 error = 2.064612571508196e-12\n",
      "iteration 62 error = 1.363065496180435e-12\n",
      "iteration 63 error = 8.287324071799908e-13\n",
      "iteration 64 error = 5.477100372469726e-13\n",
      "iteration 65 error = 3.5425755554417033e-13\n",
      "iteration 66 error = 2.2312857165796991e-13\n",
      "iteration 67 error = 1.4613960432776082e-13\n",
      "iteration 68 error = 9.548621529056252e-14\n"
     ]
    }
   ],
   "source": [
    "fes = HCurl(mesh, order = 3, dirichlet=\"outer\", nograds=True, complex= True)\n",
    "u,v = fes.TnT()\n",
    "from math import pi\n",
    "mu0 = 4*pi*1e-7\n",
    "mur = CoefficientFunction( [1 if mat== \"magnet\" else 1-6.4*1e-7 if mat=='copper' else  1\n",
    "                            for mat in mesh.GetMaterials()]) \n",
    "\n",
    "sigma = CoefficientFunction( [0 if mat== \"magnet\" else 58*1e8 if mat=='copper' else 1e-5\n",
    "                            for mat in mesh.GetMaterials()]) \n",
    "omega = Parameter(100)\n",
    "a = BilinearForm(fes)\n",
    "a += 1/(mu0*mur)*curl(u)*curl(v)*dx + 1e-8/(mu0*mur)*u*v*dx(\"magnet\") + 1j*omega*sigma*u*v*dx\n",
    "c = Preconditioner(a, \"bddc\")\n",
    "\n",
    "f = LinearForm(fes)\n",
    "mag = CoefficientFunction((0,0,1)) * \\\n",
    "    CoefficientFunction( [100 if mat == \"magnet\" else 0 for mat in mesh.GetMaterials()])\n",
    "f += mag*curl(v)*dx(mesh.Materials(\"magnet\"))\n",
    "\n",
    "gfu = GridFunction(fes)\n",
    "\n",
    "with TaskManager():\n",
    "    a.Assemble()\n",
    "    f.Assemble()\n",
    "    solvers.CG(sol=gfu.vec, rhs=f.vec, mat=a.mat, pre=c.mat, tol= 1e-8)"
   ]
  },
  {
   "cell_type": "code",
   "execution_count": 8,
   "metadata": {},
   "outputs": [
    {
     "data": {
      "application/vnd.jupyter.widget-view+json": {
       "model_id": "f4fa4fd09c9d4041976a36e13e34d1f2",
       "version_major": 2,
       "version_minor": 0
      },
      "text/plain": [
       "NGSWebGuiWidget(value={'ngsolve_version': '6.2.2007-9-ga349a5c89', 'mesh_dim': 3, 'order2d': 2, 'order3d': 2, …"
      ]
     },
     "metadata": {},
     "output_type": "display_data"
    },
    {
     "data": {
      "text/plain": []
     },
     "execution_count": 8,
     "metadata": {},
     "output_type": "execute_result"
    }
   ],
   "source": [
    "# drawu = GridFunction(fes)\n",
    "## need equivalent to\n",
    "# drawu.vec.data = (-1j*omega*exp(1j*omega*1)*gfu).data\n",
    "# scene = Draw (drawu.real, mesh, \"E-field\", draw_surf=False)\n",
    "# def slider_func(t): \n",
    "    ## need equivalent to\n",
    "#     drawu.vec.data = (-1j*omega*exp(1j*omega*t)*gfu).data\n",
    "#     scene.Redraw()\n",
    "# interact(slider_func, x=widgets.FloatSlider(min=1, max=100, step=0.05, value=1))\n",
    "\n",
    "t = 1\n",
    "Draw ((-1j*omega*exp(1j*omega*t)*gfu).real, mesh, \"E-field\", draw_surf=False)\n"
   ]
  },
  {
   "cell_type": "code",
   "execution_count": 6,
   "metadata": {},
   "outputs": [
    {
     "data": {
      "application/vnd.jupyter.widget-view+json": {
       "model_id": "44cc3b2055bb4250afb03c2acff91b2c",
       "version_major": 2,
       "version_minor": 0
      },
      "text/plain": [
       "NGSWebGuiWidget(value={'ngsolve_version': '6.2.2007-77-g8f6b4b911', 'mesh_dim': 3, 'order2d': 2, 'order3d': 2,…"
      ]
     },
     "metadata": {},
     "output_type": "display_data"
    },
    {
     "data": {
      "text/plain": []
     },
     "execution_count": 6,
     "metadata": {},
     "output_type": "execute_result"
    }
   ],
   "source": [
    "t = 1\n",
    "Draw (sigma*(-1j*omega*exp(1j*omega*t)*gfu).real, mesh, \"j\", draw_surf=False)\n",
    "## to see: clipping (0,1,0,-1)"
   ]
  },
  {
   "cell_type": "markdown",
   "metadata": {},
   "source": [
    "## Notizen für mich\n",
    "nützliche links:\n",
    "\n",
    "* http://www.numa.uni-linz.ac.at/Teaching/PhD/Finished/zaglmayr \n",
    "* https://de.wikipedia.org/wiki/Maxwell-Gleichungen\n",
    "* https://ngsolve.org/docu/latest/i-tutorials/wta/maxwell.html\n",
    "* https://ngsolve.org/docu/latest/i-tutorials/unit-2.3-hcurlhdiv/hcurlhdiv.html\n",
    "* https://ngsolve.org/docu/latest/i-tutorials/unit-2.4-Maxwell/Maxwell.html\n",
    "* https://www.asc.tuwien.ac.at/~schoeberl/wiki/lva/notes/maxwell.pdf\n",
    "* https://www.numa.uni-linz.ac.at/Teaching/Bachelor/kagerer-bakk.pdf\n",
    "* \"allwissender Kreis\" \n",
    "\n",
    "### Fragen\n",
    "\n",
    "* Ist es möglich die äußere Box unsichtbar zu machen?\n",
    "* Was ist `col` bei geo.Add(..)\n",
    "* Was bringt `nograds` (lt Help 'Remove higher order gradients of H1 basis functions from HCurl FESpace')?\n",
    "* slider function Problem\n",
    "* Wie gehe ich mit leitenden Materialien um (Permittivität)? \n",
    "* mehr clipping planes? \n",
    "* impressed current density?\n",
    "\n",
    "### Basics\n",
    "\n",
    "#### Physikalische Größen\n",
    "\n",
    "$E$ .. Elektrische Feldstärke (Stärke und Richtung eines elektrischen Feldes) \\\n",
    "$D$ .. Elektrische Flussdichte (Dichte der elektrischen Feldlinien in Bezug auf eine Fläche) \\\n",
    "$H$ .. Magnetische Felstärke \\\n",
    "$B$ .. Magnetische Flussdichte \\\n",
    "$M$ .. Magnetisierung \\\n",
    "$\\rho$ .. Ladungsdichte (Ladung pro Volumen) \\\n",
    "$\\sigma$ .. elektrische Leitfähigkeit \\\n",
    "$j$ .. Stromdichte (Strom pro durchflossene Fläche) \n",
    "\n",
    "\n",
    "#### Makroskopische Maxwelllgleichungen\n",
    "(M1) $\\Div D = \\rho$ (Ladung ist Quelle des elektrischen Feldes) \\\n",
    "(M2) $\\Div B = 0$ (keine magnetischen Ladungen) \\\n",
    "(M3) $\\Curl E = -\\partial_t B$ (Induktion)  \\\n",
    "(M4) $\\Curl H = j + \\partial_t D$ (Amper'sches Gesetz mit Verschiebungsstrom)\n",
    "\n",
    "#### sonstige Zusammenhänge\n",
    "\n",
    "(S1) $D = \\epsilon E $ (evtl noch $+ P$ .. Polarisation, was ist das?) wobei $\\epsilon = \\epsilon_0 \\epsilon_r$ (Permittivität),  $\\epsilon_0 = 10^{-7} \\cdot 8.8541878128$\\\n",
    "(S2) $H = \\mu^{-1} B - M$ wobei $\\mu = \\mu_0 \\mu_r$ (magnetische Permeabilität wenn im linearen Bereich), $\\mu_0 =  4\\pi10^{-7}$ \\\n",
    "(S3) $j = \\sigma E +j_i$ ($j_i$ .. 'impressed current density', was ist das genau?)\n",
    "\n",
    "\n",
    "#### Herleitung einer schwachen Formulierung\n",
    "Einführen eines Vektorpotentials $A$ sodass $B = \\Curl A$. \n",
    "\n",
    "Umformen:\n",
    "$$\n",
    "\\begin{split}\n",
    "\\Curl(\\mu^{-1} \\Curl(A) - M) &= \\Curl(\\mu^{-1} B - M) \\\\\n",
    "&\\stackrel{\\text{(S2)}}{=} \\Curl(H) \\\\\n",
    "&\\stackrel{\\text{(M4)}}{=} j + \\partial_t D \\\\\n",
    "&\\stackrel{\\text{(S1)}}{=} j + \\partial_t \\epsilon E  \\\\\n",
    "&\\stackrel{\\text{(S3)}}{=} \\sigma E + j_i + \\partial_t \\epsilon E \n",
    "\\end{split}\n",
    "$$\n",
    "\n",
    "\n",
    "Ziel ist $A$ so zu wählen, dass $E = -\\partial_t A$. Einzige Bedingung an $A$ war, dass $\\Curl A = B$, dh jedes $\\tilde{A}$ das sich von $A$ nur um ein Gradientenfeld unterscheidet erfüllt das genauso. Sei $\\tilde{A}$ so dass $\\Curl \\tilde{A} = B$\n",
    "\n",
    "\n",
    "\n",
    "Nach (M3) gilt $\\Curl E = - \\partial_t (\\Curl \\tilde{A})) = - \\Curl( \\partial_t \\tilde{A})$. Äquivalent dazu $\\Curl(E + \\partial_t \\tilde{A}) = 0$. Gibt Potential $\\phi: \\R^3 \\rightarrow \\R $ mit $\\Grad \\phi =  E+ \\partial_t \\tilde{A}$ wenn das Gebiet brav genug ist (sternförmig oder einfach zusammenhängend). Angenommen das ist der Fall dann gilt $E = \\Grad \\phi - \\partial_t \\tilde{A}$. Mit \n",
    "$$\n",
    "A = - (\\int_{t_0}^{t} \\Grad \\phi(s) ~ \\text{ds} - \\tilde{A})\n",
    "$$ \n",
    "ist die gewünschte Anforderung erfüllt. Dh wir können annehmen $E = -\\partial_t A$. \n",
    "\n",
    "Einsetzen ergibt\n",
    "$$\n",
    "\\Curl(\\mu^{-1} \\Curl(A) - M) + \\sigma \\partial_t A +  \\epsilon \\partial_t^2A = j_i .\n",
    "$$\n",
    "\n",
    "\n",
    "Partielle Integration für curl \n",
    "$$\n",
    "\\int_\\Omega \\Curl u \\cdot v = \\int_\\Omega u \\cdot \\Curl v - \\int_{\\partial\\Omega} (u \\times n) \\cdot v\n",
    "$$\n",
    "\n",
    "\n",
    "Angenommen wir haben Dirichlet RB, dann ergibt sich die schwache Formulierung:\n",
    "\n",
    "__________\n",
    "\n",
    "Finde $A \\in H(\\Curl)$ sodass \n",
    "$$ \n",
    "\\int \\mu^{-1} \\Curl A \\Curl v +  \\sigma \\int \\partial_t A v + \\epsilon \\int \\partial_t^2 A v = \\int j_i v + \\int M \\Curl v \\qquad \\forall v \\in H(\\Curl). \n",
    "$$\n",
    "__________\n",
    "\n",
    "#### Spezialfälle\n",
    "\n",
    "Permanentmagnet:  $j_i = 0$ und  $E = 0$ $\\Rightarrow$ (1) \n",
    "\n",
    "harmonische Magnetisierung:  $j_i = 0$ , $M(x,t) = \\real(M(x)e^{i\\omega t})$ und $A = \\real(A(x)e^{i\\omega t})$ $\\Rightarrow$ (2) \n"
   ]
  }
 ],
 "metadata": {
  "kernelspec": {
   "display_name": "Python 3",
   "language": "python",
   "name": "python3"
  },
  "language_info": {
   "codemirror_mode": {
    "name": "ipython",
    "version": 3
   },
   "file_extension": ".py",
   "mimetype": "text/x-python",
   "name": "python",
   "nbconvert_exporter": "python",
   "pygments_lexer": "ipython3",
   "version": "3.8.2"
  }
 },
 "nbformat": 4,
 "nbformat_minor": 4
}
