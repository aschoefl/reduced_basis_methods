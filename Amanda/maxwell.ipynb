{
 "cells": [
  {
   "cell_type": "code",
   "execution_count": 1,
   "metadata": {},
   "outputs": [],
   "source": [
    "from __future__ import print_function\n",
    "from ipywidgets import interact, interactive, fixed, interact_manual\n",
    "import ipywidgets as widgets\n",
    "\n",
    "from netgen.csg import *\n",
    "from ngsolve import *\n",
    "from ngsolve.webgui import Draw"
   ]
  },
  {
   "cell_type": "markdown",
   "metadata": {},
   "source": [
    "### Permanentmagnet\n",
    "$$\n",
    "\\DeclareMathOperator{\\Grad}{grad}\n",
    "\\DeclareMathOperator{\\Curl}{curl}\n",
    "\\DeclareMathOperator{\\Div}{div}\n",
    "\\DeclareMathOperator{\\R}{\\mathbb{R}}\n",
    "\\DeclareMathOperator{\\real}{real}\n",
    "$$\n",
    "Finde $ u \\in H(\\Curl)$ sodass \n",
    "$$\n",
    "\\int \\mu^{-1} \\Curl u \\Curl v + 10^{-8} \\int  u  v= \\int M \\Curl v \\qquad  \\forall \\, v \\in H(\\Curl) \\tag{1}\n",
    "$$\n",
    "\n",
    "\n",
    "Wobei der zweite Integralterm der Stabilität dient und die Werte für $\\mu_r$ wie folgt angenommen werden:\n",
    "* magnet: $\\mu_r = 1$\n",
    "* copper plate: $\\mu_r = 1-6.4\\cdot10^{-6}$\n",
    "* iron plate: $\\mu_r = 1000$\n",
    "* air: $\\mu_r = 1$ \n"
   ]
  },
  {
   "cell_type": "code",
   "execution_count": 2,
   "metadata": {
    "scrolled": false
   },
   "outputs": [
    {
     "data": {
      "application/vnd.jupyter.widget-view+json": {
       "model_id": "56f619778b6944048efac64bbaacb58b",
       "version_major": 2,
       "version_minor": 0
      },
      "text/plain": [
       "NGSWebGuiWidget(value={'ngsolve_version': '6.2.2007-9-ga349a5c89', 'mesh_dim': 3, 'order2d': 2, 'order3d': 2, …"
      ]
     },
     "metadata": {},
     "output_type": "display_data"
    },
    {
     "data": {
      "text/plain": []
     },
     "execution_count": 2,
     "metadata": {},
     "output_type": "execute_result"
    }
   ],
   "source": [
    "geo = CSGeometry()\n",
    "box_size = 4\n",
    "box = OrthoBrick(Pnt(-box_size,-box_size,-box_size), Pnt(box_size,box_size,box_size)).bc(\"outer\")\n",
    "magnet = Cylinder(Pnt(0.05,0,0), Pnt(0.05,0,1), 0.3) * \\\n",
    "            OrthoBrick (Pnt(-1,-1,-1),Pnt(1,1,1)).mat(\"magnet\")\n",
    "\n",
    "plate = OrthoBrick (Pnt(-1, 1,-1.5),Pnt(1,1.2,1.5)).mat('copper').maxh(0.1)\n",
    "\n",
    "air = (box - magnet- plate).mat('air') \n",
    "\n",
    "geo.Add(plate)#, col=(0,1,0)) # what is col?\n",
    "geo.Add(magnet)\n",
    "geo.Add(air)#, transparent=True)\n",
    "\n",
    "mesh = Mesh(geo.GenerateMesh(maxh=0.5))\n",
    "mesh.Curve(5)\n",
    "Draw (mesh)\n",
    "# help (geo)\n",
    "# help(box)"
   ]
  },
  {
   "cell_type": "code",
   "execution_count": 3,
   "metadata": {
    "scrolled": false
   },
   "outputs": [
    {
     "name": "stdout",
     "output_type": "stream",
     "text": [
      "iteration 0 error = 0.13522851499169114\n",
      "iteration 1 error = 0.054301052710330644\n",
      "iteration 2 error = 0.04471410956333331\n",
      "iteration 3 error = 0.02914278272392564\n",
      "iteration 4 error = 0.029680259897958375\n",
      "iteration 5 error = 0.01743269076669511\n",
      "iteration 6 error = 0.012022514620415215\n",
      "iteration 7 error = 0.007125931823885172\n",
      "iteration 8 error = 0.004879008433179072\n",
      "iteration 9 error = 0.003076465046372173\n",
      "iteration 10 error = 0.0019908721980120576\n",
      "iteration 11 error = 0.0015059401243313827\n",
      "iteration 12 error = 0.0009766031688207698\n",
      "iteration 13 error = 0.0006532314526788101\n",
      "iteration 14 error = 0.00046684886634984924\n",
      "iteration 15 error = 0.00031336305825716644\n",
      "iteration 16 error = 0.00019747855456573026\n",
      "iteration 17 error = 0.00013326882738474145\n",
      "iteration 18 error = 8.743169151181656e-05\n",
      "iteration 19 error = 5.833584142047728e-05\n",
      "iteration 20 error = 3.7040367377269994e-05\n",
      "iteration 21 error = 2.4060971254918804e-05\n",
      "iteration 22 error = 1.5286251164045036e-05\n",
      "iteration 23 error = 1.1066652221413281e-05\n",
      "iteration 24 error = 7.331244141928326e-06\n",
      "iteration 25 error = 5.068168633175339e-06\n",
      "iteration 26 error = 3.2092555049306375e-06\n",
      "iteration 27 error = 2.0854789131003614e-06\n",
      "iteration 28 error = 1.3252292596411885e-06\n",
      "iteration 29 error = 8.895805419422213e-07\n",
      "iteration 30 error = 5.79834920994493e-07\n",
      "iteration 31 error = 3.7688878398946303e-07\n",
      "iteration 32 error = 2.5441994376121753e-07\n",
      "iteration 33 error = 1.6653343290198088e-07\n",
      "iteration 34 error = 1.0941225922913685e-07\n",
      "iteration 35 error = 7.083016687558652e-08\n",
      "iteration 36 error = 4.771115716724835e-08\n",
      "iteration 37 error = 3.069309779705932e-08\n",
      "iteration 38 error = 1.968615018191398e-08\n",
      "iteration 39 error = 1.257015642360002e-08\n",
      "iteration 40 error = 8.321388111261718e-09\n",
      "iteration 41 error = 5.312943560597287e-09\n",
      "iteration 42 error = 3.585630875996226e-09\n",
      "iteration 43 error = 2.30192050957433e-09\n",
      "iteration 44 error = 1.526317940494667e-09\n",
      "iteration 45 error = 9.811634911087796e-10\n",
      "iteration 46 error = 6.53878620096499e-10\n",
      "iteration 47 error = 4.2797848757419266e-10\n",
      "iteration 48 error = 2.772961446871127e-10\n",
      "iteration 49 error = 1.8251524901992494e-10\n",
      "iteration 50 error = 1.2021602674979584e-10\n",
      "iteration 51 error = 7.918251302006713e-11\n",
      "iteration 52 error = 5.531211164510653e-11\n",
      "iteration 53 error = 4.09965424608503e-11\n",
      "iteration 54 error = 2.6970630317004036e-11\n",
      "iteration 55 error = 1.737937215995928e-11\n",
      "iteration 56 error = 1.1428807932085954e-11\n",
      "iteration 57 error = 7.48428235152958e-12\n",
      "iteration 58 error = 4.9472311243476655e-12\n",
      "iteration 59 error = 3.2538523392761927e-12\n",
      "iteration 60 error = 2.1222825913615857e-12\n",
      "iteration 61 error = 1.4478590591939254e-12\n",
      "iteration 62 error = 9.959692472899209e-13\n",
      "iteration 63 error = 7.178641859256809e-13\n",
      "iteration 64 error = 4.581691089537964e-13\n",
      "iteration 65 error = 3.0015728190575627e-13\n",
      "iteration 66 error = 1.8982720739619444e-13\n",
      "iteration 67 error = 1.2328578228037827e-13\n"
     ]
    }
   ],
   "source": [
    "fes = HCurl(mesh, order = 3, dirichlet=\"outer\", nograds=True)\n",
    "u,v = fes.TnT()\n",
    "from math import pi\n",
    "mu0 = 4*pi*1e-7\n",
    "mur = CoefficientFunction( [1 if mat== \"magnet\" else 1-6.4*1e-7 if mat=='copper' else 1000 if mat == 'iron' else 1\n",
    "                            for mat in mesh.GetMaterials()]) \n",
    "a = BilinearForm(fes)\n",
    "a += 1/(mu0*mur)*curl(u)*curl(v)*dx + 1e-8/(mu0*mur)*u*v*dx\n",
    "c = Preconditioner(a, \"bddc\")\n",
    "\n",
    "f = LinearForm(fes)\n",
    "mag = CoefficientFunction((0,0,1)) * \\\n",
    "    CoefficientFunction([100 if mat == \"magnet\" else 0 for mat in mesh.GetMaterials()])\n",
    "f += mag*curl(v)*dx(mesh.Materials(\"magnet\"))\n",
    "\n",
    "gfu = GridFunction(fes)\n",
    "\n",
    "with TaskManager():\n",
    "    a.Assemble()\n",
    "    f.Assemble()\n",
    "    solvers.CG(sol=gfu.vec, rhs=f.vec, mat=a.mat, pre=c.mat)\n",
    "\n",
    "# help(c)\n",
    "# help(fes)"
   ]
  },
  {
   "cell_type": "code",
   "execution_count": 4,
   "metadata": {
    "scrolled": false
   },
   "outputs": [
    {
     "data": {
      "application/vnd.jupyter.widget-view+json": {
       "model_id": "477d93bc19964fe4bdaacb86b5239c29",
       "version_major": 2,
       "version_minor": 0
      },
      "text/plain": [
       "NGSWebGuiWidget(value={'ngsolve_version': '6.2.2007-9-ga349a5c89', 'mesh_dim': 3, 'order2d': 2, 'order3d': 2, …"
      ]
     },
     "metadata": {},
     "output_type": "display_data"
    },
    {
     "data": {
      "text/plain": []
     },
     "execution_count": 4,
     "metadata": {},
     "output_type": "execute_result"
    }
   ],
   "source": [
    "## magnetic flux\n",
    "Draw (curl(gfu), mesh, \"B-field\", draw_surf=False)"
   ]
  },
  {
   "cell_type": "code",
   "execution_count": 5,
   "metadata": {},
   "outputs": [
    {
     "data": {
      "application/vnd.jupyter.widget-view+json": {
       "model_id": "98a94a8e042c49d1958e26b39b608aa1",
       "version_major": 2,
       "version_minor": 0
      },
      "text/plain": [
       "NGSWebGuiWidget(value={'ngsolve_version': '6.2.2007-9-ga349a5c89', 'mesh_dim': 3, 'order2d': 2, 'order3d': 2, …"
      ]
     },
     "metadata": {},
     "output_type": "display_data"
    },
    {
     "data": {
      "text/plain": []
     },
     "execution_count": 5,
     "metadata": {},
     "output_type": "execute_result"
    }
   ],
   "source": [
    "Draw (gfu, mesh, \"vector-potential\", draw_surf = False)"
   ]
  },
  {
   "cell_type": "code",
   "execution_count": 6,
   "metadata": {},
   "outputs": [
    {
     "data": {
      "application/vnd.jupyter.widget-view+json": {
       "model_id": "9c5f31bd861a446dba22d820d869ead8",
       "version_major": 2,
       "version_minor": 0
      },
      "text/plain": [
       "NGSWebGuiWidget(value={'ngsolve_version': '6.2.2007-9-ga349a5c89', 'mesh_dim': 3, 'order2d': 2, 'order3d': 2, …"
      ]
     },
     "metadata": {},
     "output_type": "display_data"
    },
    {
     "data": {
      "text/plain": []
     },
     "execution_count": 6,
     "metadata": {},
     "output_type": "execute_result"
    }
   ],
   "source": [
    "## magnetic field\n",
    "Draw (1/(mu0*mur)*curl(gfu)-mag, mesh, \"H-field\", draw_surf=False)"
   ]
  },
  {
   "cell_type": "markdown",
   "metadata": {},
   "source": [
    "### Harmonische Magnetisierung\n",
    "\n",
    "Wird noch durch mit Spule umwickeltem Eisenkern ersetzt, hier mal die einfachere Schummelvariante zum Ausprobieren. \n",
    "\n",
    "\n",
    "Finde $ u \\in H(\\Curl)$ sodass \n",
    "$$\n",
    "\\int_{\\Omega} \\mu^{-1} \\Curl u \\Curl v + i\\omega\\sigma \\int_{\\Omega\\setminus\\text{magnet}}  u  v  + 10^{-8} \\int_{\\text{magnet}} u v = \\int_{\\Omega} M \\Curl v \\qquad  \\forall \\, v \\in H(\\Curl) \\tag{2}\n",
    "$$\n",
    "\n",
    "mit den Werten\n",
    "* magnet: $\\mu_r = 1, \\sigma = 0$ \n",
    "* copper plate: $\\mu_r = 1-6.4\\cdot10^{-6}, \\sigma = 58 \\cdot 10^8$\n",
    "* air: $\\mu_r = 1, \\sigma = 10^{-5}$ "
   ]
  },
  {
   "cell_type": "code",
   "execution_count": 7,
   "metadata": {},
   "outputs": [
    {
     "name": "stdout",
     "output_type": "stream",
     "text": [
      "iteration 0 error = 0.1350968837292503\n",
      "iteration 1 error = 0.05425435137953097\n",
      "iteration 2 error = 0.0446854711437918\n",
      "iteration 3 error = 0.029155464572194836\n",
      "iteration 4 error = 0.02965267436481327\n",
      "iteration 5 error = 0.017426569433277368\n",
      "iteration 6 error = 0.012001944859923269\n",
      "iteration 7 error = 0.007093184920110239\n",
      "iteration 8 error = 0.004833417614495023\n",
      "iteration 9 error = 0.0030488487417314725\n",
      "iteration 10 error = 0.0019761279331336236\n",
      "iteration 11 error = 0.0015036467256752694\n",
      "iteration 12 error = 0.000976303410726343\n",
      "iteration 13 error = 0.0006505480976645118\n",
      "iteration 14 error = 0.00046600882787843666\n",
      "iteration 15 error = 0.0003123316528510306\n",
      "iteration 16 error = 0.00019731203935192487\n",
      "iteration 17 error = 0.00013348631271999182\n",
      "iteration 18 error = 8.743253007893794e-05\n",
      "iteration 19 error = 5.815850896045114e-05\n",
      "iteration 20 error = 3.6883689644947146e-05\n",
      "iteration 21 error = 2.39697904152141e-05\n",
      "iteration 22 error = 1.5267894805144027e-05\n",
      "iteration 23 error = 1.116579099046012e-05\n",
      "iteration 24 error = 7.401924156257851e-06\n",
      "iteration 25 error = 5.030000205988659e-06\n",
      "iteration 26 error = 3.1587722243361816e-06\n",
      "iteration 27 error = 2.0520734814303788e-06\n",
      "iteration 28 error = 1.3062626476133497e-06\n",
      "iteration 29 error = 8.820109366670462e-07\n",
      "iteration 30 error = 5.780619383903169e-07\n",
      "iteration 31 error = 3.756170849481646e-07\n",
      "iteration 32 error = 2.5305399675749293e-07\n",
      "iteration 33 error = 1.655540949147094e-07\n",
      "iteration 34 error = 1.0851000813654097e-07\n",
      "iteration 35 error = 6.956074065723067e-08\n",
      "iteration 36 error = 4.63400276229487e-08\n",
      "iteration 37 error = 3.0408723437924046e-08\n",
      "iteration 38 error = 1.9593617460665152e-08\n",
      "iteration 39 error = 1.2544889222255281e-08\n",
      "iteration 40 error = 8.247189834728341e-09\n",
      "iteration 41 error = 5.241164682203876e-09\n",
      "iteration 42 error = 3.552338052475527e-09\n",
      "iteration 43 error = 2.2975182998328893e-09\n",
      "iteration 44 error = 1.5363122300486743e-09\n",
      "iteration 45 error = 9.931058278909673e-10\n",
      "iteration 46 error = 6.638229731940509e-10\n",
      "iteration 47 error = 4.3631403804577466e-10\n",
      "iteration 48 error = 2.9171373014541663e-10\n",
      "iteration 49 error = 2.154492037560646e-10\n",
      "iteration 50 error = 1.467768839607033e-10\n",
      "iteration 51 error = 9.801599708728108e-11\n",
      "iteration 52 error = 6.231840270766947e-11\n",
      "iteration 53 error = 4.061856261328393e-11\n",
      "iteration 54 error = 2.6663190443655748e-11\n",
      "iteration 55 error = 1.7757383373028545e-11\n",
      "iteration 56 error = 1.168084517096973e-11\n",
      "iteration 57 error = 7.632335576380966e-12\n",
      "iteration 58 error = 5.1855821831613495e-12\n",
      "iteration 59 error = 3.6609393121880664e-12\n",
      "iteration 60 error = 2.545507411897308e-12\n",
      "iteration 61 error = 1.6301383885139042e-12\n",
      "iteration 62 error = 1.0435821565842318e-12\n",
      "iteration 63 error = 6.935573689191184e-13\n",
      "iteration 64 error = 4.458021063055657e-13\n",
      "iteration 65 error = 2.9728343769983827e-13\n",
      "iteration 66 error = 1.8988912470825272e-13\n",
      "iteration 67 error = 1.23620262633579e-13\n"
     ]
    }
   ],
   "source": [
    "fes = HCurl(mesh, order = 3, dirichlet=\"outer\", nograds=True, complex= True)\n",
    "u,v = fes.TnT()\n",
    "from math import pi\n",
    "mu0 = 4*pi*1e-7\n",
    "mur = CoefficientFunction( [1 if mat== \"magnet\" else 1-6.4*1e-7 if mat=='copper' else  1\n",
    "                            for mat in mesh.GetMaterials()]) \n",
    "\n",
    "sigma = CoefficientFunction( [0 if mat== \"magnet\" else 58*1e8 if mat=='copper' else 1e-5\n",
    "                            for mat in mesh.GetMaterials()]) \n",
    "omega = Parameter(100)\n",
    "a = BilinearForm(fes)\n",
    "a += 1/(mu0*mur)*curl(u)*curl(v)*dx + 1e-8/(mu0*mur)*u*v*dx(\"magnet\") + 1j*omega*sigma*u*v*dx\n",
    "c = Preconditioner(a, \"bddc\")\n",
    "\n",
    "f = LinearForm(fes)\n",
    "mag = CoefficientFunction((0,0,1)) * \\\n",
    "    CoefficientFunction( [100 if mat == \"magnet\" else 0 for mat in mesh.GetMaterials()])\n",
    "f += mag*curl(v)*dx(mesh.Materials(\"magnet\"))\n",
    "\n",
    "gfu = GridFunction(fes)\n",
    "\n",
    "with TaskManager():\n",
    "    a.Assemble()\n",
    "    f.Assemble()\n",
    "    solvers.CG(sol=gfu.vec, rhs=f.vec, mat=a.mat, pre=c.mat)"
   ]
  },
  {
   "cell_type": "code",
   "execution_count": 8,
   "metadata": {},
   "outputs": [
    {
     "data": {
      "application/vnd.jupyter.widget-view+json": {
       "model_id": "f4fa4fd09c9d4041976a36e13e34d1f2",
       "version_major": 2,
       "version_minor": 0
      },
      "text/plain": [
       "NGSWebGuiWidget(value={'ngsolve_version': '6.2.2007-9-ga349a5c89', 'mesh_dim': 3, 'order2d': 2, 'order3d': 2, …"
      ]
     },
     "metadata": {},
     "output_type": "display_data"
    },
    {
     "data": {
      "text/plain": []
     },
     "execution_count": 8,
     "metadata": {},
     "output_type": "execute_result"
    }
   ],
   "source": [
    "# drawu = GridFunction(fes)\n",
    "## need equivalent to\n",
    "# drawu.vec.data = (-1j*omega*exp(1j*omega*1)*gfu).data\n",
    "# scene = Draw (drawu.real, mesh, \"E-field\", draw_surf=False)\n",
    "# def slider_func(t): \n",
    "    ## need equivalent to\n",
    "#     drawu.vec.data = (-1j*omega*exp(1j*omega*t)*gfu).data\n",
    "#     scene.Redraw()\n",
    "# interact(slider_func, x=widgets.FloatSlider(min=1, max=100, step=0.05, value=1))\n",
    "\n",
    "t = 1\n",
    "Draw ((-1j*omega*exp(1j*omega*t)*gfu).real, mesh, \"E-field\", draw_surf=False)\n"
   ]
  },
  {
   "cell_type": "code",
   "execution_count": 9,
   "metadata": {},
   "outputs": [
    {
     "data": {
      "application/vnd.jupyter.widget-view+json": {
       "model_id": "1b31c9e84070489c9cb065fdad9772a0",
       "version_major": 2,
       "version_minor": 0
      },
      "text/plain": [
       "NGSWebGuiWidget(value={'ngsolve_version': '6.2.2007-9-ga349a5c89', 'mesh_dim': 3, 'order2d': 2, 'order3d': 2, …"
      ]
     },
     "metadata": {},
     "output_type": "display_data"
    },
    {
     "data": {
      "text/plain": []
     },
     "execution_count": 9,
     "metadata": {},
     "output_type": "execute_result"
    }
   ],
   "source": [
    "t = 1\n",
    "Draw (sigma*(-1j*omega*exp(1j*omega*t)*gfu).real, mesh, \"j\", draw_surf=False)\n",
    "## to see: clipping (0,1,0,-1)"
   ]
  },
  {
   "cell_type": "markdown",
   "metadata": {},
   "source": [
    "## Notizen für mich\n",
    "nützliche links:\n",
    "\n",
    "* http://www.numa.uni-linz.ac.at/Teaching/PhD/Finished/zaglmayr \n",
    "* https://de.wikipedia.org/wiki/Maxwell-Gleichungen\n",
    "* https://ngsolve.org/docu/latest/i-tutorials/wta/maxwell.html\n",
    "* https://ngsolve.org/docu/latest/i-tutorials/unit-2.3-hcurlhdiv/hcurlhdiv.html\n",
    "* https://ngsolve.org/docu/latest/i-tutorials/unit-2.4-Maxwell/Maxwell.html\n",
    "* https://www.asc.tuwien.ac.at/~schoeberl/wiki/lva/notes/maxwell.pdf\n",
    "* https://www.numa.uni-linz.ac.at/Teaching/Bachelor/kagerer-bakk.pdf\n",
    "* \"allwissender Kreis\" \n",
    "\n",
    "### Fragen\n",
    "\n",
    "* Ist es möglich die äußere Box unsichtbar zu machen?\n",
    "* Was ist `col` bei geo.Add(..)\n",
    "* Was bringt `nograds` (lt Help 'Remove higher order gradients of H1 basis functions from HCurl FESpace')?\n",
    "* slider function Problem\n",
    "* Wie gehe ich mit leitenden Materialien um (Permittivität)? \n",
    "* mehr clipping planes? \n",
    "* impressed current density?\n",
    "\n",
    "### Basics\n",
    "\n",
    "#### Physikalische Größen\n",
    "\n",
    "$E$ .. Elektrische Feldstärke (Stärke und Richtung eines elektrischen Feldes) \\\n",
    "$D$ .. Elektrische Flussdichte (Dichte der elektrischen Feldlinien in Bezug auf eine Fläche) \\\n",
    "$H$ .. Magnetische Felstärke \\\n",
    "$B$ .. Magnetische Flussdichte \\\n",
    "$M$ .. Magnetisierung \\\n",
    "$\\rho$ .. Ladungsdichte (Ladung pro Volumen) \\\n",
    "$\\sigma$ .. elektrische Leitfähigkeit \\\n",
    "$j$ .. Stromdichte (Strom pro durchflossene Fläche) \n",
    "\n",
    "\n",
    "#### Makroskopische Maxwelllgleichungen\n",
    "(M1) $\\Div D = \\rho$ (Ladung ist Quelle des elektrischen Feldes) \\\n",
    "(M2) $\\Div B = 0$ (keine magnetischen Ladungen) \\\n",
    "(M3) $\\Curl E = -\\partial_t B$ (Induktion)  \\\n",
    "(M4) $\\Curl H = j + \\partial_t D$ (Amper'sches Gesetz mit Verschiebungsstrom)\n",
    "\n",
    "#### sonstige Zusammenhänge\n",
    "\n",
    "(S1) $D = \\epsilon E $ (evtl noch $+ P$ .. Polarisation, was ist das?) wobei $\\epsilon = \\epsilon_0 \\epsilon_r$ (Permittivität),  $\\epsilon_0 = 10^{-7} \\cdot 8.8541878128$\\\n",
    "(S2) $H = \\mu^{-1} B - M$ wobei $\\mu = \\mu_0 \\mu_r$ (magnetische Permeabilität wenn im linearen Bereich), $\\mu_0 =  4\\pi10^{-7}$ \\\n",
    "(S3) $j = \\sigma E +j_i$ ($j_i$ .. 'impressed current density', was ist das genau?)\n",
    "\n",
    "\n",
    "#### Herleitung einer schwachen Formulierung\n",
    "Einführen eines Vektorpotentials $A$ sodass $B = \\Curl A$. \n",
    "\n",
    "Umformen:\n",
    "$$\n",
    "\\begin{split}\n",
    "\\Curl(\\mu^{-1} \\Curl(A) - M) &= \\Curl(\\mu^{-1} B - M) \\\\\n",
    "&\\stackrel{\\text{(S2)}}{=} \\Curl(H) \\\\\n",
    "&\\stackrel{\\text{(M4)}}{=} j + \\partial_t D \\\\\n",
    "&\\stackrel{\\text{(S1)}}{=} j + \\partial_t \\epsilon E  \\\\\n",
    "&\\stackrel{\\text{(S3)}}{=} \\sigma E + j_i + \\partial_t \\epsilon E \n",
    "\\end{split}\n",
    "$$\n",
    "\n",
    "\n",
    "Ziel ist $A$ so zu wählen, dass $E = -\\partial_t A$. Einzige Bedingung an $A$ war, dass $\\Curl A = B$, dh jedes $\\tilde{A}$ das sich von $A$ nur um ein Gradientenfeld unterscheidet erfüllt das genauso. Sei $\\tilde{A}$ so dass $\\Curl \\tilde{A} = B$\n",
    "\n",
    "\n",
    "\n",
    "Nach (M3) gilt $\\Curl E = - \\partial_t (\\Curl \\tilde{A})) = - \\Curl( \\partial_t \\tilde{A})$. Äquivalent dazu $\\Curl(E + \\partial_t \\tilde{A}) = 0$. Gibt Potential $\\phi: \\R^3 \\rightarrow \\R $ mit $\\Grad \\phi =  E+ \\partial_t \\tilde{A}$ wenn das Gebiet brav genug ist (sternförmig oder einfach zusammenhängend). Angenommen das ist der Fall dann gilt $E = \\Grad \\phi - \\partial_t \\tilde{A}$. Mit \n",
    "$$\n",
    "A = - (\\int_{t_0}^{t} \\Grad \\phi(s) ~ \\text{ds} - \\tilde{A})\n",
    "$$ \n",
    "ist die gewünschte Anforderung erfüllt. Dh wir können annehmen $E = -\\partial_t A$. \n",
    "\n",
    "Einsetzen ergibt\n",
    "$$\n",
    "\\Curl(\\mu^{-1} \\Curl(A) - M) + \\sigma \\partial_t A +  \\epsilon \\partial_t^2A = j_i .\n",
    "$$\n",
    "\n",
    "\n",
    "Partielle Integration für curl \n",
    "$$\n",
    "\\int_\\Omega \\Curl u \\cdot v = \\int_\\Omega u \\cdot \\Curl v - \\int_{\\partial\\Omega} (u \\times n) \\cdot v\n",
    "$$\n",
    "\n",
    "\n",
    "Angenommen wir haben Dirichlet RB, dann ergibt sich die schwache Formulierung:\n",
    "\n",
    "__________\n",
    "\n",
    "Finde $A \\in H(\\Curl)$ sodass \n",
    "$$ \n",
    "\\int \\mu^{-1} \\Curl A \\Curl v +  \\sigma \\int \\partial_t A v + \\epsilon \\int \\partial_t^2 A v = \\int j_i v + \\int M \\Curl v \\qquad \\forall v \\in H(\\Curl). \n",
    "$$\n",
    "__________\n",
    "\n",
    "#### Spezialfälle\n",
    "\n",
    "Permanentmagnet:  $j_i = 0$ und  $E = 0$ $\\Rightarrow$ (1) \n",
    "\n",
    "harmonische Magnetisierung:  $j_i = 0$ , $M(x,t) = \\real(M(x)e^{i\\omega t})$ und $A = \\real(A(x)e^{i\\omega t})$ $\\Rightarrow$ (2) \n"
   ]
  }
 ],
 "metadata": {
  "kernelspec": {
   "display_name": "Python 3",
   "language": "python",
   "name": "python3"
  },
  "language_info": {
   "codemirror_mode": {
    "name": "ipython",
    "version": 3
   },
   "file_extension": ".py",
   "mimetype": "text/x-python",
   "name": "python",
   "nbconvert_exporter": "python",
   "pygments_lexer": "ipython3",
   "version": "3.8.2"
  }
 },
 "nbformat": 4,
 "nbformat_minor": 4
}
