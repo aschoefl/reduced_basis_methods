{
 "cells": [
  {
   "cell_type": "code",
   "execution_count": 1,
   "metadata": {},
   "outputs": [],
   "source": [
    "from netgen.csg import *\n",
    "from ngsolve import *\n",
    "from ngsolve.webgui import Draw"
   ]
  },
  {
   "cell_type": "markdown",
   "metadata": {},
   "source": [
    "### Permanentmagnet\n",
    "$$\n",
    "\\DeclareMathOperator{\\Grad}{grad}\n",
    "\\DeclareMathOperator{\\Curl}{curl}\n",
    "\\DeclareMathOperator{\\Div}{div}\n",
    "\\DeclareMathOperator{\\R}{\\mathbb{R}}\n",
    "$$\n",
    "Finde $ u \\in H(\\Curl)$ sodass \n",
    "$$\n",
    "\\int \\mu^{-1} \\Curl u \\Curl v + 10^{-8} \\int  u  v= \\int M \\Curl v \\qquad  \\forall \\, v \\in H(\\Curl) \\tag{1}\n",
    "$$\n",
    "\n",
    "\n",
    "Wobei der zweite Integralterm der Stabilität dient und die Werte für $\\mu_r$ wie folgt angenommen werden:\n",
    "* magnet: $\\mu_r = 1$\n",
    "* copper plate: $\\mu_r = 1-6.4\\cdot10^{-6}$\n",
    "* iron plate: $\\mu_r = 1000$\n",
    "* air: $\\mu_r = 1$ \n"
   ]
  },
  {
   "cell_type": "code",
   "execution_count": 2,
   "metadata": {
    "scrolled": false
   },
   "outputs": [
    {
     "data": {
      "application/vnd.jupyter.widget-view+json": {
       "model_id": "d1a3656351184422b34013c8321cb229",
       "version_major": 2,
       "version_minor": 0
      },
      "text/plain": [
       "NGSWebGuiWidget(value={'ngsolve_version': '6.2.2007-9-ga349a5c89', 'mesh_dim': 3, 'order2d': 2, 'order3d': 2, …"
      ]
     },
     "metadata": {},
     "output_type": "display_data"
    },
    {
     "data": {
      "text/plain": []
     },
     "execution_count": 2,
     "metadata": {},
     "output_type": "execute_result"
    }
   ],
   "source": [
    "geo = CSGeometry()\n",
    "box_size = 5\n",
    "box = OrthoBrick(Pnt(-box_size,-box_size,-box_size), Pnt(box_size,box_size,box_size)).bc(\"outer\")\n",
    "magnet = Cylinder(Pnt(0.05,0,0), Pnt(0.05,0,1), 0.3) * \\\n",
    "            OrthoBrick (Pnt(-1,-1,-1),Pnt(1,1,1)).mat(\"magnet\")\n",
    "\n",
    "plate = OrthoBrick (Pnt(-1, 1,-1.5),Pnt(1,1.2,1.5)).mat('copper')\n",
    "# plate = OrthoBrick (Pnt(-1, 1,-1.5),Pnt(1,1.2,1.5)).mat('iron')\n",
    "\n",
    "air = (box - magnet- plate).mat('air') \n",
    "\n",
    "geo.Add(plate)#, col=(0,1,0)) # what is col?\n",
    "geo.Add(magnet)\n",
    "geo.Add(air)#, transparent=True)\n",
    "\n",
    "mesh = Mesh(geo.GenerateMesh(maxh=0.5))\n",
    "mesh.Curve(5)\n",
    "Draw (mesh)\n",
    "# help (geo)\n",
    "# help(box)"
   ]
  },
  {
   "cell_type": "code",
   "execution_count": 3,
   "metadata": {
    "scrolled": false
   },
   "outputs": [
    {
     "ename": "SyntaxError",
     "evalue": "invalid syntax (<ipython-input-3-7efb50609064>, line 5)",
     "output_type": "error",
     "traceback": [
      "\u001b[0;36m  File \u001b[0;32m\"<ipython-input-3-7efb50609064>\"\u001b[0;36m, line \u001b[0;32m5\u001b[0m\n\u001b[0;31m    mur = CoefficientFunction( [1 if mat== \"magnet\" else 1-6.4*1e-7 if mat=='copper' 1000 if mat = 'iron' else 1\u001b[0m\n\u001b[0m                                                                                     ^\u001b[0m\n\u001b[0;31mSyntaxError\u001b[0m\u001b[0;31m:\u001b[0m invalid syntax\n"
     ]
    }
   ],
   "source": [
    "fes = HCurl(mesh, order = 3, dirichlet=\"outer\", nograds=True)\n",
    "u,v = fes.TnT()\n",
    "from math import pi\n",
    "mu0 = 4*pi*1e-7\n",
    "mur = CoefficientFunction( [1 if mat== \"magnet\" else 1-6.4*1e-7 if mat=='copper' 1000 if mat = 'iron' else 1\n",
    "                            for mat in mesh.GetMaterials()]) \n",
    "a = BilinearForm(fes)\n",
    "a += 1/(mu0*mur)*curl(u)*curl(v)*dx + 1e-8/(mu0*mur)*u*v*dx\n",
    "c = Preconditioner(a, \"bddc\")\n",
    "\n",
    "f = LinearForm(fes)\n",
    "mag = CoefficientFunction((0,0,1)) * \\\n",
    "    CoefficientFunction( [100 if mat == \"magnet\" else 0 for mat in mesh.GetMaterials()])\n",
    "f += mag*curl(v)*dx(mesh.Materials(\"magnet\"))\n",
    "\n",
    "gfu = GridFunction(fes)\n",
    "\n",
    "with TaskManager():\n",
    "    a.Assemble()\n",
    "    f.Assemble()\n",
    "    solvers.CG(sol=gfu.vec, rhs=f.vec, mat=a.mat, pre=c.mat)\n",
    "\n",
    "# help(c)\n",
    "# help(fes)"
   ]
  },
  {
   "cell_type": "code",
   "execution_count": null,
   "metadata": {
    "scrolled": false
   },
   "outputs": [],
   "source": [
    "## magnetic flux\n",
    "Draw (curl(gfu), mesh, \"B-field\", draw_surf=False)"
   ]
  },
  {
   "cell_type": "code",
   "execution_count": null,
   "metadata": {},
   "outputs": [],
   "source": [
    "Draw (gfu, mesh, \"vector-potential\", draw_surf = False)"
   ]
  },
  {
   "cell_type": "code",
   "execution_count": null,
   "metadata": {},
   "outputs": [],
   "source": [
    "## magnetic field\n",
    "Draw (1/(mu0*mur)*curl(gfu)-mag, mesh, \"H-field\", draw_surf=False)"
   ]
  },
  {
   "cell_type": "markdown",
   "metadata": {},
   "source": [
    "## Notizen für mich\n",
    "nützliche links:\n",
    "\n",
    "* https://de.wikipedia.org/wiki/Maxwell-Gleichungen\n",
    "* https://ngsolve.org/docu/latest/i-tutorials/wta/maxwell.html\n",
    "* https://ngsolve.org/docu/latest/i-tutorials/unit-2.3-hcurlhdiv/hcurlhdiv.html\n",
    "* https://ngsolve.org/docu/latest/i-tutorials/unit-2.4-Maxwell/Maxwell.html\n",
    "* https://www.asc.tuwien.ac.at/~schoeberl/wiki/lva/notes/maxwell.pdf\n",
    "* https://www.numa.uni-linz.ac.at/Teaching/Bachelor/kagerer-bakk.pdf\n",
    "* \"allwissender Kreis\" \n",
    "\n",
    "### Fragen\n",
    "\n",
    "* Ist es möglich die äußere Box unsichtbar zu machen?\n",
    "* Was ist `col` bei geo.Add(..)\n",
    "* Was bringt `nograds` (lt Help 'Remove higher order gradients of H1 basis functions from HCurl FESpace')?\n",
    "* mehr clipping planes? \n",
    "* impressed current density?\n",
    "\n",
    "### Basics\n",
    "\n",
    "#### Physikalische Größen\n",
    "\n",
    "$E$ .. Elektrische Feldstärke (Stärke und Richtung eines elektrischen Feldes) \\\n",
    "$D$ .. Elektrische Flussdichte (Dichte der elektrischen Feldlinien in Bezug auf eine Fläche) \\\n",
    "$H$ .. Magnetische Felstärke \\\n",
    "$B$ .. Magnetische Flussdichte \\\n",
    "$\\rho$ .. Ladungsdichte (Ladung pro Volumen) \\\n",
    "$\\sigma$ .. elektrische Leitfähigkeit \\\n",
    "$j$ .. Stromdichte (Strom pro durchflossene Fläche) \n",
    "\n",
    "\n",
    "#### Makroskopische Maxwelllgleichungen\n",
    "(M1) $\\Div D = \\rho$ (Ladung ist Quelle des elektrischen Feldes) \\\n",
    "(M2) $\\Div B = 0$ (keine magnetischen Ladungen) \\\n",
    "(M3) $\\Curl E = -\\partial_t B$ (Induktion)  \\\n",
    "(M4) $\\Curl H = j + \\partial_t D$ (Amper'sches Gesetz)\n",
    "\n",
    "#### sonstige Zusammenhänge\n",
    "\n",
    "(S1) $D = \\epsilon E $ (evtl noch $+ P$ .. Polarisation, was ist das? vernachlässigbar für unsere Anwendungen?) wobei $\\epsilon$ .. Dielektrizitätskonstante \\\n",
    "(S2) $H = \\mu^{-1} B - M$ wobei $\\mu = \\mu_0 \\mu_r$ (magnetische Permeabilität), $\\mu_0 =  4\\pi10^{-7}$ und $M$ die Magnetisierung ist (wenn im linearen Bereich) \\\n",
    "(S3) $j = \\sigma E +j_i$ ($j_i$ .. 'impressed current density', was ist das genau?)\n",
    "\n",
    "\n",
    "#### Herleitung einer schwachen Formulierung\n",
    "Einführen eines Vektorpotentials $A$ sodass $B = \\Curl A$. \n",
    "\n",
    "Umformen:\n",
    "$$\n",
    "\\begin{split}\n",
    "\\Curl(\\mu^{-1} \\Curl(A) - M) &= \\Curl(\\mu^{-1} B - M) \\\\\n",
    "&\\stackrel{\\text{(S2)}}{=} \\Curl(H) \\\\\n",
    "&\\stackrel{\\text{(M4)}}{=} j + \\partial_t D \\\\\n",
    "&\\stackrel{\\text{(S1)}}{=} j + \\partial_t \\epsilon E  \\\\\n",
    "&\\stackrel{\\text{(S3)}}{=} \\sigma E + j_i + \\partial_t \\epsilon E \n",
    "\\end{split}\n",
    "$$\n",
    "\n",
    "\n",
    "Ziel ist $A$ so zu wählen, dass $E = -\\partial_t A$. Einzige Bedingung an $A$ war, dass $\\Curl A = B$, dh jedes $\\tilde{A}$ das sich von $A$ nur um ein Gradientenfeld unterscheidet erfüllt das genauso. Sei $\\tilde{A}$ so dass $\\Curl \\tilde{A} = B$\n",
    "\n",
    "\n",
    "\n",
    "Nach (M3) gilt $\\Curl E = - \\partial_t (\\Curl \\tilde{A})) = - \\Curl( \\partial_t \\tilde{A})$. Äquivalent dazu $\\Curl(E + \\partial_t \\tilde{A}) = 0$. Gibt Potential $\\phi: \\R^3 \\rightarrow \\R $ mit $\\Grad \\phi =  E+ \\partial_t \\tilde{A}$ wenn das Gebiet brav genug ist (sternförmig oder einfach zusammenhängend). Angenommen das ist der Fall dann gilt $E = \\Grad \\phi - \\partial_t \\tilde{A}$. Mit \n",
    "$$\n",
    "A = - (\\int_{t_0}^{t} \\Grad \\phi(s) ~ \\text{ds} - \\tilde{A})\n",
    "$$ \n",
    "ist die gewünschte Anforderung erfüllt. Dh wir können annehmen $E = -\\partial_t A$. \n",
    "\n",
    "Einsetzen ergibt\n",
    "$$\n",
    "\\Curl(\\mu^{-1} \\Curl(A) - M) + \\sigma \\partial_t A +  \\epsilon \\partial_t^2A = j_i .\n",
    "$$\n",
    "\n",
    "\n",
    "Partielle Integration für curl \n",
    "$$\n",
    "\\int_\\Omega \\Curl u \\cdot v = \\int_\\Omega u \\cdot \\Curl v - \\int_{\\partial\\Omega} (u \\times n) \\cdot v\n",
    "$$\n",
    "\n",
    "\n",
    "Angenommen wir haben Dirichlet RB, dann ergibt sich die schwache Formulierung:\n",
    "\n",
    "Finde $A \\in H(\\Curl)$ sodass \n",
    "$$ \n",
    "\\int \\mu^{-1} \\Curl A \\Curl v +  \\sigma \\int \\partial_t A v + \\epsilon \\int \\partial_t^2 A v = \\int j_i v + \\int M \\Curl v \\qquad \\forall v \\in H(\\Curl). \\tag{*}\n",
    "$$\n",
    "\n",
    "#### Spezialfälle\n",
    "\n",
    "Permanentmagnet:  $j_i = 0$ und  $E = 0$ $\\Rightarrow$ (1)\n",
    "\n"
   ]
  }
 ],
 "metadata": {
  "kernelspec": {
   "display_name": "Python 3",
   "language": "python",
   "name": "python3"
  },
  "language_info": {
   "codemirror_mode": {
    "name": "ipython",
    "version": 3
   },
   "file_extension": ".py",
   "mimetype": "text/x-python",
   "name": "python",
   "nbconvert_exporter": "python",
   "pygments_lexer": "ipython3",
   "version": "3.8.2"
  }
 },
 "nbformat": 4,
 "nbformat_minor": 4
}
