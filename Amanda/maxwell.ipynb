{
 "cells": [
  {
   "cell_type": "code",
   "execution_count": 1,
   "metadata": {},
   "outputs": [],
   "source": [
    "from netgen.csg import *\n",
    "from ngsolve import *\n",
    "from ngsolve.webgui import Draw"
   ]
  },
  {
   "cell_type": "markdown",
   "metadata": {},
   "source": [
    "### Permanentmagnet\n",
    "$$\n",
    "\\DeclareMathOperator{\\Grad}{grad}\n",
    "\\DeclareMathOperator{\\Curl}{curl}\n",
    "\\DeclareMathOperator{\\Div}{div}\n",
    "\\DeclareMathOperator{\\R}{\\mathbb{R}}\n",
    "$$\n",
    "Finde $ u \\in H(\\Curl)$ sodass \n",
    "$$\n",
    "\\int \\mu^{-1} \\Curl u \\Curl v + 10^{-8} \\int  u  v= \\int M \\Curl v \\qquad  \\forall \\, v \\in H(\\Curl) \\tag{1}\n",
    "$$\n",
    "\n",
    "\n",
    "Wobei der zweite Integralterm der Stabilität dient und die Werte für $\\mu_r$ wie folgt angenommen werden:\n",
    "* magnet: $\\mu_r = 1$\n",
    "* copper plate: $\\mu_r = 1-6.4\\cdot10^{-6}$\n",
    "* iron plate: $\\mu_r = 1000$\n",
    "* air: $\\mu_r = 1$ \n"
   ]
  },
  {
   "cell_type": "code",
   "execution_count": 2,
   "metadata": {
    "scrolled": false
   },
   "outputs": [
    {
     "data": {
      "application/vnd.jupyter.widget-view+json": {
       "model_id": "d1a3656351184422b34013c8321cb229",
       "version_major": 2,
       "version_minor": 0
      },
      "text/plain": [
       "NGSWebGuiWidget(value={'ngsolve_version': '6.2.2007-9-ga349a5c89', 'mesh_dim': 3, 'order2d': 2, 'order3d': 2, …"
      ]
     },
     "metadata": {},
     "output_type": "display_data"
    },
    {
     "data": {
      "text/plain": []
     },
     "execution_count": 2,
     "metadata": {},
     "output_type": "execute_result"
    }
   ],
   "source": [
    "geo = CSGeometry()\n",
    "box_size = 5\n",
    "box = OrthoBrick(Pnt(-box_size,-box_size,-box_size), Pnt(box_size,box_size,box_size)).bc(\"outer\")\n",
    "magnet = Cylinder(Pnt(0.05,0,0), Pnt(0.05,0,1), 0.3) * \\\n",
    "            OrthoBrick (Pnt(-1,-1,-1),Pnt(1,1,1)).mat(\"magnet\")\n",
    "\n",
    "plate = OrthoBrick (Pnt(-1, 1,-1.5),Pnt(1,1.2,1.5)).mat('copper')\n",
    "# plate = OrthoBrick (Pnt(-1, 1,-1.5),Pnt(1,1.2,1.5)).mat('iron')\n",
    "\n",
    "air = (box - magnet- plate).mat('air') \n",
    "\n",
    "geo.Add(plate)#, col=(0,1,0)) # what is col?\n",
    "geo.Add(magnet)\n",
    "geo.Add(air)#, transparent=True)\n",
    "\n",
    "mesh = Mesh(geo.GenerateMesh(maxh=0.5))\n",
    "mesh.Curve(5)\n",
    "Draw (mesh)\n",
    "# help (geo)\n",
    "# help(box)"
   ]
  },
  {
   "cell_type": "code",
   "execution_count": 6,
   "metadata": {
    "scrolled": false
   },
   "outputs": [
    {
     "name": "stdout",
     "output_type": "stream",
     "text": [
      "iteration 0 error = 0.13574711110686485\n",
      "iteration 1 error = 0.0541997939043458\n",
      "iteration 2 error = 0.044738911976838894\n",
      "iteration 3 error = 0.027023479578128007\n",
      "iteration 4 error = 0.023305669958917856\n",
      "iteration 5 error = 0.014697973092888205\n",
      "iteration 6 error = 0.00880272514866664\n",
      "iteration 7 error = 0.005029539716474856\n",
      "iteration 8 error = 0.0027417177218425947\n",
      "iteration 9 error = 0.001742134943318576\n",
      "iteration 10 error = 0.0011342705084196906\n",
      "iteration 11 error = 0.0007170575367523641\n",
      "iteration 12 error = 0.0004638783932507259\n",
      "iteration 13 error = 0.0002947603637291552\n",
      "iteration 14 error = 0.00017635501917148363\n",
      "iteration 15 error = 0.00011155025734941595\n",
      "iteration 16 error = 7.378624873701151e-05\n",
      "iteration 17 error = 4.592047234099929e-05\n",
      "iteration 18 error = 2.9239954495318757e-05\n",
      "iteration 19 error = 1.8229678258409243e-05\n",
      "iteration 20 error = 1.1685443764890175e-05\n",
      "iteration 21 error = 7.4810116151942885e-06\n",
      "iteration 22 error = 4.713821408261899e-06\n",
      "iteration 23 error = 2.960275683593356e-06\n",
      "iteration 24 error = 1.8488789466260404e-06\n",
      "iteration 25 error = 1.1618795244001486e-06\n",
      "iteration 26 error = 7.458432582667231e-07\n",
      "iteration 27 error = 4.6781897246958627e-07\n",
      "iteration 28 error = 2.901296014798071e-07\n",
      "iteration 29 error = 1.8546667727709457e-07\n",
      "iteration 30 error = 1.1469425077900625e-07\n",
      "iteration 31 error = 7.327282253451205e-08\n",
      "iteration 32 error = 4.5987734988040384e-08\n",
      "iteration 33 error = 2.8543917543408598e-08\n",
      "iteration 34 error = 1.826218767470512e-08\n",
      "iteration 35 error = 1.1336857928782732e-08\n",
      "iteration 36 error = 7.293345876465077e-09\n",
      "iteration 37 error = 4.61805682538239e-09\n",
      "iteration 38 error = 2.9044226241898293e-09\n",
      "iteration 39 error = 1.7894906818346323e-09\n",
      "iteration 40 error = 1.1687904050588304e-09\n",
      "iteration 41 error = 7.199737487672591e-10\n",
      "iteration 42 error = 4.4238245125604195e-10\n",
      "iteration 43 error = 2.880027606543573e-10\n",
      "iteration 44 error = 1.7648245257711922e-10\n",
      "iteration 45 error = 1.1163608006460334e-10\n",
      "iteration 46 error = 6.995734119206791e-11\n",
      "iteration 47 error = 4.4287635030809035e-11\n",
      "iteration 48 error = 2.74378390239833e-11\n",
      "iteration 49 error = 1.7426071860740915e-11\n",
      "iteration 50 error = 1.10642258766061e-11\n",
      "iteration 51 error = 6.938146657161278e-12\n",
      "iteration 52 error = 4.3485954136787676e-12\n",
      "iteration 53 error = 2.7214708406361113e-12\n",
      "iteration 54 error = 1.7327448622094917e-12\n",
      "iteration 55 error = 1.0802834861225836e-12\n",
      "iteration 56 error = 6.821849883654146e-13\n",
      "iteration 57 error = 4.3039373832161444e-13\n",
      "iteration 58 error = 2.684051149840541e-13\n",
      "iteration 59 error = 1.6709323162849834e-13\n",
      "iteration 60 error = 1.0637385503203563e-13\n"
     ]
    }
   ],
   "source": [
    "fes = HCurl(mesh, order = 3, dirichlet=\"outer\", nograds=True)\n",
    "u,v = fes.TnT()\n",
    "from math import pi\n",
    "mu0 = 4*pi*1e-7\n",
    "mur = CoefficientFunction( [1 if mat== \"magnet\" else 1-6.4*1e-7 if mat=='copper' else 1000 if mat == 'iron' else 1\n",
    "                            for mat in mesh.GetMaterials()]) \n",
    "a = BilinearForm(fes)\n",
    "a += 1/(mu0*mur)*curl(u)*curl(v)*dx + 1e-8/(mu0*mur)*u*v*dx\n",
    "c = Preconditioner(a, \"bddc\")\n",
    "\n",
    "f = LinearForm(fes)\n",
    "mag = CoefficientFunction((0,0,1)) * \\\n",
    "    CoefficientFunction( [100 if mat == \"magnet\" else 0 for mat in mesh.GetMaterials()])\n",
    "f += mag*curl(v)*dx(mesh.Materials(\"magnet\"))\n",
    "\n",
    "gfu = GridFunction(fes)\n",
    "\n",
    "with TaskManager():\n",
    "    a.Assemble()\n",
    "    f.Assemble()\n",
    "    solvers.CG(sol=gfu.vec, rhs=f.vec, mat=a.mat, pre=c.mat)\n",
    "\n",
    "# help(c)\n",
    "# help(fes)"
   ]
  },
  {
   "cell_type": "code",
   "execution_count": 7,
   "metadata": {
    "scrolled": false
   },
   "outputs": [
    {
     "data": {
      "application/vnd.jupyter.widget-view+json": {
       "model_id": "9a58d06676a548c5b32698aed889c94b",
       "version_major": 2,
       "version_minor": 0
      },
      "text/plain": [
       "NGSWebGuiWidget(value={'ngsolve_version': '6.2.2007-9-ga349a5c89', 'mesh_dim': 3, 'order2d': 2, 'order3d': 2, …"
      ]
     },
     "metadata": {},
     "output_type": "display_data"
    },
    {
     "data": {
      "text/plain": []
     },
     "execution_count": 7,
     "metadata": {},
     "output_type": "execute_result"
    }
   ],
   "source": [
    "## magnetic flux\n",
    "Draw (curl(gfu), mesh, \"B-field\", draw_surf=False)"
   ]
  },
  {
   "cell_type": "code",
   "execution_count": 8,
   "metadata": {},
   "outputs": [
    {
     "data": {
      "application/vnd.jupyter.widget-view+json": {
       "model_id": "61de5ad4018b428d8adf2b9aae7c27ba",
       "version_major": 2,
       "version_minor": 0
      },
      "text/plain": [
       "NGSWebGuiWidget(value={'ngsolve_version': '6.2.2007-9-ga349a5c89', 'mesh_dim': 3, 'order2d': 2, 'order3d': 2, …"
      ]
     },
     "metadata": {},
     "output_type": "display_data"
    },
    {
     "data": {
      "text/plain": []
     },
     "execution_count": 8,
     "metadata": {},
     "output_type": "execute_result"
    }
   ],
   "source": [
    "Draw (gfu, mesh, \"vector-potential\", draw_surf = False)"
   ]
  },
  {
   "cell_type": "code",
   "execution_count": null,
   "metadata": {},
   "outputs": [],
   "source": [
    "## magnetic field\n",
    "Draw (1/(mu0*mur)*curl(gfu)-mag, mesh, \"H-field\", draw_surf=False)"
   ]
  },
  {
   "cell_type": "markdown",
   "metadata": {},
   "source": [
    "## Notizen für mich\n",
    "nützliche links:\n",
    "\n",
    "* https://de.wikipedia.org/wiki/Maxwell-Gleichungen\n",
    "* https://ngsolve.org/docu/latest/i-tutorials/wta/maxwell.html\n",
    "* https://ngsolve.org/docu/latest/i-tutorials/unit-2.3-hcurlhdiv/hcurlhdiv.html\n",
    "* https://ngsolve.org/docu/latest/i-tutorials/unit-2.4-Maxwell/Maxwell.html\n",
    "* https://www.asc.tuwien.ac.at/~schoeberl/wiki/lva/notes/maxwell.pdf\n",
    "* https://www.numa.uni-linz.ac.at/Teaching/Bachelor/kagerer-bakk.pdf\n",
    "* \"allwissender Kreis\" \n",
    "\n",
    "### Fragen\n",
    "\n",
    "* Ist es möglich die äußere Box unsichtbar zu machen?\n",
    "* Was ist `col` bei geo.Add(..)\n",
    "* Was bringt `nograds` (lt Help 'Remove higher order gradients of H1 basis functions from HCurl FESpace')?\n",
    "* mehr clipping planes? \n",
    "* impressed current density?\n",
    "\n",
    "### Basics\n",
    "\n",
    "#### Physikalische Größen\n",
    "\n",
    "$E$ .. Elektrische Feldstärke (Stärke und Richtung eines elektrischen Feldes) \\\n",
    "$D$ .. Elektrische Flussdichte (Dichte der elektrischen Feldlinien in Bezug auf eine Fläche) \\\n",
    "$H$ .. Magnetische Felstärke \\\n",
    "$B$ .. Magnetische Flussdichte \\\n",
    "$\\rho$ .. Ladungsdichte (Ladung pro Volumen) \\\n",
    "$\\sigma$ .. elektrische Leitfähigkeit \\\n",
    "$j$ .. Stromdichte (Strom pro durchflossene Fläche) \n",
    "\n",
    "\n",
    "#### Makroskopische Maxwelllgleichungen\n",
    "(M1) $\\Div D = \\rho$ (Ladung ist Quelle des elektrischen Feldes) \\\n",
    "(M2) $\\Div B = 0$ (keine magnetischen Ladungen) \\\n",
    "(M3) $\\Curl E = -\\partial_t B$ (Induktion)  \\\n",
    "(M4) $\\Curl H = j + \\partial_t D$ (Amper'sches Gesetz)\n",
    "\n",
    "#### sonstige Zusammenhänge\n",
    "\n",
    "(S1) $D = \\epsilon E $ (evtl noch $+ P$ .. Polarisation, was ist das? vernachlässigbar für unsere Anwendungen?) wobei $\\epsilon$ .. Dielektrizitätskonstante \\\n",
    "(S2) $H = \\mu^{-1} B - M$ wobei $\\mu = \\mu_0 \\mu_r$ (magnetische Permeabilität), $\\mu_0 =  4\\pi10^{-7}$ und $M$ die Magnetisierung ist (wenn im linearen Bereich) \\\n",
    "(S3) $j = \\sigma E +j_i$ ($j_i$ .. 'impressed current density', was ist das genau?)\n",
    "\n",
    "\n",
    "#### Herleitung einer schwachen Formulierung\n",
    "Einführen eines Vektorpotentials $A$ sodass $B = \\Curl A$. \n",
    "\n",
    "Umformen:\n",
    "$$\n",
    "\\begin{split}\n",
    "\\Curl(\\mu^{-1} \\Curl(A) - M) &= \\Curl(\\mu^{-1} B - M) \\\\\n",
    "&\\stackrel{\\text{(S2)}}{=} \\Curl(H) \\\\\n",
    "&\\stackrel{\\text{(M4)}}{=} j + \\partial_t D \\\\\n",
    "&\\stackrel{\\text{(S1)}}{=} j + \\partial_t \\epsilon E  \\\\\n",
    "&\\stackrel{\\text{(S3)}}{=} \\sigma E + j_i + \\partial_t \\epsilon E \n",
    "\\end{split}\n",
    "$$\n",
    "\n",
    "\n",
    "Ziel ist $A$ so zu wählen, dass $E = -\\partial_t A$. Einzige Bedingung an $A$ war, dass $\\Curl A = B$, dh jedes $\\tilde{A}$ das sich von $A$ nur um ein Gradientenfeld unterscheidet erfüllt das genauso. Sei $\\tilde{A}$ so dass $\\Curl \\tilde{A} = B$\n",
    "\n",
    "\n",
    "\n",
    "Nach (M3) gilt $\\Curl E = - \\partial_t (\\Curl \\tilde{A})) = - \\Curl( \\partial_t \\tilde{A})$. Äquivalent dazu $\\Curl(E + \\partial_t \\tilde{A}) = 0$. Gibt Potential $\\phi: \\R^3 \\rightarrow \\R $ mit $\\Grad \\phi =  E+ \\partial_t \\tilde{A}$ wenn das Gebiet brav genug ist (sternförmig oder einfach zusammenhängend). Angenommen das ist der Fall dann gilt $E = \\Grad \\phi - \\partial_t \\tilde{A}$. Mit \n",
    "$$\n",
    "A = - (\\int_{t_0}^{t} \\Grad \\phi(s) ~ \\text{ds} - \\tilde{A})\n",
    "$$ \n",
    "ist die gewünschte Anforderung erfüllt. Dh wir können annehmen $E = -\\partial_t A$. \n",
    "\n",
    "Einsetzen ergibt\n",
    "$$\n",
    "\\Curl(\\mu^{-1} \\Curl(A) - M) + \\sigma \\partial_t A +  \\epsilon \\partial_t^2A = j_i .\n",
    "$$\n",
    "\n",
    "\n",
    "Partielle Integration für curl \n",
    "$$\n",
    "\\int_\\Omega \\Curl u \\cdot v = \\int_\\Omega u \\cdot \\Curl v - \\int_{\\partial\\Omega} (u \\times n) \\cdot v\n",
    "$$\n",
    "\n",
    "\n",
    "Angenommen wir haben Dirichlet RB, dann ergibt sich die schwache Formulierung:\n",
    "\n",
    "Finde $A \\in H(\\Curl)$ sodass \n",
    "$$ \n",
    "\\int \\mu^{-1} \\Curl A \\Curl v +  \\sigma \\int \\partial_t A v + \\epsilon \\int \\partial_t^2 A v = \\int j_i v + \\int M \\Curl v \\qquad \\forall v \\in H(\\Curl). \\tag{*}\n",
    "$$\n",
    "\n",
    "#### Spezialfälle\n",
    "\n",
    "Permanentmagnet:  $j_i = 0$ und  $E = 0$ $\\Rightarrow$ (1)\n",
    "\n"
   ]
  }
 ],
 "metadata": {
  "kernelspec": {
   "display_name": "Python 3",
   "language": "python",
   "name": "python3"
  },
  "language_info": {
   "codemirror_mode": {
    "name": "ipython",
    "version": 3
   },
   "file_extension": ".py",
   "mimetype": "text/x-python",
   "name": "python",
   "nbconvert_exporter": "python",
   "pygments_lexer": "ipython3",
   "version": "3.8.2"
  }
 },
 "nbformat": 4,
 "nbformat_minor": 4
}
