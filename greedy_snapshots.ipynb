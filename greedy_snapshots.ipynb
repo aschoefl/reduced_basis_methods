{
 "cells": [
  {
   "cell_type": "code",
   "execution_count": null,
   "metadata": {},
   "outputs": [],
   "source": [
    "from __future__ import print_function\n",
    "from ipywidgets import interact, interactive, fixed, interact_manual\n",
    "import ipywidgets as widgets\n",
    "\n",
    "from ngsolve import *\n",
    "from netgen.geom2d import unit_square\n",
    "\n",
    "\n",
    "import numpy as np\n",
    "import scipy\n",
    "import math\n",
    "import time\n",
    "\n",
    "from reduced_basis import *\n",
    "\n",
    "np.random.seed(42)"
   ]
  },
  {
   "cell_type": "markdown",
   "metadata": {},
   "source": [
    "<h3> A greedy way to choose snapshot parameters </h3>\n",
    "\n",
    "\n",
    "We look at a similar example as before. \n",
    "\n",
    "From analysis of the equation we know that the density of the eigenvalues increases with higher values of $\\omega$. Our sample rate however does not change because we choose equidistant snapsots. Also the residual at the beginning is not good."
   ]
  },
  {
   "cell_type": "code",
   "execution_count": null,
   "metadata": {},
   "outputs": [],
   "source": [
    "mesh = Mesh(unit_square.GenerateMesh(maxh=0.2))\n",
    "fes = H1(mesh, order=3, dirichlet=\"bottom|right\")\n",
    "\n",
    "x_0 = 0.6\n",
    "y_0 = 0.3\n",
    "func = 100*exp(-20*((x-x_0)**2 + (y-y_0)**2))\n",
    "\n",
    "space = ReducedBasis(fes, func)\n",
    "space1 = ReducedBasis(fes, func)\n",
    "snapshots = np.arange(0,25, 5)\n",
    "space.setSnapshots(snapshots)\n",
    "space1.setSnapshots(snapshots)\n",
    "\n",
    "random_omegas = np.sort(np.append(np.random.uniform(space.omega_min, space.omega_max, 600), snapshots))\n",
    "\n",
    "slider_func1 = lambda x: space1.draw(x, redraw=True)\n",
    "space1.draw(space1.omega_min)\n",
    "\n",
    "interact(slider_func1, x=widgets.FloatSlider(min=space1.omega_min, max=space1.omega_max, step=0.05, value=space1.omega_min))"
   ]
  },
  {
   "cell_type": "code",
   "execution_count": null,
   "metadata": {},
   "outputs": [],
   "source": [
    "%matplotlib notebook\n",
    "import matplotlib.pyplot as plt\n",
    "\n",
    "space1.logging  = True\n",
    "norm_random_omegas, residual_random_omegas = space1.computeValues(random_omegas)\n",
    "\n",
    "\n",
    "fig, ax = plt.subplots()\n",
    "ax.plot(random_omegas, norm_random_omegas,  '-', label = \"norm\")\n",
    "ax.set_xlabel(\"omega\")\n",
    "ax.set_ylabel(\"norm of solution\")\n",
    "ax.set_title(\"norm of solution in reduced space\")\n",
    "plt.semilogy()\n",
    "\n",
    "fig, ax = plt.subplots()         \n",
    "ax.plot(random_omegas, residual_random_omegas , '-')\n",
    "residual = space1.computeValues(space1.getSnapshots(), norm = False)\n",
    "ax.plot(space1.getSnapshots(), residual, 'r.', label = \"snapshot parameters\")\n",
    "ax.legend()\n",
    "ax.set_xlabel(\"omega\")\n",
    "ax.set_ylabel('residual of solution')\n",
    "ax.set_title(\"residual in reduced space\")\n",
    "plt.semilogy()\n",
    "\n",
    "print(\" average residual: {} \\n amount of snapshots: {}\".format(np.mean(residual_random_omegas), len(space1.getSnapshots())))"
   ]
  },
  {
   "cell_type": "markdown",
   "metadata": {},
   "source": [
    "One way to tackle this issue is to choose the snapshots dynamically. Therefore we can start with a small set of snapshot parameters and extend this set with the value where the residual is the highest.\n",
    "\n",
    "To see what is going on, we plot the residual for each new snapshot.\n",
    "If we run the same code with `CHEAP = True` and `CHEAP = False` we can observe that the cheap residual brings a considerable improvement in computation time."
   ]
  },
  {
   "cell_type": "code",
   "execution_count": null,
   "metadata": {},
   "outputs": [],
   "source": [
    "%matplotlib notebook\n",
    "import matplotlib.pyplot as plt\n",
    "\n",
    "space.logging = False\n",
    "\n",
    "MAX_IT = 100\n",
    "CHEAP = False \n",
    "THRESHOLD = 1e-3\n",
    "\n",
    "# initialize plot\n",
    "fig_r = plt.figure()\n",
    "ax_r = fig_r.add_subplot(111)\n",
    "plt.ion()\n",
    "fig_r.show()\n",
    "fig_r.canvas.draw()\n",
    "space.setSnapshots(snapshots, reset = True)\n",
    "\n",
    "begin_time = time.time()\n",
    "\n",
    "for i in range(MAX_IT):\n",
    "    \n",
    "    residual = space.computeValues(random_omegas, norm=False, cheap = CHEAP)\n",
    "    \n",
    "    ax_r.clear()    \n",
    "    ax_r.plot(random_omegas, residual , '-')\n",
    "    sn_residual = space.computeValues(space.getSnapshots(), norm = False, cheap = CHEAP)\n",
    "    ax_r.plot(space.getSnapshots(), sn_residual, 'r.', label = 'snapshots')\n",
    "    ax_r.set_xlabel('omega')\n",
    "    ax_r.set_title('residual')\n",
    "    plt.semilogy()\n",
    "    \n",
    "\n",
    "    if (max(residual) < THRESHOLD): \n",
    "        print(\"Finished after {} seconds\".format(time.time()-begin_time))\n",
    "        break\n",
    "    \n",
    "    # sort by residual (descending)\n",
    "    zip_to_sort = list(zip(residual, range(len(residual))))\n",
    "    sorted_zip = sorted(zip_to_sort, key=lambda x: x[0], reverse=True)\n",
    "    index = [tup[1] for tup in sorted_zip]\n",
    "    \n",
    "    for i in index:\n",
    "        if not random_omegas[i] in space.getSnapshots(): \n",
    "            space.setSnapshots(random_omegas[i], reset=False, compute_RB = False)\n",
    "            break\n",
    "    \n",
    "    print(\"add snapshot for omega = {} average residual: {}\".format(random_omegas[i], np.mean(residual)))\n",
    "\n",
    "    \n",
    "    ax_r.plot(random_omegas[i], residual[i], 'g*', label = 'snapshot to add')\n",
    "    ax_r.legend()\n",
    "\n",
    "    fig_r.canvas.draw()\n",
    "    \n",
    "    space.computeValues(None, residual=False,  norm = False)\n",
    "\n",
    "#     time.sleep(0.00001)\n",
    "print(\" average residual: {} \\n amount of snapshots: {}\".format(np.mean(residual), len(space.getSnapshots())))\n",
    "\n",
    "\n"
   ]
  },
  {
   "cell_type": "markdown",
   "metadata": {},
   "source": [
    "Again we can calculate and plot the solutions in the new reduced space and see that the visual impression gets better.  "
   ]
  },
  {
   "cell_type": "code",
   "execution_count": null,
   "metadata": {},
   "outputs": [],
   "source": [
    "slider_func = lambda x: space.draw(x, redraw=True)\n",
    "space.draw(space.omega_min)\n",
    "interact(slider_func, x=widgets.FloatSlider(min=space.omega_min, max=space.omega_max, step=0.05, value=space.omega_min))"
   ]
  },
  {
   "cell_type": "code",
   "execution_count": null,
   "metadata": {},
   "outputs": [],
   "source": [
    "%matplotlib notebook\n",
    "import matplotlib.pyplot as plt\n",
    "\n",
    "space.logging  = True\n",
    "norm_random_omegas, residual_random_omegas = space.computeValues(random_omegas)\n",
    "\n",
    "fig, ax = plt.subplots()\n",
    "ax.plot(random_omegas, norm_random_omegas,  '-', label = \"norm\")\n",
    "ax.set_xlabel(\"omega\")\n",
    "ax.set_ylabel(\"norm of solution\")\n",
    "ax.set_title(\"norm of solution in reduced space\")\n",
    "plt.semilogy()\n",
    "\n",
    "fig, ax = plt.subplots()         \n",
    "ax.plot(random_omegas, residual_random_omegas , '-')\n",
    "residual = space.computeValues(space.getSnapshots(), norm = False)\n",
    "ax.plot(space.getSnapshots(), residual, 'r.', label = \"snapshot parameters\")\n",
    "ax.legend()\n",
    "ax.set_xlabel(\"omega\")\n",
    "ax.set_ylabel('residual of solution')\n",
    "ax.set_title(\"residual in reduced space\")\n",
    "plt.semilogy()"
   ]
  }
 ],
 "metadata": {
  "kernelspec": {
   "display_name": "Python 3",
   "language": "python",
   "name": "python3"
  },
  "language_info": {
   "codemirror_mode": {
    "name": "ipython",
    "version": 3
   },
   "file_extension": ".py",
   "mimetype": "text/x-python",
   "name": "python",
   "nbconvert_exporter": "python",
   "pygments_lexer": "ipython3",
   "version": "3.6.9"
  }
 },
 "nbformat": 4,
 "nbformat_minor": 4
}
