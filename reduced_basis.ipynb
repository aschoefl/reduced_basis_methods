{
 "cells": [
  {
   "cell_type": "code",
   "execution_count": 1,
   "metadata": {},
   "outputs": [],
   "source": [
    "from ngsolve import *\n",
    "from netgen.geom2d import unit_square\n",
    "import numpy as np\n",
    "import scipy.sparse as sparse\n",
    "import scipy\n",
    "from ngsolve.la import EigenValues_Preconditioner \n",
    "import math\n",
    "\n",
    "\n",
    "class ReducedBasis:\n",
    "\n",
    "    def __init__(self, bnd='dirichlet', a=np.pi, shift_x = 0, shift_y=0):\n",
    "\n",
    "        self.setSpace(bnd, a, shift_x, shift_y)    \n",
    "        self.setInterval(0, 5)\n",
    "\n",
    "    def reset(self):\n",
    "        \n",
    "        self.V = None\n",
    "        self.K_red = None\n",
    "        self.M_red = None\n",
    "        self.P_red = None\n",
    "        self.R_red = None\n",
    "        self.sol = []\n",
    "        self.norm = [] \n",
    "        self.residual = []\n",
    "        self.dim_orig= len(self.gfu.vec)# dim of original space\n",
    "        self.dim_red  = None\n",
    "        self.__snapshots_updated = True\n",
    "        self.__snapshots = []\n",
    "        self.indices = []\n",
    "        self.__first_draw = True\n",
    "        \n",
    "    def setDrawmode(self, mode):\n",
    "        allowed_modes = ['webgui', 'default']\n",
    "        \n",
    "        if mode in allowed_modes:\n",
    "            self.__drawmode = mode\n",
    "        else:\n",
    "            self.__drawmode = 'default'\n",
    "        self.__first_draw = True\n",
    "        \n",
    "    def save(self, out_dir):\n",
    "        \n",
    "        print(\"save in folder {}\", out_dir)\n",
    "        \n",
    "        changeable = [self.V, self.K_red, self.M_red, self.P_red, self.R_red, self.sol, self.norm, self.residual, self.beginning, self.end, self.dim_orig, self.dim_red, \n",
    "         self.__snapshots, self.__snapshots_updated, self.indices, self.bnd]\n",
    "\n",
    "        for j in range(len(changeable)):\n",
    "            np.save(out_dir+str(j), changeable[j], allow_pickle=True)\n",
    "            \n",
    "    def load(self, in_dir):\n",
    "        \n",
    "        print(\"load from folder {}\", in_dir)\n",
    "\n",
    "        ending = \".npy\"\n",
    "        self.V = np.load(in_dir+str(1)+ending, allow_pickle=True)\n",
    "        self.K_red = np.load(in_dir+str(2)+ending, allow_pickle=True)\n",
    "        self.M_red = np.load(in_dir+str(3)+ending, allow_pickle=True)\n",
    "        self.P_red = np.load(in_dir+str(4)+ending, allow_pickle=True)\n",
    "        self.R_red = np.load(in_dir+str(5)+ending, allow_pickle=True)\n",
    "        self.sol = np.load(in_dir+str(6)+ending).tolist()\n",
    "        self.norm = np.load(in_dir+str(7)+ending).tolist()\n",
    "        self.residual = np.load(in_dir+str(8)+ending).tolist()\n",
    "        self.beginning = np.load(in_dir+str(9)+ending)\n",
    "        self.end = np.load(in_dir+str(10)+ending)\n",
    "        self.dim_orig= np.load(in_dir+str(11)+ending)\n",
    "        self.dim_red  = np.load(in_dir+str(12)+ending)\n",
    "        self.__snapshots = np.load(in_dir+str(13)+ending)\n",
    "        self.__snapshots_updated = np.load(in_dir+str(14)+ending)\n",
    "        self.indices = np.load(in_dir+str(15)+ending).tolist()\n",
    "        self.bnd = np.load(in_dir+str(16)+ending).tolist()\n",
    "        \n",
    "\n",
    "\n",
    "    def setSpace(self, bnd='dirichlet',  a=np.pi, shift_x=0, shift_y=0):\n",
    "\n",
    "        ## generate mesh\n",
    "        geo = netgen.geom2d.SplineGeometry()\n",
    "\n",
    "        p1 = geo.AppendPoint (0,0)\n",
    "        p2 = geo.AppendPoint (a,0)\n",
    "        p3 = geo.AppendPoint (a,a)\n",
    "        p4 = geo.AppendPoint (0,a)\n",
    "\n",
    "        geo.Append ([\"line\", p1, p2], bc = \"bottom\")\n",
    "        geo.Append ([\"line\", p2, p3], bc = \"right\")\n",
    "        geo.Append ([\"line\", p3, p4], bc = \"top\")\n",
    "        geo.Append ([\"line\", p4, p1], bc = \"left\")\n",
    "\n",
    "        self.mesh = Mesh(geo.GenerateMesh(maxh=0.1))\n",
    "\n",
    "        allowed_bnd = ['dirichlet', 'neumann', 'robin']\n",
    "        self.bnd = bnd\n",
    "        if bnd == 'dirichlet':\n",
    "            self.fes = H1(self.mesh, order=5, dirichlet='top|bottom|left|right')\n",
    "        elif bnd == 'neumann':\n",
    "            self.fes = H1(self.mesh, order=5)\n",
    "        elif bnd == 'robin':\n",
    "            self.fes = H1(self.mesh, order=5,complex = True)\n",
    "        else:\n",
    "            print(\"bnd not allowed, set dirichlet\")\n",
    "            self.fes = H1(self.mesh, order=5, dirichlet='top|bottom|left|right')\n",
    "\n",
    "        u,v =self.fes.TnT()\n",
    "\n",
    "        factor = 25\n",
    "\n",
    "        x_0 = a/2+shift_x\n",
    "        y_0 = a/2+shift_y\n",
    "        func = exp(-factor*((x-x_0)**2 + (y-y_0)**2))\n",
    "\n",
    "        self.f = LinearForm(self.fes)\n",
    "        self.f += func * v * dx\n",
    "        self.f.Assemble()\n",
    "\n",
    "        self.omega = Parameter(0)\n",
    "        self.a = BilinearForm(self.fes)\n",
    "        self.a += (grad(u)*grad(v) - self.omega*self.omega *u*v) * dx\n",
    "\n",
    "        if self.bnd == 'robin':\n",
    "            self.a += -1j*self.omega*u*v*ds\n",
    "            self.r_blf = BilinearForm(self.fes)\n",
    "            self.r_blf += -1j*u*v*ds\n",
    "            self.r_blf.Assemble()\n",
    "            rows,cols,vals = self.r_blf.mat.COO()\n",
    "            self.R_orig = sparse.csr_matrix((vals,(rows,cols)))\n",
    "\n",
    "\n",
    "        self.a.Assemble()\n",
    "\n",
    "\n",
    "        self.gfu = GridFunction(self.fes)\n",
    "        self.drawu = GridFunction(self.fes)\n",
    "        \n",
    "        self.k_blf = BilinearForm(self.fes)\n",
    "        self.k_blf += grad(u)*grad(v)*dx\n",
    "        self.pre_k = Preconditioner(self.k_blf, \"multigrid\")\n",
    "        self.k_blf.Assemble()\n",
    "        rows,cols,vals = self.k_blf.mat.COO()\n",
    "        self.K_orig = sparse.csr_matrix((vals,(rows,cols)))\n",
    "\n",
    "        self.m_blf = BilinearForm(self.fes)\n",
    "        self.m_blf += u*v * dx\n",
    "        self.m_blf.Assemble()\n",
    "\n",
    "        rows,cols,vals = self.m_blf.mat.COO()\n",
    "        self.M_orig = sparse.csr_matrix((vals,(rows,cols)))        \n",
    "\n",
    "        self.reset()\n",
    "\n",
    "    def setInterval(self, beginning, end):\n",
    "        self.beginning = beginning\n",
    "        self.end = end\n",
    "\n",
    "        self.reset()\n",
    "\n",
    "\n",
    "    def computeEigenvalues(self, small=True):\n",
    "\n",
    "        if small:\n",
    "            if self.__snapshots_updated:\n",
    "                self.__computeRB()\n",
    "                \n",
    "            eig = scipy.linalg.eigh(self.K_red, self.M_red, eigvals_only=True) \n",
    "            return np.sqrt(eig)\n",
    "\n",
    "        else:\n",
    "            u = self.gfu\n",
    "            r = u.vec.CreateVector()\n",
    "            w = u.vec.CreateVector()\n",
    "            Mu = u.vec.CreateVector()\n",
    "            Au = u.vec.CreateVector()\n",
    "            Mw = u.vec.CreateVector()\n",
    "            Aw = u.vec.CreateVector()\n",
    "\n",
    "            r.FV().NumPy()[:] = np.random.rand(self.fes.ndof)\n",
    "            u.vec.data = Projector(self.fes.FreeDofs(), True) * r\n",
    "\n",
    "            for i in range(20):\n",
    "\n",
    "                Au.data = self.k_blf.mat * u.vec\n",
    "                Mu.data = self.m_blf.mat * u.vec\n",
    "                auu = InnerProduct(Au, u.vec)\n",
    "                muu = InnerProduct(Mu, u.vec)\n",
    "                # Rayleigh quotient\n",
    "                lam = auu/muu\n",
    "                # print (lam / (math.pi**2))\n",
    "                # residual\n",
    "                r.data = Au - lam * Mu\n",
    "                w.data = self.pre_k.mat * r.data\n",
    "                w.data = 1/Norm(w) * w\n",
    "                Aw.data = self.k_blf.mat * w\n",
    "                Mw.data = self.m_blf.mat * w\n",
    "\n",
    "            print(lam /( math.pi**2) , type(lam))\n",
    "        \n",
    "    def setSnapshots(self, new_snapshots, reset = False):\n",
    "        ## TODO: check format of snapshots\n",
    "        if len(self.__snapshots) > 0 and not reset:\n",
    "            print(\"append snapshots with {}\".format(new_snapshots))\n",
    "            self.__snapshots = np.append(self.__snapshots, np.array(new_snapshots))\n",
    "        else:\n",
    "            print(\"set snapshots and reset basis\")\n",
    "            self.__snapshots = np.array(new_snapshots)\n",
    "            self.V = None\n",
    "        self.__snapshots_updated = True\n",
    "        tmp = self.__snapshots\n",
    "        zip_to_sort = list(zip(tmp, range(len(tmp))))\n",
    "        sorted_zip = sorted(zip_to_sort, key=lambda x: x[0], reverse=False)\n",
    "        self.indices = [tup[1] for tup in sorted_zip]\n",
    "    \n",
    "    def getSnapshots(self, sorted = True):\n",
    "        return self.__snapshots[self.indices]\n",
    "          \n",
    "                \n",
    "    def __computeRB(self):\n",
    "\n",
    "        print(\"compute Reduced Basis\")\n",
    "\n",
    "\n",
    "        if len(self.__snapshots) == 0:\n",
    "            print(\"\"\" no snapshots given, please call 'instance.setSnapshots' first\"\"\")\n",
    "            return\n",
    "        \n",
    "        _visual = False\n",
    "        if _visual:\n",
    "            Draw(self.gfu)\n",
    "\n",
    "        self.dim_red = len(self.__snapshots)\n",
    "        if self.bnd == 'robin':\n",
    "            V_tmp = np.zeros((self.dim_orig, self.dim_red), dtype=complex )\n",
    "        else:\n",
    "            V_tmp = np.zeros((self.dim_orig, self.dim_red))\n",
    "\n",
    "        try: \n",
    "            existing_basis_len = self.V.shape[1]\n",
    "            V_tmp[:,0:existing_basis_len] = self.V\n",
    "            print(\"extending basis\")\n",
    "        except:\n",
    "            existing_basis_len = 0\n",
    "\n",
    "\n",
    "        for n in range(0+existing_basis_len, self.dim_red):\n",
    "            _omega = self.__snapshots[n]\n",
    "            ## compute FEM solution for parameter _omega\n",
    "            self.omega.Set(_omega)\n",
    "            self.a.Assemble()\n",
    "            self.gfu.vec.data = self.a.mat.Inverse(self.fes.FreeDofs(), inverse=\"sparsecholesky\") * self.f.vec\n",
    "\n",
    "            V_tmp[:,n] = self.gfu.vec.FV().NumPy()\n",
    "            self.sol += [self.gfu.vec]\n",
    "\n",
    "                \n",
    "        try:\n",
    "            q, r = np.linalg.qr(V_tmp)\n",
    "            self.V = V_tmp.dot(np.linalg.inv(r))\n",
    "        except:\n",
    "            print(\"Matrix is singular\")\n",
    "\n",
    "        self.K_red = np.transpose(self.V).dot(self.K_orig.dot(self.V))\n",
    "        self.M_red = np.transpose(self.V).dot(self.M_orig.dot(self.V))\n",
    "        self.P_red = np.transpose(self.V).dot(self.f.vec.data)\n",
    "\n",
    "        if self.bnd == 'robin':\n",
    "            self.R_red = np.transpose(self.V).dot(self.R_orig.dot(self.V))\n",
    "                \n",
    "        self.__snapshots_updated = False\n",
    "        print(\"finished computing Reduced Basis\")\n",
    "\n",
    "\n",
    "    def computeValues(self, param, residual=True, norm=True, *args, **kwargs):\n",
    "\n",
    "        if self.__snapshots_updated:\n",
    "            self.__computeRB()\n",
    "        \n",
    "        self.norm = []\n",
    "        self.residual = []\n",
    "\n",
    "        ured = GridFunction(self.fes)\n",
    "        tmp = GridFunction(self.fes)\n",
    "\n",
    "        j = 0\n",
    "        norm_diff = []\n",
    "        for _omega in param:\n",
    "            if 'time' in args:\n",
    "                t3 = Timer(\"t3\")\n",
    "                t3.Start()\n",
    "            \n",
    "            if self.bnd == 'robin':\n",
    "                Ainv = np.linalg.inv(self.K_red-_omega*_omega*self.M_red+_omega*self.R_red)\n",
    "            else:\n",
    "                Ainv = np.linalg.inv(self.K_red-_omega*_omega*self.M_red)\n",
    "\n",
    "            red_sol_vec = np.matmul(Ainv, self.P_red)\n",
    "\n",
    "            ured.vec.FV().NumPy()[:] = self.V.dot(red_sol_vec)[:]\n",
    "            if 'time' in args:\n",
    "                t3.Stop()\n",
    "            \n",
    "            if norm:\n",
    "                \n",
    "                nof = Integrate(ured*Conj(ured), self.mesh)\n",
    "                self.norm += [nof]\n",
    "            \n",
    "            if residual:\n",
    "\n",
    "                if 'numpy' in kwargs:\n",
    "                    if 'timer' in args:\n",
    "                        t1 = Timer(\"t1\")\n",
    "                        t1a = Timer(\"t1a\")\n",
    "                        t1b = Timer(\"t1b\")\n",
    "                        t1.Start()\n",
    "                        t1a.Start()\n",
    "                    \n",
    "                    tmp = self.K_orig.dot(np.array(ured.vec.data)\n",
    "                        ) - _omega*_omega*self.M_orig.dot(np.array(ured.vec.data)\n",
    "                        ) - self.f.vec.data\n",
    "\n",
    "                    if 'timer' in args:\n",
    "                        t1a.Stop()\n",
    "                        t1b.Start()\n",
    "\n",
    "                    res2 = np.linalg.norm(tmp[self.fes.FreeDofs()])\n",
    "\n",
    "                    if 'timer' in args:\n",
    "                        t1b.Stop()\n",
    "                        t1.Stop()\n",
    "\n",
    "                        t2.AddFlops(2*self.k_blf.mat.nze)\n",
    "                        t2.Start()\n",
    "                                \n",
    "                \n",
    "                ngs_temp = self.k_blf.mat.CreateColVector()\n",
    "                ngs_temp.data = self.k_blf.mat*ured.vec - _omega*_omega*self.m_blf.mat*ured.vec - self.f.vec\n",
    "                if self.bnd == 'robin':\n",
    "                    ngs_temp.data += _omega*self.r_blf.mat*ured.vec\n",
    "\n",
    "\n",
    "                ngs_temp2 = self.k_blf.mat.CreateColVector()\n",
    "                ngs_temp2.data = Projector(self.fes.FreeDofs(), True)*ngs_temp\n",
    "\n",
    "                if 'timer' in args:\n",
    "                    t2.Stop()\n",
    "                \n",
    "                res = Norm(ngs_temp2)\n",
    "                \n",
    "                self.residual += [res]\n",
    "\n",
    "            j += 1\n",
    "\n",
    "\n",
    "    def draw(self, omega):\n",
    "        \n",
    "        if self.__snapshots_updated:\n",
    "            self.__computeRB()\n",
    "        \n",
    "        if self.__drawmode == 'webgui':\n",
    "            from ngsolve.webgui import Draw\n",
    "\n",
    "        elif self.__drawmode == 'default':\n",
    "    \n",
    "            import netgen.gui\n",
    "            from ngsolve import Draw\n",
    "            if self.__first_draw:\n",
    "                Draw(self.drawu)\n",
    "                self.__first_draw = False\n",
    "        else: \n",
    "            print(\"unknown drawmode use instance.setDrawmode\")\n",
    "            return\n",
    "            self.__first_draw = False\n",
    "\n",
    "        ## TODO: solve lgs\n",
    "        Ainv = np.linalg.inv(self.K_red-omega*omega*self.M_red)\n",
    "        red_sol_vec = np.matmul(Ainv, self.P_red)\n",
    "        \n",
    "        self.drawu.vec.FV().NumPy()[:] = self.V.dot(red_sol_vec)[:]\n",
    "        \n",
    "        if self.__drawmode == 'webgui':\n",
    "            if self.__first_draw:\n",
    "                self.scene = Draw(self.drawu, self.mesh, websocket=True)\n",
    "                self.__first_draw = False\n",
    "            self.scene.Redraw()\n",
    "        else:\n",
    "            Redraw()\n"
   ]
  },
  {
   "cell_type": "markdown",
   "metadata": {},
   "source": [
    "We define H1-FEM spaces on the square $[0, \\pi] \\times [0, \\pi]$ with dirichlet, neumann and robin boundary values. To compute the first set of snapshot solutions we chose the parameters $\\omega \\in \\{1, .., 20\\}$. "
   ]
  },
  {
   "cell_type": "code",
   "execution_count": 2,
   "metadata": {
    "tags": [
     "outputPrepend",
     "outputPrepend"
    ]
   },
   "outputs": [
    {
     "name": "stdout",
     "output_type": "stream",
     "text": [
      "set snapshots and reset basis\n",
      "set snapshots and reset basis\n",
      "set snapshots and reset basis\n"
     ]
    }
   ],
   "source": [
    "boundaries = ['dirichlet', 'neumann', 'robin']\n",
    "\n",
    "RB_spaces = []\n",
    "params = np.arange(1,20)\n",
    "\n",
    "for bnd in boundaries:\n",
    "    space = ReducedBasis(bnd=bnd, a= 1, shift_x = 0.2, shift_y=0.3)\n",
    "    space.setInterval(1, 20)\n",
    "    space.setSnapshots(params, reset=True)\n",
    "    RB_spaces += [space]\n",
    "\n"
   ]
  },
  {
   "cell_type": "markdown",
   "metadata": {},
   "source": [
    "Now we chose an on $[1,20]$ uniformly distributed sample of $1000$ parameters and compute the norms and residuals for the corresponding solutions. "
   ]
  },
  {
   "cell_type": "code",
   "execution_count": 3,
   "metadata": {},
   "outputs": [
    {
     "name": "stdout",
     "output_type": "stream",
     "text": [
      "compute Reduced Basis\n",
      "finished computing Reduced Basis\n",
      "compute Reduced Basis\n",
      "finished computing Reduced Basis\n",
      "compute Reduced Basis\n",
      "finished computing Reduced Basis\n"
     ]
    }
   ],
   "source": [
    "random_omegas = np.sort(np.append(np.random.uniform(RB_spaces[0].beginning, RB_spaces[0].end, 1000), params))\n",
    "\n",
    "eigenvalues = []\n",
    "residuals = []\n",
    "norms = []\n",
    "for space in RB_spaces:\n",
    "    # eig = space.computeEigenvalues()\n",
    "    # eigenvalues += [eig]\n",
    "    space.computeValues(random_omegas)\n",
    "    residuals += [space.residual]\n",
    "    norms += [space.norm]"
   ]
  },
  {
   "cell_type": "markdown",
   "metadata": {},
   "source": [
    "Plot the norms"
   ]
  },
  {
   "cell_type": "code",
   "execution_count": 4,
   "metadata": {},
   "outputs": [
    {
     "name": "stderr",
     "output_type": "stream",
     "text": [
      "/home/ams/.local/lib/python3.6/site-packages/numpy/core/_asarray.py:85: ComplexWarning: Casting complex values to real discards the imaginary part\n",
      "  return array(a, dtype, copy=False, order=order)\n"
     ]
    },
    {
     "data": {
      "image/png": "[encoded data removed]",
      "text/plain": [
       "<Figure size 432x288 with 1 Axes>"
      ]
     },
     "metadata": {
      "needs_background": "light"
     },
     "output_type": "display_data"
    },
    {
     "data": {
      "image/png": "[encoded data removed]",
      "text/plain": [
       "<Figure size 432x288 with 1 Axes>"
      ]
     },
     "metadata": {
      "needs_background": "light"
     },
     "output_type": "display_data"
    },
    {
     "data": {
      "image/png": "[encoded data removed]",
      "text/plain": [
       "<Figure size 432x288 with 1 Axes>"
      ]
     },
     "metadata": {
      "needs_background": "light"
     },
     "output_type": "display_data"
    }
   ],
   "source": [
    "import matplotlib.pyplot as plt\n",
    "\n",
    "\n",
    "for j in range(len(boundaries)):\n",
    "    fig, ax = plt.subplots()         \n",
    "    ax.plot(random_omegas, norms[j], '-', label = \"norm\")\n",
    "    # ax.plot(eigenvalues[j], 1/2*np.ones(len(eigenvalues[j])), '*g', label = \"eigenvalues\")\n",
    "\n",
    "    ax.set_xlabel(\"omega\")\n",
    "    ax.set_ylabel('norm of solution')\n",
    "    ax.set_title(\"norm in reduced space with {} boundaries\".format(boundaries[j]))\n",
    "    plt.semilogy()\n",
    "    # ax.set_ylim([0,10])\n",
    "\n",
    "plt.show()\n"
   ]
  },
  {
   "cell_type": "code",
   "execution_count": null,
   "metadata": {},
   "outputs": [],
   "source": [
    "Plot the residuals"
   ]
  },
  {
   "cell_type": "code",
   "execution_count": 5,
   "metadata": {},
   "outputs": [
    {
     "data": {
      "image/png": "[encoded data removed]",
      "text/plain": [
       "<Figure size 432x288 with 1 Axes>"
      ]
     },
     "metadata": {
      "needs_background": "light"
     },
     "output_type": "display_data"
    },
    {
     "data": {
      "image/png": "[encoded data removed]",
      "text/plain": [
       "<Figure size 432x288 with 1 Axes>"
      ]
     },
     "metadata": {
      "needs_background": "light"
     },
     "output_type": "display_data"
    },
    {
     "data": {
      "image/png": "[encoded data removed]",
      "text/plain": [
       "<Figure size 432x288 with 1 Axes>"
      ]
     },
     "metadata": {
      "needs_background": "light"
     },
     "output_type": "display_data"
    }
   ],
   "source": [
    "import matplotlib.pyplot as plt\n",
    "\n",
    "\n",
    "for j in range(len(boundaries)):\n",
    "    fig, ax = plt.subplots()         \n",
    "    ax.plot(random_omegas, residuals[j], '-', label = \"residual\")\n",
    "    RB_spaces[j].computeValues(RB_spaces[j].getSnapshots())\n",
    "    ax.plot(RB_spaces[j].getSnapshots(), RB_spaces[j].residual, 'r.')\n",
    "\n",
    "    ax.set_xlabel(\"omega\")\n",
    "    ax.set_ylabel('residual of solution')\n",
    "    ax.set_title(\"residal in reduced space with {} boundaries\".format(boundaries[j]))\n",
    "    plt.semilogy()\n",
    "\n",
    "plt.show()"
   ]
  },
  {
   "cell_type": "code",
   "execution_count": null,
   "metadata": {},
   "outputs": [],
   "source": [
    "from __future__ import print_function\n",
    "from ipywidgets import interact, interactive, fixed, interact_manual\n",
    "import ipywidgets as widgets\n",
    "\n",
    "##dirichlet \n",
    "space = RB_spaces[0]\n",
    "space.setDrawmode(\"webgui\")\n",
    "\n",
    "f = lambda x: space.draw(x)\n",
    "interact(f, x=widgets.FloatSlider(min=space.beginning, max=space.end, step=0.05, value=3))"
   ]
  },
  {
   "cell_type": "code",
   "execution_count": null,
   "metadata": {},
   "outputs": [],
   "source": [
    "from __future__ import print_function\n",
    "from ipywidgets import interact, interactive, fixed, interact_manual\n",
    "import ipywidgets as widgets\n",
    "\n",
    "##neumann \n",
    "space = RB_spaces[1]\n",
    "space.setDrawmode(\"webgui\")\n",
    "\n",
    "f = lambda x: space.draw(x)\n",
    "interact(f, x=widgets.FloatSlider(min=space.beginning, max=space.end, step=0.05, value=3))"
   ]
  },
  {
   "cell_type": "code",
   "execution_count": null,
   "metadata": {},
   "outputs": [],
   "source": [
    "from __future__ import print_function\n",
    "from ipywidgets import interact, interactive, fixed, interact_manual\n",
    "import ipywidgets as widgets\n",
    "\n",
    "##robin\n",
    "space = RB_spaces[1]\n",
    "space.setDrawmode(\"webgui\")\n",
    "\n",
    "f = lambda x: space.draw(x)\n",
    "interact(f, x=widgets.FloatSlider(min=space.beginning, max=space.end, step=0.05, value=3))"
   ]
  },
  {
   "cell_type": "code",
   "execution_count": null,
   "metadata": {
    "tags": [
     "outputPrepend",
     "outputPrepend",
     "outputPrepend"
    ]
   },
   "outputs": [],
   "source": [
    "from __future__ import print_function\n",
    "from ipywidgets import interact, interactive, fixed, interact_manual\n",
    "import ipywidgets as widgets\n",
    "\n",
    "space = ReducedBasis(bnd='robin', a= np.pi, shift_x = 0.2, shift_y=0.3)\n",
    "space.setDrawmode(\"webgui\")\n",
    "space.setInterval(1, 20)\n",
    "params = np.arange(1,20)\n",
    "space.setSnapshots(params, reset=True)\n",
    "space.computeValues(params)\n",
    "\n",
    "\n",
    "f = lambda x: space.draw(x)\n",
    "interact(f, x=widgets.FloatSlider(min=space.beginning, max=space.end, step=0.05, value=3))"
   ]
  },
  {
   "cell_type": "code",
   "execution_count": null,
   "metadata": {
    "scrolled": true
   },
   "outputs": [],
   "source": [
    "RBinst = ReducedBasis()\n",
    "RBinst.setInterval(0,5)\n",
    "params = np.arange(5)\n",
    "RBinst.setSnapshots(params, reset=True)\n",
    "random_omegas = np.sort(np.append(np.random.uniform(RBinst.beginning, RBinst.end, 50), params))\n",
    "\n",
    "with TaskManager(int(1e8)):\n",
    "    t2 = Timer(\"t2\")\n",
    "    RBinst.computeValues(random_omegas, norm=False)\n",
    "\n"
   ]
  },
  {
   "cell_type": "code",
   "execution_count": null,
   "metadata": {
    "tags": [
     "outputPrepend"
    ]
   },
   "outputs": [],
   "source": [
    "for t in Timers():\n",
    "    print(t)"
   ]
  },
  {
   "cell_type": "code",
   "execution_count": null,
   "metadata": {},
   "outputs": [],
   "source": [
    "help(TaskManager)\n",
    "## HI"
   ]
  },
  {
   "cell_type": "code",
   "execution_count": null,
   "metadata": {},
   "outputs": [],
   "source": [
    "RBinst = ReducedBasis()\n",
    "RBinst.setInterval(0,5)\n",
    "params = np.arange(5)\n",
    "RBinst.setSnapshots(params, reset=True)\n",
    "random_omegas = np.sort(np.append(np.random.uniform(RBinst.beginning, RBinst.end, 200), params))\n",
    "\n",
    "import cProfile, pstats, io\n",
    "\n",
    "cp = cProfile.Profile()\n",
    "cp.enable()\n",
    "\n",
    "RBinst.computeValues(random_omegas)\n",
    "cp.disable()\n",
    "\n",
    "s = io.StringIO()\n",
    "sortby = 'cumulative'\n",
    "ps = pstats.Stats(cp, stream=s).sort_stats(sortby)\n",
    "ps.print_stats()\n",
    "print(s.getvalue())\n"
   ]
  },
  {
   "cell_type": "code",
   "execution_count": 6,
   "metadata": {
    "scrolled": true
   },
   "outputs": [
    {
     "name": "stdout",
     "output_type": "stream",
     "text": [
      "set snapshots and reset basis\n"
     ]
    },
    {
     "data": {
      "application/vnd.jupyter.widget-view+json": {
       "model_id": "c442269e7d274b6383d491a56f8ec0b7",
       "version_major": 2,
       "version_minor": 0
      },
      "text/plain": [
       "interactive(children=(FloatSlider(value=3.0, description='x', max=5.0, step=0.05), Output()), _dom_classes=('w…"
      ]
     },
     "metadata": {},
     "output_type": "display_data"
    },
    {
     "data": {
      "text/plain": [
       "<function __main__.<lambda>(x)>"
      ]
     },
     "execution_count": 6,
     "metadata": {},
     "output_type": "execute_result"
    }
   ],
   "source": [
    "from __future__ import print_function\n",
    "from ipywidgets import interact, interactive, fixed, interact_manual\n",
    "import ipywidgets as widgets\n",
    "\n",
    "\n",
    "RBinst = ReducedBasis()\n",
    "RBinst.setInterval(0,5)\n",
    "params = np.array(range(20))\n",
    "RBinst.setSnapshots(params)\n",
    "\n",
    "RBinst.setDrawmode(\"webgui\")\n",
    "\n",
    "# RBinst.draw(3)\n",
    "f = lambda x: RBinst.draw(x)\n",
    "interact(f, x=widgets.FloatSlider(min=RBinst.beginning, max=RBinst.end, step=0.05, value=3))"
   ]
  },
  {
   "cell_type": "code",
   "execution_count": null,
   "metadata": {},
   "outputs": [],
   "source": [
    "import matplotlib.pyplot as plt\n",
    "fig, ax = plt.subplots()                      \n",
    "ax.plot(random_omegas, newRBinst.norm, '-', label = \"norm\")\n",
    "\n",
    "#ax.plot(newRBinst.getSnapshots(), residuals_snapshots[i][newindices], '.r', label = \"residual snapshot\")\n",
    "ax.set_xlabel(\"omega\")\n",
    "ax.set_ylabel('norm')\n",
    "plt.semilogy()\n",
    "ax.legend()"
   ]
  },
  {
   "cell_type": "code",
   "execution_count": null,
   "metadata": {
    "scrolled": true
   },
   "outputs": [],
   "source": [
    "import matplotlib.pyplot as plt\n",
    "import os\n",
    "\n",
    "fig, ax = plt.subplots()\n",
    "out_dir = os.getcwd()+\"/output/\"\n",
    "try:\n",
    "    os.mkdir(path+out_dir)\n",
    "except:\n",
    "    print('no dir created')\n",
    "\n",
    "RBinst = ReducedBasis()\n",
    "\n",
    "beginning = RBinst.beginning\n",
    "end= RBinst.end\n",
    "eigenvalues = []\n",
    "for j in range(beginning, end+1):\n",
    "    for i in range(beginning, end+1):\n",
    "        tmp = (i*i+j*j)**(1/2)\n",
    "        if tmp <= end: eigenvalues += [tmp]\n",
    "# print(eigenvalues)\n",
    "\n",
    "stepsize = 0.5\n",
    "first_snapshot = np.arange(RBinst.beginning,RBinst.end, stepsize)\n",
    "MAX_IT = 10\n",
    "snapshots = [None]*MAX_IT\n",
    "norms_snapshots = [None]*MAX_IT\n",
    "norms_red = [None]*MAX_IT\n",
    "residuals = [None]*MAX_IT\n",
    "residuals_snapshots = [None]*MAX_IT\n",
    "random_omegas = np.sort(np.append(np.random.uniform(RBinst.beginning, RBinst.end, 1000), first_snapshot))\n",
    "\n",
    "snapshots[0] = np.array(first_snapshot)\n",
    "RBinst.setSnapshots(first_snapshot, reset = True)\n",
    "# indices = range(len(snapshots[0]))\n",
    "for i in range(0,MAX_IT):\n",
    "    print(\"i = {}\".format(i))\n",
    "\n",
    "    RBinst.computeValues(snapshots[i])\n",
    "    # norms_snapshots[i] = np.array(RBinst.norm_of_solutions_orig)\n",
    "    residuals_snapshots[i]= np.array(RBinst.residual)\n",
    "    \n",
    "    RBinst.computeValues(random_omegas)\n",
    "    norms_red[i] = np.array(RBinst.norm)\n",
    "    residuals[i] = np.array(RBinst.residual)\n",
    "    \n",
    "    ## plot and save\n",
    "    plt.cla()\n",
    "    ax.plot(random_omegas, residuals[i], '-', label = \"residual\")\n",
    "    ax.plot(snapshots[i][RBinst.indices], residuals_snapshots[i][RBinst.indices], '.r', label = \"residual snapshot\")\n",
    "    ax.set_xlabel(\"omega\")\n",
    "    ax.set_ylabel('residual')\n",
    "    ax.set_title(\"residual {}\".format(i))\n",
    "    plt.semilogy()\n",
    "    ax.legend()\n",
    "    plt.savefig(out_dir+\"residual {}\".format(i))\n",
    "#     plt.plot()\n",
    "\n",
    "    plt.cla()\n",
    "    ax.plot(random_omegas, norms_red[i], '-', label = \"norm\")\n",
    "    ax.plot(eigenvalues, np.ones(len(eigenvalues)), '.', label=\"eigenvalues\")\n",
    "    ax.set_xlabel(\"omega\")\n",
    "    ax.set_ylabel('norm of reduced solution')\n",
    "    ax.set_title(\"norm reduced solution {}\".format(i))\n",
    "    plt.semilogy()\n",
    "    # ax.legend()\n",
    "    plt.savefig(out_dir+\"norm_red {}\".format(i))\n",
    "#     plt.plot()\n",
    "\n",
    "    plt.cla()\n",
    "    ax.plot(snapshots[i][RBinst.indices], norms_snapshots[i][RBinst.indices], '-', label = \"norm\")\n",
    "    ax.set_xlabel(\"omega\")\n",
    "    ax.set_ylabel('norm of snapshot solution')\n",
    "    ax.set_title(\"norm snapshot solution {}\".format(i))\n",
    "    plt.semilogy()\n",
    "    # ax.legend()\n",
    "    plt.savefig(out_dir+\"norm_snap {}\".format(i))\n",
    "#     plt.plot()\n",
    "    \n",
    "\n",
    "    if i < MAX_IT-1:\n",
    "        \n",
    "        ## sort by residual\n",
    "        tmp = residuals[i]\n",
    "        zip_to_sort = list(zip(tmp, range(len(tmp))))\n",
    "        sorted_zip = sorted(zip_to_sort, key=lambda x: x[0], reverse=True)\n",
    "        tmp_ind = [tup[1] for tup in sorted_zip]\n",
    "        for j in range(len(RBinst.indices)):\n",
    "            if not (random_omegas[tmp_ind[j]] in snapshots[i]):\n",
    "                max_omega = random_omegas[tmp_ind[j]]\n",
    "                snapshots[i+1] = np.append(snapshots[i], max_omega)\n",
    "                RBinst.setSnapshots(max_omega)\n",
    "                break\n",
    "\n",
    "        # tmp = snapshots[i+1]\n",
    "        # zip_to_sort = list(zip(tmp, range(len(tmp))))\n",
    "        # sorted_zip = sorted(zip_to_sort, key=lambda x: x[0], reverse=False)\n",
    "        # indices = [tup[1] for tup in sorted_zip]\n",
    "\n",
    "print('finished')\n"
   ]
  },
  {
   "cell_type": "code",
   "execution_count": null,
   "metadata": {},
   "outputs": [],
   "source": [
    "RBinst.save(\"./saved_RBinst_/\")"
   ]
  },
  {
   "cell_type": "code",
   "execution_count": null,
   "metadata": {},
   "outputs": [],
   "source": [
    "import matplotlib.pyplot as plt\n",
    "fig, ax = plt.subplots()                      \n",
    "ax.plot(random_omegas, newRBinst.norm, '-', label = \"norm\")\n",
    "\n",
    "# ax.plot(snapshots[i][indices], residuals_snapshots[i][indices], '.r', label = \"residual snapshot\")\n",
    "ax.set_xlabel(\"omega\")\n",
    "ax.set_ylabel('norm')\n",
    "plt.semilogy()\n",
    "ax.legend()\n"
   ]
  },
  {
   "cell_type": "code",
   "execution_count": null,
   "metadata": {},
   "outputs": [],
   "source": []
  }
 ],
 "metadata": {
  "file_extension": ".py",
  "kernelspec": {
   "display_name": "Python 3.6.9 64-bit",
   "language": "python",
   "name": "python36964bitbc110d7e7d684364a5777decf7cc6ac1"
  },
  "language_info": {
   "codemirror_mode": {
    "name": "ipython",
    "version": 3
   },
   "file_extension": ".py",
   "mimetype": "text/x-python",
   "name": "python",
   "nbconvert_exporter": "python",
   "pygments_lexer": "ipython3",
   "version": "3.6.9"
  },
  "mimetype": "text/x-python",
  "name": "python",
  "npconvert_exporter": "python",
  "pygments_lexer": "ipython3",
  "version": 3
 },
 "nbformat": 4,
 "nbformat_minor": 2
}