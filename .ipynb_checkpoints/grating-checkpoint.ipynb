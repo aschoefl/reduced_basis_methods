{
 "cells": [
  {
   "cell_type": "markdown",
   "metadata": {},
   "source": [
    "# Grating Reduced Basis\n",
    "\\begin{equation}\n",
    "    n \\lambda = d \\sin(\\alpha)\n",
    "\\end{equation}\n",
    "where $n = 1$, $d = \\frac{1}{s}$ and $\\lambda = \\frac{c2\\pi}{\\omega}$\n",
    "\\begin{equation}\n",
    "    \\alpha = \\arcsin\\big(\\frac{2\\pi s}{\\omega}\\big)\n",
    "\\end{equation}"
   ]
  },
  {
   "cell_type": "code",
   "execution_count": 11,
   "metadata": {},
   "outputs": [],
   "source": [
    "from __future__ import print_function\n",
    "from ipywidgets import interact, interactive, fixed, interact_manual\n",
    "import ipywidgets as widgets\n",
    "\n",
    "from ngsolve import *\n",
    "from netgen.geom2d import unit_square\n",
    "\n",
    "\n",
    "import numpy as np\n",
    "import scipy\n",
    "import math\n",
    "import time\n",
    "from math import pi\n",
    "\n",
    "from ngsolve.webgui import Draw\n",
    "from reduced_basis_myQR import *\n"
   ]
  },
  {
   "cell_type": "code",
   "execution_count": 12,
   "metadata": {},
   "outputs": [],
   "source": [
    "def ChebPoints(a,b,n):\n",
    "    x_i = []\n",
    "    for i in range(0,n+1):\n",
    "        fac = (2*i+1)/(2*n+2)\n",
    "        x_ch = np.cos(pi*fac)\n",
    "        x_i.append((a+b)/2+((b-a)/2)*x_ch)\n",
    "    return x_i"
   ]
  },
  {
   "cell_type": "code",
   "execution_count": 13,
   "metadata": {},
   "outputs": [],
   "source": [
    "def setang(alpha,d):\n",
    "    if alpha > 90 or alpha < 30:\n",
    "        return print(\"wrong angle\")\n",
    "    return d/(np.sin(np.radians(alpha)))\n",
    "\n",
    "maxind = 50\n",
    "mode = \"Cheb\"\n",
    "s = 40\n",
    "\n",
    "# set the minimumangle\n",
    "alpha1 = 30\n",
    "# set the maxangle\n",
    "alpha2 = 70\n",
    "\n",
    "lower = setang(alpha2,s)\n",
    "upper = setang(alpha1,s)\n",
    "if mode == \"Cheb\":\n",
    "    omegfact = np.sort(ChebPoints(lower,upper,maxind))\n",
    "if mode == \"equi\":\n",
    "    omegfact = np.linspace(lower,upper,maxind)\n",
    "snapshots = []\n",
    "for i in range(maxind):\n",
    "    snapshots.append(2*math.pi*omegfact[i])"
   ]
  },
  {
   "cell_type": "code",
   "execution_count": 16,
   "metadata": {},
   "outputs": [
    {
     "data": {
      "application/vnd.jupyter.widget-view+json": {
       "model_id": "1f7d0e82bbf54a71a04e2f0f7af99f34",
       "version_major": 2,
       "version_minor": 0
      },
      "text/plain": [
       "NGSWebGuiWidget(value={'ngsolve_version': '6.2.2006-98-ge712f407', 'mesh_dim': 2, 'order2d': 2, 'order3d': 2, …"
      ]
     },
     "metadata": {},
     "output_type": "display_data"
    }
   ],
   "source": [
    "from netgen.geom2d import *\n",
    "\n",
    "geo = SplineGeometry()\n",
    "geo.AddRectangle ( (0,0), (1,1), bcs=[\"bottom\",\"right\",\"top\",\"left\"], leftdomain=1)\n",
    "r = 0.005\n",
    "for i in range(s-1):\n",
    "    geo.AddCircle ( (0.5,(i+1)/(s)), r=r, bc=\"interface\", \n",
    "                     leftdomain=0, rightdomain=1)\n",
    "geo.SetMaterial(1, \"medium\")\n",
    "mesh = Mesh(geo.GenerateMesh(maxh=0.02))\n",
    "mesh.Curve(3)\n",
    "Draw(mesh)\n",
    "\n",
    "fes = H1(mesh, order=5, complex=True, dirichlet=\"interface\")\n",
    "n = { \"medium\" : 1, \"dot\" : 3 }\n",
    "cfn = CoefficientFunction( [n[mat] for mat in mesh.GetMaterials()] )\n",
    "\n",
    "source = 80*exp(-20**2*(y-0.5)*(y-0.5))\n",
    "space = ReducedBasis(fes, source,cfn)"
   ]
  },
  {
   "cell_type": "code",
   "execution_count": 17,
   "metadata": {},
   "outputs": [
    {
     "name": "stdout",
     "output_type": "stream",
     "text": [
      "set snapshots and reset basis\n",
      "compute Reduced Basis\n",
      "Calculate QR_Decomposition\n",
      "QR-calculation Time:  21.10588049888611 s\n",
      "finished computing Reduced Basis\n",
      "omega: 502.15316844427724, norm of solution: (1.3138223854094102e-08+1.5933616074490894e-27j)\n"
     ]
    },
    {
     "data": {
      "application/vnd.jupyter.widget-view+json": {
       "model_id": "12b25af45e9348fc99f31761c6f7a980",
       "version_major": 2,
       "version_minor": 0
      },
      "text/plain": [
       "NGSWebGuiWidget(value={'ngsolve_version': '6.2.2006-98-ge712f407', 'mesh_dim': 2, 'order2d': 2, 'order3d': 2, …"
      ]
     },
     "metadata": {},
     "output_type": "display_data"
    },
    {
     "data": {
      "application/vnd.jupyter.widget-view+json": {
       "model_id": "df5709894b0b47109939a6666e3b61ee",
       "version_major": 2,
       "version_minor": 0
      },
      "text/plain": [
       "interactive(children=(FloatSlider(value=30.0, description='alpha', max=70.0, min=30.0, step=1.0), Output()), _…"
      ]
     },
     "metadata": {},
     "output_type": "display_data"
    },
    {
     "data": {
      "text/plain": [
       "<function __main__.<lambda>(alpha)>"
      ]
     },
     "execution_count": 17,
     "metadata": {},
     "output_type": "execute_result"
    }
   ],
   "source": [
    "space.setSnapshots(snapshots)\n",
    "slider_func1 = lambda alpha: space.draw((2*pi*s)/(np.sin(np.radians(alpha))),redraw=True)\n",
    "space.draw(space.omega_max,minval = -0.00007,maxval = 0.00007,autoscale = False)\n",
    "interact(slider_func1, alpha=widgets.FloatSlider(min=alpha1, max=alpha2, step=1, value=alpha1))"
   ]
  },
  {
   "cell_type": "code",
   "execution_count": null,
   "metadata": {},
   "outputs": [],
   "source": [
    "random_omegas = np.sort(np.append(np.random.uniform(space.omega_min, space.omega_max, 100), snapshots))\n",
    "%matplotlib notebook\n",
    "import matplotlib.pyplot as plt\n",
    "\n",
    "space.logging = False\n",
    "\n",
    "norm_random_omegas, residual_random_omegas = space.computeValues(random_omegas, cheap = False)\n",
    "\n",
    "print(\" average residual: {} \\n amount of snapshots: {}\".format(np.mean(residual_random_omegas), len(space.getSnapshots())))\n",
    "\n",
    "fig, ax = plt.subplots()\n",
    "ax.plot(random_omegas, norm_random_omegas,  '-', label = \"norm\")\n",
    "ax.set_xlabel(\"omega\")\n",
    "ax.set_ylabel(\"norm of solution\")\n",
    "ax.set_title(\"norm of solution in reduced space\")\n",
    "plt.semilogy()\n",
    "plt.savefig(\"norm of solution in reduced space {} {}\".format(mode,maxind))\n",
    "\n",
    "fig, ax = plt.subplots()         \n",
    "ax.plot(random_omegas, residual_random_omegas , '-',label = \"average residual: {}\".format(np.mean(residual_random_omegas)))\n",
    "sn_residual = space.computeValues(space.getSnapshots(), norm= False, cheap = False)\n",
    "ax.plot(space.getSnapshots(), sn_residual, 'r.', label = \"snapshot parameters\")\n",
    "ax.legend()\n",
    "ax.set_xlabel(\"omega\")\n",
    "ax.set_ylabel('residual of solution')\n",
    "ax.set_title(\"residual in reduced space\")\n",
    "plt.semilogy()\n",
    "plt.savefig(\"residual in reduced space {} {}\".format(mode,maxind))"
   ]
  },
  {
   "cell_type": "code",
   "execution_count": null,
   "metadata": {},
   "outputs": [],
   "source": []
  },
  {
   "cell_type": "code",
   "execution_count": null,
   "metadata": {},
   "outputs": [],
   "source": []
  }
 ],
 "metadata": {
  "kernelspec": {
   "display_name": "Python 3.7.5 64-bit",
   "language": "python",
   "name": "python37564bitb5f188b5fd4549769c9ea1e1a366fa0d"
  },
  "language_info": {
   "codemirror_mode": {
    "name": "ipython",
    "version": 3
   },
   "file_extension": ".py",
   "mimetype": "text/x-python",
   "name": "python",
   "nbconvert_exporter": "python",
   "pygments_lexer": "ipython3",
   "version": "3.7.5"
  }
 },
 "nbformat": 4,
 "nbformat_minor": 4
}
